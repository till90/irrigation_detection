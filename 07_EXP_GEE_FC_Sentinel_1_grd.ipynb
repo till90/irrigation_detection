{
 "cells": [
  {
   "cell_type": "markdown",
   "metadata": {},
   "source": [
    "# Sentinel 1 GRD Time Series for single location"
   ]
  },
  {
   "cell_type": "code",
   "execution_count": null,
   "metadata": {
    "ExecuteTime": {
     "end_time": "2022-01-25T20:23:14.982681Z",
     "start_time": "2022-01-25T20:23:14.967054Z"
    }
   },
   "outputs": [],
   "source": [
    "from irrigation_detection import get_s1_ts\n",
    "from irrigation_detection import get_s2_ts"
   ]
  },
  {
   "cell_type": "code",
   "execution_count": null,
   "metadata": {
    "ExecuteTime": {
     "end_time": "2022-01-25T12:06:11.518767Z",
     "start_time": "2022-01-25T12:05:40.506141Z"
    }
   },
   "outputs": [],
   "source": [
    "gdf_s1 = get_s1_ts(\n",
    "    lon = 6.32355, \n",
    "    lat = 50.9892, \n",
    "    ismn_idx = 1960, \n",
    "    start = '2015-01-01', \n",
    "    end = '2021-12-31', \n",
    "    pol = 'VV', \n",
    "    mode = 'IW', \n",
    "    res = 10, \n",
    "    red = 'mean',\n",
    "    scale = 10,\n",
    "    crs = 'EPSG:4326'\n",
    ")"
   ]
  },
  {
   "cell_type": "code",
   "execution_count": null,
   "metadata": {
    "ExecuteTime": {
     "end_time": "2022-01-25T20:23:25.253110Z",
     "start_time": "2022-01-25T20:23:16.100506Z"
    }
   },
   "outputs": [],
   "source": [
    "gdf_s2 = get_s2_ts(\n",
    "    lon = 6.32355, \n",
    "    lat = 50.9892, \n",
    "    ismn_idx = 1960, \n",
    "    start = '2015-01-01', \n",
    "    end = '2021-12-31', \n",
    "    red = 'mean',\n",
    "    scale = 10,\n",
    "    crs = 'EPSG:4326'\n",
    ")"
   ]
  },
  {
   "cell_type": "code",
   "execution_count": null,
   "metadata": {
    "ExecuteTime": {
     "end_time": "2022-01-25T20:23:27.426509Z",
     "start_time": "2022-01-25T20:23:27.388726Z"
    }
   },
   "outputs": [],
   "source": [
    "gdf_s2"
   ]
  },
  {
   "cell_type": "markdown",
   "metadata": {},
   "source": [
    "## Import Modules"
   ]
  },
  {
   "cell_type": "code",
   "execution_count": null,
   "metadata": {
    "ExecuteTime": {
     "end_time": "2022-01-25T18:13:34.597453Z",
     "start_time": "2022-01-25T18:13:32.138236Z"
    }
   },
   "outputs": [],
   "source": [
    "import ee\n",
    "import geopandas as gpd\n",
    "from shapely.geometry import Point\n",
    "from datetime import datetime\n",
    "import numpy as np"
   ]
  },
  {
   "cell_type": "markdown",
   "metadata": {},
   "source": [
    "## Authorize GEE"
   ]
  },
  {
   "cell_type": "code",
   "execution_count": null,
   "metadata": {
    "ExecuteTime": {
     "end_time": "2022-01-25T08:40:40.547349Z",
     "start_time": "2022-01-25T08:40:27.277728Z"
    }
   },
   "outputs": [],
   "source": [
    "# Trigger the authentication flow.\n",
    "ee.Authenticate()\n",
    "# Initialize the library.\n",
    "ee.Initialize()"
   ]
  },
  {
   "cell_type": "markdown",
   "metadata": {},
   "source": [
    "## Point of Interest"
   ]
  },
  {
   "cell_type": "code",
   "execution_count": null,
   "metadata": {
    "ExecuteTime": {
     "end_time": "2022-01-25T18:40:50.970315Z",
     "start_time": "2022-01-25T18:40:50.954333Z"
    }
   },
   "outputs": [],
   "source": [
    "# Create Point Geometry (longitude/latitude)\n",
    "lon = 6.32355\n",
    "lat = 50.9892\n",
    "ismn_idx = 1960\n",
    "poi = ee.Geometry.Point([lon, lat])\n",
    "poi_fc = ee.FeatureCollection(poi)"
   ]
  },
  {
   "cell_type": "markdown",
   "metadata": {},
   "source": [
    "## Sentinel 1 Collection"
   ]
  },
  {
   "cell_type": "code",
   "execution_count": null,
   "metadata": {
    "ExecuteTime": {
     "end_time": "2022-01-25T10:31:06.886111Z",
     "start_time": "2022-01-25T10:31:06.870100Z"
    }
   },
   "outputs": [],
   "source": [
    "# Sentinel 1 GRD Image Collection\n",
    "sentinel1 = ee.ImageCollection('COPERNICUS/S1_GRD').filterBounds(poi_fc)"
   ]
  },
  {
   "cell_type": "markdown",
   "metadata": {},
   "source": [
    "### Filter Sentinel 1 Collection"
   ]
  },
  {
   "cell_type": "code",
   "execution_count": null,
   "metadata": {
    "ExecuteTime": {
     "end_time": "2022-01-25T10:31:07.684050Z",
     "start_time": "2022-01-25T10:31:07.680054Z"
    }
   },
   "outputs": [],
   "source": [
    "# Filter by date\n",
    "start = '2015-01-01'\n",
    "end = '2021-12-31'\n",
    "sentinel1 = sentinel1.filterDate(start, end)"
   ]
  },
  {
   "cell_type": "code",
   "execution_count": null,
   "metadata": {
    "ExecuteTime": {
     "end_time": "2022-01-25T10:31:08.893922Z",
     "start_time": "2022-01-25T10:31:08.877910Z"
    }
   },
   "outputs": [],
   "source": [
    "# Filter by metadata properties\n",
    "\n",
    "# Filter by VV Polarization\n",
    "sentinel1 = sentinel1.filter(ee.Filter.listContains('transmitterReceiverPolarisation', 'VV'))\n",
    "# Filter to get images collected in interferometric wide swath mode\n",
    "sentinel1 = sentinel1.filter(ee.Filter.eq('instrumentMode', 'IW'))\n",
    "# Filter to get High Resolution (10 m)\n",
    "sentinel1 = sentinel1.filter(ee.Filter.eq('resolution_meters', 10))"
   ]
  },
  {
   "cell_type": "markdown",
   "metadata": {},
   "source": [
    "## Apply reducer "
   ]
  },
  {
   "cell_type": "code",
   "execution_count": null,
   "metadata": {
    "ExecuteTime": {
     "end_time": "2022-01-25T10:31:40.671465Z",
     "start_time": "2022-01-25T10:31:10.190701Z"
    }
   },
   "outputs": [],
   "source": [
    "stats = sentinel1.map(lambda x: x.reduceRegions(\n",
    "  reducer = 'mean',\n",
    "  collection = poi_fc,\n",
    "  scale = 10,  \n",
    "  crs = 'EPSG:4326'\n",
    ")).flatten().getInfo()"
   ]
  },
  {
   "cell_type": "code",
   "execution_count": null,
   "metadata": {
    "ExecuteTime": {
     "end_time": "2022-01-25T10:32:10.712717Z",
     "start_time": "2022-01-25T10:31:40.748696Z"
    }
   },
   "outputs": [],
   "source": [
    "orbit = sentinel1.aggregate_array('orbitProperties_pass').getInfo()\n",
    "platform = sentinel1.aggregate_array('platform_number').getInfo()\n",
    "img_id = [x['id'] for x in stats['features']]\n",
    "ismn_id = [ismn_idx] * sentinel1.size().getInfo()\n",
    "date = [datetime.strptime(x['id'].split('_')[4][:15], '%Y%m%dT%H%M%S') for x in stats['features']]\n",
    "geometry = [Point(x['geometry']['coordinates']) for x in stats['features']]\n",
    "VH = [x['properties']['VH'] for x in stats['features']]\n",
    "VV = [x['properties']['VV'] for x in stats['features']]\n",
    "angle = [x['properties']['angle'] for x in stats['features']]"
   ]
  },
  {
   "cell_type": "code",
   "execution_count": null,
   "metadata": {
    "ExecuteTime": {
     "end_time": "2022-01-25T10:32:10.829281Z",
     "start_time": "2022-01-25T10:32:10.764148Z"
    }
   },
   "outputs": [],
   "source": [
    "gdf = gpd.GeoDataFrame({'ismn_id' : ismn_id, 'date' : date, 'platform': platform, 'orbit' : orbit, 'VV' : VV, 'VH' : VH, 'angle': angle, 'geometry' : geometry, 'img_id' : img_id})"
   ]
  },
  {
   "cell_type": "markdown",
   "metadata": {},
   "source": [
    "## Sentinel 2"
   ]
  },
  {
   "cell_type": "code",
   "execution_count": null,
   "metadata": {},
   "outputs": [],
   "source": [
    "def get"
   ]
  },
  {
   "cell_type": "code",
   "execution_count": null,
   "metadata": {
    "ExecuteTime": {
     "end_time": "2022-01-25T20:14:28.883583Z",
     "start_time": "2022-01-25T20:14:26.841626Z"
    }
   },
   "outputs": [],
   "source": [
    "import ee\n",
    "from datetime import datetime\n",
    "from shapely.geometry import Point\n",
    "import geopandas as gpd\n",
    "import pandas as pd\n",
    "try:\n",
    "    ee.Initialize()\n",
    "except:\n",
    "    ee.Authenticate()\n",
    "    ee.Initialize()"
   ]
  },
  {
   "cell_type": "code",
   "execution_count": null,
   "metadata": {
    "ExecuteTime": {
     "end_time": "2022-01-25T19:27:41.935248Z",
     "start_time": "2022-01-25T19:27:41.919767Z"
    }
   },
   "outputs": [],
   "source": [
    "start = '2015-01-01'\n",
    "end = '2015-12-31'\n",
    "sentinel2 = ee.ImageCollection('COPERNICUS/S2').filterBounds(poi_fc)\n",
    "sentinel2 = sentinel2.filterDate(start,end)"
   ]
  },
  {
   "cell_type": "markdown",
   "metadata": {},
   "source": [
    "## Mask Clouds"
   ]
  },
  {
   "cell_type": "code",
   "execution_count": null,
   "metadata": {
    "ExecuteTime": {
     "end_time": "2022-01-25T18:47:37.169661Z",
     "start_time": "2022-01-25T18:47:37.154258Z"
    }
   },
   "outputs": [],
   "source": [
    "def maskS2clouds(image):\n",
    "    qa = image.select('QA60')\n",
    "    # Bits 10 and 11 are clouds and cirrus, respectively\n",
    "    cloudBitMask = 1 << 10\n",
    "    cirrusBitMask = 1 << 11\n",
    "    # Set both to zero to have clear conditions\n",
    "    mask = qa.bitwiseAnd(cloudBitMask).eq(0).And(qa.bitwiseAnd(cirrusBitMask).eq(0))\n",
    "    # update image by masking pixel with cloud or cirrus and copy properties\n",
    "    return image.updateMask(mask).divide(10000).copyProperties(source=image)"
   ]
  },
  {
   "cell_type": "code",
   "execution_count": null,
   "metadata": {
    "ExecuteTime": {
     "end_time": "2022-01-25T19:27:44.442272Z",
     "start_time": "2022-01-25T19:27:44.426650Z"
    }
   },
   "outputs": [],
   "source": [
    "sentinel2 = sentinel2.map(maskS2clouds)"
   ]
  },
  {
   "cell_type": "markdown",
   "metadata": {},
   "source": [
    "## Apply reducer"
   ]
  },
  {
   "cell_type": "code",
   "execution_count": null,
   "metadata": {
    "ExecuteTime": {
     "end_time": "2022-01-25T19:27:46.528351Z",
     "start_time": "2022-01-25T19:27:45.158556Z"
    }
   },
   "outputs": [],
   "source": [
    "ts = sentinel2.map(lambda x: x.reduceRegions(\n",
    "  reducer = 'mean',\n",
    "  collection = poi_fc,\n",
    "  scale = 10,  \n",
    "  crs = 'EPSG:4326'\n",
    ")).flatten().getInfo()"
   ]
  },
  {
   "cell_type": "code",
   "execution_count": null,
   "metadata": {
    "ExecuteTime": {
     "end_time": "2022-01-25T19:27:46.681791Z",
     "start_time": "2022-01-25T19:27:46.659660Z"
    }
   },
   "outputs": [],
   "source": [
    "img_id = [x['id'] for x in ts['features']]\n",
    "ismn_id = [ismn_idx] * len(img_id)\n",
    "date = [datetime.strptime(x['id'][:15], '%Y%m%dT%H%M%S') for x in ts['features']]\n",
    "geometry = [Point(x['geometry']['coordinates']) for x in ts['features']]\n",
    "Aerosols = [x['properties']['B1'] for x in ts['features']]\n",
    "Blue = [x['properties']['B2'] for x in ts['features']]\n",
    "Green = [x['properties']['B3'] for x in ts['features']]\n",
    "Red = [x['properties']['B4'] for x in ts['features']]\n",
    "RedEdge1 = [x['properties']['B5'] for x in ts['features']]\n",
    "RedEdge2 = [x['properties']['B6'] for x in ts['features']]\n",
    "RedEdge3 = [x['properties']['B7'] for x in ts['features']]\n",
    "NIR = [x['properties']['B8'] for x in ts['features']]\n",
    "RedEdge4 = [x['properties']['B8A'] for x in ts['features']]\n",
    "WaterVapor = [x['properties']['B9'] for x in ts['features']]\n",
    "Cirrus = [x['properties']['B10'] for x in ts['features']]\n",
    "SWIR1 = [x['properties']['B11'] for x in ts['features']]\n",
    "SWIR2 = [x['properties']['B12'] for x in ts['features']]\n",
    "CloudMask = [x['properties']['QA60'] for x in ts['features']]"
   ]
  },
  {
   "cell_type": "code",
   "execution_count": null,
   "metadata": {
    "ExecuteTime": {
     "end_time": "2022-01-25T19:27:47.999371Z",
     "start_time": "2022-01-25T19:27:47.983948Z"
    }
   },
   "outputs": [],
   "source": [
    "gdf = gpd.GeoDataFrame({'ismn_id' : ismn_id, 'date' : date, 'Aerosols' : Aerosols ,'Blue' : Blue, 'Green' : Green, 'Red' : Red, 'RedEdge1' : RedEdge1, 'RedEdge2' : RedEdge2, 'RedEdge3' : RedEdge3, 'RedEdge4' : RedEdge4, 'NIR' : NIR, 'WaterVapor' : WaterVapor, 'Cirrus' : Cirrus, 'SWIR1' : SWIR1, 'SWIR2' : SWIR2, 'CloudMask' : CloudMask, 'geometry' : geometry})"
   ]
  },
  {
   "cell_type": "markdown",
   "metadata": {},
   "source": [
    "## tide up "
   ]
  },
  {
   "cell_type": "code",
   "execution_count": null,
   "metadata": {
    "ExecuteTime": {
     "end_time": "2022-01-25T20:04:25.966747Z",
     "start_time": "2022-01-25T20:04:25.958758Z"
    }
   },
   "outputs": [],
   "source": [
    "import pandas as pd"
   ]
  },
  {
   "cell_type": "code",
   "execution_count": null,
   "metadata": {
    "ExecuteTime": {
     "end_time": "2022-01-25T20:10:46.309914Z",
     "start_time": "2022-01-25T20:10:46.293966Z"
    }
   },
   "outputs": [],
   "source": [
    "gdf = gdf.groupby(pd.Grouper(key='date',freq='d')).mean().dropna().reset_index()"
   ]
  },
  {
   "cell_type": "markdown",
   "metadata": {},
   "source": [
    "## Add indizes"
   ]
  },
  {
   "cell_type": "code",
   "execution_count": null,
   "metadata": {
    "ExecuteTime": {
     "end_time": "2022-01-25T20:12:33.251055Z",
     "start_time": "2022-01-25T20:12:33.231082Z"
    }
   },
   "outputs": [],
   "source": [
    "gdf['NDVI'] = (gdf['NIR'] - gdf['Red']) / (gdf['NIR'] + gdf['Red'])\n",
    "gdf"
   ]
  },
  {
   "cell_type": "markdown",
   "metadata": {},
   "source": [
    "# Earth Engine data"
   ]
  },
  {
   "cell_type": "code",
   "execution_count": null,
   "metadata": {
    "ExecuteTime": {
     "end_time": "2021-12-03T18:44:56.150442Z",
     "start_time": "2021-12-03T18:44:42.753015Z"
    }
   },
   "outputs": [],
   "source": [
    "from irrigation_detection import get_s1_grd_mean\n",
    "import ee\n",
    "# Trigger the authentication flow.\n",
    "ee.Authenticate()\n",
    "# Initialize the library.\n",
    "ee.Initialize()"
   ]
  },
  {
   "cell_type": "code",
   "execution_count": null,
   "metadata": {
    "ExecuteTime": {
     "end_time": "2021-11-30T20:53:52.319155Z",
     "start_time": "2021-11-30T20:53:23.663603Z"
    }
   },
   "outputs": [],
   "source": [
    "#Get Mean vv for featureCollection saved as local gejson file, mask out ndvi values higher than 0.6, find corresponding s2 image +- days\n",
    "path = 'C://Users/USER/Desktop/Master_Irrigation/03_GIS/idm_test/whr_test_field.geojson'\n",
    "get_s1_grd_mean(path,'2016-02-01','2021-10-31','whr_test_field', 'yes', 30)"
   ]
  },
  {
   "cell_type": "code",
   "execution_count": null,
   "metadata": {
    "ExecuteTime": {
     "end_time": "2021-12-11T21:46:11.099471Z",
     "start_time": "2021-12-11T21:46:11.087467Z"
    }
   },
   "outputs": [],
   "source": [
    "def s1_construct_gdf(p_geojson):\n",
    "    \"\"\"\n",
    "    Arguments: Load FeatureCollection into GeoDataFrame and label data according to filename\n",
    "    \"\"\"\n",
    "    #import modules\n",
    "    import geopandas as gpd\n",
    "    import numpy as np\n",
    "    import pandas as pd\n",
    "    from datetime import datetime\n",
    "    \n",
    "    gdf = gpd.read_file(p_geojson)\n",
    "    gdf['patch'] = [x[-1] for x in gdf.id]\n",
    "    gdf['sentinel'] = [x[2] for x in gdf.id]\n",
    "    gdf['date'] = [datetime.strptime(x.split('_')[4][:15], '%Y%m%dT%H%M%S') for x in gdf.id]\n",
    "    gdf['orbit'] = ['ascending' if x.hour > 10 else 'descending' for x in gdf.date]\n",
    "    gdf['identifier'] = [x[-6:-2] for x in gdf.id]\n",
    "    gdf.to_file(p_geojson)\n",
    "    return gdf.iloc[:,1:]"
   ]
  },
  {
   "cell_type": "code",
   "execution_count": null,
   "metadata": {
    "ExecuteTime": {
     "end_time": "2021-12-11T21:46:29.471784Z",
     "start_time": "2021-12-11T21:46:29.463754Z"
    }
   },
   "outputs": [],
   "source": [
    "path_plot = 'C://Users/USER/Desktop/Master_Irrigation/03_GIS/gg_test_field/plot/gg_test_field_1_plot.geojson'\n",
    "path_grid = 'C://Users/USER/Desktop/Master_Irrigation/03_GIS/gg_test_field/grid/gg_test_field_1_grid.geojson'"
   ]
  },
  {
   "cell_type": "code",
   "execution_count": null,
   "metadata": {
    "ExecuteTime": {
     "end_time": "2021-12-11T21:46:33.878588Z",
     "start_time": "2021-12-11T21:46:31.582960Z"
    }
   },
   "outputs": [],
   "source": [
    "gdf_p = s1_construct_gdf(path_plot)\n",
    "gdf_g = s1_construct_gdf(path_grid)"
   ]
  },
  {
   "cell_type": "code",
   "execution_count": null,
   "metadata": {
    "ExecuteTime": {
     "end_time": "2021-12-11T21:46:40.367345Z",
     "start_time": "2021-12-11T21:46:40.359342Z"
    }
   },
   "outputs": [],
   "source": [
    "# Count how many nans are presented in data.\n",
    "np.count_nonzero(gdf_g.VV.isna()), np.count_nonzero(gdf_p.VV.isna())"
   ]
  },
  {
   "cell_type": "code",
   "execution_count": null,
   "metadata": {
    "ExecuteTime": {
     "end_time": "2021-11-16T11:54:57.382351Z",
     "start_time": "2021-11-16T11:54:57.367472Z"
    }
   },
   "outputs": [],
   "source": [
    "#create poi for irrigated field at 2020-04-26\n",
    "from shapely.geometry import Point\n",
    "poi = Point(8.462525010108948, 49.84003060414562)"
   ]
  },
  {
   "cell_type": "code",
   "execution_count": null,
   "metadata": {
    "ExecuteTime": {
     "end_time": "2021-11-16T12:30:04.627710Z",
     "start_time": "2021-11-16T12:30:04.595387Z"
    }
   },
   "outputs": [],
   "source": [
    "# isolate field within point\n",
    "field01 = gdf[gdf.contains(poi)]\n",
    "field01"
   ]
  },
  {
   "cell_type": "markdown",
   "metadata": {},
   "source": [
    "## Pixel Feature Time Series extraction"
   ]
  },
  {
   "cell_type": "code",
   "execution_count": null,
   "metadata": {
    "ExecuteTime": {
     "end_time": "2021-12-26T16:28:00.346905Z",
     "start_time": "2021-12-26T16:27:56.888455Z"
    }
   },
   "outputs": [],
   "source": [
    "import os\n",
    "import ee\n",
    "import geemap\n",
    "import geojson\n",
    "import time\n",
    "Map = geemap.Map()\n",
    "Map"
   ]
  },
  {
   "cell_type": "code",
   "execution_count": null,
   "metadata": {
    "ExecuteTime": {
     "end_time": "2021-12-26T16:28:00.644826Z",
     "start_time": "2021-12-26T16:28:00.395784Z"
    }
   },
   "outputs": [],
   "source": [
    "# Path to Coords exportet with Ground_Trouth_data notebook\n",
    "path_coords = 'C://Users/USER/Desktop/Master_Irrigation/03_GIS/ground_trouth/ismn_archieve/coords.geojson'\n",
    "\n",
    "# Load as geojson file\n",
    "with open(path_coords) as f:\n",
    "    gj = geojson.load(f)\n",
    "\n",
    "workaround = ee.FeatureCollection({\"type\": \"FeatureCollection\", \"features\": [{\"id\": \"0\", \"type\": \"Feature\", \"properties\": {}, \"geometry\": {\"type\": \"Point\", \"coordinates\": [12.3524, 43.11697]}}, {\"id\": \"1\", \"type\": \"Feature\", \"properties\": {}, \"geometry\": {\"type\": \"Point\", \"coordinates\": [12.3524, 43.11697]}}, {\"id\": \"2\", \"type\": \"Feature\", \"properties\": {}, \"geometry\": {\"type\": \"Point\", \"coordinates\": [12.35196, 43.11722]}}, {\"id\": \"3\", \"type\": \"Feature\", \"properties\": {}, \"geometry\": {\"type\": \"Point\", \"coordinates\": [12.35196, 43.11722]}}, {\"id\": \"4\", \"type\": \"Feature\", \"properties\": {}, \"geometry\": {\"type\": \"Point\", \"coordinates\": [4.34483, 44.222]}}, {\"id\": \"5\", \"type\": \"Feature\", \"properties\": {}, \"geometry\": {\"type\": \"Point\", \"coordinates\": [4.34483, 44.222]}}, {\"id\": \"6\", \"type\": \"Feature\", \"properties\": {}, \"geometry\": {\"type\": \"Point\", \"coordinates\": [4.34483, 44.222]}}, {\"id\": \"7\", \"type\": \"Feature\", \"properties\": {}, \"geometry\": {\"type\": \"Point\", \"coordinates\": [4.34483, 44.222]}}, {\"id\": \"8\", \"type\": \"Feature\", \"properties\": {}, \"geometry\": {\"type\": \"Point\", \"coordinates\": [4.34483, 44.222]}}, {\"id\": \"9\", \"type\": \"Feature\", \"properties\": {}, \"geometry\": {\"type\": \"Point\", \"coordinates\": [4.34483, 44.222]}}, {\"id\": \"10\", \"type\": \"Feature\", \"properties\": {}, \"geometry\": {\"type\": \"Point\", \"coordinates\": [2.9567, 43.15]}}, {\"id\": \"11\", \"type\": \"Feature\", \"properties\": {}, \"geometry\": {\"type\": \"Point\", \"coordinates\": [2.9567, 43.15]}}, {\"id\": \"12\", \"type\": \"Feature\", \"properties\": {}, \"geometry\": {\"type\": \"Point\", \"coordinates\": [2.9567, 43.15]}}, {\"id\": \"13\", \"type\": \"Feature\", \"properties\": {}, \"geometry\": {\"type\": \"Point\", \"coordinates\": [2.9567, 43.15]}}]})\n",
    "# Convert to ee.FeatureCollection\n",
    "#geometry = ee.Geometry.MultiPoint(gj.get('coordinates'))\n",
    "#fc = ee.FeatureCollection(gj)\n",
    "# Add to map\n",
    "Map.addLayer(workaround, name=\"ismn stations\")"
   ]
  },
  {
   "cell_type": "code",
   "execution_count": null,
   "metadata": {
    "ExecuteTime": {
     "end_time": "2021-12-26T16:33:02.688108Z",
     "start_time": "2021-12-26T16:33:02.668965Z"
    }
   },
   "outputs": [],
   "source": [
    "ic_s1 = ee.ImageCollection('COPERNICUS/S1_GRD').filterDate(ee.Date('2015-1-1'), ee.Date('2021-10-01')).filter(ee.Filter.listContains('transmitterReceiverPolarisation', 'VV'))\n",
    "fc_s1 = ic_s1.map(lambda x: x.reduceRegions(collection=workaround, reducer=ee.Reducer.first(), scale=10))"
   ]
  },
  {
   "cell_type": "code",
   "execution_count": null,
   "metadata": {
    "ExecuteTime": {
     "end_time": "2021-12-26T20:29:32.337691Z",
     "start_time": "2021-12-26T16:33:11.677861Z"
    }
   },
   "outputs": [],
   "source": [
    "# Export the FeatureCollection to a KML file.\n",
    "task1 = ee.batch.Export.table.toDrive(collection = fc_s1.flatten(),description='vectorsToDrive',folder='idm_gee_export', fileFormat= 'GeoJSON', fileNamePrefix='ismn_s1_data')\n",
    "task1.start()\n",
    "\n",
    "while task1.active():\n",
    "    print('Polling for task (id: {}).'.format(task1.id))\n",
    "    time.sleep(15)"
   ]
  },
  {
   "cell_type": "code",
   "execution_count": null,
   "metadata": {
    "ExecuteTime": {
     "end_time": "2021-12-26T21:27:21.994858Z",
     "start_time": "2021-12-26T21:07:43.225800Z"
    }
   },
   "outputs": [],
   "source": [
    "import geopandas as gpd\n",
    "gpd = gpd.read_file(r'C:\\Users\\USER\\Desktop\\Master_Irrigation\\03_GIS\\ground_trouth\\ismn_fc_gee_VV.geojson')"
   ]
  },
  {
   "cell_type": "code",
   "execution_count": null,
   "metadata": {
    "ExecuteTime": {
     "end_time": "2021-12-26T21:35:57.772731Z",
     "start_time": "2021-12-26T21:35:57.721066Z"
    }
   },
   "outputs": [],
   "source": [
    "#delete all rows with nan values\n",
    "modified = gpd[~gpd.VV.isna()]"
   ]
  },
  {
   "cell_type": "code",
   "execution_count": null,
   "metadata": {
    "ExecuteTime": {
     "end_time": "2021-12-26T21:38:35.241549Z",
     "start_time": "2021-12-26T21:38:33.040678Z"
    }
   },
   "outputs": [],
   "source": [
    "# save geodataframe as geojson\n",
    "modified.to_file(r'C:\\Users\\USER\\Desktop\\Master_Irrigation\\03_GIS\\ground_trouth\\ismn_fc_gee_VV_na_clear.geojson', driver=\"GeoJSON\")"
   ]
  },
  {
   "cell_type": "markdown",
   "metadata": {},
   "source": [
    "https://spatialthoughts.com/2020/04/13/extracting-time-series-ee/"
   ]
  },
  {
   "cell_type": "markdown",
   "metadata": {},
   "source": [
    "## swi map exports "
   ]
  },
  {
   "cell_type": "code",
   "execution_count": null,
   "metadata": {},
   "outputs": [],
   "source": [
    "def get_s1_grd_mean(path, start, end, outname, with_ndvi, dateoffset):\n",
    "    \"\"\"\n",
    "    Save a gejson to drive \n",
    "    Arguments: path to gejson featurecollection, start date, end date, outname, with_ndvi 'yes' or 'no', dateoffset (int) while finding correspnding ndvi values to s1 images\n",
    "    \"\"\"\n",
    "    # Import modules.\n",
    "    import ee\n",
    "\n",
    "    try:\n",
    "        # Initialize the library.\n",
    "        ee.Initialize()\n",
    "    except:\n",
    "        # Trigger the authentication flow.\n",
    "        ee.Authenticate()\n",
    "        # Initialize the library.\n",
    "        ee.Initialize()\n",
    "    import geojson\n",
    "    import geopandas as gpd\n",
    "    import pandas as pd\n",
    "    from glob import glob\n",
    "    import os\n",
    "    from datetime import datetime, timedelta\n",
    "    import geemap.eefolium as geemap\n",
    "    from tqdm import tqdm\n",
    "    import geemap\n",
    "    import time\n",
    "    \n",
    "    # Functions.\n",
    "    # Calculate coverage in km²\n",
    "    def get_area(image):\n",
    "        # Count the non zero/null pixels in the image within the aoi\n",
    "        actPixels = ee.Number(image.select('VV').reduceRegion(reducer= ee.Reducer.count(),scale= 10,geometry= fc_aoi.union().geometry(), maxPixels= 999999999).values().get(0))\n",
    "        # calculate the perc of cover\n",
    "        pcPix = actPixels.multiply(100).divide(1000000)\n",
    "        return image.set('area', pcPix)\n",
    "    \n",
    "    #NDVI\n",
    "    def add_ndvi(image):\n",
    "        \"\"\"\n",
    "        Arguments: \n",
    "        \"\"\"\n",
    "        def maskS2clouds(image):\n",
    "            qa = image.select('QA60')\n",
    "            #Bits 10 and 11 are clouds and cirrus, respectively.\n",
    "            cloudBitMask = 1 << 10\n",
    "            cirrusBitMask = 1 << 11\n",
    "            #Both flags should be set to zero, indicating clear conditions.\n",
    "            mask = qa.bitwiseAnd(cloudBitMask).eq(0).And(qa.bitwiseAnd(cirrusBitMask).eq(0))\n",
    "            return image.updateMask(mask).divide(10000)\n",
    "\n",
    "        def NDVI(image):\n",
    "            ndvi = image.normalizedDifference(['nir','red']).rename('NDVI') #(first − second) / (first + second)\n",
    "            return image.addBands(ndvi)\n",
    "        \n",
    "        # Sentinel 2 image collection with corresponding named bands\n",
    "        bandNamesOut_s2 = ['Aerosols','blue','green','red','red edge 1','red edge 2','red edge 3','nir','red edge 4','water vapor','cirrus','swir1','swir2','QA60']\n",
    "        bandNamesS2 = ['B1','B2','B3','B4','B5','B6','B7','B8','B8A','B9','B10','B11','B12','QA60']\n",
    "        s2_1c = ee.ImageCollection('COPERNICUS/S2').select(bandNamesS2,bandNamesOut_s2)\n",
    "        s2_1c = s2_1c.filterDate(ee.Date(image.date().advance(-dateoffset,'days')), ee.Date(image.date().advance(+dateoffset,'days'))).filterBounds(image.geometry()).map(maskS2clouds).map(NDVI)\n",
    "        ndvi = ee.Image(s2_1c.qualityMosaic('NDVI').select('NDVI'))\n",
    "\n",
    "        return image.addBands(ndvi)\n",
    "    \n",
    "    def mask_by_ndvi(image):\n",
    "        mask = image.select('NDVI').lte(0.6)\n",
    "        return image.updateMask(mask)\n",
    "    \n",
    "    def mask_by_landcover(image):\n",
    "        image = image.select('Map')\n",
    "        mask = image.eq(40).Or(image.eq(30))\n",
    "        return image.updateMask(mask)\n",
    "    \n",
    "    def compute_swi(image):\n",
    "        #5th and 95th percentile represting dry and wet state\n",
    "        vvdry = image.select('VV').quantile(0.05, 'linear')\n",
    "        vvwet = df.VV.quantile(0.95, 'linear')\n",
    "        vv0 = row.VV\n",
    "        swi.append(((vv0 - vvdry) / (vvwet - vvdry)) * 100)\n",
    "\n",
    "        return swi\n",
    "    \n",
    "    # Paths to initial polygon(s) and outdir for ts data.\n",
    "    p_i = path\n",
    "    p_o = os.path.dirname(path) + '/ts_data/'\n",
    "    \n",
    "    # create folder in local space when not already there.\n",
    "    if not os.path.exists(p_o):\n",
    "        os.makedirs(p_o)\n",
    "        \n",
    "    # Load aoi features from file.\n",
    "    with open(p_i) as f:\n",
    "        data = geojson.load(f)\n",
    "\n",
    "    # Create GEE FeatureCollection from geojson file.\n",
    "    fc_aoi = ee.FeatureCollection(data)\n",
    "    area = fc_aoi.geometry().area().getInfo()\n",
    "    \n",
    "    # Sentinel 1 GRD image collection their dates and coverage over aoi\n",
    "    ic_s1 = ee.ImageCollection('COPERNICUS/S1_GRD').filterBounds(fc_aoi).filterDate(ee.Date(start), ee.Date(end)).filter(ee.Filter.listContains('transmitterReceiverPolarisation', 'VV'))\n",
    "\n",
    "    s1_dates = [datetime(1970, 1, 1) + timedelta(milliseconds=x) for x in ic_s1.aggregate_array(\"system:time_start\").getInfo()]\n",
    "    s1_dates = [x.strftime(\"%Y-%m-%dT%H:%M:%S.%fZ\") for x in s1_dates]    \n",
    "    s1_coverd = ic_s1.map(get_area).aggregate_array('area').getInfo()\n",
    "      \n",
    "    # Drop low coverage by metadata filter\n",
    "    s1_valid = [x for x,y in zip(s1_dates,s1_coverd) if y > area*0.25]\n",
    "    s1_valid_dates = ee.List(s1_valid).map(lambda x: ee.Date(x).millis())\n",
    "    #ic_s1 = ic_s1.filter(ee.Filter.inList(\"system:time_start\", s1_valid_dates))\n",
    "\n",
    "    print(ic_s1.size().getInfo(),'(%s)' %(len(s1_dates)), 'images between %s and %s' %(start,end), 'within %s km²' %(area/1000000),'\\n') #s1_plot.aggregate_array(\"system:time_start\").getInfo()\n",
    "\n",
    "    #Mask out area with invalid landcover class like build up areas\n",
    "    lc = ee.Image(ee.ImageCollection(\"ESA/WorldCover/v100\").first().clip(fc_aoi.union().geometry()).select('Map'))\n",
    "    ic_s1 = ic_s1.map(lambda x: x.addBands(lc))\n",
    "    ic_s1 = ic_s1.map(mask_by_landcover)\n",
    "\n",
    "    \n",
    "    if with_ndvi == 'yes':\n",
    "        # Add ndvi band\n",
    "        ic_s1 = ic_s1.map(add_ndvi)\n",
    "\n",
    "        # Mask areas with ndvi > 0.6\n",
    "        ic_s1 = ic_s1.map(mask_by_ndvi)\n",
    "        \n",
    "        # Map reducer function over imagecollection to get mean for multipolygon geometries\n",
    "        fc_s1 = ic_s1.map(lambda x: x.reduceRegions(collection=fc_aoi ,reducer='mean', crs='EPSG:4326',scale=10)).flatten()\n",
    "    else:\n",
    "        # Map reducer function over imagecollection to get mean for multipolygon geometries\n",
    "        fc_s1 = ic_s1.map(lambda x: x.reduceRegions(collection=fc_aoi ,reducer='mean', crs='EPSG:4326',scale=10)).flatten()\n",
    "\n",
    "    # Export the FeatureCollection to a KML file.\n",
    "    task1 = ee.batch.Export.table.toDrive(collection = fc_s1,description='vectorsToDrive',folder='idm_gee_export', fileFormat= 'GeoJSON', fileNamePrefix=outname)\n",
    "    task1.start()\n",
    "    \n",
    "    while task1.active():\n",
    "      print('Polling for task (id: {}).'.format(task1.id))\n",
    "      time.sleep(15)\n",
    "\n",
    "    return print(\"finished\")"
   ]
  },
  {
   "cell_type": "markdown",
   "metadata": {},
   "source": [
    "## extract data for plot and grid size "
   ]
  },
  {
   "cell_type": "code",
   "execution_count": null,
   "metadata": {
    "ExecuteTime": {
     "end_time": "2021-12-11T20:54:38.317099Z",
     "start_time": "2021-12-11T20:54:38.293100Z"
    }
   },
   "outputs": [],
   "source": [
    "def get_s1_grd_mean(path, start, end, outname, with_ndvi, dateoffset):\n",
    "    \"\"\"\n",
    "    Save a gejson to drive \n",
    "    Arguments: path to gejson featurecollection, start date, end date, outname, with_ndvi 'yes' or 'no', dateoffset (int) while finding correspnding ndvi values to s1 images\n",
    "    \"\"\"\n",
    "    # Import modules.\n",
    "    import ee\n",
    "\n",
    "    try:\n",
    "        # Initialize the library.\n",
    "        ee.Initialize()\n",
    "    except:\n",
    "        # Trigger the authentication flow.\n",
    "        ee.Authenticate()\n",
    "        # Initialize the library.\n",
    "        ee.Initialize()\n",
    "    import geojson\n",
    "    import geopandas as gpd\n",
    "    import pandas as pd\n",
    "    from glob import glob\n",
    "    import os\n",
    "    from datetime import datetime, timedelta\n",
    "    import geemap.eefolium as geemap\n",
    "    from tqdm import tqdm\n",
    "    import geemap\n",
    "    import time\n",
    "    \n",
    "    # Functions.\n",
    "    # Calculate coverage in km²\n",
    "    def get_area(image):\n",
    "        # Count the non zero/null pixels in the image within the aoi\n",
    "        actPixels = ee.Number(image.select('VV').reduceRegion(reducer= ee.Reducer.count(),scale= 10,geometry= fc_aoi.union().geometry(), maxPixels= 999999999).values().get(0))\n",
    "        # calculate the perc of cover\n",
    "        pcPix = actPixels.multiply(100).divide(1000000)\n",
    "        return image.set('area', pcPix)\n",
    "    \n",
    "    #NDVI\n",
    "    def add_ndvi(image):\n",
    "        \"\"\"\n",
    "        Arguments: \n",
    "        \"\"\"\n",
    "        def maskS2clouds(image):\n",
    "            qa = image.select('QA60')\n",
    "            #Bits 10 and 11 are clouds and cirrus, respectively.\n",
    "            cloudBitMask = 1 << 10\n",
    "            cirrusBitMask = 1 << 11\n",
    "            #Both flags should be set to zero, indicating clear conditions.\n",
    "            mask = qa.bitwiseAnd(cloudBitMask).eq(0).And(qa.bitwiseAnd(cirrusBitMask).eq(0))\n",
    "            return image.updateMask(mask).divide(10000)\n",
    "\n",
    "        def NDVI(image):\n",
    "            ndvi = image.normalizedDifference(['nir','red']).rename('NDVI') #(first − second) / (first + second)\n",
    "            return image.addBands(ndvi)\n",
    "        \n",
    "        # Sentinel 2 image collection with corresponding named bands\n",
    "        bandNamesOut_s2 = ['Aerosols','blue','green','red','red edge 1','red edge 2','red edge 3','nir','red edge 4','water vapor','cirrus','swir1','swir2','QA60']\n",
    "        bandNamesS2 = ['B1','B2','B3','B4','B5','B6','B7','B8','B8A','B9','B10','B11','B12','QA60']\n",
    "        s2_1c = ee.ImageCollection('COPERNICUS/S2').select(bandNamesS2,bandNamesOut_s2)\n",
    "        s2_1c = s2_1c.filterDate(ee.Date(image.date().advance(-dateoffset,'days')), ee.Date(image.date().advance(+dateoffset,'days'))).filterBounds(image.geometry()).map(maskS2clouds).map(NDVI)\n",
    "        ndvi = ee.Image(s2_1c.qualityMosaic('NDVI').select('NDVI'))\n",
    "\n",
    "        return image.addBands(ndvi)\n",
    "\n",
    "    def add_landcover(image):\n",
    "        landcover = ee.Image(lc.select('Map'))\n",
    "        return image.addBands(landcover)\n",
    "\n",
    "    def mask_by_ndvi(image):\n",
    "        mask = image.select('NDVI').lte(0.6)\n",
    "        return image.updateMask(mask)\n",
    "    \n",
    "    def mask_by_landcover(image):\n",
    "        mask = image.select('Map').eq(40).Or(image.select('Map').eq(30))\n",
    "        return image.updateMask(mask)\n",
    "    \n",
    "    # Paths to initial polygon(s) and outdir for ts data.\n",
    "    p_i = path\n",
    "    p_o = os.path.dirname(path) + '/ts_data/'\n",
    "    \n",
    "    # create folder in local space when not already there.\n",
    "    if not os.path.exists(p_o):\n",
    "        os.makedirs(p_o)\n",
    "        \n",
    "    # Load aoi features from file.\n",
    "    with open(p_i) as f:\n",
    "        data = geojson.load(f)\n",
    "\n",
    "    # Create GEE FeatureCollection from geojson file.\n",
    "    fc_aoi = ee.FeatureCollection(data)\n",
    "    area = fc_aoi.geometry().area().getInfo()\n",
    "    \n",
    "    fcg_aoi = ee.FeatureCollection(fc_aoi.geometry().buffer(5000))\n",
    "    areag = fcg_aoi.geometry().area().getInfo()\n",
    "\n",
    "    # Sentinel 1 GRD image collection their dates and coverage over aoi\n",
    "    ic_s1 = ee.ImageCollection('COPERNICUS/S1_GRD').filterBounds(fc_aoi).filterDate(ee.Date(start), ee.Date(end)).filter(ee.Filter.listContains('transmitterReceiverPolarisation', 'VV'))\n",
    "    icg_s1 = ee.ImageCollection('COPERNICUS/S1_GRD').filterBounds(fcg_aoi).filterDate(ee.Date(start), ee.Date(end)).filter(ee.Filter.listContains('transmitterReceiverPolarisation', 'VV'))\n",
    "\n",
    "    s1_dates = [datetime(1970, 1, 1) + timedelta(milliseconds=x) for x in ic_s1.aggregate_array(\"system:time_start\").getInfo()]\n",
    "    s1_dates = [x.strftime(\"%Y-%m-%dT%H:%M:%S.%fZ\") for x in s1_dates]    \n",
    "    s1_coverd = ic_s1.map(get_area).aggregate_array('area').getInfo()\n",
    "    \n",
    "    s1g_dates = [datetime(1970, 1, 1) + timedelta(milliseconds=x) for x in ic_s1.aggregate_array(\"system:time_start\").getInfo()]\n",
    "    s1g_dates = [x.strftime(\"%Y-%m-%dT%H:%M:%S.%fZ\") for x in s1g_dates]    \n",
    "    s1g_coverd = icg_s1.map(get_area).aggregate_array('area').getInfo()\n",
    "    \n",
    "    # Drop low coverage by metadata filter\n",
    "    s1_valid = [x for x,y in zip(s1_dates,s1_coverd) if y > area*0.25]\n",
    "    s1_valid_dates = ee.List(s1_valid).map(lambda x: ee.Date(x).millis())\n",
    "    #ic_s1 = ic_s1.filter(ee.Filter.inList(\"system:time_start\", s1_valid_dates))\n",
    "\n",
    "    # Drop low coverage by metadata filter\n",
    "    s1g_valid = [x for x,y in zip(s1g_dates,s1g_coverd) if y > areag*0.25]\n",
    "    s1g_valid_dates = ee.List(s1g_valid).map(lambda x: ee.Date(x).millis())\n",
    "    #icg_s1 = icg_s1.filter(ee.Filter.inList(\"system:time_start\", s1g_valid_dates))\n",
    "    \n",
    "    print(ic_s1.size().getInfo(),'(%s)' %(len(s1_dates)), 'images between %s and %s' %(start,end), 'within %s km²' %(area/1000000),'\\n') #s1_plot.aggregate_array(\"system:time_start\").getInfo()\n",
    "    print(icg_s1.size().getInfo(),'(%s)' %(len(s1g_dates)), 'images between %s and %s' %(start,end), 'within %s km²' %(areag/1000000),'\\n') #s1_plot.aggregate_array(\"system:time_start\").getInfo()\n",
    "    \n",
    "    #Landcover map\n",
    "    lc = ee.ImageCollection(\"ESA/WorldCover/v100\").first().clip(fcg_aoi.union().geometry())\n",
    "    \n",
    "    if with_ndvi == 'yes':\n",
    "        # Add ndvi band\n",
    "        ic_s1 = ic_s1.map(add_ndvi)\n",
    "\n",
    "        # Mask areas with ndvi > 0.6\n",
    "        #ic_s1 = ic_s1.map(mask_by_ndvi)\n",
    "        \n",
    "        # Map reducer function over imagecollection to get mean for multipolygon geometries\n",
    "        fc_s1 = ic_s1.map(lambda x: x.reduceRegions(collection=fc_aoi ,reducer='mean', crs='EPSG:4326',scale=10)).flatten()\n",
    "    else:\n",
    "        # Map reducer function over imagecollection to get mean for multipolygon geometries\n",
    "        fc_s1 = ic_s1.map(lambda x: x.reduceRegions(collection=fc_aoi ,reducer='mean', crs='EPSG:4326',scale=10)).flatten()\n",
    "    \n",
    "    if with_ndvi == 'yes':\n",
    "        # Add ndvi band\n",
    "        icg_s1 = icg_s1.map(add_ndvi)\n",
    "        icg_s1 = icg_s1.map(add_landcover)\n",
    "        # Mask areas with ndvi > 0.6 and landcover != 30,40\n",
    "        icg_s1 = icg_s1.map(mask_by_ndvi)\n",
    "        icg_s1 = icg_s1.map(mask_by_landcover)\n",
    "        # Map reducer function over imagecollection to get mean for multipolygon geometries\n",
    "        fcg_s1 = icg_s1.map(lambda x: x.reduceRegions(collection=fcg_aoi ,reducer='mean', crs='EPSG:4326',scale=10)).flatten()\n",
    "    else:\n",
    "        # Map reducer function over imagecollection to get mean for multipolygon geometries\n",
    "        fcg_s1 = icg_s1.map(lambda x: x.reduceRegions(collection=fcg_aoi ,reducer='mean', crs='EPSG:4326',scale=10)).flatten()\n",
    "    \n",
    "    # Export the FeatureCollection to a KML file.\n",
    "    task1 = ee.batch.Export.table.toDrive(collection = fc_s1,description='vectorsToDrive',folder='idm_gee_export', fileFormat= 'GeoJSON', fileNamePrefix=outname + '_plot')\n",
    "    task1.start()\n",
    "    \n",
    "    while task1.active():\n",
    "      print('Polling for task (id: {}).'.format(task1.id))\n",
    "      time.sleep(15)\n",
    "        \n",
    "    # Export the FeatureCollection to a KML file.\n",
    "    task2 = ee.batch.Export.table.toDrive(collection = fcg_s1,description='vectorsGToDrive',folder='idm_gee_export', fileFormat= 'GeoJSON', fileNamePrefix=outname + '_grid')\n",
    "    task2.start()\n",
    "    \n",
    "    while task2.active():\n",
    "      print('Polling for task (id: {}).'.format(task2.id))\n",
    "      time.sleep(15)\n",
    "\n",
    "    return print(\"finished\")"
   ]
  },
  {
   "cell_type": "code",
   "execution_count": null,
   "metadata": {
    "ExecuteTime": {
     "end_time": "2021-12-11T21:11:00.914908Z",
     "start_time": "2021-12-11T20:54:49.280679Z"
    }
   },
   "outputs": [],
   "source": [
    "path = 'C://Users/USER/Desktop/Master_Irrigation/03_GIS/gg_test_field/gg_test_field_1.geojson'\n",
    "get_s1_grd_mean(path,'2016-03-01','2021-10-31','gg_test_field_1', 'yes', 15)"
   ]
  }
 ],
 "metadata": {
  "kernelspec": {
   "display_name": "Python [conda env:irrigation_detection]",
   "language": "python",
   "name": "conda-env-irrigation_detection-py"
  },
  "language_info": {
   "codemirror_mode": {
    "name": "ipython",
    "version": 3
   },
   "file_extension": ".py",
   "mimetype": "text/x-python",
   "name": "python",
   "nbconvert_exporter": "python",
   "pygments_lexer": "ipython3",
   "version": "3.9.7"
  },
  "toc": {
   "base_numbering": 1,
   "nav_menu": {},
   "number_sections": true,
   "sideBar": true,
   "skip_h1_title": false,
   "title_cell": "Table of Contents",
   "title_sidebar": "Contents",
   "toc_cell": false,
   "toc_position": {
    "height": "calc(100% - 180px)",
    "left": "10px",
    "top": "150px",
    "width": "384px"
   },
   "toc_section_display": true,
   "toc_window_display": true
  },
  "varInspector": {
   "cols": {
    "lenName": 16,
    "lenType": 16,
    "lenVar": 40
   },
   "kernels_config": {
    "python": {
     "delete_cmd_postfix": "",
     "delete_cmd_prefix": "del ",
     "library": "var_list.py",
     "varRefreshCmd": "print(var_dic_list())"
    },
    "r": {
     "delete_cmd_postfix": ") ",
     "delete_cmd_prefix": "rm(",
     "library": "var_list.r",
     "varRefreshCmd": "cat(var_dic_list()) "
    }
   },
   "position": {
    "height": "526.85px",
    "left": "1554px",
    "right": "20px",
    "top": "119px",
    "width": "350px"
   },
   "types_to_exclude": [
    "module",
    "function",
    "builtin_function_or_method",
    "instance",
    "_Feature"
   ],
   "window_display": true
  }
 },
 "nbformat": 4,
 "nbformat_minor": 2
}
