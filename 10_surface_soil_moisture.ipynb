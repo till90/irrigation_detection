{
 "cells": [
  {
   "cell_type": "code",
   "execution_count": null,
   "metadata": {
    "ExecuteTime": {
     "end_time": "2021-12-01T09:24:14.703547Z",
     "start_time": "2021-12-01T09:23:39.137155Z"
    }
   },
   "outputs": [],
   "source": [
    "import sys\n",
    "!pip install --prefix {sys.prefix} pysmm"
   ]
  },
  {
   "cell_type": "code",
   "execution_count": null,
   "metadata": {
    "ExecuteTime": {
     "end_time": "2021-12-01T11:20:43.518256Z",
     "start_time": "2021-12-01T11:20:40.242742Z"
    }
   },
   "outputs": [],
   "source": [
    "import geopandas as gpd\n",
    "from shapely.geometry import Point\n",
    "from pysmm.derive_SM import get_ts"
   ]
  },
  {
   "cell_type": "code",
   "execution_count": null,
   "metadata": {
    "ExecuteTime": {
     "end_time": "2021-12-01T11:20:44.197883Z",
     "start_time": "2021-12-01T11:20:43.550215Z"
    }
   },
   "outputs": [],
   "source": [
    "path = 'C://Users/USER/Desktop/Master_Irrigation/03_GIS/idm_test/whr_test_field.geojson'\n",
    "gdf = gpd.read_file(path)\n",
    "gdf[\"x\"] = gdf.centroid.x\n",
    "gdf[\"y\"] = gdf.centroid.y"
   ]
  },
  {
   "cell_type": "code",
   "execution_count": null,
   "metadata": {
    "ExecuteTime": {
     "end_time": "2021-12-01T11:29:21.453298Z",
     "start_time": "2021-12-01T11:21:03.043830Z"
    }
   },
   "outputs": [],
   "source": [
    "from pysmm.derive_SM import get_map\n",
    "get_map(gdf.bounds.minx.values[0], gdf.bounds.miny.values[0], gdf.bounds.maxx.values[0], gdf.bounds.maxy.values[0],\n",
    "        'idm_gee_export',\n",
    "        sampling=50,                             # specify desired output resolution\n",
    "        year=None, month=None, day=None,        # define a date (optional)\n",
    "        tracknr=None,                           # define the Sentinel-1 track (optinal)\n",
    "        overwrite=False,\n",
    "        start='2018-03-01',\n",
    "        stop='2018-03-30') "
   ]
  },
  {
   "cell_type": "code",
   "execution_count": null,
   "metadata": {
    "ExecuteTime": {
     "end_time": "2021-12-01T11:02:45.563967Z",
     "start_time": "2021-12-01T11:01:51.097899Z"
    }
   },
   "outputs": [],
   "source": [
    "#To derive the soil moisture time-series of a single location use\n",
    "sm_ts = get_ts((gdf.x.values[0], gdf.y.values[0]),\n",
    "              'C://Users/USER/Desktop/Master_Irrigation/03_GIS/idm_test/get_ts/',\n",
    "              footprint=50,\n",
    "              calc_anomalies=False,\n",
    "              create_plots=False,\n",
    "              export_csv='whr_test_field_data')"
   ]
  }
 ],
 "metadata": {
  "kernelspec": {
   "display_name": "Python [conda env:irrigation_detection]",
   "language": "python",
   "name": "conda-env-irrigation_detection-py"
  },
  "language_info": {
   "codemirror_mode": {
    "name": "ipython",
    "version": 3
   },
   "file_extension": ".py",
   "mimetype": "text/x-python",
   "name": "python",
   "nbconvert_exporter": "python",
   "pygments_lexer": "ipython3",
   "version": "3.9.7"
  },
  "toc": {
   "base_numbering": 1,
   "nav_menu": {},
   "number_sections": true,
   "sideBar": true,
   "skip_h1_title": false,
   "title_cell": "Table of Contents",
   "title_sidebar": "Contents",
   "toc_cell": false,
   "toc_position": {},
   "toc_section_display": true,
   "toc_window_display": false
  },
  "varInspector": {
   "cols": {
    "lenName": 16,
    "lenType": 16,
    "lenVar": 40
   },
   "kernels_config": {
    "python": {
     "delete_cmd_postfix": "",
     "delete_cmd_prefix": "del ",
     "library": "var_list.py",
     "varRefreshCmd": "print(var_dic_list())"
    },
    "r": {
     "delete_cmd_postfix": ") ",
     "delete_cmd_prefix": "rm(",
     "library": "var_list.r",
     "varRefreshCmd": "cat(var_dic_list()) "
    }
   },
   "types_to_exclude": [
    "module",
    "function",
    "builtin_function_or_method",
    "instance",
    "_Feature"
   ],
   "window_display": false
  }
 },
 "nbformat": 4,
 "nbformat_minor": 2
}
