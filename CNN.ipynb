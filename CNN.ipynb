{
 "cells": [
  {
   "cell_type": "code",
   "execution_count": null,
   "metadata": {
    "ExecuteTime": {
     "end_time": "2022-01-15T09:50:34.648888Z",
     "start_time": "2022-01-15T09:43:30.343801Z"
    }
   },
   "outputs": [],
   "source": [
    "import sys\n",
    "!conda install -c conda --yes --prefix {sys.prefix} tensorflow"
   ]
  },
  {
   "cell_type": "code",
   "execution_count": 2,
   "metadata": {
    "ExecuteTime": {
     "end_time": "2022-02-02T08:20:48.588531Z",
     "start_time": "2022-02-02T08:20:48.572939Z"
    }
   },
   "outputs": [],
   "source": [
    "from glob import glob\n",
    "import datetime as dt\n",
    "import pandas as pd\n",
    "import geopandas as gpd\n",
    "from datetime import datetime\n",
    "import keras"
   ]
  },
  {
   "cell_type": "markdown",
   "metadata": {},
   "source": [
    "# Initialize Data"
   ]
  },
  {
   "cell_type": "code",
   "execution_count": 3,
   "metadata": {
    "ExecuteTime": {
     "end_time": "2022-02-02T08:21:42.992825Z",
     "start_time": "2022-02-02T08:21:26.801965Z"
    }
   },
   "outputs": [],
   "source": [
    "# Files with data\n",
    "paths = glob('C://Users/USER/Desktop/Master_Irrigation/03_GIS/ground_trouth/sentinel_ismn_data/*',)\n",
    "paths.sort()\n",
    "\n",
    "# Create Station id linked with filepath\n",
    "ids = [x.split('\\\\')[-1].split('_')[0] for x in paths]\n",
    "files = dict(zip(ids,paths))\n",
    "\n",
    "# Load all files into one Dataframe\n",
    "gdf = gpd.tools.util.pd.concat(map(gpd.read_file, paths), ignore_index=True)"
   ]
  },
  {
   "cell_type": "markdown",
   "metadata": {},
   "source": [
    "# Preprocessing"
   ]
  },
  {
   "cell_type": "code",
   "execution_count": 4,
   "metadata": {
    "ExecuteTime": {
     "end_time": "2022-02-02T08:21:43.826381Z",
     "start_time": "2022-02-02T08:21:43.255950Z"
    }
   },
   "outputs": [],
   "source": [
    "# Set type of date column to datetime object\n",
    "gdf.date = gdf.date.astype('datetime64[ns]')\n",
    "\n",
    "# Convert int to timedelta in days\n",
    "s2_timedelta = [dt.timedelta(days=x) for x in gdf.s2_distance]\n",
    "gdf.s2_distance = s2_timedelta\n",
    "\n",
    "#Remove uneseccary columns\n",
    "gdf.drop(labels = ['CloudMask'], axis = 1, inplace = True)\n",
    "\n",
    "# Clean Nan Values within subset columns (major variables to inspect)\n",
    "gdf.dropna(how='any', subset=['soil_moisture', 'VV'], inplace=True)\n",
    "\n",
    "# Drop lower and upper 1% of data to eliminate outliers\n",
    "gdf = gdf[gdf.soil_moisture.gt(gdf.soil_moisture.quantile(0.01)) & gdf.soil_moisture.lt(gdf.soil_moisture.quantile(0.99))]\n",
    "gdf = gdf[gdf.VV.gt(gdf.VV.quantile(0.01)) & gdf.VV.lt(gdf.VV.quantile(0.99))]\n",
    "#gdf = gdf[gdf.NDVI.gt(gdf.NDVI.quantile(0.01)) & gdf.NDVI.lt(gdf.NDVI.quantile(0.99))]\n",
    "\n",
    "# Remove rows where ndvi is older than 30days\n",
    "gdf = gdf[gdf.s2_distance.gt(dt.timedelta(days=-30)) & gdf.s2_distance.lt(dt.timedelta(days=30))]\n",
    "\n",
    "# Select only sm and vv meassurements where soil is not in frozen state\n"
   ]
  },
  {
   "cell_type": "markdown",
   "metadata": {},
   "source": [
    "## Scale, Transform dataset according to regression"
   ]
  },
  {
   "cell_type": "code",
   "execution_count": 5,
   "metadata": {
    "ExecuteTime": {
     "end_time": "2022-02-02T08:21:53.930893Z",
     "start_time": "2022-02-02T08:21:52.997254Z"
    }
   },
   "outputs": [],
   "source": [
    "from sklearn.model_selection import train_test_split\n",
    "from sklearn.preprocessing import LabelBinarizer\n",
    "from sklearn.preprocessing import MinMaxScaler"
   ]
  },
  {
   "cell_type": "code",
   "execution_count": null,
   "metadata": {},
   "outputs": [],
   "source": [
    "https://www.pyimagesearch.com/2019/01/21/regression-with-keras/"
   ]
  },
  {
   "cell_type": "markdown",
   "metadata": {},
   "source": [
    "# Create Training and Validation datasets"
   ]
  },
  {
   "cell_type": "markdown",
   "metadata": {},
   "source": [
    "## Scaling"
   ]
  },
  {
   "cell_type": "code",
   "execution_count": 37,
   "metadata": {
    "ExecuteTime": {
     "end_time": "2022-02-01T11:51:14.767682Z",
     "start_time": "2022-02-01T11:51:14.757752Z"
    }
   },
   "outputs": [],
   "source": [
    "csc = MinMaxScaler()\n",
    "lsc = LabelBinarizer()"
   ]
  },
  {
   "cell_type": "markdown",
   "metadata": {},
   "source": [
    "## CNN Architecture"
   ]
  },
  {
   "cell_type": "markdown",
   "metadata": {},
   "source": [
    "### MLP Multilayer Perceptron"
   ]
  },
  {
   "cell_type": "code",
   "execution_count": 6,
   "metadata": {
    "ExecuteTime": {
     "end_time": "2022-02-02T08:22:00.870963Z",
     "start_time": "2022-02-02T08:22:00.601946Z"
    }
   },
   "outputs": [],
   "source": [
    "from tensorflow.keras.models import Sequential\n",
    "from tensorflow.keras.layers import BatchNormalization\n",
    "from tensorflow.keras.layers import Conv2D\n",
    "from tensorflow.keras.layers import MaxPooling2D\n",
    "from tensorflow.keras.layers import Activation\n",
    "from tensorflow.keras.layers import Dropout\n",
    "from tensorflow.keras.layers import Dense\n",
    "from tensorflow.keras.layers import Flatten\n",
    "from tensorflow.keras.layers import Input\n",
    "from tensorflow.keras.models import Model\n",
    "from keras.wrappers.scikit_learn import KerasRegressor\n",
    "from sklearn.model_selection import cross_val_score\n",
    "from sklearn.model_selection import KFold\n",
    "from sklearn.preprocessing import StandardScaler\n",
    "from sklearn.pipeline import Pipeline"
   ]
  },
  {
   "cell_type": "code",
   "execution_count": 4,
   "metadata": {
    "ExecuteTime": {
     "end_time": "2022-02-01T19:50:42.927897Z",
     "start_time": "2022-02-01T19:50:42.911919Z"
    }
   },
   "outputs": [],
   "source": [
    "def baseline_model(dim):\n",
    "    # Create Model\n",
    "    model = Sequential()\n",
    "    model.add(Dense(dim, input_dim = dim, kernel_initializer = 'normal', activation = 'relu')) #hiddenlayer?\n",
    "    model.add(Dense(1, kernel_initializer = 'normal')) #output layer?\n",
    "\n",
    "    # Compile model\n",
    "    model.compile(loss = 'mean_squared_error', optimizer = 'adam')\n",
    "    return model"
   ]
  },
  {
   "cell_type": "code",
   "execution_count": 60,
   "metadata": {
    "ExecuteTime": {
     "end_time": "2022-02-01T12:35:14.246214Z",
     "start_time": "2022-02-01T12:35:14.226374Z"
    }
   },
   "outputs": [],
   "source": [
    "def create_mlp(dim, regress=False):\n",
    "    # MLP Model\n",
    "    model = Sequential()\n",
    "    model.add(Dense(8, input_dim=dim, activation='relu'))\n",
    "    model.add(Dense(4, activation='relu'))\n",
    "    \n",
    "    # Check to see if regression node should be added\n",
    "    if regress:\n",
    "        model.add(Dense(1, activation='linear'))\n",
    "    \n",
    "    return model"
   ]
  },
  {
   "cell_type": "markdown",
   "metadata": {},
   "source": [
    "## First Try: 2 Feature [sm, vv] / No Seperation between different Paramters "
   ]
  },
  {
   "cell_type": "code",
   "execution_count": 9,
   "metadata": {
    "ExecuteTime": {
     "end_time": "2022-02-01T19:51:20.934037Z",
     "start_time": "2022-02-01T19:51:20.918383Z"
    }
   },
   "outputs": [],
   "source": [
    "X = gdf['VV'].reset_index(drop=True)\n",
    "Y = gdf['soil_moisture'].reset_index(drop=True)"
   ]
  },
  {
   "cell_type": "code",
   "execution_count": 13,
   "metadata": {
    "ExecuteTime": {
     "end_time": "2022-02-01T19:53:32.332899Z",
     "start_time": "2022-02-01T19:53:32.132529Z"
    }
   },
   "outputs": [
    {
     "name": "stdout",
     "output_type": "stream",
     "text": [
      "Baseline: nan (nan) MSE\n",
      "Baseline: nan.2f (nan.2f) MSE\n"
     ]
    },
    {
     "name": "stderr",
     "output_type": "stream",
     "text": [
      "C:\\Users\\USER\\Anaconda3\\envs\\irrigation_detection\\lib\\site-packages\\sklearn\\model_selection\\_validation.py:372: FitFailedWarning: \n",
      "10 fits failed out of a total of 10.\n",
      "The score on these train-test partitions for these parameters will be set to nan.\n",
      "If these failures are not expected, you can try to debug them by setting error_score='raise'.\n",
      "\n",
      "Below are more details about the failures:\n",
      "--------------------------------------------------------------------------------\n",
      "10 fits failed with the following error:\n",
      "Traceback (most recent call last):\n",
      "  File \"C:\\Users\\USER\\Anaconda3\\envs\\irrigation_detection\\lib\\site-packages\\sklearn\\model_selection\\_validation.py\", line 681, in _fit_and_score\n",
      "    estimator.fit(X_train, y_train, **fit_params)\n",
      "  File \"C:\\Users\\USER\\Anaconda3\\envs\\irrigation_detection\\lib\\site-packages\\keras\\wrappers\\scikit_learn.py\", line 150, in fit\n",
      "    self.model = self.build_fn(\n",
      "  File \"C:\\Users\\USER\\Anaconda3\\envs\\irrigation_detection\\lib\\site-packages\\keras\\engine\\base_layer.py\", line 967, in __call__\n",
      "    inputs, args, kwargs = self._split_out_first_arg(args, kwargs)\n",
      "  File \"C:\\Users\\USER\\Anaconda3\\envs\\irrigation_detection\\lib\\site-packages\\keras\\engine\\base_layer.py\", line 3011, in _split_out_first_arg\n",
      "    raise ValueError(\n",
      "ValueError: The first argument to `Layer.call` must always be passed.\n",
      "\n",
      "  warnings.warn(some_fits_failed_message, FitFailedWarning)\n"
     ]
    }
   ],
   "source": [
    "# Evaluate Model\n",
    "estimator = KerasRegressor(\n",
    "    build_fn = baseline_model(dim = 1),\n",
    "    epochs = 100, \n",
    "    batch_size = 5,\n",
    "    verbose = 0)\n",
    "kfold = KFold(n_splits = 10) #10-fold cross validation to evaluate the model\n",
    "results = cross_val_score(estimator, X, Y, cv=kfold)\n",
    "print(\"Baseline: %.2f (%.2f) MSE\" % (results.mean(), results.std()))\n",
    "print(f\"Baseline: {results.mean()}.2f ({results.std()}.2f) MSE\")"
   ]
  },
  {
   "cell_type": "code",
   "execution_count": 71,
   "metadata": {
    "ExecuteTime": {
     "end_time": "2022-02-01T12:44:24.665132Z",
     "start_time": "2022-02-01T12:44:24.644994Z"
    }
   },
   "outputs": [],
   "source": [
    "features = ['VV', 'soil_moisture']\n",
    "df = gdf[features].reset_index(drop=True)\n",
    "sc_data = csc.fit_transform(df)\n",
    "X_train, X_test, y_train, y_test = train_test_split(sc_data[:,0],sc_data[:,1], test_size=0.25, random_state = 42, shuffle=False, stratify=None)"
   ]
  },
  {
   "cell_type": "code",
   "execution_count": 72,
   "metadata": {
    "ExecuteTime": {
     "end_time": "2022-02-01T12:47:58.610286Z",
     "start_time": "2022-02-01T12:47:58.580300Z"
    }
   },
   "outputs": [
    {
     "ename": "NameError",
     "evalue": "name 'models' is not defined",
     "output_type": "error",
     "traceback": [
      "\u001b[1;31m---------------------------------------------------------------------------\u001b[0m",
      "\u001b[1;31mNameError\u001b[0m                                 Traceback (most recent call last)",
      "\u001b[1;32m~\\AppData\\Local\\Temp/ipykernel_13756/2952835196.py\u001b[0m in \u001b[0;36m<module>\u001b[1;34m\u001b[0m\n\u001b[1;32m----> 1\u001b[1;33m \u001b[0mmodel\u001b[0m \u001b[1;33m=\u001b[0m \u001b[0mmodels\u001b[0m\u001b[1;33m.\u001b[0m\u001b[0mcreate_mlp\u001b[0m\u001b[1;33m(\u001b[0m\u001b[0mX_train\u001b[0m\u001b[1;33m,\u001b[0m \u001b[0mregress\u001b[0m\u001b[1;33m=\u001b[0m\u001b[1;32mTrue\u001b[0m\u001b[1;33m)\u001b[0m\u001b[1;33m\u001b[0m\u001b[1;33m\u001b[0m\u001b[0m\n\u001b[0m\u001b[0;32m      2\u001b[0m \u001b[0mopt\u001b[0m \u001b[1;33m=\u001b[0m \u001b[0mAdam\u001b[0m\u001b[1;33m(\u001b[0m\u001b[0mlr\u001b[0m\u001b[1;33m=\u001b[0m\u001b[1;36m1e-3\u001b[0m\u001b[1;33m,\u001b[0m \u001b[0mdecay\u001b[0m\u001b[1;33m=\u001b[0m\u001b[1;36m1e-3\u001b[0m \u001b[1;33m/\u001b[0m \u001b[1;36m200\u001b[0m\u001b[1;33m)\u001b[0m\u001b[1;33m\u001b[0m\u001b[1;33m\u001b[0m\u001b[0m\n\u001b[0;32m      3\u001b[0m \u001b[0mmodel\u001b[0m\u001b[1;33m.\u001b[0m\u001b[0mcompile\u001b[0m\u001b[1;33m(\u001b[0m\u001b[0mloss\u001b[0m\u001b[1;33m=\u001b[0m\u001b[1;34m'mean_absolute_percentage_error'\u001b[0m\u001b[1;33m,\u001b[0m \u001b[0moptimizer\u001b[0m\u001b[1;33m=\u001b[0m\u001b[0mopt\u001b[0m\u001b[1;33m)\u001b[0m\u001b[1;33m\u001b[0m\u001b[1;33m\u001b[0m\u001b[0m\n\u001b[0;32m      4\u001b[0m \u001b[1;33m\u001b[0m\u001b[0m\n\u001b[0;32m      5\u001b[0m \u001b[1;31m# Train the model\u001b[0m\u001b[1;33m\u001b[0m\u001b[1;33m\u001b[0m\u001b[0m\n",
      "\u001b[1;31mNameError\u001b[0m: name 'models' is not defined"
     ]
    }
   ],
   "source": [
    "model = models.create_mlp(X_train, regress=True)\n",
    "opt = Adam(lr=1e-3, decay=1e-3 / 200)\n",
    "model.compile(loss='mean_absolute_percentage_error', optimizer=opt)\n",
    "\n",
    "# Train the model\n",
    "model.fit(\n",
    "    x = X_train,\n",
    "    y = y_train,\n",
    "    validation_data = (X_test, y_test),\n",
    "    epoches = 200,\n",
    "    batch_size = 8\n",
    "    )"
   ]
  },
  {
   "cell_type": "code",
   "execution_count": 27,
   "metadata": {
    "ExecuteTime": {
     "end_time": "2022-02-01T11:35:54.228346Z",
     "start_time": "2022-02-01T11:35:54.212368Z"
    }
   },
   "outputs": [],
   "source": [
    "def prep_scaling(df, modus, features):\n",
    "    \"\"\"\n",
    "    Arguments: modus ['MinMax', 'LabelBinarizer']\n",
    "    \"\"\"\n",
    "    # Import modlues\n",
    "    from sklearn.preprocessing import LabelBinarizer\n",
    "    from sklearn.preprocessing import MinMaxScaler\n",
    "    \n",
    "    # Initialize Scaler ?What is with negative numbers?\n",
    "    if modus == 'MinMax':\n",
    "        cs = MinMaxScaler()\n",
    "    elif modus == 'LabelBinarizer':\n",
    "        cs = LabelBinarizer()\n",
    "    \n",
    "    return cs.fit_transform(df[columns])"
   ]
  },
  {
   "cell_type": "code",
   "execution_count": null,
   "metadata": {},
   "outputs": [],
   "source": [
    "data_1 = prep_scaling(\n",
    "    df = gdf,\n",
    "    modus = 'MinMax',\n",
    "    columns = ['VV', 'soil_moisture'],\n",
    "    )\n",
    "data_1 sklearn.model_selection.train_test_split"
   ]
  },
  {
   "cell_type": "code",
   "execution_count": 25,
   "metadata": {
    "ExecuteTime": {
     "end_time": "2022-02-01T11:31:01.723073Z",
     "start_time": "2022-02-01T11:31:01.707126Z"
    }
   },
   "outputs": [
    {
     "data": {
      "text/html": [
       "<div>\n",
       "<style scoped>\n",
       "    .dataframe tbody tr th:only-of-type {\n",
       "        vertical-align: middle;\n",
       "    }\n",
       "\n",
       "    .dataframe tbody tr th {\n",
       "        vertical-align: top;\n",
       "    }\n",
       "\n",
       "    .dataframe thead th {\n",
       "        text-align: right;\n",
       "    }\n",
       "</style>\n",
       "<table border=\"1\" class=\"dataframe\">\n",
       "  <thead>\n",
       "    <tr style=\"text-align: right;\">\n",
       "      <th></th>\n",
       "      <th>soil_moisture</th>\n",
       "      <th>VV</th>\n",
       "    </tr>\n",
       "  </thead>\n",
       "  <tbody>\n",
       "    <tr>\n",
       "      <th>0</th>\n",
       "      <td>0.224</td>\n",
       "      <td>-6.456684</td>\n",
       "    </tr>\n",
       "    <tr>\n",
       "      <th>1</th>\n",
       "      <td>0.327</td>\n",
       "      <td>-9.103003</td>\n",
       "    </tr>\n",
       "    <tr>\n",
       "      <th>2</th>\n",
       "      <td>0.367</td>\n",
       "      <td>-8.022560</td>\n",
       "    </tr>\n",
       "    <tr>\n",
       "      <th>3</th>\n",
       "      <td>0.337</td>\n",
       "      <td>-6.844326</td>\n",
       "    </tr>\n",
       "    <tr>\n",
       "      <th>4</th>\n",
       "      <td>0.340</td>\n",
       "      <td>-7.574737</td>\n",
       "    </tr>\n",
       "    <tr>\n",
       "      <th>...</th>\n",
       "      <td>...</td>\n",
       "      <td>...</td>\n",
       "    </tr>\n",
       "    <tr>\n",
       "      <th>31609</th>\n",
       "      <td>0.340</td>\n",
       "      <td>-7.808508</td>\n",
       "    </tr>\n",
       "    <tr>\n",
       "      <th>31610</th>\n",
       "      <td>0.360</td>\n",
       "      <td>-9.553531</td>\n",
       "    </tr>\n",
       "    <tr>\n",
       "      <th>31611</th>\n",
       "      <td>0.338</td>\n",
       "      <td>-7.201390</td>\n",
       "    </tr>\n",
       "    <tr>\n",
       "      <th>31612</th>\n",
       "      <td>0.326</td>\n",
       "      <td>-11.959831</td>\n",
       "    </tr>\n",
       "    <tr>\n",
       "      <th>31613</th>\n",
       "      <td>0.321</td>\n",
       "      <td>-12.367777</td>\n",
       "    </tr>\n",
       "  </tbody>\n",
       "</table>\n",
       "<p>31614 rows × 2 columns</p>\n",
       "</div>"
      ],
      "text/plain": [
       "       soil_moisture         VV\n",
       "0              0.224  -6.456684\n",
       "1              0.327  -9.103003\n",
       "2              0.367  -8.022560\n",
       "3              0.337  -6.844326\n",
       "4              0.340  -7.574737\n",
       "...              ...        ...\n",
       "31609          0.340  -7.808508\n",
       "31610          0.360  -9.553531\n",
       "31611          0.338  -7.201390\n",
       "31612          0.326 -11.959831\n",
       "31613          0.321 -12.367777\n",
       "\n",
       "[31614 rows x 2 columns]"
      ]
     },
     "execution_count": 25,
     "metadata": {},
     "output_type": "execute_result"
    }
   ],
   "source": [
    "df_1 = gdf[['soil_moisture', 'VV']].reset_index(drop=True) #2 Feature Selection\n",
    "\n",
    "\n",
    "x = gdf.VV.reset_index(drop=True) # Sentinel 1 GRD VV Backscatter Coefficient\n",
    "y = gdf.soil_moisture.reset_index(drop=True) # Soil Moisture\n",
    "\n"
   ]
  },
  {
   "cell_type": "code",
   "execution_count": 7,
   "metadata": {
    "ExecuteTime": {
     "end_time": "2022-01-15T10:44:57.822928Z",
     "start_time": "2022-01-15T10:44:57.355931Z"
    }
   },
   "outputs": [],
   "source": [
    "data = gpd.read_file(ismn_path + '\\ismn_ts_vv_sm_01.json')\n",
    "data['date'] = pd.to_datetime(data.date)"
   ]
  },
  {
   "cell_type": "code",
   "execution_count": null,
   "metadata": {
    "ExecuteTime": {
     "end_time": "2022-01-13T10:00:17.852554Z",
     "start_time": "2022-01-13T10:00:17.552347Z"
    }
   },
   "outputs": [],
   "source": [
    "ms1_x, ms1_y, ms2_x, ms2_y, as1_x, as1_y, as2_x, as2_y = list(), list(),list(),list(),list(),list(),list(),list()\n",
    "\n",
    "for station in data.station.unique():\n",
    "    for year in data.date.dt.year.unique():\n",
    "        time_series = data[(data['station'] == station ) & (data['date'].dt.year == year) & (data['date'].dt.month.isin([3,4,5,6,7,8,9]))]\n",
    "        #Sentinel A Ascending \n",
    "        ms1_x.append(time_series[(time_series['sentinel'] == 'A') & (time_series['orbit_direction'] == 'ASCENDING')]['VV'])\n",
    "        ms1_y.append(time_series[(time_series['sentinel'] == 'A') & (time_series['orbit_direction'] == 'ASCENDING')][['angle', 'soil_moisture']])\n",
    "        # Sentinel B Ascending\n",
    "        ms2_x.append(time_series[(time_series['sentinel'] == 'B') & (time_series['orbit_direction'] == 'ASCENDING')]['VV'])\n",
    "        ms2_y.append(time_series[(time_series['sentinel'] == 'B') & (time_series['orbit_direction'] == 'ASCENDING')][['angle', 'soil_moisture']])\n",
    "        # Sentinel A Descending\n",
    "        as1_x.append(time_series[(time_series['sentinel'] == 'A') & (time_series['orbit_direction'] == 'DESCENDING')]['VV'])\n",
    "        as1_y.append(time_series[(time_series['sentinel'] == 'A') & (time_series['orbit_direction'] == 'DESCENDING')][['angle', 'soil_moisture']])\n",
    "        # Sentinel B Descending\n",
    "        as2_x.append(time_series[(time_series['sentinel'] == 'B') & (time_series['orbit_direction'] == 'DESCENDING')]['VV'])\n",
    "        as2_y.append(time_series[(time_series['sentinel'] == 'B') & (time_series['orbit_direction'] == 'DESCENDING')][['angle', 'soil_moisture']])\n"
   ]
  },
  {
   "cell_type": "markdown",
   "metadata": {},
   "source": []
  },
  {
   "cell_type": "markdown",
   "metadata": {},
   "source": [
    "## Download Sentinel-1 Metadata"
   ]
  },
  {
   "cell_type": "code",
   "execution_count": null,
   "metadata": {
    "ExecuteTime": {
     "end_time": "2022-01-12T09:54:47.484024Z",
     "start_time": "2022-01-12T09:54:47.467990Z"
    }
   },
   "outputs": [],
   "source": [
    "def get_s1_metadata(filename):\n",
    "    from sentinelsat import SentinelAPI, read_geojson, geojson_to_wkt\n",
    "    # connect to the API\n",
    "    api = SentinelAPI('till90', '201184Till', 'https://scihub.copernicus.eu/dhus')\n",
    "    # Query Metadata by filename\n",
    "    products = api.query(filename = f'{filename}*')\n",
    "    return api.to_dataframe(products)"
   ]
  },
  {
   "cell_type": "code",
   "execution_count": null,
   "metadata": {
    "ExecuteTime": {
     "end_time": "2022-01-12T10:02:35.970903Z",
     "start_time": "2022-01-12T10:02:35.786067Z"
    }
   },
   "outputs": [],
   "source": [
    "get_s1_metadata('S1A_IW_GRDH_1SDV_20150104T051921_20150104T051946_004017_004D70_3611').orbitdirection.values[0]"
   ]
  },
  {
   "cell_type": "markdown",
   "metadata": {},
   "source": [
    "## Data to train the CNN"
   ]
  },
  {
   "cell_type": "markdown",
   "metadata": {},
   "source": [
    "### ismn in-situ soil moisture"
   ]
  },
  {
   "cell_type": "code",
   "execution_count": 6,
   "metadata": {
    "ExecuteTime": {
     "end_time": "2022-01-15T10:44:53.994699Z",
     "start_time": "2022-01-15T10:44:53.990706Z"
    }
   },
   "outputs": [],
   "source": [
    "#path to single json files per station\n",
    "ismn_path = r'C:\\Users\\USER\\Desktop\\Master_Irrigation\\03_GIS\\ground_trouth\\ismn_archieve\\time_series'\n",
    "files = glob(ismn_path + '\\*')"
   ]
  },
  {
   "cell_type": "code",
   "execution_count": null,
   "metadata": {
    "ExecuteTime": {
     "end_time": "2022-01-12T11:28:47.022480Z",
     "start_time": "2022-01-12T11:28:47.007089Z"
    }
   },
   "outputs": [],
   "source": [
    "files = files[:-1]"
   ]
  },
  {
   "cell_type": "code",
   "execution_count": null,
   "metadata": {
    "ExecuteTime": {
     "end_time": "2022-01-12T11:28:54.073849Z",
     "start_time": "2022-01-12T11:28:53.735124Z"
    }
   },
   "outputs": [],
   "source": [
    "#load time series in pandas\n",
    "ts_ismn_sm = [pd.read_json(x) for x in files]\n",
    "# Get coords from filename\n",
    "coords = [x.split('\\\\')[-1].split('_')[1:3] for x in files]\n",
    "# Create GeoDataFrame for every time series with geometry from filename \n",
    "ts_ismn_sm_gdf = [gpd.GeoDataFrame(data = ts_ismn_sm[x], geometry=gpd.points_from_xy(x = np.repeat(coords[x][1], len(ts_ismn_sm[x])), y = np.repeat(coords[x][0], len(ts_ismn_sm[x])))) for x in range(0,len(files))]\n",
    "# Concat all gdf to one geodataframe\n",
    "ts_ismn = gpd.tools.util.pd.concat(ts_ismn_sm_gdf)"
   ]
  },
  {
   "cell_type": "code",
   "execution_count": null,
   "metadata": {
    "ExecuteTime": {
     "end_time": "2022-01-11T19:42:33.003083Z",
     "start_time": "2022-01-11T19:42:32.987679Z"
    }
   },
   "outputs": [],
   "source": [
    "coords"
   ]
  },
  {
   "cell_type": "code",
   "execution_count": null,
   "metadata": {
    "ExecuteTime": {
     "end_time": "2021-12-30T15:04:16.014727Z",
     "start_time": "2021-12-30T15:04:15.999136Z"
    }
   },
   "outputs": [],
   "source": [
    "# Extract regular sampled; 1 values for 1 day at the same time s1 meassure backscatter coeffienct\n"
   ]
  },
  {
   "cell_type": "markdown",
   "metadata": {},
   "source": [
    "### gee sentinel 1 data"
   ]
  },
  {
   "cell_type": "code",
   "execution_count": null,
   "metadata": {
    "ExecuteTime": {
     "end_time": "2022-01-12T09:55:29.510850Z",
     "start_time": "2022-01-12T09:55:28.498744Z"
    }
   },
   "outputs": [],
   "source": [
    "#path to single json files per station\n",
    "gee_fc_path = r'C:\\Users\\USER\\Desktop\\Master_Irrigation\\03_GIS\\ground_trouth\\ismn_fc_gee_VV_na_clear.geojson'\n",
    "ts_ismn_bc = gpd.read_file(gee_fc_path)"
   ]
  },
  {
   "cell_type": "code",
   "execution_count": null,
   "metadata": {
    "ExecuteTime": {
     "end_time": "2022-01-12T10:57:55.789999Z",
     "start_time": "2022-01-12T10:05:37.845825Z"
    }
   },
   "outputs": [],
   "source": [
    "# Extract metadata from filename\n",
    "ts_ismn_bc['station'] = [x[-1] for x in ts_ismn_bc.id]\n",
    "ts_ismn_bc['sentinel'] = [x[2] for x in ts_ismn_bc.id]\n",
    "ts_ismn_bc['date'] = [datetime.strptime(x.split('_')[4][:15], '%Y%m%dT%H%M%S') for x in ts_ismn_bc.id]\n",
    "ts_ismn_bc['mode'] = [x[4:6] for x in ts_ismn_bc.id]\n",
    "ts_ismn_bc['type'] = [str(x[7:11]) for x in ts_ismn_bc.id]\n",
    "# only High Resolution types\n",
    "ts_ismn_bc = ts_ismn_bc[ts_ismn_bc['type'] == 'GRDH']\n",
    "#drop duplicates fix because when downloading vv data some sensors are at same postion but different depths\n",
    "ts_ismn_bc.drop_duplicates(['geometry', 'VV'], inplace=True)\n",
    "# Add Orbit Direction with sentinelsat query\n",
    "orbit_directions = list()\n",
    "for row in ts_ismn_bc.itertuples():\n",
    "    metadata = get_s1_metadata(row.id[:-2])\n",
    "    try:\n",
    "        orbit_directions.append(metadata.orbitdirection.values[0])\n",
    "    except:\n",
    "        orbit_directions.append(np.nan)\n",
    "ts_ismn_bc['orbit_direction'] = orbit_directions\n",
    "ts_ismn_bc"
   ]
  },
  {
   "cell_type": "markdown",
   "metadata": {},
   "source": [
    "## Merge data vv + sm ground trouth"
   ]
  },
  {
   "cell_type": "code",
   "execution_count": null,
   "metadata": {
    "ExecuteTime": {
     "end_time": "2022-01-12T11:37:26.717639Z",
     "start_time": "2022-01-12T11:29:06.146039Z"
    }
   },
   "outputs": [],
   "source": [
    "# Add sm from ismn data to s1 vv data\n",
    "values = list()\n",
    "for row in ts_ismn_bc.itertuples():\n",
    "    time = row.date.round('1h')\n",
    "    geometry = row.geometry\n",
    "    # select all rows with same geometry (change x and y lat/lon maybe because of shaply module)\n",
    "    sm = ts_ismn.cx[geometry.y:geometry.y , geometry.x:geometry.x]\n",
    "    # select all rows with same time\n",
    "    sm = sm[sm.index == time]\n",
    "    # mean when multiple values nan when no values\n",
    "    if len(sm) == 0:\n",
    "        values.append(np.nan)\n",
    "    else:\n",
    "        values.append(np.mean(list(sm.soil_moisture)))\n",
    "        \n",
    "ts_ismn_bc['soil_moisture'] = values\n",
    "ts_ismn_bc.to_file(ismn_path + '\\ismn_ts_vv_sm_01.json')"
   ]
  },
  {
   "cell_type": "code",
   "execution_count": null,
   "metadata": {
    "ExecuteTime": {
     "end_time": "2022-01-11T19:42:10.593980Z",
     "start_time": "2022-01-11T19:42:10.562704Z"
    }
   },
   "outputs": [],
   "source": [
    "ts_ismn_bc.station.unique()"
   ]
  }
 ],
 "metadata": {
  "kernelspec": {
   "display_name": "Python [conda env:irrigation_detection]",
   "language": "python",
   "name": "conda-env-irrigation_detection-py"
  },
  "language_info": {
   "codemirror_mode": {
    "name": "ipython",
    "version": 3
   },
   "file_extension": ".py",
   "mimetype": "text/x-python",
   "name": "python",
   "nbconvert_exporter": "python",
   "pygments_lexer": "ipython3",
   "version": "3.9.7"
  },
  "toc": {
   "base_numbering": 1,
   "nav_menu": {},
   "number_sections": true,
   "sideBar": true,
   "skip_h1_title": false,
   "title_cell": "Table of Contents",
   "title_sidebar": "Contents",
   "toc_cell": false,
   "toc_position": {},
   "toc_section_display": true,
   "toc_window_display": true
  },
  "varInspector": {
   "cols": {
    "lenName": 16,
    "lenType": 16,
    "lenVar": 40
   },
   "kernels_config": {
    "python": {
     "delete_cmd_postfix": "",
     "delete_cmd_prefix": "del ",
     "library": "var_list.py",
     "varRefreshCmd": "print(var_dic_list())"
    },
    "r": {
     "delete_cmd_postfix": ") ",
     "delete_cmd_prefix": "rm(",
     "library": "var_list.r",
     "varRefreshCmd": "cat(var_dic_list()) "
    }
   },
   "types_to_exclude": [
    "module",
    "function",
    "builtin_function_or_method",
    "instance",
    "_Feature"
   ],
   "window_display": false
  }
 },
 "nbformat": 4,
 "nbformat_minor": 2
}
