{
 "cells": [
  {
   "cell_type": "markdown",
   "metadata": {},
   "source": [
    "https://www.dataquest.io/blog/tutorial-colors-image-clustering-python/  \n",
    "https://medium.com/@h4k1m0u/clustering-a-satellite-image-with-scikit-learn-14adb2ca3790  \n",
    "http://www.acgeospatial.co.uk/k-means-sentinel-2-python/    \n",
    "Boden Viewer http://bodenviewer.hessen.de/mapapps/resources/apps/bodenviewer/index.html?lang=de\n"
   ]
  },
  {
   "cell_type": "code",
   "execution_count": null,
   "metadata": {
    "ExecuteTime": {
     "end_time": "2021-11-18T21:37:39.724163Z",
     "start_time": "2021-11-18T21:37:39.713757Z"
    }
   },
   "outputs": [],
   "source": [
    "filepath = r'C:\\Users\\USER\\Desktop\\Master_Irrigation\\03_GIS\\irrigation_map_whr\\irrigation_map_whr_georef.tif'\n",
    "print(filepath)\n"
   ]
  },
  {
   "cell_type": "markdown",
   "metadata": {},
   "source": [
    "# 1 Band Classifier Read image with GDAL wrapper in a Numpy array and extract band "
   ]
  },
  {
   "cell_type": "code",
   "execution_count": null,
   "metadata": {
    "ExecuteTime": {
     "end_time": "2021-11-18T21:39:05.843824Z",
     "start_time": "2021-11-18T21:37:40.773991Z"
    }
   },
   "outputs": [],
   "source": [
    "%matplotlib inline\n",
    "import matplotlib.pyplot as plt\n",
    "from sklearn import cluster\n",
    "import numpy as np\n",
    "from osgeo import gdal, gdal_array\n",
    "\n",
    "print(filepath)\n",
    "dataset = gdal.Open(filepath, gdal.GA_ReadOnly)\n",
    "band = dataset.GetRasterBand(2)\n",
    "img = band.ReadAsArray()\n",
    "\n",
    "img_1d = img.reshape((-1,1))\n",
    "img_1d = np.where(img_1d==150, 255, img_1d) \n",
    "img_1d = np.where(img_1d==0, 255, img_1d) \n",
    "\n",
    "\n",
    "k_means = cluster.KMeans(n_clusters=18)\n",
    "k_means.fit(img_1d)\n",
    "\n",
    "#Assign labels\n",
    "cluster = k_means.labels_\n",
    "#reshape to original dimensions\n",
    "cluster = cluster.reshape(img.shape)\n",
    "\n",
    "plt.figure(figsize=(30,30))\n",
    "plt.imshow(cluster)\n",
    "plt.show()\n",
    "\n"
   ]
  },
  {
   "cell_type": "markdown",
   "metadata": {},
   "source": [
    "# All Band classifier "
   ]
  },
  {
   "cell_type": "code",
   "execution_count": null,
   "metadata": {
    "ExecuteTime": {
     "end_time": "2021-11-18T20:14:39.244917Z",
     "start_time": "2021-11-18T20:11:41.944757Z"
    }
   },
   "outputs": [],
   "source": [
    "%matplotlib inline\n",
    "import matplotlib.pyplot as plt\n",
    "from sklearn import cluster\n",
    "import numpy as np\n",
    "from osgeo import gdal, gdal_array\n",
    "gdal.UseExceptions()\n",
    "gdal.AllRegister()\n",
    "import os\n",
    "\n",
    "#Load file in gdal\n",
    "file = gdal.Open(filepath, gdal.GA_ReadOnly)\n",
    "\n",
    "#Initialize an array of zeros with size of input\n",
    "img = np.zeros((file.RasterYSize, file.RasterXSize, file.RasterCount), gdal_array.GDALTypeCodeToNumericTypeCode(file.GetRasterBand(1).DataType))\n",
    "\n",
    "#Loop over the number of bands in the image (img.shape[2]) insert values into the numpy array\n",
    "for b in range(img.shape[2]):\n",
    "    img[ : , : , b] = file.GetRasterBand(b + 1).ReadAsArray()\n",
    "\n",
    "#Reshape array \n",
    "new_shape = (img.shape[0] * img.shape[1], img.shape[2])\n",
    "\n",
    "#based on this shape, we can build the input value\n",
    "X = img[: , : , :4].reshape(new_shape)\n",
    "#X = np.where(X==150, 255, X) Bad idea because other r ,g or b values may have same as black and gray\n",
    "#X = np.where(X==0, 255, X) \n",
    "\n",
    "#Classifier Kmeans\n",
    "k_means = cluster.KMeans(n_clusters=25)\n",
    "k_means.fit(X)\n",
    "\n",
    "X_cluster = k_means.labels_\n",
    "X_cluster = X_cluster.reshape(img[:, :, 0].shape)\n",
    "\n",
    "#Plot the data\n",
    "plt.figure(figsize=(20,20))\n",
    "plt.imshow(X_cluster)\n",
    "\n",
    "plt.show()\n"
   ]
  },
  {
   "cell_type": "code",
   "execution_count": null,
   "metadata": {
    "ExecuteTime": {
     "end_time": "2021-11-18T20:30:04.526146Z",
     "start_time": "2021-11-18T20:26:53.160623Z"
    }
   },
   "outputs": [],
   "source": [
    "import numpy as np\n",
    "from skimage import io, morphology, measure\n",
    "from sklearn.cluster import KMeans\n",
    "from matplotlib import pyplot as plt\n",
    "\n",
    "img = io.imread(filepath)\n",
    "\n",
    "rows, cols, bands = img.shape\n",
    "X = img.reshape(rows*cols, bands)\n",
    "\n",
    "kmeans = KMeans(n_clusters=23, random_state=0).fit(X)\n",
    "labels = kmeans.labels_.reshape(rows, cols)\n",
    "\n",
    "for i in np.unique(labels):\n",
    "    blobs = np.int_(morphology.binary_opening(labels == i))\n",
    "    color = np.around(kmeans.cluster_centers_[i])\n",
    "    count = len(np.unique(measure.label(blobs))) - 1\n",
    "    print('Color: {}  >>  Objects: {}'.format(color, count))\n",
    "    \n",
    "#Plot the data\n",
    "plt.figure(figsize=(20,20))\n",
    "plt.imshow(labels)\n",
    "\n",
    "plt.show()"
   ]
  },
  {
   "cell_type": "markdown",
   "metadata": {},
   "source": [
    "## Save Classification as GeoTiff"
   ]
  },
  {
   "cell_type": "code",
   "execution_count": null,
   "metadata": {
    "ExecuteTime": {
     "end_time": "2021-11-18T21:40:24.757141Z",
     "start_time": "2021-11-18T21:40:24.635743Z"
    }
   },
   "outputs": [],
   "source": [
    "#Open input image again to get properties\n",
    "file = gdal.Open(filepath)\n",
    "\n",
    "#We need a single band\n",
    "band = file.GetRasterBand(1)\n",
    "\n",
    "#Convert it to an array\n",
    "arr = band.ReadAsArray()\n",
    "\n",
    "#Extract columns and rows to a list\n",
    "[cols, rows] = arr.shape\n",
    "\n",
    "#Set the output as Geotiff\n",
    "format = \"GTiff\"\n",
    "driver = gdal.GetDriverByName(format)\n",
    "\n",
    "#Creates the output raster with the dimensions of the input raster\n",
    "outDataRaster = driver.Create(r'C:\\Users\\USER\\Desktop\\Master_Irrigation\\03_GIS\\irrigation_map_whr\\irrigation_map_whr_cluster_1.tiff', rows, cols, 1, gdal.GDT_Byte)\n",
    "\n",
    "#Set the projection and extent of the data.\n",
    "outDataRaster.SetGeoTransform(file.GetGeoTransform())##sets same geotransform as input\n",
    "outDataRaster.SetProjection(file.GetProjection())##sets same projection as input\n",
    "\n",
    "#Write classification result to a single band raster image \n",
    "outDataRaster.GetRasterBand(1).WriteArray(cluster)\n",
    "\n",
    "#Calling FlushCache() to remove from memory and delete the data\n",
    "outDataRaster.FlushCache() ## remove from memory\n",
    "del outDataRaster ## delete the data (not the actual geotiff)"
   ]
  },
  {
   "cell_type": "code",
   "execution_count": null,
   "metadata": {},
   "outputs": [],
   "source": []
  },
  {
   "cell_type": "code",
   "execution_count": null,
   "metadata": {},
   "outputs": [],
   "source": [
    "#set projection to Geotiff\n",
    "from osgeo import gdal\n",
    "path = r'C:\\Users\\USER\\Desktop\\master-thesis-master\\soil_map\\soil_map_great_blank.tiff'\n",
    "file = gdal.Open(path)\n",
    "sr = file.GetSpatialRef()\n",
    "print(sr)"
   ]
  }
 ],
 "metadata": {
  "kernelspec": {
   "display_name": "Python [conda env:irrigation_detection]",
   "language": "python",
   "name": "conda-env-irrigation_detection-py"
  },
  "language_info": {
   "codemirror_mode": {
    "name": "ipython",
    "version": 3
   },
   "file_extension": ".py",
   "mimetype": "text/x-python",
   "name": "python",
   "nbconvert_exporter": "python",
   "pygments_lexer": "ipython3",
   "version": "3.9.7"
  },
  "toc": {
   "base_numbering": 1,
   "nav_menu": {},
   "number_sections": true,
   "sideBar": true,
   "skip_h1_title": false,
   "title_cell": "Table of Contents",
   "title_sidebar": "Contents",
   "toc_cell": false,
   "toc_position": {},
   "toc_section_display": true,
   "toc_window_display": false
  },
  "varInspector": {
   "cols": {
    "lenName": 16,
    "lenType": 16,
    "lenVar": 40
   },
   "kernels_config": {
    "python": {
     "delete_cmd_postfix": "",
     "delete_cmd_prefix": "del ",
     "library": "var_list.py",
     "varRefreshCmd": "print(var_dic_list())"
    },
    "r": {
     "delete_cmd_postfix": ") ",
     "delete_cmd_prefix": "rm(",
     "library": "var_list.r",
     "varRefreshCmd": "cat(var_dic_list()) "
    }
   },
   "types_to_exclude": [
    "module",
    "function",
    "builtin_function_or_method",
    "instance",
    "_Feature"
   ],
   "window_display": false
  }
 },
 "nbformat": 4,
 "nbformat_minor": 4
}
