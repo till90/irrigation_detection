{
 "cells": [
  {
   "cell_type": "code",
   "execution_count": null,
   "metadata": {
    "ExecuteTime": {
     "end_time": "2021-10-25T09:07:43.527173Z",
     "start_time": "2021-10-25T09:07:19.379234Z"
    }
   },
   "outputs": [],
   "source": [
    "import sys\n",
    "!conda install -c conda-forge --yes --prefix {sys.prefix} owslib, rtree "
   ]
  },
  {
   "cell_type": "markdown",
   "metadata": {},
   "source": [
    "import wfs server in qgis and save data as shapefile   \n",
    "RLP: https://www.geoportal.rlp.de/linked_open_data/   \n",
    "Hessen: https://www.hlnug.de/fileadmin/dokumente/boden/BFD5L/methoden/m46.html   \n",
    "\n",
    "TOPSOIL Organic Carbon https://esdac.jrc.ec.europa.eu/tmp_dataset_access_req_50307#tabs-0-filters=1    \n"
   ]
  },
  {
   "cell_type": "code",
   "execution_count": 1,
   "metadata": {
    "ExecuteTime": {
     "end_time": "2021-10-25T18:35:35.897062Z",
     "start_time": "2021-10-25T18:35:34.179305Z"
    }
   },
   "outputs": [],
   "source": [
    "import geopandas as gpd"
   ]
  },
  {
   "cell_type": "code",
   "execution_count": 2,
   "metadata": {
    "ExecuteTime": {
     "end_time": "2021-10-25T18:36:23.037489Z",
     "start_time": "2021-10-25T18:35:37.084072Z"
    }
   },
   "outputs": [],
   "source": [
    "#Load shapefile exported by qgis and transform it from EPSG:25832 (ETRS89 / UTM zone 32N) to EPSG:4326 (WGS84)\n",
    "bfd5l_m46 = gpd.read_file(r'C:\\Users\\USER\\Desktop\\Master_Irrigation\\03_GIS\\BFDL_ML46\\BFD5L_ML46.shp').to_crs(epsg=4326)"
   ]
  },
  {
   "cell_type": "code",
   "execution_count": 3,
   "metadata": {
    "ExecuteTime": {
     "end_time": "2021-10-25T18:36:23.180417Z",
     "start_time": "2021-10-25T18:36:23.152382Z"
    }
   },
   "outputs": [],
   "source": [
    "#Load aoi for further clipping of soil data\n",
    "aoi = gpd.read_file(r'C:\\Users\\USER\\Desktop\\Master_Irrigation\\03_GIS\\oberrheingraben_shp\\oberrheingraben-polygon.shp')"
   ]
  },
  {
   "cell_type": "code",
   "execution_count": 5,
   "metadata": {
    "ExecuteTime": {
     "end_time": "2021-10-25T18:36:49.527436Z",
     "start_time": "2021-10-25T18:36:49.483336Z"
    }
   },
   "outputs": [
    {
     "data": {
      "text/html": [
       "<div>\n",
       "<style scoped>\n",
       "    .dataframe tbody tr th:only-of-type {\n",
       "        vertical-align: middle;\n",
       "    }\n",
       "\n",
       "    .dataframe tbody tr th {\n",
       "        vertical-align: top;\n",
       "    }\n",
       "\n",
       "    .dataframe thead th {\n",
       "        text-align: right;\n",
       "    }\n",
       "</style>\n",
       "<table border=\"1\" class=\"dataframe\">\n",
       "  <thead>\n",
       "    <tr style=\"text-align: right;\">\n",
       "      <th></th>\n",
       "      <th>OBJECTID</th>\n",
       "      <th>GMKNR</th>\n",
       "      <th>WERT</th>\n",
       "      <th>BODENART</th>\n",
       "      <th>SHAPE_Leng</th>\n",
       "      <th>SHAPE_Area</th>\n",
       "      <th>geometry</th>\n",
       "    </tr>\n",
       "  </thead>\n",
       "  <tbody>\n",
       "    <tr>\n",
       "      <th>209030</th>\n",
       "      <td>209240</td>\n",
       "      <td>15</td>\n",
       "      <td>8.0</td>\n",
       "      <td>T (T, T/S, T/Sl, T/lS, T/Mo, TMo)</td>\n",
       "      <td>647.668114</td>\n",
       "      <td>17847.383557</td>\n",
       "      <td>POLYGON ((8.50187 49.78375, 8.50167 49.78401, ...</td>\n",
       "    </tr>\n",
       "    <tr>\n",
       "      <th>139455</th>\n",
       "      <td>139595</td>\n",
       "      <td>15</td>\n",
       "      <td>4.0</td>\n",
       "      <td>SL (SL, SL/T)</td>\n",
       "      <td>326.948863</td>\n",
       "      <td>4167.613833</td>\n",
       "      <td>POLYGON ((8.49887 49.78465, 8.49873 49.78484, ...</td>\n",
       "    </tr>\n",
       "    <tr>\n",
       "      <th>209031</th>\n",
       "      <td>209241</td>\n",
       "      <td>15</td>\n",
       "      <td>8.0</td>\n",
       "      <td>T (T, T/S, T/Sl, T/lS, T/Mo, TMo)</td>\n",
       "      <td>640.977079</td>\n",
       "      <td>12782.146321</td>\n",
       "      <td>POLYGON ((8.50186 49.78512, 8.50180 49.78514, ...</td>\n",
       "    </tr>\n",
       "    <tr>\n",
       "      <th>139471</th>\n",
       "      <td>139611</td>\n",
       "      <td>15</td>\n",
       "      <td>5.0</td>\n",
       "      <td>sL (sL, sL/S)</td>\n",
       "      <td>2037.263923</td>\n",
       "      <td>126435.744825</td>\n",
       "      <td>POLYGON ((8.49592 49.78412, 8.49576 49.78407, ...</td>\n",
       "    </tr>\n",
       "    <tr>\n",
       "      <th>34808</th>\n",
       "      <td>34843</td>\n",
       "      <td>15</td>\n",
       "      <td>4.0</td>\n",
       "      <td>SL (SL, SL/T)</td>\n",
       "      <td>808.873184</td>\n",
       "      <td>25198.048068</td>\n",
       "      <td>POLYGON ((8.49560 49.78461, 8.49553 49.78469, ...</td>\n",
       "    </tr>\n",
       "    <tr>\n",
       "      <th>...</th>\n",
       "      <td>...</td>\n",
       "      <td>...</td>\n",
       "      <td>...</td>\n",
       "      <td>...</td>\n",
       "      <td>...</td>\n",
       "      <td>...</td>\n",
       "      <td>...</td>\n",
       "    </tr>\n",
       "    <tr>\n",
       "      <th>4798</th>\n",
       "      <td>4803</td>\n",
       "      <td>662</td>\n",
       "      <td>6.0</td>\n",
       "      <td>L (L, L/S, L/Sl, L/Mo, LMo)</td>\n",
       "      <td>237.784679</td>\n",
       "      <td>1353.147252</td>\n",
       "      <td>POLYGON ((8.02208 50.00522, 8.02199 50.00532, ...</td>\n",
       "    </tr>\n",
       "    <tr>\n",
       "      <th>213441</th>\n",
       "      <td>213655</td>\n",
       "      <td>642</td>\n",
       "      <td>6.0</td>\n",
       "      <td>L (L, L/S, L/Sl, L/Mo, LMo)</td>\n",
       "      <td>125.850520</td>\n",
       "      <td>506.541376</td>\n",
       "      <td>POLYGON ((7.97757 50.00551, 7.97742 50.00585, ...</td>\n",
       "    </tr>\n",
       "    <tr>\n",
       "      <th>144698</th>\n",
       "      <td>144843</td>\n",
       "      <td>708</td>\n",
       "      <td>5.0</td>\n",
       "      <td>sL (sL, sL/S)</td>\n",
       "      <td>491.562549</td>\n",
       "      <td>9863.865450</td>\n",
       "      <td>POLYGON ((7.98951 50.00599, 7.98930 50.00593, ...</td>\n",
       "    </tr>\n",
       "    <tr>\n",
       "      <th>109288</th>\n",
       "      <td>109398</td>\n",
       "      <td>662</td>\n",
       "      <td>6.0</td>\n",
       "      <td>L (L, L/S, L/Sl, L/Mo, LMo)</td>\n",
       "      <td>336.257562</td>\n",
       "      <td>2865.579181</td>\n",
       "      <td>POLYGON ((8.01335 50.00608, 8.01325 50.00624, ...</td>\n",
       "    </tr>\n",
       "    <tr>\n",
       "      <th>3784</th>\n",
       "      <td>3788</td>\n",
       "      <td>536</td>\n",
       "      <td>4.0</td>\n",
       "      <td>SL (SL, SL/T)</td>\n",
       "      <td>6384.150221</td>\n",
       "      <td>385389.820873</td>\n",
       "      <td>POLYGON ((8.37230 50.00791, 8.37221 50.00792, ...</td>\n",
       "    </tr>\n",
       "  </tbody>\n",
       "</table>\n",
       "<p>12101 rows × 7 columns</p>\n",
       "</div>"
      ],
      "text/plain": [
       "        OBJECTID  GMKNR  WERT                           BODENART   SHAPE_Leng  \\\n",
       "209030    209240     15   8.0  T (T, T/S, T/Sl, T/lS, T/Mo, TMo)   647.668114   \n",
       "139455    139595     15   4.0                      SL (SL, SL/T)   326.948863   \n",
       "209031    209241     15   8.0  T (T, T/S, T/Sl, T/lS, T/Mo, TMo)   640.977079   \n",
       "139471    139611     15   5.0                      sL (sL, sL/S)  2037.263923   \n",
       "34808      34843     15   4.0                      SL (SL, SL/T)   808.873184   \n",
       "...          ...    ...   ...                                ...          ...   \n",
       "4798        4803    662   6.0        L (L, L/S, L/Sl, L/Mo, LMo)   237.784679   \n",
       "213441    213655    642   6.0        L (L, L/S, L/Sl, L/Mo, LMo)   125.850520   \n",
       "144698    144843    708   5.0                      sL (sL, sL/S)   491.562549   \n",
       "109288    109398    662   6.0        L (L, L/S, L/Sl, L/Mo, LMo)   336.257562   \n",
       "3784        3788    536   4.0                      SL (SL, SL/T)  6384.150221   \n",
       "\n",
       "           SHAPE_Area                                           geometry  \n",
       "209030   17847.383557  POLYGON ((8.50187 49.78375, 8.50167 49.78401, ...  \n",
       "139455    4167.613833  POLYGON ((8.49887 49.78465, 8.49873 49.78484, ...  \n",
       "209031   12782.146321  POLYGON ((8.50186 49.78512, 8.50180 49.78514, ...  \n",
       "139471  126435.744825  POLYGON ((8.49592 49.78412, 8.49576 49.78407, ...  \n",
       "34808    25198.048068  POLYGON ((8.49560 49.78461, 8.49553 49.78469, ...  \n",
       "...               ...                                                ...  \n",
       "4798      1353.147252  POLYGON ((8.02208 50.00522, 8.02199 50.00532, ...  \n",
       "213441     506.541376  POLYGON ((7.97757 50.00551, 7.97742 50.00585, ...  \n",
       "144698    9863.865450  POLYGON ((7.98951 50.00599, 7.98930 50.00593, ...  \n",
       "109288    2865.579181  POLYGON ((8.01335 50.00608, 8.01325 50.00624, ...  \n",
       "3784    385389.820873  POLYGON ((8.37230 50.00791, 8.37221 50.00792, ...  \n",
       "\n",
       "[12101 rows x 7 columns]"
      ]
     },
     "execution_count": 5,
     "metadata": {},
     "output_type": "execute_result"
    }
   ],
   "source": [
    "bfd5l_m46_subset"
   ]
  }
 ],
 "metadata": {
  "kernelspec": {
   "display_name": "Python [conda env:irrigation_detection]",
   "language": "python",
   "name": "conda-env-irrigation_detection-py"
  },
  "language_info": {
   "codemirror_mode": {
    "name": "ipython",
    "version": 3
   },
   "file_extension": ".py",
   "mimetype": "text/x-python",
   "name": "python",
   "nbconvert_exporter": "python",
   "pygments_lexer": "ipython3",
   "version": "3.9.7"
  },
  "toc": {
   "base_numbering": 1,
   "nav_menu": {},
   "number_sections": true,
   "sideBar": true,
   "skip_h1_title": false,
   "title_cell": "Table of Contents",
   "title_sidebar": "Contents",
   "toc_cell": false,
   "toc_position": {},
   "toc_section_display": true,
   "toc_window_display": false
  },
  "varInspector": {
   "cols": {
    "lenName": 16,
    "lenType": 16,
    "lenVar": 40
   },
   "kernels_config": {
    "python": {
     "delete_cmd_postfix": "",
     "delete_cmd_prefix": "del ",
     "library": "var_list.py",
     "varRefreshCmd": "print(var_dic_list())"
    },
    "r": {
     "delete_cmd_postfix": ") ",
     "delete_cmd_prefix": "rm(",
     "library": "var_list.r",
     "varRefreshCmd": "cat(var_dic_list()) "
    }
   },
   "types_to_exclude": [
    "module",
    "function",
    "builtin_function_or_method",
    "instance",
    "_Feature"
   ],
   "window_display": false
  }
 },
 "nbformat": 4,
 "nbformat_minor": 2
}
