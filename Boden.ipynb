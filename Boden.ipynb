{
 "cells": [
  {
   "cell_type": "code",
   "execution_count": null,
   "metadata": {
    "ExecuteTime": {
     "end_time": "2021-10-25T09:07:43.527173Z",
     "start_time": "2021-10-25T09:07:19.379234Z"
    }
   },
   "outputs": [],
   "source": [
    "import sys\n",
    "!conda install -c conda-forge --yes --prefix {sys.prefix} owslib rtree "
   ]
  },
  {
   "cell_type": "markdown",
   "metadata": {},
   "source": [
    "import wfs server in qgis and save data as shapefile   \n",
    "RLP: https://www.geoportal.rlp.de/linked_open_data/   \n",
    "Hessen: https://www.hlnug.de/fileadmin/dokumente/boden/BFD5L/methoden/m46.html   \n",
    "\n",
    "TOPSOIL Organic Carbon https://esdac.jrc.ec.europa.eu/tmp_dataset_access_req_50307#tabs-0-filters=1    \n"
   ]
  },
  {
   "cell_type": "code",
   "execution_count": null,
   "metadata": {
    "ExecuteTime": {
     "end_time": "2021-10-27T18:41:13.130771Z",
     "start_time": "2021-10-27T18:41:12.600584Z"
    }
   },
   "outputs": [],
   "source": [
    "import geopandas as gpd"
   ]
  },
  {
   "cell_type": "code",
   "execution_count": null,
   "metadata": {
    "ExecuteTime": {
     "end_time": "2021-10-27T18:41:59.578089Z",
     "start_time": "2021-10-27T18:41:14.803598Z"
    }
   },
   "outputs": [],
   "source": [
    "# Load shapefile exported by qgis and transform it from EPSG:25832 (ETRS89 / UTM zone 32N) to EPSG:4326 (WGS84).\n",
    "bfd5l_m46 = gpd.read_file(r'C:\\Users\\USER\\Desktop\\Master_Irrigation\\03_GIS\\BFDL_ML46\\BFD5L_ML46.shp').to_crs(epsg=4326)"
   ]
  },
  {
   "cell_type": "code",
   "execution_count": null,
   "metadata": {
    "ExecuteTime": {
     "end_time": "2021-10-27T18:41:59.665743Z",
     "start_time": "2021-10-27T18:41:59.638074Z"
    }
   },
   "outputs": [],
   "source": [
    "# Load aoi for further clipping of soil data.\n",
    "aoi = gpd.read_file(r'C:\\Users\\USER\\Desktop\\Master_Irrigation\\03_GIS\\oberrheingraben_shp\\oberrheingraben-polygon.shp')"
   ]
  },
  {
   "cell_type": "code",
   "execution_count": null,
   "metadata": {
    "ExecuteTime": {
     "end_time": "2021-10-27T18:42:38.712554Z",
     "start_time": "2021-10-27T18:42:12.414994Z"
    }
   },
   "outputs": [],
   "source": [
    "# Subset soil data.\n",
    "bfd5l_m46_subset = bfd5l_m46.clip(aoi, keep_geom_type=True)"
   ]
  },
  {
   "cell_type": "code",
   "execution_count": null,
   "metadata": {
    "ExecuteTime": {
     "end_time": "2021-10-27T18:58:10.009750Z",
     "start_time": "2021-10-27T18:58:09.978736Z"
    }
   },
   "outputs": [],
   "source": [
    "# Read LUCAS TOPSOIL data for points in Hessisches Ried.\n",
    "p_ried = gpd.read_file(r'C:\\Users\\USER\\Desktop\\Master_Irrigation\\03_GIS\\p_ried\\LTS_p_ried.shp')"
   ]
  },
  {
   "cell_type": "code",
   "execution_count": null,
   "metadata": {
    "ExecuteTime": {
     "end_time": "2021-10-27T19:01:25.889971Z",
     "start_time": "2021-10-27T19:01:25.858524Z"
    }
   },
   "outputs": [],
   "source": [
    "# Spatial join to find soilclass for LUCAS TOPSOIL points.\n",
    "p_ried = p_ried.sjoin(bfd5l_m46_subset)"
   ]
  },
  {
   "cell_type": "code",
   "execution_count": null,
   "metadata": {
    "ExecuteTime": {
     "end_time": "2021-10-27T20:02:56.056097Z",
     "start_time": "2021-10-27T20:02:56.012435Z"
    }
   },
   "outputs": [],
   "source": [
    "# Update shapefile from boden export\n",
    "#p_ried.to_file(r'C:\\Users\\USER\\Desktop\\Master_Irrigation\\03_GIS\\p_ried\\LTS_p_ried_BDF5L.shp')"
   ]
  },
  {
   "cell_type": "code",
   "execution_count": null,
   "metadata": {
    "ExecuteTime": {
     "end_time": "2021-10-27T19:22:18.395186Z",
     "start_time": "2021-10-27T19:22:17.844783Z"
    }
   },
   "outputs": [],
   "source": [
    "import hvplot.pandas"
   ]
  },
  {
   "cell_type": "code",
   "execution_count": null,
   "metadata": {},
   "outputs": [],
   "source": [
    "# Lets see if points are in polygon.\n",
    "test = bfd5l_m46_subset.loc[[276,209146,136604,205862]]"
   ]
  },
  {
   "cell_type": "code",
   "execution_count": null,
   "metadata": {
    "ExecuteTime": {
     "end_time": "2021-10-27T19:54:21.655201Z",
     "start_time": "2021-10-27T19:54:03.148650Z"
    }
   },
   "outputs": [],
   "source": [
    "# Plot soil class polygons behind p_ried spatial joined gdf.\n",
    "test.hvplot(geo=True, frame_width=600, tiles='EsriImagery',) * p_ried.hvplot(geo=True, color='orange')"
   ]
  }
 ],
 "metadata": {
  "kernelspec": {
   "display_name": "Python [conda env:irrigation_detection]",
   "language": "python",
   "name": "conda-env-irrigation_detection-py"
  },
  "language_info": {
   "codemirror_mode": {
    "name": "ipython",
    "version": 3
   },
   "file_extension": ".py",
   "mimetype": "text/x-python",
   "name": "python",
   "nbconvert_exporter": "python",
   "pygments_lexer": "ipython3",
   "version": "3.9.7"
  },
  "toc": {
   "base_numbering": 1,
   "nav_menu": {},
   "number_sections": true,
   "sideBar": true,
   "skip_h1_title": false,
   "title_cell": "Table of Contents",
   "title_sidebar": "Contents",
   "toc_cell": false,
   "toc_position": {},
   "toc_section_display": true,
   "toc_window_display": false
  },
  "varInspector": {
   "cols": {
    "lenName": 16,
    "lenType": 16,
    "lenVar": 40
   },
   "kernels_config": {
    "python": {
     "delete_cmd_postfix": "",
     "delete_cmd_prefix": "del ",
     "library": "var_list.py",
     "varRefreshCmd": "print(var_dic_list())"
    },
    "r": {
     "delete_cmd_postfix": ") ",
     "delete_cmd_prefix": "rm(",
     "library": "var_list.r",
     "varRefreshCmd": "cat(var_dic_list()) "
    }
   },
   "types_to_exclude": [
    "module",
    "function",
    "builtin_function_or_method",
    "instance",
    "_Feature"
   ],
   "window_display": false
  }
 },
 "nbformat": 4,
 "nbformat_minor": 2
}
