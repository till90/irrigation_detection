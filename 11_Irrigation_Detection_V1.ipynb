{
 "cells": [
  {
   "cell_type": "code",
   "execution_count": 2,
   "metadata": {
    "ExecuteTime": {
     "end_time": "2021-12-11T19:33:25.854234Z",
     "start_time": "2021-12-11T19:33:23.253488Z"
    }
   },
   "outputs": [],
   "source": [
    "import geopandas as gpd\n",
    "import pandas as pd\n",
    "import xarray as xr\n",
    "import numpy as np\n",
    "from tqdm import tqdm"
   ]
  },
  {
   "cell_type": "markdown",
   "metadata": {},
   "source": [
    "## Use Export_ImageCollection_fromGee notebook data to detect irrigation events"
   ]
  },
  {
   "cell_type": "code",
   "execution_count": null,
   "metadata": {},
   "outputs": [],
   "source": []
  },
  {
   "cell_type": "markdown",
   "metadata": {},
   "source": [
    "## Use Sentinel_1_grd notebook data to detect irrigation events"
   ]
  },
  {
   "cell_type": "code",
   "execution_count": 2,
   "metadata": {
    "ExecuteTime": {
     "end_time": "2021-11-28T19:35:43.323933Z",
     "start_time": "2021-11-28T13:13:59.655664Z"
    }
   },
   "outputs": [
    {
     "name": "stderr",
     "output_type": "stream",
     "text": [
      "100%|████████████████████████████████████████████████████████████████████████████| 2728/2728 [2:26:11<00:00,  3.22s/it]\n",
      "100%|████████████████████████████████████████████████████████████████████████████| 2280/2280 [1:52:53<00:00,  2.97s/it]\n",
      "100%|████████████████████████████████████████████████████████████████████████████| 1360/1360 [1:07:45<00:00,  2.99s/it]\n",
      "100%|██████████████████████████████████████████████████████████████████████████████| 1064/1064 [53:18<00:00,  3.01s/it]\n"
     ]
    }
   ],
   "source": [
    "path = r'C:/Users/USER/Desktop/Master_Irrigation/03_GIS/idm_test/whr_s1_ndvi30.geojson'\n",
    "gdf = gpd.read_file(path).iloc[:,1:]\n",
    "\n",
    "#Create 4 Groups of similiar conditions and sort time series afte patch numbers\n",
    "ms1 = gdf[(gdf['sentinel'] == 'A') & (gdf['orbit'] == 'descending')].sort_values(['patch','date'])\n",
    "ms2 = gdf[(gdf['sentinel'] == 'B') & (gdf['orbit'] == 'descending')].sort_values(['patch','date'])\n",
    "as1 = gdf[(gdf['sentinel'] == 'A') & (gdf['orbit'] == 'ascending')].sort_values(['patch','date'])\n",
    "as2 = gdf[(gdf['sentinel'] == 'B') & (gdf['orbit'] == 'ascending')].sort_values(['patch','date'])\n",
    "\n",
    "def add_change(gdf, column):\n",
    "    col_name = '%s_change' %(column)\n",
    "    gdf[col_name] = gdf[column] - gdf.shift(1)[column]\n",
    "    return gdf\n",
    "\n",
    "def add_enviromental_data(gdf):\n",
    "    EVAPO_R = xr.open_dataset(r'C:\\Users\\USER\\Desktop\\Master_Irrigation\\03_GIS\\datasets\\EVAPOTRANSPIRATION_REAL.nc')\n",
    "    RADOLAN = xr.open_dataset(r'C:\\Users\\USER\\Desktop\\Master_Irrigation\\03_GIS\\datasets\\RADOLAN_1km.nc')\n",
    "    \n",
    "    precipitation = list()\n",
    "    evapo_r = list()\n",
    "    \n",
    "    df_pp = RADOLAN.SF.to_dataframe().reset_index()\n",
    "    gdf_pp = gpd.GeoDataFrame(df_pp, geometry=gpd.points_from_xy(df_pp.lon,df_pp.lat))\n",
    "    \n",
    "    #iter through \n",
    "    for i, row_ini, row_next in zip(tqdm(range(len(gdf))),gdf.itertuples(),gdf.shift(-1).itertuples()):\n",
    "        date_ini = row_ini.date\n",
    "        date_next = row_next.date\n",
    "        point = (row_ini.geometry.centroid.x, row_ini.geometry.centroid.y)\n",
    "        try:\n",
    "            precipitation.append(gdf_pp[(gdf_pp.within(row_ini.geometry)) & (gdf_pp.time >= date_ini) & (gdf_pp.time <= date_next)].groupby('time').mean()['SF'].sum())\n",
    "            evapo_r.append(float(EVAPO_R.sel(lon=point[0], lat=point[1], method='nearest').sel(time=slice(date_ini, date_next)).evapo_r.mean()))\n",
    "        except:\n",
    "            precipitation.append(-999)\n",
    "            evapo_r.append(-999)\n",
    "    gdf['evapotranspiration_real'] = evapo_r\n",
    "    gdf['precipitation'] = precipitation\n",
    "    gdf[['evapotranspiration_real','precipitation']] = gdf[['evapotranspiration_real','precipitation']].shift(1)\n",
    "    return gdf\n",
    "\n",
    "ms1 = add_change(ms1,'VV')\n",
    "ms2 = add_change(ms2,'VV')\n",
    "as1 = add_change(as1,'VV')\n",
    "as2 = add_change(as2,'VV')\n",
    "\n",
    "ms1 = add_enviromental_data(ms1)\n",
    "ms2 = add_enviromental_data(ms2)\n",
    "as1 = add_enviromental_data(as1)\n",
    "as2 = add_enviromental_data(as2)\n",
    "\n",
    "gdf = gpd.GeoDataFrame(pd.concat([ms1,ms2,as1,as2]))\n",
    "gdf.dropna(inplace=True)\n",
    "gdf = gdf.astype({'patch': 'int', 'sentinel': 'string', 'orbit': 'string', 'identifier': 'string'})\n",
    "gdf['date'] = pd.to_datetime(gdf['date'])\n",
    "gdf.to_file(r'C:/Users/USER/Desktop/Master_Irrigation/03_GIS/idm_test/whr_s1_ndvi30_full.geojson')\n"
   ]
  },
  {
   "cell_type": "code",
   "execution_count": 4,
   "metadata": {
    "ExecuteTime": {
     "end_time": "2021-12-11T19:33:53.081389Z",
     "start_time": "2021-12-11T19:33:53.037010Z"
    }
   },
   "outputs": [
    {
     "data": {
      "text/html": [
       "<div>\n",
       "<style scoped>\n",
       "    .dataframe tbody tr th:only-of-type {\n",
       "        vertical-align: middle;\n",
       "    }\n",
       "\n",
       "    .dataframe tbody tr th {\n",
       "        vertical-align: top;\n",
       "    }\n",
       "\n",
       "    .dataframe thead th {\n",
       "        text-align: right;\n",
       "    }\n",
       "</style>\n",
       "<table border=\"1\" class=\"dataframe\">\n",
       "  <thead>\n",
       "    <tr style=\"text-align: right;\">\n",
       "      <th></th>\n",
       "      <th>id</th>\n",
       "      <th>Map</th>\n",
       "      <th>NDVI</th>\n",
       "      <th>geometry</th>\n",
       "    </tr>\n",
       "  </thead>\n",
       "  <tbody>\n",
       "    <tr>\n",
       "      <th>0</th>\n",
       "      <td>S1A_IW_GRDH_1SDV_20160302T054202_20160302T0542...</td>\n",
       "      <td>NaN</td>\n",
       "      <td>NaN</td>\n",
       "      <td>POLYGON ((8.50042 49.93947, 8.50000 49.93861, ...</td>\n",
       "    </tr>\n",
       "    <tr>\n",
       "      <th>1</th>\n",
       "      <td>S1A_IW_GRDH_1SDV_20160305T171543_20160305T1716...</td>\n",
       "      <td>NaN</td>\n",
       "      <td>NaN</td>\n",
       "      <td>POLYGON ((8.50042 49.93947, 8.50000 49.93861, ...</td>\n",
       "    </tr>\n",
       "    <tr>\n",
       "      <th>2</th>\n",
       "      <td>S1A_IW_GRDH_1SDV_20160309T053351_20160309T0534...</td>\n",
       "      <td>NaN</td>\n",
       "      <td>NaN</td>\n",
       "      <td>POLYGON ((8.50042 49.93947, 8.50000 49.93861, ...</td>\n",
       "    </tr>\n",
       "    <tr>\n",
       "      <th>3</th>\n",
       "      <td>S1A_IW_GRDH_1SDV_20160314T054155_20160314T0542...</td>\n",
       "      <td>40.0</td>\n",
       "      <td>0.104943</td>\n",
       "      <td>POLYGON ((8.50042 49.93947, 8.50000 49.93861, ...</td>\n",
       "    </tr>\n",
       "    <tr>\n",
       "      <th>4</th>\n",
       "      <td>S1A_IW_GRDH_1SDV_20160321T053402_20160321T0534...</td>\n",
       "      <td>40.0</td>\n",
       "      <td>0.104943</td>\n",
       "      <td>POLYGON ((8.50042 49.93947, 8.50000 49.93861, ...</td>\n",
       "    </tr>\n",
       "    <tr>\n",
       "      <th>...</th>\n",
       "      <td>...</td>\n",
       "      <td>...</td>\n",
       "      <td>...</td>\n",
       "      <td>...</td>\n",
       "    </tr>\n",
       "    <tr>\n",
       "      <th>915</th>\n",
       "      <td>S1B_IW_GRDH_1SDV_20211011T171556_20211011T1716...</td>\n",
       "      <td>40.0</td>\n",
       "      <td>0.271385</td>\n",
       "      <td>POLYGON ((8.50042 49.93947, 8.50000 49.93861, ...</td>\n",
       "    </tr>\n",
       "    <tr>\n",
       "      <th>916</th>\n",
       "      <td>S1B_IW_GRDH_1SDV_20211015T053349_20211015T0534...</td>\n",
       "      <td>40.0</td>\n",
       "      <td>0.271385</td>\n",
       "      <td>POLYGON ((8.50042 49.93947, 8.50000 49.93861, ...</td>\n",
       "    </tr>\n",
       "    <tr>\n",
       "      <th>917</th>\n",
       "      <td>S1B_IW_GRDH_1SDV_20211020T054156_20211020T0542...</td>\n",
       "      <td>40.0</td>\n",
       "      <td>0.167487</td>\n",
       "      <td>POLYGON ((8.50042 49.93947, 8.50000 49.93861, ...</td>\n",
       "    </tr>\n",
       "    <tr>\n",
       "      <th>918</th>\n",
       "      <td>S1B_IW_GRDH_1SDV_20211023T171557_20211023T1716...</td>\n",
       "      <td>40.0</td>\n",
       "      <td>0.167487</td>\n",
       "      <td>POLYGON ((8.50042 49.93947, 8.50000 49.93861, ...</td>\n",
       "    </tr>\n",
       "    <tr>\n",
       "      <th>919</th>\n",
       "      <td>S1B_IW_GRDH_1SDV_20211027T053349_20211027T0534...</td>\n",
       "      <td>40.0</td>\n",
       "      <td>0.167487</td>\n",
       "      <td>POLYGON ((8.50042 49.93947, 8.50000 49.93861, ...</td>\n",
       "    </tr>\n",
       "  </tbody>\n",
       "</table>\n",
       "<p>920 rows × 4 columns</p>\n",
       "</div>"
      ],
      "text/plain": [
       "                                                    id   Map      NDVI  \\\n",
       "0    S1A_IW_GRDH_1SDV_20160302T054202_20160302T0542...   NaN       NaN   \n",
       "1    S1A_IW_GRDH_1SDV_20160305T171543_20160305T1716...   NaN       NaN   \n",
       "2    S1A_IW_GRDH_1SDV_20160309T053351_20160309T0534...   NaN       NaN   \n",
       "3    S1A_IW_GRDH_1SDV_20160314T054155_20160314T0542...  40.0  0.104943   \n",
       "4    S1A_IW_GRDH_1SDV_20160321T053402_20160321T0534...  40.0  0.104943   \n",
       "..                                                 ...   ...       ...   \n",
       "915  S1B_IW_GRDH_1SDV_20211011T171556_20211011T1716...  40.0  0.271385   \n",
       "916  S1B_IW_GRDH_1SDV_20211015T053349_20211015T0534...  40.0  0.271385   \n",
       "917  S1B_IW_GRDH_1SDV_20211020T054156_20211020T0542...  40.0  0.167487   \n",
       "918  S1B_IW_GRDH_1SDV_20211023T171557_20211023T1716...  40.0  0.167487   \n",
       "919  S1B_IW_GRDH_1SDV_20211027T053349_20211027T0534...  40.0  0.167487   \n",
       "\n",
       "                                              geometry  \n",
       "0    POLYGON ((8.50042 49.93947, 8.50000 49.93861, ...  \n",
       "1    POLYGON ((8.50042 49.93947, 8.50000 49.93861, ...  \n",
       "2    POLYGON ((8.50042 49.93947, 8.50000 49.93861, ...  \n",
       "3    POLYGON ((8.50042 49.93947, 8.50000 49.93861, ...  \n",
       "4    POLYGON ((8.50042 49.93947, 8.50000 49.93861, ...  \n",
       "..                                                 ...  \n",
       "915  POLYGON ((8.50042 49.93947, 8.50000 49.93861, ...  \n",
       "916  POLYGON ((8.50042 49.93947, 8.50000 49.93861, ...  \n",
       "917  POLYGON ((8.50042 49.93947, 8.50000 49.93861, ...  \n",
       "918  POLYGON ((8.50042 49.93947, 8.50000 49.93861, ...  \n",
       "919  POLYGON ((8.50042 49.93947, 8.50000 49.93861, ...  \n",
       "\n",
       "[920 rows x 4 columns]"
      ]
     },
     "execution_count": 4,
     "metadata": {},
     "output_type": "execute_result"
    }
   ],
   "source": [
    "ds_plot"
   ]
  },
  {
   "cell_type": "code",
   "execution_count": 5,
   "metadata": {
    "ExecuteTime": {
     "end_time": "2021-12-11T21:47:33.069466Z",
     "start_time": "2021-12-11T21:47:32.010478Z"
    }
   },
   "outputs": [],
   "source": [
    "#Time Series iteration to append change value p\n",
    "path_plot = 'C://Users/USER/Desktop/Master_Irrigation/03_GIS/gg_test_field/plot/gg_test_field_1_plot.geojson'\n",
    "path_grid = 'C://Users/USER/Desktop/Master_Irrigation/03_GIS/gg_test_field/grid/gg_test_field_1_grid.geojson'\n",
    "\n",
    "ds_plot = gpd.read_file(path_plot)\n",
    "ds_grid = gpd.read_file(path_grid)\n",
    "merged = ds_plot.merge(ds_grid, on='date', suffixes=('_p', '_g'))[[\"id_p\",\"VH_p\",\"VV_p\",\"angle_p\",\"date\" ,\"sentinel_p\",\"orbit_p\",\"geometry_p\",\"VH_g\",\"VV_g\",\"angle_g\",\"geometry_p\"]]"
   ]
  },
  {
   "cell_type": "code",
   "execution_count": 6,
   "metadata": {
    "ExecuteTime": {
     "end_time": "2021-12-11T21:48:15.001475Z",
     "start_time": "2021-12-11T21:48:13.723605Z"
    }
   },
   "outputs": [],
   "source": [
    "# p value\n",
    "p = []\n",
    "deltapairs = []\n",
    "# For each value and value + 1 stop 1 before to produce last delta\n",
    "for index, row in merged[:].iterrows():\n",
    "    try:\n",
    "        p1 = merged[merged.index == index + 1]['VV_p']\n",
    "        p2 = row['VV_p']\n",
    "        deltap = p2 - p1\n",
    "        deltap = float(deltap)\n",
    "        g1 = merged[merged.index == index + 1]['VV_g']\n",
    "        g2 = row['VV_g']\n",
    "        deltag = g2-g1\n",
    "        deltag = float(deltag)\n",
    "        deltapairs.append((deltap,deltag))\n",
    "        #decrease p = drought, increase g = rain\n",
    "        if deltap <= 0 or deltag >= 1: # Decrease in plot == drought, increase in grid == rainfall\n",
    "            p.append(0)\n",
    "        elif deltap < 0.5 and deltag <= 1: # and ssm > 20%Vol:\n",
    "            p.append(25)\n",
    "        elif 0 <= deltap <= 1 and deltag <= 0.5:\n",
    "            p.append(50)\n",
    "        elif deltap >= 1 and deltag < 0.5:\n",
    "            p.append(100)\n",
    "        else:\n",
    "            p.append(-999)  \n",
    "    except:\n",
    "        p.append(-999)\n",
    "\n",
    "merged['p'] = p"
   ]
  },
  {
   "cell_type": "code",
   "execution_count": 7,
   "metadata": {
    "ExecuteTime": {
     "end_time": "2021-12-11T21:48:17.796703Z",
     "start_time": "2021-12-11T21:48:17.786731Z"
    }
   },
   "outputs": [],
   "source": [
    "merged['date'] = pd.to_datetime(merged['date'])\n",
    "merged.set_index('date', inplace=True)"
   ]
  },
  {
   "cell_type": "code",
   "execution_count": 8,
   "metadata": {
    "ExecuteTime": {
     "end_time": "2021-12-11T21:48:19.207294Z",
     "start_time": "2021-12-11T21:48:19.186054Z"
    }
   },
   "outputs": [
    {
     "data": {
      "text/plain": [
       "date\n",
       "2016-03-14 05:41:55      0\n",
       "2016-03-21 05:34:02      0\n",
       "2016-03-29 17:15:43      0\n",
       "2016-04-02 05:33:52    100\n",
       "2016-04-07 05:41:59      0\n",
       "                      ... \n",
       "2021-10-08 05:41:55      0\n",
       "2021-10-11 17:15:56      0\n",
       "2021-10-15 05:33:49      0\n",
       "2021-10-20 05:41:56      0\n",
       "2021-10-23 17:15:57     25\n",
       "Name: p, Length: 808, dtype: int64"
      ]
     },
     "execution_count": 8,
     "metadata": {},
     "output_type": "execute_result"
    }
   ],
   "source": [
    "merged['p'][merged['p'] >= 0]"
   ]
  },
  {
   "cell_type": "code",
   "execution_count": 11,
   "metadata": {
    "ExecuteTime": {
     "end_time": "2021-12-11T21:53:06.810201Z",
     "start_time": "2021-12-11T21:53:06.050214Z"
    }
   },
   "outputs": [
    {
     "data": {
      "text/plain": [
       "(<Figure size 900x734.4 with 7 Axes>,\n",
       " array([<AxesSubplot:ylabel='2016'>, <AxesSubplot:ylabel='2017'>,\n",
       "        <AxesSubplot:ylabel='2018'>, <AxesSubplot:ylabel='2019'>,\n",
       "        <AxesSubplot:ylabel='2020'>, <AxesSubplot:ylabel='2021'>],\n",
       "       dtype=object))"
      ]
     },
     "execution_count": 11,
     "metadata": {},
     "output_type": "execute_result"
    },
    {
     "data": {
      "image/png": "[encoded data removed]",
      "text/plain": [
       "<Figure size 900x734.4 with 7 Axes>"
      ]
     },
     "metadata": {
      "needs_background": "light"
     },
     "output_type": "display_data"
    }
   ],
   "source": [
    "import calplot\n",
    "import numpy as np\n",
    "import pandas as pd\n",
    "all_days = pd.date_range('1/3/2016', periods=365, freq='D')\n",
    "days = merged.index\n",
    "events = merged['p'][merged['p'] >= 0]\n",
    "calplot.calplot(events, cmap='ocean_r', vmin=0)"
   ]
  },
  {
   "cell_type": "code",
   "execution_count": null,
   "metadata": {
    "ExecuteTime": {
     "end_time": "2021-11-20T20:35:52.916535Z",
     "start_time": "2021-11-20T20:35:52.743406Z"
    }
   },
   "outputs": [],
   "source": [
    "import matplotlib as mpl\n",
    "import matplotlib.pyplot as plt\n",
    "import calmap\n",
    "\n",
    "# Plot\n",
    "plt.figure(figsize=(16,10), dpi= 80)\n",
    "calmap.calendarplot(merged['p'],fig_kws={'figsize': (16,10)},cmap='YlGn', monthticks=3,dayticks=[0,2,4])\n",
    "plt.show()"
   ]
  },
  {
   "cell_type": "code",
   "execution_count": null,
   "metadata": {
    "ExecuteTime": {
     "end_time": "2021-11-20T20:23:27.265666Z",
     "start_time": "2021-11-20T20:23:27.229664Z"
    }
   },
   "outputs": [],
   "source": [
    "merged[merged['p'] == -999]"
   ]
  },
  {
   "cell_type": "code",
   "execution_count": null,
   "metadata": {
    "ExecuteTime": {
     "end_time": "2021-11-19T21:05:32.153649Z",
     "start_time": "2021-11-19T21:05:32.129065Z"
    }
   },
   "outputs": [],
   "source": [
    "merged = ds_plot.merge(ds_grid, on='date', suffixes=('_p', '_g'))"
   ]
  },
  {
   "cell_type": "code",
   "execution_count": null,
   "metadata": {
    "ExecuteTime": {
     "end_time": "2021-11-19T21:05:37.547571Z",
     "start_time": "2021-11-19T21:05:37.523604Z"
    }
   },
   "outputs": [],
   "source": [
    "merged"
   ]
  }
 ],
 "metadata": {
  "kernelspec": {
   "display_name": "Python [conda env:irrigation_detection]",
   "language": "python",
   "name": "conda-env-irrigation_detection-py"
  },
  "language_info": {
   "codemirror_mode": {
    "name": "ipython",
    "version": 3
   },
   "file_extension": ".py",
   "mimetype": "text/x-python",
   "name": "python",
   "nbconvert_exporter": "python",
   "pygments_lexer": "ipython3",
   "version": "3.9.7"
  },
  "toc": {
   "base_numbering": 1,
   "nav_menu": {},
   "number_sections": true,
   "sideBar": true,
   "skip_h1_title": false,
   "title_cell": "Table of Contents",
   "title_sidebar": "Contents",
   "toc_cell": false,
   "toc_position": {},
   "toc_section_display": true,
   "toc_window_display": false
  },
  "varInspector": {
   "cols": {
    "lenName": 16,
    "lenType": 16,
    "lenVar": 40
   },
   "kernels_config": {
    "python": {
     "delete_cmd_postfix": "",
     "delete_cmd_prefix": "del ",
     "library": "var_list.py",
     "varRefreshCmd": "print(var_dic_list())"
    },
    "r": {
     "delete_cmd_postfix": ") ",
     "delete_cmd_prefix": "rm(",
     "library": "var_list.r",
     "varRefreshCmd": "cat(var_dic_list()) "
    }
   },
   "position": {
    "height": "599.85px",
    "left": "1587px",
    "right": "20px",
    "top": "139px",
    "width": "357px"
   },
   "types_to_exclude": [
    "module",
    "function",
    "builtin_function_or_method",
    "instance",
    "_Feature"
   ],
   "window_display": true
  }
 },
 "nbformat": 4,
 "nbformat_minor": 2
}
