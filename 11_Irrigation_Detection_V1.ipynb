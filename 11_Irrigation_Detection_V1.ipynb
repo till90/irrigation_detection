{
 "cells": [
  {
   "cell_type": "code",
   "execution_count": 1,
   "metadata": {
    "ExecuteTime": {
     "end_time": "2021-11-28T13:13:39.875789Z",
     "start_time": "2021-11-28T13:13:35.952462Z"
    }
   },
   "outputs": [],
   "source": [
    "import geopandas as gpd\n",
    "import pandas as pd\n",
    "import xarray as xr\n",
    "import numpy as np\n",
    "from tqdm import tqdm"
   ]
  },
  {
   "cell_type": "markdown",
   "metadata": {},
   "source": [
    "## Use Sentinel_1_grd notebook data to detect irrigation events"
   ]
  },
  {
   "cell_type": "code",
   "execution_count": 2,
   "metadata": {
    "ExecuteTime": {
     "end_time": "2021-11-28T19:35:43.323933Z",
     "start_time": "2021-11-28T13:13:59.655664Z"
    }
   },
   "outputs": [
    {
     "name": "stderr",
     "output_type": "stream",
     "text": [
      "100%|████████████████████████████████████████████████████████████████████████████| 2728/2728 [2:26:11<00:00,  3.22s/it]\n",
      "100%|████████████████████████████████████████████████████████████████████████████| 2280/2280 [1:52:53<00:00,  2.97s/it]\n",
      "100%|████████████████████████████████████████████████████████████████████████████| 1360/1360 [1:07:45<00:00,  2.99s/it]\n",
      "100%|██████████████████████████████████████████████████████████████████████████████| 1064/1064 [53:18<00:00,  3.01s/it]\n"
     ]
    }
   ],
   "source": [
    "path = r'C:/Users/USER/Desktop/Master_Irrigation/03_GIS/idm_test/whr_s1_ndvi30.geojson'\n",
    "gdf = gpd.read_file(path).iloc[:,1:]\n",
    "\n",
    "#Create 4 Groups of similiar conditions and sort time series afte patch numbers\n",
    "ms1 = gdf[(gdf['sentinel'] == 'A') & (gdf['orbit'] == 'descending')].sort_values(['patch','date'])\n",
    "ms2 = gdf[(gdf['sentinel'] == 'B') & (gdf['orbit'] == 'descending')].sort_values(['patch','date'])\n",
    "as1 = gdf[(gdf['sentinel'] == 'A') & (gdf['orbit'] == 'ascending')].sort_values(['patch','date'])\n",
    "as2 = gdf[(gdf['sentinel'] == 'B') & (gdf['orbit'] == 'ascending')].sort_values(['patch','date'])\n",
    "\n",
    "def add_change(gdf, column):\n",
    "    col_name = '%s_change' %(column)\n",
    "    gdf[col_name] = gdf[column] - gdf.shift(1)[column]\n",
    "    return gdf\n",
    "\n",
    "def add_enviromental_data(gdf):\n",
    "    EVAPO_R = xr.open_dataset(r'C:\\Users\\USER\\Desktop\\Master_Irrigation\\03_GIS\\datasets\\EVAPOTRANSPIRATION_REAL.nc')\n",
    "    RADOLAN = xr.open_dataset(r'C:\\Users\\USER\\Desktop\\Master_Irrigation\\03_GIS\\datasets\\RADOLAN_1km.nc')\n",
    "    \n",
    "    precipitation = list()\n",
    "    evapo_r = list()\n",
    "    \n",
    "    df_pp = RADOLAN.SF.to_dataframe().reset_index()\n",
    "    gdf_pp = gpd.GeoDataFrame(df_pp, geometry=gpd.points_from_xy(df_pp.lon,df_pp.lat))\n",
    "    \n",
    "    #iter through \n",
    "    for i, row_ini, row_next in zip(tqdm(range(len(gdf))),gdf.itertuples(),gdf.shift(-1).itertuples()):\n",
    "        date_ini = row_ini.date\n",
    "        date_next = row_next.date\n",
    "        point = (row_ini.geometry.centroid.x, row_ini.geometry.centroid.y)\n",
    "        try:\n",
    "            precipitation.append(gdf_pp[(gdf_pp.within(row_ini.geometry)) & (gdf_pp.time >= date_ini) & (gdf_pp.time <= date_next)].groupby('time').mean()['SF'].sum())\n",
    "            evapo_r.append(float(EVAPO_R.sel(lon=point[0], lat=point[1], method='nearest').sel(time=slice(date_ini, date_next)).evapo_r.mean()))\n",
    "        except:\n",
    "            precipitation.append(-999)\n",
    "            evapo_r.append(-999)\n",
    "    gdf['evapotranspiration_real'] = evapo_r\n",
    "    gdf['precipitation'] = precipitation\n",
    "    gdf[['evapotranspiration_real','precipitation']] = gdf[['evapotranspiration_real','precipitation']].shift(1)\n",
    "    return gdf\n",
    "\n",
    "ms1 = add_change(ms1,'VV')\n",
    "ms2 = add_change(ms2,'VV')\n",
    "as1 = add_change(as1,'VV')\n",
    "as2 = add_change(as2,'VV')\n",
    "\n",
    "ms1 = add_enviromental_data(ms1)\n",
    "ms2 = add_enviromental_data(ms2)\n",
    "as1 = add_enviromental_data(as1)\n",
    "as2 = add_enviromental_data(as2)\n",
    "\n",
    "gdf = gpd.GeoDataFrame(pd.concat([ms1,ms2,as1,as2]))\n",
    "gdf.dropna(inplace=True)\n",
    "gdf = gdf.astype({'patch': 'int', 'sentinel': 'string', 'orbit': 'string', 'identifier': 'string'})\n",
    "gdf['date'] = pd.to_datetime(gdf['date'])\n",
    "gdf.to_file(r'C:/Users/USER/Desktop/Master_Irrigation/03_GIS/idm_test/whr_s1_ndvi30_full.geojson')\n"
   ]
  },
  {
   "cell_type": "code",
   "execution_count": null,
   "metadata": {
    "ExecuteTime": {
     "end_time": "2021-11-20T20:28:51.732811Z",
     "start_time": "2021-11-20T20:28:51.686933Z"
    }
   },
   "outputs": [],
   "source": [
    "#Time Series iteration to append change value p\n",
    "path_plot = 'C://Users/USER/Desktop/Master_Irrigation/03_GIS/idm_test/test_field_ts2018_grid.geojson'\n",
    "path_grid = 'C://Users/USER/Desktop/Master_Irrigation/03_GIS/idm_test/test_field_ts2018_plot.geojson'\n",
    "\n",
    "ds_plot = gpd.read_file(path_plot)\n",
    "ds_grid = gpd.read_file(path_grid)\n",
    "merged = ds_plot.merge(ds_grid, on='date', suffixes=('_p', '_g'))[[\"id_p\",\"VH_p\",\"VV_p\",\"angle_p\",\"date\" ,\"sentinel_p\",\"orbit_p\",\"geometry_p\",\"VH_g\",\"VV_g\",\"angle_g\",\"geometry_p\"]]"
   ]
  },
  {
   "cell_type": "code",
   "execution_count": null,
   "metadata": {
    "ExecuteTime": {
     "end_time": "2021-11-20T20:29:05.876290Z",
     "start_time": "2021-11-20T20:29:05.718824Z"
    }
   },
   "outputs": [],
   "source": [
    "# p value\n",
    "p = []\n",
    "deltapairs = []\n",
    "# For each value and value + 1 stop 1 before to produce last delta\n",
    "for index, row in merged[:].iterrows():\n",
    "    try:\n",
    "        p1 = merged[merged.index == index + 1]['VV_p']\n",
    "        p2 = row['VV_p']\n",
    "        deltap = p2 - p1\n",
    "        deltap = float(deltap)\n",
    "        g1 = merged[merged.index == index + 1]['VV_g']\n",
    "        g2 = row['VV_g']\n",
    "        deltag = g2-g1\n",
    "        deltag = float(deltag)\n",
    "        deltapairs.append((deltap,deltag))\n",
    "        #decrease p = drought, increase g = rain\n",
    "        if deltap <= 0 or deltag >= 1: # Decrease in plot == drought, increase in grid == rainfall\n",
    "            p.append(0)\n",
    "        elif deltap < 0.5 and deltag <= 1: # and ssm > 20%Vol:\n",
    "            p.append(25)\n",
    "        elif 0 <= deltap <= 1 and deltag <= 0.5:\n",
    "            p.append(50)\n",
    "        elif deltap >= 1 and deltag < 0.5:\n",
    "            p.append(100)\n",
    "        else:\n",
    "            p.append(-999)  \n",
    "    except:\n",
    "        p.append(-999)\n",
    "\n",
    "merged['p'] = p"
   ]
  },
  {
   "cell_type": "code",
   "execution_count": null,
   "metadata": {
    "ExecuteTime": {
     "end_time": "2021-11-20T20:29:41.087005Z",
     "start_time": "2021-11-20T20:29:41.079000Z"
    }
   },
   "outputs": [],
   "source": [
    "merged['date'] = pd.to_datetime(merged['date'])\n",
    "merged.set_index('date', inplace=True)"
   ]
  },
  {
   "cell_type": "code",
   "execution_count": null,
   "metadata": {
    "ExecuteTime": {
     "end_time": "2021-11-20T20:50:15.467505Z",
     "start_time": "2021-11-20T20:50:15.447257Z"
    }
   },
   "outputs": [],
   "source": [
    "merged['p'][merged['p'] >= 0]"
   ]
  },
  {
   "cell_type": "code",
   "execution_count": null,
   "metadata": {
    "ExecuteTime": {
     "end_time": "2021-11-20T20:55:54.392618Z",
     "start_time": "2021-11-20T20:55:54.200606Z"
    }
   },
   "outputs": [],
   "source": [
    "import calplot\n",
    "import numpy as np\n",
    "import pandas as pd\n",
    "all_days = pd.date_range('1/1/2018', periods=365, freq='D')\n",
    "days = merged.index\n",
    "events = merged['p'][merged['p'] >= 0]\n",
    "calplot.calplot(events, cmap='ocean_r', vmin=-50)"
   ]
  },
  {
   "cell_type": "code",
   "execution_count": null,
   "metadata": {
    "ExecuteTime": {
     "end_time": "2021-11-20T20:35:52.916535Z",
     "start_time": "2021-11-20T20:35:52.743406Z"
    }
   },
   "outputs": [],
   "source": [
    "import matplotlib as mpl\n",
    "import matplotlib.pyplot as plt\n",
    "import calmap\n",
    "\n",
    "# Plot\n",
    "plt.figure(figsize=(16,10), dpi= 80)\n",
    "calmap.calendarplot(merged['p'],fig_kws={'figsize': (16,10)},cmap='YlGn', monthticks=3,dayticks=[0,2,4])\n",
    "plt.show()"
   ]
  },
  {
   "cell_type": "code",
   "execution_count": null,
   "metadata": {
    "ExecuteTime": {
     "end_time": "2021-11-20T20:23:27.265666Z",
     "start_time": "2021-11-20T20:23:27.229664Z"
    }
   },
   "outputs": [],
   "source": [
    "merged[merged['p'] == -999]"
   ]
  },
  {
   "cell_type": "code",
   "execution_count": null,
   "metadata": {
    "ExecuteTime": {
     "end_time": "2021-11-19T21:05:32.153649Z",
     "start_time": "2021-11-19T21:05:32.129065Z"
    }
   },
   "outputs": [],
   "source": [
    "merged = ds_plot.merge(ds_grid, on='date', suffixes=('_p', '_g'))"
   ]
  },
  {
   "cell_type": "code",
   "execution_count": null,
   "metadata": {
    "ExecuteTime": {
     "end_time": "2021-11-19T21:05:37.547571Z",
     "start_time": "2021-11-19T21:05:37.523604Z"
    }
   },
   "outputs": [],
   "source": [
    "merged"
   ]
  }
 ],
 "metadata": {
  "kernelspec": {
   "display_name": "Python [conda env:irrigation_detection]",
   "language": "python",
   "name": "conda-env-irrigation_detection-py"
  },
  "language_info": {
   "codemirror_mode": {
    "name": "ipython",
    "version": 3
   },
   "file_extension": ".py",
   "mimetype": "text/x-python",
   "name": "python",
   "nbconvert_exporter": "python",
   "pygments_lexer": "ipython3",
   "version": "3.9.7"
  },
  "toc": {
   "base_numbering": 1,
   "nav_menu": {},
   "number_sections": true,
   "sideBar": true,
   "skip_h1_title": false,
   "title_cell": "Table of Contents",
   "title_sidebar": "Contents",
   "toc_cell": false,
   "toc_position": {},
   "toc_section_display": true,
   "toc_window_display": false
  },
  "varInspector": {
   "cols": {
    "lenName": 16,
    "lenType": 16,
    "lenVar": 40
   },
   "kernels_config": {
    "python": {
     "delete_cmd_postfix": "",
     "delete_cmd_prefix": "del ",
     "library": "var_list.py",
     "varRefreshCmd": "print(var_dic_list())"
    },
    "r": {
     "delete_cmd_postfix": ") ",
     "delete_cmd_prefix": "rm(",
     "library": "var_list.r",
     "varRefreshCmd": "cat(var_dic_list()) "
    }
   },
   "position": {
    "height": "599.85px",
    "left": "1587px",
    "right": "20px",
    "top": "139px",
    "width": "357px"
   },
   "types_to_exclude": [
    "module",
    "function",
    "builtin_function_or_method",
    "instance",
    "_Feature"
   ],
   "window_display": true
  }
 },
 "nbformat": 4,
 "nbformat_minor": 2
}
