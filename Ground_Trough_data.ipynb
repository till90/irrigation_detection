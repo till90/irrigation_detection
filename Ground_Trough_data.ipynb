{
 "cells": [
  {
   "cell_type": "code",
   "execution_count": null,
   "metadata": {
    "ExecuteTime": {
     "end_time": "2021-12-15T12:08:44.996506Z",
     "start_time": "2021-12-15T12:08:41.867039Z"
    }
   },
   "outputs": [],
   "source": [
    "import xarray as xr\n",
    "import pandas as pd"
   ]
  },
  {
   "cell_type": "code",
   "execution_count": null,
   "metadata": {
    "ExecuteTime": {
     "end_time": "2021-12-15T12:02:27.342564Z",
     "start_time": "2021-12-15T12:02:27.331593Z"
    }
   },
   "outputs": [],
   "source": [
    "from glob import glob"
   ]
  },
  {
   "cell_type": "code",
   "execution_count": null,
   "metadata": {
    "ExecuteTime": {
     "end_time": "2021-12-15T12:07:22.551074Z",
     "start_time": "2021-12-15T12:07:22.532126Z"
    }
   },
   "outputs": [],
   "source": [
    "gt_path = 'C://Users/USER/Desktop/Master_Irrigation/03_GIS/ground_trouth/'\n",
    "#irrigation # rainfall \n",
    "path_brandenburg = gt_path + 'irrigation+_archive/In situ data/German/Irrigation_Test_Site_Brandenburg.nc'\n",
    "path_niedersachsen = gt_path + 'irrigation+_archive\\Input netcdf\\TEST_SITE_GERMANY_NIEDERSACHSEN.nc'\n",
    "path_budrio = gt_path + 'irrigation+_archive/In situ data/Italy/Irrigation_Test_Site_Budrio.nc'\n",
    "\n",
    "# Tereno\n",
    "path = 'C://Users/USER/Desktop/Master_Irrigation/03_GIS/ground_trouth/TERENO_archieve'\n",
    "files_BF = glob(path + '/*BF*')"
   ]
  },
  {
   "cell_type": "code",
   "execution_count": null,
   "metadata": {
    "ExecuteTime": {
     "end_time": "2021-12-15T12:16:00.043366Z",
     "start_time": "2021-12-15T12:15:59.181067Z"
    }
   },
   "outputs": [],
   "source": [
    "#Tereno\n",
    "\n",
    "test = pd.read_csv('C://Users/USER/Desktop/Master_Irrigation/03_GIS/ground_trouth/TERENO_archieve/altPlestlin_BF1_v1.2_20121029_20210630/altPlestlin_BF1_v1.2_20121029_20210630.csv')\n",
    "test.columns"
   ]
  },
  {
   "cell_type": "code",
   "execution_count": null,
   "metadata": {
    "ExecuteTime": {
     "end_time": "2021-12-14T21:40:10.727287Z",
     "start_time": "2021-12-14T21:40:07.788107Z"
    }
   },
   "outputs": [],
   "source": [
    "brandenburg = xr.load_dataset(path_niedersachsen)\n",
    "#field_1 = brandenburg[['Longitude_1', 'Latitude_1', 'Time-days_1']]\n",
    "brandenburg"
   ]
  },
  {
   "cell_type": "code",
   "execution_count": null,
   "metadata": {
    "ExecuteTime": {
     "end_time": "2021-12-14T21:19:32.458325Z",
     "start_time": "2021-12-14T21:19:32.432360Z"
    }
   },
   "outputs": [],
   "source": [
    "field_1"
   ]
  }
 ],
 "metadata": {
  "kernelspec": {
   "display_name": "Python [conda env:irrigation_detection]",
   "language": "python",
   "name": "conda-env-irrigation_detection-py"
  },
  "language_info": {
   "codemirror_mode": {
    "name": "ipython",
    "version": 3
   },
   "file_extension": ".py",
   "mimetype": "text/x-python",
   "name": "python",
   "nbconvert_exporter": "python",
   "pygments_lexer": "ipython3",
   "version": "3.9.7"
  },
  "toc": {
   "base_numbering": 1,
   "nav_menu": {},
   "number_sections": true,
   "sideBar": true,
   "skip_h1_title": false,
   "title_cell": "Table of Contents",
   "title_sidebar": "Contents",
   "toc_cell": false,
   "toc_position": {},
   "toc_section_display": true,
   "toc_window_display": false
  },
  "varInspector": {
   "cols": {
    "lenName": 16,
    "lenType": 16,
    "lenVar": 40
   },
   "kernels_config": {
    "python": {
     "delete_cmd_postfix": "",
     "delete_cmd_prefix": "del ",
     "library": "var_list.py",
     "varRefreshCmd": "print(var_dic_list())"
    },
    "r": {
     "delete_cmd_postfix": ") ",
     "delete_cmd_prefix": "rm(",
     "library": "var_list.r",
     "varRefreshCmd": "cat(var_dic_list()) "
    }
   },
   "position": {
    "height": "337.85px",
    "left": "1267px",
    "right": "20px",
    "top": "120px",
    "width": "350px"
   },
   "types_to_exclude": [
    "module",
    "function",
    "builtin_function_or_method",
    "instance",
    "_Feature"
   ],
   "window_display": false
  }
 },
 "nbformat": 4,
 "nbformat_minor": 2
}
