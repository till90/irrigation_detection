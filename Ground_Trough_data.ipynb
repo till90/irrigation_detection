{
 "cells": [
  {
   "cell_type": "code",
   "execution_count": null,
   "metadata": {
    "ExecuteTime": {
     "end_time": "2021-12-16T14:59:48.268578Z",
     "start_time": "2021-12-16T14:59:44.078698Z"
    }
   },
   "outputs": [],
   "source": [
    "import sys\n",
    "!pip install --prefix {sys.prefix} ismn"
   ]
  },
  {
   "cell_type": "code",
   "execution_count": 1,
   "metadata": {
    "ExecuteTime": {
     "end_time": "2022-01-11T09:06:56.537695Z",
     "start_time": "2022-01-11T09:06:53.534767Z"
    }
   },
   "outputs": [],
   "source": [
    "import xarray as xr\n",
    "import pandas as pd\n",
    "from glob import glob\n",
    "import geojson"
   ]
  },
  {
   "cell_type": "markdown",
   "metadata": {},
   "source": [
    "## ismn"
   ]
  },
  {
   "cell_type": "code",
   "execution_count": 2,
   "metadata": {
    "ExecuteTime": {
     "end_time": "2022-01-11T09:06:58.267379Z",
     "start_time": "2022-01-11T09:06:56.569666Z"
    }
   },
   "outputs": [],
   "source": [
    "from ismn.interface import ISMN_Interface\n",
    "import numpy as np\n",
    "import pandas as pd\n",
    "\n",
    "import matplotlib.pyplot as plt"
   ]
  },
  {
   "cell_type": "code",
   "execution_count": 3,
   "metadata": {
    "ExecuteTime": {
     "end_time": "2022-01-11T09:06:58.315380Z",
     "start_time": "2022-01-11T09:06:58.299380Z"
    }
   },
   "outputs": [],
   "source": [
    "# Path to data downloaded from ismn network in header+value composite\n",
    "file_name_in = 'Data_separate_files_header_20150101_20211216_9207_57tZ_20211216.zip'\n",
    "path_ismn_zip = 'C://Users/USER/Desktop/Master_Irrigation/03_GIS/ground_trouth/ismn_archieve/'\n",
    "file_name_out = 'coords.geojson'"
   ]
  },
  {
   "cell_type": "code",
   "execution_count": 4,
   "metadata": {
    "ExecuteTime": {
     "end_time": "2022-01-11T09:06:59.239172Z",
     "start_time": "2022-01-11T09:06:58.347313Z"
    }
   },
   "outputs": [
    {
     "name": "stdout",
     "output_type": "stream",
     "text": [
      "Found existing ismn metadata in C:\\Users\\USER\\Desktop\\Master_Irrigation\\03_GIS\\ground_trouth\\ismn_archieve\\python_metadata\\Data_separate_files_header_20150101_20211216_9207_57tZ_20211216.csv.\n"
     ]
    }
   ],
   "source": [
    "# Either a .zip file or one folder that contains all networks, here we read from .zip\n",
    "ismn_data = ISMN_Interface(path_ismn_zip + file_name_in, parallel=True)"
   ]
  },
  {
   "cell_type": "code",
   "execution_count": 6,
   "metadata": {
    "ExecuteTime": {
     "end_time": "2022-01-10T12:21:00.852930Z",
     "start_time": "2022-01-10T12:21:00.837510Z"
    }
   },
   "outputs": [
    {
     "data": {
      "text/plain": [
       "OrderedDict([('BIEBRZA_S-1',\n",
       "              Stations in 'BIEBRZA_S-1': ['grassland_meteo_0', 'grassland_soil_1', 'grassland_soil_2', 'grassland_soil_3', 'grassland_soil_4', 'grassland_soil_5', 'grassland_soil_6', 'grassland_soil_7', 'grassland_soil_8', 'grassland_soil_9', 'marshland_meteo_10', 'marshland_meteo_20', 'marshland_soil_11', 'marshland_soil_12', 'marshland_soil_13', 'marshland_soil_14', 'marshland_soil_15', 'marshland_soil_16', 'marshland_soil_17', 'marshland_soil_18', 'marshland_soil_19', 'marshland_soil_21', 'marshland_soil_22', 'marshland_soil_23', 'marshland_soil_24', 'marshland_soil_25', 'marshland_soil_26', 'marshland_soil_27', 'marshland_soil_28', 'marshland_soil_29']),\n",
       "             ('FMI',\n",
       "              Stations in 'FMI': ['SAA111', 'SAA112', 'SAA120', 'SOD011', 'SOD012', 'SOD013', 'SOD021', 'SOD022', 'SOD023', 'SOD031', 'SOD032', 'SOD033', 'SOD071', 'SOD072', 'SOD073', 'SOD081', 'SOD082', 'SOD083', 'SOD091', 'SOD092', 'SOD093', 'SOD101', 'SOD102', 'SOD103', 'SOD130', 'SOD140', 'SODAWS']),\n",
       "             ('FR_Aqui',\n",
       "              Stations in 'FR_Aqui': ['fraye', 'grandcal', 'hillan', 'hillan2', 'parcmeteo']),\n",
       "             ('GROW',\n",
       "              Stations in 'GROW': ['06d7mhex', '0ednwhg5', '0j1g6k7t', '0rwqk7n9', '0wmxrc70', '17phaer1', '184b3mrn', '1e95h80r', '1jmz460j', '1ke3njhh', '228nf91g', '290hdmpp', '2k6s4hqy', '2t3ep8gm', '3en3xqb1', '3sh9gmem', '40nmrsbk', '43qrdbxw', '47emqp81', '4ajxh4nj', '4chmkpdz', '4ggvf18v', '4hpyyyb8', '4w257zzr', '54ggw8ft', '566xkgq2', '5h38tdbn', '5pga25ec', '5rfs4y7n', '5taprcx9', '5ybancsm', '611gphtp', '68x3rhdq', '6afsbt4v', '6h4czmce', '6jty48mq', '6rb2t5pm', '6sbmpr2j', '7a3s9ez1', '7ah00f8b', '7akdd5e0', '7n3gz2bx', '7pw547a1', '7swhp7rj', '812j972s', '89et815c', '8gbfyzmp', '8nqjvrj4', '8q7tddek', '9ay4ejtz', '9ggnsrj8', 'a1p061h6', 'abrx9sdz', 'aqq8yw1w', 'arftv7bp', 'bbb3wh9n', 'bch5cgrg', 'bf69cz0a', 'bf8nfx6h', 'br4tnkrw', 'c2kfmtgw', 'c4ngtxp2', 'c8w5a2z1', 'ev3r917w', 'f2ncka70', 'f6jyhzgf', 'f9aag2tj', 'fje20wzm', 'fr12jcsp', 'ft240mvk', 'fzyhgwdh', 'g068t0fs', 'gg7qkv4e', 'gq62d3j0', 'h1vm1t70', 'hfs5hee1', 'hpx5qr8g', 'hym3gxnd', 'j5ehdm60', 'jb8mtpya', 'jkwbxm5s', 'jp7adn80', 'jznfvpdc', 'khz98fgv', 'ktf8v2pz', 'm3kpc70z', 'm65ex1jn', 'm76jthbe', 'md233v7k', 'n4xrp1fz', 'n7z2r3cf', 'p18b77pa', 'p4pz2kd5', 'p9vbc55k', 'pcgwsq33', 'pvjvegpc', 'pwvxhaqg', 'q2gar4w5', 'q89fa24t', 'qfqdd9az', 'qjmrcyhx', 'qp90v9t5', 'r41d5090', 'rcqe7rwr', 'rtgyegn7', 's0bxcmmf', 'sb7kc01j', 'sbssctsn', 'sf7s18kj', 'sfjzwyse', 'sg467kvr', 'sqtxa0se', 'sxqnze7h', 't1st0pjc', 't35w59b3', 't640gc4e', 'tjvqp8t7', 'tyrxm6na', 'vfnfsmba', 'vqm6wfeb', 'vtchke83', 'vtpgs053', 'w2rjn3kx', 'w3sq2jh1', 'w5e4rdhq', 'wkwsdyhv', 'wm2pb36y', 'wv93jpfe', 'x9qxc7sm', 'xbysjrrr', 'xcsxg1wb', 'xffafcem', 'xjwzj2x0', 'xn67y732', 'xnnhbtpd', 'xs03cx4p', 'xy11zc8c', 'y09h8hsh', 'y0j3fw83', 'y2r6xsyq', 'y8errsyn', 'ybqaw0eb', 'yemnxdm9', 'yjdrr40m', 'yrh3tvvy', 'z11c6p67', 'z2yvnxry', 'z3eqrmk5', 'zj04kv3q', 'zmqpfs7f']),\n",
       "             ('HOAL',\n",
       "              Stations in 'HOAL': ['Hoal_01', 'Hoal_02', 'Hoal_04', 'Hoal_05', 'Hoal_06', 'Hoal_07', 'Hoal_08', 'Hoal_09', 'Hoal_10', 'Hoal_11', 'Hoal_12', 'Hoal_13', 'Hoal_14', 'Hoal_15', 'Hoal_16', 'Hoal_17', 'Hoal_18', 'Hoal_19', 'Hoal_21', 'Hoal_22', 'Hoal_24', 'Hoal_25', 'Hoal_26', 'Hoal_27', 'Hoal_28', 'Hoal_29', 'Hoal_30', 'Hoal_32', 'Hoal_33', 'Hoal_34', 'Hoal_35', 'Hoal_36']),\n",
       "             ('HOBE',\n",
       "              Stations in 'HOBE': ['1.01', '1.02', '1.03', '1.04', '1.05', '1.06', '1.07', '1.08', '1.09', '1.10', '2.01', '2.02', '2.03', '2.04', '2.05', '2.06b', '2.07', '2.08b', '2.09', '2.10', '2.11', '3.01', '3.02', '3.03', '3.04', '3.05', '3.06', '3.07', '3.08', '3.09']),\n",
       "             ('HYDROL-NET_PERUGIA',\n",
       "              Stations in 'HYDROL-NET_PERUGIA': ['Water_Engineering_Experimental_Field_1', 'Water_Engineering_Experimental_Field_2']),\n",
       "             ('IMA_CAN1',\n",
       "              Stations in 'IMA_CAN1': ['station1', 'station10', 'station11', 'station12', 'station2', 'station3', 'station4', 'station5', 'station6', 'station7', 'station8', 'station9']),\n",
       "             ('IPE', Stations in 'IPE': ['Aguero', 'Penaflor']),\n",
       "             ('MOL-RAO', Stations in 'MOL-RAO': ['Falkenberg', 'Kehrigk']),\n",
       "             ('NVE',\n",
       "              Stations in 'NVE': ['2.715.2_Kvarstadseter', '2.725.0_Abrahamsvoll', '2.727.0_Kise']),\n",
       "             ('OZNET',\n",
       "              Stations in 'OZNET': ['Alabama', 'Banandra', 'Bundure', 'Cheverelis', 'Cox', 'Dry_Lake', 'Eulo', 'Evergreen', 'Kyeamba_Mouth', 'S_Coleambally', 'Samarra', 'Silver_Springs', 'Spring_Bank', 'Uri_Park', 'Widgiewa', 'Wollumbi', 'Wynella', 'Yamma_Road', 'Yammacoona']),\n",
       "             ('REMEDHUS',\n",
       "              Stations in 'REMEDHUS': ['Canizal', 'Carretoro', 'Casa_Periles', 'Concejo_del_Monte', 'El_Coto', 'El_Tomillar', 'Granja_g', 'Guarrati', 'La_Atalaya', 'La_Cruz_de_Elias', 'Las_Arenas', 'Las_Bodegas', 'Las_Brozas', 'Las_Eritas', 'Las_Tres_Rayas', 'Las_Vacas', 'Las_Victorias', 'Llanos_de_la_Boveda', 'Paredinas', 'Zamarron']),\n",
       "             ('RSMN',\n",
       "              Stations in 'RSMN': ['Adamclisi', 'Alexandria', 'Bacles', 'Banloc', 'Barlad', 'Calarasi', 'Chisineu_Cris', 'Corugea', 'Cotnari', 'Darabani', 'Dej', 'Dumbraveni', 'Iasi', 'Oradea', 'Rosiorii_de_Vede', 'Sannicolau_Mare', 'Satu_Mare', 'Slatina', 'Slobozia', 'Tecuci']),\n",
       "             ('Ru_CFR',\n",
       "              Stations in 'Ru_CFR': ['Fyodorovskoye_dry_spruce_stand', 'Fyodorovskoye_wet_spruce_stand']),\n",
       "             ('SMOSMANIA',\n",
       "              Stations in 'SMOSMANIA': ['Barnas', 'Berzeme', 'Cabrieres_dAvignon', 'Condom', 'Creon_dArmagnac', 'La_Grand_Combe', 'Lahas', 'Lezignan_Corbieres', 'Mazan-Abbaye', 'Mejannes-le-Clap', 'Montaut', 'Mouthoumet', 'Narbonne', 'Peyrusse_Grande', 'Pezenas', 'Pezenas_old', 'Prades-le-Lez', 'Sabres', 'Saint_Felix_de_Lauragais', 'Savenes', 'Urgons', 'Villevielle']),\n",
       "             ('TERENO',\n",
       "              Stations in 'TERENO': ['Gevenich', 'Merzenhausen', 'Schoeneseiffen', 'Selhausen', 'Wildenrath']),\n",
       "             ('UMBRIA',\n",
       "              Stations in 'UMBRIA': ['Cerbara', 'Petrelle', 'Torre_Olmo']),\n",
       "             ('UMSUOL', Stations in 'UMSUOL': ['San_Pietro_Capofiume']),\n",
       "             ('WEGENERNET',\n",
       "              Stations in 'WEGENERNET': ['15', '19', '27', '34', '50', '54', '6', '77', '78', '84', '85', '99']),\n",
       "             ('WSMN',\n",
       "              Stations in 'WSMN': ['WSMN_1', 'WSMN_2', 'WSMN_3', 'WSMN_4', 'WSMN_5', 'WSMN_6', 'WSMN_7', 'WSMN_8'])])"
      ]
     },
     "execution_count": 6,
     "metadata": {},
     "output_type": "execute_result"
    }
   ],
   "source": [
    "ismn_data.networks"
   ]
  },
  {
   "cell_type": "code",
   "execution_count": 7,
   "metadata": {
    "ExecuteTime": {
     "end_time": "2022-01-10T12:21:04.480201Z",
     "start_time": "2022-01-10T12:21:04.458070Z"
    }
   },
   "outputs": [
    {
     "name": "stdout",
     "output_type": "stream",
     "text": [
      "KOEPPEN GEIGER Climate Classification\n",
      "-------------------------------------\n",
      "Af  : Tropical Rainforest\n",
      "Am  : Tropical Monsoon\n",
      "As  : Tropical Savanna Dry\n",
      "Aw  : Tropical Savanna Wet\n",
      "BWk : Arid Desert Cold\n",
      "BWh : Arid Desert Hot\n",
      "BWn : Arid Desert With Frequent Fog\n",
      "BSk : Arid Steppe Cold\n",
      "BSh : Arid Steppe Hot\n",
      "BSn : Arid Steppe With Frequent Fog\n",
      "Csa : Temperate Dry Hot Summer\n",
      "Csb : Temperate Dry Warm Summer\n",
      "Csc : Temperate Dry Cold Summer\n",
      "Cwa : Temperate Dry Winter, Hot Summer\n",
      "Cwb : Temperate Dry Winter, Warm Summer\n",
      "Cwc : Temperate Dry Winter, Cold Summer\n",
      "Cfa : Temperate Without Dry Season, Hot Summer\n",
      "Cfb : Temperate Without Dry Season, Warm Summer\n",
      "Cfc : Temperate Without Dry Season, Cold Summer\n",
      "Dsa : Cold Dry Summer, Hot Summer\n",
      "Dsb : Cold Dry Summer, Warm Summer\n",
      "Dsc : Cold Dry Summer, Cold Summer\n",
      "Dsd : Cold Dry Summer, Very Cold Winter\n",
      "Dwa : Cold Dry Winter, Hot Summer\n",
      "Dwb : Cold Dry Winter, Warm Summer\n",
      "Dwc : Cold Dry Winter, Cold Summer\n",
      "Dwd : Cold Dry Winter, Very Cold Winter\n",
      "Dfa : Cold Dry Without Dry Season, Hot Summer\n",
      "Dfb : Cold Dry Without Dry Season, Warm Summer\n",
      "Dfc : Cold Dry Without Dry Season, Cold Summer\n",
      "Dfd : Cold Dry Without Dry Season, Very Cold Winter\n",
      "ET  : Polar Tundra\n",
      "EF  : Polar Eternal Winter\n",
      "W   : Water\n",
      "CCI Landcover Classification\n",
      "----------------------------\n",
      "Cropland, rainfed: 10\n",
      "Cropland, rainfed / Herbaceous cover: 11\n",
      "Cropland, rainfed / Tree or shrub cover: 12\n",
      "Cropland, irrigated or post-flooding: 20\n",
      "Mosaic cropland (>50%) / natural vegetation (tree, shrub, herbaceous: 30\n",
      "Mosaic natural vegetation (tree, shrub, herbaceous cover) (>50%) / cropland (<50%): 40\n",
      "Tree cover, broadleaved, evergreen, Closed to open (>15%): 50\n",
      "Tree cover, broadleaved, deciduous, Closed to open (>15%): 60\n",
      "Tree cover, broadleaved, deciduous, Closed (>40%): 61\n",
      "Tree cover, broadleaved, deciduous, Open (15-40%): 62\n",
      "Tree cover, needleleaved, evergreen, closed to open (>15%): 70\n",
      "Tree cover, needleleaved, evergreen, closed (>40%): 71\n",
      "Tree cover, needleleaved, evergreen, open (15-40%): 72\n",
      "Tree cover, needleleaved, deciduous, closed to open (>15%): 80\n",
      "Tree cover, needleleaved, deciduous, closed (>40%): 81\n",
      "Tree cover, needleleaved, deciduous, open (15-40%): 82\n",
      "Tree cover, mixed leaf type (broadleaved and needleleaved): 90\n",
      "Mosaic tree and shrub (>50%) / herbaceous cover (<50%): 100\n",
      "Mosaic herbaceous cover (>50%) / tree and shrub (<50%): 110\n",
      "Shrubland: 120\n",
      "Shrubland / Evergreen Shrubland: 121\n",
      "Shrubland / Deciduous Shrubland: 122\n",
      "Grassland: 130\n",
      "Lichens and mosses: 140\n",
      "Sparse vegetation (tree, shrub, herbaceous cover) (<15%): 150\n",
      "Sparse vegetation (tree, shrub, herbaceous cover) (<15%) / Sparse shrub (<15%): 152\n",
      "Sparse vegetation (tree, shrub, herbaceous cover) (<15%) / Sparse herbaceous cover (<15%): 153\n",
      "Tree cover, flooded, fresh or brakish water: 160\n",
      "Tree cover, flooded, saline water: 170\n",
      "Shrub or herbaceous cover, flooded, fresh/saline/brakish water: 180\n",
      "Urban areas: 190\n",
      "Bare areas: 200\n",
      "Consolidated bare areas: 201\n",
      "Unconsolidated bare areas: 202\n",
      "Water: 210\n",
      "Permanent snow and ice: 220\n"
     ]
    },
    {
     "data": {
      "text/plain": [
       "(None, None)"
      ]
     },
     "execution_count": 7,
     "metadata": {},
     "output_type": "execute_result"
    }
   ],
   "source": [
    "# Print this line if you want to know which landcover and climate classes are available\n",
    "ismn_data.print_climate_dict(), ismn_data.print_landcover_dict()"
   ]
  },
  {
   "cell_type": "code",
   "execution_count": 35,
   "metadata": {
    "ExecuteTime": {
     "end_time": "2022-01-11T09:49:15.151034Z",
     "start_time": "2022-01-11T09:49:15.090832Z"
    }
   },
   "outputs": [
    {
     "data": {
      "text/plain": [
       "5"
      ]
     },
     "execution_count": 35,
     "metadata": {},
     "output_type": "execute_result"
    }
   ],
   "source": [
    "# Search for ids with specific condtions\n",
    "ids = ismn_data.get_dataset_ids(variable='soil_moisture',\n",
    "                                max_depth=0.05,\n",
    "                                filter_meta_dict={'lc_2005': [10,11,20,130,200, 201, 202, 30], 'climate_KG': ['Csa', 'Csb', 'Dwa', 'Dwb']})\n",
    "len(ids)"
   ]
  },
  {
   "cell_type": "code",
   "execution_count": 36,
   "metadata": {
    "ExecuteTime": {
     "end_time": "2022-01-11T09:49:16.889582Z",
     "start_time": "2022-01-11T09:49:16.881610Z"
    }
   },
   "outputs": [
    {
     "data": {
      "text/plain": [
       "[1341, 1348, 1825, 1832, 1862]"
      ]
     },
     "execution_count": 36,
     "metadata": {},
     "output_type": "execute_result"
    }
   ],
   "source": [
    "ids"
   ]
  },
  {
   "cell_type": "code",
   "execution_count": 37,
   "metadata": {
    "ExecuteTime": {
     "end_time": "2022-01-11T09:49:19.962837Z",
     "start_time": "2022-01-11T09:49:19.615311Z"
    }
   },
   "outputs": [],
   "source": [
    "# Read Ids\n",
    "ts = [ismn_data.read(x ,return_meta=True) for x in ids]\n",
    "ts_data = [x[0] for x in ts]\n",
    "ts_meta = pd.DataFrame([x[1] for x in ts]).set_index('station')"
   ]
  },
  {
   "cell_type": "code",
   "execution_count": 47,
   "metadata": {
    "ExecuteTime": {
     "end_time": "2022-01-11T10:23:50.425786Z",
     "start_time": "2022-01-11T10:23:50.410206Z"
    }
   },
   "outputs": [
    {
     "data": {
      "text/html": [
       "<div>\n",
       "<style scoped>\n",
       "    .dataframe tbody tr th:only-of-type {\n",
       "        vertical-align: middle;\n",
       "    }\n",
       "\n",
       "    .dataframe tbody tr th {\n",
       "        vertical-align: top;\n",
       "    }\n",
       "\n",
       "    .dataframe thead th {\n",
       "        text-align: right;\n",
       "    }\n",
       "</style>\n",
       "<table border=\"1\" class=\"dataframe\">\n",
       "  <thead>\n",
       "    <tr style=\"text-align: right;\">\n",
       "      <th></th>\n",
       "      <th>soil_moisture</th>\n",
       "      <th>soil_moisture_flag</th>\n",
       "      <th>soil_moisture_orig_flag</th>\n",
       "    </tr>\n",
       "    <tr>\n",
       "      <th>date_time</th>\n",
       "      <th></th>\n",
       "      <th></th>\n",
       "      <th></th>\n",
       "    </tr>\n",
       "  </thead>\n",
       "  <tbody>\n",
       "    <tr>\n",
       "      <th>2018-06-11 00:00:00</th>\n",
       "      <td>0.062</td>\n",
       "      <td>G</td>\n",
       "      <td>M</td>\n",
       "    </tr>\n",
       "    <tr>\n",
       "      <th>2018-06-11 01:00:00</th>\n",
       "      <td>0.062</td>\n",
       "      <td>G</td>\n",
       "      <td>M</td>\n",
       "    </tr>\n",
       "    <tr>\n",
       "      <th>2018-06-11 02:00:00</th>\n",
       "      <td>0.062</td>\n",
       "      <td>G</td>\n",
       "      <td>M</td>\n",
       "    </tr>\n",
       "    <tr>\n",
       "      <th>2018-06-11 03:00:00</th>\n",
       "      <td>0.061</td>\n",
       "      <td>G</td>\n",
       "      <td>M</td>\n",
       "    </tr>\n",
       "    <tr>\n",
       "      <th>2018-06-11 04:00:00</th>\n",
       "      <td>0.062</td>\n",
       "      <td>G</td>\n",
       "      <td>M</td>\n",
       "    </tr>\n",
       "    <tr>\n",
       "      <th>...</th>\n",
       "      <td>...</td>\n",
       "      <td>...</td>\n",
       "      <td>...</td>\n",
       "    </tr>\n",
       "    <tr>\n",
       "      <th>2019-12-31 20:00:00</th>\n",
       "      <td>0.131</td>\n",
       "      <td>G</td>\n",
       "      <td>M</td>\n",
       "    </tr>\n",
       "    <tr>\n",
       "      <th>2019-12-31 21:00:00</th>\n",
       "      <td>0.131</td>\n",
       "      <td>G</td>\n",
       "      <td>M</td>\n",
       "    </tr>\n",
       "    <tr>\n",
       "      <th>2019-12-31 22:00:00</th>\n",
       "      <td>0.131</td>\n",
       "      <td>G</td>\n",
       "      <td>M</td>\n",
       "    </tr>\n",
       "    <tr>\n",
       "      <th>2019-12-31 23:00:00</th>\n",
       "      <td>0.131</td>\n",
       "      <td>G</td>\n",
       "      <td>M</td>\n",
       "    </tr>\n",
       "    <tr>\n",
       "      <th>2020-01-01 00:00:00</th>\n",
       "      <td>0.131</td>\n",
       "      <td>G</td>\n",
       "      <td>M</td>\n",
       "    </tr>\n",
       "  </tbody>\n",
       "</table>\n",
       "<p>13657 rows × 3 columns</p>\n",
       "</div>"
      ],
      "text/plain": [
       "                     soil_moisture soil_moisture_flag soil_moisture_orig_flag\n",
       "date_time                                                                    \n",
       "2018-06-11 00:00:00          0.062                  G                       M\n",
       "2018-06-11 01:00:00          0.062                  G                       M\n",
       "2018-06-11 02:00:00          0.062                  G                       M\n",
       "2018-06-11 03:00:00          0.061                  G                       M\n",
       "2018-06-11 04:00:00          0.062                  G                       M\n",
       "...                            ...                ...                     ...\n",
       "2019-12-31 20:00:00          0.131                  G                       M\n",
       "2019-12-31 21:00:00          0.131                  G                       M\n",
       "2019-12-31 22:00:00          0.131                  G                       M\n",
       "2019-12-31 23:00:00          0.131                  G                       M\n",
       "2020-01-01 00:00:00          0.131                  G                       M\n",
       "\n",
       "[13657 rows x 3 columns]"
      ]
     },
     "execution_count": 47,
     "metadata": {},
     "output_type": "execute_result"
    }
   ],
   "source": [
    "ts[2][0]"
   ]
  },
  {
   "cell_type": "code",
   "execution_count": 38,
   "metadata": {
    "ExecuteTime": {
     "end_time": "2022-01-11T09:49:28.072042Z",
     "start_time": "2022-01-11T09:49:27.970632Z"
    }
   },
   "outputs": [],
   "source": [
    "#save ts data with id and lat_lon bezeichnung\n",
    "for (data, meta), ismn_id in zip(ts, ids):\n",
    "    data.to_json(path_ismn_zip + f'{ismn_id}_{meta.longitude.values[0]}_{meta.latitude.values[0]}_{meta.network.values[0]}.json')"
   ]
  },
  {
   "cell_type": "code",
   "execution_count": null,
   "metadata": {
    "ExecuteTime": {
     "end_time": "2021-12-17T20:01:19.691661Z",
     "start_time": "2021-12-17T20:01:19.412829Z"
    }
   },
   "outputs": [],
   "source": [
    "import geopandas as gpd"
   ]
  },
  {
   "cell_type": "code",
   "execution_count": null,
   "metadata": {
    "ExecuteTime": {
     "end_time": "2021-12-17T20:08:53.824255Z",
     "start_time": "2021-12-17T20:08:53.808253Z"
    }
   },
   "outputs": [],
   "source": [
    "import geojson\n",
    "\n",
    "# Create Geojson MultiPoint FeatureCollection \n",
    "geodf = gpd.GeoDataFrame(data=None, geometry=gpd.points_from_xy(x=ts_meta['longitude'].unstack().values, y=ts_meta['latitude'].unstack().values))\n",
    "fc = geodf.to_json()\n",
    "# Save geojson to disk\n",
    "with open(path_ismn_zip + file_name_out, 'w') as f:\n",
    "    geojson.dump(fc, f)"
   ]
  },
  {
   "cell_type": "code",
   "execution_count": null,
   "metadata": {
    "ExecuteTime": {
     "end_time": "2021-12-16T15:43:53.772315Z",
     "start_time": "2021-12-16T15:43:53.740825Z"
    }
   },
   "outputs": [],
   "source": [
    "# Quality Controle\n",
    "#Qflag\n",
    "#NDVI < 0.7\n"
   ]
  },
  {
   "cell_type": "code",
   "execution_count": null,
   "metadata": {
    "ExecuteTime": {
     "end_time": "2021-12-16T15:23:02.445982Z",
     "start_time": "2021-12-16T15:23:02.129881Z"
    }
   },
   "outputs": [],
   "source": [
    "#Plot Specific ids metdata and time series\n",
    "ts, meta = ismn_data.read(ids[3], return_meta=True)\n",
    "ax = ts.plot(figsize=(12,4), title=f'Time series for ID {ids[3]}')\n",
    "ax.set_xlabel(\"Time [year]\")\n",
    "ax.set_ylabel(\"Soil Moisture\")\n",
    "meta,ts"
   ]
  },
  {
   "cell_type": "code",
   "execution_count": null,
   "metadata": {
    "ExecuteTime": {
     "end_time": "2021-12-16T15:24:18.550872Z",
     "start_time": "2021-12-16T15:24:03.098620Z"
    }
   },
   "outputs": [],
   "source": [
    "import cartopy.crs as ccrs\n",
    "#plot available station on a map\n",
    "fig, axs = plt.subplots(1, 2, figsize=(16,10), subplot_kw={'projection': ccrs.Robinson()})\n",
    "ismn_data.plot_station_locations('soil_moisture', min_depth=0., max_depth=0.2, ax=axs[0])\n",
    "plt.show()"
   ]
  },
  {
   "cell_type": "code",
   "execution_count": null,
   "metadata": {
    "ExecuteTime": {
     "end_time": "2021-12-16T11:15:00.542665Z",
     "start_time": "2021-12-16T11:15:00.529672Z"
    }
   },
   "outputs": [],
   "source": [
    "gt_path = 'C://Users/USER/Desktop/Master_Irrigation/03_GIS/ground_trouth/'\n",
    "#irrigation # rainfall \n",
    "path_brandenburg = gt_path + 'irrigation+_archive/In situ data/German/Irrigation_Test_Site_Brandenburg.nc'\n",
    "path_niedersachsen = gt_path + 'irrigation+_archive\\Input netcdf\\TEST_SITE_GERMANY_NIEDERSACHSEN.nc'\n",
    "path_budrio = gt_path + 'irrigation+_archive/In situ data/Italy/Irrigation_Test_Site_Budrio.nc'\n",
    "\n",
    "# Tereno\n",
    "path = 'C://Users/USER/Desktop/Master_Irrigation/03_GIS/ground_trouth/TERENO_archieve'\n",
    "files_BF = glob(path + '/*BF*')"
   ]
  },
  {
   "cell_type": "code",
   "execution_count": null,
   "metadata": {
    "ExecuteTime": {
     "end_time": "2021-12-16T11:15:02.507396Z",
     "start_time": "2021-12-16T11:15:01.682793Z"
    }
   },
   "outputs": [],
   "source": [
    "#Tereno\n",
    "test = pd.read_csv('C://Users/USER/Desktop/Master_Irrigation/03_GIS/ground_trouth/TERENO_archieve/altPlestlin_BF1_v1.2_20121029_20210630/altPlestlin_BF1_v1.2_20121029_20210630.csv')\n",
    "test.columns"
   ]
  },
  {
   "cell_type": "code",
   "execution_count": null,
   "metadata": {
    "ExecuteTime": {
     "end_time": "2021-12-16T11:15:18.872218Z",
     "start_time": "2021-12-16T11:15:13.189617Z"
    }
   },
   "outputs": [],
   "source": [
    "brandenburg = xr.load_dataset(path_niedersachsen)\n",
    "#field_1 = brandenburg[['Longitude_1', 'Latitude_1', 'Time-days_1']]\n",
    "brandenburg"
   ]
  },
  {
   "cell_type": "code",
   "execution_count": null,
   "metadata": {
    "ExecuteTime": {
     "end_time": "2021-12-14T21:19:32.458325Z",
     "start_time": "2021-12-14T21:19:32.432360Z"
    }
   },
   "outputs": [],
   "source": [
    "field_1"
   ]
  }
 ],
 "metadata": {
  "kernelspec": {
   "display_name": "Python [conda env:irrigation_detection]",
   "language": "python",
   "name": "conda-env-irrigation_detection-py"
  },
  "language_info": {
   "codemirror_mode": {
    "name": "ipython",
    "version": 3
   },
   "file_extension": ".py",
   "mimetype": "text/x-python",
   "name": "python",
   "nbconvert_exporter": "python",
   "pygments_lexer": "ipython3",
   "version": "3.9.7"
  },
  "toc": {
   "base_numbering": 1,
   "nav_menu": {},
   "number_sections": true,
   "sideBar": true,
   "skip_h1_title": false,
   "title_cell": "Table of Contents",
   "title_sidebar": "Contents",
   "toc_cell": false,
   "toc_position": {},
   "toc_section_display": true,
   "toc_window_display": false
  },
  "varInspector": {
   "cols": {
    "lenName": 16,
    "lenType": 16,
    "lenVar": 40
   },
   "kernels_config": {
    "python": {
     "delete_cmd_postfix": "",
     "delete_cmd_prefix": "del ",
     "library": "var_list.py",
     "varRefreshCmd": "print(var_dic_list())"
    },
    "r": {
     "delete_cmd_postfix": ") ",
     "delete_cmd_prefix": "rm(",
     "library": "var_list.r",
     "varRefreshCmd": "cat(var_dic_list()) "
    }
   },
   "position": {
    "height": "337.85px",
    "left": "1267px",
    "right": "20px",
    "top": "120px",
    "width": "350px"
   },
   "types_to_exclude": [
    "module",
    "function",
    "builtin_function_or_method",
    "instance",
    "_Feature"
   ],
   "window_display": false
  }
 },
 "nbformat": 4,
 "nbformat_minor": 2
}
