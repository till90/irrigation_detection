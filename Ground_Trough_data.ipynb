{
 "cells": [
  {
   "cell_type": "code",
   "execution_count": null,
   "metadata": {
    "ExecuteTime": {
     "end_time": "2022-01-12T08:47:23.515205Z",
     "start_time": "2022-01-12T08:47:19.313740Z"
    }
   },
   "outputs": [],
   "source": [
    "import sys\n",
    "!pip install --prefix {sys.prefix} sentinelsat, ismn"
   ]
  },
  {
   "cell_type": "markdown",
   "metadata": {},
   "source": [
    "# ISMN Data"
   ]
  },
  {
   "cell_type": "code",
   "execution_count": null,
   "metadata": {
    "ExecuteTime": {
     "end_time": "2022-01-27T19:48:29.443306Z",
     "start_time": "2022-01-27T19:48:29.405696Z"
    }
   },
   "outputs": [],
   "source": [
    "from irrigation_detection import get_ismn_data\n",
    "from irrigation_detection import get_s1_ts\n",
    "from irrigation_detection import get_s2_ts\n",
    "from irrigation_detection import merge_s1_s2\n",
    "from irrigation_detection import merge_sentinel_ismn\n",
    "from glob import glob"
   ]
  },
  {
   "cell_type": "markdown",
   "metadata": {},
   "source": [
    "## Get specific station ids and time-series data "
   ]
  },
  {
   "cell_type": "code",
   "execution_count": null,
   "metadata": {
    "ExecuteTime": {
     "end_time": "2022-01-27T19:48:00.043401Z",
     "start_time": "2022-01-27T19:47:59.842968Z"
    }
   },
   "outputs": [],
   "source": [
    "ts, ismn_loi, ismn_loi_unique = get_ismn_data(\n",
    "    filepath = 'C://Users/USER/Desktop/Master_Irrigation/03_GIS/ground_trouth/ismn_archieve/Data_separate_files_header_20150101_20211216_9207_57tZ_20211216.zip',\n",
    "    variable = 'soil_moisture',\n",
    "    min_depth = 0.0,\n",
    "    max_depth = 0.05, \n",
    "    landcover = [10,11]\n",
    ")"
   ]
  },
  {
   "cell_type": "markdown",
   "metadata": {},
   "source": [
    "## Use lon/lat to extract sentinel 1 and sentinel 2 data from GEE, merge both dataframes and save to disk"
   ]
  },
  {
   "cell_type": "code",
   "execution_count": null,
   "metadata": {
    "ExecuteTime": {
     "end_time": "2022-01-27T19:35:31.244449Z",
     "start_time": "2022-01-27T19:35:31.229016Z"
    }
   },
   "outputs": [],
   "source": [
    "# Workaround for GEE computing timout, maybe because .getInfo() is used too often in short time intervalls\n",
    "from glob import glob\n",
    "existing_files = glob('C://Users/USER/Desktop/Master_Irrigation/03_GIS/ground_trouth/sentinel_ismn_data/*',)\n",
    "existing_idmn_id = [int(x.split('\\\\')[-1].split('_')[0]) for x in existing_files]"
   ]
  },
  {
   "cell_type": "code",
   "execution_count": null,
   "metadata": {
    "ExecuteTime": {
     "end_time": "2022-01-27T18:33:12.581779Z",
     "start_time": "2022-01-27T16:41:44.345452Z"
    }
   },
   "outputs": [],
   "source": [
    "# Some of them cant be created so by manually put the id behind the existing ids\n",
    "failed_ids = list()\n",
    "for x in (x for x in ismn_loi_unique if int(x[2]) not in existing_idmn_id):\n",
    "    print(f'Download Sentinel 1 & Sentinel 2 data from GEE for ismn station: {x}')\n",
    "    try:\n",
    "        gdf_s1 = get_s1_ts(\n",
    "            lon = x[0], \n",
    "            lat = x[1], \n",
    "            ismn_idx = int(x[2]), \n",
    "            start = '2015-01-01', \n",
    "            end = '2021-12-31', \n",
    "            pol = 'VV', \n",
    "            mode = 'IW', \n",
    "            res = 10, \n",
    "            red = 'mean',\n",
    "            scale = 10,\n",
    "            crs = 'EPSG:4326'\n",
    "        )\n",
    "\n",
    "        gdf_s2 = get_s2_ts(\n",
    "            lon = x[0], \n",
    "            lat = x[1], \n",
    "            ismn_idx = x[2], \n",
    "            start = '2015-01-01', \n",
    "            end = '2021-12-31', \n",
    "            red = 'mean',\n",
    "            scale = 10,\n",
    "            crs = 'EPSG:4326'\n",
    "        )\n",
    "\n",
    "        merge_s1_s2(\n",
    "            gdf_s1 = gdf_s1,\n",
    "            gdf_s2 = gdf_s2,\n",
    "            driver = 'GeoJSON',\n",
    "            filepath = 'C://Users/USER/Desktop/Master_Irrigation/03_GIS/ground_trouth/sentinel_ismn_data/'\n",
    "        )\n",
    "    except:\n",
    "        print(f'{int(x[2])} failed to download!')\n",
    "        failed_ids.append(int(x[2]))\n",
    "\n",
    "print(f'Following ismn ids failed to download {failed_ids}')"
   ]
  },
  {
   "cell_type": "markdown",
   "metadata": {},
   "source": [
    "## Add ismn stations time series to sentinel data"
   ]
  },
  {
   "cell_type": "code",
   "execution_count": null,
   "metadata": {
    "ExecuteTime": {
     "end_time": "2022-01-27T19:50:07.092185Z",
     "start_time": "2022-01-27T19:49:10.179101Z"
    }
   },
   "outputs": [],
   "source": [
    "merge_sentinel_ismn(\n",
    "    files = glob('C://Users/USER/Desktop/Master_Irrigation/03_GIS/ground_trouth/sentinel_ismn_data/*',),\n",
    "    ismn_path = 'C://Users/USER/Desktop/Master_Irrigation/03_GIS/ground_trouth/ismn_archieve/Data_separate_files_header_20150101_20211216_9207_57tZ_20211216.zip'\n",
    ")"
   ]
  },
  {
   "cell_type": "code",
   "execution_count": null,
   "metadata": {
    "ExecuteTime": {
     "end_time": "2022-01-27T19:57:28.017913Z",
     "start_time": "2022-01-27T19:57:28.002291Z"
    }
   },
   "outputs": [],
   "source": [
    "files = glob('C://Users/USER/Desktop/Master_Irrigation/03_GIS/ground_trouth/sentinel_ismn_data/*',)"
   ]
  },
  {
   "cell_type": "markdown",
   "metadata": {},
   "source": []
  },
  {
   "cell_type": "code",
   "execution_count": null,
   "metadata": {
    "ExecuteTime": {
     "end_time": "2022-01-27T20:24:41.351577Z",
     "start_time": "2022-01-27T20:24:41.335951Z"
    }
   },
   "outputs": [],
   "source": [
    "def split_s1(file):\n",
    "    \"\"\"\n",
    "    Arguments:\n",
    "    \"\"\"\n",
    "    \n",
    "    # Import modules\n",
    "    import geopandas as gpd\n",
    "    \n",
    "    # Read file\n",
    "    gdf = gpd.read_file(file)\n",
    "    gdf['date'] = gdf.date.astype('datetime64[ns]')\n",
    "    # Split into 4 groups of equal aquisition types\n",
    "    asA = gdf[(gdf['orbit'] == 'ASCENDING') & (gdf['platform'] == 'A')].dropna(how='any', subset=['soil_moisture'])\n",
    "    dsA = gdf[(gdf['orbit'] == 'DESCENDING') & (gdf['platform'] == 'A')].dropna(how='any', subset=['soil_moisture'])\n",
    "    asB = gdf[(gdf['orbit'] == 'ASCENDING') & (gdf['platform'] == 'B')].dropna(how='any', subset=['soil_moisture'])\n",
    "    dsB = gdf[(gdf['orbit'] == 'DESCENDING') & (gdf['platform'] == 'B')].dropna(how='any', subset=['soil_moisture'])\n",
    "    \n",
    "    return asA, dsB, asB, dsB"
   ]
  },
  {
   "cell_type": "code",
   "execution_count": null,
   "metadata": {
    "ExecuteTime": {
     "end_time": "2022-01-27T20:24:43.901558Z",
     "start_time": "2022-01-27T20:24:43.739084Z"
    }
   },
   "outputs": [],
   "source": [
    "asA, dsB, asB, dsB = split_s1(files[0])"
   ]
  },
  {
   "cell_type": "code",
   "execution_count": null,
   "metadata": {
    "ExecuteTime": {
     "end_time": "2022-01-27T20:24:56.409564Z",
     "start_time": "2022-01-27T20:24:56.077744Z"
    }
   },
   "outputs": [],
   "source": [
    "import hvplot.pandas  # noqa\n",
    "asA[['VV', 'soil_moisture', 'date']].hvplot.scatter(x='VV', y='soil_moisture', by='date.year')"
   ]
  },
  {
   "cell_type": "markdown",
   "metadata": {},
   "source": [
    "## ismn"
   ]
  },
  {
   "cell_type": "code",
   "execution_count": null,
   "metadata": {
    "ExecuteTime": {
     "end_time": "2022-01-26T10:56:14.029610Z",
     "start_time": "2022-01-26T10:56:12.124962Z"
    }
   },
   "outputs": [],
   "source": [
    "from ismn.interface import ISMN_Interface\n",
    "import numpy as np\n",
    "import pandas as pd\n",
    "import xarray as xr\n",
    "import pandas as pd\n",
    "from glob import glob\n",
    "import geojson\n",
    "import matplotlib.pyplot as plt"
   ]
  },
  {
   "cell_type": "code",
   "execution_count": null,
   "metadata": {
    "ExecuteTime": {
     "end_time": "2022-01-26T10:56:15.353748Z",
     "start_time": "2022-01-26T10:56:15.338120Z"
    }
   },
   "outputs": [],
   "source": [
    "# Path to data downloaded from ismn network in header+value composite\n",
    "file_name_in = 'Data_separate_files_header_20150101_20211216_9207_57tZ_20211216.zip'\n",
    "path_ismn_zip = 'C://Users/USER/Desktop/Master_Irrigation/03_GIS/ground_trouth/ismn_archieve/'\n",
    "file_name_out = 'coords.geojson'"
   ]
  },
  {
   "cell_type": "code",
   "execution_count": null,
   "metadata": {
    "ExecuteTime": {
     "end_time": "2022-01-26T10:56:20.179167Z",
     "start_time": "2022-01-26T10:56:19.361745Z"
    }
   },
   "outputs": [],
   "source": [
    "# Either a .zip file or one folder that contains all networks, here we read from .zip\n",
    "ismn_data = ISMN_Interface(path_ismn_zip + file_name_in, parallel=True)"
   ]
  },
  {
   "cell_type": "code",
   "execution_count": null,
   "metadata": {
    "ExecuteTime": {
     "end_time": "2022-01-24T19:36:47.046829Z",
     "start_time": "2022-01-24T19:36:47.031304Z"
    }
   },
   "outputs": [],
   "source": [
    "ismn_data.networks"
   ]
  },
  {
   "cell_type": "code",
   "execution_count": null,
   "metadata": {
    "ExecuteTime": {
     "end_time": "2022-01-24T19:36:50.167261Z",
     "start_time": "2022-01-24T19:36:50.136240Z"
    }
   },
   "outputs": [],
   "source": [
    "# Print this line if you want to know which landcover and climate classes are available\n",
    "ismn_data.print_climate_dict(), ismn_data.print_landcover_dict()"
   ]
  },
  {
   "cell_type": "code",
   "execution_count": null,
   "metadata": {
    "ExecuteTime": {
     "end_time": "2022-01-26T10:57:36.936179Z",
     "start_time": "2022-01-26T10:57:36.867302Z"
    }
   },
   "outputs": [],
   "source": [
    "# Search for ids with specific condtions\n",
    "ids = ismn_data.get_dataset_ids(variable='soil_moisture',\n",
    "                                max_depth=0.05,\n",
    "                                filter_meta_dict={'lc_2005': [10,11]}) #, 'network' : 'TERENO'\n",
    "                                 #10,11,20,130,200, 201, 202, 30\n",
    "                                 #,'climate_KG': ['Csa', 'Csb', 'Dwa', 'Dwb']\n",
    "                                    #groupby='network'\n",
    "len(ids)"
   ]
  },
  {
   "cell_type": "code",
   "execution_count": null,
   "metadata": {
    "ExecuteTime": {
     "end_time": "2022-01-26T10:57:41.721961Z",
     "start_time": "2022-01-26T10:57:41.690914Z"
    }
   },
   "outputs": [],
   "source": [
    "ids"
   ]
  },
  {
   "cell_type": "code",
   "execution_count": null,
   "metadata": {
    "ExecuteTime": {
     "end_time": "2022-01-26T10:58:26.577856Z",
     "start_time": "2022-01-26T10:58:11.021269Z"
    }
   },
   "outputs": [],
   "source": [
    "# Read Ids\n",
    "ts = [ismn_data.read(x ,return_meta=True) for x in ids]\n",
    "ts_data = [x[0] for x in ts]\n",
    "ts_meta = pd.DataFrame([x[1] for x in ts]).set_index('station')"
   ]
  },
  {
   "cell_type": "code",
   "execution_count": null,
   "metadata": {
    "ExecuteTime": {
     "end_time": "2022-01-26T11:19:44.490656Z",
     "start_time": "2022-01-26T11:19:44.425249Z"
    }
   },
   "outputs": [],
   "source": [
    "ismn_loi = list()\n",
    "for (data, meta), ismn_id in zip(ts, ids):\n",
    "    ismn_loi.append([meta.longitude.values[0],meta.latitude.values[0], ismn_id])\n",
    "ismn_loi = pd.DataFrame(ismn_loi).drop_duplicates(subset=[0,1])\n",
    "ismn_loi\n"
   ]
  },
  {
   "cell_type": "code",
   "execution_count": null,
   "metadata": {
    "ExecuteTime": {
     "end_time": "2022-01-26T11:06:24.397572Z",
     "start_time": "2022-01-26T11:06:24.357357Z"
    }
   },
   "outputs": [],
   "source": [
    "list(np.unique(ismn_loi, axis=0))"
   ]
  },
  {
   "cell_type": "code",
   "execution_count": null,
   "metadata": {
    "ExecuteTime": {
     "end_time": "2022-01-11T09:49:28.072042Z",
     "start_time": "2022-01-11T09:49:27.970632Z"
    }
   },
   "outputs": [],
   "source": [
    "#save ts data with id and lat_lon bezeichnung\n",
    "for (data, meta), ismn_id in zip(ts, ids):\n",
    "    data.to_json(path_ismn_zip + f'{ismn_id}_{meta.longitude.values[0]}_{meta.latitude.values[0]}_{meta.network.values[0]}.json')"
   ]
  },
  {
   "cell_type": "code",
   "execution_count": null,
   "metadata": {
    "ExecuteTime": {
     "end_time": "2021-12-17T20:01:19.691661Z",
     "start_time": "2021-12-17T20:01:19.412829Z"
    }
   },
   "outputs": [],
   "source": [
    "import geopandas as gpd"
   ]
  },
  {
   "cell_type": "code",
   "execution_count": null,
   "metadata": {
    "ExecuteTime": {
     "end_time": "2021-12-17T20:08:53.824255Z",
     "start_time": "2021-12-17T20:08:53.808253Z"
    }
   },
   "outputs": [],
   "source": [
    "import geojson\n",
    "\n",
    "# Create Geojson MultiPoint FeatureCollection \n",
    "geodf = gpd.GeoDataFrame(data=None, geometry=gpd.points_from_xy(x=ts_meta['longitude'].unstack().values, y=ts_meta['latitude'].unstack().values))\n",
    "fc = geodf.to_json()\n",
    "# Save geojson to disk\n",
    "with open(path_ismn_zip + file_name_out, 'w') as f:\n",
    "    geojson.dump(fc, f)"
   ]
  },
  {
   "cell_type": "code",
   "execution_count": null,
   "metadata": {
    "ExecuteTime": {
     "end_time": "2021-12-16T15:43:53.772315Z",
     "start_time": "2021-12-16T15:43:53.740825Z"
    }
   },
   "outputs": [],
   "source": [
    "# Quality Controle\n",
    "#Qflag\n",
    "#NDVI < 0.7\n"
   ]
  },
  {
   "cell_type": "code",
   "execution_count": null,
   "metadata": {
    "ExecuteTime": {
     "end_time": "2021-12-16T15:23:02.445982Z",
     "start_time": "2021-12-16T15:23:02.129881Z"
    }
   },
   "outputs": [],
   "source": [
    "#Plot Specific ids metdata and time series\n",
    "ts, meta = ismn_data.read(ids[3], return_meta=True)\n",
    "ax = ts.plot(figsize=(12,4), title=f'Time series for ID {ids[3]}')\n",
    "ax.set_xlabel(\"Time [year]\")\n",
    "ax.set_ylabel(\"Soil Moisture\")\n",
    "meta,ts"
   ]
  },
  {
   "cell_type": "code",
   "execution_count": null,
   "metadata": {
    "ExecuteTime": {
     "end_time": "2021-12-16T15:24:18.550872Z",
     "start_time": "2021-12-16T15:24:03.098620Z"
    }
   },
   "outputs": [],
   "source": [
    "import cartopy.crs as ccrs\n",
    "#plot available station on a map\n",
    "fig, axs = plt.subplots(1, 2, figsize=(16,10), subplot_kw={'projection': ccrs.Robinson()})\n",
    "ismn_data.plot_station_locations('soil_moisture', min_depth=0., max_depth=0.2, ax=axs[0])\n",
    "plt.show()"
   ]
  },
  {
   "cell_type": "code",
   "execution_count": null,
   "metadata": {
    "ExecuteTime": {
     "end_time": "2021-12-16T11:15:00.542665Z",
     "start_time": "2021-12-16T11:15:00.529672Z"
    }
   },
   "outputs": [],
   "source": [
    "gt_path = 'C://Users/USER/Desktop/Master_Irrigation/03_GIS/ground_trouth/'\n",
    "#irrigation # rainfall \n",
    "path_brandenburg = gt_path + 'irrigation+_archive/In situ data/German/Irrigation_Test_Site_Brandenburg.nc'\n",
    "path_niedersachsen = gt_path + 'irrigation+_archive\\Input netcdf\\TEST_SITE_GERMANY_NIEDERSACHSEN.nc'\n",
    "path_budrio = gt_path + 'irrigation+_archive/In situ data/Italy/Irrigation_Test_Site_Budrio.nc'\n",
    "\n",
    "# Tereno\n",
    "path = 'C://Users/USER/Desktop/Master_Irrigation/03_GIS/ground_trouth/TERENO_archieve'\n",
    "files_BF = glob(path + '/*BF*')"
   ]
  },
  {
   "cell_type": "code",
   "execution_count": null,
   "metadata": {
    "ExecuteTime": {
     "end_time": "2021-12-16T11:15:02.507396Z",
     "start_time": "2021-12-16T11:15:01.682793Z"
    }
   },
   "outputs": [],
   "source": [
    "#Tereno\n",
    "test = pd.read_csv('C://Users/USER/Desktop/Master_Irrigation/03_GIS/ground_trouth/TERENO_archieve/altPlestlin_BF1_v1.2_20121029_20210630/altPlestlin_BF1_v1.2_20121029_20210630.csv')\n",
    "test.columns"
   ]
  },
  {
   "cell_type": "code",
   "execution_count": null,
   "metadata": {
    "ExecuteTime": {
     "end_time": "2021-12-16T11:15:18.872218Z",
     "start_time": "2021-12-16T11:15:13.189617Z"
    }
   },
   "outputs": [],
   "source": [
    "brandenburg = xr.load_dataset(path_niedersachsen)\n",
    "#field_1 = brandenburg[['Longitude_1', 'Latitude_1', 'Time-days_1']]\n",
    "brandenburg"
   ]
  },
  {
   "cell_type": "code",
   "execution_count": null,
   "metadata": {
    "ExecuteTime": {
     "end_time": "2021-12-14T21:19:32.458325Z",
     "start_time": "2021-12-14T21:19:32.432360Z"
    }
   },
   "outputs": [],
   "source": [
    "field_1"
   ]
  }
 ],
 "metadata": {
  "kernelspec": {
   "display_name": "Python [conda env:irrigation_detection]",
   "language": "python",
   "name": "conda-env-irrigation_detection-py"
  },
  "language_info": {
   "codemirror_mode": {
    "name": "ipython",
    "version": 3
   },
   "file_extension": ".py",
   "mimetype": "text/x-python",
   "name": "python",
   "nbconvert_exporter": "python",
   "pygments_lexer": "ipython3",
   "version": "3.9.7"
  },
  "toc": {
   "base_numbering": 1,
   "nav_menu": {},
   "number_sections": true,
   "sideBar": true,
   "skip_h1_title": false,
   "title_cell": "Table of Contents",
   "title_sidebar": "Contents",
   "toc_cell": false,
   "toc_position": {},
   "toc_section_display": true,
   "toc_window_display": false
  },
  "varInspector": {
   "cols": {
    "lenName": 16,
    "lenType": 16,
    "lenVar": 40
   },
   "kernels_config": {
    "python": {
     "delete_cmd_postfix": "",
     "delete_cmd_prefix": "del ",
     "library": "var_list.py",
     "varRefreshCmd": "print(var_dic_list())"
    },
    "r": {
     "delete_cmd_postfix": ") ",
     "delete_cmd_prefix": "rm(",
     "library": "var_list.r",
     "varRefreshCmd": "cat(var_dic_list()) "
    }
   },
   "position": {
    "height": "337.85px",
    "left": "1267px",
    "right": "20px",
    "top": "120px",
    "width": "350px"
   },
   "types_to_exclude": [
    "module",
    "function",
    "builtin_function_or_method",
    "instance",
    "_Feature"
   ],
   "window_display": false
  }
 },
 "nbformat": 4,
 "nbformat_minor": 2
}
