{
 "cells": [
  {
   "cell_type": "code",
   "execution_count": null,
   "metadata": {
    "ExecuteTime": {
     "end_time": "2021-11-18T21:29:17.201795Z",
     "start_time": "2021-11-18T21:29:17.146307Z"
    }
   },
   "outputs": [],
   "source": [
    "import rasterio\n",
    "from rasterio.features import shapes\n",
    "mask = None\n",
    "with rasterio.Env():\n",
    "    with rasterio.open('C://Users/USER/Desktop/Master_Irrigation/03_GIS/irrigation_map_whr/irrigation_map_whr_georef.tif') as src:\n",
    "        image = src.read(3) # first band\n",
    "        results = (\n",
    "        {'properties': {'raster_val': v}, 'geometry': s}\n",
    "        for i, (s, v) \n",
    "        in enumerate(\n",
    "            shapes(image, mask=mask, transform=src.transform)))"
   ]
  },
  {
   "cell_type": "code",
   "execution_count": null,
   "metadata": {
    "ExecuteTime": {
     "end_time": "2021-11-18T21:30:29.367145Z",
     "start_time": "2021-11-18T21:29:52.916312Z"
    }
   },
   "outputs": [],
   "source": [
    "geoms = list(results)\n",
    "import geopandas as gp\n",
    "gpd_polygonized_raster  = gp.GeoDataFrame.from_features(geoms)"
   ]
  },
  {
   "cell_type": "code",
   "execution_count": null,
   "metadata": {
    "ExecuteTime": {
     "end_time": "2021-11-18T21:33:31.063897Z",
     "start_time": "2021-11-18T21:31:06.233940Z"
    }
   },
   "outputs": [],
   "source": [
    "gpd_polygonized_raster.to_file('C://Users/USER/Desktop/Master_Irrigation/03_GIS/irrigation_map_whr/shp/irrigation_map_whr_georef_3.shp')"
   ]
  },
  {
   "cell_type": "code",
   "execution_count": null,
   "metadata": {
    "ExecuteTime": {
     "end_time": "2021-11-18T20:42:44.864684Z",
     "start_time": "2021-11-18T20:40:57.873566Z"
    }
   },
   "outputs": [],
   "source": [
    "import numpy as np\n",
    "from skimage import io, morphology, measure\n",
    "from sklearn.cluster import KMeans\n",
    "from matplotlib import pyplot as plt\n",
    "\n",
    "img = io.imread('C://Users/USER/Desktop/Master_Irrigation/03_GIS/irrigation_map_whr/irrigation_map_whr.tiff')\n",
    "\n",
    "rows, cols, bands = img.shape\n",
    "X = img.reshape(rows*cols, bands)\n",
    "\n",
    "kmeans = KMeans(n_clusters=16).fit(X)\n",
    "labels = kmeans.labels_.reshape(rows, cols)\n",
    "\n",
    "for i in np.unique(labels):\n",
    "    blobs = np.int_(morphology.binary_opening(labels == i))\n",
    "    color = np.around(kmeans.cluster_centers_[i])\n",
    "    count = len(np.unique(measure.label(blobs))) - 1\n",
    "    print('Color: {}  >>  Objects: {}'.format(color, count))\n",
    "    \n",
    "#Plot the data\n",
    "plt.figure(figsize=(20,20))\n",
    "plt.imshow(labels)\n",
    "\n",
    "plt.show()"
   ]
  },
  {
   "cell_type": "code",
   "execution_count": null,
   "metadata": {
    "ExecuteTime": {
     "end_time": "2021-11-18T17:49:31.611466Z",
     "start_time": "2021-11-18T17:49:31.351068Z"
    }
   },
   "outputs": [],
   "source": [
    "from pikepdf import Pdf, PdfImage\n",
    "\n",
    "filename = \"C://Users/USER/Desktop/Master_Irrigation/03_GIS/irrigation_map_whr/irrigation_map_whr.pdf\"\n",
    "example = Pdf.open(filename)\n",
    "image.extract_to(fileprefix=\"C://Users/USER/Desktop/Master_Irrigation/03_GIS/irrigation_map_whr/irrigation_map_whr-E.tif\")\n",
    "for i, page in enumerate(example.pages):\n",
    "    for j, (name, raw_image) in enumerate(page.images.items()):\n",
    "        image = PdfImage(raw_image)\n",
    "        out = image.extract_to(fileprefix=f\"{filename}-page{i:03}-img{j:03}\")"
   ]
  },
  {
   "cell_type": "code",
   "execution_count": null,
   "metadata": {
    "ExecuteTime": {
     "end_time": "2021-11-18T20:23:21.589043Z",
     "start_time": "2021-11-18T20:22:49.271650Z"
    }
   },
   "outputs": [],
   "source": [
    "from skimage import data, io, segmentation, color\n",
    "from skimage.future import graph\n",
    "import numpy as np\n",
    "\n",
    "\n",
    "def _weight_mean_color(graph, src, dst, n):\n",
    "    \"\"\"Callback to handle merging nodes by recomputing mean color.\n",
    "\n",
    "    The method expects that the mean color of `dst` is already computed.\n",
    "\n",
    "    Parameters\n",
    "    ----------\n",
    "    graph : RAG\n",
    "        The graph under consideration.\n",
    "    src, dst : int\n",
    "        The vertices in `graph` to be merged.\n",
    "    n : int\n",
    "        A neighbor of `src` or `dst` or both.\n",
    "\n",
    "    Returns\n",
    "    -------\n",
    "    data : dict\n",
    "        A dictionary with the `\"weight\"` attribute set as the absolute\n",
    "        difference of the mean color between node `dst` and `n`.\n",
    "    \"\"\"\n",
    "\n",
    "    diff = graph.nodes[dst]['mean color'] - graph.nodes[n]['mean color']\n",
    "    diff = np.linalg.norm(diff)\n",
    "    return {'weight': diff}\n",
    "\n",
    "\n",
    "def merge_mean_color(graph, src, dst):\n",
    "    \"\"\"Callback called before merging two nodes of a mean color distance graph.\n",
    "\n",
    "    This method computes the mean color of `dst`.\n",
    "\n",
    "    Parameters\n",
    "    ----------\n",
    "    graph : RAG\n",
    "        The graph under consideration.\n",
    "    src, dst : int\n",
    "        The vertices in `graph` to be merged.\n",
    "    \"\"\"\n",
    "    graph.nodes[dst]['total color'] += graph.nodes[src]['total color']\n",
    "    graph.nodes[dst]['pixel count'] += graph.nodes[src]['pixel count']\n",
    "    graph.nodes[dst]['mean color'] = (graph.nodes[dst]['total color'] /\n",
    "                                      graph.nodes[dst]['pixel count'])\n",
    "\n",
    "import rasterio\n",
    "\n",
    "\n",
    "img = io.imread('C://Users/USER/Desktop/Master_Irrigation/03_GIS/irrigation_map_whr/irrigation_map_whr.tiff')\n",
    "#img = data.coffee()\n",
    "print(type(img), img.shape)\n",
    "labels = segmentation.slic(img, compactness=30, n_segments=400, start_label=1)\n",
    "g = graph.rag_mean_color(img, labels)\n",
    "\n",
    "labels2 = graph.merge_hierarchical(labels, g, thresh=35, rag_copy=False,\n",
    "                                   in_place_merge=True,\n",
    "                                   merge_func=merge_mean_color,\n",
    "                                   weight_func=_weight_mean_color)\n",
    "\n",
    "out = color.label2rgb(labels2, img, kind='avg', bg_label=0)\n",
    "out = segmentation.mark_boundaries(out, labels2, (0, 0, 0))\n",
    "io.imshow(out)\n",
    "io.show()"
   ]
  }
 ],
 "metadata": {
  "kernelspec": {
   "display_name": "Python [conda env:irrigation_detection]",
   "language": "python",
   "name": "conda-env-irrigation_detection-py"
  },
  "language_info": {
   "codemirror_mode": {
    "name": "ipython",
    "version": 3
   },
   "file_extension": ".py",
   "mimetype": "text/x-python",
   "name": "python",
   "nbconvert_exporter": "python",
   "pygments_lexer": "ipython3",
   "version": "3.9.7"
  },
  "toc": {
   "base_numbering": 1,
   "nav_menu": {},
   "number_sections": true,
   "sideBar": true,
   "skip_h1_title": false,
   "title_cell": "Table of Contents",
   "title_sidebar": "Contents",
   "toc_cell": false,
   "toc_position": {},
   "toc_section_display": true,
   "toc_window_display": false
  },
  "varInspector": {
   "cols": {
    "lenName": 16,
    "lenType": 16,
    "lenVar": 40
   },
   "kernels_config": {
    "python": {
     "delete_cmd_postfix": "",
     "delete_cmd_prefix": "del ",
     "library": "var_list.py",
     "varRefreshCmd": "print(var_dic_list())"
    },
    "r": {
     "delete_cmd_postfix": ") ",
     "delete_cmd_prefix": "rm(",
     "library": "var_list.r",
     "varRefreshCmd": "cat(var_dic_list()) "
    }
   },
   "types_to_exclude": [
    "module",
    "function",
    "builtin_function_or_method",
    "instance",
    "_Feature"
   ],
   "window_display": true
  }
 },
 "nbformat": 4,
 "nbformat_minor": 2
}
