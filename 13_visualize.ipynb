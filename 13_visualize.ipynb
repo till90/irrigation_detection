{
 "cells": [
  {
   "cell_type": "code",
   "execution_count": null,
   "metadata": {
    "ExecuteTime": {
     "end_time": "2021-10-18T00:07:17.395723Z",
     "start_time": "2021-10-18T00:06:42.836706Z"
    }
   },
   "outputs": [],
   "source": [
    "# Install a pip package in the current Jupyter kernel\n",
    "import sys\n",
    "!conda install -c pyviz --yes --prefix {sys.prefix} geoviews, hvplot, firefox, geckodriver, foilium, selenium"
   ]
  },
  {
   "cell_type": "code",
   "execution_count": null,
   "metadata": {},
   "outputs": [],
   "source": [
    "conda install -c conda-forge firefox geckodriver"
   ]
  },
  {
   "cell_type": "code",
   "execution_count": null,
   "metadata": {
    "ExecuteTime": {
     "end_time": "2021-10-17T19:00:11.926576Z",
     "start_time": "2021-10-17T19:00:11.888765Z"
    }
   },
   "outputs": [],
   "source": [
    "from irrigation_detection import open_radolan_SF"
   ]
  },
  {
   "cell_type": "code",
   "execution_count": null,
   "metadata": {
    "ExecuteTime": {
     "end_time": "2021-10-17T19:01:49.310306Z",
     "start_time": "2021-10-17T19:01:39.423340Z"
    }
   },
   "outputs": [],
   "source": [
    "radolan_SF = open_radolan_SF('D://radolanSF_download/*2350-dwd---bin.gz')"
   ]
  },
  {
   "cell_type": "code",
   "execution_count": null,
   "metadata": {
    "ExecuteTime": {
     "end_time": "2021-10-17T19:05:06.344351Z",
     "start_time": "2021-10-17T19:04:24.910554Z"
    }
   },
   "outputs": [],
   "source": [
    "radolan_SF.SF.plot()"
   ]
  },
  {
   "cell_type": "code",
   "execution_count": null,
   "metadata": {
    "ExecuteTime": {
     "end_time": "2021-10-17T19:19:21.551343Z",
     "start_time": "2021-10-17T19:19:21.177943Z"
    }
   },
   "outputs": [],
   "source": [
    "def animate_timeseries(ds):\n",
    "    \"\"\"\n",
    "    Arguments: ds\n",
    "    \"\"\"\n",
    "    import hvplot.xarray\n",
    "    \n",
    "    "
   ]
  },
  {
   "cell_type": "code",
   "execution_count": null,
   "metadata": {
    "ExecuteTime": {
     "end_time": "2021-10-17T19:26:56.388756Z",
     "start_time": "2021-10-17T19:26:53.248544Z"
    }
   },
   "outputs": [],
   "source": [
    "radolan_SF.isel(time=slice(0,365)).SF.hvplot()"
   ]
  },
  {
   "cell_type": "raw",
   "metadata": {},
   "source": []
  },
  {
   "cell_type": "code",
   "execution_count": null,
   "metadata": {
    "ExecuteTime": {
     "end_time": "2021-10-17T19:06:59.218935Z",
     "start_time": "2021-10-17T19:06:59.087647Z"
    }
   },
   "outputs": [],
   "source": [
    "# set constant colorbar limits\n",
    "hvplot(\n",
    "    groupby=\"time\",  # adds a widget for time\n",
    "    clim=(0, 1),  # sets colormap limits\n",
    "    widget_type=\"scrubber\",\n",
    "    widget_location=\"bottom\",\n",
    ")"
   ]
  }
 ],
 "metadata": {
  "kernelspec": {
   "display_name": "Python [conda env:irrigation_detection]",
   "language": "python",
   "name": "conda-env-irrigation_detection-py"
  },
  "language_info": {
   "codemirror_mode": {
    "name": "ipython",
    "version": 3
   },
   "file_extension": ".py",
   "mimetype": "text/x-python",
   "name": "python",
   "nbconvert_exporter": "python",
   "pygments_lexer": "ipython3",
   "version": "3.9.7"
  },
  "toc": {
   "base_numbering": 1,
   "nav_menu": {},
   "number_sections": true,
   "sideBar": true,
   "skip_h1_title": false,
   "title_cell": "Table of Contents",
   "title_sidebar": "Contents",
   "toc_cell": false,
   "toc_position": {},
   "toc_section_display": true,
   "toc_window_display": false
  },
  "varInspector": {
   "cols": {
    "lenName": 16,
    "lenType": 16,
    "lenVar": 40
   },
   "kernels_config": {
    "python": {
     "delete_cmd_postfix": "",
     "delete_cmd_prefix": "del ",
     "library": "var_list.py",
     "varRefreshCmd": "print(var_dic_list())"
    },
    "r": {
     "delete_cmd_postfix": ") ",
     "delete_cmd_prefix": "rm(",
     "library": "var_list.r",
     "varRefreshCmd": "cat(var_dic_list()) "
    }
   },
   "types_to_exclude": [
    "module",
    "function",
    "builtin_function_or_method",
    "instance",
    "_Feature"
   ],
   "window_display": false
  }
 },
 "nbformat": 4,
 "nbformat_minor": 2
}
