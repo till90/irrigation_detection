{
 "cells": [
  {
   "cell_type": "code",
   "execution_count": null,
   "metadata": {
    "ExecuteTime": {
     "end_time": "2021-10-18T00:07:17.395723Z",
     "start_time": "2021-10-18T00:06:42.836706Z"
    }
   },
   "outputs": [],
   "source": [
    "# Install a pip package in the current Jupyter kernel\n",
    "import sys\n",
    "!conda install -c pyviz --yes --prefix {sys.prefix} geoviews, hvplot, firefox, geckodriver, foilium, selenium"
   ]
  },
  {
   "cell_type": "markdown",
   "metadata": {},
   "source": [
    "# ISMN + Sentinel Data Dashboard"
   ]
  },
  {
   "cell_type": "code",
   "execution_count": null,
   "metadata": {
    "ExecuteTime": {
     "end_time": "2022-01-30T11:25:24.336377Z",
     "start_time": "2022-01-30T11:25:24.296423Z"
    }
   },
   "outputs": [],
   "source": [
    "# Import modules\n",
    "from glob import glob\n",
    "import datetime as dt\n",
    "import geopandas as gpd\n",
    "import pandas as pd\n",
    "import holoviews as hv\n",
    "import hvplot.pandas\n",
    "import numpy as np\n",
    "import panel as pn\n",
    "# Initializes the pyviz notebook extension to allow plotting with bokeh and enable comms\n",
    "pn.extension()"
   ]
  },
  {
   "cell_type": "markdown",
   "metadata": {},
   "source": [
    "## Data and Paths"
   ]
  },
  {
   "cell_type": "code",
   "execution_count": null,
   "metadata": {
    "ExecuteTime": {
     "end_time": "2022-01-30T10:31:11.048586Z",
     "start_time": "2022-01-30T10:31:11.032960Z"
    }
   },
   "outputs": [],
   "source": [
    "# Files with data\n",
    "paths = glob('C://Users/USER/Desktop/Master_Irrigation/03_GIS/ground_trouth/sentinel_ismn_data/*',)\n",
    "paths.sort()\n",
    "\n",
    "# Create Station id linked with filepath\n",
    "ids = [x.split('\\\\')[-1].split('_')[0] for x in paths]\n",
    "files = dict(zip(ids,paths))"
   ]
  },
  {
   "cell_type": "markdown",
   "metadata": {},
   "source": [
    "## Preprocessing"
   ]
  },
  {
   "cell_type": "code",
   "execution_count": null,
   "metadata": {
    "ExecuteTime": {
     "end_time": "2022-01-30T10:32:15.077042Z",
     "start_time": "2022-01-30T10:31:58.853787Z"
    }
   },
   "outputs": [],
   "source": [
    "# Load all files into one Dataframe\n",
    "gdf = gpd.tools.util.pd.concat(map(gpd.read_file, paths), ignore_index=True)\n",
    "# Set type of date column to datetime object\n",
    "gdf.date = gdf.date.astype('datetime64[ns]')\n",
    "# Clean Nan Values within subset columns\n",
    "gdf.dropna(how='any', subset=['soil_moisture', 'VV'], inplace=True)"
   ]
  },
  {
   "cell_type": "code",
   "execution_count": null,
   "metadata": {
    "ExecuteTime": {
     "end_time": "2022-01-30T11:33:01.581437Z",
     "start_time": "2022-01-30T11:33:01.565815Z"
    }
   },
   "outputs": [],
   "source": [
    "gdf['NDVI'].between(0,1)"
   ]
  },
  {
   "cell_type": "markdown",
   "metadata": {},
   "source": [
    "## Widgets & Dashboard"
   ]
  },
  {
   "cell_type": "code",
   "execution_count": null,
   "metadata": {
    "ExecuteTime": {
     "end_time": "2022-01-30T11:33:32.347003Z",
     "start_time": "2022-01-30T11:33:32.146828Z"
    }
   },
   "outputs": [],
   "source": [
    "#Options for Widgets\n",
    "years = gdf.date.dt.year.unique()\n",
    "months = gdf.date.dt.month.unique()\n",
    "ids = list(gdf.ismn_id.unique())\n",
    "platforms = list(gdf.platform.unique())\n",
    "orbit_directions = list(gdf.orbit.unique())\n",
    "ndvi = gdf.NDVI.unique()\n",
    "variables = list(gdf.columns)\n",
    "\n",
    "# Widgets\n",
    "id_selector = pn.widgets.Select(name='ISMN Station ID', options=ids, value=2027)\n",
    "platform_selector = pn.widgets.Select(name='Sentinel 1 Platform', options=platforms, value='A')\n",
    "orbit_selector = pn.widgets.Select(name='Sentinel 1 Orbit', options=orbit_directions, value='ASCENDING')\n",
    "year_slider = pn.widgets.IntSlider(name = 'Year', start=int(years.min()), end=int(years.max()), value=2015)\n",
    "month_range = pn.widgets.IntRangeSlider(name = 'Months', start=int(months.min()), end=int(months.max()), value=(3,10))\n",
    "ndvi_range = pn.widgets.RangeSlider(name='NDVI Range', start=ndvi.min(), end=ndvi.max(), value=(0,0.7))\n",
    "column_picker_x = pn.widgets.Select(name = 'X Axes', options=variables, value = 'soil_moisture')\n",
    "column_picker_y = pn.widgets.Select(name = 'Y Axes', options=variables, value = 'VV')\n",
    "\n",
    "@pn.depends(id_selector, platform_selector,orbit_selector, year_slider, month_range, ndvi_range, column_picker_x,column_picker_y)\n",
    "def plot_data(id_selector, platform_selector, orbit_selector, year_slider, month_range, ndvi_range, column_picker_x,column_picker_y):\n",
    "    d1 = gdf[(gdf['ismn_id'] == id_selector)& \n",
    "             (gdf['platform'] == platform_selector)& \n",
    "             (gdf['orbit'] == orbit_selector)&\n",
    "             (gdf['date'].dt.year == year_slider)& \n",
    "             (gdf['date'].dt.month.isin(range(month_range[0], month_range[1])))& \n",
    "             (gdf['NDVI'].between(ndvi_range[0], ndvi_range[1]))\n",
    "            ]\n",
    "    scatter = d1.hvplot.scatter(\n",
    "        x=column_picker_x, \n",
    "        y=column_picker_y, \n",
    "        xlim=(0,1), \n",
    "        ylim=(-25,5)\n",
    "    )\n",
    "    #reg_line = hv.Slope.from_scatter(scatter)\n",
    "    return scatter\n",
    "\n",
    "\n",
    "# Non Parameter Attributes\n",
    "title = 'Sentinel VV vs. soil moisture (ismn station)'\n",
    "\n",
    "header_box = pn.WidgetBox(title,\n",
    "                          id_selector, \n",
    "                          platform_selector,\n",
    "                          orbit_selector, \n",
    "                          year_slider, \n",
    "                          month_range,\n",
    "                          ndvi_range,\n",
    "                          column_picker_x, \n",
    "                          column_picker_y, \n",
    "                          pn.layout.Spacer(margin=200), \n",
    "                          width=300, \n",
    "                          height=1000, \n",
    "                          align=\"center\"\n",
    "                         )\n",
    "\n",
    "# Plot Box\n",
    "dashboard = pn.Row(header_box, plot_data)\n",
    "dashboard"
   ]
  },
  {
   "cell_type": "code",
   "execution_count": null,
   "metadata": {},
   "outputs": [],
   "source": [
    "files = glob('C://Users/USER/Desktop/Master_Irrigation/03_GIS/ground_trouth/sentinel_ismn_data/*',)\n",
    "\n",
    "\n",
    "\n",
    "def split_s1(file):\n",
    "    \"\"\"\n",
    "    Arguments:\n",
    "    \"\"\"\n",
    "    \n",
    "    # Import modules\n",
    "    import geopandas as gpd\n",
    "    \n",
    "    # Read file\n",
    "    gdf = gpd.read_file(file)\n",
    "    gdf['date'] = gdf.date.astype('datetime64[ns]')\n",
    "    # Split into 4 groups of equal aquisition types\n",
    "    asA = gdf[(gdf['orbit'] == 'ASCENDING') & (gdf['platform'] == 'A')].dropna(how='any', subset=['soil_moisture'])\n",
    "    dsA = gdf[(gdf['orbit'] == 'DESCENDING') & (gdf['platform'] == 'A')].dropna(how='any', subset=['soil_moisture'])\n",
    "    asB = gdf[(gdf['orbit'] == 'ASCENDING') & (gdf['platform'] == 'B')].dropna(how='any', subset=['soil_moisture'])\n",
    "    dsB = gdf[(gdf['orbit'] == 'DESCENDING') & (gdf['platform'] == 'B')].dropna(how='any', subset=['soil_moisture'])\n",
    "    \n",
    "    return asA, dsB, asB, dsB\n",
    "\n",
    "asA, dsB, asB, dsB = split_s1(files[0])\n",
    "\n",
    "import hvplot.pandas  # noqa\n",
    "asA[['VV', 'soil_moisture', 'date']].hvplot.scatter(x='VV', y='soil_moisture', by='date.year')"
   ]
  },
  {
   "cell_type": "code",
   "execution_count": null,
   "metadata": {
    "ExecuteTime": {
     "end_time": "2021-12-03T17:41:57.958399Z",
     "start_time": "2021-12-03T17:41:56.069585Z"
    }
   },
   "outputs": [],
   "source": [
    "import geopandas as gpd\n",
    "import pandas as pd"
   ]
  },
  {
   "cell_type": "markdown",
   "metadata": {},
   "source": [
    "## Load FeatureCollection from 07_Sentinel_1_grd notebook"
   ]
  },
  {
   "cell_type": "code",
   "execution_count": null,
   "metadata": {
    "ExecuteTime": {
     "end_time": "2021-12-03T17:41:58.960380Z",
     "start_time": "2021-12-03T17:41:58.944988Z"
    }
   },
   "outputs": [],
   "source": [
    "def load_full_gdf(path):\n",
    "    gdf = gpd.read_file(path)\n",
    "    gdf = gdf.astype({'sentinel': 'string', 'orbit': 'string', 'identifier': 'string'})\n",
    "    gdf['date'] = pd.to_datetime(gdf['date'])\n",
    "    return pd.DataFrame(gdf)"
   ]
  },
  {
   "cell_type": "code",
   "execution_count": null,
   "metadata": {
    "ExecuteTime": {
     "end_time": "2021-12-03T17:42:13.691744Z",
     "start_time": "2021-12-03T17:42:06.757984Z"
    }
   },
   "outputs": [],
   "source": [
    "df_raw = load_full_gdf(r'C:/Users/USER/Desktop/Master_Irrigation/03_GIS/idm_test/whr_s1_raw_full.geojson')\n",
    "df_raw = df_raw[df_raw['date'].dt.year >= 2016]\n",
    "\n",
    "df_ndvi15 = load_full_gdf(r'C:/Users/USER/Desktop/Master_Irrigation/03_GIS/idm_test/whr_s1_ndvi15_full.geojson')\n",
    "df_ndvi30 = load_full_gdf(r'C:/Users/USER/Desktop/Master_Irrigation/03_GIS/idm_test/whr_s1_ndvi30_full.geojson')"
   ]
  },
  {
   "cell_type": "code",
   "execution_count": null,
   "metadata": {
    "ExecuteTime": {
     "end_time": "2021-12-03T17:42:13.769717Z",
     "start_time": "2021-12-03T17:42:13.745175Z"
    }
   },
   "outputs": [],
   "source": [
    "def compute_swi(df):\n",
    "    #5th and 95th percentile represting dry and wet state\n",
    "    vvdry = df.VV.quantile(0.05, 'linear')\n",
    "    vvwet = df.VV.quantile(0.95, 'linear')\n",
    "    \n",
    "    swi = list()\n",
    "    for row in df.itertuples():\n",
    "        vv0 = row.VV\n",
    "        swi.append(((vv0 - vvdry) / (vvwet - vvdry)) * 100)\n",
    "    \n",
    "    return swi"
   ]
  },
  {
   "cell_type": "code",
   "execution_count": null,
   "metadata": {
    "ExecuteTime": {
     "end_time": "2021-12-03T17:42:13.961173Z",
     "start_time": "2021-12-03T17:42:13.819616Z"
    }
   },
   "outputs": [],
   "source": [
    "df_ndvi15['swi'] = compute_swi(df_ndvi15)"
   ]
  },
  {
   "cell_type": "code",
   "execution_count": null,
   "metadata": {
    "ExecuteTime": {
     "end_time": "2021-12-03T18:02:31.536946Z",
     "start_time": "2021-12-03T18:02:31.201598Z"
    }
   },
   "outputs": [],
   "source": [
    "#Create 4 Groups of similiar conditions and sort time series afte patch numbers\n",
    "ms1 = gdf[(gdf['sentinel'] == 'A') & (gdf['orbit'] == 'descending')].sort_values(['patch','date'])\n",
    "ms2 = gdf[(gdf['sentinel'] == 'B') & (gdf['orbit'] == 'descending')].sort_values(['patch','date'])\n",
    "as1 = gdf[(gdf['sentinel'] == 'A') & (gdf['orbit'] == 'ascending')].sort_values(['patch','date'])\n",
    "as2 = gdf[(gdf['sentinel'] == 'B') & (gdf['orbit'] == 'ascending')].sort_values(['patch','date'])"
   ]
  },
  {
   "cell_type": "markdown",
   "metadata": {},
   "source": [
    "# Visualize with matplotlib"
   ]
  },
  {
   "cell_type": "code",
   "execution_count": null,
   "metadata": {
    "ExecuteTime": {
     "end_time": "2021-12-03T18:02:54.797808Z",
     "start_time": "2021-12-03T18:02:54.766543Z"
    }
   },
   "outputs": [],
   "source": [
    "import matplotlib.pyplot as plt\n",
    "from matplotlib import dates\n",
    "import matplotlib.dates as mdates\n",
    "import datetime as dt"
   ]
  },
  {
   "cell_type": "code",
   "execution_count": null,
   "metadata": {
    "ExecuteTime": {
     "end_time": "2021-12-03T18:03:02.269558Z",
     "start_time": "2021-12-03T18:03:02.238300Z"
    }
   },
   "outputs": [],
   "source": [
    "#Plot with matplotlib and pandas\n",
    "def filter_data(df,year,patch,orbit,sentinel):\n",
    "    return df[(df['sentinel'] == sentinel) & (df['orbit'] == orbit) & (df['patch'] == patch) & (df['date'].dt.year == year)].sort_values('date')"
   ]
  },
  {
   "cell_type": "code",
   "execution_count": null,
   "metadata": {
    "ExecuteTime": {
     "end_time": "2021-12-03T18:03:39.869771Z",
     "start_time": "2021-12-03T18:03:39.833563Z"
    }
   },
   "outputs": [],
   "source": [
    "df = filter_data(df_ndvi15,2018,4,'descending','A')\n",
    "df1 = filter_data(df_ndvi30,2018,4,'ascending','A')\n",
    "df2 = filter_data(df_ndvi30,2018,4,'ascending','B')\n",
    "df3 = filter_data(df_ndvi30,2018,4,'descending','B')"
   ]
  },
  {
   "cell_type": "code",
   "execution_count": null,
   "metadata": {
    "ExecuteTime": {
     "end_time": "2021-12-03T18:27:25.817690Z",
     "start_time": "2021-12-03T18:27:25.321704Z"
    }
   },
   "outputs": [],
   "source": [
    "fig1 = plt.Figure(figsize=(19,9))  # Make a figure\n",
    "\n",
    "# Bar charts \n",
    "ax1 = fig1.add_subplot()         \n",
    "ax1.bar('date', 'precipitation', data=df, color='black')   \n",
    "ax1.set_ylabel('precipitation sum between two measurements (mm)', color='black')\n",
    "ax1.set_xticks(df.date.to_list())\n",
    "ax1.set_xticks(df.date.to_list(), minor=True)\n",
    "\n",
    "# Line Chart second y axis\n",
    "ax2 = ax1.twinx()               \n",
    "ax2.plot('date', 'swi', data=df, color='red', marker='o', linewidth=5)\n",
    "#ax2.plot('date', 'VV_change', data=df1, color='darkred', marker='o', linewidth=5)\n",
    "#ax2.plot('date', 'VV_change', data=df2, color='blue', marker='o', linewidth=5)\n",
    "#ax2.plot('date', 'SWI', data=df3, color='darkblue', marker='o', linewidth=5)\n",
    "ax2.set_ylabel('Backscatter coefficient dB', color='black')\n",
    "\n",
    "# Format X axes\n",
    "ax1.xaxis.set_major_locator(mdates.MonthLocator())\n",
    "ax1.xaxis.set_major_formatter(mdates.DateFormatter('%b'))\n",
    "ax1.grid(True, alpha=1, which='both')\n",
    "\n",
    "ax1.set_xlim([dt.datetime(2018,3,1),dt.datetime(2018,11,1)], auto=True)\n",
    "display(fig1)"
   ]
  },
  {
   "cell_type": "code",
   "execution_count": null,
   "metadata": {
    "ExecuteTime": {
     "end_time": "2021-12-03T18:04:25.103076Z",
     "start_time": "2021-12-03T18:04:24.913533Z"
    }
   },
   "outputs": [],
   "source": [
    "df.plot(x='date', y='swi')"
   ]
  },
  {
   "cell_type": "markdown",
   "metadata": {},
   "source": [
    "# Visualize with Hvplot (holoviews)"
   ]
  },
  {
   "cell_type": "code",
   "execution_count": null,
   "metadata": {
    "ExecuteTime": {
     "end_time": "2021-11-30T11:08:23.737238Z",
     "start_time": "2021-11-30T11:08:18.383013Z"
    }
   },
   "outputs": [],
   "source": [
    "import hvplot\n",
    "import hvplot.pandas\n",
    "import holoviews as hv\n",
    "hv.extension('bokeh')"
   ]
  },
  {
   "cell_type": "code",
   "execution_count": null,
   "metadata": {
    "ExecuteTime": {
     "end_time": "2021-11-30T11:27:17.885033Z",
     "start_time": "2021-11-30T11:27:17.483682Z"
    }
   },
   "outputs": [],
   "source": [
    "line_raw = df_raw.hvplot.line(x='date', y='VV', rot=90, groupby=['date.year','date.month', 'patch', 'sentinel', 'orbit'])\n",
    "line_15 = df_ndvi15.hvplot.line(x='date', y='VV', rot=90, groupby=['date.year','date.month', 'patch', 'sentinel', 'orbit'])\n",
    "line_30 = df_ndvi30.hvplot.line(x='date', y='VV', rot=90, groupby=['date.year','date.month', 'patch', 'sentinel', 'orbit'])\n",
    "\n",
    "(line_raw * line_15 * line_30).opts(legend_position='right')"
   ]
  },
  {
   "cell_type": "code",
   "execution_count": null,
   "metadata": {
    "ExecuteTime": {
     "end_time": "2021-11-28T15:19:16.093800Z",
     "start_time": "2021-11-28T15:19:15.662396Z"
    },
    "scrolled": true
   },
   "outputs": [],
   "source": [
    "scatter = gdf_raw.hvplot.scatter(x='date', y='VV_change',rot=90, groupby=['date.year', 'patch', 'sentinel', 'orbit'])\n",
    "hist = gdf_raw.hvplot.hist('precipitation', rot=90, groupby=['date.year', 'patch', 'sentinel', 'orbit'])\n",
    "ls1 = hv.link_selections.instance()\n",
    "scatter + hist"
   ]
  },
  {
   "cell_type": "code",
   "execution_count": null,
   "metadata": {
    "ExecuteTime": {
     "end_time": "2021-11-27T17:34:49.246005Z",
     "start_time": "2021-11-27T17:34:49.077269Z"
    }
   },
   "outputs": [],
   "source": [
    "#irrigation detection \n",
    "irrigation = []\n",
    "for i, row in zip(tqdm(range(len(gdf))),gdf.itertuples()):\n",
    "    pp_sum = row.precipitation\n",
    "    VV_change = row.VV_change\n",
    "    if VV_change >= 1:\n",
    "        irrigation.append('')"
   ]
  },
  {
   "cell_type": "code",
   "execution_count": null,
   "metadata": {
    "ExecuteTime": {
     "end_time": "2021-11-27T16:43:42.037467Z",
     "start_time": "2021-11-27T16:43:42.009542Z"
    }
   },
   "outputs": [],
   "source": [
    "df.dtypes"
   ]
  }
 ],
 "metadata": {
  "kernelspec": {
   "display_name": "Python [conda env:irrigation_detection]",
   "language": "python",
   "name": "conda-env-irrigation_detection-py"
  },
  "language_info": {
   "codemirror_mode": {
    "name": "ipython",
    "version": 3
   },
   "file_extension": ".py",
   "mimetype": "text/x-python",
   "name": "python",
   "nbconvert_exporter": "python",
   "pygments_lexer": "ipython3",
   "version": "3.9.7"
  },
  "toc": {
   "base_numbering": 1,
   "nav_menu": {},
   "number_sections": true,
   "sideBar": true,
   "skip_h1_title": false,
   "title_cell": "Table of Contents",
   "title_sidebar": "Contents",
   "toc_cell": false,
   "toc_position": {},
   "toc_section_display": true,
   "toc_window_display": false
  },
  "varInspector": {
   "cols": {
    "lenName": 16,
    "lenType": 16,
    "lenVar": 40
   },
   "kernels_config": {
    "python": {
     "delete_cmd_postfix": "",
     "delete_cmd_prefix": "del ",
     "library": "var_list.py",
     "varRefreshCmd": "print(var_dic_list())"
    },
    "r": {
     "delete_cmd_postfix": ") ",
     "delete_cmd_prefix": "rm(",
     "library": "var_list.r",
     "varRefreshCmd": "cat(var_dic_list()) "
    }
   },
   "types_to_exclude": [
    "module",
    "function",
    "builtin_function_or_method",
    "instance",
    "_Feature"
   ],
   "window_display": false
  }
 },
 "nbformat": 4,
 "nbformat_minor": 2
}
