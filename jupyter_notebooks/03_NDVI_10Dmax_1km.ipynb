{
 "cells": [
  {
   "cell_type": "markdown",
   "metadata": {},
   "source": [
    "# Data Specs\n",
    "\n",
    "No valid data value = 255"
   ]
  },
  {
   "cell_type": "markdown",
   "metadata": {},
   "source": [
    "The reference is the centre of the pixel. It means that the longitude of the upper left corner of the pixel is (pixel_longitude – angular_resolution/2.)"
   ]
  },
  {
   "cell_type": "markdown",
   "metadata": {},
   "source": [
    "# Import modules"
   ]
  },
  {
   "cell_type": "code",
   "execution_count": null,
   "metadata": {
    "ExecuteTime": {
     "end_time": "2021-10-28T07:15:16.806997Z",
     "start_time": "2021-10-28T07:15:12.882139Z"
    }
   },
   "outputs": [],
   "source": [
    "from irrigation_detection import download_NDVI_max\n",
    "from irrigation_detection import unzip_ndvi\n",
    "from irrigation_detection import open_NDVI\n",
    "from irrigation_detection import subset_ds\n",
    "import numpy as np\n",
    "from tqdm import tqdm\n",
    "import pickle\n",
    "import xarray as xr\n",
    "import hvplot.xarray"
   ]
  },
  {
   "cell_type": "markdown",
   "metadata": {},
   "source": [
    "# Get data\n",
    "https://land.copernicus.eu/global/products/ndvi"
   ]
  },
  {
   "cell_type": "code",
   "execution_count": null,
   "metadata": {
    "ExecuteTime": {
     "end_time": "2021-10-20T09:40:43.640504Z",
     "start_time": "2021-10-20T09:38:26.306600Z"
    }
   },
   "outputs": [],
   "source": [
    "# Download data from ftp server after purchase it from copernicus.\n",
    "download_NDVI_max('till90', \"201184\", 'M0118447','D://ndvi_download/zip_archives/')"
   ]
  },
  {
   "cell_type": "code",
   "execution_count": null,
   "metadata": {
    "ExecuteTime": {
     "end_time": "2021-10-20T09:48:39.804622Z",
     "start_time": "2021-10-20T09:48:37.712780Z"
    }
   },
   "outputs": [],
   "source": [
    "# Extract archives.\n",
    "unzip_ndvi('D://ndvi_download/zip_archives/','D://ndvi_download/data/')"
   ]
  },
  {
   "cell_type": "markdown",
   "metadata": {},
   "source": [
    "# Data import and subsetting"
   ]
  },
  {
   "cell_type": "code",
   "execution_count": null,
   "metadata": {
    "ExecuteTime": {
     "end_time": "2021-10-28T08:43:53.595438Z",
     "start_time": "2021-10-28T08:43:46.310178Z"
    }
   },
   "outputs": [],
   "source": [
    "# Read extraced ndvi files with xarray.\n",
    "NDVI_ds = open_NDVI('D://ndvi_download/data')"
   ]
  },
  {
   "cell_type": "code",
   "execution_count": null,
   "metadata": {
    "ExecuteTime": {
     "end_time": "2021-10-28T08:43:53.683386Z",
     "start_time": "2021-10-28T08:43:53.631245Z"
    }
   },
   "outputs": [],
   "source": [
    "# Subset NDVI raster.\n",
    "NDVI_ds_subset = subset_ds(r'C:\\Users\\USER\\Desktop\\Master_Irrigation\\03_GIS\\oberrheingraben_shp\\oberrheingraben-polygon.shp',NDVI_ds)"
   ]
  },
  {
   "cell_type": "markdown",
   "metadata": {},
   "source": [
    "# Data preprocessing"
   ]
  },
  {
   "cell_type": "markdown",
   "metadata": {},
   "source": [
    "## digital to physical values \n",
    "| LAYER NAME |                                                                                                       DESCRIPTION                                                                                                      | PHYSICAL UNIT / CLASSES | PHYSICAL MIN | PHYSICAL MAX | DIGITAL MAX | SCALING | OFFSET |\n",
    "|:----------:|:----------------------------------------------------------------------------------------------------------------------------------------------------------------------------------------------------------------------:|:-----------------------:|:------------:|:------------:|:-----------:|:-------:|:------:|\n",
    "| NDVI       | Normalized Difference Vegetation Index                                                                                                                                                                                 | -                       | -0.08        | 0.92         | 250         | 1/250   | -0.08  |\n",
    "| NDVI_unc   | Uncertainty associated to NDVI                                                                                                                                                                                         | -                       | 0            | 1            | 1000        | 1/1000  | 0      |\n",
    "| NOBS       | Number of observations used in the BRDF inversion                                                                                                                                                                      | -                       | 0            | 32           | 32          | 1       | 0      |\n",
    "| QFLAG      | Quality flag                                                                                                                                                                                                           | N/A                     | N/A          | N/A          | 16          | 1       | 0      |\n",
    "| TIME_GRID  |   Time between the median date of observations used to compute NDVI and the reference time given in the file name.   It is the most representative date of the observations and recommended for time series analysis.  | Minutes                 | -8640        | 15840        | 15840       | 1       | 0      |\n",
    "\n",
    "The physical values (PV) are derived from the digital number (DN) using the relation: PV = Scaling * DN + Offset  \n"
   ]
  },
  {
   "cell_type": "code",
   "execution_count": null,
   "metadata": {
    "ExecuteTime": {
     "end_time": "2021-10-28T08:43:54.061728Z",
     "start_time": "2021-10-28T08:43:53.746792Z"
    }
   },
   "outputs": [],
   "source": [
    "# Convert to physical numbers and mask out invalid values.\n",
    "NDVI_ds_subset =  1/250 * NDVI_ds_subset.NDVI.where(NDVI_ds_subset.NDVI <=250, drop=True) - 0.08"
   ]
  },
  {
   "cell_type": "code",
   "execution_count": null,
   "metadata": {
    "ExecuteTime": {
     "end_time": "2021-10-28T08:43:54.879712Z",
     "start_time": "2021-10-28T08:43:54.092971Z"
    }
   },
   "outputs": [],
   "source": [
    "# Interpolate and Fill nan values\n",
    "NDVI_ds_subset = NDVI_ds_subset.interpolate_na(dim='time').bfill(dim='time').ffill(dim='time')"
   ]
  },
  {
   "cell_type": "code",
   "execution_count": null,
   "metadata": {
    "ExecuteTime": {
     "end_time": "2021-10-28T08:45:46.527139Z",
     "start_time": "2021-10-28T08:45:46.445871Z"
    }
   },
   "outputs": [],
   "source": [
    "# Export as netcdf to disk\n",
    "NDVI_ds_subset.to_netcdf(r'C:\\Users\\USER\\Desktop\\Master_Irrigation\\03_GIS\\datasets\\NDVI_10Dmax_1km.nc')"
   ]
  },
  {
   "cell_type": "markdown",
   "metadata": {
    "ExecuteTime": {
     "end_time": "2021-10-23T10:17:57.876663Z",
     "start_time": "2021-10-23T10:17:57.860827Z"
    }
   },
   "source": [
    "# Determine irrigation Period (IP)"
   ]
  },
  {
   "cell_type": "markdown",
   "metadata": {},
   "source": [
    "## IP_ndvi"
   ]
  },
  {
   "cell_type": "code",
   "execution_count": null,
   "metadata": {
    "ExecuteTime": {
     "end_time": "2021-10-23T17:56:54.388363Z",
     "start_time": "2021-10-23T17:56:54.372752Z"
    }
   },
   "outputs": [],
   "source": [
    "#filter for months between ints\n",
    "def is_may_september(month):\n",
    "    return (month >= 5) & (month <= 8)"
   ]
  },
  {
   "cell_type": "code",
   "execution_count": null,
   "metadata": {
    "ExecuteTime": {
     "end_time": "2021-10-23T19:36:31.162912Z",
     "start_time": "2021-10-23T19:36:30.862059Z"
    }
   },
   "outputs": [],
   "source": [
    "test =  1/250 * NDVI_ds_subset.NDVI.where(NDVI_ds_subset.NDVI <=250, drop=True) - 0.08"
   ]
  },
  {
   "cell_type": "code",
   "execution_count": null,
   "metadata": {
    "ExecuteTime": {
     "end_time": "2021-10-23T19:36:38.724648Z",
     "start_time": "2021-10-23T19:36:38.239080Z"
    }
   },
   "outputs": [],
   "source": [
    "test.hvplot.line(x='time', ylim=[0,1])"
   ]
  },
  {
   "cell_type": "code",
   "execution_count": null,
   "metadata": {
    "ExecuteTime": {
     "end_time": "2021-10-23T18:45:05.922512Z",
     "start_time": "2021-10-23T18:04:00.233431Z"
    }
   },
   "outputs": [],
   "source": [
    "IP_ndvi = list()\n",
    "#iterate over groupby object \n",
    "#Rolling mean for noise reduction\n",
    "ndvi = NDVI_ds_subset.NDVI.rolling(time=35).mean()\n",
    "#stack latitude and longitude to prepare groupby gridcell\n",
    "ndvi = NDVI_ds_subset.NDVI.stack(gridcell=[\"lat\", \"lon\"])\n",
    "#group into single cells\n",
    "for i, (gridcell, grouped_array) in zip(tqdm(range(len(ndvi.groupby('gridcell')))), ndvi.groupby('gridcell')):\n",
    "    #group single gridcells into years\n",
    "    for year, ga in grouped_array.groupby('time.year'):\n",
    "        try:\n",
    "            #valid values between 0 and 250, drop other e.g 255\n",
    "            masked_array = ga.where(ga <= 250, drop=True)\n",
    "            masked_array = 1/250 * masked_array - 0.08\n",
    "            #indexing values between april and october\n",
    "            array_peak = masked_array.sel(time=is_may_september(masked_array['time.month']))\n",
    "            #find peak values\n",
    "            array_peak = array_peak.idxmax(dim='time', skipna=True)\n",
    "            #date 4 months before peak \n",
    "            time_range_min = array_peak - np.timedelta64(120, 'D')\n",
    "            #date 4 months after peak\n",
    "            time_range_max = array_peak + np.timedelta64(120, 'D')\n",
    "            #values between min and peak\n",
    "            array_sos_peak = masked_array.sel(time=slice(time_range_min.data[0],array_peak.data[0]))\n",
    "            #values between peak and min \n",
    "            array_peak_eos = masked_array.sel(time=slice(array_peak.data[0],time_range_max.data[0]))\n",
    "            #ndvi values 20 percent higher than min ndvi\n",
    "            ndvi_min_20psos = array_sos_peak.min() * 1.2\n",
    "            ndvi_min_20peos = array_peak_eos.min() * 1.2\n",
    "            #find eos and sos \n",
    "            try:\n",
    "                #start of season is when ndvi is at least 20 percent higher than min\n",
    "                sos = array_sos_peak.where(array_sos_peak >= ndvi_min_20psos, drop=True).isel(time=1)\n",
    "                eos = array_peak_eos.where(array_peak_eos >= ndvi_min_20peos, drop=True).isel(time=-1)\n",
    "                #get days between sos and eos\n",
    "                days = eos.time.data - sos.time.data\n",
    "                #add values to list if criteria is fulfill (difference between peak and min not smaller than 0.2 and more than 75 days irrigation period)\n",
    "                if array_peak.data - sos.data > 0.2 and int(days) / 8.64e+13 > 75:\n",
    "                    IP_ndvi.append((gridcell,year,sos.time.data,eos.time.data))\n",
    "                else:\n",
    "                    IP_ndvi.append((gridcell,year,np.nan,np.nan))\n",
    "            except:\n",
    "                IP_ndvi.append((gridcell,year,np.nan,np.nan))\n",
    "        except:\n",
    "            IP_ndvi.append((gridcell,year,np.nan,np.nan))\n",
    "\n",
    "#save list to pickle\n",
    "with open('IP_ndvi.pkl', 'wb') as file:\n",
    "    pickle.dump(IP_ndvi, file)"
   ]
  },
  {
   "cell_type": "code",
   "execution_count": null,
   "metadata": {
    "ExecuteTime": {
     "end_time": "2021-10-21T11:55:49.173500Z",
     "start_time": "2021-10-21T11:55:49.165499Z"
    }
   },
   "outputs": [],
   "source": [
    "#create mask coordinate to mask out nans\n",
    "ndvi.coords['mask'] = (('lat', 'lon'), np.isnan(ndvi.NDVI.isel(time=1).data))"
   ]
  },
  {
   "cell_type": "code",
   "execution_count": null,
   "metadata": {},
   "outputs": [],
   "source": [
    "ds.coords['mask'] = (('latitude', 'longitude'), mask_array)\n",
    "https://hvplot.holoviz.org/user_guide/Geographic_Data.html"
   ]
  },
  {
   "cell_type": "code",
   "execution_count": null,
   "metadata": {
    "ExecuteTime": {
     "end_time": "2021-10-20T19:43:31.347627Z",
     "start_time": "2021-10-20T19:43:31.313883Z"
    }
   },
   "outputs": [],
   "source": [
    "def irrigation_period_ndvi(ds):\n",
    "    \"\"\"\n",
    "    Arguments: ds\n",
    "    \"\"\"\n",
    "    \n",
    "    import xarray as xr\n",
    "    \n",
    "    ndvi = ds.groupby('time', )"
   ]
  },
  {
   "cell_type": "code",
   "execution_count": null,
   "metadata": {
    "ExecuteTime": {
     "end_time": "2021-10-20T19:52:52.886259Z",
     "start_time": "2021-10-20T19:52:50.931635Z"
    }
   },
   "outputs": [],
   "source": [
    "import hvplot.xarray"
   ]
  },
  {
   "cell_type": "code",
   "execution_count": null,
   "metadata": {
    "ExecuteTime": {
     "end_time": "2021-10-20T20:07:24.081983Z",
     "start_time": "2021-10-20T20:02:18.179719Z"
    }
   },
   "outputs": [],
   "source": [
    "hvplot.save(ndvi.hvplot.quadmesh(crs='crs',frame_height=540, project=True, geo=True, rasterize=True, dynamic=False), \"ndvi.html\")"
   ]
  }
 ],
 "metadata": {
  "kernelspec": {
   "display_name": "Python [conda env:irrigation_detection]",
   "language": "python",
   "name": "conda-env-irrigation_detection-py"
  },
  "language_info": {
   "codemirror_mode": {
    "name": "ipython",
    "version": 3
   },
   "file_extension": ".py",
   "mimetype": "text/x-python",
   "name": "python",
   "nbconvert_exporter": "python",
   "pygments_lexer": "ipython3",
   "version": "3.9.7"
  },
  "toc": {
   "base_numbering": 1,
   "nav_menu": {},
   "number_sections": true,
   "sideBar": true,
   "skip_h1_title": false,
   "title_cell": "Table of Contents",
   "title_sidebar": "Contents",
   "toc_cell": false,
   "toc_position": {},
   "toc_section_display": true,
   "toc_window_display": false
  },
  "varInspector": {
   "cols": {
    "lenName": 16,
    "lenType": 16,
    "lenVar": 40
   },
   "kernels_config": {
    "python": {
     "delete_cmd_postfix": "",
     "delete_cmd_prefix": "del ",
     "library": "var_list.py",
     "varRefreshCmd": "print(var_dic_list())"
    },
    "r": {
     "delete_cmd_postfix": ") ",
     "delete_cmd_prefix": "rm(",
     "library": "var_list.r",
     "varRefreshCmd": "cat(var_dic_list()) "
    }
   },
   "types_to_exclude": [
    "module",
    "function",
    "builtin_function_or_method",
    "instance",
    "_Feature"
   ],
   "window_display": false
  }
 },
 "nbformat": 4,
 "nbformat_minor": 2
}
