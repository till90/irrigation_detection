{
 "cells": [
  {
   "cell_type": "markdown",
   "metadata": {},
   "source": [
    "Die Werte im Raster müssen durch 10 dividiert werden, um die richtigen Werte in mm zu bekommen.    \n",
    "array([-9999,     0,     1,     2,     3,     4,     5,     6,     7,\n",
    "           8,     9,    10,    11,    12,    13,    14,    15,    16]) -> unkonvertiert    \n",
    "https://epsg.io/31467    "
   ]
  },
  {
   "cell_type": "code",
   "execution_count": 1,
   "metadata": {
    "ExecuteTime": {
     "end_time": "2021-11-02T11:24:30.014655Z",
     "start_time": "2021-11-02T11:24:29.991533Z"
    }
   },
   "outputs": [],
   "source": [
    "from irrigation_detection import download_evapo\n",
    "from irrigation_detection import extract_evapo\n",
    "from irrigation_detection import subset_ds\n",
    "from irrigation_detection import open_evapo"
   ]
  },
  {
   "cell_type": "code",
   "execution_count": null,
   "metadata": {
    "ExecuteTime": {
     "end_time": "2021-11-02T09:53:50.090188Z",
     "start_time": "2021-11-02T09:53:10.591919Z"
    }
   },
   "outputs": [],
   "source": [
    "# Download real evaporation to disk\n",
    "download_evapo(2015, 2021,'D://evapo_r_download', real=True)"
   ]
  },
  {
   "cell_type": "code",
   "execution_count": null,
   "metadata": {
    "ExecuteTime": {
     "end_time": "2021-11-02T09:54:35.801564Z",
     "start_time": "2021-11-02T09:53:50.121449Z"
    }
   },
   "outputs": [],
   "source": [
    "# Download potential evaporation to disk\n",
    "download_evapo(2015, 2021,'D://evapo_p_download', real=False)"
   ]
  },
  {
   "cell_type": "code",
   "execution_count": null,
   "metadata": {
    "ExecuteTime": {
     "end_time": "2021-11-02T10:15:58.145302Z",
     "start_time": "2021-11-02T10:05:46.507822Z"
    }
   },
   "outputs": [],
   "source": [
    "# Use Gdal Warp to transform .asc with EPSG:31467 to .tif with EPSG:4326\n",
    "extract_evapo('D://evapo_r_download/')"
   ]
  },
  {
   "cell_type": "code",
   "execution_count": null,
   "metadata": {
    "ExecuteTime": {
     "end_time": "2021-11-02T10:25:59.783713Z",
     "start_time": "2021-11-02T10:15:58.178769Z"
    }
   },
   "outputs": [],
   "source": [
    "# Use Gdal Warp to transform .asc with EPSG:31467 to .tif with EPSG:4326\n",
    "extract_evapo('D://evapo_p_download/')"
   ]
  },
  {
   "cell_type": "code",
   "execution_count": 2,
   "metadata": {
    "ExecuteTime": {
     "end_time": "2021-11-02T11:25:59.286426Z",
     "start_time": "2021-11-02T11:24:52.836138Z"
    }
   },
   "outputs": [],
   "source": [
    "# Read tiff files from disk.\n",
    "evapo_r = open_evapo('D://evapo_r_download/data/', real=True)"
   ]
  },
  {
   "cell_type": "code",
   "execution_count": 6,
   "metadata": {
    "ExecuteTime": {
     "end_time": "2021-11-02T11:30:23.743154Z",
     "start_time": "2021-11-02T11:30:23.692601Z"
    }
   },
   "outputs": [],
   "source": [
    "evapo_r_subset = subset_ds(r'C:\\Users\\USER\\Desktop\\Master_Irrigation\\03_GIS\\oberrheingraben_shp\\oberrheingraben-polygon.shp', evapo_r)"
   ]
  },
  {
   "cell_type": "code",
   "execution_count": 8,
   "metadata": {
    "ExecuteTime": {
     "end_time": "2021-11-02T11:30:54.859571Z",
     "start_time": "2021-11-02T11:30:52.017020Z"
    }
   },
   "outputs": [],
   "source": [
    "# fill invalid pixels (-999) with nan\n",
    "evapo_r_subset = evapo_r_subset.where(evapo_r_subset.evapo_r >= 0, drop=True)\n",
    "# Apply conversation of digital units to physical units.\n",
    "evapo_r_subset['evapo_r'] = evapo_r_subset['evapo_r'] * 0.1"
   ]
  },
  {
   "cell_type": "code",
   "execution_count": 12,
   "metadata": {
    "ExecuteTime": {
     "end_time": "2021-11-02T11:33:17.902195Z",
     "start_time": "2021-11-02T11:33:17.128205Z"
    }
   },
   "outputs": [],
   "source": [
    "# Export netcdf file to disk\n",
    "evapo_r_subset.to_netcdf('C://Users/USER/Desktop/Master_Irrigation/03_GIS/datasets/EVAPOTRANSPIRATION_REAL.nc')"
   ]
  },
  {
   "cell_type": "code",
   "execution_count": 13,
   "metadata": {
    "ExecuteTime": {
     "end_time": "2021-11-02T11:35:04.031446Z",
     "start_time": "2021-11-02T11:33:44.711768Z"
    }
   },
   "outputs": [],
   "source": [
    "# Read tiff files from disk.\n",
    "evapo_p = open_evapo('D://evapo_p_download/data/', real=False)"
   ]
  },
  {
   "cell_type": "code",
   "execution_count": 14,
   "metadata": {
    "ExecuteTime": {
     "end_time": "2021-11-02T11:35:12.113280Z",
     "start_time": "2021-11-02T11:35:12.068398Z"
    }
   },
   "outputs": [],
   "source": [
    "evapo_p_subset = subset_ds(r'C:\\Users\\USER\\Desktop\\Master_Irrigation\\03_GIS\\oberrheingraben_shp\\oberrheingraben-polygon.shp', evapo_p)"
   ]
  },
  {
   "cell_type": "code",
   "execution_count": 15,
   "metadata": {
    "ExecuteTime": {
     "end_time": "2021-11-02T11:35:16.463053Z",
     "start_time": "2021-11-02T11:35:13.629674Z"
    }
   },
   "outputs": [],
   "source": [
    "# fill invalid pixels (-999) with nan\n",
    "evapo_p_subset = evapo_p_subset.where(evapo_p_subset.evapo_p >= 0, drop=True)\n",
    "# Apply conversation of digital units to physical units.\n",
    "evapo_p_subset['evapo_p'] = evapo_p_subset['evapo_p'] * 0.1"
   ]
  },
  {
   "cell_type": "code",
   "execution_count": 17,
   "metadata": {
    "ExecuteTime": {
     "end_time": "2021-11-02T11:35:42.389114Z",
     "start_time": "2021-11-02T11:35:41.624981Z"
    }
   },
   "outputs": [],
   "source": [
    "# Export netcdf file to disk\n",
    "evapo_p_subset.to_netcdf('C://Users/USER/Desktop/Master_Irrigation/03_GIS/datasets/EVAPOTRANSPIRATION_POTENTIAL.nc')"
   ]
  }
 ],
 "metadata": {
  "kernelspec": {
   "display_name": "Python [conda env:irrigation_detection]",
   "language": "python",
   "name": "conda-env-irrigation_detection-py"
  },
  "language_info": {
   "codemirror_mode": {
    "name": "ipython",
    "version": 3
   },
   "file_extension": ".py",
   "mimetype": "text/x-python",
   "name": "python",
   "nbconvert_exporter": "python",
   "pygments_lexer": "ipython3",
   "version": "3.9.7"
  },
  "toc": {
   "base_numbering": 1,
   "nav_menu": {},
   "number_sections": true,
   "sideBar": true,
   "skip_h1_title": false,
   "title_cell": "Table of Contents",
   "title_sidebar": "Contents",
   "toc_cell": false,
   "toc_position": {},
   "toc_section_display": true,
   "toc_window_display": false
  },
  "varInspector": {
   "cols": {
    "lenName": 16,
    "lenType": 16,
    "lenVar": 40
   },
   "kernels_config": {
    "python": {
     "delete_cmd_postfix": "",
     "delete_cmd_prefix": "del ",
     "library": "var_list.py",
     "varRefreshCmd": "print(var_dic_list())"
    },
    "r": {
     "delete_cmd_postfix": ") ",
     "delete_cmd_prefix": "rm(",
     "library": "var_list.r",
     "varRefreshCmd": "cat(var_dic_list()) "
    }
   },
   "position": {
    "height": "330.85px",
    "left": "1774px",
    "right": "20px",
    "top": "120px",
    "width": "350px"
   },
   "types_to_exclude": [
    "module",
    "function",
    "builtin_function_or_method",
    "instance",
    "_Feature"
   ],
   "window_display": true
  }
 },
 "nbformat": 4,
 "nbformat_minor": 2
}
