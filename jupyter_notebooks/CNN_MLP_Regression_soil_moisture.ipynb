{
 "cells": [
  {
   "cell_type": "markdown",
   "metadata": {},
   "source": [
    "# CNN - MLP - train model with regression problematic "
   ]
  },
  {
   "cell_type": "code",
   "execution_count": 3,
   "metadata": {
    "ExecuteTime": {
     "end_time": "2022-03-15T21:10:17.060116Z",
     "start_time": "2022-03-15T21:10:17.020116Z"
    },
    "scrolled": false
   },
   "outputs": [],
   "source": [
    "def mlp_lr_sm(paths, features, y_label, networks, stations, climates, use_date_as_var, ndvi_low, ndvi_high, allow_frozen_state,loss_function, optimizer, metrics, save_to):\n",
    "    \"\"\"\n",
    "    Arguments:\n",
    "    \"\"\"\n",
    "    import warnings\n",
    "    warnings.simplefilter(action='ignore', category=FutureWarning)\n",
    "    \n",
    "    # Import modules\n",
    "    from glob import glob\n",
    "    import datetime as dt\n",
    "    import geopandas as gpd\n",
    "    import pandas as pd\n",
    "    import seaborn as sns\n",
    "    from sklearn.preprocessing import MinMaxScaler\n",
    "    \n",
    "    ## Initialize data\n",
    "    # Files with data\n",
    "    paths = glob(paths)\n",
    "    paths.sort()\n",
    "\n",
    "    # Create Station id linked with filepath\n",
    "    ids = [x.split('\\\\')[-1].split('_')[0] for x in paths]\n",
    "    files = dict(zip(ids,paths))\n",
    "\n",
    "    # Load all files into one Dataframe\n",
    "    gdf = gpd.tools.util.pd.concat(map(gpd.read_file, paths), ignore_index=True)\n",
    "    print(f'Rows before preprocessing {len(gdf)}')\n",
    "    \n",
    "    ## Preprocessing\n",
    "    # Set type of date column to datetime object\n",
    "    gdf.date = gdf.date.astype('datetime64[ns]')\n",
    "    \n",
    "    #Drop rows without Sentinel 2 data\n",
    "    gdf.dropna(how='any',subset=['NDVI'], inplace=True)\n",
    "    \n",
    "    # Convert int to timedelta in days \n",
    "    s2_timedelta = [dt.timedelta(days=x) for x in gdf.s2_distance]  \n",
    "    gdf.s2_distance = s2_timedelta\n",
    "    \n",
    "    #Remove uneseccary columns\n",
    "    gdf.drop(labels = ['CloudMask'], axis = 1, inplace = True)\n",
    "\n",
    "    # Clean Nan Values within subset columns (major variables to inspect)\n",
    "    gdf.dropna(how='any', subset=['soil_moisture', 'VV'], inplace=True)\n",
    "\n",
    "    # Drop lower and upper 1% of data to eliminate outliers\n",
    "    gdf = gdf[gdf.soil_moisture.gt(gdf.soil_moisture.quantile(0.01)) & gdf.soil_moisture.lt(gdf.soil_moisture.quantile(0.99))]\n",
    "    gdf = gdf[gdf.VV.gt(gdf.VV.quantile(0.01)) & gdf.VV.lt(gdf.VV.quantile(0.99))]\n",
    "    gdf = gdf[gdf.NDVI.gt(gdf.NDVI.quantile(0.01)) & gdf.NDVI.lt(gdf.NDVI.quantile(0.99))]\n",
    "\n",
    "    # Remove rows where ndvi is older than 30days\n",
    "    gdf = gdf[gdf.s2_distance.gt(dt.timedelta(days=-7)) & gdf.s2_distance.lt(dt.timedelta(days=7))]\n",
    "    \n",
    "    # Remove NDVI values outside range because to high ndvi means to dense vegetation and vv is disturbed too much \n",
    "    if None not in [ndvi_low, ndvi_high]:\n",
    "        gdf = gdf[gdf.NDVI.between(ndvi_low,ndvi_high)]\n",
    "    \n",
    "    # Remove rows where Temperature is below Zero 273,15 K because VV is in frozen soils not trustworth\n",
    "    if allow_frozen_state == 'no':\n",
    "        gdf = gdf[gdf.minimum_2m_air_temperature.gt(273,15)]\n",
    "\n",
    "    # Choose only specififed Network\n",
    "    if networks is not None:\n",
    "        gdf = gdf[gdf['network'].isin(networks)]\n",
    "    \n",
    "    # Choose only specified Stations\n",
    "    if stations is not None:\n",
    "        gdf = gdf[gdf['station'].isin(stations)]\n",
    "        \n",
    "    # Choose only specified climate after Köpping https://en.wikipedia.org/wiki/K%C3%B6ppen_climate_classification\n",
    "    if climates is not None:\n",
    "        gdf = gdf[gdf['climate'].isin(climates)]\n",
    "    print(f'Rows after preprocessing {len(gdf)}')\n",
    "    \n",
    "    # Create a Variable from date convert the timestamps to delta, perform a cumulative sum on the dt feature to get a monotonically increasing value\n",
    "    # For now use dayofyear \n",
    "    if use_date_as_var == True:\n",
    "        #date_timedelta = [dt.timedelta(x) for x in gdf['date']]\n",
    "        #date_timedelta_cumsum = np.cumsum(date_timedelta)\n",
    "        gdf['day_of_year'] = gdf.date.dt.day_of_year\n",
    "        \n",
    "    ## One Hot Encoding\n",
    "    gdf = pd.get_dummies(gdf, columns=[\"platform\", \"orbit\"])\n",
    "    \n",
    "    ## Statistics\n",
    "    #KDE Plot\n",
    "    #plot_kde = sns.pairplot(gdf[features], diag_kind = 'kde')\n",
    "    #print(plot_kde)\n",
    "    \n",
    "    # Dataframe Statistics \n",
    "    train_stats = gdf[features].describe()\n",
    "    train_stats.pop(y_label)\n",
    "    train_stats = train_stats.transpose()\n",
    "    #print(train_stats)\n",
    "    \n",
    "    ## Split into Train and Test \n",
    "    df = pd.DataFrame(gdf[features]).reset_index(drop=True)\n",
    "    train_df = df.sample(frac = 0.8, random_state=0)\n",
    "    test_df = df.drop(train_df.index)\n",
    "    \n",
    "    train_labels = train_df.pop(y_label)\n",
    "    test_labels = test_df.pop(y_label)\n",
    "    scaler = MinMaxScaler()\n",
    "    \n",
    "    features.remove(y_label)\n",
    "    train_df[features] = scaler.fit_transform(X = train_df[features])\n",
    "    test_df[features] = scaler.fit_transform(X = test_df[features])\n",
    "    \n",
    "    n_train_df = train_df\n",
    "    n_test_df = test_df\n",
    "    \n",
    "    ## Normalize data\n",
    "    def norm(x):\n",
    "        return (x - train_stats['mean']) / train_stats['std']\n",
    "    \n",
    "    #n_train_df = norm(train_df)\n",
    "    #n_test_df = norm(test_df)\n",
    "\n",
    "    ## The Model\n",
    "    from tensorflow.keras.models import Sequential\n",
    "    from tensorflow.keras import layers\n",
    "    from tensorflow.nn import relu\n",
    "    #from tensorflow.nn import linear\n",
    "    from tensorflow.keras.optimizers import RMSprop\n",
    "    from tensorflow.keras.optimizers import Adam\n",
    "    from keras.callbacks import Callback\n",
    "    from tensorflow.keras.callbacks import EarlyStopping\n",
    "    import tensorflow as tf\n",
    "    physical_devices = tf.config.experimental.list_physical_devices('GPU')\n",
    "\n",
    "    for device in physical_devices:\n",
    "        tf.config.experimental.set_memory_growth(device, True)\n",
    "    tf.reset_default_graph()\n",
    "    #Architecture \n",
    "    def build_model(optimizer, loss_function):\n",
    "        model = Sequential([\n",
    "            layers.Dense(128, activation=relu, input_shape=(n_train_df.shape[1],)), # densly (fully connected) hidden layer\n",
    "            layers.Dense(94, activation=relu), # denly hidden layer\n",
    "            layers.Dense(32, activation=relu),\n",
    "            layers.Dense(1, activation='linear') #output layer\n",
    "        ])\n",
    "\n",
    "        if optimizer == 'RMSprop':\n",
    "            optimizer = RMSprop(0.001)\n",
    "        \n",
    "        if optimizer == 'Adam':\n",
    "            optimizer = Adam(.001)\n",
    "        model.compile(\n",
    "            loss = loss_function, # https://keras.io/api/losses/\n",
    "            optimizer = optimizer, #https://keras.io/api/optimizers/#available-optimizers\n",
    "            metrics = metrics) \n",
    "\n",
    "        return model\n",
    "    \n",
    "    model = build_model(optimizer, loss_function)\n",
    "    \n",
    "    #Inspect Model\n",
    "    model_summary = model.summary()\n",
    "    \n",
    "    \n",
    "    ## Train the model\n",
    "    # Callbacks\n",
    "    \"\"\"\n",
    "    class Calls(Callback):\n",
    "        #Print dot every epoch while training\n",
    "        def on_epoch_end(self, epoch, logs):\n",
    "            if epoch % 100 == 0: print('')\n",
    "            print('.', end='')\n",
    "    \"\"\"\n",
    "    # stop the training when there is no improvement in the loss for three consecutive epochs.\n",
    "    stop_improving = EarlyStopping(monitor='val_loss', patience=10)\n",
    "    log_dir = 'logs\\\\ssm_30m\\\\'\n",
    "    tensorboard_callback = tf.keras.callbacks.TensorBoard(log_dir=log_dir, histogram_freq=1)\n",
    "    EPOCHS = 1000\n",
    "\n",
    "    history = model.fit(\n",
    "        x = n_train_df,\n",
    "        y = train_labels,\n",
    "        epochs = EPOCHS,\n",
    "        validation_split = 0.2, \n",
    "        verbose = 0,\n",
    "        callbacks = [stop_improving,tensorboard_callback]) # Calls()\n",
    "    \n",
    "    hist = pd.DataFrame(history.history)\n",
    "    hist['epoch'] = history.epoch\n",
    "    \n",
    "    import matplotlib.pyplot as plt\n",
    "\n",
    "    def plot_history(hitsory):\n",
    "        hist = pd.DataFrame(history.history)\n",
    "        hist['epoch'] = history.epoch\n",
    "\n",
    "        plt.figure()\n",
    "        plt.xlabel('Epoch')\n",
    "        plt.ylabel('Mean Abs Error [m^3/m^3]')\n",
    "        plt.plot(hist['epoch'], hist['mean_absolute_error'],\n",
    "                label = 'Train Error')\n",
    "        plt.plot(hist['epoch'], hist['val_mean_absolute_error'],\n",
    "                label = 'Val Error')\n",
    "        plt.legend()\n",
    "        plt.ylim([0,hist['mean_absolute_error'].max() + hist['mean_absolute_error'].max() * 0.5])\n",
    "\n",
    "        plt.figure()\n",
    "        plt.xlabel('Epoch')\n",
    "        plt.ylabel('Mean Square Error [m^3/m^3^2]')\n",
    "        plt.plot(hist['epoch'], hist['mean_squared_error'],\n",
    "                label = 'Train Error')\n",
    "        plt.plot(hist['epoch'], hist['val_mean_squared_error'],\n",
    "                label = 'Val Error')\n",
    "        plt.legend()\n",
    "        plt.ylim([0,hist['mean_squared_error'].max() + hist['mean_squared_error'].max() * 0.5])\n",
    "\n",
    "    plot_history(history)\n",
    "    print(f'metrics_names : {model.metrics_names}')\n",
    "    loss, mae, mse, accuracy = model.evaluate(n_test_df, test_labels, verbose = 0)\n",
    "    print(\"Testing set Mean Abs Error: {:5.2f} m^3/m^3\".format(mae))\n",
    "    print(\"Testing set Mean squared Error: {:5.2f} m^3/m^3\".format(mse))\n",
    "    print(\"Testing set Accuracy: {:5.2f} m^3/m^3\".format(accuracy))\n",
    "\n",
    "    ## Make Predictions\n",
    "    test_predictions = model.predict(n_test_df).flatten()\n",
    "    \n",
    "    plt.figure()\n",
    "    plt.scatter(test_labels, test_predictions)\n",
    "    plt.xlabel('True Values m^3/m^3')\n",
    "    plt.ylabel('Predictions m^3/m^3')\n",
    "    plt.axis('equal')\n",
    "    plt.axis('square')\n",
    "    plt.xlim([0,0.5])\n",
    "    plt.ylim([0,0.5])\n",
    "    plot_predict_scatter = plt.plot([-100,100], [-100,100])\n",
    "    print(plot_predict_scatter)\n",
    "    \n",
    "    plt.figure()\n",
    "    error = test_predictions - test_labels\n",
    "    plt.hist(error, bins=25)\n",
    "    plt.xlabel('Prediction Error m^3/m^3')\n",
    "    plot_error_hist = plt.ylabel('Count')\n",
    "    print(plot_error_hist)\n",
    "    \n",
    "    #Save Model\n",
    "    if save_to is not None:\n",
    "        model.save(save_to,save_format='h5')\n",
    "\n",
    "    return model, gdf"
   ]
  },
  {
   "cell_type": "code",
   "execution_count": 6,
   "metadata": {
    "ExecuteTime": {
     "end_time": "2022-03-15T21:12:39.687422Z",
     "start_time": "2022-03-15T21:12:39.667394Z"
    }
   },
   "outputs": [
    {
     "data": {
      "text/plain": [
       "Index(['VV', 'VH', 'angle', 'NDVI', 'platform_A', 'platform_B',\n",
       "       'orbit_ASCENDING', 'orbit_DESCENDING', 'day_of_year',\n",
       "       'mean_2m_air_temperature', 'maximum_2m_air_temperature',\n",
       "       'minimum_2m_air_temperature', 'Blue', 'Green', 'Red', 'RedEdge1',\n",
       "       'RedEdge2', 'RedEdge3', 'RedEdge4', 'NIR', 'WaterVapor', 'SWIR1',\n",
       "       'SWIR2'],\n",
       "      dtype='object')"
      ]
     },
     "execution_count": 6,
     "metadata": {},
     "output_type": "execute_result"
    }
   ],
   "source": [
    "gdf[['VV', 'VH', 'angle', 'NDVI', 'platform_A', 'platform_B', 'orbit_ASCENDING',\n",
    "                'orbit_DESCENDING', 'day_of_year','mean_2m_air_temperature','maximum_2m_air_temperature',\n",
    "                'minimum_2m_air_temperature', 'Blue', 'Green', 'Red', 'RedEdge1', 'RedEdge2', 'RedEdge3', \n",
    "                'RedEdge4', 'NIR', 'WaterVapor', 'SWIR1', 'SWIR2', ]].columns"
   ]
  },
  {
   "cell_type": "code",
   "execution_count": null,
   "metadata": {
    "ExecuteTime": {
     "end_time": "2022-03-03T16:50:17.918403Z",
     "start_time": "2022-03-03T16:50:17.902395Z"
    }
   },
   "outputs": [],
   "source": [
    "features_s1 = ['platform', 'orbit', 'VV', 'VH', 'angle', 'img_id'] #latform & orbit are categorical data\n",
    "\n",
    "features_s2 = ['Aerosols', 'Blue', 'Green', 'Red', 'RedEdge1', 'RedEdge2', 'RedEdge3', 'RedEdge4', 'NIR', \n",
    "               'WaterVapor', 'Cirrus', 'SWIR1', 'SWIR2', 'CloudMask', 'NDVI', 'date_y']\n",
    "\n",
    "features_era5 = ['dewpoint_2m_temperature', 'maximum_2m_air_temperature', 'mean_2m_air_temperature',\n",
    "                 'minimum_2m_air_temperature', 'surface_pressure', 'total_precipitation', \n",
    "                 'u_component_of_wind_10m', 'v_component_of_wind_10m']\n",
    "\n",
    "features_ismn = ['ismn_id','soil_moisture', 'soil_moisture_flag', 'soil_moisture_orig_flag', 'network', \n",
    "                 'station', 'clay', 'sand', 'silt', 'oc', 'climate', 'elevation', 'instrument']\n",
    "\n",
    "features_4all = ['date','day_of_year', 'geometry']\n",
    "\n",
    "features_selected = ['day_of_year', 'VV', 'VH', 'angle', 'platform_A', 'platform_B', 'orbit_ASCENDING','orbit_DESCENDING',\n",
    "                     'NDVI', 'soil_moisture']\n",
    "\n",
    "networks_all = {'Germany' : ['TERENO'],'Austria' : ['WEGERENET']}"
   ]
  },
  {
   "cell_type": "code",
   "execution_count": 4,
   "metadata": {
    "ExecuteTime": {
     "end_time": "2022-03-15T21:11:21.682903Z",
     "start_time": "2022-03-15T21:10:21.554850Z"
    },
    "scrolled": false
   },
   "outputs": [
    {
     "name": "stdout",
     "output_type": "stream",
     "text": [
      "Rows before preprocessing 67675\n",
      "Rows after preprocessing 11575\n",
      "Model: \"sequential\"\n",
      "_________________________________________________________________\n",
      "Layer (type)                 Output Shape              Param #   \n",
      "=================================================================\n",
      "dense (Dense)                (None, 128)               3072      \n",
      "_________________________________________________________________\n",
      "dense_1 (Dense)              (None, 94)                12126     \n",
      "_________________________________________________________________\n",
      "dense_2 (Dense)              (None, 32)                3040      \n",
      "_________________________________________________________________\n",
      "dense_3 (Dense)              (None, 1)                 33        \n",
      "=================================================================\n",
      "Total params: 18,271\n",
      "Trainable params: 18,271\n",
      "Non-trainable params: 0\n",
      "_________________________________________________________________\n",
      "metrics_names : ['loss', 'mean_absolute_error', 'mean_squared_error', 'acc']\n",
      "Testing set Mean Abs Error:  0.05 m^3/m^3\n",
      "Testing set Mean squared Error:  0.00 m^3/m^3\n",
      "Testing set Accuracy:  0.00 m^3/m^3\n",
      "[<matplotlib.lines.Line2D object at 0x000001D808FC8B08>]\n",
      "Text(0, 0.5, 'Count')\n"
     ]
    },
    {
     "data": {
      "image/png": "[encoded data removed]",
      "text/plain": [
       "<Figure size 432x288 with 1 Axes>"
      ]
     },
     "metadata": {
      "needs_background": "light"
     },
     "output_type": "display_data"
    },
    {
     "data": {
      "image/png": "[encoded data removed]",
      "text/plain": [
       "<Figure size 432x288 with 1 Axes>"
      ]
     },
     "metadata": {
      "needs_background": "light"
     },
     "output_type": "display_data"
    },
    {
     "data": {
      "image/png": "[encoded data removed]",
      "text/plain": [
       "<Figure size 432x288 with 1 Axes>"
      ]
     },
     "metadata": {
      "needs_background": "light"
     },
     "output_type": "display_data"
    },
    {
     "data": {
      "image/png": "[encoded data removed]",
      "text/plain": [
       "<Figure size 432x288 with 1 Axes>"
      ]
     },
     "metadata": {
      "needs_background": "light"
     },
     "output_type": "display_data"
    }
   ],
   "source": [
    "model, gdf = mlp_lr_sm(\n",
    "    paths = 'C://Users/USER/Desktop/Master_Irrigation/03_GIS/ground_trouth/CNN_data_30m/*',\n",
    "    features = ['VV', 'VH', 'angle', 'NDVI', 'platform_A', 'platform_B', 'orbit_ASCENDING',\n",
    "                'orbit_DESCENDING', 'day_of_year','mean_2m_air_temperature','maximum_2m_air_temperature',\n",
    "                'minimum_2m_air_temperature', 'Blue', 'Green', 'Red', 'RedEdge1', 'RedEdge2', 'RedEdge3', \n",
    "                'RedEdge4', 'NIR', 'WaterVapor', 'SWIR1', 'SWIR2', 'soil_moisture'],\n",
    "    y_label = 'soil_moisture',\n",
    "    networks = None,\n",
    "    stations = None,\n",
    "    climates = None,\n",
    "    use_date_as_var = True,\n",
    "    ndvi_low = 0,\n",
    "    ndvi_high = 0.6, \n",
    "    allow_frozen_state = 'no',\n",
    "    loss_function = 'mean_absolute_error',       # 'mae', 'sparse_categorical_crossentropy'\n",
    "    optimizer =  'Adam',    # Ftrl adam, Adamax Nadam  'RMSprop',  SGD  RMSprop  Adam  Adadelta  Adagrad         \n",
    "    metrics = ['mean_absolute_error', 'mean_squared_error', 'accuracy'],\n",
    "    save_to = None#'C://Users/USER/Desktop/Master_Irrigation/03_GIS/cnn_models/ssm_30m'\n",
    "    )"
   ]
  },
  {
   "cell_type": "code",
   "execution_count": null,
   "metadata": {
    "ExecuteTime": {
     "end_time": "2022-02-23T12:41:43.046954Z",
     "start_time": "2022-02-23T12:39:02.703270Z"
    }
   },
   "outputs": [],
   "source": [
    "model_30m, gdf_30m = mlp_lr_sm(\n",
    "    paths = 'C://Users/USER/Desktop/Master_Irrigation/03_GIS/ground_trouth/CNN_data_30m/*',\n",
    "    features = features_era5 + features_selected,\n",
    "    y_label = 'soil_moisture',\n",
    "    networks = None,\n",
    "    stations = None,\n",
    "    climates = None,\n",
    "    use_date_as_var = True,\n",
    "    ndvi_low = 0,\n",
    "    ndvi_high = 0.7, \n",
    "    allow_frozen_state = 'no',\n",
    "    loss_function = 'mae',       # 'mae', 'sparse_categorical_crossentropy'\n",
    "    optimizer =  'Adam',    # Ftrl adam, Adamax Nadam  'RMSprop',  SGD  RMSprop  Adam  Adadelta  Adagrad         \n",
    "    metrics = ['mae', 'mse', 'accuracy'],\n",
    "    save_to = r'C:\\Users\\USER\\Desktop\\Master_Irrigation\\03_GIS\\cnn_models\\basic_ssm'\n",
    "    )"
   ]
  },
  {
   "cell_type": "code",
   "execution_count": null,
   "metadata": {
    "ExecuteTime": {
     "end_time": "2022-02-23T12:43:01.101747Z",
     "start_time": "2022-02-23T12:43:01.086153Z"
    }
   },
   "outputs": [],
   "source": [
    "gdf_30m[features_selected]"
   ]
  },
  {
   "cell_type": "code",
   "execution_count": null,
   "metadata": {
    "ExecuteTime": {
     "end_time": "2022-02-08T12:36:02.600535Z",
     "start_time": "2022-02-08T12:36:02.469143Z"
    }
   },
   "outputs": [],
   "source": [
    "# Normalize data\n",
    "def norm(x):\n",
    "    return (x - train_stats['mean']) / train_stats['std']\n",
    "\n",
    "Merzenhausen = gdf[gdf['station'] == 'Merzenhausen'].copy()\n",
    "x_Merz_values = Merzenhausen[features_selected + features_era5]\n",
    "y_Merz_label = x_Merz_values.pop('soil_moisture')\n",
    "\n",
    "train_stats = x_Merz_values.describe()\n",
    "train_stats = train_stats.transpose()\n",
    "\n",
    "x_Merz_norm = norm(x_Merz_values)\n",
    "y_Merz_predict = model.predict(x_Merz_norm).flatten()\n",
    "Merzenhausen['sm_predict'] = y_Merz_predict"
   ]
  },
  {
   "cell_type": "code",
   "execution_count": null,
   "metadata": {
    "ExecuteTime": {
     "end_time": "2022-02-08T12:36:03.587214Z",
     "start_time": "2022-02-08T12:36:03.571559Z"
    }
   },
   "outputs": [],
   "source": [
    "import pandas as pd\n",
    "import hvplot.pandas  # noqa\n",
    "\n",
    "pd.options.plotting.backend = 'holoviews'"
   ]
  },
  {
   "cell_type": "code",
   "execution_count": null,
   "metadata": {
    "ExecuteTime": {
     "end_time": "2022-02-08T12:36:21.626826Z",
     "start_time": "2022-02-08T12:36:04.488694Z"
    }
   },
   "outputs": [],
   "source": [
    "Merzenhausen.hvplot.scatter(x='date', y=['soil_moisture', 'sm_predict'],groupby='date.year' )"
   ]
  },
  {
   "cell_type": "code",
   "execution_count": null,
   "metadata": {
    "ExecuteTime": {
     "end_time": "2022-02-08T12:36:21.789483Z",
     "start_time": "2022-02-08T12:36:21.773861Z"
    }
   },
   "outputs": [],
   "source": [
    "import numpy as np\n",
    "(Merzenhausen['soil_moisture'] - Merzenhausen['sm_predict']).sum() / 500"
   ]
  },
  {
   "cell_type": "markdown",
   "metadata": {},
   "source": [
    "## Print Function names with arguments"
   ]
  },
  {
   "cell_type": "code",
   "execution_count": null,
   "metadata": {
    "ExecuteTime": {
     "end_time": "2022-02-04T21:55:11.696024Z",
     "start_time": "2022-02-04T21:55:11.680045Z"
    },
    "scrolled": false
   },
   "outputs": [],
   "source": [
    "from inspect import getmembers, isfunction, signature\n",
    "import numpy\n",
    "\n",
    "def explain(m):\n",
    "    try:\n",
    "        return f\"{m[0]}{signature(m[1])}\"\n",
    "    except:\n",
    "        return f\"{m[0]}(???)\" # some functions don't provide signature\n",
    "\n",
    "print(*(explain(m) for m in getmembers(irrigation_detection, isfunction)), sep='\\n')"
   ]
  }
 ],
 "metadata": {
  "kernelspec": {
   "display_name": "Python [conda env:dev1]",
   "language": "python",
   "name": "conda-env-dev1-py"
  },
  "language_info": {
   "codemirror_mode": {
    "name": "ipython",
    "version": 3
   },
   "file_extension": ".py",
   "mimetype": "text/x-python",
   "name": "python",
   "nbconvert_exporter": "python",
   "pygments_lexer": "ipython3",
   "version": "3.7.12"
  },
  "toc": {
   "base_numbering": 1,
   "nav_menu": {},
   "number_sections": true,
   "sideBar": true,
   "skip_h1_title": false,
   "title_cell": "Table of Contents",
   "title_sidebar": "Contents",
   "toc_cell": false,
   "toc_position": {},
   "toc_section_display": true,
   "toc_window_display": false
  },
  "varInspector": {
   "cols": {
    "lenName": 16,
    "lenType": 16,
    "lenVar": 40
   },
   "kernels_config": {
    "python": {
     "delete_cmd_postfix": "",
     "delete_cmd_prefix": "del ",
     "library": "var_list.py",
     "varRefreshCmd": "print(var_dic_list())"
    },
    "r": {
     "delete_cmd_postfix": ") ",
     "delete_cmd_prefix": "rm(",
     "library": "var_list.r",
     "varRefreshCmd": "cat(var_dic_list()) "
    }
   },
   "position": {
    "height": "434.85px",
    "left": "1547px",
    "right": "20px",
    "top": "120px",
    "width": "353px"
   },
   "types_to_exclude": [
    "module",
    "function",
    "builtin_function_or_method",
    "instance",
    "_Feature"
   ],
   "window_display": true
  }
 },
 "nbformat": 4,
 "nbformat_minor": 2
}
