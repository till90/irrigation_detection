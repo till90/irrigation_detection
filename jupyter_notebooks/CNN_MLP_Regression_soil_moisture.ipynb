{
 "cells": [
  {
   "cell_type": "markdown",
   "metadata": {},
   "source": [
    "# CNN - MLP - train model with regression problematic "
   ]
  },
  {
   "cell_type": "code",
   "execution_count": 1,
   "metadata": {
    "ExecuteTime": {
     "end_time": "2022-02-05T16:43:58.708649Z",
     "start_time": "2022-02-05T16:43:58.670869Z"
    },
    "scrolled": false
   },
   "outputs": [],
   "source": [
    "def mlp_lr_sm(paths, features, y_label, networks, stations, climates, ndvi_low, ndvi_high, allow_frozen_state,loss_function, optimizer, metrics):\n",
    "    \"\"\"\n",
    "    Arguments:\n",
    "    \"\"\"\n",
    "    \n",
    "    \n",
    "    # Import modules\n",
    "    from glob import glob\n",
    "    import datetime as dt\n",
    "    import geopandas as gpd\n",
    "    import pandas as pd\n",
    "    import seaborn as sns\n",
    "    \n",
    "    \n",
    "    ## Initialize data\n",
    "    # Files with data\n",
    "    paths = glob(paths)\n",
    "    paths.sort()\n",
    "\n",
    "    # Create Station id linked with filepath\n",
    "    ids = [x.split('\\\\')[-1].split('_')[0] for x in paths]\n",
    "    files = dict(zip(ids,paths))\n",
    "\n",
    "    # Load all files into one Dataframe\n",
    "    gdf = gpd.tools.util.pd.concat(map(gpd.read_file, paths), ignore_index=True)\n",
    "    print(f'Rows before preprocessing {len(gdf)}')\n",
    "    \n",
    "    \n",
    "    ## Preprocessing\n",
    "    # Set type of date column to datetime object\n",
    "    gdf.date = gdf.date.astype('datetime64[ns]')\n",
    "    \n",
    "    #Drop rows without Sentinel 2 data\n",
    "    gdf.dropna(how='any',subset=['NDVI'], inplace=True)\n",
    "    \n",
    "    # Convert int to timedelta in days \n",
    "    s2_timedelta = [dt.timedelta(days=x) for x in gdf.s2_distance]  \n",
    "    gdf.s2_distance = s2_timedelta\n",
    "    \n",
    "    #Remove uneseccary columns\n",
    "    gdf.drop(labels = ['CloudMask'], axis = 1, inplace = True)\n",
    "\n",
    "    # Clean Nan Values within subset columns (major variables to inspect)\n",
    "    gdf.dropna(how='any', subset=['soil_moisture', 'VV'], inplace=True)\n",
    "\n",
    "    # Drop lower and upper 1% of data to eliminate outliers\n",
    "    gdf = gdf[gdf.soil_moisture.gt(gdf.soil_moisture.quantile(0.01)) & gdf.soil_moisture.lt(gdf.soil_moisture.quantile(0.99))]\n",
    "    gdf = gdf[gdf.VV.gt(gdf.VV.quantile(0.01)) & gdf.VV.lt(gdf.VV.quantile(0.99))]\n",
    "    gdf = gdf[gdf.NDVI.gt(gdf.NDVI.quantile(0.01)) & gdf.NDVI.lt(gdf.NDVI.quantile(0.99))]\n",
    "\n",
    "    # Remove rows where ndvi is older than 30days\n",
    "    gdf = gdf[gdf.s2_distance.gt(dt.timedelta(days=-7)) & gdf.s2_distance.lt(dt.timedelta(days=7))]\n",
    "    \n",
    "    # Remove NDVI values outside range because to high ndvi means to dense vegetation and vv is disturbed too much \n",
    "    if None not in [ndvi_low, ndvi_high]:\n",
    "        gdf = gdf[gdf.NDVI.between(ndvi_low,ndvi_high)]\n",
    "    \n",
    "    # Remove rows where Temperature is below Zero 273,15 K because VV is in frozen soils not trustworth\n",
    "    if allow_frozen_state == 'no':\n",
    "        gdf = gdf[gdf.minimum_2m_air_temperature.gt(273,15)]\n",
    "\n",
    "    # Choose only specififed Network\n",
    "    if networks is not None:\n",
    "        gdf = gdf[gdf['network'].isin(networks)]\n",
    "    \n",
    "    # Choose only specified Stations\n",
    "    if stations is not None:\n",
    "        gdf = gdf[gdf['station'].isin(stations)]\n",
    "        \n",
    "    # Choose only specified climate after Köpping https://en.wikipedia.org/wiki/K%C3%B6ppen_climate_classification\n",
    "    if climates is not None:\n",
    "        gdf = gdf[gdf['climate'].isin(climates)]\n",
    "    print(f'Rows after preprocessing {len(gdf)}')\n",
    "    \n",
    "    ## One Hot Encoding\n",
    "    gdf = pd.get_dummies(gdf, columns=[\"platform\", \"orbit\"])\n",
    "    \n",
    "    ## Statistics\n",
    "    #KDE Plot\n",
    "    #plot_kde = sns.pairplot(gdf[features], diag_kind = 'kde')\n",
    "    #print(plot_kde)\n",
    "    \n",
    "    # Dataframe Statistics \n",
    "    train_stats = gdf[features].describe()\n",
    "    train_stats.pop(y_label)\n",
    "    train_stats = train_stats.transpose()\n",
    "    #print(train_stats)\n",
    "    \n",
    "    \n",
    "    ## Split into Train and Test \n",
    "    df = pd.DataFrame(gdf[features]).reset_index(drop=True)\n",
    "    train_df = df.sample(frac = 0.8, random_state=0)\n",
    "    test_df = df.drop(train_df.index)\n",
    "    \n",
    "    train_labels = train_df.pop(y_label)\n",
    "    test_labels = test_df.pop(y_label)\n",
    "    \n",
    "    ## Normalize data\n",
    "    def norm(x):\n",
    "        return (x - train_stats['mean']) / train_stats['std']\n",
    "    \n",
    "    n_train_df = norm(train_df)\n",
    "    n_test_df = norm(test_df)\n",
    "    \n",
    "    \n",
    "    ## The Model\n",
    "    from tensorflow.keras.models import Sequential\n",
    "    from tensorflow.keras import layers\n",
    "    from tensorflow.nn import relu\n",
    "    from tensorflow.keras.optimizers import RMSprop\n",
    "    from keras.callbacks import Callback\n",
    "    from tensorflow.keras.callbacks import EarlyStopping\n",
    "    \n",
    "    #Architecture \n",
    "    def build_model(optimizer):\n",
    "        model = Sequential([\n",
    "            layers.Dense(64, activation=relu, input_shape=[len(n_train_df.keys())]), # densly (fully connected) hidden layer\n",
    "            layers.Dense(64, activation=relu), # denly hidden layer\n",
    "            layers.Dense(1) #output layer\n",
    "        ])\n",
    "\n",
    "        if optimizer == 'RMSprop':\n",
    "            optimizer = RMSprop(0.001)\n",
    "\n",
    "        model.compile(\n",
    "            loss = loss_function, # https://keras.io/api/losses/\n",
    "            optimizer = optimizer, #https://keras.io/api/optimizers/#available-optimizers\n",
    "            metrics = metrics) \n",
    "\n",
    "        return model\n",
    "    \n",
    "    model = build_model(optimizer)\n",
    "    \n",
    "    #Inspect Model\n",
    "    model_summary = model.summary()\n",
    "    \n",
    "    \n",
    "    ## Train the model\n",
    "    # Callbacks\n",
    "    \"\"\"\n",
    "    class Calls(Callback):\n",
    "        #Print dot every epoch while training\n",
    "        def on_epoch_end(self, epoch, logs):\n",
    "            if epoch % 100 == 0: print('')\n",
    "            print('.', end='')\n",
    "    \"\"\"\n",
    "    # stop the training when there is no improvement in the loss for three consecutive epochs.\n",
    "    stop_improving = EarlyStopping(monitor='val_loss', patience=10)\n",
    "    \n",
    "    EPOCHS = 1000\n",
    "\n",
    "    history = model.fit(\n",
    "        x = n_train_df,\n",
    "        y = train_labels,\n",
    "        epochs = EPOCHS,\n",
    "        validation_split = 0.2, \n",
    "        verbose = 0,\n",
    "        callbacks = [stop_improving]) # Calls()\n",
    "    \n",
    "    hist = pd.DataFrame(history.history)\n",
    "    hist['epoch'] = history.epoch\n",
    "    print(hist.tail())\n",
    "    \n",
    "    import matplotlib.pyplot as plt\n",
    "\n",
    "    def plot_history(hitsory):\n",
    "        hist = pd.DataFrame(history.history)\n",
    "        hist['epoch'] = history.epoch\n",
    "\n",
    "        plt.figure()\n",
    "        plt.xlabel('Epoch')\n",
    "        plt.ylabel('Mean Abs Error [m^3/m^3]')\n",
    "        plt.plot(hist['epoch'], hist['mae'],\n",
    "                label = 'Train Error')\n",
    "        plt.plot(hist['epoch'], hist['val_mae'],\n",
    "                label = 'Val Error')\n",
    "        plt.legend()\n",
    "        plt.ylim([0,hist['mae'].max() + hist['mae'].max() * 0.5])\n",
    "\n",
    "        plt.figure()\n",
    "        plt.xlabel('Epoch')\n",
    "        plt.ylabel('Mean Square Error [m^3/m^3^2]')\n",
    "        plt.plot(hist['epoch'], hist['mse'],\n",
    "                label = 'Train Error')\n",
    "        plt.plot(hist['epoch'], hist['val_mse'],\n",
    "                label = 'Val Error')\n",
    "        plt.legend()\n",
    "        plt.ylim([0,hist['mse'].max() + hist['mse'].max() * 0.5])\n",
    "\n",
    "    plot_history(history)\n",
    "    print(f'metrics_names : {model.metrics_names}')\n",
    "    loss, mae, mse, accuracy = model.evaluate(n_test_df, test_labels, verbose = 0)\n",
    "    print(\"Testing set Mean Abs Error: {:5.2f} m^3/m^3\".format(mae))\n",
    "    print(\"Testing set Mean squared Error: {:5.2f} m^3/m^3\".format(mse))\n",
    "    print(\"Testing set Accuracy: {:5.2f} m^3/m^3\".format(accuracy))\n",
    "\n",
    "    ## Make Predictions\n",
    "    test_predictions = model.predict(n_test_df).flatten()\n",
    "    \n",
    "    plt.figure()\n",
    "    plt.scatter(test_labels, test_predictions)\n",
    "    plt.xlabel('True Values m^3/m^3')\n",
    "    plt.ylabel('Predictions m^3/m^3')\n",
    "    plt.axis('equal')\n",
    "    plt.axis('square')\n",
    "    plt.xlim([0,0.5])\n",
    "    plt.ylim([0,0.5])\n",
    "    plot_predict_scatter = plt.plot([-100,100], [-100,100])\n",
    "    print(plot_predict_scatter)\n",
    "    \n",
    "    plt.figure()\n",
    "    error = test_predictions - test_labels\n",
    "    plt.hist(error, bins=25)\n",
    "    plt.xlabel('Prediction Error m^3/m^3')\n",
    "    plot_error_hist = plt.ylabel('Count')\n",
    "    print(plot_error_hist)\n",
    "    "
   ]
  },
  {
   "cell_type": "code",
   "execution_count": 10,
   "metadata": {
    "ExecuteTime": {
     "end_time": "2022-02-05T16:54:27.378528Z",
     "start_time": "2022-02-05T16:54:27.370535Z"
    }
   },
   "outputs": [],
   "source": [
    "features_s1 = ['platform', 'orbit', 'VV', 'VH', 'angle', 'img_id'] #latform & orbit are categorical data\n",
    "\n",
    "features_s2 = ['Aerosols', 'Blue', 'Green', 'Red', 'RedEdge1', 'RedEdge2', 'RedEdge3', 'RedEdge4', 'NIR', \n",
    "               'WaterVapor', 'Cirrus', 'SWIR1', 'SWIR2', 'CloudMask', 'NDVI', 'date_y']\n",
    "\n",
    "features_era5 = ['dewpoint_2m_temperature', 'maximum_2m_air_temperature', 'mean_2m_air_temperature',\n",
    "                 'minimum_2m_air_temperature', 'surface_pressure', 'total_precipitation', \n",
    "                 'u_component_of_wind_10m', 'v_component_of_wind_10m']\n",
    "\n",
    "features_ismn = ['ismn_id','soil_moisture', 'soil_moisture_flag', 'soil_moisture_orig_flag', 'network', \n",
    "                 'station', 'clay', 'sand', 'silt', 'oc', 'climate', 'elevation', 'instrument']\n",
    "\n",
    "features_4all = ['date', 'geometry']\n",
    "\n",
    "features_selected = ['VV', 'angle', 'platform_A', 'platform_B', 'orbit_ASCENDING','orbit_DESCENDING',\n",
    "                     'NDVI', 'soil_moisture']\n",
    "\n",
    "networks_all = {'Germany' : ['TERENO'],'Austria' : ['WEGERENET']}"
   ]
  },
  {
   "cell_type": "code",
   "execution_count": 12,
   "metadata": {
    "ExecuteTime": {
     "end_time": "2022-02-05T16:57:27.223078Z",
     "start_time": "2022-02-05T16:55:36.746568Z"
    },
    "scrolled": false
   },
   "outputs": [
    {
     "name": "stdout",
     "output_type": "stream",
     "text": [
      "Rows before preprocessing 77721\n",
      "Rows after preprocessing 16009\n",
      "Model: \"sequential_5\"\n",
      "_________________________________________________________________\n",
      "Layer (type)                 Output Shape              Param #   \n",
      "=================================================================\n",
      "dense_15 (Dense)             (None, 64)                1024      \n",
      "_________________________________________________________________\n",
      "dense_16 (Dense)             (None, 64)                4160      \n",
      "_________________________________________________________________\n",
      "dense_17 (Dense)             (None, 1)                 65        \n",
      "=================================================================\n",
      "Total params: 5,249\n",
      "Trainable params: 5,249\n",
      "Non-trainable params: 0\n",
      "_________________________________________________________________\n",
      "        loss       mae       mse  accuracy  val_loss   val_mae   val_mse  \\\n",
      "39  0.043981  0.043981  0.003640       0.0  0.056346  0.056346  0.005183   \n",
      "40  0.043777  0.043777  0.003619       0.0  0.053731  0.053731  0.005142   \n",
      "41  0.043700  0.043700  0.003598       0.0  0.053635  0.053635  0.005041   \n",
      "42  0.043555  0.043555  0.003562       0.0  0.054518  0.054518  0.005033   \n",
      "43  0.043289  0.043289  0.003550       0.0  0.054370  0.054370  0.005056   \n",
      "\n",
      "    val_accuracy  epoch  \n",
      "39           0.0     39  \n",
      "40           0.0     40  \n",
      "41           0.0     41  \n",
      "42           0.0     42  \n",
      "43           0.0     43  \n",
      "metrics_names : ['loss', 'mae', 'mse', 'accuracy']\n",
      "Testing set Mean Abs Error:  0.05 m^3/m^3\n",
      "Testing set Mean squared Error:  0.00 m^3/m^3\n",
      "Testing set Accuracy:  0.00 m^3/m^3\n",
      "[<matplotlib.lines.Line2D object at 0x00000267021F01C0>]\n",
      "Text(0, 0.5, 'Count')\n"
     ]
    },
    {
     "data": {
      "image/png": "[encoded data removed]",
      "text/plain": [
       "<Figure size 432x288 with 1 Axes>"
      ]
     },
     "metadata": {
      "needs_background": "light"
     },
     "output_type": "display_data"
    },
    {
     "data": {
      "image/png": "[encoded data removed]",
      "text/plain": [
       "<Figure size 432x288 with 1 Axes>"
      ]
     },
     "metadata": {
      "needs_background": "light"
     },
     "output_type": "display_data"
    },
    {
     "data": {
      "image/png": "[encoded data removed]",
      "text/plain": [
       "<Figure size 432x288 with 1 Axes>"
      ]
     },
     "metadata": {
      "needs_background": "light"
     },
     "output_type": "display_data"
    },
    {
     "data": {
      "image/png": "[encoded data removed]",
      "text/plain": [
       "<Figure size 432x288 with 1 Axes>"
      ]
     },
     "metadata": {
      "needs_background": "light"
     },
     "output_type": "display_data"
    }
   ],
   "source": [
    "mlp_lr_sm(\n",
    "    paths = 'C://Users/USER/Desktop/Master_Irrigation/03_GIS/ground_trouth/CNN_data/*',\n",
    "    features = features_selected + features_era5,\n",
    "    y_label = 'soil_moisture',\n",
    "    networks = None,\n",
    "    stations = None,\n",
    "    climates = None,\n",
    "    ndvi_low = 0,\n",
    "    ndvi_high = 0.7, \n",
    "    allow_frozen_state = 'no',\n",
    "    loss_function = 'mae',       # 'mae', 'sparse_categorical_crossentropy'\n",
    "    optimizer =  'RMSprop',    # Ftrl adam, Adamax Nadam  'RMSprop',  SGD  RMSprop  Adam  Adadelta  Adagrad         \n",
    "    metrics = ['mae', 'mse', 'accuracy']\n",
    "    )"
   ]
  },
  {
   "cell_type": "markdown",
   "metadata": {},
   "source": [
    "## Print Function names with arguments"
   ]
  },
  {
   "cell_type": "code",
   "execution_count": null,
   "metadata": {
    "ExecuteTime": {
     "end_time": "2022-02-04T21:55:11.696024Z",
     "start_time": "2022-02-04T21:55:11.680045Z"
    },
    "scrolled": false
   },
   "outputs": [],
   "source": [
    "from inspect import getmembers, isfunction, signature\n",
    "import numpy\n",
    "\n",
    "def explain(m):\n",
    "    try:\n",
    "        return f\"{m[0]}{signature(m[1])}\"\n",
    "    except:\n",
    "        return f\"{m[0]}(???)\" # some functions don't provide signature\n",
    "\n",
    "print(*(explain(m) for m in getmembers(irrigation_detection, isfunction)), sep='\\n')"
   ]
  }
 ],
 "metadata": {
  "kernelspec": {
   "display_name": "Python [conda env:irrigation_detection]",
   "language": "python",
   "name": "conda-env-irrigation_detection-py"
  },
  "language_info": {
   "codemirror_mode": {
    "name": "ipython",
    "version": 3
   },
   "file_extension": ".py",
   "mimetype": "text/x-python",
   "name": "python",
   "nbconvert_exporter": "python",
   "pygments_lexer": "ipython3",
   "version": "3.9.7"
  },
  "toc": {
   "base_numbering": 1,
   "nav_menu": {},
   "number_sections": true,
   "sideBar": true,
   "skip_h1_title": false,
   "title_cell": "Table of Contents",
   "title_sidebar": "Contents",
   "toc_cell": false,
   "toc_position": {},
   "toc_section_display": true,
   "toc_window_display": false
  },
  "varInspector": {
   "cols": {
    "lenName": 16,
    "lenType": 16,
    "lenVar": 40
   },
   "kernels_config": {
    "python": {
     "delete_cmd_postfix": "",
     "delete_cmd_prefix": "del ",
     "library": "var_list.py",
     "varRefreshCmd": "print(var_dic_list())"
    },
    "r": {
     "delete_cmd_postfix": ") ",
     "delete_cmd_prefix": "rm(",
     "library": "var_list.r",
     "varRefreshCmd": "cat(var_dic_list()) "
    }
   },
   "position": {
    "height": "434.85px",
    "left": "1547px",
    "right": "20px",
    "top": "120px",
    "width": "353px"
   },
   "types_to_exclude": [
    "module",
    "function",
    "builtin_function_or_method",
    "instance",
    "_Feature"
   ],
   "window_display": true
  }
 },
 "nbformat": 4,
 "nbformat_minor": 2
}
