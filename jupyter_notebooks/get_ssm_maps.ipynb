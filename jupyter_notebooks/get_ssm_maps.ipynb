{
 "cells": [
  {
   "cell_type": "code",
   "execution_count": null,
   "metadata": {
    "ExecuteTime": {
     "end_time": "2022-02-24T11:16:45.797419Z",
     "start_time": "2022-02-24T11:16:45.773422Z"
    }
   },
   "outputs": [],
   "source": [
    "def get_s1_map(aoi_file, start, end, pol, mode, res, scale, crs, bands):\n",
    "    \"\"\"\n",
    "        Arguments: lon=longitude, lat = latitude, ismn_idx = ismn_id, start=start date, end= end date, pol=polarizaion(VV, VH, [VV, VH, HV,...], mode= [IW, SW], res=resolution[10,20,30], red=reducer['first, mean, median'], scale=scale for reducer, crs=crs for reducer, must be same as for lat/lon\n",
    "        Get Sentinel 1 GRD Time Series for lat/lon with Metadata as GeopandasGeoDataFrame\n",
    "        \"\"\"\n",
    "    \n",
    "    def add_ndvi(image, dateoffset = 15):\n",
    "        \"\"\"\n",
    "        Arguments: Filter S2 TOA Collection to roi, mask cloudy pixels, calculate NDVI values, Make mosaic from +- 15 days from s1 image\n",
    "        \"\"\"\n",
    "        def maskS2clouds(image):\n",
    "            qa = image.select('QA60')\n",
    "            #Bits 10 and 11 are clouds and cirrus, respectively.\n",
    "            cloudBitMask = 1 << 10\n",
    "            cirrusBitMask = 1 << 11\n",
    "            #Both flags should be set to zero, indicating clear conditions.\n",
    "            mask = qa.bitwiseAnd(cloudBitMask).eq(0).And(qa.bitwiseAnd(cirrusBitMask).eq(0))\n",
    "            return image.updateMask(mask).divide(10000)\n",
    "\n",
    "        def NDVI(image):\n",
    "            ndvi = image.normalizedDifference(['nir','red']).rename('NDVI') #(first − second) / (first + second)\n",
    "            return image.addBands(ndvi)\n",
    "        \n",
    "        # Sentinel 2 image collection with corresponding named bands\n",
    "        bandNamesOut_s2 = ['Aerosols','blue','green','red','red edge 1','red edge 2','red edge 3','nir','red edge 4','water vapor','cirrus','swir1','swir2','QA60']\n",
    "        bandNamesS2 = ['B1','B2','B3','B4','B5','B6','B7','B8','B8A','B9','B10','B11','B12','QA60']\n",
    "        \n",
    "        s2_1c = ee.ImageCollection('COPERNICUS/S2').select(bandNamesS2,bandNamesOut_s2)\n",
    "        s2_1c = s2_1c.filterDate(ee.Date(image.date().advance(-dateoffset,'days')), ee.Date(image.date().advance(+dateoffset,'days'))).filterBounds(image.geometry()).map(maskS2clouds).map(NDVI)\n",
    "        \n",
    "        ndvi = ee.Image(s2_1c.qualityMosaic('NDVI').select('NDVI'))\n",
    "\n",
    "        return image.addBands(ndvi)\n",
    "    \n",
    "    #import modules\n",
    "    import ee\n",
    "    import geopandas as gpd\n",
    "    from datetime import datetime\n",
    "    from shapely.geometry import Point\n",
    "    import json\n",
    "    import time\n",
    "    from IPython.display import clear_output\n",
    "    from irrigation_detection import get_ERA5_ts\n",
    "    # Authenticate Google Earth Engine\n",
    "    try:\n",
    "        ee.Initialize(opt_url='https://earthengine-highvolume.googleapis.com'\n",
    "                      )  # High Volume Endpoint\n",
    "    except:\n",
    "        # Trigger the authentication flow\n",
    "        ee.Authenticate()\n",
    "        # Initialize the library\n",
    "        ee.Initialize()\n",
    "\n",
    "    aoi = gpd.read_file(aoi_file)\n",
    "    \n",
    "    # Create Geometry (Longitude/Latitude)\n",
    "    #aoi_fc = ee.FeatureCollection(aoi.to_json())\n",
    "    aoi_geometry = ee.Geometry.Polygon(json.loads(aoi.to_json())['features'][0]['geometry']['coordinates'])\n",
    "    #aoi_geometry = ee.Geometry.Polygon(aoi_geometry.getInfo())\n",
    "    aoi_geometry = ee.Geometry.Polygon([\n",
    "          [\n",
    "            [\n",
    "              8.48966360092163,\n",
    "              49.93699689229258\n",
    "            ],\n",
    "            [\n",
    "              8.500478267669678,\n",
    "              49.93393079884945\n",
    "            ],\n",
    "            [\n",
    "              8.508718013763426,\n",
    "              49.943308011027085\n",
    "            ],\n",
    "            [\n",
    "              8.49743127822876,\n",
    "              49.94572452249713\n",
    "            ],\n",
    "            [\n",
    "              8.48966360092163,\n",
    "              49.93699689229258\n",
    "            ]\n",
    "          ]\n",
    "        ]\n",
    ")\n",
    "\n",
    "    # Sentinel 1 Collection\n",
    "    # Filter Collection by Location\n",
    "    sentinel1 = ee.ImageCollection('COPERNICUS/S1_GRD').filterBounds(ee.FeatureCollection(aoi_geometry))\n",
    "    # Filter by Date\n",
    "    sentinel1 = sentinel1.filterDate(start, end)\n",
    "    # Filter by Polarization\n",
    "    sentinel1 = sentinel1.filter(\n",
    "        ee.Filter.listContains('transmitterReceiverPolarisation', pol))\n",
    "    # Filter by Swath Mode\n",
    "    sentinel1 = sentinel1.filter(ee.Filter.eq('instrumentMode', mode))\n",
    "    # Filter by Resolution\n",
    "    sentinel1 = sentinel1.filter(ee.Filter.eq('resolution_meters', res))\n",
    "    \n",
    "    sentinel1 = sentinel1.map(add_ndvi)\n",
    "    sentinel1 = sentinel1.map(lambda x: x.clip(aoi_geometry))\n",
    "    \n",
    "    count = sentinel1.size().getInfo()\n",
    "    names = sentinel1.aggregate_array('system:index').getInfo()\n",
    "    platform = sentinel1.aggregate_array('platform_number').getInfo()\n",
    "    orbit = sentinel1.aggregate_array('orbitProperties_pass').getInfo()\n",
    "    collection = sentinel1.toList(count)\n",
    "    \n",
    "    for i in range(count):\n",
    "        name = names[i] + '_' + orbit[i] + '_' + platform[i]\n",
    "        for band in bands:\n",
    "            image = ee.Image(collection.get(i)).select(band)\n",
    "            task = ee.batch.Export.image.toDrive(image=image,\n",
    "                     description = name + '_' + band,\n",
    "                     folder='export_s1_map',\n",
    "                     scale = scale,\n",
    "                     crs = crs,\n",
    "                    )\n",
    "            task.start()\n",
    "            print(f'Download {i}[{band}] / {count}')\n",
    "    \n",
    "    centroid = aoi_geometry.centroid().getInfo()['coordinates']\n",
    "    return centroid"
   ]
  },
  {
   "cell_type": "code",
   "execution_count": null,
   "metadata": {
    "ExecuteTime": {
     "end_time": "2022-02-24T11:45:39.428134Z",
     "start_time": "2022-02-24T11:16:52.173075Z"
    }
   },
   "outputs": [],
   "source": [
    "centroid = get_s1_map(\n",
    "    aoi_file = r'C:\\Users\\USER\\Desktop\\Master_Irrigation\\03_GIS\\Ried_225_222\\ried.shp',\n",
    "    start = '2018-01-01',\n",
    "    end = '2021-12-31', \n",
    "    pol = 'VV',\n",
    "    mode = 'IW',\n",
    "    res = 10,\n",
    "    crs = 'EPSG:4326',\n",
    "    scale = 10,\n",
    "    bands = ['VV','VH', 'angle', 'NDVI']\n",
    "    )"
   ]
  },
  {
   "cell_type": "code",
   "execution_count": null,
   "metadata": {
    "ExecuteTime": {
     "end_time": "2022-02-24T12:02:16.808319Z",
     "start_time": "2022-02-24T12:02:16.443529Z"
    }
   },
   "outputs": [],
   "source": [
    "gdf = get_ERA5_ts(\n",
    "    lon = 8.49743127822876, \n",
    "    lat = 49.94572452249713, \n",
    "    ismn_idx = 'Groß-Gerau', \n",
    "    start = '2018-01-01', \n",
    "    end = '2021-12-31', \n",
    "    red = 'first', \n",
    "    scale = 100, \n",
    "    crs = 'EPSG:4326', \n",
    "    idx_name = 'location')"
   ]
  },
  {
   "cell_type": "code",
   "execution_count": 3,
   "metadata": {
    "ExecuteTime": {
     "end_time": "2022-02-24T16:54:55.184161Z",
     "start_time": "2022-02-24T16:53:44.539762Z"
    }
   },
   "outputs": [],
   "source": [
    "import glob\n",
    "import xarray as xr\n",
    "import rioxarray as rio\n",
    "from datetime import datetime\n",
    "import pandas as pd\n",
    "files = glob.glob(r'C:\\Users\\USER\\Desktop\\Master_Irrigation\\03_GIS\\uni_giese_test_field\\*.tif')\n",
    "\n",
    "\n",
    "def preprocess_get_s1_map(da):\n",
    "    from datetime import datetime\n",
    "    da = da.drop('spatial_ref').sel(band=1).drop('band')\n",
    "    filename = da.encoding[\"source\"]\n",
    "    filename = filename.split('test_field')[-1][1:]\n",
    "    variable = filename.split('_')[-1].split('.')[0]\n",
    "    date = datetime.strptime(filename.split('_')[4], '%Y%m%dT%H%M%S')\n",
    "    da['time'] = date\n",
    "    da = da.set_coords('time').expand_dims('time')\n",
    "    da['orbit'] = filename.split('_')[-3]\n",
    "    da['platform'] = filename.split('_')[-2]\n",
    "    if variable == 'angle':\n",
    "        da = da.rename({'band_data' : 'angle'})\n",
    "    elif variable == 'NDVI':\n",
    "        da = da.rename({'band_data' : 'NDVI'})\n",
    "    elif variable == 'VV':\n",
    "        da = da.rename({'band_data' : 'VV'})\n",
    "    else:\n",
    "        print('Error')\n",
    "        \n",
    "    return da\n",
    "                                      \n",
    "data_xr = xr.open_mfdataset(files, engine='rasterio', preprocess=preprocess_get_s1_map)\n",
    "data_pd = data_xr.to_dataframe()\n"
   ]
  },
  {
   "cell_type": "code",
   "execution_count": 4,
   "metadata": {
    "ExecuteTime": {
     "end_time": "2022-02-24T16:54:56.271977Z",
     "start_time": "2022-02-24T16:54:55.491597Z"
    }
   },
   "outputs": [],
   "source": [
    "from tensorflow.keras.models import load_model\n",
    "from sklearn.preprocessing import MinMaxScaler\n",
    "\n",
    "# Load pre trained model\n",
    "cnn_basic_model = load_model(r'C:\\Users\\USER\\Desktop\\Master_Irrigation\\03_GIS\\cnn_models\\basic_ssm')"
   ]
  },
  {
   "cell_type": "code",
   "execution_count": 5,
   "metadata": {
    "ExecuteTime": {
     "end_time": "2022-02-24T16:54:56.696339Z",
     "start_time": "2022-02-24T16:54:56.563401Z"
    }
   },
   "outputs": [],
   "source": [
    "# One-Hot Encoding\n",
    "df_predict = pd.get_dummies(data = data_pd, columns=['platform', 'orbit'])\n",
    "df_predict['day_of_year'] = df_predict.index.get_level_values(\"time\")\n",
    "df_predict['day_of_year'] = df_predict.day_of_year.dt.day_of_year"
   ]
  },
  {
   "cell_type": "code",
   "execution_count": 6,
   "metadata": {
    "ExecuteTime": {
     "end_time": "2022-02-24T16:54:57.064859Z",
     "start_time": "2022-02-24T16:54:57.009361Z"
    }
   },
   "outputs": [],
   "source": [
    "#Normalization\n",
    "scaler = MinMaxScaler(feature_range=(0, 1), copy = False)\n",
    "df_predict[['NDVI', 'VV', 'angle', 'platform_A', 'platform_B', 'orbit_ASCENDING','orbit_DESCENDING','day_of_year']] = scaler.fit_transform(X = df_predict[['NDVI', 'VV', 'angle', 'platform_A', 'platform_B', 'orbit_ASCENDING','orbit_DESCENDING','day_of_year']])"
   ]
  },
  {
   "cell_type": "code",
   "execution_count": 7,
   "metadata": {
    "ExecuteTime": {
     "end_time": "2022-02-24T16:54:57.405442Z",
     "start_time": "2022-02-24T16:54:57.381210Z"
    }
   },
   "outputs": [],
   "source": [
    "df_predict.insert(0, 'day_of_year', df_predict.pop('day_of_year'))\n",
    "df_predict.insert(1, 'VV', df_predict.pop('VV'))\n",
    "df_predict.insert(2, 'angle', df_predict.pop('angle'))\n",
    "df_predict.insert(3, 'platform_A', df_predict.pop('platform_A'))\n",
    "df_predict.insert(4, 'platform_B', df_predict.pop('platform_B'))\n",
    "df_predict.insert(5, 'orbit_ASCENDING', df_predict.pop('orbit_ASCENDING'))\n",
    "df_predict.insert(6, 'orbit_DESCENDING', df_predict.pop('orbit_DESCENDING'))\n",
    "df_predict.insert(7, 'NDVI', df_predict.pop('NDVI'))"
   ]
  },
  {
   "cell_type": "code",
   "execution_count": 8,
   "metadata": {
    "ExecuteTime": {
     "end_time": "2022-02-24T16:55:04.727081Z",
     "start_time": "2022-02-24T16:54:57.725400Z"
    }
   },
   "outputs": [],
   "source": [
    "predict_ssm_scale = cnn_basic_model.predict(df_predict[['day_of_year', 'VV','angle','platform_A', 'platform_B',\n",
    "            'orbit_ASCENDING', 'orbit_DESCENDING', 'NDVI']])\n",
    "data_pd['ssm_scale'] = predict_ssm_scale\n",
    "data_xr_1 = data_pd.to_xarray()"
   ]
  },
  {
   "cell_type": "code",
   "execution_count": 14,
   "metadata": {
    "ExecuteTime": {
     "end_time": "2022-02-24T16:59:54.292831Z",
     "start_time": "2022-02-24T16:59:54.072972Z"
    }
   },
   "outputs": [
    {
     "name": "stderr",
     "output_type": "stream",
     "text": [
      "C:\\Users\\USER\\Anaconda3\\envs\\irrigation_detection\\lib\\site-packages\\matplotlib\\animation.py:973: UserWarning: Animation was deleted without rendering anything. This is most likely unintended. To prevent deletion, assign the Animation to a variable that exists for as long as you need the Animation.\n",
      "  warnings.warn(\n"
     ]
    },
    {
     "data": {
      "image/png": "[encoded data removed]",
      "text/plain": [
       "<Figure size 864x432 with 2 Axes>"
      ]
     },
     "metadata": {
      "needs_background": "light"
     },
     "output_type": "display_data"
    }
   ],
   "source": [
    "# Numpy and xarray are always necessary\n",
    "import numpy as np\n",
    "import xarray as xr\n",
    "\n",
    "# pyplot needed to plot the dataset, but animation only needed much further down.\n",
    "from matplotlib import pyplot as plt, animation\n",
    "%matplotlib inline\n",
    "\n",
    "# This is needed to display graphics calculated outside of jupyter notebook\n",
    "from IPython.display import HTML, display\n",
    "\n",
    "# Get a handle on the figure and the axes\n",
    "fig, ax = plt.subplots(figsize=(12,6))\n",
    "\n",
    "# Plot the initial frame. \n",
    "cax = data_xr_1.VV[:,:,0].plot(\n",
    "    add_colorbar=True,\n",
    "    cmap='coolwarm',\n",
    "    vmin=-20, vmax=5,\n",
    "    cbar_kwargs={\n",
    "        #'extend':'neither'\n",
    "    }\n",
    ")\n",
    "\n",
    "# Next we need to create a function that updates the values for the colormesh, as well as the title.\n",
    "def animate(frame):\n",
    "    cax.set_array(data_xr_1.VV[:,:,frame].values.flatten())\n",
    "    ax.set_title(\"Time = \" + str(data_xr_1.VV.coords['time'].values[frame])[:13])\n",
    "\n",
    "    \n",
    "# Finally, we use the animation module to create the animation.\n",
    "ani = animation.FuncAnimation(\n",
    "    fig,             # figure\n",
    "    animate,         # name of the function above\n",
    "    frames=40,       # Could also be iterable or list\n",
    "    interval=1000,     # ms between frames\n",
    "    cache_frame_data =False\n",
    ")\n"
   ]
  },
  {
   "cell_type": "code",
   "execution_count": null,
   "metadata": {},
   "outputs": [],
   "source": [
    "#importing libraries\n",
    "import matplotlib.pyplot as plt\n",
    "import matplotlib.animation as animation\n",
    "\n",
    "\n",
    "fig = plt.figure()\n",
    "#creating a subplot \n",
    "ax1 = fig.add_subplot(1,1,1)\n",
    "\n",
    "def animate(i):\n",
    "    data = open('stock.txt','r').read()\n",
    "    lines = data.split('\\n')\n",
    "    xs = []\n",
    "    ys = []\n",
    "   \n",
    "    for line in lines:\n",
    "        x, y = line.split(',') # Delimiter is comma    \n",
    "        xs.append(float(x))\n",
    "        ys.append(float(y))\n",
    "   \n",
    "    \n",
    "    ax1.clear()\n",
    "    ax1.plot(xs, ys)\n",
    "\n",
    "    plt.xlabel('Date')\n",
    "    plt.ylabel('Price')\n",
    "    plt.title('Live graph with matplotlib')\t\n",
    "\t\n",
    "    \n",
    "ani = animation.FuncAnimation(fig, animate, interval=1000) \n",
    "plt.show()"
   ]
  },
  {
   "cell_type": "code",
   "execution_count": null,
   "metadata": {},
   "outputs": [],
   "source": []
  },
  {
   "cell_type": "code",
   "execution_count": null,
   "metadata": {},
   "outputs": [],
   "source": [
    "        \n",
    "    \n",
    "    #desc = sentinel1.filter(ee.Filter.eq('orbitProperties_pass', 'DESCENDING'))\n",
    "    #senA_desc = desc.filter(ee.Filter.eq('platform_number', 'A')).map(lambda x: x.clip(aoi_geometry))\n",
    "    #senB_desc = desc.filter(ee.Filter.eq('platform_number', 'B')).map(lambda x: x.clip(aoi_geometry))\n",
    "    \n",
    "    #asc = sentinel1.filter(ee.Filter.eq('orbitProperties_pass', 'ASCENDING'))\n",
    "    #senA_asc = asc.filter(ee.Filter.eq('platform_number', 'A')).map(lambda x: x.clip(aoi_geometry))\n",
    "    #senB_asc = asc.filter(ee.Filter.eq('platform_number', 'B')).map(lambda x: x.clip(aoi_geometry))\n",
    "    \n",
    "    #count_desc_A = senA_desc.size().getInfo()\n",
    "    #count_desc_B = senB_desc.size().getInfo()\n",
    "    #count_asc_A = senA_asc.size().getInfo()\n",
    "    #count_asc_B = senB_asc.size().getInfo()\n",
    "\n",
    "    #print(f'count_desc_A: {count_desc_A},count_desc_B: {count_desc_B},count_asc_A: {count_asc_A}, count_asc_B: {count_asc_B}  ')\n",
    "    #c=0\n",
    "    #for collection, count, collection_name in zip([senA_desc, senB_desc, senA_asc, senB_asc], [count_desc_A, count_desc_B, count_asc_A, count_asc_B],['senA_desc', 'senB_desc', 'senA_asc', 'senB_asc']):\n",
    "    #    names = collection.aggregate_array('system:index').getInfo()\n",
    "    #    collection = collection.toList(count)\n",
    "    #\n",
    "    #   for i in list(range(count))[::2]:\n",
    "    # #       if c >= 0:\n",
    "    #            name1 = names[i]\n",
    "    #            name2 = names[i+1]\n",
    "    #            image1 = ee.Image(collection.get(i)).select(bands[0])\n",
    "    #            image2 = ee.Image(collection.get(i)).select(bands[1])\n",
    "    #            image3 = ee.Image(collection.get(i+1)).select(bands[0])\n",
    "    #            image4 = ee.Image(collection.get(i+1)).select(bands[1])\n",
    "    #            task1 = ee.batch.Export.image.toDrive(image=image1,\n",
    "    #                                                 description = name1 + '_' + bands[0] + '_' + collection_name,\n",
    "    #                                                 #region=aoi_geometry,\n",
    "    #                                                 folder='idm_gee_export',\n",
    "    #                                                 scale = scale,\n",
    "     #                                                crs = crs,\n",
    "    #                                                )\n",
    "    #            task2 = ee.batch.Export.image.toDrive(image=image2,\n",
    "    #                                 description = name1 + '_' + bands[1] + '_' + collection_name,\n",
    "    #                                 #region=aoi_geometry,\n",
    "#                                 folder='idm_gee_export',\n",
    "#                                 scale = scale,\n",
    "#                                 crs = crs,\n",
    "#                                )\n",
    "\n",
    "\n",
    "\n",
    "#            task3 = ee.batch.Export.image.toDrive(image=image3,\n",
    "#                                                 description = name2 + '_' + bands[0] + '_' + collection_name,\n",
    "#                                                 folder='idm_gee_export',\n",
    "#                                                 scale = scale,\n",
    "#                                                 crs = crs,\n",
    "#                                                )\n",
    "#            task4 = ee.batch.Export.image.toDrive(image=image4,\n",
    "#                                 description = name2 + '_' + bands[1] + '_' + collection_name,\n",
    "#                                 folder='idm_gee_export',\n",
    "#                                 scale = scale,\n",
    "#                                 crs = crs,\n",
    "#                                )\n",
    "\n",
    "#            task1.start()\n",
    "#            task2.start()\n",
    "#            task3.start()\n",
    "#            task4.start()\n",
    "#            c += 4\n",
    "#        else:\n",
    "#            c += 4\n",
    "#        #while task1.active() or task2.active() or task3.active() or task4.active():\n",
    "#        #    #print('Waiting on (id: {}).'.format(task1.id) , 'Waiting on (id: {}).'.format(task2.id),'\\n', 'Waiting on (id: {}).'.format(task3.id), 'Waiting on (id: {}).'.format(task4.id))\n",
    "#        #    print(f'Download {i} / {count}')\n",
    "#        #    time.sleep(30)\n",
    "\n",
    "   "
   ]
  },
  {
   "cell_type": "markdown",
   "metadata": {},
   "source": [
    "Saisonale RGB Composite "
   ]
  },
  {
   "cell_type": "code",
   "execution_count": 47,
   "metadata": {
    "ExecuteTime": {
     "end_time": "2022-02-24T16:03:05.952240Z",
     "start_time": "2022-02-24T16:03:05.395167Z"
    }
   },
   "outputs": [
    {
     "name": "stderr",
     "output_type": "stream",
     "text": [
      "Clipping input data to the valid range for imshow with RGB data ([0..1] for floats or [0..255] for integers).\n"
     ]
    },
    {
     "data": {
      "image/png": "[encoded data removed]",
      "text/plain": [
       "<Figure size 432x288 with 1 Axes>"
      ]
     },
     "metadata": {
      "needs_background": "light"
     },
     "output_type": "display_data"
    }
   ],
   "source": [
    "import matplotlib.pyplot as plt\n",
    "import numpy as np\n",
    "from sklearn.preprocessing import MinMaxScaler\n",
    "scaler = MinMaxScaler(feature_range=(0, 1), copy = False)\n",
    "\n",
    "R = data_xr.VV.sel(time = slice('2018-06-01', '2018-07-01')).mean('time')\n",
    "G = data_xr.VV.sel(time = slice('2018-07-01', '2018-08-01')).mean('time')\n",
    "B = data_xr.VV.sel(time = slice('2018-08-01', '2018-09-01')).mean('time')\n",
    "\n",
    "R = scaler.fit_transform(R)\n",
    "G = scaler.fit_transform(G)\n",
    "B = scaler.fit_transform(B)\n",
    "\n",
    "rgb = np.dstack((R,G,B)) \n",
    "\n",
    "plt.figure()\n",
    "plt.imshow(rgb)\n",
    "plt.show()"
   ]
  }
 ],
 "metadata": {
  "kernelspec": {
   "display_name": "Python [conda env:irrigation_detection]",
   "language": "python",
   "name": "conda-env-irrigation_detection-py"
  },
  "language_info": {
   "codemirror_mode": {
    "name": "ipython",
    "version": 3
   },
   "file_extension": ".py",
   "mimetype": "text/x-python",
   "name": "python",
   "nbconvert_exporter": "python",
   "pygments_lexer": "ipython3",
   "version": "3.9.7"
  },
  "toc": {
   "base_numbering": 1,
   "nav_menu": {},
   "number_sections": true,
   "sideBar": true,
   "skip_h1_title": false,
   "title_cell": "Table of Contents",
   "title_sidebar": "Contents",
   "toc_cell": false,
   "toc_position": {},
   "toc_section_display": true,
   "toc_window_display": false
  },
  "varInspector": {
   "cols": {
    "lenName": 16,
    "lenType": 16,
    "lenVar": 40
   },
   "kernels_config": {
    "python": {
     "delete_cmd_postfix": "",
     "delete_cmd_prefix": "del ",
     "library": "var_list.py",
     "varRefreshCmd": "print(var_dic_list())"
    },
    "r": {
     "delete_cmd_postfix": ") ",
     "delete_cmd_prefix": "rm(",
     "library": "var_list.r",
     "varRefreshCmd": "cat(var_dic_list()) "
    }
   },
   "types_to_exclude": [
    "module",
    "function",
    "builtin_function_or_method",
    "instance",
    "_Feature"
   ],
   "window_display": false
  }
 },
 "nbformat": 4,
 "nbformat_minor": 2
}
