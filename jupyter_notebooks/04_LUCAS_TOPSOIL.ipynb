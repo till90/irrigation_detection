{
 "cells": [
  {
   "cell_type": "markdown",
   "metadata": {},
   "source": [
    "https://esdac.jrc.ec.europa.eu/content/lucas2015-topsoil-data"
   ]
  },
  {
   "cell_type": "code",
   "execution_count": null,
   "metadata": {
    "ExecuteTime": {
     "end_time": "2021-10-27T18:18:17.837282Z",
     "start_time": "2021-10-27T18:18:06.173761Z"
    }
   },
   "outputs": [],
   "source": [
    "import sys\n",
    "!conda install -c conda-forge --yes --prefix {sys.prefix} openpyxl folium matplotlib mapclassify"
   ]
  },
  {
   "cell_type": "code",
   "execution_count": 1,
   "metadata": {
    "ExecuteTime": {
     "end_time": "2022-04-11T07:12:17.129976Z",
     "start_time": "2022-04-11T07:12:16.485166Z"
    }
   },
   "outputs": [],
   "source": [
    "import pandas as pd\n",
    "import geopandas as gpd\n",
    "import numpy as np"
   ]
  },
  {
   "cell_type": "code",
   "execution_count": 2,
   "metadata": {
    "ExecuteTime": {
     "end_time": "2022-04-11T07:12:20.078444Z",
     "start_time": "2022-04-11T07:12:20.062849Z"
    }
   },
   "outputs": [],
   "source": [
    "# LUCAS TOPSOIL 2009 datasheets\n",
    "lts_09 = r\"D:\\soil_data\\LUCAS_TOPSOIL_v1\\LUCAS_TOPSOIL_v1.xlsx\"\n",
    "lts_15 = r\"D:\\soil_data\\LUCAS2015_topsoildata_20200323\\LUCAS_Topsoil_2015_20200323.csv\"\n",
    "lts_DE = r'D:\\soil_data\\LUCAS2015_topsoildata_20200323_micro\\LUCAS_Topsoil_2015_DE.csv'"
   ]
  },
  {
   "cell_type": "code",
   "execution_count": 3,
   "metadata": {
    "ExecuteTime": {
     "end_time": "2022-04-11T07:12:26.630371Z",
     "start_time": "2022-04-11T07:12:22.969509Z"
    }
   },
   "outputs": [],
   "source": [
    "# LUCAS TOPSOIL 2009\n",
    "# Load excel file with sample_ID as index.\n",
    "df_09 = pd.read_excel(lts_09)\n",
    "# Unselect rows with invalid POINT_ID.\n",
    "df_09 = df_09[df_09['POINT_ID'].astype(str).str.isdigit()]\n",
    "# Set POINT_ID as index.\n",
    "df_09.set_index(\"POINT_ID\", inplace=True)\n",
    "# Rename to consider equality between 2009 and 2015 data\n",
    "df_09.rename(index={'POINT_ID': 'Point_ID'}, inplace=True) \n",
    "# Add columns from 2015 survey \n",
    "df_09[['Elevation','LC1', 'LU1', 'Soil_Stones', \"NUTS_0\",\"NUTS_1\",\"NUTS_2\",\"NUTS_3\", \"LC1_Desc\",\"LU1_Desc\"]] = np.nan"
   ]
  },
  {
   "cell_type": "code",
   "execution_count": 4,
   "metadata": {
    "ExecuteTime": {
     "end_time": "2022-04-11T07:12:26.813768Z",
     "start_time": "2022-04-11T07:12:26.697518Z"
    }
   },
   "outputs": [],
   "source": [
    "# LUCAS TOPSOIL 2015\n",
    "df_15 = pd.read_csv(lts_15, index_col=\"Point_ID\")\n",
    "# Update missing landcover information from the 2015 survey\n",
    "df_09.update(df_15)\n",
    "#Reset Index \n",
    "df_09.reset_index(inplace=True)"
   ]
  },
  {
   "cell_type": "code",
   "execution_count": 5,
   "metadata": {
    "ExecuteTime": {
     "end_time": "2022-04-11T07:12:29.211607Z",
     "start_time": "2022-04-11T07:12:29.180329Z"
    }
   },
   "outputs": [],
   "source": [
    "# German Points Ides\n",
    "df_DE = pd.read_csv(lts_DE, index_col=\"Point_ID\")\n",
    "DE_Points = list(df_DE.index)"
   ]
  },
  {
   "cell_type": "code",
   "execution_count": 6,
   "metadata": {
    "ExecuteTime": {
     "end_time": "2022-04-11T07:12:34.509403Z",
     "start_time": "2022-04-11T07:12:33.823089Z"
    }
   },
   "outputs": [],
   "source": [
    "# Creating a GeoDataFrame from a DataFrame with coordinates\n",
    "df_09 = gpd.GeoDataFrame(df_09, geometry=gpd.points_from_xy(df_09.GPS_LONG, df_09.GPS_LAT), crs=4326)\n",
    "# Load area of interest into geopandas for masking df_09\n",
    "aoi = gpd.read_file(r'C:\\Users\\USER\\Desktop\\Master_Irrigation\\03_GIS\\oberrheingraben_shp\\oberrheingraben-polygon.shp').to_crs(epsg=4326)\n",
    "# Subset data\n",
    "df_grassland = df_09[df_09.LC1_Desc == 'Grassland without tree/shrub cover']\n",
    "df_grassland_DE = df_grassland[df_grassland['POINT_ID'].isin(DE_Points)]\n",
    "df_bare = df_09[df_09.LC1_Desc == 'OTHER BARE SOIL']\n",
    "df_bare_DE = df_bare[df_bare['POINT_ID'].isin(DE_Points)]\n",
    "df_DE = df_09[df_09['POINT_ID'].isin(DE_Points)]\n",
    "# Save data to disk \n",
    "df_grassland.to_csv(r'C:/Users/USER/Desktop/Master_Irrigation/03_GIS/soil_classification/LTS_grassland.csv', index=False)\n",
    "df_grassland_DE.to_csv(r'C:/Users/USER/Desktop/Master_Irrigation/03_GIS/soil_classification/LTS_grassland_DE.csv', index=False)\n",
    "df_bare.to_csv(r'C:/Users/USER/Desktop/Master_Irrigation/03_GIS/soil_classification/LTS_bare.csv', index=False)\n",
    "df_bare_DE.to_csv(r'C:/Users/USER/Desktop/Master_Irrigation/03_GIS/soil_classification/LTS_bare_DE.csv', index=False)\n",
    "df_DE.to_csv(r'C:/Users/USER/Desktop/Master_Irrigation/03_GIS/soil_classification/LTS_DE.csv', index=False)\n"
   ]
  },
  {
   "cell_type": "code",
   "execution_count": null,
   "metadata": {
    "ExecuteTime": {
     "end_time": "2022-03-12T08:56:56.817238Z",
     "start_time": "2022-03-12T08:56:56.754644Z"
    }
   },
   "outputs": [],
   "source": [
    "world_filepath = gpd.datasets.get_path('naturalearth_lowres')\n",
    "world = gpd.read_file(world_filepath)\n",
    "greece = world.loc[world['name'] == 'Germany']"
   ]
  },
  {
   "cell_type": "code",
   "execution_count": 7,
   "metadata": {
    "ExecuteTime": {
     "end_time": "2022-04-11T07:12:38.851064Z",
     "start_time": "2022-04-11T07:12:38.835475Z"
    }
   },
   "outputs": [],
   "source": [
    "from irrigation_detection import get_s1_s2_era5_df\n",
    "from glob import glob"
   ]
  },
  {
   "cell_type": "code",
   "execution_count": null,
   "metadata": {
    "ExecuteTime": {
     "end_time": "2022-03-25T16:01:46.180479Z",
     "start_time": "2022-03-25T16:01:46.156480Z"
    }
   },
   "outputs": [],
   "source": [
    "ried_soil_samples = pd.DataFrame({'POINT_ID' : [1,2,3,4,5,6,7], \n",
    "                                  'longitude' : [8.5332, 8.5225, 8.4396, 8.4187, 8.4499, 8.4191, 8.84081],\n",
    "                                 'latitude' : [49.9083, 49.8843, 49.9201, 49.8961, 49.8847, 49.8722, 49.8471],\n",
    "                                 'silt' : [13.0, 21, 56.7, 66.8, 63.5, 67.1, 74.2],\n",
    "                                 'sand' : [85.1, 74.8, 40.2, 31.5, 35.5, 32.1, 22.1],\n",
    "                                 'coarse' : [1.9, 4.2, 2.9, 1.7, 1.0, 0.7, 3.7]})\n",
    "ried_soil_samples['clay'] = 100 - ried_soil_samples.silt - ried_soil_samples.sand\n",
    "ried_soil_samples.to_csv(r'C:/Users/USER/Desktop/Master_Irrigation/03_GIS/soil_classification/ried_soil_samples.csv')\n"
   ]
  },
  {
   "cell_type": "code",
   "execution_count": 3,
   "metadata": {
    "ExecuteTime": {
     "end_time": "2022-04-01T19:42:07.669080Z",
     "start_time": "2022-04-01T19:42:07.198920Z"
    }
   },
   "outputs": [],
   "source": [
    "ried_full_points = gpd.read_file('C:/Users/USER/Desktop/Master_Irrigation/03_GIS/landcover/ried_points_lc_30_40.geojson')"
   ]
  },
  {
   "cell_type": "code",
   "execution_count": null,
   "metadata": {
    "ExecuteTime": {
     "end_time": "2022-03-30T12:03:25.937156Z",
     "start_time": "2022-03-30T12:03:25.921771Z"
    }
   },
   "outputs": [],
   "source": [
    "longitude = list(ried_soil_samples.longitude)\n",
    "latitude = list(ried_soil_samples.latitude)\n",
    "point_id = list(ried_soil_samples.POINT_ID)"
   ]
  },
  {
   "cell_type": "code",
   "execution_count": 10,
   "metadata": {
    "ExecuteTime": {
     "end_time": "2022-04-11T07:12:52.466150Z",
     "start_time": "2022-04-11T07:12:52.434878Z"
    }
   },
   "outputs": [],
   "source": [
    "longitude = list(df_DE.geometry.x)\n",
    "latitude = list(df_DE.geometry.y)\n",
    "point_id = list(df_DE.POINT_ID)"
   ]
  },
  {
   "cell_type": "code",
   "execution_count": 8,
   "metadata": {
    "ExecuteTime": {
     "end_time": "2022-04-11T07:12:42.605251Z",
     "start_time": "2022-04-11T07:12:42.574033Z"
    }
   },
   "outputs": [],
   "source": [
    "#filepath_grassland = r'C:/Users/USER/Desktop/Master_Irrigation/03_GIS/soil_classification/download_ts/grassland/'\n",
    "#filepath_grassland_DE = r'C:/Users/USER/Desktop/Master_Irrigation/03_GIS/soil_classification/download_ts/grassland_DE/'\n",
    "#filepath_bare_soil = r'C:/Users/USER/Desktop/Master_Irrigation/03_GIS/soil_classification/download_ts/bare_soil/'\n",
    "filepath_DE = r'C:/Users/USER/Desktop/Master_Irrigation/03_GIS/soil_classification/download_ts/DE/'\n",
    "#filepath_ried = r'C:/Users/USER/Desktop/Master_Irrigation/03_GIS/soil_classification/download_ts/ried_soil_samples/'\n",
    "#filepath_ried_10m = r'C:/Users/USER/Desktop/Master_Irrigation/03_GIS/soil_classification/download_ts/ried_soil_samples_10m/'\n",
    "#filepath_ried_fullpoints_30m = r'C:/Users/USER/Desktop/Master_Irrigation/03_GIS/soil_classification/download_ts/ried_fullpoints_30m_17-19/'\n",
    "\n",
    "files = glob(filepath_DE + '*')\n",
    "existing_ids = [int(x.split('_')[-3]) for x in files]"
   ]
  },
  {
   "cell_type": "code",
   "execution_count": null,
   "metadata": {
    "ExecuteTime": {
     "start_time": "2022-04-11T07:12:54.489Z"
    }
   },
   "outputs": [
    {
     "name": "stdout",
     "output_type": "stream",
     "text": [
      "46643144 data already exists... skip download!\n",
      "46623118 data already exists... skip download!\n",
      "46603108 data already exists... skip download!\n",
      "46563124 data already exists... skip download!\n",
      "46543152 data already exists... skip download!\n",
      "46543138 data already exists... skip download!\n",
      "46483136 data already exists... skip download!\n",
      "46443178 data already exists... skip download!\n",
      "46443124 data already exists... skip download!\n",
      "46423144 data already exists... skip download!\n",
      "46423126 data already exists... skip download!\n",
      "46403220 data already exists... skip download!\n",
      "46403170 data already exists... skip download!\n",
      "46403134 data already exists... skip download!\n",
      "46403130 data already exists... skip download!\n",
      "46383154 data already exists... skip download!\n",
      "46363218 data already exists... skip download!\n",
      "46363192 data already exists... skip download!\n",
      "46323180 data already exists... skip download!\n",
      "46323144 data already exists... skip download!\n",
      "46323140 data already exists... skip download!\n",
      "46323122 data already exists... skip download!\n",
      "46303244 data already exists... skip download!\n",
      "46303208 data already exists... skip download!\n",
      "46303172 data already exists... skip download!\n",
      "46283270 data already exists... skip download!\n",
      "46283230 data already exists... skip download!\n",
      "46263100 data already exists... skip download!\n",
      "46243176 data already exists... skip download!\n",
      "46223292 data already exists... skip download!\n",
      "46223224 data already exists... skip download!\n",
      "46203244 data already exists... skip download!\n",
      "46203136 data already exists... skip download!\n",
      "46183272 data already exists... skip download!\n",
      "46183264 data already exists... skip download!\n",
      "46183138 data already exists... skip download!\n",
      "46183120 data already exists... skip download!\n",
      "46163286 data already exists... skip download!\n",
      "46163250 data already exists... skip download!\n",
      "46163214 data already exists... skip download!\n",
      "46163196 data already exists... skip download!\n",
      "46163160 data already exists... skip download!\n",
      "46143292 data already exists... skip download!\n",
      "46143288 data already exists... skip download!\n",
      "46143212 data already exists... skip download!\n",
      "46143198 data already exists... skip download!\n",
      "46143140 data already exists... skip download!\n",
      "46123154 data already exists... skip download!\n",
      "46103338 data already exists... skip download!\n",
      "46103302 data already exists... skip download!\n",
      "46103252 data already exists... skip download!\n",
      "46103168 data already exists... skip download!\n",
      "46103104 data already exists... skip download!\n",
      "46103090 data already exists... skip download!\n",
      "46083304 data already exists... skip download!\n",
      "46083280 data already exists... skip download!\n",
      "46083208 data already exists... skip download!\n",
      "46063374 data already exists... skip download!\n",
      "46063270 data already exists... skip download!\n",
      "46063266 data already exists... skip download!\n",
      "46063090 data already exists... skip download!\n",
      "46043364 data already exists... skip download!\n",
      "46043346 data already exists... skip download!\n",
      "46043206 data already exists... skip download!\n",
      "46043152 data already exists... skip download!\n",
      "46023376 data already exists... skip download!\n",
      "46023334 data already exists... skip download!\n",
      "46023190 data already exists... skip download!\n",
      "46003390 data already exists... skip download!\n",
      "46003362 data already exists... skip download!\n",
      "46003300 data already exists... skip download!\n",
      "46003278 data already exists... skip download!\n",
      "46003260 data already exists... skip download!\n",
      "46003134 data already exists... skip download!\n",
      "45983376 data already exists... skip download!\n",
      "45983304 data already exists... skip download!\n",
      "45983286 data already exists... skip download!\n",
      "45983232 data already exists... skip download!\n",
      "45983214 data already exists... skip download!\n",
      "45983142 data already exists... skip download!\n",
      "45983106 data already exists... skip download!\n",
      "45963382 data already exists... skip download!\n",
      "45963342 data already exists... skip download!\n",
      "45963328 data already exists... skip download!\n",
      "45963320 data already exists... skip download!\n",
      "45963310 data already exists... skip download!\n",
      "45963284 data already exists... skip download!\n",
      "45963234 data already exists... skip download!\n",
      "45943172 data already exists... skip download!\n",
      "45923288 data already exists... skip download!\n",
      "45923270 data already exists... skip download!\n",
      "45923266 data already exists... skip download!\n",
      "45923252 data already exists... skip download!\n",
      "45923114 data already exists... skip download!\n",
      "45903358 data already exists... skip download!\n",
      "45903214 data already exists... skip download!\n",
      "45883320 data already exists... skip download!\n",
      "45883266 data already exists... skip download!\n",
      "45882852 data already exists... skip download!\n",
      "45863292 data already exists... skip download!\n",
      "45863256 data already exists... skip download!\n",
      "45863206 data already exists... skip download!\n",
      "45863134 data already exists... skip download!\n",
      "45862846 data already exists... skip download!\n",
      "45843316 data already exists... skip download!\n",
      "45843240 data already exists... skip download!\n",
      "45843172 data already exists... skip download!\n",
      "45823296 data already exists... skip download!\n",
      "45823278 data already exists... skip download!\n",
      "45823182 data already exists... skip download!\n",
      "45823156 data already exists... skip download!\n",
      "45823146 data already exists... skip download!\n",
      "45823098 data already exists... skip download!\n",
      "45823084 data already exists... skip download!\n",
      "45803340 data already exists... skip download!\n",
      "45803232 data already exists... skip download!\n",
      "45803124 data already exists... skip download!\n",
      "45783346 data already exists... skip download!\n",
      "45783302 data already exists... skip download!\n",
      "45783202 data already exists... skip download!\n",
      "45783086 data already exists... skip download!\n",
      "45763154 data already exists... skip download!\n",
      "45743270 data already exists... skip download!\n",
      "45743266 data already exists... skip download!\n",
      "45743216 data already exists... skip download!\n",
      "45743204 data already exists... skip download!\n",
      "45743126 data already exists... skip download!\n",
      "45742826 data already exists... skip download!\n",
      "45723316 data already exists... skip download!\n",
      "45723304 data already exists... skip download!\n",
      "45723250 data already exists... skip download!\n",
      "45723100 data already exists... skip download!\n",
      "45703360 data already exists... skip download!\n",
      "45703288 data already exists... skip download!\n",
      "45703230 data already exists... skip download!\n",
      "45702852 data already exists... skip download!\n",
      "45683350 data already exists... skip download!\n",
      "45683278 data already exists... skip download!\n",
      "45683238 data already exists... skip download!\n",
      "45683220 data already exists... skip download!\n",
      "45683188 data already exists... skip download!\n",
      "45683170 data already exists... skip download!\n",
      "45663298 data already exists... skip download!\n",
      "45663226 data already exists... skip download!\n",
      "45663160 data already exists... skip download!\n",
      "45663154 data already exists... skip download!\n",
      "45662866 data already exists... skip download!\n",
      "45643314 data already exists... skip download!\n",
      "45643218 data already exists... skip download!\n",
      "45643098 data already exists... skip download!\n",
      "45643084 data already exists... skip download!\n",
      "45642828 data already exists... skip download!\n",
      "45623286 data already exists... skip download!\n",
      "45623070 data already exists... skip download!\n",
      "45603292 data already exists... skip download!\n",
      "45603068 data already exists... skip download!\n",
      "45602816 data already exists... skip download!\n",
      "45602806 data already exists... skip download!\n",
      "45583298 data already exists... skip download!\n",
      "45583208 data already exists... skip download!\n",
      "45583190 data already exists... skip download!\n",
      "45583172 data already exists... skip download!\n",
      "45583154 data already exists... skip download!\n",
      "45583106 data already exists... skip download!\n",
      "45583100 data already exists... skip download!\n",
      "45563438 data already exists... skip download!\n",
      "45563356 data already exists... skip download!\n",
      "45563342 data already exists... skip download!\n",
      "45563180 data already exists... skip download!\n",
      "45563108 data already exists... skip download!\n",
      "45562852 data already exists... skip download!\n",
      "45543316 data already exists... skip download!\n",
      "45543208 data already exists... skip download!\n",
      "45543160 data already exists... skip download!\n",
      "45523324 data already exists... skip download!\n",
      "45523252 data already exists... skip download!\n",
      "45523162 data already exists... skip download!\n",
      "45523068 data already exists... skip download!\n",
      "45522816 data already exists... skip download!\n",
      "45503080 data already exists... skip download!\n",
      "45483438 data already exists... skip download!\n",
      "45483226 data already exists... skip download!\n",
      "45483118 data already exists... skip download!\n",
      "45483096 data already exists... skip download!\n",
      "45482830 data already exists... skip download!\n",
      "45463368 data already exists... skip download!\n",
      "45463200 data already exists... skip download!\n",
      "45463192 data already exists... skip download!\n",
      "45463110 data already exists... skip download!\n",
      "45462850 data already exists... skip download!\n",
      "45443304 data already exists... skip download!\n",
      "45442854 data already exists... skip download!\n",
      "45423338 data already exists... skip download!\n",
      "45423302 data already exists... skip download!\n",
      "45423288 data already exists... skip download!\n",
      "45423284 data already exists... skip download!\n",
      "45423166 data already exists... skip download!\n",
      "45423112 data already exists... skip download!\n",
      "45422842 data already exists... skip download!\n",
      "45422824 data already exists... skip download!\n",
      "45403142 data already exists... skip download!\n",
      "45383374 data already exists... skip download!\n",
      "45383306 data already exists... skip download!\n",
      "45383270 data already exists... skip download!\n",
      "45383240 data already exists... skip download!\n",
      "45383230 data already exists... skip download!\n",
      "45363322 data already exists... skip download!\n",
      "45362764 data already exists... skip download!\n",
      "45343216 data already exists... skip download!\n",
      "45323310 data already exists... skip download!\n",
      "45323202 data already exists... skip download!\n",
      "45323188 data already exists... skip download!\n",
      "45323152 data already exists... skip download!\n",
      "45323112 data already exists... skip download!\n",
      "45323098 data already exists... skip download!\n",
      "45322860 data already exists... skip download!\n",
      "45322810 data already exists... skip download!\n",
      "45303412 data already exists... skip download!\n",
      "45283408 data already exists... skip download!\n",
      "45283282 data already exists... skip download!\n",
      "45283278 data already exists... skip download!\n",
      "45283260 data already exists... skip download!\n",
      "45282904 data already exists... skip download!\n",
      "45263286 data already exists... skip download!\n",
      "45263232 data already exists... skip download!\n",
      "45262854 data already exists... skip download!\n",
      "45243418 data already exists... skip download!\n",
      "45243306 data already exists... skip download!\n",
      "45243302 data already exists... skip download!\n",
      "45243288 data already exists... skip download!\n",
      "45243248 data already exists... skip download!\n",
      "45243238 data already exists... skip download!\n",
      "45243216 data already exists... skip download!\n",
      "45243104 data already exists... skip download!\n",
      "45242910 data already exists... skip download!\n",
      "45223118 data already exists... skip download!\n",
      "45222866 data already exists... skip download!\n",
      "45222830 data already exists... skip download!\n",
      "45222812 data already exists... skip download!\n",
      "45203446 data already exists... skip download!\n",
      "45203356 data already exists... skip download!\n",
      "45203240 data already exists... skip download!\n",
      "45203194 data already exists... skip download!\n",
      "45203096 data already exists... skip download!\n",
      "45202880 data already exists... skip download!\n",
      "45202838 data already exists... skip download!\n",
      "45202816 data already exists... skip download!\n",
      "45202780 data already exists... skip download!\n",
      "45202754 data already exists... skip download!\n",
      "45183394 data already exists... skip download!\n",
      "45183250 data already exists... skip download!\n",
      "45183100 data already exists... skip download!\n",
      "45182848 data already exists... skip download!\n",
      "45182836 data already exists... skip download!\n",
      "45163414 data already exists... skip download!\n",
      "45163216 data already exists... skip download!\n",
      "45162852 data already exists... skip download!\n",
      "45162820 data already exists... skip download!\n",
      "45143454 data already exists... skip download!\n",
      "45143116 data already exists... skip download!\n",
      "45142900 data already exists... skip download!\n",
      "45142806 data already exists... skip download!\n",
      "45123358 data already exists... skip download!\n",
      "45123304 data already exists... skip download!\n",
      "45123286 data already exists... skip download!\n",
      "45123226 data already exists... skip download!\n",
      "45122758 data already exists... skip download!\n",
      "45103336 data already exists... skip download!\n",
      "45103308 data already exists... skip download!\n",
      "45103282 data already exists... skip download!\n",
      "45103272 data already exists... skip download!\n",
      "45103156 data already exists... skip download!\n",
      "45102904 data already exists... skip download!\n",
      "45102786 data already exists... skip download!\n",
      "45102750 data already exists... skip download!\n",
      "45063428 data already exists... skip download!\n",
      "Download Sentinel 1 & Sentinel 2 & ERA5 data for longitude: 12.74773, latitude: 52.86725, Item: 0/0\n"
     ]
    },
    {
     "name": "stdout",
     "output_type": "stream",
     "text": [
      "S1 data collection succseed!\n",
      "S2 data collection sucseed!\n",
      "ERA5 data collection sucseed!\n",
      "Write : C:/Users/USER/Desktop/Master_Irrigation/03_GIS/soil_classification/download_ts/DE/POINT_ID_45063310_12.74773_52.86725.geojson  succesfully to disk\n",
      "Finish downloads... failed to download []\n",
      "Download Sentinel 1 & Sentinel 2 & ERA5 data for longitude: 12.72758, latitude: 52.54396, Item: 0/0\n",
      "S1 data collection succseed!\n",
      "S2 data collection sucseed!\n",
      "ERA5 data collection sucseed!\n",
      "Write : C:/Users/USER/Desktop/Master_Irrigation/03_GIS/soil_classification/download_ts/DE/POINT_ID_45063274_12.72758_52.54396.geojson  succesfully to disk\n",
      "Finish downloads... failed to download []\n",
      "Download Sentinel 1 & Sentinel 2 & ERA5 data for longitude: 12.66713, latitude: 51.53821, Item: 0/0\n",
      "S1 data collection succseed!\n",
      "S2 data collection sucseed!\n",
      "ERA5 data collection sucseed!\n",
      "Write : C:/Users/USER/Desktop/Master_Irrigation/03_GIS/soil_classification/download_ts/DE/POINT_ID_45063162_12.66713_51.53821.geojson  succesfully to disk\n",
      "Finish downloads... failed to download []\n",
      "Download Sentinel 1 & Sentinel 2 & ERA5 data for longitude: 12.63701, latitude: 51.01728, Item: 0/0\n",
      "S1 data collection succseed!\n",
      "S2 data collection sucseed!\n",
      "ERA5 data collection sucseed!\n",
      "Write : C:/Users/USER/Desktop/Master_Irrigation/03_GIS/soil_classification/download_ts/DE/POINT_ID_45063104_12.63701_51.01728.geojson  succesfully to disk\n",
      "Finish downloads... failed to download []\n",
      "Download Sentinel 1 & Sentinel 2 & ERA5 data for longitude: 12.54884, latitude: 49.40006, Item: 0/0\n",
      "S1 data collection succseed!\n",
      "S2 data collection sucseed!\n",
      "ERA5 data collection sucseed!\n",
      "Write : C:/Users/USER/Desktop/Master_Irrigation/03_GIS/soil_classification/download_ts/DE/POINT_ID_45062924_12.54884_49.40006.geojson  succesfully to disk\n",
      "Finish downloads... failed to download []\n",
      "45062870 data already exists... skip download!\n",
      "Download Sentinel 1 & Sentinel 2 & ERA5 data for longitude: 12.51106, latitude: 48.66301, Item: 0/0\n",
      "S1 data collection succseed!\n",
      "Computation timed out.\n",
      "Failed to download!\n",
      "Finish downloads... failed to download [<zip object at 0x000001A2476F47C8>]\n",
      "Download Sentinel 1 & Sentinel 2 & ERA5 data for longitude: 12.49134, latitude: 48.26742, Item: 0/0\n",
      "S1 data collection succseed!\n",
      "S2 data collection sucseed!\n",
      "ERA5 data collection sucseed!\n",
      "Write : C:/Users/USER/Desktop/Master_Irrigation/03_GIS/soil_classification/download_ts/DE/POINT_ID_45062798_12.49134_48.26742.geojson  succesfully to disk\n",
      "Finish downloads... failed to download []\n",
      "45062784 data already exists... skip download!\n",
      "45062748 data already exists... skip download!\n",
      "Download Sentinel 1 & Sentinel 2 & ERA5 data for longitude: 12.6443, latitude: 51.62881, Item: 0/0\n",
      "S1 data collection succseed!\n",
      "S2 data collection sucseed!\n",
      "ERA5 data collection sucseed!\n",
      "Write : C:/Users/USER/Desktop/Master_Irrigation/03_GIS/soil_classification/download_ts/DE/POINT_ID_45043172_12.6443_51.62881.geojson  succesfully to disk\n",
      "Finish downloads... failed to download []\n",
      "45043070 data already exists... skip download!\n",
      "Download Sentinel 1 & Sentinel 2 & ERA5 data for longitude: 12.47061, latitude: 48.39386, Item: 0/0\n",
      "S1 data collection succseed!\n",
      "S2 data collection sucseed!\n",
      "ERA5 data collection sucseed!\n",
      "Write : C:/Users/USER/Desktop/Master_Irrigation/03_GIS/soil_classification/download_ts/DE/POINT_ID_45042812_12.47061_48.39386.geojson  succesfully to disk\n",
      "Finish downloads... failed to download []\n",
      "45023302 data already exists... skip download!\n",
      "Download Sentinel 1 & Sentinel 2 & ERA5 data for longitude: 12.67446, latitude: 52.63528, Item: 0/0\n",
      "S1 data collection succseed!\n",
      "S2 data collection sucseed!\n",
      "ERA5 data collection sucseed!\n",
      "Write : C:/Users/USER/Desktop/Master_Irrigation/03_GIS/soil_classification/download_ts/DE/POINT_ID_45023284_12.67446_52.63528.geojson  succesfully to disk\n",
      "Finish downloads... failed to download []\n",
      "Download Sentinel 1 & Sentinel 2 & ERA5 data for longitude: 12.61665, latitude: 51.66526, Item: 0/0\n",
      "S1 data collection succseed!\n",
      "Computation timed out.\n",
      "Failed to download!\n",
      "Finish downloads... failed to download [<zip object at 0x000001A244E3CA08>]\n",
      "Download Sentinel 1 & Sentinel 2 & ERA5 data for longitude: 12.50392, latitude: 49.599, Item: 0/0\n",
      "S1 data collection succseed!\n",
      "S2 data collection sucseed!\n",
      "ERA5 data collection sucseed!\n",
      "Write : C:/Users/USER/Desktop/Master_Irrigation/03_GIS/soil_classification/download_ts/DE/POINT_ID_45022946_12.50392_49.599.geojson  succesfully to disk\n",
      "Finish downloads... failed to download []\n",
      "Download Sentinel 1 & Sentinel 2 & ERA5 data for longitude: 12.46297, latitude: 48.78999, Item: 0/0\n",
      "S1 data collection succseed!\n",
      "S2 data collection sucseed!\n",
      "ERA5 data collection sucseed!\n",
      "Write : C:/Users/USER/Desktop/Master_Irrigation/03_GIS/soil_classification/download_ts/DE/POINT_ID_45022856_12.46297_48.78999.geojson  succesfully to disk\n",
      "Finish downloads... failed to download []\n",
      "Download Sentinel 1 & Sentinel 2 & ERA5 data for longitude: 12.45324, latitude: 48.5923, Item: 0/0\n",
      "S1 data collection succseed!\n",
      "S2 data collection sucseed!\n"
     ]
    }
   ],
   "source": [
    "for lon, lat, idx in zip(longitude, latitude, point_id):\n",
    "    if idx not in existing_ids:\n",
    "        get_s1_s2_era5_df(\n",
    "            longitudes = [lon],\n",
    "            latitudes = [lat],\n",
    "            polygon = None,\n",
    "            ids = [idx], \n",
    "            filepath = filepath_DE,\n",
    "            start = '2017-01-01', \n",
    "            end = '2020-01-01',\n",
    "            scale_s1 = 30,\n",
    "            scale_s2 = 30,\n",
    "            scale_era5 = 30,\n",
    "            idx_name = 'POINT_ID',\n",
    "            get_grid_scale = False\n",
    "        )\n",
    "    else:\n",
    "        print(f'{idx} data already exists... skip download!')"
   ]
  },
  {
   "cell_type": "markdown",
   "metadata": {},
   "source": [
    "https://keras.io/examples/timeseries/timeseries_classification_from_scratch/"
   ]
  },
  {
   "cell_type": "code",
   "execution_count": null,
   "metadata": {},
   "outputs": [],
   "source": [
    "array(['Shrubland without tree cover', nan,\n",
    "       'Shrubland with sparse tree cover', 'Olive groves',\n",
    "       'Pine dominated coniferous woodland',\n",
    "       'Pine dominated mixed woodland',\n",
    "       'Spontaneously re-vegetated surfaces', 'Sunflower',\n",
    "       'Other root crops', 'Common wheat', 'Broadleaved woodland',\n",
    "       'Cotton', 'Other mixed woodland', 'Durum wheat', 'Oranges',\n",
    "       'Clovers', 'Lucerne', 'Maize', 'Inland fresh running water',\n",
    "       'Tobacco', 'Other fruit trees and berries', 'Soya',\n",
    "       'Other coniferous woodland', 'Nuts trees', 'Vineyards',\n",
    "       'OTHER BARE SOIL', 'Other non-permanent industrial crops',\n",
    "       'Tomatoes', 'Grassland without tree/shrub cover', 'Oats',\n",
    "       'Mix of cereals', 'Grassland with sparse tree/shrub cover', 'Rye',\n",
    "       'Barley', 'Rape and turnip rape', 'Dry pulses',\n",
    "       'Spruce dominated coniferous woodland',\n",
    "       'Spruce dominated mixed woodland',\n",
    "       'Other Leguminous  and mixtures for fodder', 'Cherry fruit',\n",
    "       'Other fresh vegetables', 'Temporary grassland', 'Triticale',\n",
    "       'Apple fruit', 'Potatoes', 'Nurseries', 'Sugar beet',\n",
    "       'Non built-up linear features', 'OTHER ARTIFICIAL AREAS',\n",
    "       'Other cereals', 'LICHENS AND MOSS', 'SAND', 'Peatbogs',\n",
    "       'Strawberries', 'Inland marshes', 'Pear fruit',\n",
    "       'Other fibre and oleaginous crops', 'Other citrus fruit',\n",
    "       'Permanent industrial crops', 'Rice',\n",
    "       'Floriculture and ornamental plants', 'ROCKS AND STONES',\n",
    "       'Inland salty water bodies', 'Inland fresh water bodies',\n",
    "       'Salines', 'Non built-up area features'], dtype=object)"
   ]
  },
  {
   "cell_type": "code",
   "execution_count": null,
   "metadata": {
    "ExecuteTime": {
     "end_time": "2021-10-27T18:37:21.375457Z",
     "start_time": "2021-10-27T18:37:21.355367Z"
    }
   },
   "outputs": [],
   "source": [
    "#Subset points from Hessisches Ried\n",
    "p_id = [42142960, 42122956, 42142970, 42082950]\n",
    "df_p = df_09[df_09.POINT_ID.isin(p_id)]"
   ]
  },
  {
   "cell_type": "code",
   "execution_count": null,
   "metadata": {
    "ExecuteTime": {
     "end_time": "2021-10-27T18:38:46.300414Z",
     "start_time": "2021-10-27T18:38:46.292385Z"
    }
   },
   "outputs": [],
   "source": [
    "#Export Data\n",
    "#df_09_subset.to_csv(r'C:\\Users\\USER\\Desktop\\Master_Irrigation\\03_GIS\\LUCAS_TOPSOIL_subset.csv')\n",
    "#df_09_subset.to_file(r'C:\\Users\\USER\\Desktop\\Master_Irrigation\\03_GIS\\LUCAS_TOPSOIL_shape\\LTS_subset.shp')\n",
    "#df_09_subset.to_file(r'C:\\Users\\USER\\Desktop\\Master_Irrigation\\03_GIS\\LUCAS_TOPSOIL_shape\\LTS_subset.kml')\n",
    "#df_p.to_csv(r'C:\\Users\\USER\\Desktop\\Master_Irrigation\\03_GIS\\LUCAS_TOPSOIL_p_ried.csv')"
   ]
  }
 ],
 "metadata": {
  "kernelspec": {
   "display_name": "Python [conda env:dev1]",
   "language": "python",
   "name": "conda-env-dev1-py"
  },
  "language_info": {
   "codemirror_mode": {
    "name": "ipython",
    "version": 3
   },
   "file_extension": ".py",
   "mimetype": "text/x-python",
   "name": "python",
   "nbconvert_exporter": "python",
   "pygments_lexer": "ipython3",
   "version": "3.7.12"
  },
  "toc": {
   "base_numbering": 1,
   "nav_menu": {},
   "number_sections": true,
   "sideBar": true,
   "skip_h1_title": false,
   "title_cell": "Table of Contents",
   "title_sidebar": "Contents",
   "toc_cell": false,
   "toc_position": {},
   "toc_section_display": true,
   "toc_window_display": false
  },
  "varInspector": {
   "cols": {
    "lenName": 16,
    "lenType": 16,
    "lenVar": 40
   },
   "kernels_config": {
    "python": {
     "delete_cmd_postfix": "",
     "delete_cmd_prefix": "del ",
     "library": "var_list.py",
     "varRefreshCmd": "print(var_dic_list())"
    },
    "r": {
     "delete_cmd_postfix": ") ",
     "delete_cmd_prefix": "rm(",
     "library": "var_list.r",
     "varRefreshCmd": "cat(var_dic_list()) "
    }
   },
   "position": {
    "height": "527.85px",
    "left": "1187px",
    "right": "20px",
    "top": "168px",
    "width": "350px"
   },
   "types_to_exclude": [
    "module",
    "function",
    "builtin_function_or_method",
    "instance",
    "_Feature"
   ],
   "window_display": false
  }
 },
 "nbformat": 4,
 "nbformat_minor": 2
}
