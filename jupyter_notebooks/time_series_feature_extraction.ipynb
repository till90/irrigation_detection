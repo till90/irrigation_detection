{
 "cells": [
  {
   "cell_type": "code",
   "execution_count": null,
   "metadata": {
    "ExecuteTime": {
     "end_time": "2022-03-07T12:01:05.206525Z",
     "start_time": "2022-03-07T12:00:23.223028Z"
    }
   },
   "outputs": [],
   "source": [
    "import sys\n",
    "!conda install -c conda-forge --yes --prefix {sys.prefix} tsfresh"
   ]
  },
  {
   "cell_type": "code",
   "execution_count": null,
   "metadata": {
    "ExecuteTime": {
     "end_time": "2022-03-07T12:06:05.311389Z",
     "start_time": "2022-03-07T12:06:02.620523Z"
    }
   },
   "outputs": [],
   "source": [
    "!pip install soiltexture"
   ]
  },
  {
   "cell_type": "code",
   "execution_count": 12,
   "metadata": {
    "ExecuteTime": {
     "end_time": "2022-03-07T12:06:16.802179Z",
     "start_time": "2022-03-07T12:06:16.539218Z"
    }
   },
   "outputs": [],
   "source": [
    "from glob import glob\n",
    "import pandas as pd\n",
    "import geopandas as gpd\n",
    "import numpy as np\n",
    "import soiltexture"
   ]
  },
  {
   "cell_type": "code",
   "execution_count": 44,
   "metadata": {
    "ExecuteTime": {
     "end_time": "2022-03-07T12:40:45.590999Z",
     "start_time": "2022-03-07T12:40:45.568621Z"
    }
   },
   "outputs": [],
   "source": [
    "filepath_ts = r'C:/Users/USER/Desktop/Master_Irrigation/03_GIS/soil_classification/download_ts/grassland/'\n",
    "files = glob(filepath_ts + '*')"
   ]
  },
  {
   "cell_type": "code",
   "execution_count": 45,
   "metadata": {
    "ExecuteTime": {
     "end_time": "2022-03-07T12:41:43.605002Z",
     "start_time": "2022-03-07T12:40:46.192320Z"
    }
   },
   "outputs": [],
   "source": [
    "# Load all files into one Dataframe\n",
    "gdf = pd.concat([gpd.read_file(x, ignore_index=True) for x in files])\n",
    "\n",
    "# Set datetime type\n",
    "gdf['date'] = gdf['date'].astype('datetime64[ns]')"
   ]
  },
  {
   "cell_type": "code",
   "execution_count": 46,
   "metadata": {
    "ExecuteTime": {
     "end_time": "2022-03-07T12:41:45.033559Z",
     "start_time": "2022-03-07T12:41:44.440822Z"
    }
   },
   "outputs": [
    {
     "name": "stdout",
     "output_type": "stream",
     "text": [
      "268300\n"
     ]
    }
   ],
   "source": [
    "# Load LUCAS TOPSOIL DATABASE\n",
    "df_lts = pd.read_csv(r'C:/Users/USER/Desktop/Master_Irrigation/03_GIS/soil_classification/LTS_grassland.csv').drop(['Unnamed: 0', 'geometry'], axis=1)\n",
    "gdf_lts = gpd.GeoDataFrame(df_lts, geometry=gpd.points_from_xy(df_lts.GPS_LONG, df_lts.GPS_LAT))\n",
    "\n",
    "# Join LTS data to S1, S2, Era5 Data\n",
    "gdf = pd.merge(gdf, gdf_lts, on='POINT_ID', how='left', suffixes=('', '_y')).rename({'geometry_y' : 'geometry'})\n",
    "print(len(gdf))"
   ]
  },
  {
   "cell_type": "code",
   "execution_count": 47,
   "metadata": {
    "ExecuteTime": {
     "end_time": "2022-03-07T12:41:46.466753Z",
     "start_time": "2022-03-07T12:41:46.306646Z"
    }
   },
   "outputs": [
    {
     "name": "stdout",
     "output_type": "stream",
     "text": [
      "257511\n"
     ]
    }
   ],
   "source": [
    "# Mask rows without particel size distribution\n",
    "gdf = gdf[(gdf.sand > 0) & (gdf.silt > 0) & (gdf.clay > 0)]\n",
    "print(len(gdf))"
   ]
  },
  {
   "cell_type": "code",
   "execution_count": 48,
   "metadata": {
    "ExecuteTime": {
     "end_time": "2022-03-07T12:42:29.429893Z",
     "start_time": "2022-03-07T12:41:47.694211Z"
    }
   },
   "outputs": [
    {
     "name": "stdout",
     "output_type": "stream",
     "text": [
      "257511\n"
     ]
    }
   ],
   "source": [
    "# Create USDA classification\n",
    "USDA_class = list()\n",
    "FAO_class = list()\n",
    "INTERNATIONAL_class = list()\n",
    "ISSS_class = list()\n",
    "for index, row in gdf.iterrows():\n",
    "    USDA_class.append(soiltexture.getTexture(row.sand, row.clay, classification='USDA'))\n",
    "    FAO_class.append(soiltexture.getTexture(row.sand, row.clay, classification='FAO'))\n",
    "    INTERNATIONAL_class.append(soiltexture.getTexture(row.sand, row.clay, classification='INTERNATIONAL'))\n",
    "    ISSS_class.append(soiltexture.getTexture(row.sand, row.clay, classification='ISSS'))\n",
    "                      \n",
    "gdf['USDA'] = USDA_class\n",
    "gdf['FAO'] = FAO_class\n",
    "gdf['INTERNATIONAL'] = INTERNATIONAL_class\n",
    "gdf['ISSS'] = ISSS_class\n",
    "print(len(gdf))"
   ]
  },
  {
   "cell_type": "code",
   "execution_count": 49,
   "metadata": {
    "ExecuteTime": {
     "end_time": "2022-03-07T12:42:31.333335Z",
     "start_time": "2022-03-07T12:42:31.097984Z"
    }
   },
   "outputs": [
    {
     "name": "stdout",
     "output_type": "stream",
     "text": [
      "257511\n"
     ]
    }
   ],
   "source": [
    "to_numerical = {'FAO':     {'medium': int(0), 'coarse': int(1), 'fine' : int(2)}}\n",
    "gdf['FAO_nr'] = gdf.replace(to_numerical)['FAO']\n",
    "gdf['FAO_nr'] = gdf['FAO_nr']\n",
    "print(len(gdf))"
   ]
  },
  {
   "cell_type": "code",
   "execution_count": 56,
   "metadata": {
    "ExecuteTime": {
     "end_time": "2022-03-07T12:43:58.494974Z",
     "start_time": "2022-03-07T12:43:58.379282Z"
    }
   },
   "outputs": [
    {
     "name": "stdout",
     "output_type": "stream",
     "text": [
      "253790\n"
     ]
    }
   ],
   "source": [
    "# Subset Data\n",
    "#gdf_subset_1 = gdf.loc[:,['POINT_ID', 'VV','VH', 'orbit', 'platform', 'NDVI','day_of_year', 'FAO_nr', \n",
    "#                          'dewpoint_2m_temperature', 'maximum_2m_air_temperature', 'mean_2m_air_temperature',\n",
    "#                          'minimum_2m_air_temperature', 'surface_pressure', 'total_precipitation', \n",
    "#                          'u_component_of_wind_10m', 'v_component_of_wind_10m']]\n",
    "\n",
    "# Drop rows (axis=0) with na values\n",
    "gdf.dropna(subset=['FAO_nr'], axis=0, inplace=True)\n",
    "\n",
    "# One Hot Encoding\n",
    "gdf['FAO_nr'] = gdf['FAO_nr'].astype('int64')\n",
    "#df_sub = pd.DataFrame(pd.get_dummies(gdf_subset_1, columns=['platform', 'orbit', 'FAO_nr']))\n",
    "print(len(gdf))"
   ]
  },
  {
   "cell_type": "code",
   "execution_count": 36,
   "metadata": {
    "ExecuteTime": {
     "end_time": "2022-03-07T12:27:37.031946Z",
     "start_time": "2022-03-07T12:27:37.016325Z"
    }
   },
   "outputs": [],
   "source": [
    "from tsfresh import extract_features, extract_relevant_features, select_features\n",
    "from tsfresh.utilities.dataframe_functions import impute\n",
    "from tsfresh.feature_extraction import ComprehensiveFCParameters"
   ]
  },
  {
   "cell_type": "code",
   "execution_count": 57,
   "metadata": {
    "ExecuteTime": {
     "end_time": "2022-03-07T12:45:02.335916Z",
     "start_time": "2022-03-07T12:45:02.304418Z"
    }
   },
   "outputs": [],
   "source": [
    "gdf_fe = gdf.loc[:,['POINT_ID', 'date','VV', 'VH', 'angle','Aerosols', 'Blue', 'Green', 'Red', 'RedEdge1', 'RedEdge2', 'RedEdge3',\n",
    "       'RedEdge4', 'NIR', 'WaterVapor', 'Cirrus', 'SWIR1', 'SWIR2','dewpoint_2m_temperature',\n",
    "       'maximum_2m_air_temperature', 'mean_2m_air_temperature',\n",
    "       'minimum_2m_air_temperature', 'surface_pressure', 'total_precipitation',\n",
    "       'u_component_of_wind_10m', 'v_component_of_wind_10m', 'NDVI']]"
   ]
  },
  {
   "cell_type": "code",
   "execution_count": 58,
   "metadata": {
    "ExecuteTime": {
     "end_time": "2022-03-07T12:45:29.270415Z",
     "start_time": "2022-03-07T12:45:29.223542Z"
    }
   },
   "outputs": [],
   "source": [
    "gdf_fe.dropna(inplace=True)"
   ]
  },
  {
   "cell_type": "code",
   "execution_count": 59,
   "metadata": {
    "ExecuteTime": {
     "end_time": "2022-03-07T12:45:31.413512Z",
     "start_time": "2022-03-07T12:45:31.360089Z"
    }
   },
   "outputs": [],
   "source": [
    "gdf_fe = gdf_fe[gdf_fe['date'].dt.year.isin([2018])]"
   ]
  },
  {
   "cell_type": "code",
   "execution_count": null,
   "metadata": {},
   "outputs": [],
   "source": [
    "X_filtered_2 = extract_relevant_features(df, y, column_id='id', column_sort='time',\n",
    "                                         default_fc_parameters=extraction_settings)"
   ]
  },
  {
   "cell_type": "code",
   "execution_count": 60,
   "metadata": {
    "ExecuteTime": {
     "end_time": "2022-03-07T12:52:29.856678Z",
     "start_time": "2022-03-07T12:45:49.968220Z"
    }
   },
   "outputs": [
    {
     "name": "stderr",
     "output_type": "stream",
     "text": [
      "Feature Extraction: 100%|██████████████████████████████████████████████████████████████| 10/10 [06:29<00:00, 38.90s/it]\n"
     ]
    }
   ],
   "source": [
    "extraction_settings = ComprehensiveFCParameters()\n",
    "\n",
    "X = extract_features(gdf_fe, column_id='POINT_ID', column_sort='date',\n",
    "                     default_fc_parameters=extraction_settings,\n",
    "                     # we impute = remove all NaN features automatically\n",
    "                     impute_function=impute)"
   ]
  },
  {
   "cell_type": "code",
   "execution_count": 63,
   "metadata": {
    "ExecuteTime": {
     "end_time": "2022-03-07T12:54:40.422746Z",
     "start_time": "2022-03-07T12:54:40.394518Z"
    }
   },
   "outputs": [
    {
     "data": {
      "text/plain": [
       "POINT_ID\n",
       "50243144    1\n",
       "50243176    1\n",
       "50243222    1\n",
       "50243402    0\n",
       "50243682    0\n",
       "           ..\n",
       "53983768    0\n",
       "54121890    0\n",
       "54221858    0\n",
       "54782100    0\n",
       "54862104    0\n",
       "Name: FAO_nr, Length: 318, dtype: int64"
      ]
     },
     "execution_count": 63,
     "metadata": {},
     "output_type": "execute_result"
    }
   ],
   "source": [
    "y = gdf.groupby('POINT_ID')['FAO_nr'].first()\n",
    "y"
   ]
  },
  {
   "cell_type": "code",
   "execution_count": 65,
   "metadata": {
    "ExecuteTime": {
     "end_time": "2022-03-07T12:57:11.031145Z",
     "start_time": "2022-03-07T12:56:26.309308Z"
    }
   },
   "outputs": [],
   "source": [
    "X_filtered = select_features(X, y)"
   ]
  },
  {
   "cell_type": "code",
   "execution_count": 67,
   "metadata": {
    "ExecuteTime": {
     "end_time": "2022-03-07T12:58:19.908044Z",
     "start_time": "2022-03-07T12:58:19.403225Z"
    }
   },
   "outputs": [],
   "source": [
    "from sklearn.tree import DecisionTreeClassifier\n",
    "from sklearn.model_selection import train_test_split\n",
    "from sklearn.metrics import classification_report"
   ]
  },
  {
   "cell_type": "code",
   "execution_count": 68,
   "metadata": {
    "ExecuteTime": {
     "end_time": "2022-03-07T12:58:21.744922Z",
     "start_time": "2022-03-07T12:58:21.700838Z"
    }
   },
   "outputs": [],
   "source": [
    "X_full_train, X_full_test, y_train, y_test = train_test_split(X, y, test_size=.4)\n",
    "X_filtered_train, X_filtered_test = X_full_train[X_filtered.columns], X_full_test[X_filtered.columns]"
   ]
  },
  {
   "cell_type": "code",
   "execution_count": 69,
   "metadata": {
    "ExecuteTime": {
     "end_time": "2022-03-07T12:58:38.176737Z",
     "start_time": "2022-03-07T12:58:36.563340Z"
    }
   },
   "outputs": [
    {
     "name": "stdout",
     "output_type": "stream",
     "text": [
      "              precision    recall  f1-score   support\n",
      "\n",
      "           0       0.66      0.57      0.61        80\n",
      "           1       0.48      0.48      0.48        44\n",
      "           2       0.07      0.25      0.11         4\n",
      "\n",
      "    accuracy                           0.53       128\n",
      "   macro avg       0.40      0.43      0.40       128\n",
      "weighted avg       0.58      0.53      0.55       128\n",
      "\n"
     ]
    }
   ],
   "source": [
    "classifier_full = DecisionTreeClassifier()\n",
    "classifier_full.fit(X_full_train, y_train)\n",
    "print(classification_report(y_test, classifier_full.predict(X_full_test)))"
   ]
  },
  {
   "cell_type": "code",
   "execution_count": 70,
   "metadata": {
    "ExecuteTime": {
     "end_time": "2022-03-07T12:59:28.799698Z",
     "start_time": "2022-03-07T12:59:28.586645Z"
    }
   },
   "outputs": [
    {
     "name": "stdout",
     "output_type": "stream",
     "text": [
      "              precision    recall  f1-score   support\n",
      "\n",
      "           0       0.70      0.57      0.63        80\n",
      "           1       0.53      0.55      0.54        44\n",
      "           2       0.00      0.00      0.00         4\n",
      "\n",
      "    accuracy                           0.55       128\n",
      "   macro avg       0.41      0.37      0.39       128\n",
      "weighted avg       0.62      0.55      0.58       128\n",
      "\n"
     ]
    }
   ],
   "source": [
    "classifier_filtered = DecisionTreeClassifier()\n",
    "classifier_filtered.fit(X_filtered_train, y_train)\n",
    "print(classification_report(y_test, classifier_filtered.predict(X_filtered_test)))"
   ]
  },
  {
   "cell_type": "markdown",
   "metadata": {},
   "source": [
    "https://github.com/blue-yonder/tsfresh/blob/main/notebooks/examples/01%20Feature%20Extraction%20and%20Selection.ipynb"
   ]
  }
 ],
 "metadata": {
  "kernelspec": {
   "display_name": "Python [conda env:stump]",
   "language": "python",
   "name": "conda-env-stump-py"
  },
  "language_info": {
   "codemirror_mode": {
    "name": "ipython",
    "version": 3
   },
   "file_extension": ".py",
   "mimetype": "text/x-python",
   "name": "python",
   "nbconvert_exporter": "python",
   "pygments_lexer": "ipython3",
   "version": "3.10.2"
  },
  "toc": {
   "base_numbering": 1,
   "nav_menu": {},
   "number_sections": true,
   "sideBar": true,
   "skip_h1_title": false,
   "title_cell": "Table of Contents",
   "title_sidebar": "Contents",
   "toc_cell": false,
   "toc_position": {},
   "toc_section_display": true,
   "toc_window_display": false
  },
  "varInspector": {
   "cols": {
    "lenName": 16,
    "lenType": 16,
    "lenVar": 40
   },
   "kernels_config": {
    "python": {
     "delete_cmd_postfix": "",
     "delete_cmd_prefix": "del ",
     "library": "var_list.py",
     "varRefreshCmd": "print(var_dic_list())"
    },
    "r": {
     "delete_cmd_postfix": ") ",
     "delete_cmd_prefix": "rm(",
     "library": "var_list.r",
     "varRefreshCmd": "cat(var_dic_list()) "
    }
   },
   "types_to_exclude": [
    "module",
    "function",
    "builtin_function_or_method",
    "instance",
    "_Feature"
   ],
   "window_display": false
  }
 },
 "nbformat": 4,
 "nbformat_minor": 2
}
