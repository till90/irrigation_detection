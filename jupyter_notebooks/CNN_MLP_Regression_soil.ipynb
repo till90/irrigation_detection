{
 "cells": [
  {
   "cell_type": "code",
   "execution_count": null,
   "metadata": {
    "ExecuteTime": {
     "end_time": "2022-03-12T09:22:36.808410Z",
     "start_time": "2022-03-12T09:22:36.692299Z"
    }
   },
   "outputs": [],
   "source": [
    "# Install a pip package in the current Jupyter kernel\n",
    "import sys\n",
    "!{sys.executable} -m pip install soiltexture"
   ]
  },
  {
   "cell_type": "code",
   "execution_count": 8,
   "metadata": {
    "ExecuteTime": {
     "end_time": "2022-04-09T21:45:17.233409Z",
     "start_time": "2022-04-09T21:40:25.882392Z"
    }
   },
   "outputs": [
    {
     "name": "stdout",
     "output_type": "stream",
     "text": [
      "Collecting package metadata (current_repodata.json): ...working... done\n",
      "Solving environment: ...working... failed with initial frozen solve. Retrying with flexible solve.\n",
      "Solving environment: ...working... failed with repodata from current_repodata.json, will retry with next repodata source.\n",
      "Collecting package metadata (repodata.json): ...working... done\n",
      "Solving environment: ...working... done\n",
      "\n",
      "## Package Plan ##\n",
      "\n",
      "  environment location: C:\\Users\\USER\\Anaconda3\\envs\\dev1\n",
      "\n",
      "  added / updated specs:\n",
      "    - pygeos\n",
      "\n",
      "\n",
      "The following packages will be downloaded:\n",
      "\n",
      "    package                    |            build\n",
      "    ---------------------------|-----------------\n",
      "    certifi-2021.10.8          |   py37h03978a9_2         145 KB  conda-forge\n",
      "    openssl-1.1.1n             |       h8ffe710_0         5.7 MB  conda-forge\n",
      "    pygeos-0.10.2              |   py37hc520ffa_0         397 KB  conda-forge\n",
      "    ------------------------------------------------------------\n",
      "                                           Total:         6.2 MB\n",
      "\n",
      "The following NEW packages will be INSTALLED:\n",
      "\n",
      "  pygeos             conda-forge/win-64::pygeos-0.10.2-py37hc520ffa_0\n",
      "\n",
      "The following packages will be UPDATED:\n",
      "\n",
      "  certifi                          2021.10.8-py37h03978a9_1 --> 2021.10.8-py37h03978a9_2\n",
      "  openssl                                 1.1.1l-h8ffe710_0 --> 1.1.1n-h8ffe710_0\n",
      "\n",
      "\n",
      "\n",
      "Downloading and Extracting Packages\n",
      "\n",
      "openssl-1.1.1n       | 5.7 MB    |            |   0% \n",
      "openssl-1.1.1n       | 5.7 MB    |            |   0% \n",
      "openssl-1.1.1n       | 5.7 MB    | #2         |  13% \n",
      "openssl-1.1.1n       | 5.7 MB    | ###        |  30% \n",
      "openssl-1.1.1n       | 5.7 MB    | ####7      |  48% \n",
      "openssl-1.1.1n       | 5.7 MB    | ######6    |  67% \n",
      "openssl-1.1.1n       | 5.7 MB    | ########7  |  87% \n",
      "openssl-1.1.1n       | 5.7 MB    | ########## | 100% \n",
      "\n",
      "certifi-2021.10.8    | 145 KB    |            |   0% \n",
      "certifi-2021.10.8    | 145 KB    | ########## | 100% \n",
      "\n",
      "pygeos-0.10.2        | 397 KB    |            |   0% \n",
      "pygeos-0.10.2        | 397 KB    | 4          |   4% \n",
      "pygeos-0.10.2        | 397 KB    | ########## | 100% \n",
      "pygeos-0.10.2        | 397 KB    | ########## | 100% \n",
      "Preparing transaction: ...working... done\n",
      "Verifying transaction: ...working... done\n",
      "Executing transaction: ...working... done\n",
      "\n",
      "C:\\Users\\USER\\Desktop\\Master_Irrigation\\02_Code>set \"KERAS_BACKEND=\" \n",
      "\n",
      "C:\\Users\\USER\\Desktop\\Master_Irrigation\\02_Code>python C:\\Users\\USER\\Anaconda3\\envs\\dev1\\etc\\keras\\load_config.py  1>temp.txt \n",
      "\n",
      "C:\\Users\\USER\\Desktop\\Master_Irrigation\\02_Code>set /p KERAS_BACKEND= 0<temp.txt \n",
      "\n",
      "C:\\Users\\USER\\Desktop\\Master_Irrigation\\02_Code>del temp.txt \n",
      "\n",
      "C:\\Users\\USER\\Desktop\\Master_Irrigation\\02_Code>python -c \"import keras\"  1>nul 2>&1 \n",
      "\n",
      "C:\\Users\\USER\\Desktop\\Master_Irrigation\\02_Code>if errorlevel 1 (\n",
      "ver  1>nul  \n",
      " set \"KERAS_BACKEND=theano\"  \n",
      " python -c \"import keras\"  1>nul 2>&1 \n",
      ") \n",
      "\n",
      "C:\\Users\\USER\\Desktop\\Master_Irrigation\\02_Code>SET DISTUTILS_USE_SDK=1 \n",
      "\n",
      "C:\\Users\\USER\\Desktop\\Master_Irrigation\\02_Code>SET MSSdk=1 \n",
      "\n",
      "C:\\Users\\USER\\Desktop\\Master_Irrigation\\02_Code>SET \"VS_VERSION=15.0\" \n",
      "\n",
      "C:\\Users\\USER\\Desktop\\Master_Irrigation\\02_Code>SET \"VS_MAJOR=15\" \n",
      "\n",
      "C:\\Users\\USER\\Desktop\\Master_Irrigation\\02_Code>SET \"VS_YEAR=2017\" \n",
      "\n",
      "C:\\Users\\USER\\Desktop\\Master_Irrigation\\02_Code>set \"MSYS2_ARG_CONV_EXCL=/AI;/AL;/OUT;/out\" \n",
      "\n",
      "C:\\Users\\USER\\Desktop\\Master_Irrigation\\02_Code>set \"MSYS2_ENV_CONV_EXCL=CL\" \n",
      "\n",
      "C:\\Users\\USER\\Desktop\\Master_Irrigation\\02_Code>set \"PY_VCRUNTIME_REDIST=\\bin\\vcruntime140.dll\" \n",
      "\n",
      "C:\\Users\\USER\\Desktop\\Master_Irrigation\\02_Code>set \"CXX=cl.exe\" \n",
      "\n",
      "C:\\Users\\USER\\Desktop\\Master_Irrigation\\02_Code>set \"CC=cl.exe\" \n",
      "\n",
      "C:\\Users\\USER\\Desktop\\Master_Irrigation\\02_Code>set \"VSINSTALLDIR=\" \n",
      "\n",
      "C:\\Users\\USER\\Desktop\\Master_Irrigation\\02_Code>set \"NEWER_VS_WITH_OLDER_VC=0\" \n",
      "\n",
      "C:\\Users\\USER\\Desktop\\Master_Irrigation\\02_Code>for /F \"usebackq tokens=*\" %i in (`vswhere.exe -nologo -products * -version [15.0,16.0) -property installationPath`) do (set \"VSINSTALLDIR=%i\\\" ) \n",
      "\n",
      "C:\\Users\\USER\\Desktop\\Master_Irrigation\\02_Code>(set \"VSINSTALLDIR=C:\\Program Files (x86)\\Microsoft Visual Studio\\2017\\BuildTools\\\" ) \n",
      "\n",
      "C:\\Users\\USER\\Desktop\\Master_Irrigation\\02_Code>if not exist \"C:\\Program Files (x86)\\Microsoft Visual Studio\\2017\\BuildTools\\\" (for /F \"usebackq tokens=*\" %i in (`vswhere.exe -nologo -products * -requires Microsoft.VisualStudio.Component.VC.v141.x86.x64 -property installationPath`) do (\n",
      "set \"VSINSTALLDIR=%i\\\"  \n",
      " set \"NEWER_VS_WITH_OLDER_VC=1\" \n",
      ") ) \n",
      "\n",
      "C:\\Users\\USER\\Desktop\\Master_Irrigation\\02_Code>if not exist \"C:\\Program Files (x86)\\Microsoft Visual Studio\\2017\\BuildTools\\\" (set \"VSINSTALLDIR=C:\\Program Files (x86)\\Microsoft Visual Studio\\2017\\Professional\\\" ) \n",
      "\n",
      "C:\\Users\\USER\\Desktop\\Master_Irrigation\\02_Code>if not exist \"C:\\Program Files (x86)\\Microsoft Visual Studio\\2017\\BuildTools\\\" (set \"VSINSTALLDIR=C:\\Program Files (x86)\\Microsoft Visual Studio\\2017\\Community\\\" ) \n",
      "\n",
      "C:\\Users\\USER\\Desktop\\Master_Irrigation\\02_Code>if not exist \"C:\\Program Files (x86)\\Microsoft Visual Studio\\2017\\BuildTools\\\" (set \"VSINSTALLDIR=C:\\Program Files (x86)\\Microsoft Visual Studio\\2017\\BuildTools\\\" ) \n",
      "\n",
      "C:\\Users\\USER\\Desktop\\Master_Irrigation\\02_Code>if not exist \"C:\\Program Files (x86)\\Microsoft Visual Studio\\2017\\BuildTools\\\" (set \"VSINSTALLDIR=C:\\Program Files (x86)\\Microsoft Visual Studio\\2017\\Enterprise\\\" ) \n",
      "\n",
      "C:\\Users\\USER\\Desktop\\Master_Irrigation\\02_Code>IF NOT \"\" == \"\" (\n",
      "set \"INCLUDE=;C:\\Program Files (x86)\\Microsoft Visual Studio\\2017\\BuildTools\\VC\\Tools\\MSVC\\14.16.27023\\include;C:\\Program Files (x86)\\Windows Kits\\10\\include\\10.0.17763.0\\ucrt;C:\\Program Files (x86)\\Windows Kits\\10\\include\\10.0.17763.0\\shared;C:\\Program Files (x86)\\Windows Kits\\10\\include\\10.0.17763.0\\um;C:\\Program Files (x86)\\Windows Kits\\10\\include\\10.0.17763.0\\winrt;C:\\Program Files (x86)\\Windows Kits\\10\\include\\10.0.17763.0\\cppwinrt\"  \n",
      " set \"LIB=;C:\\Program Files (x86)\\Microsoft Visual Studio\\2017\\BuildTools\\VC\\Tools\\MSVC\\14.16.27023\\lib\\x64;C:\\Program Files (x86)\\Windows Kits\\10\\lib\\10.0.17763.0\\ucrt\\x64;C:\\Program Files (x86)\\Windows Kits\\10\\lib\\10.0.17763.0\\um\\x64;\"  \n",
      " set \"CMAKE_PREFIX_PATH=;\" \n",
      ") \n",
      "\n",
      "C:\\Users\\USER\\Desktop\\Master_Irrigation\\02_Code>call :GetWin10SdkDir \n",
      "\n",
      "C:\\Users\\USER\\Desktop\\Master_Irrigation\\02_Code>call :GetWin10SdkDirHelper HKLM\\SOFTWARE\\Wow6432Node  1>nul 2>&1 \n",
      "\n",
      "C:\\Users\\USER\\Desktop\\Master_Irrigation\\02_Code>if errorlevel 1 call :GetWin10SdkDirHelper HKCU\\SOFTWARE\\Wow6432Node  1>nul 2>&1 \n",
      "\n",
      "C:\\Users\\USER\\Desktop\\Master_Irrigation\\02_Code>if errorlevel 1 call :GetWin10SdkDirHelper HKLM\\SOFTWARE  1>nul 2>&1 \n",
      "\n",
      "C:\\Users\\USER\\Desktop\\Master_Irrigation\\02_Code>if errorlevel 1 call :GetWin10SdkDirHelper HKCU\\SOFTWARE  1>nul 2>&1 \n",
      "\n",
      "C:\\Users\\USER\\Desktop\\Master_Irrigation\\02_Code>if errorlevel 1 exit /B 1 \n",
      "\n",
      "C:\\Users\\USER\\Desktop\\Master_Irrigation\\02_Code>exit /B 0 \n",
      "\n",
      "C:\\Users\\USER\\Desktop\\Master_Irrigation\\02_Code>for /F %i in ('dir /ON /B \"C:\\Program Files (x86)\\Windows Kits\\10\\\\include\\10.*\"') DO (SET WindowsSDKVer=%~i ) \n",
      "\n",
      "C:\\Users\\USER\\Desktop\\Master_Irrigation\\02_Code>(SET WindowsSDKVer=10.0.17763.0 ) \n",
      "\n",
      "C:\\Users\\USER\\Desktop\\Master_Irrigation\\02_Code>if errorlevel 1 (echo \"Didn't find any windows 10 SDK. I'm not sure if things will work, but let's try...\" )  else (echo Windows SDK version found as: \"10.0.17763.0\" ) \n",
      "Windows SDK version found as: \"10.0.17763.0\"\n",
      "\n",
      "C:\\Users\\USER\\Desktop\\Master_Irrigation\\02_Code>IF \"win-64\" == \"win-64\" (\n",
      "set \"BITS=64\"  \n",
      " set \"CMAKE_PLAT=x64\" \n",
      ")  ELSE (\n",
      "set \"BITS=32\"  \n",
      " set \"CMAKE_PLAT=Win32\" \n",
      ") \n",
      "\n",
      "C:\\Users\\USER\\Desktop\\Master_Irrigation\\02_Code>IF 2017 GEQ 2019 (\n",
      "set \"CMAKE_GEN=Visual Studio 15 2017\"  \n",
      " set \"USE_NEW_CMAKE_GEN_SYNTAX=1\" \n",
      ")  ELSE (\n",
      "IF \"win-64\" == \"win-64\" (set \"CMAKE_GEN=Visual Studio 15 2017 Win64\" )  else (set \"CMAKE_GEN=Visual Studio 15 2017\" )  \n",
      " set \"USE_NEW_CMAKE_GEN_SYNTAX=0\" \n",
      ") \n",
      "\n",
      "C:\\Users\\USER\\Desktop\\Master_Irrigation\\02_Code>echo \"NEWER_VS_WITH_OLDER_VC=0\" \n",
      "\"NEWER_VS_WITH_OLDER_VC=0\"\n",
      "\n",
      "C:\\Users\\USER\\Desktop\\Master_Irrigation\\02_Code>IF \"0\" == \"1\" (\n",
      "set \"CMAKE_GEN=Visual Studio 16 2019\"  \n",
      " set \"USE_NEW_CMAKE_GEN_SYNTAX=1\" \n",
      ") \n",
      "\n",
      "C:\\Users\\USER\\Desktop\\Master_Irrigation\\02_Code>IF \"Visual Studio 15 2017 Win64\" == \"\" SET \"CMAKE_GENERATOR=Visual Studio 15 2017 Win64\" \n",
      "\n",
      "C:\\Users\\USER\\Desktop\\Master_Irrigation\\02_Code>IF \"0\" == \"1\" (\n",
      "IF \"\" == \"\" SET \"CMAKE_GENERATOR_PLATFORM=x64\"  \n",
      " IF \"\" == \"\" SET \"CMAKE_GENERATOR_TOOLSET=v141\" \n",
      ") \n",
      "\n",
      "C:\\Users\\USER\\Desktop\\Master_Irrigation\\02_Code>pushd C:\\Program Files (x86)\\Microsoft Visual Studio\\2017\\BuildTools\\ \n",
      "\n",
      "C:\\Program Files (x86)\\Microsoft Visual Studio\\2017\\BuildTools>CALL \"VC\\Auxiliary\\Build\\vcvars64.bat\" -vcvars_ver=14.16 10.0.17763.0 \n",
      "**********************************************************************\n",
      "** Visual Studio 2017 Developer Command Prompt v15.0\n",
      "** Copyright (c) 2017 Microsoft Corporation\n",
      "**********************************************************************\n",
      "[vcvarsall.bat] Environment initialized for: 'x64'\n"
     ]
    },
    {
     "name": "stderr",
     "output_type": "stream",
     "text": [
      "\n",
      "\n",
      "==> WARNING: A newer version of conda exists. <==\n",
      "  current version: 4.11.0\n",
      "  latest version: 4.12.0\n",
      "\n",
      "Please update conda by running\n",
      "\n",
      "    $ conda update -n base conda\n",
      "\n",
      "\n"
     ]
    }
   ],
   "source": [
    "import sys\n",
    "!conda install -c conda-forge --yes --prefix {sys.prefix} pygeos"
   ]
  },
  {
   "cell_type": "code",
   "execution_count": null,
   "metadata": {
    "ExecuteTime": {
     "end_time": "2022-03-14T20:55:29.131629Z",
     "start_time": "2022-03-14T20:30:33.374129Z"
    }
   },
   "outputs": [],
   "source": [
    "import sys\n",
    "!conda install -c conda-forge --yes --prefix {sys.prefix} h5py==2.10.0"
   ]
  },
  {
   "cell_type": "code",
   "execution_count": null,
   "metadata": {
    "ExecuteTime": {
     "end_time": "2022-03-17T21:42:37.966086Z",
     "start_time": "2022-03-17T21:41:37.779908Z"
    }
   },
   "outputs": [],
   "source": [
    "import sys\n",
    "!conda install --yes --prefix {sys.prefix} yellowbrick=1.3"
   ]
  },
  {
   "cell_type": "markdown",
   "metadata": {},
   "source": [
    "# Preparing Data for machine Learning"
   ]
  },
  {
   "cell_type": "code",
   "execution_count": 1,
   "metadata": {
    "ExecuteTime": {
     "end_time": "2022-04-09T17:29:15.665838Z",
     "start_time": "2022-04-09T17:29:10.866281Z"
    }
   },
   "outputs": [],
   "source": [
    "from glob import glob\n",
    "import pandas as pd\n",
    "import geopandas as gpd\n",
    "import contextily as cx\n",
    "import matplotlib.pyplot as plt\n",
    "import seaborn as sns\n",
    "import soiltexture\n",
    "from sklearn.preprocessing import MinMaxScaler\n",
    "import xarray as xr\n",
    "import datetime as dt\n",
    "import joblib"
   ]
  },
  {
   "cell_type": "markdown",
   "metadata": {},
   "source": [
    "## Load Files from disk"
   ]
  },
  {
   "cell_type": "code",
   "execution_count": 6,
   "metadata": {
    "ExecuteTime": {
     "end_time": "2022-04-09T17:42:48.681039Z",
     "start_time": "2022-04-09T17:41:41.941393Z"
    }
   },
   "outputs": [
    {
     "name": "stdout",
     "output_type": "stream",
     "text": [
      "217585\n"
     ]
    }
   ],
   "source": [
    "# LTS samples\n",
    "filepath_ts = r'C:/Users/USER/Desktop/Master_Irrigation/03_GIS/soil_classification/download_ts/grassland_DE//'\n",
    "files = glob(filepath_ts + '*')\n",
    "\n",
    "# Load all files into one Dataframe\n",
    "gdf = pd.concat([gpd.read_file(x, ignore_index=True) for x in files])\n",
    "gdf['date'] = gdf['date'].astype('datetime64[ns]')\n",
    "gdf['day_of_year'] = gdf['date'].dt.day_of_year\n",
    "print(len(gdf))"
   ]
  },
  {
   "cell_type": "code",
   "execution_count": 7,
   "metadata": {
    "ExecuteTime": {
     "end_time": "2022-04-09T17:42:49.521198Z",
     "start_time": "2022-04-09T17:42:49.231610Z"
    }
   },
   "outputs": [
    {
     "name": "stdout",
     "output_type": "stream",
     "text": [
      "214171\n"
     ]
    }
   ],
   "source": [
    "gdf.dropna(inplace=True)\n",
    "print(len(gdf))"
   ]
  },
  {
   "cell_type": "code",
   "execution_count": 25,
   "metadata": {
    "ExecuteTime": {
     "end_time": "2022-03-25T17:54:33.014817Z",
     "start_time": "2022-03-25T17:54:32.175117Z"
    }
   },
   "outputs": [
    {
     "name": "stdout",
     "output_type": "stream",
     "text": [
      "2516\n"
     ]
    }
   ],
   "source": [
    "# Ried soil samples\n",
    "filepath_ts = r'C:/Users/USER/Desktop/Master_Irrigation/03_GIS/soil_classification/download_ts/ried_soil_samples_30m_17-19/'\n",
    "files = glob(filepath_ts + '*')\n",
    "\n",
    "# Load all files into one Dataframe\n",
    "gdf = pd.concat([gpd.read_file(x, ignore_index=True) for x in files])\n",
    "gdf['date'] = gdf['date'].astype('datetime64[ns]')\n",
    "gdf['day_of_year'] = gdf['date'].dt.day_of_year\n",
    "print(len(gdf))"
   ]
  },
  {
   "cell_type": "code",
   "execution_count": 2,
   "metadata": {
    "ExecuteTime": {
     "end_time": "2022-03-26T11:47:42.264361Z",
     "start_time": "2022-03-26T11:47:28.596625Z"
    }
   },
   "outputs": [
    {
     "name": "stdout",
     "output_type": "stream",
     "text": [
      "39101\n"
     ]
    }
   ],
   "source": [
    "# Ried random points\n",
    "filepath_ts = r'C:/Users/USER/Desktop/Master_Irrigation/03_GIS/soil_classification/download_ts/ried_fullpoints_30m_17-19/'\n",
    "files = glob(filepath_ts + '*')\n",
    "\n",
    "# Load all files into one Dataframe\n",
    "gdf = pd.concat([gpd.read_file(x, ignore_index=True) for x in files])\n",
    "gdf['date'] = gdf['date'].astype('datetime64[ns]')\n",
    "gdf['day_of_year'] = gdf['date'].dt.day_of_year\n",
    "print(len(gdf))"
   ]
  },
  {
   "cell_type": "markdown",
   "metadata": {},
   "source": [
    "## Combine with Lucas topsoil properties"
   ]
  },
  {
   "cell_type": "code",
   "execution_count": 3,
   "metadata": {
    "ExecuteTime": {
     "end_time": "2022-04-09T17:38:43.274631Z",
     "start_time": "2022-04-09T17:38:42.676277Z"
    }
   },
   "outputs": [
    {
     "name": "stdout",
     "output_type": "stream",
     "text": [
      "217585\n"
     ]
    }
   ],
   "source": [
    "# Load LUCAS TOPSOIL DATABASE\n",
    "df_lts = pd.read_csv(r'C:/Users/USER/Desktop/Master_Irrigation/03_GIS/soil_classification/LTS_grassland_DE.csv').drop(['Unnamed: 0', 'geometry'], axis=1)\n",
    "gdf_lts = gpd.GeoDataFrame(df_lts, geometry=gpd.points_from_xy(df_lts.GPS_LONG, df_lts.GPS_LAT))\n",
    "\n",
    "# Join LTS data to S1, S2, Era5 Data\n",
    "gdf = pd.merge(gdf, gdf_lts, on='POINT_ID', how='left', suffixes=('', '_y')).rename({'geometry_y' : 'geometry'})\n",
    "\n",
    "gdf_lts, df_lts = None, None\n",
    "print(len(gdf))"
   ]
  },
  {
   "cell_type": "code",
   "execution_count": 26,
   "metadata": {
    "ExecuteTime": {
     "end_time": "2022-03-25T17:54:35.165982Z",
     "start_time": "2022-03-25T17:54:35.134740Z"
    }
   },
   "outputs": [
    {
     "name": "stdout",
     "output_type": "stream",
     "text": [
      "2516\n"
     ]
    }
   ],
   "source": [
    "# Load Ried soil sample results\n",
    "df_lts = pd.read_csv(r'C:/Users/USER/Desktop/Master_Irrigation/03_GIS/soil_classification/ried_soil_samples.csv').drop(['Unnamed: 0'], axis=1).rename({'poi' : 'POINT_ID'}, axis=1)\n",
    "# Join LTS data to S1, S2, Era5 Data\n",
    "gdf = pd.merge(gdf, df_lts, on='POINT_ID', how='left', suffixes=('', '_y'))\n",
    "gdf['clay'] = 100 - gdf.silt - gdf.sand\n",
    "gdf_lts, df_lts = None, None\n",
    "print(len(gdf))"
   ]
  },
  {
   "cell_type": "code",
   "execution_count": 4,
   "metadata": {
    "ExecuteTime": {
     "end_time": "2022-04-09T17:38:53.704661Z",
     "start_time": "2022-04-09T17:38:53.526571Z"
    }
   },
   "outputs": [
    {
     "name": "stdout",
     "output_type": "stream",
     "text": [
      "207960\n"
     ]
    }
   ],
   "source": [
    "# Mask rows without particel size distribution\n",
    "gdf = gdf[(gdf.sand > 0) & (gdf.silt > 0) & (gdf.clay > 0)]\n",
    "print(len(gdf))"
   ]
  },
  {
   "cell_type": "markdown",
   "metadata": {},
   "source": [
    "## Classify soil textures by sand, silt , clay content"
   ]
  },
  {
   "cell_type": "code",
   "execution_count": 5,
   "metadata": {
    "ExecuteTime": {
     "end_time": "2022-04-09T17:39:33.834319Z",
     "start_time": "2022-04-09T17:38:55.565191Z"
    }
   },
   "outputs": [
    {
     "name": "stdout",
     "output_type": "stream",
     "text": [
      "207960\n"
     ]
    }
   ],
   "source": [
    "# Create USDA classification\n",
    "USDA_class, FAO_class, INTERNATIONAL_class, ISSS_class = list(), list(), list(), list()\n",
    "\n",
    "for index, row in gdf.iterrows():\n",
    "    USDA_class.append(soiltexture.getTexture(row.sand, row.clay, classification='USDA'))\n",
    "    FAO_class.append(soiltexture.getTexture(row.sand, row.clay, classification='FAO'))\n",
    "    INTERNATIONAL_class.append(soiltexture.getTexture(row.sand, row.clay, classification='INTERNATIONAL'))\n",
    "    ISSS_class.append(soiltexture.getTexture(row.sand, row.clay, classification='ISSS'))\n",
    "                      \n",
    "gdf['USDA'] = USDA_class\n",
    "gdf['FAO'] = FAO_class\n",
    "gdf['INTERNATIONAL'] = INTERNATIONAL_class\n",
    "gdf['ISSS'] = ISSS_class\n",
    "\n",
    "USDA_class, FAO_class, INTERNATIONAL_class, ISSS_class = None, None, None, None\n",
    "print(len(gdf))"
   ]
  },
  {
   "cell_type": "code",
   "execution_count": 27,
   "metadata": {
    "ExecuteTime": {
     "end_time": "2022-03-19T09:47:38.157657Z",
     "start_time": "2022-03-19T09:47:38.142004Z"
    }
   },
   "outputs": [
    {
     "data": {
      "text/plain": [
       "(silt loam     2760\n",
       " loamy sand    1034\n",
       " Name: USDA, dtype: int64,\n",
       " medium    2760\n",
       " coarse    1034\n",
       " Name: FAO, dtype: int64,\n",
       " silty loam    2760\n",
       " loamy sand    1034\n",
       " Name: INTERNATIONAL, dtype: int64,\n",
       " silt loam     2760\n",
       " loamy sand     517\n",
       " sandy loam     517\n",
       " Name: ISSS, dtype: int64)"
      ]
     },
     "execution_count": 27,
     "metadata": {},
     "output_type": "execute_result"
    }
   ],
   "source": [
    "gdf['USDA'].value_counts(),gdf['FAO'].value_counts(),gdf['INTERNATIONAL'].value_counts(),gdf['ISSS'].value_counts(),"
   ]
  },
  {
   "cell_type": "markdown",
   "metadata": {},
   "source": [
    "### Soil textures categorical to numerical classes"
   ]
  },
  {
   "cell_type": "code",
   "execution_count": 16,
   "metadata": {
    "ExecuteTime": {
     "end_time": "2022-04-06T09:19:14.786610Z",
     "start_time": "2022-04-06T09:19:14.769655Z"
    }
   },
   "outputs": [
    {
     "data": {
      "text/plain": [
       "2    2\n",
       "1    1\n",
       "3    1\n",
       "4    1\n",
       "Name: a, dtype: int64"
      ]
     },
     "execution_count": 16,
     "metadata": {},
     "output_type": "execute_result"
    }
   ],
   "source": [
    "gdf = pd.DataFrame({'a' : [1,2,2,3,4]})\n",
    "gdf['a'].value_counts()"
   ]
  },
  {
   "cell_type": "markdown",
   "metadata": {},
   "source": [
    "Must Change when loading bare or grassland"
   ]
  },
  {
   "cell_type": "code",
   "execution_count": 28,
   "metadata": {
    "ExecuteTime": {
     "end_time": "2022-03-25T17:54:46.842252Z",
     "start_time": "2022-03-25T17:54:46.742048Z"
    }
   },
   "outputs": [
    {
     "name": "stdout",
     "output_type": "stream",
     "text": [
      "2516\n"
     ]
    }
   ],
   "source": [
    "# for all rows and lts sample points\n",
    "FAO_to_numerical = {'FAO':     {'medium': int(0), 'coarse': int(1), 'fine' : int(2)}}\n",
    "gdf['FAO_nr'] = gdf.replace(FAO_to_numerical)['FAO']\n",
    "gdf['FAO_nr'] = gdf['FAO_nr']\n",
    "\n",
    "USDA_to_numerical = {'USDA':     {'silt loam': int(0), 'sandy loam': int(1), 'loam' : int(2),'silty clay loam': int(3), 'loamy sand': int(4), 'silty clay' : int(5),'clay loam': int(6), 'sand': int(7), 'clay' : int(8), 'sandy clay loam' : int(9), 'silt' : int(10)}}\n",
    "gdf['USDA_nr'] = gdf.replace(USDA_to_numerical)['USDA']\n",
    "gdf['USDA_nr'] = gdf['USDA_nr']\n",
    "\n",
    "INTERNATIONAL_to_numerical = {'INTERNATIONAL':     {'silty loam': int(0), 'silty clay loam': int(1), 'loamy sand' : int(2),'silty clay': int(3), 'loam': int(4), 'sand' : int(5),'clay': int(6), 'sandy loam': int(7)}}\n",
    "gdf['INTERNATIONAL_nr'] = gdf.replace(INTERNATIONAL_to_numerical)['INTERNATIONAL']\n",
    "gdf['INTERNATIONAL_nr'] = gdf['INTERNATIONAL_nr']\n",
    "\n",
    "ISSS_to_numerical = {'ISSS':     {'silty clay': int(0), 'silty clay loam': int(1), 'clay loam' : int(2),'sandy loam': int(3), 'light clay': int(4), 'loam' : int(5),'heavy clay': int(6), 'loamy sand': int(7), 'silt loam': int(8), 'sand': int(9), 'sandy clay loam': int(10)}}\n",
    "gdf['ISSS_nr'] = gdf.replace(ISSS_to_numerical)['ISSS']\n",
    "gdf['ISSS_nr'] = gdf['ISSS_nr']\n",
    "print(len(gdf))"
   ]
  },
  {
   "cell_type": "code",
   "execution_count": 29,
   "metadata": {
    "ExecuteTime": {
     "end_time": "2022-03-19T09:49:24.098087Z",
     "start_time": "2022-03-19T09:49:24.082060Z"
    }
   },
   "outputs": [
    {
     "data": {
      "text/plain": [
       "(0    2760\n",
       " 4    1034\n",
       " Name: USDA_nr, dtype: int64,\n",
       " 0    2760\n",
       " 1    1034\n",
       " Name: FAO_nr, dtype: int64,\n",
       " 0    2760\n",
       " 2    1034\n",
       " Name: INTERNATIONAL_nr, dtype: int64,\n",
       " 8    2760\n",
       " 7     517\n",
       " 3     517\n",
       " Name: ISSS_nr, dtype: int64)"
      ]
     },
     "execution_count": 29,
     "metadata": {},
     "output_type": "execute_result"
    }
   ],
   "source": [
    "gdf['USDA_nr'].value_counts(),gdf['FAO_nr'].value_counts(),gdf['INTERNATIONAL_nr'].value_counts(),gdf['ISSS_nr'].value_counts(),"
   ]
  },
  {
   "cell_type": "markdown",
   "metadata": {},
   "source": [
    "## Visualize locations "
   ]
  },
  {
   "cell_type": "markdown",
   "metadata": {},
   "source": [
    "https://pbpython.com/categorical-encoding.html"
   ]
  },
  {
   "cell_type": "code",
   "execution_count": 29,
   "metadata": {
    "ExecuteTime": {
     "end_time": "2022-03-25T17:54:53.421139Z",
     "start_time": "2022-03-25T17:54:53.334112Z"
    }
   },
   "outputs": [],
   "source": [
    "longitude = list(dict.fromkeys(gdf.geometry.x))\n",
    "latitude = list(dict.fromkeys(gdf.geometry.y))\n",
    "point_id = list(dict.fromkeys(gdf.POINT_ID))"
   ]
  },
  {
   "cell_type": "code",
   "execution_count": 30,
   "metadata": {
    "ExecuteTime": {
     "end_time": "2022-03-25T17:55:09.476252Z",
     "start_time": "2022-03-25T17:54:54.057598Z"
    }
   },
   "outputs": [
    {
     "data": {
      "image/png": "[encoded data removed]",
      "text/plain": [
       "<Figure size 720x720 with 1 Axes>"
      ]
     },
     "metadata": {},
     "output_type": "display_data"
    }
   ],
   "source": [
    "# Visualize Points\n",
    "ax = gdf.plot(figsize=(10, 10), alpha=0.5, edgecolor='k', )\n",
    "cx.add_basemap(ax=ax, source=cx.providers.Esri.WorldImagery, crs=gdf.crs, zoom = 'auto')\n",
    "#for x, y, label in zip(longitude, latitude, [str(x) for x in point_id]):\n",
    "#    ax.annotate(label, xy=(x, y))"
   ]
  },
  {
   "cell_type": "markdown",
   "metadata": {},
   "source": [
    "## Add Rainfall data"
   ]
  },
  {
   "cell_type": "markdown",
   "metadata": {},
   "source": [
    "    Für Morning Aquisition also 5 uhr ist 0 day der tag vor dem tag und für abend aquisition also 17 uhr ist 0 day der gleiche tag\n",
    "    0 day\n",
    "    1 day\n",
    "    2 day\n",
    "    \n",
    "    ONLY FOR GERMAN !!!"
   ]
  },
  {
   "cell_type": "code",
   "execution_count": 31,
   "metadata": {
    "ExecuteTime": {
     "end_time": "2022-03-25T17:55:47.755030Z",
     "start_time": "2022-03-25T17:55:38.444698Z"
    }
   },
   "outputs": [],
   "source": [
    "RADOLAN = xr.open_dataset('D:/jupy_data/precipitation_1km.nc')\n",
    "pp_24h, pp_48h, pp_72h = list(), list(), list()\n",
    "midday = dt.time(12,0)\n",
    "\n",
    "for index, row in gdf.iterrows():\n",
    "    pp_loc = RADOLAN.sel(latitude=row.geometry.y, longitude=row.geometry.x, method='nearest').sel(time=slice(row.date.date() - pd.Timedelta('3d'), row.date.date())).precipitation_1km\n",
    "    if row.date.time() > midday:\n",
    "        try:\n",
    "            pp_24h.append(pp_loc.isel(time=3).values)\n",
    "            pp_48h.append(pp_loc.isel(time=slice(2,4)).sum().values)  \n",
    "            pp_72h.append(pp_loc.isel(time=slice(1,4)).sum().values)  \n",
    "        except:\n",
    "            pp_24h.append(np.nan)\n",
    "            pp_48h.append(np.nan)\n",
    "            pp_72h.append(np.nan)\n",
    "    else:\n",
    "        try:\n",
    "            pp_24h.append(pp_loc.isel(time=2).values)\n",
    "            pp_48h.append(pp_loc.isel(time=slice(1,3)).sum().values)  \n",
    "            pp_72h.append(pp_loc.isel(time=slice(0,3)).sum().values)  \n",
    "        except:\n",
    "            pp_24h.append(np.nan)\n",
    "            pp_48h.append(np.nan)\n",
    "            pp_72h.append(np.nan)\n",
    "gdf['pp_24h'] = pp_24h\n",
    "gdf['pp_48h'] = pp_48h\n",
    "gdf['pp_72h'] = pp_72h\n",
    "\n",
    "RADOLAN = None\n",
    "pp_24h, pp_48h, pp_72h = None, None, None"
   ]
  },
  {
   "cell_type": "code",
   "execution_count": 32,
   "metadata": {
    "ExecuteTime": {
     "end_time": "2022-03-25T17:55:47.893088Z",
     "start_time": "2022-03-25T17:55:47.877466Z"
    }
   },
   "outputs": [],
   "source": [
    "df = gdf"
   ]
  },
  {
   "cell_type": "markdown",
   "metadata": {},
   "source": [
    "## Add Soil Moisture data"
   ]
  },
  {
   "cell_type": "code",
   "execution_count": 33,
   "metadata": {
    "ExecuteTime": {
     "end_time": "2022-03-25T17:55:52.282961Z",
     "start_time": "2022-03-25T17:55:51.183189Z"
    }
   },
   "outputs": [
    {
     "name": "stdout",
     "output_type": "stream",
     "text": [
      "WARNING:tensorflow:From C:\\Users\\USER\\Anaconda3\\envs\\dev1\\lib\\site-packages\\tensorflow\\python\\ops\\init_ops.py:97: calling GlorotUniform.__init__ (from tensorflow.python.ops.init_ops) with dtype is deprecated and will be removed in a future version.\n",
      "Instructions for updating:\n",
      "Call initializer instance with the dtype argument instead of passing it to the constructor\n",
      "WARNING:tensorflow:From C:\\Users\\USER\\Anaconda3\\envs\\dev1\\lib\\site-packages\\tensorflow\\python\\ops\\init_ops.py:1251: calling VarianceScaling.__init__ (from tensorflow.python.ops.init_ops) with dtype is deprecated and will be removed in a future version.\n",
      "Instructions for updating:\n",
      "Call initializer instance with the dtype argument instead of passing it to the constructor\n",
      "WARNING:tensorflow:From C:\\Users\\USER\\Anaconda3\\envs\\dev1\\lib\\site-packages\\tensorflow\\python\\ops\\init_ops.py:97: calling Zeros.__init__ (from tensorflow.python.ops.init_ops) with dtype is deprecated and will be removed in a future version.\n",
      "Instructions for updating:\n",
      "Call initializer instance with the dtype argument instead of passing it to the constructor\n"
     ]
    }
   ],
   "source": [
    "from tensorflow.keras.models import load_model\n",
    "from sklearn.preprocessing import MinMaxScaler\n",
    "\n",
    "# Load pre trained model\n",
    "cnn_basic_model = load_model('C://Users/USER/Desktop/Master_Irrigation/03_GIS/cnn_models/ssm_30m')\n",
    "\n",
    "features = ['VV', 'VH', 'angle', 'NDVI', 'platform_A', 'platform_B', 'orbit_ASCENDING',\n",
    "                'orbit_DESCENDING', 'day_of_year','mean_2m_air_temperature','maximum_2m_air_temperature',\n",
    "                'minimum_2m_air_temperature', 'Blue', 'Green', 'Red', 'RedEdge1', 'RedEdge2', 'RedEdge3', \n",
    "                'RedEdge4', 'NIR', 'WaterVapor', 'SWIR1', 'SWIR2']\n",
    "\n",
    "# One-Hot Encoding\n",
    "df_predict = pd.get_dummies(data = df, columns=['platform', 'orbit'])\n",
    "\n",
    "#Normalization\n",
    "scaler = MinMaxScaler(feature_range=(0, 1), copy = False)\n",
    "df_predict[features] = scaler.fit_transform(X = df_predict[features])\n",
    "\n",
    "# Change position in DataFrame\n",
    "df_predict.insert(0, 'VV', df_predict.pop('VV'))\n",
    "df_predict.insert(1, 'VH', df_predict.pop('VH'))\n",
    "df_predict.insert(2, 'angle', df_predict.pop('angle'))\n",
    "df_predict.insert(3, 'NDVI', df_predict.pop('NDVI'))\n",
    "df_predict.insert(4, 'platform_A', df_predict.pop('platform_A'))\n",
    "df_predict.insert(5, 'platform_B', df_predict.pop('platform_B'))\n",
    "df_predict.insert(6, 'orbit_ASCENDING', df_predict.pop('orbit_ASCENDING'))\n",
    "df_predict.insert(7, 'orbit_DESCENDING', df_predict.pop('orbit_DESCENDING'))\n",
    "df_predict.insert(8, 'day_of_year', df_predict.pop('day_of_year'))\n",
    "df_predict.insert(9, 'mean_2m_air_temperature', df_predict.pop('mean_2m_air_temperature'))\n",
    "df_predict.insert(10, 'maximum_2m_air_temperature', df_predict.pop('maximum_2m_air_temperature'))\n",
    "df_predict.insert(11, 'minimum_2m_air_temperature', df_predict.pop('minimum_2m_air_temperature'))\n",
    "df_predict.insert(12, 'Blue', df_predict.pop('Blue'))\n",
    "df_predict.insert(13, 'Green', df_predict.pop('Green'))\n",
    "df_predict.insert(14, 'Red', df_predict.pop('Red'))\n",
    "df_predict.insert(15, 'RedEdge1', df_predict.pop('RedEdge1'))\n",
    "df_predict.insert(16, 'RedEdge2', df_predict.pop('RedEdge2'))\n",
    "df_predict.insert(17, 'RedEdge3', df_predict.pop('RedEdge3'))\n",
    "df_predict.insert(18, 'RedEdge4', df_predict.pop('RedEdge4'))\n",
    "df_predict.insert(19, 'NIR', df_predict.pop('NIR'))\n",
    "df_predict.insert(20, 'WaterVapor', df_predict.pop('WaterVapor'))\n",
    "df_predict.insert(21, 'SWIR1', df_predict.pop('SWIR1'))\n",
    "df_predict.insert(22, 'SWIR2', df_predict.pop('SWIR2'))\n",
    "\n",
    "# Predict Surface Soil Moisture ValuesValues\n",
    "predict_ssm_scale = cnn_basic_model.predict(df_predict[features])\n",
    "\n",
    "# Add predicted smm values to initial dataframe\n",
    "df['ssm'] = predict_ssm_scale\n",
    "\n",
    "df.to_csv(r'C:/Users/USER/Desktop/Master_Irrigation/03_GIS/soil_classification/DataFrame_ried_samples_30m_17-19.csv', index=False)"
   ]
  },
  {
   "cell_type": "code",
   "execution_count": 11,
   "metadata": {
    "ExecuteTime": {
     "end_time": "2022-03-25T17:47:19.224740Z",
     "start_time": "2022-03-25T17:47:17.172929Z"
    }
   },
   "outputs": [
    {
     "name": "stdout",
     "output_type": "stream",
     "text": [
      "207960\n"
     ]
    },
    {
     "name": "stderr",
     "output_type": "stream",
     "text": [
      "C:\\Users\\USER\\Anaconda3\\envs\\dev1\\lib\\site-packages\\IPython\\core\\interactiveshell.py:3524: DtypeWarning: Columns (48) have mixed types.Specify dtype option on import or set low_memory=False.\n",
      "  exec(code_obj, self.user_global_ns, self.user_ns)\n"
     ]
    }
   ],
   "source": [
    "# LTS soil samples\n",
    "gdf = pd.read_csv(r'C:/Users/USER/Desktop/Master_Irrigation/03_GIS/soil_classification/DataFrame_Grassland_DE.csv'\n",
    "            ,).drop('Unnamed: 0', axis=1)\n",
    "print(len(gdf))"
   ]
  },
  {
   "cell_type": "code",
   "execution_count": 4,
   "metadata": {
    "ExecuteTime": {
     "end_time": "2022-04-06T08:23:36.907649Z",
     "start_time": "2022-04-06T08:23:36.848824Z"
    }
   },
   "outputs": [
    {
     "name": "stdout",
     "output_type": "stream",
     "text": [
      "3794\n"
     ]
    }
   ],
   "source": [
    "# ried soil samples\n",
    "gdf = pd.read_csv(r'C:/Users/USER/Desktop/Master_Irrigation/03_GIS/soil_classification/DataFrame_ried_samples.csv'\n",
    "            ,).drop('Unnamed: 0', axis=1)\n",
    "print(len(gdf))"
   ]
  },
  {
   "cell_type": "code",
   "execution_count": 2,
   "metadata": {
    "ExecuteTime": {
     "end_time": "2022-04-06T08:23:03.367764Z",
     "start_time": "2022-04-06T08:23:03.295214Z"
    }
   },
   "outputs": [
    {
     "name": "stdout",
     "output_type": "stream",
     "text": [
      "2516\n"
     ]
    }
   ],
   "source": [
    "## delete last function part because index=False while saving \n",
    "# ried soil samples 30m 17-19\n",
    "gdf = pd.read_csv(r'C:/Users/USER/Desktop/Master_Irrigation/03_GIS/soil_classification/DataFrame_ried_samples_30m_17-19.csv'\n",
    "            ,).drop('Unnamed: 0', axis=1)\n",
    "print(len(gdf))"
   ]
  },
  {
   "cell_type": "code",
   "execution_count": 5,
   "metadata": {
    "ExecuteTime": {
     "end_time": "2022-04-06T08:23:39.511537Z",
     "start_time": "2022-04-06T08:23:39.483537Z"
    }
   },
   "outputs": [
    {
     "data": {
      "text/html": [
       "<div>\n",
       "<style scoped>\n",
       "    .dataframe tbody tr th:only-of-type {\n",
       "        vertical-align: middle;\n",
       "    }\n",
       "\n",
       "    .dataframe tbody tr th {\n",
       "        vertical-align: top;\n",
       "    }\n",
       "\n",
       "    .dataframe thead th {\n",
       "        text-align: right;\n",
       "    }\n",
       "</style>\n",
       "<table border=\"1\" class=\"dataframe\">\n",
       "  <thead>\n",
       "    <tr style=\"text-align: right;\">\n",
       "      <th></th>\n",
       "      <th>POINT_ID</th>\n",
       "      <th>date</th>\n",
       "      <th>platform</th>\n",
       "      <th>orbit</th>\n",
       "      <th>VV</th>\n",
       "      <th>VH</th>\n",
       "      <th>angle</th>\n",
       "      <th>img_id</th>\n",
       "      <th>Aerosols</th>\n",
       "      <th>Blue</th>\n",
       "      <th>...</th>\n",
       "      <th>INTERNATIONAL</th>\n",
       "      <th>ISSS</th>\n",
       "      <th>FAO_nr</th>\n",
       "      <th>USDA_nr</th>\n",
       "      <th>INTERNATIONAL_nr</th>\n",
       "      <th>ISSS_nr</th>\n",
       "      <th>pp_24h</th>\n",
       "      <th>pp_48h</th>\n",
       "      <th>pp_72h</th>\n",
       "      <th>ssm</th>\n",
       "    </tr>\n",
       "  </thead>\n",
       "  <tbody>\n",
       "    <tr>\n",
       "      <th>0</th>\n",
       "      <td>1</td>\n",
       "      <td>2017-01-03 05:34:08</td>\n",
       "      <td>A</td>\n",
       "      <td>DESCENDING</td>\n",
       "      <td>-11.013139</td>\n",
       "      <td>-23.606548</td>\n",
       "      <td>42.091240</td>\n",
       "      <td>S1A_IW_GRDH_1SDV_20170103T053408_20170103T0534...</td>\n",
       "      <td>NaN</td>\n",
       "      <td>NaN</td>\n",
       "      <td>...</td>\n",
       "      <td>loamy sand</td>\n",
       "      <td>loamy sand</td>\n",
       "      <td>1</td>\n",
       "      <td>4</td>\n",
       "      <td>2</td>\n",
       "      <td>7</td>\n",
       "      <td>0.2</td>\n",
       "      <td>0.2</td>\n",
       "      <td>0.200000</td>\n",
       "      <td>NaN</td>\n",
       "    </tr>\n",
       "    <tr>\n",
       "      <th>1</th>\n",
       "      <td>1</td>\n",
       "      <td>2017-01-08 05:42:17</td>\n",
       "      <td>A</td>\n",
       "      <td>DESCENDING</td>\n",
       "      <td>-10.586973</td>\n",
       "      <td>-20.899289</td>\n",
       "      <td>33.168736</td>\n",
       "      <td>S1A_IW_GRDH_1SDV_20170108T054217_20170108T0542...</td>\n",
       "      <td>NaN</td>\n",
       "      <td>NaN</td>\n",
       "      <td>...</td>\n",
       "      <td>loamy sand</td>\n",
       "      <td>loamy sand</td>\n",
       "      <td>1</td>\n",
       "      <td>4</td>\n",
       "      <td>2</td>\n",
       "      <td>7</td>\n",
       "      <td>0.0</td>\n",
       "      <td>0.0</td>\n",
       "      <td>0.200000</td>\n",
       "      <td>NaN</td>\n",
       "    </tr>\n",
       "    <tr>\n",
       "      <th>2</th>\n",
       "      <td>1</td>\n",
       "      <td>2017-01-11 17:15:41</td>\n",
       "      <td>A</td>\n",
       "      <td>ASCENDING</td>\n",
       "      <td>-6.396443</td>\n",
       "      <td>-20.470305</td>\n",
       "      <td>39.153461</td>\n",
       "      <td>S1A_IW_GRDH_1SDV_20170111T171541_20170111T1716...</td>\n",
       "      <td>NaN</td>\n",
       "      <td>NaN</td>\n",
       "      <td>...</td>\n",
       "      <td>loamy sand</td>\n",
       "      <td>loamy sand</td>\n",
       "      <td>1</td>\n",
       "      <td>4</td>\n",
       "      <td>2</td>\n",
       "      <td>7</td>\n",
       "      <td>0.9</td>\n",
       "      <td>5.0</td>\n",
       "      <td>5.000000</td>\n",
       "      <td>NaN</td>\n",
       "    </tr>\n",
       "    <tr>\n",
       "      <th>3</th>\n",
       "      <td>1</td>\n",
       "      <td>2017-01-15 05:34:08</td>\n",
       "      <td>A</td>\n",
       "      <td>DESCENDING</td>\n",
       "      <td>-11.427189</td>\n",
       "      <td>-22.813749</td>\n",
       "      <td>42.088970</td>\n",
       "      <td>S1A_IW_GRDH_1SDV_20170115T053408_20170115T0534...</td>\n",
       "      <td>NaN</td>\n",
       "      <td>NaN</td>\n",
       "      <td>...</td>\n",
       "      <td>loamy sand</td>\n",
       "      <td>loamy sand</td>\n",
       "      <td>1</td>\n",
       "      <td>4</td>\n",
       "      <td>2</td>\n",
       "      <td>7</td>\n",
       "      <td>0.3</td>\n",
       "      <td>9.0</td>\n",
       "      <td>19.099998</td>\n",
       "      <td>NaN</td>\n",
       "    </tr>\n",
       "    <tr>\n",
       "      <th>4</th>\n",
       "      <td>1</td>\n",
       "      <td>2017-01-20 05:42:17</td>\n",
       "      <td>A</td>\n",
       "      <td>DESCENDING</td>\n",
       "      <td>-12.121242</td>\n",
       "      <td>-22.815012</td>\n",
       "      <td>33.173534</td>\n",
       "      <td>S1A_IW_GRDH_1SDV_20170120T054217_20170120T0542...</td>\n",
       "      <td>0.2324</td>\n",
       "      <td>0.1668</td>\n",
       "      <td>...</td>\n",
       "      <td>loamy sand</td>\n",
       "      <td>loamy sand</td>\n",
       "      <td>1</td>\n",
       "      <td>4</td>\n",
       "      <td>2</td>\n",
       "      <td>7</td>\n",
       "      <td>0.0</td>\n",
       "      <td>0.0</td>\n",
       "      <td>0.000000</td>\n",
       "      <td>0.196550</td>\n",
       "    </tr>\n",
       "    <tr>\n",
       "      <th>...</th>\n",
       "      <td>...</td>\n",
       "      <td>...</td>\n",
       "      <td>...</td>\n",
       "      <td>...</td>\n",
       "      <td>...</td>\n",
       "      <td>...</td>\n",
       "      <td>...</td>\n",
       "      <td>...</td>\n",
       "      <td>...</td>\n",
       "      <td>...</td>\n",
       "      <td>...</td>\n",
       "      <td>...</td>\n",
       "      <td>...</td>\n",
       "      <td>...</td>\n",
       "      <td>...</td>\n",
       "      <td>...</td>\n",
       "      <td>...</td>\n",
       "      <td>...</td>\n",
       "      <td>...</td>\n",
       "      <td>...</td>\n",
       "      <td>...</td>\n",
       "    </tr>\n",
       "    <tr>\n",
       "      <th>3789</th>\n",
       "      <td>7</td>\n",
       "      <td>2019-12-25 05:33:42</td>\n",
       "      <td>B</td>\n",
       "      <td>DESCENDING</td>\n",
       "      <td>-1.001384</td>\n",
       "      <td>-8.600652</td>\n",
       "      <td>40.800640</td>\n",
       "      <td>S1B_IW_GRDH_1SDV_20191225T053342_20191225T0534...</td>\n",
       "      <td>0.1805</td>\n",
       "      <td>0.1375</td>\n",
       "      <td>...</td>\n",
       "      <td>silty loam</td>\n",
       "      <td>silt loam</td>\n",
       "      <td>0</td>\n",
       "      <td>0</td>\n",
       "      <td>0</td>\n",
       "      <td>8</td>\n",
       "      <td>NaN</td>\n",
       "      <td>NaN</td>\n",
       "      <td>NaN</td>\n",
       "      <td>0.172915</td>\n",
       "    </tr>\n",
       "    <tr>\n",
       "      <th>3790</th>\n",
       "      <td>7</td>\n",
       "      <td>2019-12-27 17:16:12</td>\n",
       "      <td>A</td>\n",
       "      <td>ASCENDING</td>\n",
       "      <td>-7.375970</td>\n",
       "      <td>-14.996318</td>\n",
       "      <td>40.352856</td>\n",
       "      <td>S1A_IW_GRDH_1SDV_20191227T171612_20191227T1716...</td>\n",
       "      <td>0.1805</td>\n",
       "      <td>0.1375</td>\n",
       "      <td>...</td>\n",
       "      <td>silty loam</td>\n",
       "      <td>silt loam</td>\n",
       "      <td>0</td>\n",
       "      <td>0</td>\n",
       "      <td>0</td>\n",
       "      <td>8</td>\n",
       "      <td>NaN</td>\n",
       "      <td>NaN</td>\n",
       "      <td>NaN</td>\n",
       "      <td>0.151923</td>\n",
       "    </tr>\n",
       "    <tr>\n",
       "      <th>3791</th>\n",
       "      <td>7</td>\n",
       "      <td>2019-12-28 17:07:08</td>\n",
       "      <td>B</td>\n",
       "      <td>ASCENDING</td>\n",
       "      <td>-10.867599</td>\n",
       "      <td>-15.271474</td>\n",
       "      <td>31.116236</td>\n",
       "      <td>S1B_IW_GRDH_1SDV_20191228T170708_20191228T1707...</td>\n",
       "      <td>0.1805</td>\n",
       "      <td>0.1375</td>\n",
       "      <td>...</td>\n",
       "      <td>silty loam</td>\n",
       "      <td>silt loam</td>\n",
       "      <td>0</td>\n",
       "      <td>0</td>\n",
       "      <td>0</td>\n",
       "      <td>8</td>\n",
       "      <td>NaN</td>\n",
       "      <td>NaN</td>\n",
       "      <td>NaN</td>\n",
       "      <td>0.159802</td>\n",
       "    </tr>\n",
       "    <tr>\n",
       "      <th>3792</th>\n",
       "      <td>7</td>\n",
       "      <td>2019-12-30 05:41:41</td>\n",
       "      <td>B</td>\n",
       "      <td>DESCENDING</td>\n",
       "      <td>-6.065929</td>\n",
       "      <td>-11.053698</td>\n",
       "      <td>31.614723</td>\n",
       "      <td>S1B_IW_GRDH_1SDV_20191230T054141_20191230T0542...</td>\n",
       "      <td>0.1805</td>\n",
       "      <td>0.1375</td>\n",
       "      <td>...</td>\n",
       "      <td>silty loam</td>\n",
       "      <td>silt loam</td>\n",
       "      <td>0</td>\n",
       "      <td>0</td>\n",
       "      <td>0</td>\n",
       "      <td>8</td>\n",
       "      <td>NaN</td>\n",
       "      <td>NaN</td>\n",
       "      <td>NaN</td>\n",
       "      <td>0.202962</td>\n",
       "    </tr>\n",
       "    <tr>\n",
       "      <th>3793</th>\n",
       "      <td>7</td>\n",
       "      <td>2019-12-31 05:34:09</td>\n",
       "      <td>A</td>\n",
       "      <td>DESCENDING</td>\n",
       "      <td>-5.152709</td>\n",
       "      <td>-12.193036</td>\n",
       "      <td>40.753498</td>\n",
       "      <td>S1A_IW_GRDH_1SDV_20191231T053409_20191231T0534...</td>\n",
       "      <td>0.1805</td>\n",
       "      <td>0.1375</td>\n",
       "      <td>...</td>\n",
       "      <td>silty loam</td>\n",
       "      <td>silt loam</td>\n",
       "      <td>0</td>\n",
       "      <td>0</td>\n",
       "      <td>0</td>\n",
       "      <td>8</td>\n",
       "      <td>NaN</td>\n",
       "      <td>NaN</td>\n",
       "      <td>NaN</td>\n",
       "      <td>0.157647</td>\n",
       "    </tr>\n",
       "  </tbody>\n",
       "</table>\n",
       "<p>3794 rows × 53 columns</p>\n",
       "</div>"
      ],
      "text/plain": [
       "      POINT_ID                 date platform       orbit         VV  \\\n",
       "0            1  2017-01-03 05:34:08        A  DESCENDING -11.013139   \n",
       "1            1  2017-01-08 05:42:17        A  DESCENDING -10.586973   \n",
       "2            1  2017-01-11 17:15:41        A   ASCENDING  -6.396443   \n",
       "3            1  2017-01-15 05:34:08        A  DESCENDING -11.427189   \n",
       "4            1  2017-01-20 05:42:17        A  DESCENDING -12.121242   \n",
       "...        ...                  ...      ...         ...        ...   \n",
       "3789         7  2019-12-25 05:33:42        B  DESCENDING  -1.001384   \n",
       "3790         7  2019-12-27 17:16:12        A   ASCENDING  -7.375970   \n",
       "3791         7  2019-12-28 17:07:08        B   ASCENDING -10.867599   \n",
       "3792         7  2019-12-30 05:41:41        B  DESCENDING  -6.065929   \n",
       "3793         7  2019-12-31 05:34:09        A  DESCENDING  -5.152709   \n",
       "\n",
       "             VH      angle                                             img_id  \\\n",
       "0    -23.606548  42.091240  S1A_IW_GRDH_1SDV_20170103T053408_20170103T0534...   \n",
       "1    -20.899289  33.168736  S1A_IW_GRDH_1SDV_20170108T054217_20170108T0542...   \n",
       "2    -20.470305  39.153461  S1A_IW_GRDH_1SDV_20170111T171541_20170111T1716...   \n",
       "3    -22.813749  42.088970  S1A_IW_GRDH_1SDV_20170115T053408_20170115T0534...   \n",
       "4    -22.815012  33.173534  S1A_IW_GRDH_1SDV_20170120T054217_20170120T0542...   \n",
       "...         ...        ...                                                ...   \n",
       "3789  -8.600652  40.800640  S1B_IW_GRDH_1SDV_20191225T053342_20191225T0534...   \n",
       "3790 -14.996318  40.352856  S1A_IW_GRDH_1SDV_20191227T171612_20191227T1716...   \n",
       "3791 -15.271474  31.116236  S1B_IW_GRDH_1SDV_20191228T170708_20191228T1707...   \n",
       "3792 -11.053698  31.614723  S1B_IW_GRDH_1SDV_20191230T054141_20191230T0542...   \n",
       "3793 -12.193036  40.753498  S1A_IW_GRDH_1SDV_20191231T053409_20191231T0534...   \n",
       "\n",
       "      Aerosols    Blue  ...  INTERNATIONAL        ISSS  FAO_nr  USDA_nr  \\\n",
       "0          NaN     NaN  ...     loamy sand  loamy sand       1        4   \n",
       "1          NaN     NaN  ...     loamy sand  loamy sand       1        4   \n",
       "2          NaN     NaN  ...     loamy sand  loamy sand       1        4   \n",
       "3          NaN     NaN  ...     loamy sand  loamy sand       1        4   \n",
       "4       0.2324  0.1668  ...     loamy sand  loamy sand       1        4   \n",
       "...        ...     ...  ...            ...         ...     ...      ...   \n",
       "3789    0.1805  0.1375  ...     silty loam   silt loam       0        0   \n",
       "3790    0.1805  0.1375  ...     silty loam   silt loam       0        0   \n",
       "3791    0.1805  0.1375  ...     silty loam   silt loam       0        0   \n",
       "3792    0.1805  0.1375  ...     silty loam   silt loam       0        0   \n",
       "3793    0.1805  0.1375  ...     silty loam   silt loam       0        0   \n",
       "\n",
       "      INTERNATIONAL_nr  ISSS_nr  pp_24h  pp_48h     pp_72h       ssm  \n",
       "0                    2        7     0.2     0.2   0.200000       NaN  \n",
       "1                    2        7     0.0     0.0   0.200000       NaN  \n",
       "2                    2        7     0.9     5.0   5.000000       NaN  \n",
       "3                    2        7     0.3     9.0  19.099998       NaN  \n",
       "4                    2        7     0.0     0.0   0.000000  0.196550  \n",
       "...                ...      ...     ...     ...        ...       ...  \n",
       "3789                 0        8     NaN     NaN        NaN  0.172915  \n",
       "3790                 0        8     NaN     NaN        NaN  0.151923  \n",
       "3791                 0        8     NaN     NaN        NaN  0.159802  \n",
       "3792                 0        8     NaN     NaN        NaN  0.202962  \n",
       "3793                 0        8     NaN     NaN        NaN  0.157647  \n",
       "\n",
       "[3794 rows x 53 columns]"
      ]
     },
     "execution_count": 5,
     "metadata": {},
     "output_type": "execute_result"
    }
   ],
   "source": [
    "gdf"
   ]
  },
  {
   "cell_type": "code",
   "execution_count": 4,
   "metadata": {
    "ExecuteTime": {
     "end_time": "2022-04-02T09:59:42.271188Z",
     "start_time": "2022-04-02T09:59:41.854530Z"
    }
   },
   "outputs": [
    {
     "data": {
      "text/plain": [
       "<AxesSubplot:>"
      ]
     },
     "execution_count": 4,
     "metadata": {},
     "output_type": "execute_result"
    },
    {
     "data": {
      "image/png": "[encoded data removed]",
      "text/plain": [
       "<Figure size 432x288 with 1 Axes>"
      ]
     },
     "metadata": {
      "needs_background": "light"
     },
     "output_type": "display_data"
    }
   ],
   "source": [
    "gdf.ssm.plot()"
   ]
  },
  {
   "cell_type": "markdown",
   "metadata": {},
   "source": [
    "## Subset data"
   ]
  },
  {
   "cell_type": "code",
   "execution_count": 4,
   "metadata": {
    "ExecuteTime": {
     "end_time": "2022-03-26T19:54:13.360903Z",
     "start_time": "2022-03-26T19:54:13.301104Z"
    }
   },
   "outputs": [
    {
     "name": "stdout",
     "output_type": "stream",
     "text": [
      "2516\n"
     ]
    }
   ],
   "source": [
    "#gdf['FAO'] = gdf.loc[:,'FAO'].map(lambda x: if x is np.nan: pd.NA else x)\n",
    "for col in ['FAO', 'FAO_nr', 'ISSS_nr', 'ISSS']:\n",
    "    gdf[col].map(lambda x: pd.NA if x is np.nan else x)\n",
    "#gdf['FAO_nr'] = gdf.loc[:,'FAO_nr'].map(lambda x: pd.NA if x is np.nan else x)\n",
    "gdf.dropna(how='any', subset=['FAO', 'FAO_nr', 'ISSS_nr', 'ISSS'], inplace=True)\n",
    "\n",
    "# Conversation\n",
    "gdf['minimum_2m_air_temperature'] = gdf['minimum_2m_air_temperature'] -273.15\n",
    "gdf['maximum_2m_air_temperature'] = gdf['maximum_2m_air_temperature'] -273.15\n",
    "gdf['mean_2m_air_temperature'] = gdf['mean_2m_air_temperature'] -273.15\n",
    "\n",
    "#Drop frozen grounds\n",
    "#gdf = gdf[gdf['minimum_2m_air_temperature'] > 1]\n",
    "\n",
    "# Dtype Transformation\n",
    "gdf['date'] = gdf.loc[:,'date'].astype('datetime64[ns]')\n",
    "gdf['date_y'] = gdf.loc[:,'date_y'].astype('datetime64[ns]')\n",
    "gdf.loc[:,['FAO_nr']] = gdf.loc[:,['FAO_nr']].astype('int64')\n",
    "gdf.loc[:,['USDA_nr']] = gdf.loc[:,['USDA_nr']].astype('int64')\n",
    "gdf.loc[:,['INTERNATIONAL_nr']] = gdf.loc[:,['INTERNATIONAL_nr']].astype('int64')\n",
    "gdf.loc[:,['ISSS_nr']] = gdf.loc[:,['ISSS_nr']].astype('int64')\n",
    "gdf.loc[:,['pp_24h', 'pp_48h', 'pp_72h']] = gdf.loc[:,['pp_24h', 'pp_48h', 'pp_72h']].astype('float64')\n",
    "\n",
    "#Add extra Columns\n",
    "gdf['FAO'] = gdf.loc[:,['FAO_nr']]\n",
    "gdf['USDA'] = gdf.loc[:,['USDA_nr']]\n",
    "gdf['INTERNATIONAL'] = gdf.loc[:,['INTERNATIONAL_nr']]\n",
    "gdf['ISSS'] = gdf.loc[:,['ISSS_nr']]\n",
    "#gdf['longitude'] = gdf['geometry'].x\n",
    "#gdf['latitude'] = gdf['geometry'].y\n",
    "\n",
    "#One Hot Encoding\n",
    "gdf = pd.DataFrame(pd.get_dummies(gdf, columns=['FAO_nr', 'USDA_nr', 'INTERNATIONAL_nr', 'ISSS_nr', 'orbit', 'platform']))\n",
    "print(len(gdf))"
   ]
  },
  {
   "cell_type": "code",
   "execution_count": 5,
   "metadata": {
    "ExecuteTime": {
     "end_time": "2022-03-26T19:54:14.240739Z",
     "start_time": "2022-03-26T19:54:14.230755Z"
    }
   },
   "outputs": [],
   "source": [
    "df_sub = gdf"
   ]
  },
  {
   "cell_type": "code",
   "execution_count": 20,
   "metadata": {
    "ExecuteTime": {
     "end_time": "2022-03-26T20:12:02.939624Z",
     "start_time": "2022-03-26T20:12:02.799308Z"
    }
   },
   "outputs": [
    {
     "data": {
      "text/plain": [
       "<AxesSubplot:title={'center':'Bodenfeuchte'}>"
      ]
     },
     "execution_count": 20,
     "metadata": {},
     "output_type": "execute_result"
    },
    {
     "data": {
      "image/png": "[encoded data removed]",
      "text/plain": [
       "<Figure size 432x288 with 1 Axes>"
      ]
     },
     "metadata": {
      "needs_background": "light"
     },
     "output_type": "display_data"
    }
   ],
   "source": [
    "df_sub[df_sub.POINT_ID == 1].ssm.plot(title='Bodenfeuchte')"
   ]
  },
  {
   "cell_type": "markdown",
   "metadata": {},
   "source": [
    "## Specific time series selctions"
   ]
  },
  {
   "cell_type": "code",
   "execution_count": 183,
   "metadata": {
    "ExecuteTime": {
     "end_time": "2022-03-18T15:42:04.737452Z",
     "start_time": "2022-03-18T15:42:04.617675Z"
    }
   },
   "outputs": [],
   "source": [
    "df_ = pd.DataFrame({'POINT_ID' : df_sub.POINT_ID, 'USDA' : df_sub.USDA})\n",
    "df_.drop_duplicates(inplace=True)\n",
    "df1 = pd.concat([df_,df_.iloc[-2:-1]], ignore_index=False)\n",
    "df_['len_ts'] = df1.iloc[1:].index - df_.index\n",
    "df_ = df_.iloc[:-1].reset_index(drop=True)\n",
    "df_[['USDA', 'len_ts']].max()\n",
    "df_ = df_[df_.index.isin([x[1] for x in df_.groupby('USDA')['len_ts'].nlargest(1).index])]\n",
    "df_sub = df_sub[df_sub['POINT_ID'].isin(df_['POINT_ID'])]\n",
    "df_sub = df_sub[df_sub['date'].dt.month.isin([4,5,6,7,8,9,10])]"
   ]
  },
  {
   "cell_type": "code",
   "execution_count": 151,
   "metadata": {
    "ExecuteTime": {
     "end_time": "2022-03-18T15:10:45.766308Z",
     "start_time": "2022-03-18T15:10:44.515791Z"
    }
   },
   "outputs": [
    {
     "data": {
      "text/html": [
       "<div>\n",
       "<style scoped>\n",
       "    .dataframe tbody tr th:only-of-type {\n",
       "        vertical-align: middle;\n",
       "    }\n",
       "\n",
       "    .dataframe tbody tr th {\n",
       "        vertical-align: top;\n",
       "    }\n",
       "\n",
       "    .dataframe thead tr th {\n",
       "        text-align: left;\n",
       "    }\n",
       "\n",
       "    .dataframe thead tr:last-of-type th {\n",
       "        text-align: right;\n",
       "    }\n",
       "</style>\n",
       "<table border=\"1\" class=\"dataframe\">\n",
       "  <thead>\n",
       "    <tr>\n",
       "      <th></th>\n",
       "      <th colspan=\"8\" halign=\"left\">VV</th>\n",
       "      <th colspan=\"2\" halign=\"left\">VH</th>\n",
       "      <th>...</th>\n",
       "      <th colspan=\"2\" halign=\"left\">platform_A</th>\n",
       "      <th colspan=\"8\" halign=\"left\">platform_B</th>\n",
       "    </tr>\n",
       "    <tr>\n",
       "      <th></th>\n",
       "      <th>count</th>\n",
       "      <th>mean</th>\n",
       "      <th>std</th>\n",
       "      <th>min</th>\n",
       "      <th>25%</th>\n",
       "      <th>50%</th>\n",
       "      <th>75%</th>\n",
       "      <th>max</th>\n",
       "      <th>count</th>\n",
       "      <th>mean</th>\n",
       "      <th>...</th>\n",
       "      <th>75%</th>\n",
       "      <th>max</th>\n",
       "      <th>count</th>\n",
       "      <th>mean</th>\n",
       "      <th>std</th>\n",
       "      <th>min</th>\n",
       "      <th>25%</th>\n",
       "      <th>50%</th>\n",
       "      <th>75%</th>\n",
       "      <th>max</th>\n",
       "    </tr>\n",
       "    <tr>\n",
       "      <th>POINT_ID</th>\n",
       "      <th></th>\n",
       "      <th></th>\n",
       "      <th></th>\n",
       "      <th></th>\n",
       "      <th></th>\n",
       "      <th></th>\n",
       "      <th></th>\n",
       "      <th></th>\n",
       "      <th></th>\n",
       "      <th></th>\n",
       "      <th></th>\n",
       "      <th></th>\n",
       "      <th></th>\n",
       "      <th></th>\n",
       "      <th></th>\n",
       "      <th></th>\n",
       "      <th></th>\n",
       "      <th></th>\n",
       "      <th></th>\n",
       "      <th></th>\n",
       "      <th></th>\n",
       "    </tr>\n",
       "  </thead>\n",
       "  <tbody>\n",
       "    <tr>\n",
       "      <th>41783392</th>\n",
       "      <td>421.0</td>\n",
       "      <td>-12.012278</td>\n",
       "      <td>2.303266</td>\n",
       "      <td>-18.129573</td>\n",
       "      <td>-13.516586</td>\n",
       "      <td>-12.275100</td>\n",
       "      <td>-10.706007</td>\n",
       "      <td>-3.614475</td>\n",
       "      <td>421.0</td>\n",
       "      <td>-18.584368</td>\n",
       "      <td>...</td>\n",
       "      <td>1.0</td>\n",
       "      <td>1.0</td>\n",
       "      <td>421.0</td>\n",
       "      <td>0.494062</td>\n",
       "      <td>0.500560</td>\n",
       "      <td>0.0</td>\n",
       "      <td>0.0</td>\n",
       "      <td>0.0</td>\n",
       "      <td>1.0</td>\n",
       "      <td>1.0</td>\n",
       "    </tr>\n",
       "    <tr>\n",
       "      <th>42763462</th>\n",
       "      <td>422.0</td>\n",
       "      <td>-11.145862</td>\n",
       "      <td>2.229776</td>\n",
       "      <td>-17.482530</td>\n",
       "      <td>-12.697266</td>\n",
       "      <td>-11.246510</td>\n",
       "      <td>-9.775974</td>\n",
       "      <td>-3.315676</td>\n",
       "      <td>422.0</td>\n",
       "      <td>-17.789700</td>\n",
       "      <td>...</td>\n",
       "      <td>1.0</td>\n",
       "      <td>1.0</td>\n",
       "      <td>422.0</td>\n",
       "      <td>0.502370</td>\n",
       "      <td>0.500588</td>\n",
       "      <td>0.0</td>\n",
       "      <td>0.0</td>\n",
       "      <td>1.0</td>\n",
       "      <td>1.0</td>\n",
       "      <td>1.0</td>\n",
       "    </tr>\n",
       "    <tr>\n",
       "      <th>42783474</th>\n",
       "      <td>422.0</td>\n",
       "      <td>-13.770646</td>\n",
       "      <td>2.579920</td>\n",
       "      <td>-24.449466</td>\n",
       "      <td>-15.401611</td>\n",
       "      <td>-13.756260</td>\n",
       "      <td>-12.097021</td>\n",
       "      <td>-5.964079</td>\n",
       "      <td>422.0</td>\n",
       "      <td>-19.227087</td>\n",
       "      <td>...</td>\n",
       "      <td>1.0</td>\n",
       "      <td>1.0</td>\n",
       "      <td>422.0</td>\n",
       "      <td>0.502370</td>\n",
       "      <td>0.500588</td>\n",
       "      <td>0.0</td>\n",
       "      <td>0.0</td>\n",
       "      <td>1.0</td>\n",
       "      <td>1.0</td>\n",
       "      <td>1.0</td>\n",
       "    </tr>\n",
       "    <tr>\n",
       "      <th>43723086</th>\n",
       "      <td>421.0</td>\n",
       "      <td>-15.020651</td>\n",
       "      <td>2.029134</td>\n",
       "      <td>-20.831944</td>\n",
       "      <td>-16.223707</td>\n",
       "      <td>-15.035761</td>\n",
       "      <td>-13.783424</td>\n",
       "      <td>-8.535576</td>\n",
       "      <td>421.0</td>\n",
       "      <td>-21.538502</td>\n",
       "      <td>...</td>\n",
       "      <td>1.0</td>\n",
       "      <td>1.0</td>\n",
       "      <td>421.0</td>\n",
       "      <td>0.501188</td>\n",
       "      <td>0.500593</td>\n",
       "      <td>0.0</td>\n",
       "      <td>0.0</td>\n",
       "      <td>1.0</td>\n",
       "      <td>1.0</td>\n",
       "      <td>1.0</td>\n",
       "    </tr>\n",
       "    <tr>\n",
       "      <th>44523310</th>\n",
       "      <td>422.0</td>\n",
       "      <td>-15.799983</td>\n",
       "      <td>2.113611</td>\n",
       "      <td>-21.486450</td>\n",
       "      <td>-17.187709</td>\n",
       "      <td>-15.740334</td>\n",
       "      <td>-14.402459</td>\n",
       "      <td>-6.901968</td>\n",
       "      <td>422.0</td>\n",
       "      <td>-22.404826</td>\n",
       "      <td>...</td>\n",
       "      <td>1.0</td>\n",
       "      <td>1.0</td>\n",
       "      <td>422.0</td>\n",
       "      <td>0.500000</td>\n",
       "      <td>0.500593</td>\n",
       "      <td>0.0</td>\n",
       "      <td>0.0</td>\n",
       "      <td>0.5</td>\n",
       "      <td>1.0</td>\n",
       "      <td>1.0</td>\n",
       "    </tr>\n",
       "    <tr>\n",
       "      <th>45203356</th>\n",
       "      <td>422.0</td>\n",
       "      <td>-14.569066</td>\n",
       "      <td>2.217895</td>\n",
       "      <td>-21.021114</td>\n",
       "      <td>-16.074982</td>\n",
       "      <td>-14.615121</td>\n",
       "      <td>-13.084515</td>\n",
       "      <td>-7.937853</td>\n",
       "      <td>422.0</td>\n",
       "      <td>-20.525936</td>\n",
       "      <td>...</td>\n",
       "      <td>1.0</td>\n",
       "      <td>1.0</td>\n",
       "      <td>422.0</td>\n",
       "      <td>0.497630</td>\n",
       "      <td>0.500588</td>\n",
       "      <td>0.0</td>\n",
       "      <td>0.0</td>\n",
       "      <td>0.0</td>\n",
       "      <td>1.0</td>\n",
       "      <td>1.0</td>\n",
       "    </tr>\n",
       "    <tr>\n",
       "      <th>45282904</th>\n",
       "      <td>316.0</td>\n",
       "      <td>-13.411638</td>\n",
       "      <td>2.161696</td>\n",
       "      <td>-19.362743</td>\n",
       "      <td>-14.780158</td>\n",
       "      <td>-13.319302</td>\n",
       "      <td>-11.875593</td>\n",
       "      <td>-7.419550</td>\n",
       "      <td>316.0</td>\n",
       "      <td>-19.634217</td>\n",
       "      <td>...</td>\n",
       "      <td>1.0</td>\n",
       "      <td>1.0</td>\n",
       "      <td>316.0</td>\n",
       "      <td>0.500000</td>\n",
       "      <td>0.500793</td>\n",
       "      <td>0.0</td>\n",
       "      <td>0.0</td>\n",
       "      <td>0.5</td>\n",
       "      <td>1.0</td>\n",
       "      <td>1.0</td>\n",
       "    </tr>\n",
       "    <tr>\n",
       "      <th>45383306</th>\n",
       "      <td>423.0</td>\n",
       "      <td>-13.509875</td>\n",
       "      <td>2.306687</td>\n",
       "      <td>-21.036547</td>\n",
       "      <td>-14.958814</td>\n",
       "      <td>-13.360559</td>\n",
       "      <td>-12.000999</td>\n",
       "      <td>-5.494248</td>\n",
       "      <td>423.0</td>\n",
       "      <td>-20.377195</td>\n",
       "      <td>...</td>\n",
       "      <td>1.0</td>\n",
       "      <td>1.0</td>\n",
       "      <td>423.0</td>\n",
       "      <td>0.498818</td>\n",
       "      <td>0.500591</td>\n",
       "      <td>0.0</td>\n",
       "      <td>0.0</td>\n",
       "      <td>0.0</td>\n",
       "      <td>1.0</td>\n",
       "      <td>1.0</td>\n",
       "    </tr>\n",
       "    <tr>\n",
       "      <th>46003390</th>\n",
       "      <td>425.0</td>\n",
       "      <td>-14.988658</td>\n",
       "      <td>2.604301</td>\n",
       "      <td>-22.696152</td>\n",
       "      <td>-16.789942</td>\n",
       "      <td>-14.952623</td>\n",
       "      <td>-13.073280</td>\n",
       "      <td>-7.237887</td>\n",
       "      <td>425.0</td>\n",
       "      <td>-21.452820</td>\n",
       "      <td>...</td>\n",
       "      <td>1.0</td>\n",
       "      <td>1.0</td>\n",
       "      <td>425.0</td>\n",
       "      <td>0.501176</td>\n",
       "      <td>0.500588</td>\n",
       "      <td>0.0</td>\n",
       "      <td>0.0</td>\n",
       "      <td>1.0</td>\n",
       "      <td>1.0</td>\n",
       "      <td>1.0</td>\n",
       "    </tr>\n",
       "    <tr>\n",
       "      <th>46323122</th>\n",
       "      <td>424.0</td>\n",
       "      <td>-13.271268</td>\n",
       "      <td>1.979653</td>\n",
       "      <td>-19.171736</td>\n",
       "      <td>-14.582569</td>\n",
       "      <td>-13.308278</td>\n",
       "      <td>-12.009378</td>\n",
       "      <td>-7.769549</td>\n",
       "      <td>424.0</td>\n",
       "      <td>-18.732137</td>\n",
       "      <td>...</td>\n",
       "      <td>1.0</td>\n",
       "      <td>1.0</td>\n",
       "      <td>424.0</td>\n",
       "      <td>0.497642</td>\n",
       "      <td>0.500585</td>\n",
       "      <td>0.0</td>\n",
       "      <td>0.0</td>\n",
       "      <td>0.0</td>\n",
       "      <td>1.0</td>\n",
       "      <td>1.0</td>\n",
       "    </tr>\n",
       "  </tbody>\n",
       "</table>\n",
       "<p>10 rows × 712 columns</p>\n",
       "</div>"
      ],
      "text/plain": [
       "             VV                                                        \\\n",
       "          count       mean       std        min        25%        50%   \n",
       "POINT_ID                                                                \n",
       "41783392  421.0 -12.012278  2.303266 -18.129573 -13.516586 -12.275100   \n",
       "42763462  422.0 -11.145862  2.229776 -17.482530 -12.697266 -11.246510   \n",
       "42783474  422.0 -13.770646  2.579920 -24.449466 -15.401611 -13.756260   \n",
       "43723086  421.0 -15.020651  2.029134 -20.831944 -16.223707 -15.035761   \n",
       "44523310  422.0 -15.799983  2.113611 -21.486450 -17.187709 -15.740334   \n",
       "45203356  422.0 -14.569066  2.217895 -21.021114 -16.074982 -14.615121   \n",
       "45282904  316.0 -13.411638  2.161696 -19.362743 -14.780158 -13.319302   \n",
       "45383306  423.0 -13.509875  2.306687 -21.036547 -14.958814 -13.360559   \n",
       "46003390  425.0 -14.988658  2.604301 -22.696152 -16.789942 -14.952623   \n",
       "46323122  424.0 -13.271268  1.979653 -19.171736 -14.582569 -13.308278   \n",
       "\n",
       "                                  VH             ... platform_A       \\\n",
       "                75%       max  count       mean  ...        75%  max   \n",
       "POINT_ID                                         ...                   \n",
       "41783392 -10.706007 -3.614475  421.0 -18.584368  ...        1.0  1.0   \n",
       "42763462  -9.775974 -3.315676  422.0 -17.789700  ...        1.0  1.0   \n",
       "42783474 -12.097021 -5.964079  422.0 -19.227087  ...        1.0  1.0   \n",
       "43723086 -13.783424 -8.535576  421.0 -21.538502  ...        1.0  1.0   \n",
       "44523310 -14.402459 -6.901968  422.0 -22.404826  ...        1.0  1.0   \n",
       "45203356 -13.084515 -7.937853  422.0 -20.525936  ...        1.0  1.0   \n",
       "45282904 -11.875593 -7.419550  316.0 -19.634217  ...        1.0  1.0   \n",
       "45383306 -12.000999 -5.494248  423.0 -20.377195  ...        1.0  1.0   \n",
       "46003390 -13.073280 -7.237887  425.0 -21.452820  ...        1.0  1.0   \n",
       "46323122 -12.009378 -7.769549  424.0 -18.732137  ...        1.0  1.0   \n",
       "\n",
       "         platform_B                                               \n",
       "              count      mean       std  min  25%  50%  75%  max  \n",
       "POINT_ID                                                          \n",
       "41783392      421.0  0.494062  0.500560  0.0  0.0  0.0  1.0  1.0  \n",
       "42763462      422.0  0.502370  0.500588  0.0  0.0  1.0  1.0  1.0  \n",
       "42783474      422.0  0.502370  0.500588  0.0  0.0  1.0  1.0  1.0  \n",
       "43723086      421.0  0.501188  0.500593  0.0  0.0  1.0  1.0  1.0  \n",
       "44523310      422.0  0.500000  0.500593  0.0  0.0  0.5  1.0  1.0  \n",
       "45203356      422.0  0.497630  0.500588  0.0  0.0  0.0  1.0  1.0  \n",
       "45282904      316.0  0.500000  0.500793  0.0  0.0  0.5  1.0  1.0  \n",
       "45383306      423.0  0.498818  0.500591  0.0  0.0  0.0  1.0  1.0  \n",
       "46003390      425.0  0.501176  0.500588  0.0  0.0  1.0  1.0  1.0  \n",
       "46323122      424.0  0.497642  0.500585  0.0  0.0  0.0  1.0  1.0  \n",
       "\n",
       "[10 rows x 712 columns]"
      ]
     },
     "execution_count": 151,
     "metadata": {},
     "output_type": "execute_result"
    }
   ],
   "source": [
    "df_sub.groupby('POINT_ID').describe()"
   ]
  },
  {
   "cell_type": "code",
   "execution_count": null,
   "metadata": {},
   "outputs": [],
   "source": []
  },
  {
   "cell_type": "markdown",
   "metadata": {},
   "source": [
    "## Outlizers\n",
    "Maybe not necesarry with 30m mean values from s1 s2 era5?"
   ]
  },
  {
   "cell_type": "code",
   "execution_count": null,
   "metadata": {
    "ExecuteTime": {
     "end_time": "2022-03-18T11:14:18.927732Z",
     "start_time": "2022-03-18T11:14:18.667539Z"
    }
   },
   "outputs": [],
   "source": [
    "# Drop lower and upper 1% of data to eliminate outliers\n",
    "for column in ['VV', 'VH', 'NDVI', 'ssm']:\n",
    "    df_sub = df_sub[df_sub[column].gt(gdf[column].quantile(0.01)) & df_sub[column].lt(df_sub[column].quantile(0.99))]"
   ]
  },
  {
   "cell_type": "code",
   "execution_count": null,
   "metadata": {
    "ExecuteTime": {
     "end_time": "2022-03-18T13:14:29.973546Z",
     "start_time": "2022-03-18T13:14:29.953472Z"
    }
   },
   "outputs": [],
   "source": [
    "print(len(df_sub))"
   ]
  },
  {
   "cell_type": "markdown",
   "metadata": {},
   "source": [
    "## Normalization"
   ]
  },
  {
   "cell_type": "markdown",
   "metadata": {},
   "source": [
    "### for all values together"
   ]
  },
  {
   "cell_type": "code",
   "execution_count": 37,
   "metadata": {
    "ExecuteTime": {
     "end_time": "2022-03-25T17:56:38.520785Z",
     "start_time": "2022-03-25T17:56:38.489543Z"
    }
   },
   "outputs": [],
   "source": [
    "scaler = MinMaxScaler() \n",
    "df_sub.loc[:,['VV', 'VH', 'NDVI','angle', 'day_of_year',\n",
    "             'pp_24h', 'pp_48h', 'pp_72h','mean_2m_air_temperature','maximum_2m_air_temperature',\n",
    "                'minimum_2m_air_temperature', 'Blue', 'Green', 'Red', 'RedEdge1', 'RedEdge2', 'RedEdge3', \n",
    "                'RedEdge4', 'NIR', 'WaterVapor', 'SWIR1', 'SWIR2', 'ssm']\n",
    "          ] = scaler.fit_transform(df_sub.loc[:,['VV', 'VH', 'NDVI','angle', 'day_of_year', \n",
    "             'pp_24h', 'pp_48h', 'pp_72h','mean_2m_air_temperature','maximum_2m_air_temperature',\n",
    "                'minimum_2m_air_temperature', 'Blue', 'Green', 'Red', 'RedEdge1', 'RedEdge2', 'RedEdge3', \n",
    "                'RedEdge4', 'NIR', 'WaterVapor', 'SWIR1', 'SWIR2', 'ssm']]) \n",
    "\n",
    "df_sub.dropna(how='any', subset=['VV', 'VH', 'NDVI','angle', 'day_of_year','minimum_2m_air_temperature',\n",
    "             'pp_24h', 'pp_48h', 'pp_72h','mean_2m_air_temperature','maximum_2m_air_temperature',\n",
    "                'minimum_2m_air_temperature', 'Blue', 'Green', 'Red', 'RedEdge1', 'RedEdge2', 'RedEdge3', \n",
    "                'RedEdge4', 'NIR', 'WaterVapor', 'SWIR1', 'SWIR2', 'ssm'],inplace=True)\n",
    "df_sub.reset_index(drop=True, inplace=True)"
   ]
  },
  {
   "cell_type": "code",
   "execution_count": null,
   "metadata": {
    "ExecuteTime": {
     "end_time": "2022-03-18T13:15:42.353689Z",
     "start_time": "2022-03-18T13:15:42.333593Z"
    }
   },
   "outputs": [],
   "source": [
    "list(df_sub.columns)\n",
    "df_sub.coarse.max()"
   ]
  },
  {
   "cell_type": "markdown",
   "metadata": {},
   "source": [
    "### for percentage values"
   ]
  },
  {
   "cell_type": "code",
   "execution_count": null,
   "metadata": {
    "ExecuteTime": {
     "end_time": "2022-03-18T13:16:02.753505Z",
     "start_time": "2022-03-18T13:16:02.713729Z"
    }
   },
   "outputs": [],
   "source": [
    "df_sub.loc[:,['sand', 'silt', 'clay', 'coarse']] = df_sub.loc[:,['sand', 'silt', 'clay', 'coarse']] / 100"
   ]
  },
  {
   "cell_type": "markdown",
   "metadata": {},
   "source": [
    "### for every location indepentently"
   ]
  },
  {
   "cell_type": "code",
   "execution_count": null,
   "metadata": {},
   "outputs": [],
   "source": [
    "scaler = MinMaxScaler() \n",
    "df_sub.loc[:,['VV', 'VH', 'angle', 'NDVI', 'day_of_year', 'minimum_2m_air_temperature','pp_24h', 'pp_48h', 'pp_72h']] = df_sub.groupby('POINT_ID')[['VV', 'VH', 'angle', 'NDVI', 'day_of_year', 'minimum_2m_air_temperature','pp_24h', 'pp_48h', 'pp_72h']].agg(scaler.fit_transform()) "
   ]
  },
  {
   "cell_type": "markdown",
   "metadata": {},
   "source": [
    "https://www.tensorflow.org/tutorials/structured_data/time_series normalize only with training data"
   ]
  },
  {
   "cell_type": "code",
   "execution_count": null,
   "metadata": {
    "ExecuteTime": {
     "start_time": "2022-03-07T19:47:13.857Z"
    }
   },
   "outputs": [],
   "source": [
    "# Normalize Data\n",
    "df_sub['VV'] = df_sub.groupby('POINT_ID')['VV'].transform(lambda x: (x - x.mean()) / x.std())\n",
    "df_sub['VH'] = df_sub.groupby('POINT_ID')['VH'].transform(lambda x: (x - x.mean()) / x.std())\n",
    "df_sub['angle'] = df_sub.groupby('POINT_ID')['angle'].transform(lambda x: (x - x.mean()) / x.std())\n",
    "df_sub['NDVI'] = df_sub.groupby('POINT_ID')['NDVI'].transform(lambda x: (x - x.mean()) / x.std())\n",
    "df_sub['day_of_year'] = df_sub.groupby('POINT_ID')['day_of_year'].transform(lambda x: (x - x.mean()) / x.std())\n",
    "df_sub['dewpoint_2m_temperature'] = df_sub.groupby('POINT_ID')['dewpoint_2m_temperature'].transform(lambda x: (x - x.mean()) / x.std())\n",
    "df_sub['maximum_2m_air_temperature'] = df_sub.groupby('POINT_ID')['maximum_2m_air_temperature'].transform(lambda x: (x - x.mean()) / x.std())\n",
    "df_sub['mean_2m_air_temperature'] = df_sub.groupby('POINT_ID')['mean_2m_air_temperature'].transform(lambda x: (x - x.mean()) / x.std())\n",
    "df_sub['minimum_2m_air_temperature'] = df_sub.groupby('POINT_ID')['minimum_2m_air_temperature'].transform(lambda x: (x - x.mean()) / x.std())\n",
    "df_sub['surface_pressure'] = df_sub.groupby('POINT_ID')['surface_pressure'].transform(lambda x: (x - x.mean()) / x.std())\n",
    "df_sub['total_precipitation'] = df_sub['total_precipitation'].apply(lambda x: (x - df_sub['total_precipitation'].mean()) / df_sub['total_precipitation'].std())\n",
    "df_sub['u_component_of_wind_10m'] = df_sub.groupby('POINT_ID')['u_component_of_wind_10m'].transform(lambda x: (x - x.mean()) / x.std())\n",
    "df_sub['v_component_of_wind_10m'] = df_sub.groupby('POINT_ID')['v_component_of_wind_10m'].transform(lambda x: (x - x.mean()) / x.std())\n",
    "\n",
    "df_sub.reset_index(drop=True, inplace=True)"
   ]
  },
  {
   "cell_type": "markdown",
   "metadata": {},
   "source": [
    "## Plot normalized Distribution "
   ]
  },
  {
   "cell_type": "code",
   "execution_count": null,
   "metadata": {
    "ExecuteTime": {
     "end_time": "2022-03-17T13:33:22.932412Z",
     "start_time": "2022-03-17T13:29:59.192242Z"
    }
   },
   "outputs": [],
   "source": [
    "df_std = (df_sub.iloc[:,2:11] - df_sub.iloc[:,2:11].mean()) / df_sub.iloc[:,2:11].std()\n",
    "df_std = df_std.melt(var_name='Column', value_name='Normalized')\n",
    "plt.figure(figsize=(12, 6))\n",
    "ax = sns.violinplot(x='Column', y='Normalized', data=df_std)\n",
    "_ = ax.set_xticklabels(df_sub.iloc[:,2:11].keys(), rotation=90)"
   ]
  },
  {
   "cell_type": "code",
   "execution_count": null,
   "metadata": {
    "ExecuteTime": {
     "end_time": "2022-03-12T09:59:35.405178Z",
     "start_time": "2022-03-12T09:59:35.373941Z"
    }
   },
   "outputs": [],
   "source": [
    "df_sub.columns"
   ]
  },
  {
   "cell_type": "markdown",
   "metadata": {},
   "source": [
    "# Import point without any information of soil"
   ]
  },
  {
   "cell_type": "code",
   "execution_count": 8,
   "metadata": {
    "ExecuteTime": {
     "end_time": "2022-04-06T08:53:42.650047Z",
     "start_time": "2022-04-06T08:53:42.257651Z"
    }
   },
   "outputs": [
    {
     "ename": "FileNotFoundError",
     "evalue": "[Errno 2] No such file or directory: b'C:\\\\opt\\\\bitnami\\\\projects\\\\data\\\\AI_models\\\\precipitation_1km.nc'",
     "output_type": "error",
     "traceback": [
      "\u001b[1;31m---------------------------------------------------------------------------\u001b[0m",
      "\u001b[1;31mKeyError\u001b[0m                                  Traceback (most recent call last)",
      "\u001b[1;32m~\\Anaconda3\\envs\\dev1\\lib\\site-packages\\xarray\\backends\\file_manager.py\u001b[0m in \u001b[0;36m_acquire_with_cache_info\u001b[1;34m(self, needs_lock)\u001b[0m\n\u001b[0;32m    198\u001b[0m             \u001b[1;32mtry\u001b[0m\u001b[1;33m:\u001b[0m\u001b[1;33m\u001b[0m\u001b[1;33m\u001b[0m\u001b[0m\n\u001b[1;32m--> 199\u001b[1;33m                 \u001b[0mfile\u001b[0m \u001b[1;33m=\u001b[0m \u001b[0mself\u001b[0m\u001b[1;33m.\u001b[0m\u001b[0m_cache\u001b[0m\u001b[1;33m[\u001b[0m\u001b[0mself\u001b[0m\u001b[1;33m.\u001b[0m\u001b[0m_key\u001b[0m\u001b[1;33m]\u001b[0m\u001b[1;33m\u001b[0m\u001b[1;33m\u001b[0m\u001b[0m\n\u001b[0m\u001b[0;32m    200\u001b[0m             \u001b[1;32mexcept\u001b[0m \u001b[0mKeyError\u001b[0m\u001b[1;33m:\u001b[0m\u001b[1;33m\u001b[0m\u001b[1;33m\u001b[0m\u001b[0m\n",
      "\u001b[1;32m~\\Anaconda3\\envs\\dev1\\lib\\site-packages\\xarray\\backends\\lru_cache.py\u001b[0m in \u001b[0;36m__getitem__\u001b[1;34m(self, key)\u001b[0m\n\u001b[0;32m     52\u001b[0m         \u001b[1;32mwith\u001b[0m \u001b[0mself\u001b[0m\u001b[1;33m.\u001b[0m\u001b[0m_lock\u001b[0m\u001b[1;33m:\u001b[0m\u001b[1;33m\u001b[0m\u001b[1;33m\u001b[0m\u001b[0m\n\u001b[1;32m---> 53\u001b[1;33m             \u001b[0mvalue\u001b[0m \u001b[1;33m=\u001b[0m \u001b[0mself\u001b[0m\u001b[1;33m.\u001b[0m\u001b[0m_cache\u001b[0m\u001b[1;33m[\u001b[0m\u001b[0mkey\u001b[0m\u001b[1;33m]\u001b[0m\u001b[1;33m\u001b[0m\u001b[1;33m\u001b[0m\u001b[0m\n\u001b[0m\u001b[0;32m     54\u001b[0m             \u001b[0mself\u001b[0m\u001b[1;33m.\u001b[0m\u001b[0m_cache\u001b[0m\u001b[1;33m.\u001b[0m\u001b[0mmove_to_end\u001b[0m\u001b[1;33m(\u001b[0m\u001b[0mkey\u001b[0m\u001b[1;33m)\u001b[0m\u001b[1;33m\u001b[0m\u001b[1;33m\u001b[0m\u001b[0m\n",
      "\u001b[1;31mKeyError\u001b[0m: [<class 'netCDF4._netCDF4.Dataset'>, ('C:\\\\opt\\\\bitnami\\\\projects\\\\data\\\\AI_models\\\\precipitation_1km.nc',), 'r', (('clobber', True), ('diskless', False), ('format', 'NETCDF4'), ('persist', False))]",
      "\nDuring handling of the above exception, another exception occurred:\n",
      "\u001b[1;31mFileNotFoundError\u001b[0m                         Traceback (most recent call last)",
      "\u001b[1;32m~\\AppData\\Local\\Temp\\ipykernel_13052\\1459889276.py\u001b[0m in \u001b[0;36m<module>\u001b[1;34m\u001b[0m\n\u001b[1;32m----> 1\u001b[1;33m \u001b[0mgdf\u001b[0m \u001b[1;33m=\u001b[0m \u001b[0madd_radolan_sf\u001b[0m\u001b[1;33m(\u001b[0m\u001b[1;34mr'C:\\Users\\USER\\Desktop\\Master_Irrigation\\03_GIS\\soil_classification\\download_ts\\ried_soil_samples_30m_17-19\\POINT_ID_1_8.5332_49.9083.geojson'\u001b[0m\u001b[1;33m)\u001b[0m\u001b[1;33m\u001b[0m\u001b[1;33m\u001b[0m\u001b[0m\n\u001b[0m\u001b[0;32m      2\u001b[0m \u001b[0mgdf\u001b[0m \u001b[1;33m=\u001b[0m \u001b[0mprepare_data\u001b[0m\u001b[1;33m(\u001b[0m\u001b[0mgdf\u001b[0m\u001b[1;33m)\u001b[0m\u001b[1;33m\u001b[0m\u001b[1;33m\u001b[0m\u001b[0m\n",
      "\u001b[1;32m~\\AppData\\Local\\Temp\\ipykernel_13052\\3809423135.py\u001b[0m in \u001b[0;36madd_radolan_sf\u001b[1;34m(filepath)\u001b[0m\n\u001b[0;32m     13\u001b[0m     \u001b[0mgdf\u001b[0m\u001b[1;33m[\u001b[0m\u001b[1;34m'day_of_year'\u001b[0m\u001b[1;33m]\u001b[0m \u001b[1;33m=\u001b[0m \u001b[0mgdf\u001b[0m\u001b[1;33m[\u001b[0m\u001b[1;34m'date'\u001b[0m\u001b[1;33m]\u001b[0m\u001b[1;33m.\u001b[0m\u001b[0mdt\u001b[0m\u001b[1;33m.\u001b[0m\u001b[0mday_of_year\u001b[0m\u001b[1;33m\u001b[0m\u001b[1;33m\u001b[0m\u001b[0m\n\u001b[0;32m     14\u001b[0m \u001b[1;33m\u001b[0m\u001b[0m\n\u001b[1;32m---> 15\u001b[1;33m     \u001b[0mRADOLAN\u001b[0m \u001b[1;33m=\u001b[0m \u001b[0mxr\u001b[0m\u001b[1;33m.\u001b[0m\u001b[0mopen_dataset\u001b[0m\u001b[1;33m(\u001b[0m\u001b[1;34m'/opt/bitnami/projects/data/AI_models/precipitation_1km.nc'\u001b[0m\u001b[1;33m)\u001b[0m\u001b[1;33m\u001b[0m\u001b[1;33m\u001b[0m\u001b[0m\n\u001b[0m\u001b[0;32m     16\u001b[0m     \u001b[0mpp_24h\u001b[0m\u001b[1;33m,\u001b[0m \u001b[0mpp_48h\u001b[0m\u001b[1;33m,\u001b[0m \u001b[0mpp_72h\u001b[0m \u001b[1;33m=\u001b[0m \u001b[0mlist\u001b[0m\u001b[1;33m(\u001b[0m\u001b[1;33m)\u001b[0m\u001b[1;33m,\u001b[0m \u001b[0mlist\u001b[0m\u001b[1;33m(\u001b[0m\u001b[1;33m)\u001b[0m\u001b[1;33m,\u001b[0m \u001b[0mlist\u001b[0m\u001b[1;33m(\u001b[0m\u001b[1;33m)\u001b[0m\u001b[1;33m\u001b[0m\u001b[1;33m\u001b[0m\u001b[0m\n\u001b[0;32m     17\u001b[0m     \u001b[0mmidday\u001b[0m \u001b[1;33m=\u001b[0m \u001b[0mdt\u001b[0m\u001b[1;33m.\u001b[0m\u001b[0mtime\u001b[0m\u001b[1;33m(\u001b[0m\u001b[1;36m12\u001b[0m\u001b[1;33m,\u001b[0m\u001b[1;36m0\u001b[0m\u001b[1;33m)\u001b[0m\u001b[1;33m\u001b[0m\u001b[1;33m\u001b[0m\u001b[0m\n",
      "\u001b[1;32m~\\Anaconda3\\envs\\dev1\\lib\\site-packages\\xarray\\backends\\api.py\u001b[0m in \u001b[0;36mopen_dataset\u001b[1;34m(filename_or_obj, engine, chunks, cache, decode_cf, mask_and_scale, decode_times, decode_timedelta, use_cftime, concat_characters, decode_coords, drop_variables, backend_kwargs, *args, **kwargs)\u001b[0m\n\u001b[0;32m    497\u001b[0m         \u001b[0mdrop_variables\u001b[0m\u001b[1;33m=\u001b[0m\u001b[0mdrop_variables\u001b[0m\u001b[1;33m,\u001b[0m\u001b[1;33m\u001b[0m\u001b[1;33m\u001b[0m\u001b[0m\n\u001b[0;32m    498\u001b[0m         \u001b[1;33m**\u001b[0m\u001b[0mdecoders\u001b[0m\u001b[1;33m,\u001b[0m\u001b[1;33m\u001b[0m\u001b[1;33m\u001b[0m\u001b[0m\n\u001b[1;32m--> 499\u001b[1;33m         \u001b[1;33m**\u001b[0m\u001b[0mkwargs\u001b[0m\u001b[1;33m,\u001b[0m\u001b[1;33m\u001b[0m\u001b[1;33m\u001b[0m\u001b[0m\n\u001b[0m\u001b[0;32m    500\u001b[0m     )\n\u001b[0;32m    501\u001b[0m     ds = _dataset_from_backend_dataset(\n",
      "\u001b[1;32m~\\Anaconda3\\envs\\dev1\\lib\\site-packages\\xarray\\backends\\netCDF4_.py\u001b[0m in \u001b[0;36mopen_dataset\u001b[1;34m(self, filename_or_obj, mask_and_scale, decode_times, concat_characters, decode_coords, drop_variables, use_cftime, decode_timedelta, group, mode, format, clobber, diskless, persist, lock, autoclose)\u001b[0m\n\u001b[0;32m    557\u001b[0m             \u001b[0mpersist\u001b[0m\u001b[1;33m=\u001b[0m\u001b[0mpersist\u001b[0m\u001b[1;33m,\u001b[0m\u001b[1;33m\u001b[0m\u001b[1;33m\u001b[0m\u001b[0m\n\u001b[0;32m    558\u001b[0m             \u001b[0mlock\u001b[0m\u001b[1;33m=\u001b[0m\u001b[0mlock\u001b[0m\u001b[1;33m,\u001b[0m\u001b[1;33m\u001b[0m\u001b[1;33m\u001b[0m\u001b[0m\n\u001b[1;32m--> 559\u001b[1;33m             \u001b[0mautoclose\u001b[0m\u001b[1;33m=\u001b[0m\u001b[0mautoclose\u001b[0m\u001b[1;33m,\u001b[0m\u001b[1;33m\u001b[0m\u001b[1;33m\u001b[0m\u001b[0m\n\u001b[0m\u001b[0;32m    560\u001b[0m         )\n\u001b[0;32m    561\u001b[0m \u001b[1;33m\u001b[0m\u001b[0m\n",
      "\u001b[1;32m~\\Anaconda3\\envs\\dev1\\lib\\site-packages\\xarray\\backends\\netCDF4_.py\u001b[0m in \u001b[0;36mopen\u001b[1;34m(cls, filename, mode, format, group, clobber, diskless, persist, lock, lock_maker, autoclose)\u001b[0m\n\u001b[0;32m    377\u001b[0m             \u001b[0mnetCDF4\u001b[0m\u001b[1;33m.\u001b[0m\u001b[0mDataset\u001b[0m\u001b[1;33m,\u001b[0m \u001b[0mfilename\u001b[0m\u001b[1;33m,\u001b[0m \u001b[0mmode\u001b[0m\u001b[1;33m=\u001b[0m\u001b[0mmode\u001b[0m\u001b[1;33m,\u001b[0m \u001b[0mkwargs\u001b[0m\u001b[1;33m=\u001b[0m\u001b[0mkwargs\u001b[0m\u001b[1;33m\u001b[0m\u001b[1;33m\u001b[0m\u001b[0m\n\u001b[0;32m    378\u001b[0m         )\n\u001b[1;32m--> 379\u001b[1;33m         \u001b[1;32mreturn\u001b[0m \u001b[0mcls\u001b[0m\u001b[1;33m(\u001b[0m\u001b[0mmanager\u001b[0m\u001b[1;33m,\u001b[0m \u001b[0mgroup\u001b[0m\u001b[1;33m=\u001b[0m\u001b[0mgroup\u001b[0m\u001b[1;33m,\u001b[0m \u001b[0mmode\u001b[0m\u001b[1;33m=\u001b[0m\u001b[0mmode\u001b[0m\u001b[1;33m,\u001b[0m \u001b[0mlock\u001b[0m\u001b[1;33m=\u001b[0m\u001b[0mlock\u001b[0m\u001b[1;33m,\u001b[0m \u001b[0mautoclose\u001b[0m\u001b[1;33m=\u001b[0m\u001b[0mautoclose\u001b[0m\u001b[1;33m)\u001b[0m\u001b[1;33m\u001b[0m\u001b[1;33m\u001b[0m\u001b[0m\n\u001b[0m\u001b[0;32m    380\u001b[0m \u001b[1;33m\u001b[0m\u001b[0m\n\u001b[0;32m    381\u001b[0m     \u001b[1;32mdef\u001b[0m \u001b[0m_acquire\u001b[0m\u001b[1;33m(\u001b[0m\u001b[0mself\u001b[0m\u001b[1;33m,\u001b[0m \u001b[0mneeds_lock\u001b[0m\u001b[1;33m=\u001b[0m\u001b[1;32mTrue\u001b[0m\u001b[1;33m)\u001b[0m\u001b[1;33m:\u001b[0m\u001b[1;33m\u001b[0m\u001b[1;33m\u001b[0m\u001b[0m\n",
      "\u001b[1;32m~\\Anaconda3\\envs\\dev1\\lib\\site-packages\\xarray\\backends\\netCDF4_.py\u001b[0m in \u001b[0;36m__init__\u001b[1;34m(self, manager, group, mode, lock, autoclose)\u001b[0m\n\u001b[0;32m    325\u001b[0m         \u001b[0mself\u001b[0m\u001b[1;33m.\u001b[0m\u001b[0m_group\u001b[0m \u001b[1;33m=\u001b[0m \u001b[0mgroup\u001b[0m\u001b[1;33m\u001b[0m\u001b[1;33m\u001b[0m\u001b[0m\n\u001b[0;32m    326\u001b[0m         \u001b[0mself\u001b[0m\u001b[1;33m.\u001b[0m\u001b[0m_mode\u001b[0m \u001b[1;33m=\u001b[0m \u001b[0mmode\u001b[0m\u001b[1;33m\u001b[0m\u001b[1;33m\u001b[0m\u001b[0m\n\u001b[1;32m--> 327\u001b[1;33m         \u001b[0mself\u001b[0m\u001b[1;33m.\u001b[0m\u001b[0mformat\u001b[0m \u001b[1;33m=\u001b[0m \u001b[0mself\u001b[0m\u001b[1;33m.\u001b[0m\u001b[0mds\u001b[0m\u001b[1;33m.\u001b[0m\u001b[0mdata_model\u001b[0m\u001b[1;33m\u001b[0m\u001b[1;33m\u001b[0m\u001b[0m\n\u001b[0m\u001b[0;32m    328\u001b[0m         \u001b[0mself\u001b[0m\u001b[1;33m.\u001b[0m\u001b[0m_filename\u001b[0m \u001b[1;33m=\u001b[0m \u001b[0mself\u001b[0m\u001b[1;33m.\u001b[0m\u001b[0mds\u001b[0m\u001b[1;33m.\u001b[0m\u001b[0mfilepath\u001b[0m\u001b[1;33m(\u001b[0m\u001b[1;33m)\u001b[0m\u001b[1;33m\u001b[0m\u001b[1;33m\u001b[0m\u001b[0m\n\u001b[0;32m    329\u001b[0m         \u001b[0mself\u001b[0m\u001b[1;33m.\u001b[0m\u001b[0mis_remote\u001b[0m \u001b[1;33m=\u001b[0m \u001b[0mis_remote_uri\u001b[0m\u001b[1;33m(\u001b[0m\u001b[0mself\u001b[0m\u001b[1;33m.\u001b[0m\u001b[0m_filename\u001b[0m\u001b[1;33m)\u001b[0m\u001b[1;33m\u001b[0m\u001b[1;33m\u001b[0m\u001b[0m\n",
      "\u001b[1;32m~\\Anaconda3\\envs\\dev1\\lib\\site-packages\\xarray\\backends\\netCDF4_.py\u001b[0m in \u001b[0;36mds\u001b[1;34m(self)\u001b[0m\n\u001b[0;32m    386\u001b[0m     \u001b[1;33m@\u001b[0m\u001b[0mproperty\u001b[0m\u001b[1;33m\u001b[0m\u001b[1;33m\u001b[0m\u001b[0m\n\u001b[0;32m    387\u001b[0m     \u001b[1;32mdef\u001b[0m \u001b[0mds\u001b[0m\u001b[1;33m(\u001b[0m\u001b[0mself\u001b[0m\u001b[1;33m)\u001b[0m\u001b[1;33m:\u001b[0m\u001b[1;33m\u001b[0m\u001b[1;33m\u001b[0m\u001b[0m\n\u001b[1;32m--> 388\u001b[1;33m         \u001b[1;32mreturn\u001b[0m \u001b[0mself\u001b[0m\u001b[1;33m.\u001b[0m\u001b[0m_acquire\u001b[0m\u001b[1;33m(\u001b[0m\u001b[1;33m)\u001b[0m\u001b[1;33m\u001b[0m\u001b[1;33m\u001b[0m\u001b[0m\n\u001b[0m\u001b[0;32m    389\u001b[0m \u001b[1;33m\u001b[0m\u001b[0m\n\u001b[0;32m    390\u001b[0m     \u001b[1;32mdef\u001b[0m \u001b[0mopen_store_variable\u001b[0m\u001b[1;33m(\u001b[0m\u001b[0mself\u001b[0m\u001b[1;33m,\u001b[0m \u001b[0mname\u001b[0m\u001b[1;33m,\u001b[0m \u001b[0mvar\u001b[0m\u001b[1;33m)\u001b[0m\u001b[1;33m:\u001b[0m\u001b[1;33m\u001b[0m\u001b[1;33m\u001b[0m\u001b[0m\n",
      "\u001b[1;32m~\\Anaconda3\\envs\\dev1\\lib\\site-packages\\xarray\\backends\\netCDF4_.py\u001b[0m in \u001b[0;36m_acquire\u001b[1;34m(self, needs_lock)\u001b[0m\n\u001b[0;32m    380\u001b[0m \u001b[1;33m\u001b[0m\u001b[0m\n\u001b[0;32m    381\u001b[0m     \u001b[1;32mdef\u001b[0m \u001b[0m_acquire\u001b[0m\u001b[1;33m(\u001b[0m\u001b[0mself\u001b[0m\u001b[1;33m,\u001b[0m \u001b[0mneeds_lock\u001b[0m\u001b[1;33m=\u001b[0m\u001b[1;32mTrue\u001b[0m\u001b[1;33m)\u001b[0m\u001b[1;33m:\u001b[0m\u001b[1;33m\u001b[0m\u001b[1;33m\u001b[0m\u001b[0m\n\u001b[1;32m--> 382\u001b[1;33m         \u001b[1;32mwith\u001b[0m \u001b[0mself\u001b[0m\u001b[1;33m.\u001b[0m\u001b[0m_manager\u001b[0m\u001b[1;33m.\u001b[0m\u001b[0macquire_context\u001b[0m\u001b[1;33m(\u001b[0m\u001b[0mneeds_lock\u001b[0m\u001b[1;33m)\u001b[0m \u001b[1;32mas\u001b[0m \u001b[0mroot\u001b[0m\u001b[1;33m:\u001b[0m\u001b[1;33m\u001b[0m\u001b[1;33m\u001b[0m\u001b[0m\n\u001b[0m\u001b[0;32m    383\u001b[0m             \u001b[0mds\u001b[0m \u001b[1;33m=\u001b[0m \u001b[0m_nc4_require_group\u001b[0m\u001b[1;33m(\u001b[0m\u001b[0mroot\u001b[0m\u001b[1;33m,\u001b[0m \u001b[0mself\u001b[0m\u001b[1;33m.\u001b[0m\u001b[0m_group\u001b[0m\u001b[1;33m,\u001b[0m \u001b[0mself\u001b[0m\u001b[1;33m.\u001b[0m\u001b[0m_mode\u001b[0m\u001b[1;33m)\u001b[0m\u001b[1;33m\u001b[0m\u001b[1;33m\u001b[0m\u001b[0m\n\u001b[0;32m    384\u001b[0m         \u001b[1;32mreturn\u001b[0m \u001b[0mds\u001b[0m\u001b[1;33m\u001b[0m\u001b[1;33m\u001b[0m\u001b[0m\n",
      "\u001b[1;32m~\\Anaconda3\\envs\\dev1\\lib\\contextlib.py\u001b[0m in \u001b[0;36m__enter__\u001b[1;34m(self)\u001b[0m\n\u001b[0;32m    110\u001b[0m         \u001b[1;32mdel\u001b[0m \u001b[0mself\u001b[0m\u001b[1;33m.\u001b[0m\u001b[0margs\u001b[0m\u001b[1;33m,\u001b[0m \u001b[0mself\u001b[0m\u001b[1;33m.\u001b[0m\u001b[0mkwds\u001b[0m\u001b[1;33m,\u001b[0m \u001b[0mself\u001b[0m\u001b[1;33m.\u001b[0m\u001b[0mfunc\u001b[0m\u001b[1;33m\u001b[0m\u001b[1;33m\u001b[0m\u001b[0m\n\u001b[0;32m    111\u001b[0m         \u001b[1;32mtry\u001b[0m\u001b[1;33m:\u001b[0m\u001b[1;33m\u001b[0m\u001b[1;33m\u001b[0m\u001b[0m\n\u001b[1;32m--> 112\u001b[1;33m             \u001b[1;32mreturn\u001b[0m \u001b[0mnext\u001b[0m\u001b[1;33m(\u001b[0m\u001b[0mself\u001b[0m\u001b[1;33m.\u001b[0m\u001b[0mgen\u001b[0m\u001b[1;33m)\u001b[0m\u001b[1;33m\u001b[0m\u001b[1;33m\u001b[0m\u001b[0m\n\u001b[0m\u001b[0;32m    113\u001b[0m         \u001b[1;32mexcept\u001b[0m \u001b[0mStopIteration\u001b[0m\u001b[1;33m:\u001b[0m\u001b[1;33m\u001b[0m\u001b[1;33m\u001b[0m\u001b[0m\n\u001b[0;32m    114\u001b[0m             \u001b[1;32mraise\u001b[0m \u001b[0mRuntimeError\u001b[0m\u001b[1;33m(\u001b[0m\u001b[1;34m\"generator didn't yield\"\u001b[0m\u001b[1;33m)\u001b[0m \u001b[1;32mfrom\u001b[0m \u001b[1;32mNone\u001b[0m\u001b[1;33m\u001b[0m\u001b[1;33m\u001b[0m\u001b[0m\n",
      "\u001b[1;32m~\\Anaconda3\\envs\\dev1\\lib\\site-packages\\xarray\\backends\\file_manager.py\u001b[0m in \u001b[0;36macquire_context\u001b[1;34m(self, needs_lock)\u001b[0m\n\u001b[0;32m    185\u001b[0m     \u001b[1;32mdef\u001b[0m \u001b[0macquire_context\u001b[0m\u001b[1;33m(\u001b[0m\u001b[0mself\u001b[0m\u001b[1;33m,\u001b[0m \u001b[0mneeds_lock\u001b[0m\u001b[1;33m=\u001b[0m\u001b[1;32mTrue\u001b[0m\u001b[1;33m)\u001b[0m\u001b[1;33m:\u001b[0m\u001b[1;33m\u001b[0m\u001b[1;33m\u001b[0m\u001b[0m\n\u001b[0;32m    186\u001b[0m         \u001b[1;34m\"\"\"Context manager for acquiring a file.\"\"\"\u001b[0m\u001b[1;33m\u001b[0m\u001b[1;33m\u001b[0m\u001b[0m\n\u001b[1;32m--> 187\u001b[1;33m         \u001b[0mfile\u001b[0m\u001b[1;33m,\u001b[0m \u001b[0mcached\u001b[0m \u001b[1;33m=\u001b[0m \u001b[0mself\u001b[0m\u001b[1;33m.\u001b[0m\u001b[0m_acquire_with_cache_info\u001b[0m\u001b[1;33m(\u001b[0m\u001b[0mneeds_lock\u001b[0m\u001b[1;33m)\u001b[0m\u001b[1;33m\u001b[0m\u001b[1;33m\u001b[0m\u001b[0m\n\u001b[0m\u001b[0;32m    188\u001b[0m         \u001b[1;32mtry\u001b[0m\u001b[1;33m:\u001b[0m\u001b[1;33m\u001b[0m\u001b[1;33m\u001b[0m\u001b[0m\n\u001b[0;32m    189\u001b[0m             \u001b[1;32myield\u001b[0m \u001b[0mfile\u001b[0m\u001b[1;33m\u001b[0m\u001b[1;33m\u001b[0m\u001b[0m\n",
      "\u001b[1;32m~\\Anaconda3\\envs\\dev1\\lib\\site-packages\\xarray\\backends\\file_manager.py\u001b[0m in \u001b[0;36m_acquire_with_cache_info\u001b[1;34m(self, needs_lock)\u001b[0m\n\u001b[0;32m    203\u001b[0m                     \u001b[0mkwargs\u001b[0m \u001b[1;33m=\u001b[0m \u001b[0mkwargs\u001b[0m\u001b[1;33m.\u001b[0m\u001b[0mcopy\u001b[0m\u001b[1;33m(\u001b[0m\u001b[1;33m)\u001b[0m\u001b[1;33m\u001b[0m\u001b[1;33m\u001b[0m\u001b[0m\n\u001b[0;32m    204\u001b[0m                     \u001b[0mkwargs\u001b[0m\u001b[1;33m[\u001b[0m\u001b[1;34m\"mode\"\u001b[0m\u001b[1;33m]\u001b[0m \u001b[1;33m=\u001b[0m \u001b[0mself\u001b[0m\u001b[1;33m.\u001b[0m\u001b[0m_mode\u001b[0m\u001b[1;33m\u001b[0m\u001b[1;33m\u001b[0m\u001b[0m\n\u001b[1;32m--> 205\u001b[1;33m                 \u001b[0mfile\u001b[0m \u001b[1;33m=\u001b[0m \u001b[0mself\u001b[0m\u001b[1;33m.\u001b[0m\u001b[0m_opener\u001b[0m\u001b[1;33m(\u001b[0m\u001b[1;33m*\u001b[0m\u001b[0mself\u001b[0m\u001b[1;33m.\u001b[0m\u001b[0m_args\u001b[0m\u001b[1;33m,\u001b[0m \u001b[1;33m**\u001b[0m\u001b[0mkwargs\u001b[0m\u001b[1;33m)\u001b[0m\u001b[1;33m\u001b[0m\u001b[1;33m\u001b[0m\u001b[0m\n\u001b[0m\u001b[0;32m    206\u001b[0m                 \u001b[1;32mif\u001b[0m \u001b[0mself\u001b[0m\u001b[1;33m.\u001b[0m\u001b[0m_mode\u001b[0m \u001b[1;33m==\u001b[0m \u001b[1;34m\"w\"\u001b[0m\u001b[1;33m:\u001b[0m\u001b[1;33m\u001b[0m\u001b[1;33m\u001b[0m\u001b[0m\n\u001b[0;32m    207\u001b[0m                     \u001b[1;31m# ensure file doesn't get overriden when opened again\u001b[0m\u001b[1;33m\u001b[0m\u001b[1;33m\u001b[0m\u001b[1;33m\u001b[0m\u001b[0m\n",
      "\u001b[1;32msrc\\netCDF4\\_netCDF4.pyx\u001b[0m in \u001b[0;36mnetCDF4._netCDF4.Dataset.__init__\u001b[1;34m()\u001b[0m\n",
      "\u001b[1;32msrc\\netCDF4\\_netCDF4.pyx\u001b[0m in \u001b[0;36mnetCDF4._netCDF4._ensure_nc_success\u001b[1;34m()\u001b[0m\n",
      "\u001b[1;31mFileNotFoundError\u001b[0m: [Errno 2] No such file or directory: b'C:\\\\opt\\\\bitnami\\\\projects\\\\data\\\\AI_models\\\\precipitation_1km.nc'"
     ]
    }
   ],
   "source": [
    "gdf = add_radolan_sf(r'C:\\Users\\USER\\Desktop\\Master_Irrigation\\03_GIS\\soil_classification\\download_ts\\ried_soil_samples_30m_17-19\\POINT_ID_1_8.5332_49.9083.geojson')\n",
    "gdf = prepare_data(gdf)"
   ]
  },
  {
   "cell_type": "code",
   "execution_count": 6,
   "metadata": {
    "ExecuteTime": {
     "end_time": "2022-04-06T08:45:45.384113Z",
     "start_time": "2022-04-06T08:45:43.480015Z"
    }
   },
   "outputs": [
    {
     "name": "stderr",
     "output_type": "stream",
     "text": [
      "C:\\Users\\USER\\Anaconda3\\envs\\dev1\\lib\\site-packages\\tensorflow\\python\\framework\\dtypes.py:516: FutureWarning: Passing (type, 1) or '1type' as a synonym of type is deprecated; in a future version of numpy, it will be understood as (type, (1,)) / '(1,)type'.\n",
      "  _np_qint8 = np.dtype([(\"qint8\", np.int8, 1)])\n",
      "C:\\Users\\USER\\Anaconda3\\envs\\dev1\\lib\\site-packages\\tensorflow\\python\\framework\\dtypes.py:517: FutureWarning: Passing (type, 1) or '1type' as a synonym of type is deprecated; in a future version of numpy, it will be understood as (type, (1,)) / '(1,)type'.\n",
      "  _np_quint8 = np.dtype([(\"quint8\", np.uint8, 1)])\n",
      "C:\\Users\\USER\\Anaconda3\\envs\\dev1\\lib\\site-packages\\tensorflow\\python\\framework\\dtypes.py:518: FutureWarning: Passing (type, 1) or '1type' as a synonym of type is deprecated; in a future version of numpy, it will be understood as (type, (1,)) / '(1,)type'.\n",
      "  _np_qint16 = np.dtype([(\"qint16\", np.int16, 1)])\n",
      "C:\\Users\\USER\\Anaconda3\\envs\\dev1\\lib\\site-packages\\tensorflow\\python\\framework\\dtypes.py:519: FutureWarning: Passing (type, 1) or '1type' as a synonym of type is deprecated; in a future version of numpy, it will be understood as (type, (1,)) / '(1,)type'.\n",
      "  _np_quint16 = np.dtype([(\"quint16\", np.uint16, 1)])\n",
      "C:\\Users\\USER\\Anaconda3\\envs\\dev1\\lib\\site-packages\\tensorflow\\python\\framework\\dtypes.py:520: FutureWarning: Passing (type, 1) or '1type' as a synonym of type is deprecated; in a future version of numpy, it will be understood as (type, (1,)) / '(1,)type'.\n",
      "  _np_qint32 = np.dtype([(\"qint32\", np.int32, 1)])\n",
      "C:\\Users\\USER\\Anaconda3\\envs\\dev1\\lib\\site-packages\\tensorflow\\python\\framework\\dtypes.py:525: FutureWarning: Passing (type, 1) or '1type' as a synonym of type is deprecated; in a future version of numpy, it will be understood as (type, (1,)) / '(1,)type'.\n",
      "  np_resource = np.dtype([(\"resource\", np.ubyte, 1)])\n",
      "C:\\Users\\USER\\Anaconda3\\envs\\dev1\\lib\\site-packages\\tensorboard\\compat\\tensorflow_stub\\dtypes.py:541: FutureWarning: Passing (type, 1) or '1type' as a synonym of type is deprecated; in a future version of numpy, it will be understood as (type, (1,)) / '(1,)type'.\n",
      "  _np_qint8 = np.dtype([(\"qint8\", np.int8, 1)])\n",
      "C:\\Users\\USER\\Anaconda3\\envs\\dev1\\lib\\site-packages\\tensorboard\\compat\\tensorflow_stub\\dtypes.py:542: FutureWarning: Passing (type, 1) or '1type' as a synonym of type is deprecated; in a future version of numpy, it will be understood as (type, (1,)) / '(1,)type'.\n",
      "  _np_quint8 = np.dtype([(\"quint8\", np.uint8, 1)])\n",
      "C:\\Users\\USER\\Anaconda3\\envs\\dev1\\lib\\site-packages\\tensorboard\\compat\\tensorflow_stub\\dtypes.py:543: FutureWarning: Passing (type, 1) or '1type' as a synonym of type is deprecated; in a future version of numpy, it will be understood as (type, (1,)) / '(1,)type'.\n",
      "  _np_qint16 = np.dtype([(\"qint16\", np.int16, 1)])\n",
      "C:\\Users\\USER\\Anaconda3\\envs\\dev1\\lib\\site-packages\\tensorboard\\compat\\tensorflow_stub\\dtypes.py:544: FutureWarning: Passing (type, 1) or '1type' as a synonym of type is deprecated; in a future version of numpy, it will be understood as (type, (1,)) / '(1,)type'.\n",
      "  _np_quint16 = np.dtype([(\"quint16\", np.uint16, 1)])\n",
      "C:\\Users\\USER\\Anaconda3\\envs\\dev1\\lib\\site-packages\\tensorboard\\compat\\tensorflow_stub\\dtypes.py:545: FutureWarning: Passing (type, 1) or '1type' as a synonym of type is deprecated; in a future version of numpy, it will be understood as (type, (1,)) / '(1,)type'.\n",
      "  _np_qint32 = np.dtype([(\"qint32\", np.int32, 1)])\n",
      "C:\\Users\\USER\\Anaconda3\\envs\\dev1\\lib\\site-packages\\tensorboard\\compat\\tensorflow_stub\\dtypes.py:550: FutureWarning: Passing (type, 1) or '1type' as a synonym of type is deprecated; in a future version of numpy, it will be understood as (type, (1,)) / '(1,)type'.\n",
      "  np_resource = np.dtype([(\"resource\", np.ubyte, 1)])\n"
     ]
    }
   ],
   "source": [
    "import geopandas as gpd\n",
    "import pandas as pd\n",
    "import datetime as dt\n",
    "import xarray as xr\n",
    "from tensorflow.keras.models import load_model\n",
    "from sklearn.preprocessing import MinMaxScaler\n",
    "import joblib\n",
    "\n",
    "def add_radolan_sf(filepath):\n",
    "    \n",
    "    gdf = gpd.read_file(filepath, ignore_index=True)\n",
    "    gdf = gdf.dropna(how='any')\n",
    "    gdf['date'] = gdf['date'].astype('datetime64[ns]')\n",
    "    gdf['day_of_year'] = gdf['date'].dt.day_of_year\n",
    "    \n",
    "    RADOLAN = xr.open_dataset('/opt/bitnami/projects/data/AI_models/precipitation_1km.nc')\n",
    "    pp_24h, pp_48h, pp_72h = list(), list(), list()\n",
    "    midday = dt.time(12,0)\n",
    "\n",
    "    for index, row in gdf.iterrows():\n",
    "        pp_loc = RADOLAN.sel(latitude=row.geometry.y, longitude=row.geometry.x, method='nearest').sel(time=slice(row.date.date() - pd.Timedelta('3d'), row.date.date())).precipitation_1km\n",
    "        if row.date.time() > midday:\n",
    "            try:\n",
    "                pp_24h.append(pp_loc.isel(time=3).values)\n",
    "                pp_48h.append(pp_loc.isel(time=slice(2,4)).sum().values)  \n",
    "                pp_72h.append(pp_loc.isel(time=slice(1,4)).sum().values)  \n",
    "            except:\n",
    "                pp_24h.append(np.nan)\n",
    "                pp_48h.append(np.nan)\n",
    "                pp_72h.append(np.nan)\n",
    "        else:\n",
    "            try:\n",
    "                pp_24h.append(pp_loc.isel(time=2).values)\n",
    "                pp_48h.append(pp_loc.isel(time=slice(1,3)).sum().values)  \n",
    "                pp_72h.append(pp_loc.isel(time=slice(0,3)).sum().values)  \n",
    "            except:\n",
    "                pp_24h.append(np.nan)\n",
    "                pp_48h.append(np.nan)\n",
    "                pp_72h.append(np.nan)\n",
    "    gdf['pp_24h'] = pp_24h\n",
    "    gdf['pp_48h'] = pp_48h\n",
    "    gdf['pp_72h'] = pp_72h\n",
    "\n",
    "    RADOLAN = None\n",
    "    pp_24h, pp_48h, pp_72h = None, None, None\n",
    "    \n",
    "    return gdf\n",
    "\n",
    "def prepare_data(gdf):\n",
    "    \n",
    "    # Conversation\n",
    "    gdf['minimum_2m_air_temperature'] = gdf['minimum_2m_air_temperature'] -273.15\n",
    "    gdf['maximum_2m_air_temperature'] = gdf['maximum_2m_air_temperature'] -273.15\n",
    "    gdf['mean_2m_air_temperature'] = gdf['mean_2m_air_temperature'] -273.15\n",
    "    \n",
    "    # Dtype Transformation\n",
    "    gdf['date'] = gdf.loc[:,'date'].astype('datetime64[ns]')\n",
    "    gdf.loc[:,['pp_24h', 'pp_48h', 'pp_72h']] = gdf.loc[:,['pp_24h', 'pp_48h', 'pp_72h']].astype('float64')\n",
    "\n",
    "    #One Hot Encoding\n",
    "    gdf = pd.DataFrame(pd.get_dummies(gdf, columns=['orbit', 'platform']))\n",
    "    \n",
    "    # Normaliztion\n",
    "    scaler = MinMaxScaler() \n",
    "    gdf.loc[:,['VV', 'VH', 'NDVI','angle', 'day_of_year',\n",
    "             'pp_24h', 'pp_48h', 'pp_72h','mean_2m_air_temperature','maximum_2m_air_temperature',\n",
    "                'minimum_2m_air_temperature', 'Blue', 'Green', 'Red', 'RedEdge1', 'RedEdge2', 'RedEdge3', \n",
    "                'RedEdge4', 'NIR', 'WaterVapor', 'SWIR1', 'SWIR2', 'ssm']\n",
    "          ] = scaler.fit_transform(gdf.loc[:,['VV', 'VH', 'NDVI','angle', 'day_of_year', \n",
    "             'pp_24h', 'pp_48h', 'pp_72h','mean_2m_air_temperature','maximum_2m_air_temperature',\n",
    "                'minimum_2m_air_temperature', 'Blue', 'Green', 'Red', 'RedEdge1', 'RedEdge2', 'RedEdge3', \n",
    "                'RedEdge4', 'NIR', 'WaterVapor', 'SWIR1', 'SWIR2', 'ssm']]) \n",
    "\n",
    "    gdf.reset_index(drop=True, inplace=True)\n",
    "    return gdf"
   ]
  },
  {
   "cell_type": "markdown",
   "metadata": {},
   "source": [
    "# Machine Learning"
   ]
  },
  {
   "cell_type": "code",
   "execution_count": 3,
   "metadata": {
    "ExecuteTime": {
     "end_time": "2022-03-25T17:42:17.434857Z",
     "start_time": "2022-03-25T17:42:17.415173Z"
    }
   },
   "outputs": [],
   "source": [
    "#Utilities\n",
    "from tsfresh import extract_relevant_features\n",
    "\n",
    "from imblearn.over_sampling import SMOTE\n",
    "\n",
    "from yellowbrick.classifier import ClassificationReport\n",
    "from yellowbrick.model_selection import CVScores\n",
    "from yellowbrick.regressor import prediction_error\n",
    "from yellowbrick.classifier import confusion_matrix as yellow_confusion_matrix\n",
    "\n",
    "from sklearn.metrics import classification_report\n",
    "from sklearn.metrics import precision_recall_fscore_support\n",
    "from sklearn.metrics import confusion_matrix\n",
    "from sklearn.metrics import ConfusionMatrixDisplay\n",
    "from sklearn.metrics import matthews_corrcoef\n",
    "from sklearn.metrics import cohen_kappa_score\n",
    "from sklearn.metrics import f1_score\n",
    "from sklearn.model_selection import train_test_split\n",
    "from keras.utils import to_categorical\n",
    "\n",
    "from sklearn.model_selection import GridSearchCV\n",
    "from sklearn.model_selection import cross_val_score\n",
    "from sklearn.model_selection import cross_validate\n",
    "from sklearn.model_selection import KFold\n",
    "\n",
    "#Classifier\n",
    "from sklearn.svm import LinearSVC, NuSVC, SVC\n",
    "from sklearn.neighbors import KNeighborsClassifier\n",
    "from sklearn.linear_model import LogisticRegressionCV, LogisticRegression, SGDClassifier\n",
    "from sklearn.linear_model import Ridge, Lasso\n",
    "from sklearn.ensemble import BaggingClassifier, ExtraTreesClassifier, RandomForestClassifier\n",
    "from sklearn.tree import DecisionTreeClassifier\n",
    "from sklearn.ensemble import RandomForestClassifier\n",
    "from sklearn.ensemble import GradientBoostingClassifier\n",
    "from sklearn.linear_model import LogisticRegression\n",
    "from sklearn.ensemble import AdaBoostClassifier\n",
    "from sklearn.naive_bayes import GaussianNB\n",
    "\n",
    "from keras.wrappers.scikit_learn import KerasClassifier"
   ]
  },
  {
   "cell_type": "code",
   "execution_count": 16,
   "metadata": {
    "ExecuteTime": {
     "end_time": "2022-03-25T17:50:34.895871Z",
     "start_time": "2022-03-25T17:50:32.944768Z"
    }
   },
   "outputs": [],
   "source": [
    "model = joblib.load(r'C://Users/USER/Desktop/Master_Irrigation/05_Results/classification/models/random_forest/1_rf_fullrows_nopara_usda.sav')"
   ]
  },
  {
   "cell_type": "code",
   "execution_count": 15,
   "metadata": {
    "ExecuteTime": {
     "end_time": "2022-03-25T17:47:21.524804Z",
     "start_time": "2022-03-25T17:47:21.509183Z"
    }
   },
   "outputs": [],
   "source": [
    "def save_confusion_matrix(X_test, y_test, model, labels, display_labels, fname, title_cm):\n",
    "    cm = ConfusionMatrixDisplay.from_predictions(y_test, model.predict(X_test), labels = labels, display_labels = display_labels)\n",
    "    cm.ax_.axis('auto') \n",
    "    cm.ax_.set_xticklabels(cm.ax_.get_xticklabels(), rotation=45, ha='right')\n",
    "    plt.title(f'Confusion Matrix {title_cm}')\n",
    "    plt.grid(False)\n",
    "    plt.savefig(fname, dpi=150, bbox_inches='tight')\n",
    "    return plt.show()  \n",
    "\n",
    "def score_model(X_train, X_test, y_train, y_test, model, labels, target_names, fname, train):\n",
    "    \"\"\"\n",
    "    Test various estimators.\n",
    "    \"\"\"\n",
    "        \n",
    "    # Instantiate the classification model and visualizer\n",
    "    if train == 'yes':\n",
    "        model.fit(X_train, y_train)\n",
    "    # Compute and return F1 (harmonic mean of precision and recall)\n",
    "    report_dict = classification_report(y_test, model.predict(X_test), \n",
    "                                labels = labels, \n",
    "                                target_names = target_names,\n",
    "                                zero_division = 1,\n",
    "                                output_dict=True)\n",
    "\n",
    "    repdf = pd.DataFrame(report_dict).round(2).transpose()\n",
    "    repdf.insert(loc=0, column='class', value=target_names + [\"accuracy\", \"macro avg\", \"weighted avg\"])\n",
    "    repdf.to_csv(fname + '.csv', index=False)\n",
    "    title_cm = ''\n",
    "    save_confusion_matrix(X_test, y_test, model, labels, \n",
    "                          target_names, \n",
    "                          fname + '.png', \n",
    "                          title_cm\n",
    "                         )\n",
    "\n",
    "    return model"
   ]
  },
  {
   "cell_type": "markdown",
   "metadata": {},
   "source": [
    "## Model Selection"
   ]
  },
  {
   "cell_type": "markdown",
   "metadata": {},
   "source": [
    "### Imbalanced without outlierz and minmax scaler for all variables"
   ]
  },
  {
   "cell_type": "markdown",
   "metadata": {},
   "source": [
    "#### classification"
   ]
  },
  {
   "cell_type": "code",
   "execution_count": 23,
   "metadata": {
    "ExecuteTime": {
     "end_time": "2022-03-19T09:23:58.400651Z",
     "start_time": "2022-03-19T09:22:45.890992Z"
    }
   },
   "outputs": [
    {
     "data": {
      "image/png": "[encoded data removed]",
      "text/plain": [
       "<Figure size 576x396 with 2 Axes>"
      ]
     },
     "metadata": {},
     "output_type": "display_data"
    },
    {
     "name": "stdout",
     "output_type": "stream",
     "text": [
      "                 precision    recall  f1-score   support\n",
      "\n",
      "      silt loam       0.89      0.97      0.93     13196\n",
      "     sandy loam       0.92      0.96      0.94     11075\n",
      "           loam       0.96      0.95      0.95      9140\n",
      "silty clay loam       0.97      0.93      0.95      7834\n",
      "     loamy sand       0.96      0.95      0.96      5552\n",
      "     silty clay       0.99      0.89      0.93      3985\n",
      "      clay loam       1.00      0.91      0.95      3431\n",
      "           sand       0.99      0.91      0.95      2279\n",
      "           clay       0.99      0.88      0.93      1763\n",
      "sandy clay loam       1.00      0.91      0.95      1036\n",
      "           silt       1.00      1.00      1.00         0\n",
      "\n",
      "      micro avg       0.94      0.94      0.94     59291\n",
      "      macro avg       0.97      0.93      0.95     59291\n",
      "   weighted avg       0.95      0.94      0.94     59291\n",
      "\n"
     ]
    }
   ],
   "source": [
    "X = df_sub[['VV', 'VH', 'NDVI','angle', 'day_of_year', 'platform_A', 'platform_B', \n",
    "            'orbit_ASCENDING', 'orbit_DESCENDING','minimum_2m_air_temperature',\n",
    "             'pp_24h', 'pp_48h', 'pp_72h','mean_2m_air_temperature','maximum_2m_air_temperature',\n",
    "                'minimum_2m_air_temperature', 'Blue', 'Green', 'Red', 'RedEdge1', 'RedEdge2', 'RedEdge3', \n",
    "                'RedEdge4', 'NIR', 'WaterVapor', 'SWIR1', 'SWIR2', 'ssm']].values\n",
    "\n",
    "y = df_sub['USDA'].values\n",
    "X_train, X_test, y_train, y_test = train_test_split(X, y, test_size=.3,random_state=100)\n",
    "labels = list(USDA_to_numerical['USDA'].values())\n",
    "target_names = list(USDA_to_numerical['USDA'].keys())\n",
    "\n",
    "model = RandomForestClassifier()\n",
    "model = score_model(X_train, X_test, y_train, y_test, model, labels, target_names,\n",
    "                    'C://Users/USER/Desktop/Master_Irrigation/05_Results/classification/ried_soil_samples/USDA_rf_trained_model_allrows_noparas_IB_',\n",
    "                   train='yes')\n",
    "print(classification_report(y_test, model.predict(X_test), labels = labels, target_names = target_names, zero_division=1))\n",
    "\n",
    "with open('C://Users/USER/Desktop/Master_Irrigation/05_Results/classification/models/random_forest/rf_fullrows_nopara_usda.sav', 'wb') as f:\n",
    "    joblib.dump(model, f)"
   ]
  },
  {
   "cell_type": "code",
   "execution_count": 38,
   "metadata": {
    "ExecuteTime": {
     "end_time": "2022-03-25T17:56:59.450734Z",
     "start_time": "2022-03-25T17:56:59.404083Z"
    }
   },
   "outputs": [
    {
     "data": {
      "text/html": [
       "<div>\n",
       "<style scoped>\n",
       "    .dataframe tbody tr th:only-of-type {\n",
       "        vertical-align: middle;\n",
       "    }\n",
       "\n",
       "    .dataframe tbody tr th {\n",
       "        vertical-align: top;\n",
       "    }\n",
       "\n",
       "    .dataframe thead th {\n",
       "        text-align: right;\n",
       "    }\n",
       "</style>\n",
       "<table border=\"1\" class=\"dataframe\">\n",
       "  <thead>\n",
       "    <tr style=\"text-align: right;\">\n",
       "      <th></th>\n",
       "      <th></th>\n",
       "      <th>count</th>\n",
       "    </tr>\n",
       "    <tr>\n",
       "      <th>POINT_ID</th>\n",
       "      <th>USDA</th>\n",
       "      <th></th>\n",
       "    </tr>\n",
       "  </thead>\n",
       "  <tbody>\n",
       "    <tr>\n",
       "      <th>1</th>\n",
       "      <th>4</th>\n",
       "      <td>338.0</td>\n",
       "    </tr>\n",
       "    <tr>\n",
       "      <th>2</th>\n",
       "      <th>4</th>\n",
       "      <td>338.0</td>\n",
       "    </tr>\n",
       "    <tr>\n",
       "      <th>3</th>\n",
       "      <th>0</th>\n",
       "      <td>333.0</td>\n",
       "    </tr>\n",
       "    <tr>\n",
       "      <th>4</th>\n",
       "      <th>0</th>\n",
       "      <td>334.0</td>\n",
       "    </tr>\n",
       "    <tr>\n",
       "      <th>5</th>\n",
       "      <th>0</th>\n",
       "      <td>331.0</td>\n",
       "    </tr>\n",
       "    <tr>\n",
       "      <th>6</th>\n",
       "      <th>0</th>\n",
       "      <td>334.0</td>\n",
       "    </tr>\n",
       "    <tr>\n",
       "      <th>7</th>\n",
       "      <th>0</th>\n",
       "      <td>444.0</td>\n",
       "    </tr>\n",
       "  </tbody>\n",
       "</table>\n",
       "</div>"
      ],
      "text/plain": [
       "               count\n",
       "POINT_ID USDA       \n",
       "1        4     338.0\n",
       "2        4     338.0\n",
       "3        0     333.0\n",
       "4        0     334.0\n",
       "5        0     331.0\n",
       "6        0     334.0\n",
       "7        0     444.0"
      ]
     },
     "execution_count": 38,
     "metadata": {},
     "output_type": "execute_result"
    }
   ],
   "source": [
    "df_sub.groupby(['POINT_ID', 'USDA'])['USDA'].describe()[['count']]"
   ]
  },
  {
   "cell_type": "code",
   "execution_count": 39,
   "metadata": {
    "ExecuteTime": {
     "end_time": "2022-03-25T17:57:21.462618Z",
     "start_time": "2022-03-25T17:57:21.431567Z"
    }
   },
   "outputs": [],
   "source": [
    "X_list = [(x[0], x[1][['VV', 'VH', 'NDVI','angle', 'day_of_year', 'platform_A', 'platform_B',  #[df_sub['POINT_ID'] == 3]\n",
    "            'orbit_ASCENDING', 'orbit_DESCENDING','minimum_2m_air_temperature',\n",
    "             'pp_24h', 'pp_48h', 'pp_72h','mean_2m_air_temperature','maximum_2m_air_temperature',\n",
    "                'minimum_2m_air_temperature', 'Blue', 'Green', 'Red', 'RedEdge1', 'RedEdge2', 'RedEdge3', \n",
    "                'RedEdge4', 'NIR', 'WaterVapor', 'SWIR1', 'SWIR2','ssm']].values) for x in df_sub.groupby('POINT_ID')]\n",
    "\n",
    "y_list = [(x[0], x[1]['USDA'].values) for x in df_sub.groupby('POINT_ID')] #[df_sub['POINT_ID'] == 3]"
   ]
  },
  {
   "cell_type": "code",
   "execution_count": 40,
   "metadata": {
    "ExecuteTime": {
     "end_time": "2022-03-25T17:59:12.986909Z",
     "start_time": "2022-03-25T17:59:05.021904Z"
    }
   },
   "outputs": [
    {
     "data": {
      "image/png": "[encoded data removed]",
      "text/plain": [
       "<Figure size 576x396 with 2 Axes>"
      ]
     },
     "metadata": {},
     "output_type": "display_data"
    },
    {
     "data": {
      "image/png": "[encoded data removed]",
      "text/plain": [
       "<Figure size 576x396 with 2 Axes>"
      ]
     },
     "metadata": {},
     "output_type": "display_data"
    },
    {
     "data": {
      "image/png": "[encoded data removed]",
      "text/plain": [
       "<Figure size 576x396 with 2 Axes>"
      ]
     },
     "metadata": {},
     "output_type": "display_data"
    },
    {
     "data": {
      "image/png": "[encoded data removed]",
      "text/plain": [
       "<Figure size 576x396 with 2 Axes>"
      ]
     },
     "metadata": {},
     "output_type": "display_data"
    },
    {
     "data": {
      "image/png": "[encoded data removed]",
      "text/plain": [
       "<Figure size 576x396 with 2 Axes>"
      ]
     },
     "metadata": {},
     "output_type": "display_data"
    },
    {
     "data": {
      "image/png": "[encoded data removed]",
      "text/plain": [
       "<Figure size 576x396 with 2 Axes>"
      ]
     },
     "metadata": {},
     "output_type": "display_data"
    },
    {
     "data": {
      "image/png": "[encoded data removed]",
      "text/plain": [
       "<Figure size 576x396 with 2 Axes>"
      ]
     },
     "metadata": {},
     "output_type": "display_data"
    }
   ],
   "source": [
    "labels = list(USDA_to_numerical['USDA'].values())\n",
    "target_names = list(USDA_to_numerical['USDA'].keys())\n",
    "for X,y in zip(X_list,y_list):\n",
    "    save_confusion_matrix(X[1], y[1], model, labels, target_names,\n",
    "                          f'C://Users/USER/Desktop/Master_Irrigation/05_Results/classification/ried_soil_samples/30m_17-19/ried_soil_samples_{str(X[0])}_usda_rf1_cm_',\n",
    "                         f'for ried soil sample Nr. {X[0]} - USDA classes')"
   ]
  },
  {
   "cell_type": "code",
   "execution_count": 252,
   "metadata": {
    "ExecuteTime": {
     "end_time": "2022-03-18T18:13:37.614636Z",
     "start_time": "2022-03-18T18:13:37.504433Z"
    }
   },
   "outputs": [
    {
     "name": "stdout",
     "output_type": "stream",
     "text": [
      "              precision    recall  f1-score   support\n",
      "\n",
      "   silt loam       0.69      0.57      0.63      2667\n",
      "  loamy sand       0.28      0.12      0.17      1005\n",
      "\n",
      "   micro avg       0.62      0.45      0.52      3672\n",
      "   macro avg       0.48      0.35      0.40      3672\n",
      "weighted avg       0.58      0.45      0.50      3672\n",
      "\n"
     ]
    }
   ],
   "source": [
    "X = df_sub[['VV', 'VH', 'NDVI','angle', 'day_of_year', 'platform_A', 'platform_B', \n",
    "            'orbit_ASCENDING', 'orbit_DESCENDING','minimum_2m_air_temperature',\n",
    "             'pp_24h', 'pp_48h', 'pp_72h','mean_2m_air_temperature','maximum_2m_air_temperature',\n",
    "                'minimum_2m_air_temperature', 'Blue', 'Green', 'Red', 'RedEdge1', 'RedEdge2', 'RedEdge3', \n",
    "                'RedEdge4', 'NIR', 'WaterVapor', 'SWIR1', 'SWIR2','ssm']].values\n",
    "\n",
    "y = df_sub['USDA'].values\n",
    "labels = list(USDA_to_numerical['USDA'].values())\n",
    "target_names = list(USDA_to_numerical['USDA'].keys())\n",
    "print(classification_report(y, model.predict(X), labels = labels, target_names = target_names))"
   ]
  },
  {
   "cell_type": "code",
   "execution_count": 253,
   "metadata": {
    "ExecuteTime": {
     "end_time": "2022-03-18T18:14:57.395734Z",
     "start_time": "2022-03-18T18:14:57.294437Z"
    }
   },
   "outputs": [],
   "source": [
    "df_sub['usda_prediction'] = model.predict(X)"
   ]
  },
  {
   "cell_type": "code",
   "execution_count": 259,
   "metadata": {
    "ExecuteTime": {
     "end_time": "2022-03-18T18:18:03.795346Z",
     "start_time": "2022-03-18T18:18:03.645740Z"
    }
   },
   "outputs": [
    {
     "data": {
      "text/html": [
       "<div>\n",
       "<style scoped>\n",
       "    .dataframe tbody tr th:only-of-type {\n",
       "        vertical-align: middle;\n",
       "    }\n",
       "\n",
       "    .dataframe tbody tr th {\n",
       "        vertical-align: top;\n",
       "    }\n",
       "\n",
       "    .dataframe thead th {\n",
       "        text-align: right;\n",
       "    }\n",
       "</style>\n",
       "<table border=\"1\" class=\"dataframe\">\n",
       "  <thead>\n",
       "    <tr style=\"text-align: right;\">\n",
       "      <th></th>\n",
       "      <th></th>\n",
       "      <th>count</th>\n",
       "    </tr>\n",
       "    <tr>\n",
       "      <th>POINT_ID</th>\n",
       "      <th>usda_prediction</th>\n",
       "      <th></th>\n",
       "    </tr>\n",
       "  </thead>\n",
       "  <tbody>\n",
       "    <tr>\n",
       "      <th rowspan=\"7\" valign=\"top\">1</th>\n",
       "      <th>0</th>\n",
       "      <td>371.0</td>\n",
       "    </tr>\n",
       "    <tr>\n",
       "      <th>1</th>\n",
       "      <td>50.0</td>\n",
       "    </tr>\n",
       "    <tr>\n",
       "      <th>2</th>\n",
       "      <td>34.0</td>\n",
       "    </tr>\n",
       "    <tr>\n",
       "      <th>3</th>\n",
       "      <td>28.0</td>\n",
       "    </tr>\n",
       "    <tr>\n",
       "      <th>4</th>\n",
       "      <td>3.0</td>\n",
       "    </tr>\n",
       "    <tr>\n",
       "      <th>5</th>\n",
       "      <td>5.0</td>\n",
       "    </tr>\n",
       "    <tr>\n",
       "      <th>6</th>\n",
       "      <td>8.0</td>\n",
       "    </tr>\n",
       "    <tr>\n",
       "      <th rowspan=\"8\" valign=\"top\">2</th>\n",
       "      <th>0</th>\n",
       "      <td>324.0</td>\n",
       "    </tr>\n",
       "    <tr>\n",
       "      <th>1</th>\n",
       "      <td>75.0</td>\n",
       "    </tr>\n",
       "    <tr>\n",
       "      <th>2</th>\n",
       "      <td>41.0</td>\n",
       "    </tr>\n",
       "    <tr>\n",
       "      <th>3</th>\n",
       "      <td>43.0</td>\n",
       "    </tr>\n",
       "    <tr>\n",
       "      <th>4</th>\n",
       "      <td>7.0</td>\n",
       "    </tr>\n",
       "    <tr>\n",
       "      <th>5</th>\n",
       "      <td>5.0</td>\n",
       "    </tr>\n",
       "    <tr>\n",
       "      <th>6</th>\n",
       "      <td>6.0</td>\n",
       "    </tr>\n",
       "    <tr>\n",
       "      <th>7</th>\n",
       "      <td>5.0</td>\n",
       "    </tr>\n",
       "    <tr>\n",
       "      <th rowspan=\"7\" valign=\"top\">3</th>\n",
       "      <th>0</th>\n",
       "      <td>294.0</td>\n",
       "    </tr>\n",
       "    <tr>\n",
       "      <th>1</th>\n",
       "      <td>78.0</td>\n",
       "    </tr>\n",
       "    <tr>\n",
       "      <th>2</th>\n",
       "      <td>69.0</td>\n",
       "    </tr>\n",
       "    <tr>\n",
       "      <th>3</th>\n",
       "      <td>45.0</td>\n",
       "    </tr>\n",
       "    <tr>\n",
       "      <th>4</th>\n",
       "      <td>4.0</td>\n",
       "    </tr>\n",
       "    <tr>\n",
       "      <th>6</th>\n",
       "      <td>6.0</td>\n",
       "    </tr>\n",
       "    <tr>\n",
       "      <th>7</th>\n",
       "      <td>5.0</td>\n",
       "    </tr>\n",
       "    <tr>\n",
       "      <th rowspan=\"9\" valign=\"top\">4</th>\n",
       "      <th>0</th>\n",
       "      <td>285.0</td>\n",
       "    </tr>\n",
       "    <tr>\n",
       "      <th>1</th>\n",
       "      <td>56.0</td>\n",
       "    </tr>\n",
       "    <tr>\n",
       "      <th>2</th>\n",
       "      <td>78.0</td>\n",
       "    </tr>\n",
       "    <tr>\n",
       "      <th>3</th>\n",
       "      <td>45.0</td>\n",
       "    </tr>\n",
       "    <tr>\n",
       "      <th>4</th>\n",
       "      <td>6.0</td>\n",
       "    </tr>\n",
       "    <tr>\n",
       "      <th>5</th>\n",
       "      <td>18.0</td>\n",
       "    </tr>\n",
       "    <tr>\n",
       "      <th>6</th>\n",
       "      <td>7.0</td>\n",
       "    </tr>\n",
       "    <tr>\n",
       "      <th>7</th>\n",
       "      <td>6.0</td>\n",
       "    </tr>\n",
       "    <tr>\n",
       "      <th>8</th>\n",
       "      <td>1.0</td>\n",
       "    </tr>\n",
       "    <tr>\n",
       "      <th rowspan=\"9\" valign=\"top\">5</th>\n",
       "      <th>0</th>\n",
       "      <td>297.0</td>\n",
       "    </tr>\n",
       "    <tr>\n",
       "      <th>1</th>\n",
       "      <td>37.0</td>\n",
       "    </tr>\n",
       "    <tr>\n",
       "      <th>2</th>\n",
       "      <td>75.0</td>\n",
       "    </tr>\n",
       "    <tr>\n",
       "      <th>3</th>\n",
       "      <td>29.0</td>\n",
       "    </tr>\n",
       "    <tr>\n",
       "      <th>4</th>\n",
       "      <td>32.0</td>\n",
       "    </tr>\n",
       "    <tr>\n",
       "      <th>5</th>\n",
       "      <td>4.0</td>\n",
       "    </tr>\n",
       "    <tr>\n",
       "      <th>6</th>\n",
       "      <td>6.0</td>\n",
       "    </tr>\n",
       "    <tr>\n",
       "      <th>7</th>\n",
       "      <td>1.0</td>\n",
       "    </tr>\n",
       "    <tr>\n",
       "      <th>8</th>\n",
       "      <td>11.0</td>\n",
       "    </tr>\n",
       "    <tr>\n",
       "      <th rowspan=\"8\" valign=\"top\">6</th>\n",
       "      <th>0</th>\n",
       "      <td>219.0</td>\n",
       "    </tr>\n",
       "    <tr>\n",
       "      <th>1</th>\n",
       "      <td>57.0</td>\n",
       "    </tr>\n",
       "    <tr>\n",
       "      <th>2</th>\n",
       "      <td>93.0</td>\n",
       "    </tr>\n",
       "    <tr>\n",
       "      <th>3</th>\n",
       "      <td>60.0</td>\n",
       "    </tr>\n",
       "    <tr>\n",
       "      <th>4</th>\n",
       "      <td>27.0</td>\n",
       "    </tr>\n",
       "    <tr>\n",
       "      <th>5</th>\n",
       "      <td>1.0</td>\n",
       "    </tr>\n",
       "    <tr>\n",
       "      <th>6</th>\n",
       "      <td>2.0</td>\n",
       "    </tr>\n",
       "    <tr>\n",
       "      <th>7</th>\n",
       "      <td>43.0</td>\n",
       "    </tr>\n",
       "    <tr>\n",
       "      <th rowspan=\"7\" valign=\"top\">7</th>\n",
       "      <th>0</th>\n",
       "      <td>434.0</td>\n",
       "    </tr>\n",
       "    <tr>\n",
       "      <th>1</th>\n",
       "      <td>94.0</td>\n",
       "    </tr>\n",
       "    <tr>\n",
       "      <th>2</th>\n",
       "      <td>75.0</td>\n",
       "    </tr>\n",
       "    <tr>\n",
       "      <th>3</th>\n",
       "      <td>31.0</td>\n",
       "    </tr>\n",
       "    <tr>\n",
       "      <th>5</th>\n",
       "      <td>18.0</td>\n",
       "    </tr>\n",
       "    <tr>\n",
       "      <th>6</th>\n",
       "      <td>11.0</td>\n",
       "    </tr>\n",
       "    <tr>\n",
       "      <th>8</th>\n",
       "      <td>7.0</td>\n",
       "    </tr>\n",
       "  </tbody>\n",
       "</table>\n",
       "</div>"
      ],
      "text/plain": [
       "                          count\n",
       "POINT_ID usda_prediction       \n",
       "1        0                371.0\n",
       "         1                 50.0\n",
       "         2                 34.0\n",
       "         3                 28.0\n",
       "         4                  3.0\n",
       "         5                  5.0\n",
       "         6                  8.0\n",
       "2        0                324.0\n",
       "         1                 75.0\n",
       "         2                 41.0\n",
       "         3                 43.0\n",
       "         4                  7.0\n",
       "         5                  5.0\n",
       "         6                  6.0\n",
       "         7                  5.0\n",
       "3        0                294.0\n",
       "         1                 78.0\n",
       "         2                 69.0\n",
       "         3                 45.0\n",
       "         4                  4.0\n",
       "         6                  6.0\n",
       "         7                  5.0\n",
       "4        0                285.0\n",
       "         1                 56.0\n",
       "         2                 78.0\n",
       "         3                 45.0\n",
       "         4                  6.0\n",
       "         5                 18.0\n",
       "         6                  7.0\n",
       "         7                  6.0\n",
       "         8                  1.0\n",
       "5        0                297.0\n",
       "         1                 37.0\n",
       "         2                 75.0\n",
       "         3                 29.0\n",
       "         4                 32.0\n",
       "         5                  4.0\n",
       "         6                  6.0\n",
       "         7                  1.0\n",
       "         8                 11.0\n",
       "6        0                219.0\n",
       "         1                 57.0\n",
       "         2                 93.0\n",
       "         3                 60.0\n",
       "         4                 27.0\n",
       "         5                  1.0\n",
       "         6                  2.0\n",
       "         7                 43.0\n",
       "7        0                434.0\n",
       "         1                 94.0\n",
       "         2                 75.0\n",
       "         3                 31.0\n",
       "         5                 18.0\n",
       "         6                 11.0\n",
       "         8                  7.0"
      ]
     },
     "execution_count": 259,
     "metadata": {},
     "output_type": "execute_result"
    }
   ],
   "source": [
    "df_sub.groupby(['POINT_ID', 'usda_prediction'])['usda_prediction'].describe()[['count']]"
   ]
  },
  {
   "cell_type": "code",
   "execution_count": null,
   "metadata": {
    "ExecuteTime": {
     "end_time": "2022-03-18T11:42:07.061673Z",
     "start_time": "2022-03-18T11:14:42.457523Z"
    }
   },
   "outputs": [],
   "source": [
    "models = [\n",
    "    ExtraTreesClassifier(), RandomForestClassifier(), #n_estimators=300, n_estimators=300\n",
    "    SGDClassifier(), KNeighborsClassifier(), #max_iter=100, tol=1e-3\n",
    "    LogisticRegression(), LogisticRegressionCV(), # solver='lbfgs' cv=3\n",
    "    BaggingClassifier(), #SVC(gamma='auto'), NuSVC(gamma='auto'), LinearSVC()\n",
    "]\n",
    "\n",
    "X = df_sub[['VV', 'VH', 'NDVI','angle', 'day_of_year', 'platform_A', 'platform_B', \n",
    "            'orbit_ASCENDING', 'orbit_DESCENDING','minimum_2m_air_temperature',\n",
    "             'pp_24h', 'pp_48h', 'pp_72h','mean_2m_air_temperature','maximum_2m_air_temperature',\n",
    "                'minimum_2m_air_temperature', 'Blue', 'Green', 'Red', 'RedEdge1', 'RedEdge2', 'RedEdge3', \n",
    "                'RedEdge4', 'NIR', 'WaterVapor', 'SWIR1', 'SWIR2','ssm']].values\n",
    "\n",
    "def save_confusion_matrix(X_test, y_test, model, labels, display_labels, fname):\n",
    "    cm = ConfusionMatrixDisplay.from_predictions(y_test, model.predict(X_test), labels = labels, display_labels = display_labels)\n",
    "    cm.ax_.axis('auto') \n",
    "    cm.ax_.set_xticklabels(cm.ax_.get_xticklabels(), rotation=45, ha='right')\n",
    "    plt.title('Confusion Matrix')\n",
    "    plt.grid(False)\n",
    "    plt.savefig(fname, dpi=150, bbox_inches='tight')\n",
    "    return plt.show()  \n",
    "\n",
    "def score_model(X, model, soil_class):\n",
    "    \"\"\"\n",
    "    Test various estimators.\n",
    "    \"\"\"\n",
    "    if soil_class == 'INTERNATIONAL':\n",
    "        labels = list(INTERNATIONAL_to_numerical['INTERNATIONAL'].values())\n",
    "        target_names = list(INTERNATIONAL_to_numerical['INTERNATIONAL'].keys())\n",
    "        y = df_sub['INTERNATIONAL'].values\n",
    "        X_train, X_test, y_train, y_test = train_test_split(X, y, test_size=.3,random_state=100)\n",
    "    elif soil_class == 'ISSS':\n",
    "        labels = list(ISSS_to_numerical['ISSS'].values())\n",
    "        target_names = list(ISSS_to_numerical['ISSS'].keys())\n",
    "        y = df_sub['ISSS'].values\n",
    "        X_train, X_test, y_train, y_test = train_test_split(X, y, test_size=.3,random_state=100)\n",
    "    elif soil_class == 'USDA':\n",
    "        labels = list(USDA_to_numerical['USDA'].values())\n",
    "        target_names = list(USDA_to_numerical['USDA'].keys())\n",
    "        y = df_sub['USDA'].values\n",
    "        X_train, X_test, y_train, y_test = train_test_split(X, y, test_size=.3,random_state=100)\n",
    "    elif soil_class == 'FAO':\n",
    "        labels = list(FAO_to_numerical['FAO'].values())\n",
    "        target_names = list(FAO_to_numerical['FAO'].keys())\n",
    "        y = df_sub['FAO'].values\n",
    "        X_train, X_test, y_train, y_test = train_test_split(X, y, test_size=.3,random_state=100)\n",
    "        \n",
    "    # Instantiate the classification model and visualizer\n",
    "    model.fit(X_train, y_train)\n",
    "    # Compute and return F1 (harmonic mean of precision and recall)\n",
    "    report_dict = classification_report(y_test, model.predict(X_test), \n",
    "                                labels = labels, \n",
    "                                target_names = target_names,\n",
    "                                output_dict=True)\n",
    "\n",
    "    repdf = pd.DataFrame(report_dict).round(2).transpose()\n",
    "    repdf.insert(loc=0, column='class', value=target_names + [\"accuracy\", \"macro avg\", \"weighted avg\"])\n",
    "    repdf.to_csv('C://Users/USER/Desktop/Master_Irrigation/05_Results/classification/out1/' + soil_class + '_' + 'cp_rows_IB_nopara_out1_' + str(model) + '.csv', index=False)\n",
    "    print('Write: ' + 'C://Users/USER/Desktop/Master_Irrigation/05_Results/classification/out1/' + soil_class + '_' + 'cp_rows_IB_nopara_out1_' + str(model) + '.csv')\n",
    "    \n",
    "    save_confusion_matrix(X_test, y_test, model, labels, \n",
    "                          target_names, \n",
    "                          'C://Users/USER/Desktop/Master_Irrigation/05_Results/classification/out1/' + soil_class + '_' + 'cm_rows_IB_nopara_out1_' + str(model) + '.png'\n",
    "                         )\n",
    "\n",
    "    return report_dict\n",
    "\n",
    "for model in models:\n",
    "    for soil_class in ['FAO', 'USDA', 'ISSS', 'INTERNATIONAL']:  \n",
    "        print(model, soil_class)\n",
    "        score_model(X, model, soil_class)"
   ]
  },
  {
   "cell_type": "markdown",
   "metadata": {},
   "source": [
    "#### regression"
   ]
  },
  {
   "cell_type": "code",
   "execution_count": null,
   "metadata": {
    "ExecuteTime": {
     "end_time": "2022-03-18T13:49:19.526753Z",
     "start_time": "2022-03-18T13:49:18.286978Z"
    }
   },
   "outputs": [],
   "source": [
    "# Load the regression dataset\n",
    "X = df_sub[['VV', 'VH', 'NDVI','angle', 'day_of_year', 'platform_A', 'platform_B', \n",
    "            'orbit_ASCENDING', 'orbit_DESCENDING','minimum_2m_air_temperature',\n",
    "             'pp_24h', 'pp_48h', 'pp_72h','mean_2m_air_temperature','maximum_2m_air_temperature',\n",
    "                'minimum_2m_air_temperature', 'Blue', 'Green', 'Red', 'RedEdge1', 'RedEdge2', 'RedEdge3', \n",
    "                'RedEdge4', 'NIR', 'WaterVapor', 'SWIR1', 'SWIR2', 'ssm']].values\n",
    "\n",
    "y = df_sub['sand'].values\n",
    "\n",
    "# Instantiate the regression model and visualizer\n",
    "cv = KFold(n_splits=12, random_state=42, shuffle=True)\n",
    "\n",
    "model = Lasso()\n",
    "visualizer = CVScores(model, cv=cv, scoring='r2')\n",
    "\n",
    "visualizer.fit(X, y)        # Fit the data to the visualizer\n",
    "visualizer.show()           # Finalize and render the figure"
   ]
  },
  {
   "cell_type": "code",
   "execution_count": null,
   "metadata": {
    "ExecuteTime": {
     "end_time": "2022-03-18T13:49:26.110420Z",
     "start_time": "2022-03-18T13:49:25.300809Z"
    }
   },
   "outputs": [],
   "source": [
    "# Create the train and test data\n",
    "X_train, X_test, y_train, y_test = train_test_split(X, y, test_size=0.4, random_state=42)\n",
    "\n",
    "# Instantiate the linear model and visualizer\n",
    "model = Lasso()\n",
    "visualizer = prediction_error(model, X_train, y_train, X_test, y_test)"
   ]
  },
  {
   "cell_type": "code",
   "execution_count": null,
   "metadata": {},
   "outputs": [],
   "source": [
    "models = [ #max_iter=100, tol=1e-3\n",
    "    LogisticRegression(), LogisticRegressionCV(), # solver='lbfgs' cv=3\n",
    "     #SVC(gamma='auto'), NuSVC(gamma='auto'), LinearSVC()\n",
    "]\n",
    "\n",
    "X = df_sub[['VV', 'VH', 'NDVI','angle', 'day_of_year', 'platform_A', 'platform_B', \n",
    "            'orbit_ASCENDING', 'orbit_DESCENDING','minimum_2m_air_temperature',\n",
    "             'pp_24h', 'pp_48h', 'pp_72h','mean_2m_air_temperature','maximum_2m_air_temperature',\n",
    "                'minimum_2m_air_temperature', 'Blue', 'Green', 'Red', 'RedEdge1', 'RedEdge2', 'RedEdge3', \n",
    "                'RedEdge4', 'NIR', 'WaterVapor', 'SWIR1', 'SWIR2', 'ssm']].values\n",
    "\n",
    "y = df_sub['coarse'].values\n",
    "\n",
    "X_train, X_test, y_train, y_test = train_test_split(X, y, test_size=.3,random_state=100)\n",
    "\n",
    "def save_confusion_matrix(X_test, y_test, model, labels, display_labels, fname):\n",
    "    cm = ConfusionMatrixDisplay.from_predictions(y_test, model.predict(X_test), labels = labels, display_labels = display_labels)\n",
    "    cm.ax_.axis('auto') \n",
    "    cm.ax_.set_xticklabels(cm.ax_.get_xticklabels(), rotation=45, ha='right')\n",
    "    plt.title('Confusion Matrix')\n",
    "    plt.grid(False)\n",
    "    plt.savefig(fname, dpi=150, bbox_inches='tight')\n",
    "    return plt.show()  \n",
    "\n",
    "def score_model(X_train, X_test, y_train, y_test, model):\n",
    "    \"\"\"\n",
    "    Test various estimators.\n",
    "    \"\"\"\n",
    "        \n",
    "    # Instantiate the classification model and visualizer\n",
    "    model.fit(X_train, y_train)\n",
    "    # Compute and return F1 (harmonic mean of precision and recall)\n",
    "    report_dict = classification_report(y_test, model.predict(X_test), \n",
    "                                #labels = labels, \n",
    "                                #target_names = target_names,\n",
    "                                output_dict=True)\n",
    "\n",
    "    repdf = pd.DataFrame(report_dict).round(2).transpose()\n",
    "    repdf.insert(loc=0, column='class', value=target_names + [\"accuracy\", \"macro avg\", \"weighted avg\"])\n",
    "    repdf.to_csv('C://Users/USER/Desktop/Master_Irrigation/05_Results/classification/noparam_regression/' + soil_class + '_' + 'cp_rows_IB_nopara_' + str(model) + '.csv', index=False)\n",
    "    print('Write: ' + 'C://Users/USER/Desktop/Master_Irrigation/05_Results/classification/noparam_regression/' + soil_class + '_' + 'cp_rows_IB_nopara_' + str(model) + '.csv')\n",
    "    \n",
    "    save_confusion_matrix(X_test, y_test, model, labels, \n",
    "                          target_names, \n",
    "                          'C://Users/USER/Desktop/Master_Irrigation/05_Results/classification/noparam_regression/' + soil_class + '_' + 'cm_rows_IB_nopara_' + str(model) + '.png'\n",
    "                         )\n",
    "\n",
    "    return report_dict\n",
    "\n",
    "for model in models:\n",
    "    score_model(X_train, X_test, y_train, y_test, model)"
   ]
  },
  {
   "cell_type": "markdown",
   "metadata": {},
   "source": [
    "### Balanced without outlierz and minmax scaler for all variables"
   ]
  },
  {
   "cell_type": "code",
   "execution_count": 206,
   "metadata": {
    "ExecuteTime": {
     "end_time": "2022-03-18T16:23:39.928119Z",
     "start_time": "2022-03-18T16:22:21.118385Z"
    }
   },
   "outputs": [
    {
     "data": {
      "image/png": "[encoded data removed]",
      "text/plain": [
       "<Figure size 576x396 with 1 Axes>"
      ]
     },
     "metadata": {},
     "output_type": "display_data"
    },
    {
     "data": {
      "text/plain": [
       "<AxesSubplot:title={'center':'RandomForestClassifier Confusion Matrix'}, xlabel='Predicted Class', ylabel='True Class'>"
      ]
     },
     "execution_count": 206,
     "metadata": {},
     "output_type": "execute_result"
    },
    {
     "data": {
      "text/plain": [
       "<Figure size 576x396 with 0 Axes>"
      ]
     },
     "metadata": {},
     "output_type": "display_data"
    }
   ],
   "source": [
    "X = df_sub[['VV', 'VH', 'NDVI','angle', 'day_of_year', 'platform_A', 'platform_B', \n",
    "            'orbit_ASCENDING', 'orbit_DESCENDING','minimum_2m_air_temperature',\n",
    "             'pp_24h', 'pp_48h', 'pp_72h','mean_2m_air_temperature','maximum_2m_air_temperature',\n",
    "                'minimum_2m_air_temperature', 'Blue', 'Green', 'Red', 'RedEdge1', 'RedEdge2', 'RedEdge3', \n",
    "                'RedEdge4', 'NIR', 'WaterVapor', 'SWIR1', 'SWIR2','ssm']].values\n",
    "y = df_sub['USDA'].values\n",
    "X_train, X_test, y_train, y_test = train_test_split(X, y, test_size=.3,random_state=100)\n",
    "\n",
    "\n",
    "labels = list(USDA_to_numerical['USDA'].values())\n",
    "target_names = list(USDA_to_numerical['USDA'].keys())\n",
    "# Instantiate the visualizer with the classification model\n",
    "cm = yellow_confusion_matrix(\n",
    "    RandomForestClassifier(),\n",
    "    X_train, y_train, X_test, y_test,\n",
    "    classes=target_names\n",
    ")\n",
    "#plt.tight_layout()\n",
    "cm.show(outpath='C://Users/USER/Desktop/Master_Irrigation/05_Results/classification/USDA_cm_RandomForest_IB_all_rows.png', dpi=150)"
   ]
  },
  {
   "cell_type": "code",
   "execution_count": 207,
   "metadata": {
    "ExecuteTime": {
     "end_time": "2022-03-18T16:27:20.658863Z",
     "start_time": "2022-03-18T16:26:03.722743Z"
    }
   },
   "outputs": [
    {
     "data": {
      "text/plain": [
       "<AxesSubplot:title={'center':'RandomForestClassifier Classification Report'}>"
      ]
     },
     "execution_count": 207,
     "metadata": {},
     "output_type": "execute_result"
    },
    {
     "data": {
      "image/png": "[encoded data removed]",
      "text/plain": [
       "<Figure size 576x396 with 2 Axes>"
      ]
     },
     "metadata": {},
     "output_type": "display_data"
    }
   ],
   "source": [
    "model = RandomForestClassifier()\n",
    "visualizer = ClassificationReport(model, classes=target_names, support=True)\n",
    "\n",
    "visualizer.fit(X_train, y_train)        # Fit the visualizer and the model\n",
    "visualizer.score(X_test, y_test)        # Evaluate the model on the test data\n",
    "\n",
    "visualizer.show(outpath='C://Users/USER/Desktop/Master_Irrigation/05_Results/classification/USDA_cp_RandomForest_IB_all_rows.png', dpi=150)                       # Finalize and show the figure"
   ]
  },
  {
   "cell_type": "markdown",
   "metadata": {},
   "source": [
    "## Feature Extracting"
   ]
  },
  {
   "cell_type": "code",
   "execution_count": null,
   "metadata": {
    "ExecuteTime": {
     "end_time": "2022-03-12T12:54:17.029163Z",
     "start_time": "2022-03-12T12:54:16.998135Z"
    }
   },
   "outputs": [],
   "source": [
    "# create new classes for sand\n",
    "df_sub['sand_class'] = df_sub['sand']\n",
    "df_sub.loc[df_sub['sand'].between(0,.15), 'sand_class'] = 0\n",
    "df_sub.loc[df_sub['sand'].between(.15,.3), 'sand_class'] = 1\n",
    "df_sub.loc[df_sub['sand'].between(.3,.45), 'sand_class'] = 2\n",
    "df_sub.loc[df_sub['sand'].between(.6,.75), 'sand_class'] = 4\n",
    "df_sub.loc[df_sub['sand'].between(.75,.9), 'sand_class'] = 5\n",
    "df_sub.loc[df_sub['sand'].between(.9,1), 'sand_class'] = 6"
   ]
  },
  {
   "cell_type": "markdown",
   "metadata": {},
   "source": [
    "### for all features"
   ]
  },
  {
   "cell_type": "code",
   "execution_count": null,
   "metadata": {
    "ExecuteTime": {
     "end_time": "2022-03-13T11:33:26.572577Z",
     "start_time": "2022-03-13T11:24:27.831553Z"
    }
   },
   "outputs": [],
   "source": [
    "df_features = df_sub[['POINT_ID', 'date', 'VV', 'VH', 'angle', 'NDVI', 'day_of_year',\n",
    "       'minimum_2m_air_temperature', 'pp_24h', 'pp_48h', 'pp_72h',\n",
    "       'platform_A', 'platform_B', 'orbit_ASCENDING', 'orbit_DESCENDING']]\n",
    "\n",
    "y_features = df_sub[['POINT_ID','USDA']].drop_duplicates()\n",
    "y_features = y_features.set_index('POINT_ID')['USDA']\n",
    "\n",
    "relevant_features = extract_relevant_features(df_features, y_features, column_id='POINT_ID', column_sort='date')"
   ]
  },
  {
   "cell_type": "code",
   "execution_count": null,
   "metadata": {
    "ExecuteTime": {
     "end_time": "2022-03-13T11:40:17.518718Z",
     "start_time": "2022-03-13T11:40:17.396298Z"
    }
   },
   "outputs": [],
   "source": [
    "oversample = SMOTE()\n",
    "X, y = oversample.fit_resample(relevant_features, y_features)"
   ]
  },
  {
   "cell_type": "markdown",
   "metadata": {},
   "source": [
    "### Desicion tree full features"
   ]
  },
  {
   "cell_type": "code",
   "execution_count": null,
   "metadata": {
    "ExecuteTime": {
     "end_time": "2022-03-13T11:40:24.456624Z",
     "start_time": "2022-03-13T11:40:24.440977Z"
    }
   },
   "outputs": [],
   "source": [
    "X_train, X_test, y_train, y_test = train_test_split(X, y, test_size=.3)"
   ]
  },
  {
   "cell_type": "code",
   "execution_count": null,
   "metadata": {
    "ExecuteTime": {
     "end_time": "2022-03-13T11:40:26.075899Z",
     "start_time": "2022-03-13T11:40:25.898377Z"
    }
   },
   "outputs": [],
   "source": [
    "decision_tree = DecisionTreeClassifier()\n",
    "decision_tree.fit(X_train, y_train)\n",
    "print(classification_report(y_test, decision_tree.predict(X_test),labels = list(USDA_to_numerical['USDA'].values()), target_names = list(USDA_to_numerical['USDA'].keys()) ))"
   ]
  },
  {
   "cell_type": "code",
   "execution_count": null,
   "metadata": {
    "ExecuteTime": {
     "end_time": "2022-03-13T10:17:16.572661Z",
     "start_time": "2022-03-13T10:16:05.239819Z"
    }
   },
   "outputs": [],
   "source": [
    "# Desicion Tree Hyperparameter Tuning\n",
    "param_dict = {\n",
    "    'max_depth' : range(1,20,3),\n",
    "    'min_samples_split' : range(1,20,3),\n",
    "    'min_samples_leaf' : range(1,20,3)\n",
    "}\n",
    "\n",
    "grid = GridSearchCV(decision_tree,\n",
    "                   param_grid = param_dict,\n",
    "                   cv=10,\n",
    "                   verbose=1,\n",
    "                   n_jobs=-1)\n",
    "grid.fit(X_train,y_train)\n",
    "print(grid.best_params_)\n",
    "print(grid.best_estimator_)\n",
    "print(grid.best_score_)"
   ]
  },
  {
   "cell_type": "code",
   "execution_count": null,
   "metadata": {
    "ExecuteTime": {
     "end_time": "2022-03-13T10:17:17.445417Z",
     "start_time": "2022-03-13T10:17:16.855827Z"
    }
   },
   "outputs": [],
   "source": [
    "# RandomForest Classifier\n",
    "random_forest = RandomForestClassifier()\n",
    "random_forest.fit(X_train, y_train)\n",
    "print(classification_report(y_test, random_forest.predict(X_test), labels = list(USDA_to_numerical['USDA'].values()), target_names = list(USDA_to_numerical['USDA'].keys())))"
   ]
  },
  {
   "cell_type": "code",
   "execution_count": null,
   "metadata": {
    "ExecuteTime": {
     "end_time": "2022-03-13T10:28:37.521876Z",
     "start_time": "2022-03-13T10:20:00.456012Z"
    }
   },
   "outputs": [],
   "source": [
    "# Random Forest Hyperparameter Tuning\n",
    "param_dict = {\n",
    "    'n_estimators' : [50,100,300,1000],\n",
    "    'max_depth' : range(1,100,15),\n",
    "    'min_samples_split' : range(1,100,15)\n",
    "}\n",
    "\n",
    "grid = GridSearchCV(random_forest,\n",
    "                   param_grid = param_dict,\n",
    "                   cv=10,\n",
    "                   verbose=1,\n",
    "                   n_jobs=-1)\n",
    "grid.fit(X_train,y_train)\n",
    "print(grid.best_params_)\n",
    "print(grid.best_estimator_)\n",
    "print(grid.best_score_)"
   ]
  },
  {
   "cell_type": "code",
   "execution_count": null,
   "metadata": {
    "ExecuteTime": {
     "end_time": "2022-03-13T10:29:42.734616Z",
     "start_time": "2022-03-13T10:28:37.781668Z"
    }
   },
   "outputs": [],
   "source": [
    "# GradientBoosting XGBoost Classifier\n",
    "classifier = GradientBoostingClassifier()\n",
    "classifier.fit(X_train, y_train)\n",
    "print(classification_report(y_test, classifier.predict(X_test), labels = list(USDA_to_numerical['USDA'].values()), target_names = list(USDA_to_numerical['USDA'].keys())))"
   ]
  },
  {
   "cell_type": "code",
   "execution_count": null,
   "metadata": {
    "ExecuteTime": {
     "end_time": "2022-03-13T10:29:43.035200Z",
     "start_time": "2022-03-13T10:29:42.981790Z"
    }
   },
   "outputs": [],
   "source": [
    "# Naive Bayes Classifier\n",
    "classifier = GaussianNB()\n",
    "classifier.fit(X_train, y_train)\n",
    "print(classification_report(y_test, classifier.predict(X_test), labels = list(USDA_to_numerical['USDA'].values()), target_names = list(USDA_to_numerical['USDA'].keys())))"
   ]
  },
  {
   "cell_type": "code",
   "execution_count": null,
   "metadata": {
    "ExecuteTime": {
     "end_time": "2022-03-13T10:29:43.435962Z",
     "start_time": "2022-03-13T10:29:43.266694Z"
    }
   },
   "outputs": [],
   "source": [
    "# SVM Support Vector Machines\n",
    "classifier = SVC()\n",
    "classifier.fit(X_train, y_train)\n",
    "print(classification_report(y_test, classifier.predict(X_test), labels = list(USDA_to_numerical['USDA'].values()), target_names = list(USDA_to_numerical['USDA'].keys())))"
   ]
  },
  {
   "cell_type": "code",
   "execution_count": null,
   "metadata": {
    "ExecuteTime": {
     "end_time": "2022-03-13T10:29:45.584131Z",
     "start_time": "2022-03-13T10:29:43.683218Z"
    }
   },
   "outputs": [],
   "source": [
    "# AdaBoost classifier\n",
    "classifier = AdaBoostClassifier()\n",
    "classifier.fit(X_train, y_train)\n",
    "print(classification_report(y_test, classifier.predict(X_test), labels = list(USDA_to_numerical['USDA'].values()), target_names = list(USDA_to_numerical['USDA'].keys())))"
   ]
  },
  {
   "cell_type": "code",
   "execution_count": null,
   "metadata": {
    "ExecuteTime": {
     "end_time": "2022-03-13T10:31:27.048084Z",
     "start_time": "2022-03-13T10:29:45.838059Z"
    }
   },
   "outputs": [],
   "source": [
    "# Logisitc Regression\n",
    "model = LogisticRegression(solver='saga', max_iter=10000)\n",
    "model.fit(X_train, y_train)\n",
    "model.score(X_test, y_test)"
   ]
  },
  {
   "cell_type": "markdown",
   "metadata": {},
   "source": [
    "## Descion Tree USDA full rows\n",
    "https://keras.io/examples/structured_data/deep_neural_decision_forests/"
   ]
  },
  {
   "cell_type": "markdown",
   "metadata": {},
   "source": [
    "# Classification\n",
    "## Multi Time Series with irregular time intervals"
   ]
  },
  {
   "cell_type": "markdown",
   "metadata": {},
   "source": [
    "## SKLearn multiple classifiers comparison"
   ]
  },
  {
   "cell_type": "code",
   "execution_count": null,
   "metadata": {
    "ExecuteTime": {
     "end_time": "2022-03-17T16:25:10.034302Z",
     "start_time": "2022-03-17T16:25:09.929731Z"
    }
   },
   "outputs": [],
   "source": [
    "#dataset = df_sub[df_sub['date'].dt.year.isin([2018])].values\n",
    "X = df_sub[['VV', 'VH', 'NDVI','angle', 'day_of_year', 'platform_A', 'platform_B', \n",
    "            'orbit_ASCENDING', 'orbit_DESCENDING','minimum_2m_air_temperature',\n",
    "             'pp_24h', 'pp_48h', 'pp_72h','mean_2m_air_temperature','maximum_2m_air_temperature',\n",
    "                'minimum_2m_air_temperature', 'Blue', 'Green', 'Red', 'RedEdge1', 'RedEdge2', 'RedEdge3', \n",
    "                'RedEdge4', 'NIR', 'WaterVapor', 'SWIR1', 'SWIR2','ssm']].values\n",
    "\n",
    "#X = test[['VV', 'VH', 'NDVI','angle', 'day_of_year', 'platform_A', 'platform_B', \n",
    "#            'orbit_ASCENDING', 'orbit_DESCENDING','minimum_2m_air_temperature',\n",
    "#             'pp_24h', 'pp_48h', 'pp_72h','mean_2m_air_temperature','maximum_2m_air_temperature',\n",
    "#                'minimum_2m_air_temperature', 'Blue', 'Green', 'Red', 'RedEdge1', 'RedEdge2', 'RedEdge3', \n",
    "#                'RedEdge4', 'NIR', 'WaterVapor', 'SWIR1', 'SWIR2','ssm']].values\n",
    "\n",
    "#y = df_sub['USDA'].values\n",
    "#y = df_sub['ISSS'].values\n",
    "y = df_sub['INTERNATIONAL'].values\n",
    "#y = df_sub['FAO'].values\n",
    "\n",
    "#y = test['INTERNATIONAL'].values\n",
    "## Split Training Test Data\n",
    "X_train, X_test, y_train, y_test = train_test_split(X, y, test_size=.3,random_state=100)"
   ]
  },
  {
   "cell_type": "code",
   "execution_count": null,
   "metadata": {
    "ExecuteTime": {
     "end_time": "2022-03-17T16:25:26.440230Z",
     "start_time": "2022-03-17T16:25:22.136892Z"
    }
   },
   "outputs": [],
   "source": [
    "# Decision tree Classifier\n",
    "decision_tree = DecisionTreeClassifier()\n",
    "decision_tree.fit(X_train, y_train)\n",
    "#print(classification_report(y_test, decision_tree.predict(X_test), labels = list(USDA_to_numerical['USDA'].values()), target_names = list(USDA_to_numerical['USDA'].keys())))\n",
    "#print(classification_report(y_test, decision_tree.predict(X_test), labels = list(FAO_to_numerical['FAO'].values()), target_names = list(FAO_to_numerical['FAO'].keys())))\n",
    "#print(classification_report(y_test, decision_tree.predict(X_test), labels = list(ISSS_to_numerical['ISSS'].values()), target_names = list(ISSS_to_numerical['ISSS'].keys())))\n",
    "print(classification_report(y_test, decision_tree.predict(X_test), labels = list(INTERNATIONAL_to_numerical['INTERNATIONAL'].values()), target_names = list(INTERNATIONAL_to_numerical['INTERNATIONAL'].keys())))"
   ]
  },
  {
   "cell_type": "code",
   "execution_count": null,
   "metadata": {
    "ExecuteTime": {
     "end_time": "2022-03-17T18:09:30.813168Z",
     "start_time": "2022-03-17T18:09:30.793196Z"
    }
   },
   "outputs": [],
   "source": [
    "def save_confusion_matrix(y_true,y_predict, labels, display_labels, fname):\n",
    "    cm = ConfusionMatrixDisplay.from_predictions(y_test, decision_tree.predict(X_test), labels = list(INTERNATIONAL_to_numerical['INTERNATIONAL'].values()), display_labels = list(INTERNATIONAL_to_numerical['INTERNATIONAL'].keys()))\n",
    "    cm.ax_.axis('auto') \n",
    "    cm.ax_.set_xticklabels(cm.ax_.get_xticklabels(), rotation=45, ha='right')\n",
    "    plt.title('Confusion Matrix')\n",
    "    plt.gcf().set_dpi(150)\n",
    "    fig.savefig(fname, dpi=fig.dpi)\n",
    "    return plt.show()"
   ]
  },
  {
   "cell_type": "code",
   "execution_count": null,
   "metadata": {},
   "outputs": [],
   "source": [
    "save_confusion_matrix(y_true = y_test,\n",
    "                      y_predict = decision_tree.predict(X_test),\n",
    "                      labels = list(INTERNATIONAL_to_numerical['INTERNATIONAL'].values()), \n",
    "                      display_labels = list(INTERNATIONAL_to_numerical['INTERNATIONAL'].keys()), \n",
    "                      fnmae = 'C://USERS/USER/Desktop/Master_Irrigation/04_img/results/cm/cm_INTERNATIONAL_rows_IB_')"
   ]
  },
  {
   "cell_type": "code",
   "execution_count": null,
   "metadata": {
    "ExecuteTime": {
     "end_time": "2022-03-17T19:03:56.567716Z",
     "start_time": "2022-03-17T19:03:56.519680Z"
    }
   },
   "outputs": [],
   "source": [
    "a = precision_recall_fscore_support(y_test, decision_tree.predict(X_test), \n",
    "                                    labels = list(INTERNATIONAL_to_numerical['INTERNATIONAL'].values()),\n",
    "                                   average=None)\n",
    "a"
   ]
  },
  {
   "cell_type": "code",
   "execution_count": null,
   "metadata": {
    "ExecuteTime": {
     "end_time": "2022-03-17T17:56:02.827175Z",
     "start_time": "2022-03-17T17:56:02.680207Z"
    }
   },
   "outputs": [],
   "source": [
    "fig,ax = plt.subplots()\n",
    "cm.text_\n"
   ]
  },
  {
   "cell_type": "code",
   "execution_count": null,
   "metadata": {
    "ExecuteTime": {
     "end_time": "2022-03-15T22:12:50.006938Z",
     "start_time": "2022-03-15T22:12:26.529781Z"
    }
   },
   "outputs": [],
   "source": [
    "oversample = SMOTE()\n",
    "X, y = oversample.fit_resample(X, y)\n",
    "X_train, X_test, y_train, y_test = train_test_split(X, y, test_size=.3,random_state=100)"
   ]
  },
  {
   "cell_type": "code",
   "execution_count": null,
   "metadata": {
    "ExecuteTime": {
     "end_time": "2022-03-15T22:38:25.798071Z",
     "start_time": "2022-03-15T22:38:12.224716Z"
    }
   },
   "outputs": [],
   "source": [
    "# RandomForest Classifier\n",
    "random_forest = RandomForestClassifier()\n",
    "random_forest.fit(X_train, y_train)\n",
    "print(classification_report(y_test, random_forest.predict(X_test), labels = list(INTERNATIONAL_to_numerical['INTERNATIONAL'].values()), target_names = list(INTERNATIONAL_to_numerical['INTERNATIONAL'].keys())))\n",
    "#print(classification_report(y_test, decision_tree.predict(X_test), labels = list(USDA_to_numerical['USDA'].values()), target_names = list(USDA_to_numerical['USDA'].keys())))\n"
   ]
  },
  {
   "cell_type": "code",
   "execution_count": null,
   "metadata": {
    "ExecuteTime": {
     "end_time": "2022-03-15T22:29:23.533245Z",
     "start_time": "2022-03-15T22:29:23.517596Z"
    }
   },
   "outputs": [],
   "source": [
    "df_sub.INT.unique()"
   ]
  },
  {
   "cell_type": "code",
   "execution_count": null,
   "metadata": {
    "ExecuteTime": {
     "end_time": "2022-03-15T22:38:00.932039Z",
     "start_time": "2022-03-15T22:38:00.531895Z"
    }
   },
   "outputs": [],
   "source": [
    "#Undersample\n",
    "groups = list()\n",
    "n0, n1, n2, n3, n4, n5, n6, n7, n8 = list(), list(), list(), list(), list(), list(), list(), list(), list()\n",
    "n = np.empty((9,30))\n",
    "for index, group in df_sub.groupby('POINT_ID'):\n",
    "    group.reset_index(inplace=True, drop=True)\n",
    "    g = group.loc[0,'INTERNATIONAL']\n",
    "    \n",
    "    if g == 0 and len(n0) < 20:\n",
    "        n0.append(g)\n",
    "        groups.append(group)\n",
    "        \n",
    "    elif g == 1 and len(n1) < 20:\n",
    "        n1.append(g)\n",
    "        groups.append(group)\n",
    "    \n",
    "    elif g == 2 and len(n2) < 20:\n",
    "        n2.append(g)\n",
    "        groups.append(group)\n",
    "        \n",
    "    elif g == 3 and len(n3) < 20:\n",
    "        n3.append(g)\n",
    "        groups.append(group)\n",
    "        \n",
    "    elif g == 4 and len(n4) < 20:\n",
    "        n4.append(g)\n",
    "        groups.append(group)\n",
    "    \n",
    "    elif g == 5 and len(n5) < 20:\n",
    "        n5.append(g)\n",
    "        groups.append(group)\n",
    "    elif g == 6 and len(n6) < 20:\n",
    "        n6.append(g)\n",
    "        groups.append(group)\n",
    "        \n",
    "    elif g == 7 and len(n7) < 20:\n",
    "        n7.append(g)\n",
    "        groups.append(group)\n",
    "    \n",
    "    elif g == 8 and len(n8) < 20:\n",
    "        n8.append(g)\n",
    "        groups.append(group)        \n",
    "        \n",
    "test = pd.concat(groups)"
   ]
  },
  {
   "cell_type": "code",
   "execution_count": null,
   "metadata": {
    "ExecuteTime": {
     "end_time": "2022-03-13T11:56:35.896185Z",
     "start_time": "2022-03-13T11:45:40.786324Z"
    }
   },
   "outputs": [],
   "source": [
    "# Desicion Tree Hyperparameter Tuning\n",
    "param_dict = {\n",
    "    'criterion' : ['gini', 'entropy'],\n",
    "    'max_depth' : range(1,15,3),\n",
    "    'min_samples_split' : range(1,15,3),\n",
    "    'min_samples_leaf' : range(1,15,3)\n",
    "}\n",
    "\n",
    "grid = GridSearchCV(decision_tree,\n",
    "                   param_grid = param_dict,\n",
    "                   cv=10,\n",
    "                   verbose=1,\n",
    "                   n_jobs=-1)\n",
    "grid.fit(X,y)\n",
    "print(grid.best_params_)\n",
    "print(grid.best_estimator_)\n",
    "print(grid.best_score_)"
   ]
  },
  {
   "cell_type": "code",
   "execution_count": null,
   "metadata": {
    "ExecuteTime": {
     "end_time": "2022-03-13T11:57:08.313017Z",
     "start_time": "2022-03-13T11:57:07.900765Z"
    }
   },
   "outputs": [],
   "source": [
    "# Random Forest Hyperparameter Tuning\n",
    "param_dict = {\n",
    "    'n_estimators' : [50,100,300],\n",
    "    'max_depth' : range(1,15,3),\n",
    "    'min_features' : range(1,X_train.shape[1]),\n",
    "    'min_samples_split' : range(1,15,3)\n",
    "}\n",
    "\n",
    "grid = GridSearchCV(random_forest,\n",
    "                   param_grid = param_dict,\n",
    "                   cv=10,\n",
    "                   verbose=1,\n",
    "                   n_jobs=-1)\n",
    "grid.fit(X,y)\n",
    "print(grid.best_params_)\n",
    "print(grid.best_estimator_)\n",
    "print(grid.best_score_)"
   ]
  },
  {
   "cell_type": "code",
   "execution_count": null,
   "metadata": {
    "ExecuteTime": {
     "end_time": "2022-03-15T22:46:45.520613Z",
     "start_time": "2022-03-15T22:43:32.463021Z"
    }
   },
   "outputs": [],
   "source": [
    "# GradientBoosting XGBoost Classifier\n",
    "classifier = GradientBoostingClassifier()\n",
    "classifier.fit(X_train, y_train)\n",
    "print(classification_report(y_test, random_forest.predict(X_test), labels = list(INTERNATIONAL_to_numerical['INTERNATIONAL'].values()), target_names = list(INTERNATIONAL_to_numerical['INTERNATIONAL'].keys())))\n",
    "#print(classification_report(y_test, classifier.predict(X_test), labels = list(USDA_to_numerical['USDA'].values()), target_names = list(USDA_to_numerical['USDA'].keys())))"
   ]
  },
  {
   "cell_type": "code",
   "execution_count": null,
   "metadata": {
    "ExecuteTime": {
     "end_time": "2022-03-15T22:46:49.741899Z",
     "start_time": "2022-03-15T22:46:49.288216Z"
    }
   },
   "outputs": [],
   "source": [
    "# Naive Bayes Classifier\n",
    "classifier = GaussianNB()\n",
    "classifier.fit(X_train, y_train)\n",
    "print(classification_report(y_test, random_forest.predict(X_test), labels = list(INTERNATIONAL_to_numerical['INTERNATIONAL'].values()), target_names = list(INTERNATIONAL_to_numerical['INTERNATIONAL'].keys())))\n",
    "#print(classification_report(y_test, classifier.predict(X_test), labels = list(USDA_to_numerical['USDA'].values()), target_names = list(USDA_to_numerical['USDA'].keys())))"
   ]
  },
  {
   "cell_type": "code",
   "execution_count": null,
   "metadata": {
    "ExecuteTime": {
     "end_time": "2022-03-15T22:49:24.144281Z",
     "start_time": "2022-03-15T22:46:53.480535Z"
    }
   },
   "outputs": [],
   "source": [
    "# SVM Support Vector Machines\n",
    "classifier = SVC()\n",
    "classifier.fit(X_train, y_train)\n",
    "print(classification_report(y_test, random_forest.predict(X_test), labels = list(INTERNATIONAL_to_numerical['INTERNATIONAL'].values()), target_names = list(INTERNATIONAL_to_numerical['INTERNATIONAL'].keys())))\n",
    "#print(classification_report(y_test, classifier.predict(X_test), labels = list(USDA_to_numerical['USDA'].values()), target_names = list(USDA_to_numerical['USDA'].keys())))"
   ]
  },
  {
   "cell_type": "code",
   "execution_count": null,
   "metadata": {
    "ExecuteTime": {
     "end_time": "2022-03-15T22:49:33.517187Z",
     "start_time": "2022-03-15T22:49:27.938167Z"
    }
   },
   "outputs": [],
   "source": [
    "classifier = AdaBoostClassifier()\n",
    "classifier.fit(X_train, y_train)\n",
    "print(classification_report(y_test, random_forest.predict(X_test), labels = list(INTERNATIONAL_to_numerical['INTERNATIONAL'].values()), target_names = list(INTERNATIONAL_to_numerical['INTERNATIONAL'].keys())))\n",
    "#print(classification_report(y_test, classifier.predict(X_test), labels = list(USDA_to_numerical['USDA'].values()), target_names = list(USDA_to_numerical['USDA'].keys())))"
   ]
  },
  {
   "cell_type": "markdown",
   "metadata": {},
   "source": [
    "## Keras Functional API with 3 outputs - sand, clay, silt distribution size"
   ]
  },
  {
   "cell_type": "code",
   "execution_count": null,
   "metadata": {
    "ExecuteTime": {
     "end_time": "2022-03-13T12:20:23.843610Z",
     "start_time": "2022-03-13T12:20:23.828211Z"
    }
   },
   "outputs": [],
   "source": [
    "import tensorflow as tf\n",
    "from tensorflow.keras.models import Sequential\n",
    "from tensorflow.keras.models import Model\n",
    "\n",
    "from tensorflow.keras.optimizers import RMSprop\n",
    "\n",
    "from tensorflow.keras.layers import Dense\n",
    "from tensorflow.keras.layers import Input\n",
    "\n",
    "from tensorflow.keras.wrappers.scikit_learn import KerasClassifier\n",
    "from tensorflow.keras.callbacks import EarlyStopping"
   ]
  },
  {
   "cell_type": "markdown",
   "metadata": {
    "ExecuteTime": {
     "end_time": "2022-03-07T20:23:56.760906Z",
     "start_time": "2022-03-07T20:23:56.745297Z"
    }
   },
   "source": [
    "one epoch = one forward pass and one backward pass of all the training examples\n",
    "batch size = the number of training examples in one forward/backward pass. The higher the batch size, the more memory space you'll need.\n",
    "number of iterations = number of passes, each pass using [batch size] number of examples. To be clear, one pass = one forward pass + one backward pass (we do not count the forward pass and backward pass as two different passes)."
   ]
  },
  {
   "cell_type": "code",
   "execution_count": null,
   "metadata": {
    "ExecuteTime": {
     "end_time": "2022-03-12T11:27:09.028811Z",
     "start_time": "2022-03-12T11:27:09.013823Z"
    }
   },
   "outputs": [],
   "source": [
    "%load_ext tensorboard"
   ]
  },
  {
   "cell_type": "markdown",
   "metadata": {},
   "source": [
    "    metrices https://keras.io/api/metrics/"
   ]
  },
  {
   "cell_type": "code",
   "execution_count": null,
   "metadata": {
    "ExecuteTime": {
     "end_time": "2022-03-13T10:40:28.410619Z",
     "start_time": "2022-03-13T10:40:28.348336Z"
    }
   },
   "outputs": [],
   "source": [
    "#dataset = df_sub[df_sub['date'].dt.year.isin([2018])].values\n",
    "X = df_sub[['VV', 'VH', 'NDVI','angle', 'day_of_year', 'platform_A', 'platform_B', \n",
    "            'orbit_ASCENDING', 'orbit_DESCENDING','minimum_2m_air_temperature',\n",
    "            'pp_24h', 'pp_48h', 'pp_72h']].values\n",
    "\n",
    "y1 = df_sub['sand'].values\n",
    "y2 = df_sub['silt'].values\n",
    "y3 = df_sub['clay'].values\n",
    "\n",
    "y = df_sub[['sand', 'silt', 'clay']].values\n",
    "\n",
    "## Split Training Test Data\n",
    "X_train, X_test, y_train, y_test = train_test_split(X, y, test_size=.3)"
   ]
  },
  {
   "cell_type": "code",
   "execution_count": null,
   "metadata": {
    "ExecuteTime": {
     "end_time": "2022-03-13T10:40:30.916467Z",
     "start_time": "2022-03-13T10:40:30.901077Z"
    }
   },
   "outputs": [],
   "source": [
    "y_test.shape, X_train.shape"
   ]
  },
  {
   "cell_type": "code",
   "execution_count": null,
   "metadata": {
    "ExecuteTime": {
     "end_time": "2022-03-13T10:40:44.042532Z",
     "start_time": "2022-03-13T10:40:44.011520Z"
    }
   },
   "outputs": [],
   "source": [
    "def build_model():\n",
    "    # Define model layers.\n",
    "    input_layer = Input(shape=(X_train.shape[1],))\n",
    "    first_dense = Dense(128, activation='relu')(input_layer)\n",
    "    # Y1 output will be fed from the first dense\n",
    "    y1_output = Dense(1, name='sand')(first_dense)    \n",
    "    second_dense = Dense(128 ,activation='relu')(first_dense)\n",
    "    # Y2 output will be fed from the second dense\n",
    "    y2_output = Dense(1,name='silt')(second_dense)\n",
    "    third_dense = Dense(128,activation='relu')(second_dense)\n",
    "    y3_output = Dense(1,name='clay')(third_dense)\n",
    "    # Define the model with the input layer and a list of output layers\n",
    "    model = Model(inputs=input_layer,outputs=[y1_output, y2_output, y3_output])\n",
    "    \n",
    "    return model\n"
   ]
  },
  {
   "cell_type": "code",
   "execution_count": null,
   "metadata": {
    "ExecuteTime": {
     "end_time": "2022-03-13T10:40:52.861322Z",
     "start_time": "2022-03-13T10:40:52.497966Z"
    }
   },
   "outputs": [],
   "source": [
    "model = build_model()# Specify the optimizer, and compile the model with loss functions for both outputs\n",
    "optimizer = RMSprop(.001)\n",
    "model.compile(optimizer=optimizer,\n",
    "              loss={'sand': 'mae', 'silt': 'mae', 'clay': 'mae'},\n",
    "metrics={'sand':tf.keras.metrics.MeanAbsoluteError(),\n",
    "        'silt':tf.keras.metrics.MeanAbsoluteError(),\n",
    "        'clay':tf.keras.metrics.MeanAbsoluteError()})"
   ]
  },
  {
   "cell_type": "code",
   "execution_count": null,
   "metadata": {
    "ExecuteTime": {
     "end_time": "2022-03-12T11:49:51.702024Z",
     "start_time": "2022-03-12T11:49:51.686397Z"
    }
   },
   "outputs": [],
   "source": [
    "stop_improving = EarlyStopping(monitor='val_silt_loss', patience=10)#####+ datetime.datetime.now().strftime(\"%Y%m%d-%H%M%S\")\n",
    "log_dir = 'logs\\\\fit_30\\\\'\n",
    "tensorboard_callback = tf.keras.callbacks.TensorBoard(log_dir=log_dir, histogram_freq=1)"
   ]
  },
  {
   "cell_type": "code",
   "execution_count": null,
   "metadata": {
    "ExecuteTime": {
     "end_time": "2022-03-13T10:41:16.829002Z",
     "start_time": "2022-03-13T10:41:09.093583Z"
    },
    "scrolled": true
   },
   "outputs": [],
   "source": [
    "history = model.fit(X_train, np.split(y_train, 3, axis=1),\n",
    "                    epochs=30, batch_size=71581, validation_split = 0.2)\n",
    "#validation_data=(X_test, np.split(y_test, 3, axis=1)), callbacks=[tensorboard_callback]"
   ]
  },
  {
   "cell_type": "code",
   "execution_count": null,
   "metadata": {
    "ExecuteTime": {
     "end_time": "2022-03-13T10:41:30.023728Z",
     "start_time": "2022-03-13T10:41:29.970316Z"
    }
   },
   "outputs": [],
   "source": [
    "hist = pd.DataFrame(history.history)\n",
    "hist['epoch'] = history.epoch\n",
    "hist"
   ]
  },
  {
   "cell_type": "code",
   "execution_count": null,
   "metadata": {},
   "outputs": [],
   "source": [
    "import matplotlib.pyplot as plt"
   ]
  },
  {
   "cell_type": "code",
   "execution_count": null,
   "metadata": {},
   "outputs": [],
   "source": []
  },
  {
   "cell_type": "markdown",
   "metadata": {},
   "source": [
    "### Sequential API with one output"
   ]
  },
  {
   "cell_type": "code",
   "execution_count": null,
   "metadata": {
    "ExecuteTime": {
     "end_time": "2022-03-13T10:41:58.442004Z",
     "start_time": "2022-03-13T10:41:58.410991Z"
    }
   },
   "outputs": [],
   "source": [
    "## The Model\n",
    "from tensorflow.keras.models import Sequential\n",
    "from tensorflow.keras import layers\n",
    "from tensorflow.nn import relu\n",
    "#from tensorflow.nn import linear\n",
    "from tensorflow.keras.optimizers import RMSprop\n",
    "from tensorflow.keras.optimizers import Adam\n",
    "from keras.callbacks import Callback\n",
    "from tensorflow.keras.callbacks import EarlyStopping\n",
    "import tensorflow as tf"
   ]
  },
  {
   "cell_type": "code",
   "execution_count": null,
   "metadata": {
    "ExecuteTime": {
     "end_time": "2022-03-13T10:42:09.803469Z",
     "start_time": "2022-03-13T10:42:09.750234Z"
    }
   },
   "outputs": [],
   "source": [
    "#dataset = df_sub[df_sub['date'].dt.year.isin([2018])].values\n",
    "\n",
    "X = df_sub[(df_sub['platform_A'] == 1) & (df_sub['orbit_ASCENDING'] == 1)][['VV', 'VH', 'NDVI','angle', 'day_of_year', \n",
    "            'minimum_2m_air_temperature', 'pp_24h', 'pp_48h', 'pp_72h']].values\n",
    "\n",
    "y = df_sub[(df_sub['platform_A'] == 1) & (df_sub['orbit_ASCENDING'] == 1)]['sand'].values\n",
    "## Split Training Test Data\n",
    "X_train, X_test, y_train, y_test = train_test_split(X, y, test_size=.3)"
   ]
  },
  {
   "cell_type": "code",
   "execution_count": null,
   "metadata": {
    "ExecuteTime": {
     "end_time": "2022-03-13T10:42:26.117111Z",
     "start_time": "2022-03-13T10:42:11.406061Z"
    }
   },
   "outputs": [],
   "source": [
    "#Architecture \n",
    "def build_model(optimizer):\n",
    "    model = Sequential([\n",
    "        layers.Dense(24, activation=relu, input_shape=(X_train.shape[1],)), # densly (fully connected) hidden layer\n",
    "        layers.Dense(12, activation=relu), # denly hidden layer\n",
    "        layers.Dense(1, activation='linear') #output layer\n",
    "    ])\n",
    "\n",
    "    model.compile(\n",
    "        loss = 'mse', # https://keras.io/api/losses/\n",
    "        optimizer = optimizer, #https://keras.io/api/optimizers/#available-optimizers\n",
    "        metrics = ['mse']) \n",
    "\n",
    "    return model\n",
    "\n",
    "model = build_model(optimizer = Adam(.001))\n",
    "\n",
    "# stop the training when there is no improvement in the loss for three consecutive epochs.\n",
    "stop_improving = EarlyStopping(monitor='val_loss', patience=10)\n",
    "\n",
    "EPOCHS = 1000\n",
    "\n",
    "history = model.fit(\n",
    "    x = X_train,\n",
    "    y = y_train,\n",
    "    epochs = EPOCHS,\n",
    "    batch_size=X_train.shape[0],\n",
    "    validation_split = 0.2, \n",
    "    verbose = 1,\n",
    "    callbacks = [stop_improving]) # Calls()\n"
   ]
  },
  {
   "cell_type": "code",
   "execution_count": null,
   "metadata": {
    "ExecuteTime": {
     "end_time": "2022-03-12T12:42:23.798130Z",
     "start_time": "2022-03-12T12:42:23.782482Z"
    }
   },
   "outputs": [],
   "source": [
    "len(y_test), len(test_predictions)"
   ]
  },
  {
   "cell_type": "code",
   "execution_count": null,
   "metadata": {
    "ExecuteTime": {
     "end_time": "2022-03-13T10:42:32.498734Z",
     "start_time": "2022-03-13T10:42:32.282718Z"
    }
   },
   "outputs": [],
   "source": [
    "hist = pd.DataFrame(history.history)\n",
    "hist['epoch'] = history.epoch\n",
    "\n",
    "## Make Predictions\n",
    "test_predictions = model.predict(X_test)\n",
    "\n",
    "plt.figure()\n",
    "plt.scatter(y_test, test_predictions)\n",
    "plt.xlabel('True Values [% sand]')\n",
    "plt.ylabel('Predictions [% sand]')\n",
    "plt.axis('equal')\n",
    "plt.axis('square')\n",
    "plt.xlim([0,100])\n",
    "plt.ylim([0,100])\n",
    "plot_predict_scatter = plt.plot([-100,100], [-100,100])\n",
    "print(plot_predict_scatter)"
   ]
  },
  {
   "cell_type": "markdown",
   "metadata": {},
   "source": [
    "### Sequential API with one output and feature extraction as input"
   ]
  },
  {
   "cell_type": "code",
   "execution_count": null,
   "metadata": {},
   "outputs": [],
   "source": [
    "# create new classes for sand\n",
    "df_sub['sand_class'] = df_sub['sand']\n",
    "df_sub.loc[df_sub['sand'].between(0,.15), 'sand_class'] = 0\n",
    "df_sub.loc[df_sub['sand'].between(.15,.3), 'sand_class'] = 1\n",
    "df_sub.loc[df_sub['sand'].between(.3,.45), 'sand_class'] = 2\n",
    "df_sub.loc[df_sub['sand'].between(.6,.75), 'sand_class'] = 4\n",
    "df_sub.loc[df_sub['sand'].between(.75,.9), 'sand_class'] = 5\n",
    "df_sub.loc[df_sub['sand'].between(.9,1), 'sand_class'] = 6"
   ]
  },
  {
   "cell_type": "code",
   "execution_count": null,
   "metadata": {
    "ExecuteTime": {
     "end_time": "2022-03-12T13:03:04.042516Z",
     "start_time": "2022-03-12T12:56:43.338477Z"
    }
   },
   "outputs": [],
   "source": [
    "from tsfresh import extract_relevant_features\n",
    "df_features = df_sub[['POINT_ID', 'date', 'VV', 'VH', 'angle', 'NDVI', 'day_of_year',\n",
    "       'minimum_2m_air_temperature', 'pp_24h', 'pp_48h', 'pp_72h',\n",
    "       'platform_A', 'platform_B', 'orbit_ASCENDING', 'orbit_DESCENDING']]\n",
    "\n",
    "y_features = df_sub[['POINT_ID','sand_class']].drop_duplicates()\n",
    "y_features = y_features.set_index('POINT_ID')['sand_class']\n",
    "\n",
    "relevant_features = extract_relevant_features(df_features, y_features, column_id='POINT_ID', column_sort='date')\n",
    "relevant_features['sand_class'] = y_features"
   ]
  },
  {
   "cell_type": "code",
   "execution_count": null,
   "metadata": {
    "ExecuteTime": {
     "end_time": "2022-03-12T13:03:10.586650Z",
     "start_time": "2022-03-12T13:03:10.555434Z"
    }
   },
   "outputs": [],
   "source": [
    "y_features = df_sub[['POINT_ID','sand']].drop_duplicates()\n",
    "y_features = y_features['sand']\n",
    "relevant_features.drop('sand_class', inplace=True, axis=1)\n",
    "X_train, X_test, y_train, y_test = train_test_split(relevant_features, y_features, test_size=.3)"
   ]
  },
  {
   "cell_type": "code",
   "execution_count": null,
   "metadata": {
    "ExecuteTime": {
     "end_time": "2022-03-12T13:05:16.183585Z",
     "start_time": "2022-03-12T13:05:16.130439Z"
    }
   },
   "outputs": [],
   "source": [
    "X_train"
   ]
  },
  {
   "cell_type": "code",
   "execution_count": null,
   "metadata": {
    "ExecuteTime": {
     "end_time": "2022-03-12T13:07:33.717582Z",
     "start_time": "2022-03-12T13:07:32.282791Z"
    }
   },
   "outputs": [],
   "source": [
    "#Architecture \n",
    "def build_model(optimizer):\n",
    "    model = Sequential([\n",
    "        layers.Dense(541, activation=relu, input_shape=[X_train.shape[1]]), # densly (fully connected) hidden layer\n",
    "        layers.Dense(64, activation=relu), # denly hidden layer\n",
    "        layers.Dense(1, activation='linear') #output layer\n",
    "    ])\n",
    "\n",
    "    model.compile(\n",
    "        loss = 'mae', # https://keras.io/api/losses/\n",
    "        optimizer = optimizer, #https://keras.io/api/optimizers/#available-optimizers\n",
    "        metrics = ['mae', 'mse', 'accuracy']) \n",
    "\n",
    "    return model\n",
    "\n",
    "model = build_model(optimizer = RMSprop(.001))\n",
    "\n",
    "# stop the training when there is no improvement in the loss for three consecutive epochs.\n",
    "stop_improving = EarlyStopping(monitor='val_loss', patience=10)\n",
    "\n",
    "EPOCHS = 10\n",
    "\n",
    "history = model.fit(\n",
    "    x = X_train,\n",
    "    y = y_train,\n",
    "    epochs = EPOCHS,\n",
    "    validation_split = 0.2, \n",
    "    verbose = 1,\n",
    "    callbacks = [stop_improving]) # Calls()"
   ]
  },
  {
   "cell_type": "code",
   "execution_count": null,
   "metadata": {
    "ExecuteTime": {
     "end_time": "2022-03-12T13:07:55.359714Z",
     "start_time": "2022-03-12T13:07:55.222104Z"
    }
   },
   "outputs": [],
   "source": [
    "hist = pd.DataFrame(history.history)\n",
    "hist['epoch'] = history.epoch\n",
    "\n",
    "## Make Predictions\n",
    "test_predictions = model.predict(X_test)\n",
    "\n",
    "plt.figure()\n",
    "plt.scatter(y_test, test_predictions)\n",
    "plt.xlabel('True Values [% sand]')\n",
    "plt.ylabel('Predictions [% sand]')\n",
    "plt.axis('equal')\n",
    "plt.axis('square')\n",
    "plt.xlim([-200,2000])\n",
    "plt.ylim([-200,2000])\n",
    "plot_predict_scatter = plt.plot([-100,100], [-100,100])\n",
    "print(plot_predict_scatter)"
   ]
  },
  {
   "cell_type": "code",
   "execution_count": null,
   "metadata": {
    "ExecuteTime": {
     "end_time": "2022-03-12T11:54:56.271686Z",
     "start_time": "2022-03-12T11:53:56.026030Z"
    }
   },
   "outputs": [],
   "source": [
    "%tensorboard --logdir logs/fit_30/"
   ]
  },
  {
   "cell_type": "markdown",
   "metadata": {},
   "source": [
    "## Multi-Class Classification with imbalanced Dataset"
   ]
  },
  {
   "cell_type": "code",
   "execution_count": null,
   "metadata": {},
   "outputs": [],
   "source": [
    "To-Do Balance Dataset\n",
    "!!Check!! Use only not winter values\n",
    "!!Check!! Find 24h rain 48 rain and 72h rainamount before acquisition\n",
    "use Tensorboard stuff https://www.tensorflow.org/tensorboard\n"
   ]
  },
  {
   "cell_type": "code",
   "execution_count": null,
   "metadata": {
    "ExecuteTime": {
     "end_time": "2022-03-13T13:00:32.144564Z",
     "start_time": "2022-03-13T13:00:32.097898Z"
    }
   },
   "outputs": [],
   "source": [
    "#dataset = df_sub[df_sub['date'].dt.year.isin([2018])].values\n",
    "X = test[['VV', 'VH', 'NDVI','angle', 'day_of_year', 'platform_A', 'platform_B', \n",
    "            'orbit_ASCENDING', 'orbit_DESCENDING','minimum_2m_air_temperature',\n",
    "            'pp_24h', 'pp_48h', 'pp_72h']].values\n",
    "#y = df_sub[['FAO_nr_0', 'FAO_nr_1', 'FAO_nr_2']].values #One Hot encoded\n",
    "#y = df_sub['FAO'].values\n",
    "y = test['USDA'].values\n",
    "y = to_categorical(y)\n",
    "\n",
    "## Split Training Test Data\n",
    "X_train, X_test, y_train, y_test = train_test_split(X, y, test_size=.3)"
   ]
  },
  {
   "cell_type": "code",
   "execution_count": null,
   "metadata": {
    "ExecuteTime": {
     "end_time": "2022-03-13T13:01:30.061702Z",
     "start_time": "2022-03-13T13:00:35.537163Z"
    }
   },
   "outputs": [],
   "source": [
    "# define baseline model\n",
    "def baseline_model():\n",
    "    # create model\n",
    "    model = Sequential()\n",
    "    model.add(Dense(24, input_dim=X.shape[1], activation='relu'))\n",
    "    model.add(Dense(13, activation='relu'))\n",
    "    model.add(Dense(13, activation='relu'))\n",
    "    model.add(Dense(9, activation='softmax'))\n",
    "    # Compile model\n",
    "    model.compile(loss='categorical_crossentropy', optimizer='adam', metrics=['accuracy'])\n",
    "    return model\n",
    " \n",
    "estimator = KerasClassifier(build_fn=baseline_model, epochs=40, batch_size=X_train.shape[0], verbose=0)\n",
    "kfold = KFold(n_splits=10, shuffle=True)\n",
    "results = cross_val_score(estimator, X, y, cv=kfold)\n",
    "print(\"Baseline: %.2f%% (%.2f%%)\" % (results.mean()*100, results.std()*100))"
   ]
  },
  {
   "cell_type": "markdown",
   "metadata": {},
   "source": [
    "### Use Balancing \n",
    "\n",
    "    SMOTE balancing decrease results"
   ]
  },
  {
   "cell_type": "code",
   "execution_count": null,
   "metadata": {
    "ExecuteTime": {
     "end_time": "2022-03-13T12:29:13.200491Z",
     "start_time": "2022-03-13T12:29:07.733755Z"
    }
   },
   "outputs": [],
   "source": [
    "# transform the dataset BALANCE dataset\n",
    "oversample = SMOTE()\n",
    "X, y = oversample.fit_resample(X, y)\n",
    "X_train, X_test, y_train, y_test = train_test_split(X, y, test_size=.3)"
   ]
  },
  {
   "cell_type": "code",
   "execution_count": null,
   "metadata": {
    "ExecuteTime": {
     "end_time": "2022-03-13T13:00:00.713666Z",
     "start_time": "2022-03-13T13:00:00.561969Z"
    }
   },
   "outputs": [],
   "source": [
    "groups = list()\n",
    "n0, n1, n2, n3, n4, n5, n6, n7, n8 = list(), list(), list(), list(), list(), list(), list(), list(), list()\n",
    "n = np.empty((9,30))\n",
    "for index, group in df_sub.groupby('POINT_ID'):\n",
    "    group.reset_index(inplace=True, drop=True)\n",
    "    g = group.loc[0,'USDA']\n",
    "    \n",
    "    if g == 0 and len(n0) < 20:\n",
    "        n0.append(g)\n",
    "        groups.append(group)\n",
    "        \n",
    "    elif g == 1 and len(n1) < 20:\n",
    "        n1.append(g)\n",
    "        groups.append(group)\n",
    "    \n",
    "    elif g == 2 and len(n2) < 20:\n",
    "        n2.append(g)\n",
    "        groups.append(group)\n",
    "        \n",
    "    elif g == 3 and len(n3) < 20:\n",
    "        n3.append(g)\n",
    "        groups.append(group)\n",
    "        \n",
    "    elif g == 4 and len(n4) < 20:\n",
    "        n4.append(g)\n",
    "        groups.append(group)\n",
    "    \n",
    "    elif g == 5 and len(n5) < 20:\n",
    "        n5.append(g)\n",
    "        groups.append(group)\n",
    "    elif g == 6 and len(n6) < 20:\n",
    "        n6.append(g)\n",
    "        groups.append(group)\n",
    "        \n",
    "    elif g == 7 and len(n7) < 20:\n",
    "        n7.append(g)\n",
    "        groups.append(group)\n",
    "    \n",
    "    elif g == 8 and len(n8) < 20:\n",
    "        n8.append(g)\n",
    "        groups.append(group)        \n",
    "        \n",
    "test = pd.concat(groups)"
   ]
  },
  {
   "cell_type": "code",
   "execution_count": null,
   "metadata": {
    "ExecuteTime": {
     "end_time": "2022-03-15T22:02:06.806785Z",
     "start_time": "2022-03-15T22:02:06.786782Z"
    }
   },
   "outputs": [],
   "source": [
    "test['INTERNATIONAL'].value_counts()"
   ]
  },
  {
   "cell_type": "code",
   "execution_count": null,
   "metadata": {
    "ExecuteTime": {
     "end_time": "2022-03-13T12:42:06.085605Z",
     "start_time": "2022-03-13T12:42:05.957529Z"
    }
   },
   "outputs": [],
   "source": [
    "# Undersampling\n",
    "sample_amounts = {0: 24411, 1: 17778, 2: 26956, 3: 12925, 4: 14746, 5: 7666, 6: 5798, 7: 3990, 8: 10426}\n",
    "\n",
    "test = (\n",
    "    df_sub.groupby('USDA').apply(lambda x: x.sample(\n",
    "        n=sample_amounts[x.name],\n",
    "        replace=len(x) < sample_amounts[x.name]\n",
    "    ))\n",
    "    .reset_index(drop=True)\n",
    ")"
   ]
  },
  {
   "cell_type": "code",
   "execution_count": null,
   "metadata": {
    "ExecuteTime": {
     "end_time": "2022-03-13T12:42:26.013036Z",
     "start_time": "2022-03-13T12:42:25.997038Z"
    }
   },
   "outputs": [],
   "source": [
    "test.USDA.value_counts()"
   ]
  },
  {
   "cell_type": "markdown",
   "metadata": {},
   "source": [
    "### or Weights"
   ]
  },
  {
   "cell_type": "code",
   "execution_count": null,
   "metadata": {
    "ExecuteTime": {
     "end_time": "2022-03-10T19:38:58.230301Z",
     "start_time": "2022-03-10T19:38:58.218348Z"
    }
   },
   "outputs": [],
   "source": [
    "totals = df_sub['FAO'].value_counts().values\n",
    "totalMean = totals.mean()\n",
    "weights = {i: totalMean / count for i, count in enumerate(totals)}"
   ]
  },
  {
   "cell_type": "markdown",
   "metadata": {},
   "source": [
    "## Model Building"
   ]
  },
  {
   "cell_type": "markdown",
   "metadata": {},
   "source": [
    "    ouput dense layer always softmax for multiclass (mutual exclusiv)\n",
    "    loss also categorical_crossentropy for multiclass\n",
    "    optimizer = rmsprop"
   ]
  },
  {
   "cell_type": "markdown",
   "metadata": {},
   "source": [
    "## with Keras, Tensorflow"
   ]
  },
  {
   "cell_type": "markdown",
   "metadata": {
    "ExecuteTime": {
     "end_time": "2022-03-11T16:05:51.955282Z",
     "start_time": "2022-03-11T16:05:51.944509Z"
    }
   },
   "source": [
    "### Sequential API"
   ]
  },
  {
   "cell_type": "markdown",
   "metadata": {},
   "source": [
    "    V1"
   ]
  },
  {
   "cell_type": "code",
   "execution_count": null,
   "metadata": {
    "ExecuteTime": {
     "end_time": "2022-03-11T18:39:26.051150Z",
     "start_time": "2022-03-11T18:39:25.917088Z"
    }
   },
   "outputs": [],
   "source": [
    "# define baseline model\n",
    "def baseline_model():\n",
    "    # create model\n",
    "    model = Sequential()\n",
    "    model.add(Dense(X_train.shape[1], input_dim=X_train.shape[1], activation='relu'))\n",
    "    model.add(Dense(3, activation='softmax'))\n",
    "    # Compile model\n",
    "    model.compile(loss='categorical_crossentropy', optimizer='adam', metrics=['accuracy']) #https://scikit-learn.org/stable/modules/model_evaluation.html\n",
    "    return model\n",
    "\n",
    "# Compile model\n",
    "model = baseline_model()"
   ]
  },
  {
   "cell_type": "markdown",
   "metadata": {},
   "source": [
    "    if from feature extraction method use this to ensure one hot encoded values"
   ]
  },
  {
   "cell_type": "code",
   "execution_count": null,
   "metadata": {
    "ExecuteTime": {
     "end_time": "2022-03-11T18:38:55.513746Z",
     "start_time": "2022-03-11T18:38:55.498098Z"
    }
   },
   "outputs": [],
   "source": []
  },
  {
   "cell_type": "code",
   "execution_count": null,
   "metadata": {
    "ExecuteTime": {
     "end_time": "2022-03-11T18:26:49.436219Z",
     "start_time": "2022-03-11T18:26:46.572084Z"
    }
   },
   "outputs": [],
   "source": [
    "# Callbacks\n",
    "# stop the training when there is no improvement in the loss for three consecutive epochs.\n",
    "stop_improving = EarlyStopping(monitor='accuracy', patience=5)\n",
    "\n",
    "model.fit(x=X_train, y=y_train, epochs=100, verbose=1, validation_data=(X_test, y_test), callbacks=[stop_improving])\n",
    "\n",
    "test_loss, test_acc = model.evaluate(X_test,  y_test, verbose=2)\n",
    "print('\\nTest accuracy:', test_acc)"
   ]
  },
  {
   "cell_type": "markdown",
   "metadata": {},
   "source": [
    "    V2"
   ]
  },
  {
   "cell_type": "code",
   "execution_count": null,
   "metadata": {
    "ExecuteTime": {
     "end_time": "2022-03-11T16:27:39.941696Z",
     "start_time": "2022-03-11T16:27:13.671844Z"
    }
   },
   "outputs": [],
   "source": [
    "estimator = KerasClassifier(build_fn=baseline_model, epochs=10, batch_size=X.shape[0], verbose=1) #verbose=0 debugging=off\n",
    "kfold = KFold(n_splits=10, shuffle=True)\n",
    "results = cross_val_score(estimator, X, y, cv=kfold)\n",
    "print(\"Baseline: %.2f%% (%.2f%%)\" % (results.mean()*100, results.std()*100))"
   ]
  },
  {
   "cell_type": "markdown",
   "metadata": {},
   "source": [
    "    For feature extraction"
   ]
  },
  {
   "cell_type": "code",
   "execution_count": null,
   "metadata": {
    "ExecuteTime": {
     "end_time": "2022-03-11T18:40:30.336226Z",
     "start_time": "2022-03-11T18:39:57.594584Z"
    }
   },
   "outputs": [],
   "source": [
    "estimator = KerasClassifier(build_fn=baseline_model, epochs=10, batch_size=X_train.shape[0], verbose=1) #verbose=0 debugging=off\n",
    "kfold = KFold(n_splits=10, shuffle=True)\n",
    "results = cross_val_score(estimator, X_train, y_train, cv=kfold)\n",
    "print(\"Baseline: %.2f%% (%.2f%%)\" % (results.mean()*100, results.std()*100))"
   ]
  },
  {
   "cell_type": "markdown",
   "metadata": {},
   "source": [
    "## sklearn logistic regression\n",
    "    V3 \n",
    "    less features dont make better results"
   ]
  },
  {
   "cell_type": "code",
   "execution_count": null,
   "metadata": {
    "ExecuteTime": {
     "end_time": "2022-03-11T16:48:22.964896Z",
     "start_time": "2022-03-11T16:48:22.939035Z"
    }
   },
   "outputs": [],
   "source": [
    "#dataset = df_sub[df_sub['date'].dt.year.isin([2018])].values\n",
    "#X = df_sub[['VV', 'VH', 'NDVI', 'day_of_year', 'platform_A', 'platform_B', \n",
    "#            'orbit_ASCENDING', 'orbit_DESCENDING','minimum_2m_air_temperature',\n",
    "#            'pp_24h', 'pp_48h', 'pp_72h']].values\n",
    "X = df_sub[['VV', 'NDVI','platform_A', 'platform_B', \n",
    "            'orbit_ASCENDING', 'orbit_DESCENDING']].values\n",
    "#y = df_sub[['FAO_nr_0', 'FAO_nr_1', 'FAO_nr_2']].values #One Hot encoded\n",
    "y = df_sub['FAO'].values\n",
    "\n",
    "X_train, X_test, y_train, y_test = train_test_split(X, y, test_size=.3)"
   ]
  },
  {
   "cell_type": "code",
   "execution_count": null,
   "metadata": {
    "ExecuteTime": {
     "end_time": "2022-03-11T16:46:51.019872Z",
     "start_time": "2022-03-11T16:46:51.004277Z"
    }
   },
   "outputs": [],
   "source": [
    "from sklearn.linear_model import LogisticRegression\n",
    "model = LogisticRegression(solver='saga', max_iter=350, class_weight='balanced')\n",
    "\n",
    "model.fit(X_train, y_train)\n",
    "\n",
    "model.score(X_test, y_test)"
   ]
  },
  {
   "cell_type": "code",
   "execution_count": null,
   "metadata": {},
   "outputs": [],
   "source": []
  },
  {
   "cell_type": "code",
   "execution_count": null,
   "metadata": {},
   "outputs": [],
   "source": []
  },
  {
   "cell_type": "code",
   "execution_count": null,
   "metadata": {},
   "outputs": [],
   "source": []
  },
  {
   "cell_type": "code",
   "execution_count": null,
   "metadata": {
    "ExecuteTime": {
     "end_time": "2022-03-07T10:23:41.026253Z",
     "start_time": "2022-03-07T10:23:41.022258Z"
    }
   },
   "outputs": [],
   "source": [
    "features = ['VV', 'VH', 'NDVI', 'platform_A', 'platform_B', 'orbit_ASCENDING', 'orbit_DESCENDING', 'day_of_year', 'FAO_nr']\n",
    "y_label = 'FAO_nr'"
   ]
  },
  {
   "cell_type": "code",
   "execution_count": null,
   "metadata": {
    "ExecuteTime": {
     "end_time": "2022-03-07T10:23:43.062504Z",
     "start_time": "2022-03-07T10:23:43.038435Z"
    }
   },
   "outputs": [],
   "source": [
    "# Dataframe Statistics \n",
    "train_stats = df_sub[features].describe()\n",
    "train_stats.pop(y_label)\n",
    "train_stats = train_stats.transpose()"
   ]
  },
  {
   "cell_type": "code",
   "execution_count": null,
   "metadata": {
    "ExecuteTime": {
     "end_time": "2022-03-07T10:23:43.938434Z",
     "start_time": "2022-03-07T10:23:43.918461Z"
    }
   },
   "outputs": [],
   "source": [
    "# Split into Train and Test \n",
    "df = df_sub[features].reset_index(drop=True)\n",
    "train_df = df.sample(frac = 0.8, random_state=0)\n",
    "test_df = df.drop(train_df.index)\n",
    "\n",
    "train_labels = train_df.pop(y_label)\n",
    "test_labels = test_df.pop(y_label)"
   ]
  },
  {
   "cell_type": "code",
   "execution_count": null,
   "metadata": {
    "ExecuteTime": {
     "end_time": "2022-03-07T10:24:02.961628Z",
     "start_time": "2022-03-07T10:23:45.116702Z"
    }
   },
   "outputs": [],
   "source": [
    "# The Model\n",
    "from tensorflow.keras.models import Sequential\n",
    "from tensorflow.keras import layers\n",
    "from tensorflow.nn import relu\n",
    "#from tensorflow.nn import linear\n",
    "from tensorflow.keras.optimizers import RMSprop\n",
    "from tensorflow.keras.optimizers import Adam\n",
    "from keras.callbacks import Callback\n",
    "from tensorflow.keras.callbacks import EarlyStopping\n",
    "import tensorflow as tf\n",
    "physical_devices = tf.config.experimental.list_physical_devices('GPU')\n",
    "\n",
    "for device in physical_devices:\n",
    "    tf.config.experimental.set_memory_growth(device, True)\n",
    "\n",
    "#Architecture \n",
    "def build_model(optimizer):\n",
    "    model = Sequential([\n",
    "        layers.Dense(128, activation=relu, input_shape=[len(train_df.keys())]), # densly (fully connected) hidden layer\n",
    "        layers.Dense(64, activation=relu), # denly hidden layer\n",
    "        layers.Dense(1, activation='linear') #output layer\n",
    "    ])\n",
    "\n",
    "    model.compile(\n",
    "        loss = 'mse', # https://keras.io/api/losses/\n",
    "        optimizer = optimizer, #https://keras.io/api/optimizers/#available-optimizers\n",
    "        metrics = ['mae', 'mse', 'accuracy']) \n",
    "\n",
    "    return model\n",
    "\n",
    "model = build_model(optimizer = Adam(.001))\n",
    "\n",
    "#Inspect Model\n",
    "model_summary = model.summary()\n",
    "\n",
    "\n",
    "## Train the model\n",
    "# Callbacks\n",
    "\"\"\"\n",
    "class Calls(Callback):\n",
    "    #Print dot every epoch while training\n",
    "    def on_epoch_end(self, epoch, logs):\n",
    "        if epoch % 100 == 0: print('')\n",
    "        print('.', end='')\n",
    "\"\"\"\n",
    "# stop the training when there is no improvement in the loss for three consecutive epochs.\n",
    "stop_improving = EarlyStopping(monitor='val_loss', patience=10)\n",
    "\n",
    "EPOCHS = 1000\n",
    "\n",
    "history = model.fit(\n",
    "    x = train_df,\n",
    "    y = train_labels,\n",
    "    epochs = EPOCHS,\n",
    "    validation_split = 0.2, \n",
    "    verbose = 0,\n",
    "    callbacks = [stop_improving]) # Calls()\n",
    "\n",
    "hist = pd.DataFrame(history.history)\n",
    "hist['epoch'] = history.epoch\n",
    "\n",
    "\n",
    "def plot_history(hitsory):\n",
    "    hist = pd.DataFrame(history.history)\n",
    "    hist['epoch'] = history.epoch\n",
    "\n",
    "    plt.figure()\n",
    "    plt.xlabel('Epoch')\n",
    "    plt.ylabel('Mean Abs Error [m^3/m^3]')\n",
    "    plt.plot(hist['epoch'], hist['mae'],\n",
    "            label = 'Train Error')\n",
    "    plt.plot(hist['epoch'], hist['val_mae'],\n",
    "            label = 'Val Error')\n",
    "    plt.legend()\n",
    "    plt.ylim([0,hist['mae'].max() + hist['mae'].max() * 0.5])\n",
    "\n",
    "    plt.figure()\n",
    "    plt.xlabel('Epoch')\n",
    "    plt.ylabel('Mean Square Error [m^3/m^3^2]')\n",
    "    plt.plot(hist['epoch'], hist['mse'],\n",
    "            label = 'Train Error')\n",
    "    plt.plot(hist['epoch'], hist['val_mse'],\n",
    "            label = 'Val Error')\n",
    "    plt.legend()\n",
    "    plt.ylim([0,hist['mse'].max() + hist['mse'].max() * 0.5])\n",
    "\n",
    "plot_history(history)\n",
    "print(f'metrics_names : {model.metrics_names}')\n",
    "loss, mae, mse, accuracy = model.evaluate(test_df, test_labels, verbose = 0)\n",
    "print(\"Testing set Mean Abs Error: {:5.2f} m^3/m^3\".format(mae))\n",
    "print(\"Testing set Mean squared Error: {:5.2f} m^3/m^3\".format(mse))\n",
    "print(\"Testing set Accuracy: {:5.2f} m^3/m^3\".format(accuracy))\n",
    "\n",
    "## Make Predictions\n",
    "test_predictions = model.predict(test_df).flatten()\n",
    "\n",
    "plt.figure()\n",
    "plt.scatter(test_labels, test_predictions)\n",
    "plt.xlabel('True Values m^3/m^3')\n",
    "plt.ylabel('Predictions m^3/m^3')\n",
    "plt.axis('equal')\n",
    "plt.axis('square')\n",
    "plt.xlim([0,1])\n",
    "plt.ylim([0,1])\n",
    "plot_predict_scatter = plt.plot([-100,100], [-100,100])\n",
    "print(plot_predict_scatter)\n",
    "\n",
    "plt.figure()\n",
    "error = test_predictions - test_labels\n",
    "plt.hist(error, bins=25)\n",
    "plt.xlabel('Prediction Error m^3/m^3')\n",
    "plot_error_hist = plt.ylabel('Count')\n",
    "print(plot_error_hist)\n"
   ]
  },
  {
   "cell_type": "code",
   "execution_count": null,
   "metadata": {
    "ExecuteTime": {
     "end_time": "2022-03-06T11:22:59.924864Z",
     "start_time": "2022-03-06T11:22:58.351972Z"
    }
   },
   "outputs": [],
   "source": [
    "def readucr(filename):\n",
    "    data = np.loadtxt(filename, delimiter=\"\\t\")\n",
    "    y = data[:, 0]\n",
    "    x = data[:, 1:]\n",
    "    return x, y.astype(int)\n",
    "\n",
    "\n",
    "root_url = \"https://raw.githubusercontent.com/hfawaz/cd-diagram/master/FordA/\"\n",
    "\n",
    "x_train, y_train = readucr(root_url + \"FordA_TRAIN.tsv\")\n",
    "x_test, y_test = readucr(root_url + \"FordA_TEST.tsv\")\n"
   ]
  },
  {
   "cell_type": "code",
   "execution_count": null,
   "metadata": {
    "ExecuteTime": {
     "end_time": "2022-03-10T20:38:48.744998Z",
     "start_time": "2022-03-10T20:38:48.698266Z"
    }
   },
   "outputs": [],
   "source": [
    "plotterAccLoss = AccLossPlotter(graphs=['acc', 'loss'], save_graph=True)\n",
    "plotterConfusion = ConfusionMatrixPlotter(X_val=X_test, classes=['0', '1', '2'], Y_val=y_test)\n",
    "classificationReport = ClassificationReport(X_val=X_test, classes=['0', '1', '2'], Y_val=y_test)\n",
    "reduce_lr = tf.keras.callbacks.ReduceLROnPlateau(monitor='categorical_crossentropy', factor=0.2, patience=3, min_lr=0.00001)\n",
    "\n",
    "\n",
    "import matplotlib.pyplot as plt    \n",
    "import matplotlib.patches as mpatches  \n",
    "from sklearn.metrics import confusion_matrix\n",
    "from sklearn.metrics import classification_report\n",
    "import itertools\n",
    "import numpy as np\n",
    "import tensorflow as tf\n",
    "from tensorflow.keras.callbacks import EarlyStopping\n",
    "\n",
    "class AccLossPlotter(tf.keras.callbacks.Callback):\n",
    "    \"\"\"Plot training Accuracy and Loss values on a Matplotlib graph. \n",
    "    The graph is updated by the 'on_epoch_end' event of the Keras Callback class\n",
    "\n",
    "    Adapted from: https://github.com/chasingbob/keras-visuals/blob/master/visual_callbacks.py\n",
    "\n",
    "    # Arguments\n",
    "        graphs: list with some or all of ('acc', 'loss')\n",
    "        save_graph: Save graph as an image on Keras Callback 'on_train_end' event \n",
    "    \"\"\"\n",
    "    def __init__(self, graphs=['acc', 'loss'], save_graph=False):\n",
    "        self.graphs = graphs\n",
    "        self.num_subplots = len(graphs)\n",
    "        self.save_graph = save_graph\n",
    "\n",
    "    def on_train_begin(self, logs={}):\n",
    "        self.acc = []\n",
    "        self.val_acc = []\n",
    "        self.loss = []\n",
    "        self.val_loss = []\n",
    "        self.epoch_count = 0\n",
    "        plt.ion()\n",
    "        plt.show()\n",
    "\n",
    "    def on_epoch_end(self, epoch, logs={}):\n",
    "        self.epoch_count += 1\n",
    "        self.val_acc.append(logs.get('val_categorical_accuracy'))\n",
    "        self.acc.append(logs.get('categorical_accuracy'))\n",
    "        self.loss.append(logs.get('loss'))\n",
    "        self.val_loss.append(logs.get('val_loss'))\n",
    "        epochs = [x for x in range(self.epoch_count)]\n",
    "\n",
    "        count_subplots = 0\n",
    "        \n",
    "        if 'acc' in self.graphs:\n",
    "            count_subplots += 1\n",
    "            plt.subplot(self.num_subplots, 1, count_subplots)\n",
    "            plt.title('Accuracy')\n",
    "            plt.plot(epochs, self.val_acc, color='r')\n",
    "            plt.plot(epochs, self.acc, color='b')\n",
    "            plt.ylabel('accuracy')\n",
    "\n",
    "            red_patch = mpatches.Patch(color='red', label='Val')\n",
    "            blue_patch = mpatches.Patch(color='blue', label='Train')\n",
    "\n",
    "            plt.legend(handles=[red_patch, blue_patch], loc=4)\n",
    "\n",
    "        if 'loss' in self.graphs:\n",
    "            count_subplots += 1\n",
    "            plt.subplot(self.num_subplots, 1, count_subplots)\n",
    "            plt.title('Loss')\n",
    "            plt.plot(epochs, self.val_loss, color='r')\n",
    "            plt.plot(epochs, self.loss, color='b')\n",
    "            plt.ylabel('loss')\n",
    "\n",
    "            red_patch = mpatches.Patch(color='red', label='Val')\n",
    "            blue_patch = mpatches.Patch(color='blue', label='Train')\n",
    "\n",
    "            plt.legend(handles=[red_patch, blue_patch], loc=4)\n",
    "        \n",
    "        plt.draw()\n",
    "        plt.pause(0.001)\n",
    "\n",
    "    def on_train_end(self, logs={}):\n",
    "        if self.save_graph:\n",
    "            plt.savefig('training_acc_loss.png')\n",
    "\n",
    "class ConfusionMatrixPlotter(tf.keras.callbacks.Callback):\n",
    "    \"\"\"Plot the confusion matrix on a graph and update after each epoch\n",
    "\n",
    "    Adapted from: https://github.com/chasingbob/keras-visuals/blob/master/visual_callbacks.py\n",
    "\n",
    "    # Arguments\n",
    "        X_val: The input values \n",
    "        Y_val: The expected output values\n",
    "        classes: The categories as a list of string names\n",
    "        normalize: True - normalize to [0,1], False - keep as is\n",
    "        cmap: Specify matplotlib colour map\n",
    "        title: Graph Title\n",
    "    \"\"\"\n",
    "    def __init__(self, X_val, Y_val, classes, normalize=False, cmap=plt.cm.Blues, title='Confusion Matrix'):\n",
    "        self.X_val = X_val\n",
    "        self.Y_val = Y_val\n",
    "        self.title = title\n",
    "        self.classes = classes\n",
    "        self.normalize = normalize\n",
    "        self.cmap = cmap\n",
    "        plt.ion()\n",
    "        plt.figure()\n",
    "        plt.title(self.title)\n",
    "\n",
    "    def on_train_begin(self, logs={}):\n",
    "        pass\n",
    "    \n",
    "    def on_epoch_end(self, epoch, logs={}):    \n",
    "        plt.clf()\n",
    "        pred = self.model.predict(self.X_val)\n",
    "        max_pred = np.argmax(pred, axis=1)\n",
    "        max_y = np.argmax(self.Y_val, axis=1)\n",
    "        cnf_mat = confusion_matrix(max_y, max_pred)\n",
    "   \n",
    "        if self.normalize:\n",
    "            cnf_mat = cnf_mat.astype('float') / cnf_mat.sum(axis=1)[:, np.newaxis]\n",
    "\n",
    "        thresh = cnf_mat.max() / 2.\n",
    "        for i, j in itertools.product(range(cnf_mat.shape[0]), range(cnf_mat.shape[1])):\n",
    "            plt.text(j, i, cnf_mat[i, j],                                          \n",
    "                         horizontalalignment=\"center\",\n",
    "                         color=\"white\" if cnf_mat[i, j] > thresh else \"black\")\n",
    "\n",
    "        plt.imshow(cnf_mat, interpolation='nearest', cmap=self.cmap)\n",
    "\n",
    "        # Labels\n",
    "        tick_marks = np.arange(len(self.classes))\n",
    "        plt.xticks(tick_marks, self.classes, rotation=45)\n",
    "        plt.yticks(tick_marks, self.classes)\n",
    "        plt.colorbar()                                                                       \n",
    "        plt.tight_layout()                                                    \n",
    "        plt.ylabel('True label')                                              \n",
    "        plt.xlabel('Predicted label')                                         \n",
    "        plt.show()\n",
    "        plt.pause(0.001)\n",
    "\n",
    "\n",
    "class ClassificationReport(tf.keras.callbacks.Callback):\n",
    "    \"\"\"Print the scikit-learn classification_report after each epoch\n",
    "\n",
    "    # Arguments\n",
    "        X_val: The input values \n",
    "        Y_val: The expected output values\n",
    "        classes: The categories as a list of string names\n",
    "    \"\"\"\n",
    "    def __init__(self, X_val, Y_val, classes, normalize=False):\n",
    "        self.X_val = X_val\n",
    "        self.Y_val = Y_val\n",
    "        self.classes = classes\n",
    "\n",
    "    def on_train_begin(self, logs={}):\n",
    "        pass\n",
    "    \n",
    "    def on_epoch_end(self, epoch, logs={}):   \n",
    "        pred = self.model.predict(self.X_val)\n",
    "        max_pred = np.argmax(pred, axis=1)\n",
    "        max_y = np.argmax(self.Y_val, axis=1)\n",
    "        print(classification_report(max_y, max_pred, target_names=self.classes))\n",
    "\n",
    "# stop the training when there is no improvement in the loss for three consecutive epochs.\n",
    "stop_improving = EarlyStopping(monitor='val_loss', patience=10)"
   ]
  },
  {
   "cell_type": "code",
   "execution_count": null,
   "metadata": {
    "ExecuteTime": {
     "end_time": "2022-03-06T11:23:02.977742Z",
     "start_time": "2022-03-06T11:23:02.946727Z"
    }
   },
   "outputs": [],
   "source": [
    "x_train"
   ]
  },
  {
   "cell_type": "code",
   "execution_count": null,
   "metadata": {
    "ExecuteTime": {
     "end_time": "2022-03-06T11:21:27.846128Z",
     "start_time": "2022-03-06T11:21:27.842133Z"
    }
   },
   "outputs": [],
   "source": [
    "x_train = x_train.reshape((x_train.shape[0], x_train.shape[1], 1))"
   ]
  },
  {
   "cell_type": "code",
   "execution_count": null,
   "metadata": {
    "ExecuteTime": {
     "end_time": "2022-03-06T11:21:54.520518Z",
     "start_time": "2022-03-06T11:21:54.505126Z"
    }
   },
   "outputs": [],
   "source": [
    "x_train"
   ]
  },
  {
   "cell_type": "markdown",
   "metadata": {},
   "source": [
    "# CNN - MLP - train model with regression problematic "
   ]
  },
  {
   "cell_type": "code",
   "execution_count": null,
   "metadata": {
    "ExecuteTime": {
     "end_time": "2022-03-03T17:00:55.280624Z",
     "start_time": "2022-03-03T17:00:55.238735Z"
    },
    "scrolled": false
   },
   "outputs": [],
   "source": [
    "def mlp_lr_sm(paths, features, y_label, networks, stations, climates,use_date_as_var, ndvi_low, ndvi_high, allow_frozen_state,loss_function, optimizer, metrics, save_to):\n",
    "    \"\"\"\n",
    "    Arguments:\n",
    "    \"\"\"\n",
    "    \n",
    "    \n",
    "    # Import modules\n",
    "    from glob import glob\n",
    "    import datetime as dt\n",
    "    import geopandas as gpd\n",
    "    import pandas as pd\n",
    "    import seaborn as sns\n",
    "    from sklearn.preprocessing import MinMaxScaler\n",
    "    \n",
    "    ## Initialize data\n",
    "    # Files with data\n",
    "    paths = glob(paths)\n",
    "    paths.sort()\n",
    "\n",
    "    # Create Station id linked with filepath\n",
    "    ids = [x.split('\\\\')[-1].split('_')[0] for x in paths]\n",
    "    files = dict(zip(ids,paths))\n",
    "\n",
    "    # Load all files into one Dataframe\n",
    "    gdf = gpd.tools.util.pd.concat(map(gpd.read_file, paths), ignore_index=True)\n",
    "    print(f'Rows before preprocessing {len(gdf)}')\n",
    "    \n",
    "    \n",
    "    ## Preprocessing\n",
    "    # Set type of date column to datetime object\n",
    "    gdf.date = gdf.date.astype('datetime64[ns]')\n",
    "    \n",
    "    #Drop rows without Sentinel 2 data\n",
    "    gdf.dropna(how='any',subset=['NDVI'], inplace=True)\n",
    "    \n",
    "    # Convert int to timedelta in days \n",
    "    s2_timedelta = [dt.timedelta(days=x) for x in gdf.s2_distance]  \n",
    "    gdf.s2_distance = s2_timedelta\n",
    "    \n",
    "    #Remove uneseccary columns\n",
    "    gdf.drop(labels = ['CloudMask'], axis = 1, inplace = True)\n",
    "\n",
    "    # Clean Nan Values within subset columns (major variables to inspect)\n",
    "    gdf.dropna(how='any', subset=['soil_moisture', 'VV'], inplace=True)\n",
    "\n",
    "    # Drop lower and upper 1% of data to eliminate outliers\n",
    "    gdf = gdf[gdf.soil_moisture.gt(gdf.soil_moisture.quantile(0.01)) & gdf.soil_moisture.lt(gdf.soil_moisture.quantile(0.99))]\n",
    "    gdf = gdf[gdf.VV.gt(gdf.VV.quantile(0.01)) & gdf.VV.lt(gdf.VV.quantile(0.99))]\n",
    "    gdf = gdf[gdf.NDVI.gt(gdf.NDVI.quantile(0.01)) & gdf.NDVI.lt(gdf.NDVI.quantile(0.99))]\n",
    "\n",
    "    # Remove rows where ndvi is older than 30days\n",
    "    gdf = gdf[gdf.s2_distance.gt(dt.timedelta(days=-7)) & gdf.s2_distance.lt(dt.timedelta(days=7))]\n",
    "    \n",
    "    # Remove NDVI values outside range because to high ndvi means to dense vegetation and vv is disturbed too much \n",
    "    if None not in [ndvi_low, ndvi_high]:\n",
    "        gdf = gdf[gdf.NDVI.between(ndvi_low,ndvi_high)]\n",
    "    \n",
    "    # Remove rows where Temperature is below Zero 273,15 K because VV is in frozen soils not trustworth\n",
    "    if allow_frozen_state == 'no':\n",
    "        gdf = gdf[gdf.minimum_2m_air_temperature.gt(273,15)]\n",
    "\n",
    "    # Choose only specififed Network\n",
    "    if networks is not None:\n",
    "        gdf = gdf[gdf['network'].isin(networks)]\n",
    "    \n",
    "    # Choose only specified Stations\n",
    "    if stations is not None:\n",
    "        gdf = gdf[gdf['station'].isin(stations)]\n",
    "        \n",
    "    # Choose only specified climate after Köpping https://en.wikipedia.org/wiki/K%C3%B6ppen_climate_classification\n",
    "    if climates is not None:\n",
    "        gdf = gdf[gdf['climate'].isin(climates)]\n",
    "    print(f'Rows after preprocessing {len(gdf)}')\n",
    "    \n",
    "    # Create a Variable from date convert the timestamps to delta, perform a cumulative sum on the dt feature to get a monotonically increasing value\n",
    "    # For now use dayofyear \n",
    "    if use_date_as_var == True:\n",
    "        #date_timedelta = [dt.timedelta(x) for x in gdf['date']]\n",
    "        #date_timedelta_cumsum = np.cumsum(date_timedelta)\n",
    "        gdf['day_of_year'] = gdf.date.dt.day_of_year\n",
    "        \n",
    "        \n",
    "    ## One Hot Encoding\n",
    "    gdf = pd.get_dummies(gdf, columns=[\"platform\", \"orbit\"])\n",
    "    \n",
    "    ## Statistics\n",
    "    #KDE Plot\n",
    "    #plot_kde = sns.pairplot(gdf[features], diag_kind = 'kde')\n",
    "    #print(plot_kde)\n",
    "    \n",
    "    # Dataframe Statistics \n",
    "    train_stats = gdf[features].describe()\n",
    "    train_stats.pop(y_label)\n",
    "    train_stats = train_stats.transpose()\n",
    "    #print(train_stats)\n",
    "    \n",
    "    \n",
    "    ## Split into Train and Test \n",
    "    df = pd.DataFrame(gdf[features]).reset_index(drop=True)\n",
    "    df['sand'] = df['sand'] / 100\n",
    "    train_df = df.sample(frac = 0.8, random_state=0)\n",
    "    test_df = df.drop(train_df.index)\n",
    "    \n",
    "    train_labels = train_df.pop(y_label)\n",
    "    test_labels = test_df.pop(y_label)\n",
    "    scaler = MinMaxScaler()\n",
    "    print(train_labels)\n",
    "    features.remove(y_label)\n",
    "    train_df[features] = scaler.fit_transform(X = train_df[features])\n",
    "    test_df[features] = scaler.fit_transform(X = test_df[features])\n",
    "    \n",
    "    n_train_df = train_df\n",
    "    n_test_df = test_df\n",
    "    \n",
    "    ## Normalize data\n",
    "    def norm(x):\n",
    "        return (x - train_stats['mean']) / train_stats['std']\n",
    "    \n",
    "    #n_train_df = norm(train_df)\n",
    "    #n_test_df = norm(test_df)\n",
    "\n",
    "    ## The Model\n",
    "    from tensorflow.keras.models import Sequential\n",
    "    from tensorflow.keras import layers\n",
    "    from tensorflow.nn import relu\n",
    "    #from tensorflow.nn import linear\n",
    "    from tensorflow.keras.optimizers import RMSprop\n",
    "    from tensorflow.keras.optimizers import Adam\n",
    "    from keras.callbacks import Callback\n",
    "    from tensorflow.keras.callbacks import EarlyStopping\n",
    "    import tensorflow as tf\n",
    "    physical_devices = tf.config.experimental.list_physical_devices('GPU')\n",
    "\n",
    "    for device in physical_devices:\n",
    "        tf.config.experimental.set_memory_growth(device, True)\n",
    "    \n",
    "    #Architecture \n",
    "    def build_model(optimizer):\n",
    "        model = Sequential([\n",
    "            layers.Dense(128, activation=relu, input_shape=[len(n_train_df.keys())]), # densly (fully connected) hidden layer\n",
    "            layers.Dense(64, activation=relu), # denly hidden layer\n",
    "            layers.Dense(1, activation='linear') #output layer\n",
    "        ])\n",
    "\n",
    "        if optimizer == 'RMSprop':\n",
    "            optimizer = RMSprop(0.001)\n",
    "        \n",
    "        if optimizer == 'Adam':\n",
    "            optimizer = Adam(.001)\n",
    "        model.compile(\n",
    "            loss = loss_function, # https://keras.io/api/losses/\n",
    "            optimizer = optimizer, #https://keras.io/api/optimizers/#available-optimizers\n",
    "            metrics = metrics) \n",
    "\n",
    "        return model\n",
    "    \n",
    "    model = build_model(optimizer)\n",
    "    \n",
    "    #Inspect Model\n",
    "    model_summary = model.summary()\n",
    "    \n",
    "    \n",
    "    ## Train the model\n",
    "    # Callbacks\n",
    "    \"\"\"\n",
    "    class Calls(Callback):\n",
    "        #Print dot every epoch while training\n",
    "        def on_epoch_end(self, epoch, logs):\n",
    "            if epoch % 100 == 0: print('')\n",
    "            print('.', end='')\n",
    "    \"\"\"\n",
    "    # stop the training when there is no improvement in the loss for three consecutive epochs.\n",
    "    stop_improving = EarlyStopping(monitor='val_loss', patience=10)\n",
    "    \n",
    "    EPOCHS = 1000\n",
    "\n",
    "    history = model.fit(\n",
    "        x = n_train_df,\n",
    "        y = train_labels,\n",
    "        epochs = EPOCHS,\n",
    "        validation_split = 0.2, \n",
    "        verbose = 0,\n",
    "        callbacks = [stop_improving]) # Calls()\n",
    "    \n",
    "    hist = pd.DataFrame(history.history)\n",
    "    hist['epoch'] = history.epoch\n",
    "    \n",
    "    import matplotlib.pyplot as plt\n",
    "\n",
    "    def plot_history(hitsory):\n",
    "        hist = pd.DataFrame(history.history)\n",
    "        hist['epoch'] = history.epoch\n",
    "\n",
    "        plt.figure()\n",
    "        plt.xlabel('Epoch')\n",
    "        plt.ylabel('Mean Abs Error [m^3/m^3]')\n",
    "        plt.plot(hist['epoch'], hist['mae'],\n",
    "                label = 'Train Error')\n",
    "        plt.plot(hist['epoch'], hist['val_mae'],\n",
    "                label = 'Val Error')\n",
    "        plt.legend()\n",
    "        plt.ylim([0,hist['mae'].max() + hist['mae'].max() * 0.5])\n",
    "\n",
    "        plt.figure()\n",
    "        plt.xlabel('Epoch')\n",
    "        plt.ylabel('Mean Square Error [m^3/m^3^2]')\n",
    "        plt.plot(hist['epoch'], hist['mse'],\n",
    "                label = 'Train Error')\n",
    "        plt.plot(hist['epoch'], hist['val_mse'],\n",
    "                label = 'Val Error')\n",
    "        plt.legend()\n",
    "        plt.ylim([0,hist['mse'].max() + hist['mse'].max() * 0.5])\n",
    "\n",
    "    plot_history(history)\n",
    "    print(f'metrics_names : {model.metrics_names}')\n",
    "    loss, mae, mse, accuracy = model.evaluate(n_test_df, test_labels, verbose = 0)\n",
    "    print(\"Testing set Mean Abs Error: {:5.2f} m^3/m^3\".format(mae))\n",
    "    print(\"Testing set Mean squared Error: {:5.2f} m^3/m^3\".format(mse))\n",
    "    print(\"Testing set Accuracy: {:5.2f} m^3/m^3\".format(accuracy))\n",
    "\n",
    "    ## Make Predictions\n",
    "    test_predictions = model.predict(n_test_df).flatten()\n",
    "    \n",
    "    plt.figure()\n",
    "    plt.scatter(test_labels, test_predictions)\n",
    "    plt.xlabel('True Values m^3/m^3')\n",
    "    plt.ylabel('Predictions m^3/m^3')\n",
    "    plt.axis('equal')\n",
    "    plt.axis('square')\n",
    "    plt.xlim([0,1])\n",
    "    plt.ylim([0,1])\n",
    "    plot_predict_scatter = plt.plot([-100,100], [-100,100])\n",
    "    print(plot_predict_scatter)\n",
    "    \n",
    "    plt.figure()\n",
    "    error = test_predictions - test_labels\n",
    "    plt.hist(error, bins=25)\n",
    "    plt.xlabel('Prediction Error m^3/m^3')\n",
    "    plot_error_hist = plt.ylabel('Count')\n",
    "    print(plot_error_hist)\n",
    "    \n",
    "    #Save Model\n",
    "    if save_to is not None:\n",
    "        model.save(save_to)\n",
    "\n",
    "    return model, gdf"
   ]
  },
  {
   "cell_type": "code",
   "execution_count": null,
   "metadata": {
    "ExecuteTime": {
     "end_time": "2022-03-03T16:50:48.701853Z",
     "start_time": "2022-03-03T16:50:48.693863Z"
    }
   },
   "outputs": [],
   "source": [
    "features_s1 = ['platform', 'orbit', 'VV', 'VH', 'angle', 'img_id'] #latform & orbit are categorical data\n",
    "\n",
    "features_s2 = ['Aerosols', 'Blue', 'Green', 'Red', 'RedEdge1', 'RedEdge2', 'RedEdge3', 'RedEdge4', 'NIR', \n",
    "               'WaterVapor', 'Cirrus', 'SWIR1', 'SWIR2', 'CloudMask', 'NDVI', 'date_y']\n",
    "\n",
    "features_era5 = ['dewpoint_2m_temperature', 'maximum_2m_air_temperature', 'mean_2m_air_temperature',\n",
    "                 'minimum_2m_air_temperature', 'surface_pressure', 'total_precipitation', \n",
    "                 'u_component_of_wind_10m', 'v_component_of_wind_10m']\n",
    "\n",
    "features_ismn = ['ismn_id','soil_moisture', 'soil_moisture_flag', 'soil_moisture_orig_flag', 'network', \n",
    "                 'station', 'clay', 'sand', 'silt', 'oc', 'climate', 'elevation', 'instrument']\n",
    "\n",
    "features_4all = ['date','day_of_year', 'geometry']\n",
    "\n",
    "features_selected = ['day_of_year', 'VV', 'VH', 'angle', 'platform_A', 'platform_B', 'orbit_ASCENDING','orbit_DESCENDING',\n",
    "                     'NDVI', 'soil_moisture']\n",
    "\n",
    "networks_all = {'Germany' : ['TERENO'],'Austria' : ['WEGERENET']}"
   ]
  },
  {
   "cell_type": "code",
   "execution_count": null,
   "metadata": {
    "ExecuteTime": {
     "end_time": "2022-03-03T17:03:06.722797Z",
     "start_time": "2022-03-03T17:00:58.020985Z"
    },
    "scrolled": false
   },
   "outputs": [],
   "source": [
    "model, gdf = mlp_lr_sm(\n",
    "    paths = 'C://Users/USER/Desktop/Master_Irrigation/03_GIS/ground_trouth/CNN_data/*',\n",
    "    features = features_selected + ['sand'],\n",
    "    y_label = 'sand',\n",
    "    networks = None,\n",
    "    stations = None,\n",
    "    climates = None,\n",
    "    use_date_as_var = True,\n",
    "    ndvi_low = 0,\n",
    "    ndvi_high = 0.4, \n",
    "    allow_frozen_state = 'no',\n",
    "    loss_function = 'mae',       # 'mae', 'sparse_categorical_crossentropy'\n",
    "    optimizer =  'Adam',    # Ftrl adam, Adamax Nadam  'RMSprop',  SGD  RMSprop  Adam  Adadelta  Adagrad         \n",
    "    metrics = ['mae', 'mse', 'accuracy'],\n",
    "    save_to = r'C:\\Users\\USER\\Desktop\\Master_Irrigation\\03_GIS\\cnn_models_soil\\soil_ssm'\n",
    "    )"
   ]
  },
  {
   "cell_type": "code",
   "execution_count": null,
   "metadata": {
    "ExecuteTime": {
     "end_time": "2022-02-23T12:41:43.046954Z",
     "start_time": "2022-02-23T12:39:02.703270Z"
    }
   },
   "outputs": [],
   "source": [
    "model_30m, gdf_30m = mlp_lr_sm(\n",
    "    paths = 'C://Users/USER/Desktop/Master_Irrigation/03_GIS/ground_trouth/CNN_data_30m/*',\n",
    "    features = features_era5 + features_selected,\n",
    "    y_label = 'soil_moisture',\n",
    "    networks = None,\n",
    "    stations = None,\n",
    "    climates = None,\n",
    "    use_date_as_var = True,\n",
    "    ndvi_low = 0,\n",
    "    ndvi_high = 0.7, \n",
    "    allow_frozen_state = 'no',\n",
    "    loss_function = 'mae',       # 'mae', 'sparse_categorical_crossentropy'\n",
    "    optimizer =  'Adam',    # Ftrl adam, Adamax Nadam  'RMSprop',  SGD  RMSprop  Adam  Adadelta  Adagrad         \n",
    "    metrics = ['mae', 'mse', 'accuracy'],\n",
    "    save_to = r'C:\\Users\\USER\\Desktop\\Master_Irrigation\\03_GIS\\cnn_models\\basic_ssm'\n",
    "    )"
   ]
  },
  {
   "cell_type": "code",
   "execution_count": null,
   "metadata": {
    "ExecuteTime": {
     "end_time": "2022-02-23T12:43:01.101747Z",
     "start_time": "2022-02-23T12:43:01.086153Z"
    }
   },
   "outputs": [],
   "source": [
    "gdf_30m[features_selected]"
   ]
  },
  {
   "cell_type": "code",
   "execution_count": null,
   "metadata": {
    "ExecuteTime": {
     "end_time": "2022-02-08T12:36:02.600535Z",
     "start_time": "2022-02-08T12:36:02.469143Z"
    }
   },
   "outputs": [],
   "source": [
    "# Normalize data\n",
    "def norm(x):\n",
    "    return (x - train_stats['mean']) / train_stats['std']\n",
    "\n",
    "Merzenhausen = gdf[gdf['station'] == 'Merzenhausen'].copy()\n",
    "x_Merz_values = Merzenhausen[features_selected + features_era5]\n",
    "y_Merz_label = x_Merz_values.pop('soil_moisture')\n",
    "\n",
    "train_stats = x_Merz_values.describe()\n",
    "train_stats = train_stats.transpose()\n",
    "\n",
    "x_Merz_norm = norm(x_Merz_values)\n",
    "y_Merz_predict = model.predict(x_Merz_norm).flatten()\n",
    "Merzenhausen['sm_predict'] = y_Merz_predict"
   ]
  },
  {
   "cell_type": "code",
   "execution_count": null,
   "metadata": {
    "ExecuteTime": {
     "end_time": "2022-02-08T12:36:03.587214Z",
     "start_time": "2022-02-08T12:36:03.571559Z"
    }
   },
   "outputs": [],
   "source": [
    "import pandas as pd\n",
    "import hvplot.pandas  # noqa\n",
    "\n",
    "pd.options.plotting.backend = 'holoviews'"
   ]
  },
  {
   "cell_type": "code",
   "execution_count": null,
   "metadata": {
    "ExecuteTime": {
     "end_time": "2022-02-08T12:36:21.626826Z",
     "start_time": "2022-02-08T12:36:04.488694Z"
    }
   },
   "outputs": [],
   "source": [
    "Merzenhausen.hvplot.scatter(x='date', y=['soil_moisture', 'sm_predict'],groupby='date.year' )"
   ]
  },
  {
   "cell_type": "code",
   "execution_count": null,
   "metadata": {
    "ExecuteTime": {
     "end_time": "2022-02-08T12:36:21.789483Z",
     "start_time": "2022-02-08T12:36:21.773861Z"
    }
   },
   "outputs": [],
   "source": [
    "import numpy as np\n",
    "(Merzenhausen['soil_moisture'] - Merzenhausen['sm_predict']).sum() / 500"
   ]
  },
  {
   "cell_type": "markdown",
   "metadata": {},
   "source": [
    "## Print Function names with arguments"
   ]
  },
  {
   "cell_type": "code",
   "execution_count": null,
   "metadata": {
    "ExecuteTime": {
     "end_time": "2022-02-04T21:55:11.696024Z",
     "start_time": "2022-02-04T21:55:11.680045Z"
    },
    "scrolled": false
   },
   "outputs": [],
   "source": [
    "from inspect import getmembers, isfunction, signature\n",
    "import numpy\n",
    "\n",
    "def explain(m):\n",
    "    try:\n",
    "        return f\"{m[0]}{signature(m[1])}\"\n",
    "    except:\n",
    "        return f\"{m[0]}(???)\" # some functions don't provide signature\n",
    "\n",
    "print(*(explain(m) for m in getmembers(irrigation_detection, isfunction)), sep='\\n')"
   ]
  },
  {
   "cell_type": "code",
   "execution_count": null,
   "metadata": {
    "ExecuteTime": {
     "end_time": "2022-03-06T21:38:07.697928Z",
     "start_time": "2022-03-06T21:38:07.675741Z"
    }
   },
   "outputs": [],
   "source": [
    "def USDA_classifier(sand,silt,clay):\n",
    "    soil_class = np.nan\n",
    "    soil_names = np.nan\n",
    "    soil_class_nr = np.nan\n",
    "    soil_names_nr = np.nan\n",
    "    if sand >= .86 and silt <= .14: #and clay <= .10:\n",
    "        soil_class = 'Sand'\n",
    "        soil_names = 'Sandy soils (Coarse texture)'\n",
    "        soil_class_nr = 0\n",
    "        soil_names_nr = 0\n",
    "    elif .7 <= sand <= .86 and silt <= .30: #and clay <= .15:\n",
    "        soil_class = 'Loamy Sand'\n",
    "        soil_names = 'Sandy soils (Coarse texture)'\n",
    "        soil_class_nr = 1\n",
    "        soil_names_nr = 0\n",
    "    elif .50 <= sand <= .70 and silt <= .50: #and clay <= .20:\n",
    "        soil_class = 'Sandy loam'\n",
    "        soil_names = 'Loamy soils (Moderately coarse texture)'\n",
    "        soil_class_nr = 2\n",
    "        soil_names_nr = 1\n",
    "    elif .23 <= sand <= .52 and .28 <= silt <= .50: #and .07 <= clay <= .27:\n",
    "        soil_class = 'Loam'\n",
    "        soil_names = 'Loamy soils (Medium texture)'\n",
    "        soil_class_nr = 3\n",
    "        soil_names_nr = 2\n",
    "    elif .20 <= sand <= .50 and .74 <= silt <= .88: #and clay <= .27:\n",
    "        soil_class = 'Silty loam'\n",
    "        soil_names = 'Loamy soils (Medium texture)'\n",
    "        soil_class_nr = 4\n",
    "        soil_names_nr = 2\n",
    "    elif sand <= .20  and .88 <= silt <= .100: #and clay <= .12:\n",
    "        soil_class = 'Silty'\n",
    "        soil_names = 'Loamy soils (Medium texture)'\n",
    "        soil_class_nr = 5\n",
    "        soil_names_nr = 2\n",
    "    elif .20 <= sand <= .45 and .15 <= silt <= .52: #and .27 <= clay <= .40:\n",
    "        soil_class = 'Clay loam'\n",
    "        soil_names = 'Loamy soils (Moderately fine texture)'\n",
    "        soil_class_nr = 6\n",
    "        soil_names_nr = 3\n",
    "    elif .45 <= sand <= .80 and silt <= .28: #and .20 <= clay <= .35:\n",
    "        soil_class = 'Sandy clay loam'\n",
    "        soil_names = 'Loamy soils (Moderately fine texture)'\n",
    "        soil_class_nr = 7\n",
    "        soil_names_nr = 3\n",
    "    elif sand <= .20 and .40 <= silt <= .73: #and .27 <= clay <= .40:\n",
    "        soil_class = 'Silty clay loam'\n",
    "        soil_names = 'Loamy soils (Moderately fine texture)'\n",
    "        soil_class_nr = 8\n",
    "        soil_names_nr = 3\n",
    "    elif .45 <= sand <= .60 and silt <= .20: #and .35 <= clay <= .55:\n",
    "        soil_class = 'Sandy clay'\n",
    "        soil_names = 'Clayey soils (Fine texture)'\n",
    "        soil_class_nr = 9\n",
    "        soil_names_nr = 4\n",
    "    elif sand <= .20 and .40 <= silt <= .60: #and .40 <= clay <= .60:\n",
    "        soil_class = 'Silty clay'\n",
    "        soil_names = 'Clayey soils (Fine texture)'\n",
    "        soil_class_nr = 10\n",
    "        soil_names_nr = 4\n",
    "    elif sand <= .45 and silt <= .40: #and .40 <= clay <= .100:\n",
    "        soil_class = 'Clay'\n",
    "        soil_names = 'Clayey soils (Fine texture)'\n",
    "        soil_class_nr = 11\n",
    "        soil_names_nr = 4\n",
    "    return soil_class, soil_names, soil_class_nr, soil_names_nr"
   ]
  },
  {
   "cell_type": "code",
   "execution_count": null,
   "metadata": {
    "ExecuteTime": {
     "end_time": "2022-03-06T21:38:38.539923Z",
     "start_time": "2022-03-06T21:38:11.194411Z"
    }
   },
   "outputs": [],
   "source": [
    "soil_class, soil_names, soil_class_nr, soil_names_nr = list(), list(), list(), list()\n",
    "for index, row in gdf.iterrows():\n",
    "    soil_class_i, soil_names_i, soil_class_nr_i, soil_names_nr_i = USDA_classifier(row.sand, row.silt, row.clay)\n",
    "    soil_class.append(soil_class_i)\n",
    "    soil_names.append(soil_names_i)\n",
    "    soil_class_nr.append(soil_class_nr_i)\n",
    "    soil_names_nr.append(soil_names_nr_i)\n",
    "gdf['soil_class'] = soil_class\n",
    "gdf['soil_names'] = soil_names\n",
    "gdf['soil_class_nr'] = soil_class_nr\n",
    "gdf['soil_names_nr'] = soil_names_nr"
   ]
  },
  {
   "cell_type": "markdown",
   "metadata": {},
   "source": [
    "# Kill unrelevant variables "
   ]
  },
  {
   "cell_type": "code",
   "execution_count": null,
   "metadata": {
    "ExecuteTime": {
     "end_time": "2022-03-13T10:08:55.975863Z",
     "start_time": "2022-03-13T10:08:55.955866Z"
    }
   },
   "outputs": [],
   "source": [
    "FAO_class = None\n",
    "ISSSS_class = None\n",
    "ISSS_class = None\n",
    "INTERNATIONAL_class = None\n",
    "RADOLAN = None\n",
    "USDA_class = None\n",
    "FAO_class = None\n",
    "FAO_class = None\n",
    "gdf = None\n",
    "pp_24h = None\n",
    "pp_48h = None\n",
    "pp_72h = None\n",
    "gdf_lts = None"
   ]
  }
 ],
 "metadata": {
  "kernelspec": {
   "display_name": "Python [conda env:dev1]",
   "language": "python",
   "name": "conda-env-dev1-py"
  },
  "language_info": {
   "codemirror_mode": {
    "name": "ipython",
    "version": 3
   },
   "file_extension": ".py",
   "mimetype": "text/x-python",
   "name": "python",
   "nbconvert_exporter": "python",
   "pygments_lexer": "ipython3",
   "version": "3.7.12"
  },
  "toc": {
   "base_numbering": 1,
   "nav_menu": {},
   "number_sections": true,
   "sideBar": true,
   "skip_h1_title": false,
   "title_cell": "Table of Contents",
   "title_sidebar": "Contents",
   "toc_cell": false,
   "toc_position": {
    "height": "calc(100% - 180px)",
    "left": "10px",
    "top": "150px",
    "width": "168.667px"
   },
   "toc_section_display": true,
   "toc_window_display": false
  },
  "varInspector": {
   "cols": {
    "lenName": 16,
    "lenType": 16,
    "lenVar": 40
   },
   "kernels_config": {
    "python": {
     "delete_cmd_postfix": "",
     "delete_cmd_prefix": "del ",
     "library": "var_list.py",
     "varRefreshCmd": "print(var_dic_list())"
    },
    "r": {
     "delete_cmd_postfix": ") ",
     "delete_cmd_prefix": "rm(",
     "library": "var_list.r",
     "varRefreshCmd": "cat(var_dic_list()) "
    }
   },
   "position": {
    "height": "434.85px",
    "left": "1547px",
    "right": "20px",
    "top": "120px",
    "width": "353px"
   },
   "types_to_exclude": [
    "module",
    "function",
    "builtin_function_or_method",
    "instance",
    "_Feature"
   ],
   "window_display": true
  }
 },
 "nbformat": 4,
 "nbformat_minor": 2
}
