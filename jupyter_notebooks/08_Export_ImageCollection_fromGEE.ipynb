{
 "cells": [
  {
   "cell_type": "code",
   "execution_count": null,
   "metadata": {
    "ExecuteTime": {
     "end_time": "2021-12-09T00:58:46.360796Z",
     "start_time": "2021-12-09T00:58:03.999815Z"
    }
   },
   "outputs": [],
   "source": [
    "import sys\n",
    "!conda install -c conda-forge --yes --prefix {sys.prefix} hvplot, dask, contextily"
   ]
  },
  {
   "cell_type": "code",
   "execution_count": null,
   "metadata": {
    "ExecuteTime": {
     "end_time": "2021-12-12T11:01:20.197785Z",
     "start_time": "2021-12-12T11:01:18.261667Z"
    },
    "executionInfo": {
     "elapsed": 2005,
     "status": "ok",
     "timestamp": 1638617818208,
     "user": {
      "displayName": "till Kadabra",
      "photoUrl": "https://lh3.googleusercontent.com/a/default-user=s64",
      "userId": "05894341007995902137"
     },
     "user_tz": -60
    },
    "id": "4UGkMDg5wzES"
   },
   "outputs": [],
   "source": [
    "import ee\n",
    "import geemap"
   ]
  },
  {
   "cell_type": "code",
   "execution_count": null,
   "metadata": {
    "ExecuteTime": {
     "end_time": "2021-12-12T11:01:26.246967Z",
     "start_time": "2021-12-12T11:01:22.854326Z"
    },
    "colab": {
     "base_uri": "https://localhost:8080/",
     "height": 788,
     "referenced_widgets": [
      "e7de1cd2253d45d2bd279001dd4df63b",
      "2d88f913f94f4d31ade72cbaa04c81f1",
      "51e0d0ff6c624810abf49c46c8a55e5d",
      "2e741ba17fe94af0bf83f6f9cb9fba53",
      "ce86c6866e20479c997f340e77b320d1",
      "c069e7aad6f4403fa857dbec2f5a1bb7",
      "01bcd5eff9c64ba7aa9c10676ac93a78",
      "54688208085640669c9b36c95be1b26e",
      "185ac30eebce407fa6d9f7909ae092fc",
      "cf1569de6ac44d7499591e3ac61bcafa",
      "c930e66f54534bc080e669143b4543fa",
      "cea7de1e3a1a427daed7135d177e7bfb",
      "5db9422646714e918c503bffba29cce3",
      "fb2b5387f1ce4d6db0994573ef114d3e",
      "d8dde778d5684b1da867a06f7c6aa4e3",
      "35228bd17a4f4bf5a9739cd66dc58394",
      "d355be3058da4764920cf515eb530430",
      "eba8ca8a0f2e47ed993c8de114856c92",
      "e6ab6265bd404558b2d3797f4e7bb372",
      "b771d99adeff45d18f21ad9d17f21295",
      "7854dbd819c448a3bf89b8e74a2de6d4",
      "80cb4e032e4e4353826825f9fe30296e",
      "55c91a69afa64896b8918379c1079e0e",
      "533abf145b3e45568f50e12858fded25",
      "27aebaa62a4141bea8a5f373314fd33a",
      "68e071a6882c4fe9a1291f4206d40268",
      "3fdd4994ed9c451f9386abfbb878323e",
      "ecae9b00937c4520aeffcd3590165be4",
      "d659502df8374574b65fe72c85175eb2",
      "da1c2db221d245718d2b1818301fc1e1",
      "e76aaa9bbec44f0bae0a4b41aa56f341",
      "3219ab8fb8184d51977b2c9c6fcfeede",
      "f023ac3229b3495fb9fb4f455e4c3756",
      "88e4dcd577054f39aa52a69995737288",
      "8ef7a941c395482387ffd277a6096b8c",
      "7446c5527f194ca58fb9cc46e5e7c0be",
      "562695feba9a400d88eb546cc9fda6f1",
      "7ca54cad3a584bec89a2896ef2184121",
      "288eed4c6b144b568d4f822e600cdea0",
      "c1b5864db99a4a3d879d987dcf32cc31",
      "28482884f6364a6e8e7bb5539d695c36",
      "60d95584a69945f4b1d7fa6dbd97f016",
      "ffe43e59c5fc4562a5457ac1308eaab5",
      "aeb15650eb9f4b309bfe3adcf9b5ebd0",
      "7e781be9a8f74b5f8641baf3ea642814",
      "f5d7192fb4b4460ca4dfb1e1e0fbce22",
      "58dde3dcb9c448f894dd651e2ae41a84",
      "2da989e47a2647c4a6d7adcdb0aaf623",
      "1779d1076cd04951a654bc75f05b01b7",
      "145c436ac7704c8f9da6894c885040b1",
      "d10b9e8be7e54cca80f69c9bf139655b",
      "66d214f6752541dbbf15af76a203c3be",
      "57891de4f4174afb9f001cd3aff94038",
      "871d7b9ec1cf4ea3af84a2ca50b958ee",
      "01e2af5df4174a8c8f1f2ab176d7a583",
      "8e3f0c3d8cfc4ac397d97eeb60779ce2",
      "034c8c2610b7449bb7cb2770f9678e19",
      "fcb338d19813435e93925150d9a3c331",
      "086ce82fddd44778a74e70b9926ccaff",
      "3533034af4824034ae5b495c07149958",
      "6769a4d30f5049b8a8786cb3b625db79",
      "f653f3856b8245be82b4fd063af3427b",
      "73daf9b8287343c6bef46a0f5dcebd56",
      "d56bb6be88b8476e80b04a5f9a30a469",
      "3ce51b4e0cd744edae8be6967397875b",
      "14a0de89775e407ab71219bf3e00602c",
      "9ed20936b97a4800830e0302231c1d58",
      "9af9fd3c6bfb465d8dba7ce1115eb85e",
      "b8ddae50b2ed4705aa567a78ebc79c78",
      "a53cff3dcb1043c79b47397da70e035f",
      "bf08a2484fb74afcaeeb8a260255d88c",
      "17bcca91341745ceb877d3f4ba5b0c0d",
      "4c4844f28fd946afa2aefb19fca6c2c1",
      "6585aa9d43c241a7847d3855e2fb3fbf",
      "9508e31406094e50a6a5f96b01fe811a",
      "9f1ac8e840a24e239405dc31f7588e94",
      "b7ed3e68103a42b7af74fb8cf28b0bed",
      "50729b3aeaec4d1aa7eb0e801b977c76",
      "b5ae4591c5d64b8a81fa5bccec2df002",
      "c82c0ab8eba4474db379596fb2a41c2f",
      "fd09c5d753874b88975be5334e166a50",
      "b0798f04d07643d09ffd620d7988fe18",
      "2e7e6dabbfb54cfba143a25a16725cbf",
      "4b3c59ab354a4bd5820401a0b19482a3",
      "3a8c4099f3df4253830115140e5e276b",
      "320ee60e946344b1ac79cb2c22805294",
      "dc1f73f7931240b2b76c23536d743b44",
      "d802184e925b445d8ae7533a270f042b",
      "289d08d70aae4fd7b4c82163a67c87d2",
      "b3ba5c65d8864792bfed4e56e81d5d93",
      "697e9571d4b646adb10ecbb24429a843",
      "4135d4e24ad64306978e6d413d54b325",
      "bd6a7d0172974b3c9fcc31f84c2ede37",
      "79c0b9612e1f41958c6efce775d82913",
      "cce11b1c4ee74bb7862dd587f4984ceb",
      "ab0da2a930d34e15a78a2420d1e11e14",
      "50fd2970167747778f863ea33529587b",
      "56fc18d24ada4dfca06861e02ef65588",
      "4241608cc0e94009a229b1f1a40fa022",
      "4576d9b03eb64220bb258bc4d3a300ab",
      "1c393a238655449692a2bcf3ebb7b9a2",
      "a3823cd4366442198ebc5c01f53fa932",
      "fcb466a5fd274654b987b2426fdb0270",
      "1a6df631667a46d688279293275b7c45",
      "93f913f203bd4a8294a3ce54d93f5b4b",
      "d90b981c5d01485a8f36cb767294946f",
      "af579575c283477ea2c285a37b4b5ff6",
      "ebe9e762546143a5957a6de867a13c0b",
      "73df3bf4de444ae19eafee5faebfe60e"
     ]
    },
    "executionInfo": {
     "elapsed": 13339,
     "status": "ok",
     "timestamp": 1638612312897,
     "user": {
      "displayName": "till Kadabra",
      "photoUrl": "https://lh3.googleusercontent.com/a/default-user=s64",
      "userId": "05894341007995902137"
     },
     "user_tz": -60
    },
    "id": "rXU8pGbiwzET",
    "outputId": "facf55f4-0f77-4440-d01f-bb5c19c8ae8d"
   },
   "outputs": [],
   "source": [
    "Map = geemap.Map(center=(49.939, 8.5), zoom=16)\n",
    "Map.add_basemap('HYBRID')\n",
    "Map"
   ]
  },
  {
   "cell_type": "markdown",
   "metadata": {},
   "source": [
    "#### Define Geometry"
   ]
  },
  {
   "cell_type": "code",
   "execution_count": null,
   "metadata": {
    "ExecuteTime": {
     "end_time": "2021-12-10T21:23:35.593514Z",
     "start_time": "2021-12-10T21:23:35.575563Z"
    },
    "executionInfo": {
     "elapsed": 219,
     "status": "ok",
     "timestamp": 1638614926996,
     "user": {
      "displayName": "till Kadabra",
      "photoUrl": "https://lh3.googleusercontent.com/a/default-user=s64",
      "userId": "05894341007995902137"
     },
     "user_tz": -60
    },
    "id": "5kixFfLMwzEV"
   },
   "outputs": [],
   "source": [
    "# Draw any shapes on the map using the Drawing tools before executing this code block\n",
    "feature = Map.draw_last_feature\n",
    "roi = feature.geometry()"
   ]
  },
  {
   "cell_type": "code",
   "execution_count": null,
   "metadata": {
    "ExecuteTime": {
     "end_time": "2021-12-10T21:23:41.188712Z",
     "start_time": "2021-12-10T21:23:40.111275Z"
    }
   },
   "outputs": [],
   "source": [
    "roi = ee.Geometry({'geodesic': False,\n",
    " 'type': 'Polygon',\n",
    " 'coordinates': [[[8.500447, 49.93948],\n",
    "   [8.501573, 49.939256],\n",
    "   [8.50116, 49.938403],\n",
    "   [8.500044, 49.938624],\n",
    "   [8.500447, 49.93948]]]})\n",
    "Map.addLayer(roi)\n",
    "roi = roi.buffer(10000)\n",
    "Map.addLayer(roi)"
   ]
  },
  {
   "cell_type": "markdown",
   "metadata": {},
   "source": [
    "#### Filter Sentinel-1 GRD Collection"
   ]
  },
  {
   "cell_type": "code",
   "execution_count": null,
   "metadata": {
    "ExecuteTime": {
     "end_time": "2021-12-10T21:23:43.075828Z",
     "start_time": "2021-12-10T21:23:43.063839Z"
    },
    "executionInfo": {
     "elapsed": 207,
     "status": "ok",
     "timestamp": 1638614982728,
     "user": {
      "displayName": "till Kadabra",
      "photoUrl": "https://lh3.googleusercontent.com/a/default-user=s64",
      "userId": "05894341007995902137"
     },
     "user_tz": -60
    },
    "id": "ZWHj5HG1wzEc"
   },
   "outputs": [],
   "source": [
    "s1_collection = ee.ImageCollection(\"COPERNICUS/S1_GRD\") \\\n",
    "    .filterBounds(roi) \\\n",
    "    .filterDate('2016-03-01', '2021-10-31') \\\n",
    "    .filter(ee.Filter.listContains(\"transmitterReceiverPolarisation\", \"VV\")) \\\n",
    "    .filter(ee.Filter.eq('instrumentMode', 'IW')) \\\n",
    "    .select(['VV', 'angle']) "
   ]
  },
  {
   "cell_type": "markdown",
   "metadata": {},
   "source": [
    "#### Add NDVI Band to S1-GRD Collection"
   ]
  },
  {
   "cell_type": "code",
   "execution_count": null,
   "metadata": {
    "ExecuteTime": {
     "end_time": "2021-12-10T21:23:44.805155Z",
     "start_time": "2021-12-10T21:23:44.790168Z"
    }
   },
   "outputs": [],
   "source": [
    "def add_ndvi(image, dateoffset = 15):\n",
    "        \"\"\"\n",
    "        Arguments: Filter S2 TOA Collection to roi, mask cloudy pixels, calculate NDVI values, Make mosaic from +- 15 days from s1 image\n",
    "        \"\"\"\n",
    "        def maskS2clouds(image):\n",
    "            qa = image.select('QA60')\n",
    "            #Bits 10 and 11 are clouds and cirrus, respectively.\n",
    "            cloudBitMask = 1 << 10\n",
    "            cirrusBitMask = 1 << 11\n",
    "            #Both flags should be set to zero, indicating clear conditions.\n",
    "            mask = qa.bitwiseAnd(cloudBitMask).eq(0).And(qa.bitwiseAnd(cirrusBitMask).eq(0))\n",
    "            return image.updateMask(mask).divide(10000)\n",
    "\n",
    "        def NDVI(image):\n",
    "            ndvi = image.normalizedDifference(['nir','red']).rename('NDVI') #(first − second) / (first + second)\n",
    "            return image.addBands(ndvi)\n",
    "        \n",
    "        # Sentinel 2 image collection with corresponding named bands\n",
    "        bandNamesOut_s2 = ['Aerosols','blue','green','red','red edge 1','red edge 2','red edge 3','nir','red edge 4','water vapor','cirrus','swir1','swir2','QA60']\n",
    "        bandNamesS2 = ['B1','B2','B3','B4','B5','B6','B7','B8','B8A','B9','B10','B11','B12','QA60']\n",
    "        \n",
    "        s2_1c = ee.ImageCollection('COPERNICUS/S2').select(bandNamesS2,bandNamesOut_s2)\n",
    "        s2_1c = s2_1c.filterDate(ee.Date(image.date().advance(-dateoffset,'days')), ee.Date(image.date().advance(+dateoffset,'days'))).filterBounds(image.geometry()).map(maskS2clouds).map(NDVI)\n",
    "        \n",
    "        ndvi = ee.Image(s2_1c.qualityMosaic('NDVI').select('NDVI'))\n",
    "\n",
    "        return image.addBands(ndvi)"
   ]
  },
  {
   "cell_type": "code",
   "execution_count": null,
   "metadata": {
    "ExecuteTime": {
     "end_time": "2021-12-10T21:23:45.840140Z",
     "start_time": "2021-12-10T21:23:45.822156Z"
    }
   },
   "outputs": [],
   "source": [
    "s1_collection = s1_collection.map(add_ndvi)"
   ]
  },
  {
   "cell_type": "code",
   "execution_count": null,
   "metadata": {
    "ExecuteTime": {
     "end_time": "2021-12-10T21:23:47.199967Z",
     "start_time": "2021-12-10T21:23:47.190948Z"
    }
   },
   "outputs": [],
   "source": [
    "#Mask out area with invalid landcover class like build up areas\n",
    "lc = ee.Image(ee.ImageCollection(\"ESA/WorldCover/v100\").first().clip(roi).select('Map'))\n",
    "s1_collection = s1_collection.map(lambda x: x.addBands(lc))"
   ]
  },
  {
   "cell_type": "markdown",
   "metadata": {},
   "source": [
    "#### Split Collection into different observations modes to reduce errors"
   ]
  },
  {
   "cell_type": "code",
   "execution_count": null,
   "metadata": {
    "ExecuteTime": {
     "end_time": "2021-12-10T21:23:49.075447Z",
     "start_time": "2021-12-10T21:23:49.063459Z"
    },
    "executionInfo": {
     "elapsed": 3,
     "status": "ok",
     "timestamp": 1638614983523,
     "user": {
      "displayName": "till Kadabra",
      "photoUrl": "https://lh3.googleusercontent.com/a/default-user=s64",
      "userId": "05894341007995902137"
     },
     "user_tz": -60
    },
    "id": "YN1OumaHym9y"
   },
   "outputs": [],
   "source": [
    "desc = s1_collection.filter(ee.Filter.eq('orbitProperties_pass', 'DESCENDING'))\n",
    "senA_desc = desc.filter(ee.Filter.eq('platform_number', 'A'))\n",
    "senB_desc = desc.filter(ee.Filter.eq('platform_number', 'B'))\n",
    "\n",
    "asc = s1_collection.filter(ee.Filter.eq('orbitProperties_pass', 'ASCENDING'))\n",
    "senA_asc = asc.filter(ee.Filter.eq('platform_number', 'A'))\n",
    "senB_asc = asc.filter(ee.Filter.eq('platform_number', 'B'))"
   ]
  },
  {
   "cell_type": "markdown",
   "metadata": {},
   "source": [
    "#### Add Soil Water Index"
   ]
  },
  {
   "cell_type": "code",
   "execution_count": null,
   "metadata": {
    "ExecuteTime": {
     "end_time": "2021-12-10T21:23:50.428261Z",
     "start_time": "2021-12-10T21:23:50.416271Z"
    }
   },
   "outputs": [],
   "source": [
    "def add_swi(image):\n",
    "    swi = image.select('VV').subtract(vvdry_image).divide(vvwet_image.subtract(vvdry_image))\n",
    "    swi = swi.select('VV').rename('SWI')\n",
    "    return image.addBands(swi)"
   ]
  },
  {
   "cell_type": "code",
   "execution_count": null,
   "metadata": {
    "ExecuteTime": {
     "end_time": "2021-12-10T21:23:51.155452Z",
     "start_time": "2021-12-10T21:23:51.125274Z"
    }
   },
   "outputs": [],
   "source": [
    "vvdry_image = senA_desc.select('VV').reduce(ee.Reducer.percentile([5]))\n",
    "vvwet_image = senA_desc.select('VV').reduce(ee.Reducer.percentile([95]))\n",
    "senA_desc = senA_desc.map(add_swi)\n",
    "\n",
    "vvdry_image = senB_desc.select('VV').reduce(ee.Reducer.percentile([5]))\n",
    "vvwet_image = senB_desc.select('VV').reduce(ee.Reducer.percentile([95]))\n",
    "senB_desc = senB_desc.map(add_swi)\n",
    "\n",
    "vvdry_image = senA_asc.select('VV').reduce(ee.Reducer.percentile([5]))\n",
    "vvwet_image = senA_asc.select('VV').reduce(ee.Reducer.percentile([95]))\n",
    "senA_asc = senA_asc.map(add_swi)\n",
    "\n",
    "vvdry_image = senB_asc.select('VV').reduce(ee.Reducer.percentile([5]))\n",
    "vvwet_image = senB_asc.select('VV').reduce(ee.Reducer.percentile([95]))\n",
    "senB_asc = senB_asc.map(add_swi)"
   ]
  },
  {
   "cell_type": "markdown",
   "metadata": {},
   "source": [
    "#### Visualizing  time series  data"
   ]
  },
  {
   "cell_type": "code",
   "execution_count": null,
   "metadata": {
    "ExecuteTime": {
     "end_time": "2021-12-09T19:10:10.937134Z",
     "start_time": "2021-12-09T19:10:10.925150Z"
    }
   },
   "outputs": [],
   "source": [
    "vis_params_VV = {\n",
    "  'min': -30,\n",
    "  'max': 0,\n",
    "  'palette': ['red', 'blue']\n",
    "}\n",
    "vis_params_NDVI = {\n",
    "  'min': 0,\n",
    "  'max': 1,\n",
    "  'palette': ['FFFFFF', 'CE7E45', 'DF923D', 'F1B555', 'FCD163', '99B718', '74A901',\n",
    "    '66A000', '529400', '3E8601', '207401', '056201', '004C00', '023B01',\n",
    "    '012E01', '011D01', '011301']\n",
    "}\n",
    "vis_params_SWI = {\n",
    "  'min': 0,\n",
    "  'max': 1,\n",
    "  'palette': ['red','orange','lightblue', 'blue']\n",
    "}"
   ]
  },
  {
   "cell_type": "code",
   "execution_count": null,
   "metadata": {
    "ExecuteTime": {
     "end_time": "2021-12-09T19:14:00.519595Z",
     "start_time": "2021-12-09T19:13:42.711379Z"
    }
   },
   "outputs": [],
   "source": [
    "Map = geemap.Map(center=(49.75, 8.5), zoom=10)\n",
    "Map.add_basemap('HYBRID')\n",
    "image = senA_desc.select('NDVI').toBands()\n",
    "Map.addLayer(image, {}, \"Time series NDVI - s2 toa\", False)\n",
    "labels = [str(n).zfill(2) for n in range(senA_desc.size().getInfo())]\n",
    "Map.add_time_slider(senA_desc.select('NDVI'), vis_params_NDVI, labels=labels, time_interval=1)\n",
    "Map"
   ]
  },
  {
   "cell_type": "markdown",
   "metadata": {
    "id": "dYD-zhMkwzEb"
   },
   "source": [
    "## Download an ee.ImageCollection"
   ]
  },
  {
   "cell_type": "code",
   "execution_count": 25,
   "metadata": {
    "ExecuteTime": {
     "end_time": "2022-02-22T20:45:03.887461Z",
     "start_time": "2022-02-22T20:45:00.147274Z"
    }
   },
   "outputs": [
    {
     "name": "stdout",
     "output_type": "stream",
     "text": [
      "count_desc_A: 3,count_desc_B: 0,count_asc_A: 0, count_asc_B: 0  \n"
     ]
    }
   ],
   "source": [
    "import geemap\n",
    "#import modules\n",
    "import ee\n",
    "import geopandas as gpd\n",
    "from datetime import datetime\n",
    "from shapely.geometry import Point\n",
    "import json\n",
    "import time\n",
    "# Authenticate Google Earth Engine\n",
    "try:\n",
    "    ee.Initialize() #opt_url='https://earthengine-highvolume.googleapis.com'\n",
    "                    # High Volume Endpoint\n",
    "except:\n",
    "    # Trigger the authentication flow\n",
    "    ee.Authenticate()\n",
    "    # Initialize the library\n",
    "    ee.Initialize()\n",
    "\n",
    "aoi = gpd.read_file(r'C:\\Users\\USER\\Desktop\\Master_Irrigation\\03_GIS\\Ried_225_222\\ried.shp')\n",
    "aoi_geometry = ee.Geometry.Polygon(json.loads(aoi.to_json())['features'][0]['geometry']['coordinates'])\n",
    "aoi_geometry = ee.Geometry.Polygon([\n",
    "          [\n",
    "            [\n",
    "              8.501545786857605,\n",
    "              49.93929633434623\n",
    "            ],\n",
    "            [\n",
    "              8.502210974693298,\n",
    "              49.94055304008135\n",
    "            ],\n",
    "            [\n",
    "              8.501154184341429,\n",
    "              49.940736019226435\n",
    "            ],\n",
    "            [\n",
    "              8.500521183013916,\n",
    "              49.939513843453824\n",
    "            ],\n",
    "            [\n",
    "              8.501545786857605,\n",
    "              49.93929633434623\n",
    "            ]\n",
    "          ]\n",
    "        ])\n",
    "\n",
    "s1_collection = ee.ImageCollection(\"COPERNICUS/S1_GRD\") \\\n",
    "    .filterBounds(ee.FeatureCollection(aoi_geometry)) \\\n",
    "    .filterDate('2015-01-01', '2015-01-15') \\\n",
    "    .filter(ee.Filter.listContains(\"transmitterReceiverPolarisation\", \"VV\")) \\\n",
    "    .filter(ee.Filter.eq('instrumentMode', 'IW')) \\\n",
    "    .select(['VV', 'angle']) \n",
    "\n",
    "desc = s1_collection.filter(ee.Filter.eq('orbitProperties_pass', 'DESCENDING'))\n",
    "senA_desc = desc.filter(ee.Filter.eq('platform_number', 'A'))\n",
    "senB_desc = desc.filter(ee.Filter.eq('platform_number', 'B'))\n",
    "\n",
    "asc = s1_collection.filter(ee.Filter.eq('orbitProperties_pass', 'ASCENDING'))\n",
    "senA_asc = asc.filter(ee.Filter.eq('platform_number', 'A'))\n",
    "senB_asc = asc.filter(ee.Filter.eq('platform_number', 'B'))\n",
    "\n",
    "count_desc_A = senA_desc.size().getInfo()\n",
    "count_desc_B = senB_desc.size().getInfo()\n",
    "count_asc_A = senA_asc.size().getInfo()\n",
    "count_asc_B = senB_asc.size().getInfo()\n",
    "\n",
    "print(f'count_desc_A: {count_desc_A},count_desc_B: {count_desc_B},count_asc_A: {count_asc_A}, count_asc_B: {count_asc_B}  ')"
   ]
  },
  {
   "cell_type": "code",
   "execution_count": 26,
   "metadata": {
    "ExecuteTime": {
     "end_time": "2022-02-22T20:45:23.624917Z",
     "start_time": "2022-02-22T20:45:17.975360Z"
    },
    "id": "Wj7J5Zk1wzEd"
   },
   "outputs": [
    {
     "name": "stdout",
     "output_type": "stream",
     "text": [
      "Total number of images: 3\n",
      "\n",
      "Exporting 1/3: S1A_IW_GRDH_1SDV_20150102T053352_20150102T053417_003988_004CD8_EAA0.tif\n",
      "Generating URL ...\n",
      "Downloading data from https://earthengine-highvolume.googleapis.com/v1alpha/projects/earthengine-legacy/thumbnails/d91d779a0edf848803d011911d646603-d0e4429999b8eea4783ee87eaa381f73:getPixels\n",
      "Please wait ...\n",
      "An error occurred while downloading.\n",
      "\n",
      "\n",
      "Exporting 2/3: S1A_IW_GRDH_1SDV_20150107T054210_20150107T054229_004061_004E72_02B3.tif\n",
      "Generating URL ...\n",
      "Downloading data from https://earthengine-highvolume.googleapis.com/v1alpha/projects/earthengine-legacy/thumbnails/d08c354ef529c688560e9db48c5ec594-1d9d23323f94b170061bd36239f54dce:getPixels\n",
      "Please wait ...\n",
      "An error occurred while downloading.\n",
      "\n",
      "\n",
      "Exporting 3/3: S1A_IW_GRDH_1SDV_20150114T053351_20150114T053416_004163_0050C8_14D6.tif\n",
      "Generating URL ...\n",
      "Downloading data from https://earthengine-highvolume.googleapis.com/v1alpha/projects/earthengine-legacy/thumbnails/e91aa26e63261f26e43887cbc7ac8c62-77014e515be7cdba3c7bcc7244c35c28:getPixels\n",
      "Please wait ...\n",
      "An error occurred while downloading.\n",
      "\n",
      "\n"
     ]
    }
   ],
   "source": [
    "#clip collection to roi extend and export images\n",
    "geemap.ee_export_image_collection(senA_desc.select(['VV','angle']), out_dir='C://Users/USER/Downloads/gee_downloads/senA_desc', region=aoi_geometry, file_per_band=True, scale=10)"
   ]
  },
  {
   "cell_type": "code",
   "execution_count": null,
   "metadata": {
    "ExecuteTime": {
     "end_time": "2022-02-22T20:04:09.871350Z",
     "start_time": "2022-02-22T20:04:09.539216Z"
    }
   },
   "outputs": [],
   "source": [
    "geemap.ee_export_image_collection(senB_desc.select(['VV','angle']) , out_dir='C://Users/USER/Downloads/gee_downloads/senB_desc', region=aoi_geometry, file_per_band=True, scale=50)"
   ]
  },
  {
   "cell_type": "code",
   "execution_count": null,
   "metadata": {
    "ExecuteTime": {
     "end_time": "2021-12-11T00:51:36.863366Z",
     "start_time": "2021-12-10T22:19:07.325293Z"
    }
   },
   "outputs": [],
   "source": [
    "geemap.ee_export_image_collection(senA_asc.select(['VV','Map', 'NDVI']), out_dir='C://Users/USER/Downloads/gee_downloads/senA_asc', region=roi, file_per_band=True, scale=50)"
   ]
  },
  {
   "cell_type": "code",
   "execution_count": null,
   "metadata": {
    "ExecuteTime": {
     "end_time": "2021-12-11T01:50:36.725441Z",
     "start_time": "2021-12-11T00:51:37.743752Z"
    }
   },
   "outputs": [],
   "source": [
    "geemap.ee_export_image_collection(senA_asc.select(['VV','Map', 'NDVI']), out_dir='C://Users/USER/Downloads/gee_downloads/senB_asc', region=roi, file_per_band=True, scale=50)"
   ]
  },
  {
   "cell_type": "markdown",
   "metadata": {},
   "source": [
    "#### Open files in xarray"
   ]
  },
  {
   "cell_type": "code",
   "execution_count": null,
   "metadata": {
    "ExecuteTime": {
     "end_time": "2021-12-11T15:39:46.645828Z",
     "start_time": "2021-12-11T15:39:41.892859Z"
    }
   },
   "outputs": [],
   "source": [
    "import glob\n",
    "import xarray as xr\n",
    "import rioxarray as rio"
   ]
  },
  {
   "cell_type": "code",
   "execution_count": null,
   "metadata": {
    "ExecuteTime": {
     "end_time": "2021-12-11T17:01:45.584750Z",
     "start_time": "2021-12-11T17:01:45.544583Z"
    },
    "executionInfo": {
     "elapsed": 237,
     "status": "ok",
     "timestamp": 1638617820388,
     "user": {
      "displayName": "till Kadabra",
      "photoUrl": "https://lh3.googleusercontent.com/a/default-user=s64",
      "userId": "05894341007995902137"
     },
     "user_tz": -60
    },
    "id": "Oh3qZjV9LbWM"
   },
   "outputs": [],
   "source": [
    "files = glob.glob('C://Users/USER/Downloads/gee_downloads/senA_desc/*.tif')"
   ]
  },
  {
   "cell_type": "code",
   "execution_count": null,
   "metadata": {
    "ExecuteTime": {
     "end_time": "2021-12-09T17:59:56.855903Z",
     "start_time": "2021-12-09T17:59:56.843885Z"
    }
   },
   "outputs": [],
   "source": [
    "from datetime import datetime"
   ]
  },
  {
   "cell_type": "code",
   "execution_count": null,
   "metadata": {
    "ExecuteTime": {
     "end_time": "2021-12-11T17:02:19.211949Z",
     "start_time": "2021-12-11T17:01:47.874674Z"
    }
   },
   "outputs": [],
   "source": [
    "def preprocess_s1(da):\n",
    "    from datetime import datetime\n",
    "    da = da.drop('spatial_ref').sel(band=1).drop('band')\n",
    "    #da['y'] = da['y'].round(4)\n",
    "    #da['x'] = da['x'].round(4)\n",
    "    filename = da.encoding[\"source\"]\n",
    "    variable = filename.split('.')[-2]\n",
    "    date = datetime.strptime(filename.split('_')[6], '%Y%m%dT%H%M%S')\n",
    "    da['time'] = date\n",
    "    da = da.set_coords('time').expand_dims('time')\n",
    "    da = da.isel(x=slice(0,404), y=slice(0,403))\n",
    "    if variable == 'angle':\n",
    "        da = da.rename({'band_data' : 'angle'})\n",
    "    elif variable == 'NDVI':\n",
    "        da = da.rename({'band_data' : 'NDVI'})\n",
    "    elif variable == 'SWI':\n",
    "        da = da.rename({'band_data' : 'SWI'})\n",
    "    elif variable == 'Map':\n",
    "        da = da.rename({'band_data' : 'landcover'})\n",
    "    else:\n",
    "        da = da.rename({'band_data' : 'VV'})\n",
    "    return da\n",
    "                                      \n",
    "data = xr.open_mfdataset(files, engine='rasterio', preprocess=preprocess_s1, )#"
   ]
  },
  {
   "cell_type": "code",
   "execution_count": null,
   "metadata": {
    "ExecuteTime": {
     "end_time": "2021-12-11T17:02:25.431867Z",
     "start_time": "2021-12-11T17:02:25.378471Z"
    }
   },
   "outputs": [],
   "source": [
    "data"
   ]
  },
  {
   "cell_type": "code",
   "execution_count": null,
   "metadata": {
    "ExecuteTime": {
     "end_time": "2021-12-11T16:32:01.981107Z",
     "start_time": "2021-12-11T16:32:01.661427Z"
    }
   },
   "outputs": [],
   "source": [
    "data.isel(time=12).VV.plot()"
   ]
  },
  {
   "cell_type": "code",
   "execution_count": null,
   "metadata": {
    "ExecuteTime": {
     "end_time": "2021-12-11T15:55:39.773157Z",
     "start_time": "2021-12-11T15:55:39.733137Z"
    }
   },
   "outputs": [],
   "source": [
    "master_coordinate = xr.open_rasterio(files[-1])"
   ]
  },
  {
   "cell_type": "code",
   "execution_count": null,
   "metadata": {
    "ExecuteTime": {
     "end_time": "2021-12-09T18:10:27.333048Z",
     "start_time": "2021-12-09T18:10:25.837794Z"
    }
   },
   "outputs": [],
   "source": [
    "monthly_mean = data.resample(time='1m').mean()\n",
    "#yearly_mean = data.groupby('time.year').groupby('year.month').mean()"
   ]
  },
  {
   "cell_type": "code",
   "execution_count": null,
   "metadata": {
    "ExecuteTime": {
     "end_time": "2021-12-09T01:20:01.315578Z",
     "start_time": "2021-12-09T01:20:01.240784Z"
    }
   },
   "outputs": [],
   "source": [
    "df = yearly_mean.to_dataframe().reset_index()\n",
    "df[['x','y']] = df[['x','y']].round(4)"
   ]
  },
  {
   "cell_type": "code",
   "execution_count": null,
   "metadata": {
    "ExecuteTime": {
     "end_time": "2021-12-09T01:21:58.458710Z",
     "start_time": "2021-12-09T01:21:58.352463Z"
    }
   },
   "outputs": [],
   "source": [
    "ymean = gpd.GeoDataFrame(df, geometry=gpd.points_from_xy(df.x,df.y))"
   ]
  },
  {
   "cell_type": "code",
   "execution_count": null,
   "metadata": {
    "ExecuteTime": {
     "end_time": "2021-12-09T00:03:32.384112Z",
     "start_time": "2021-12-09T00:03:31.339216Z"
    }
   },
   "outputs": [],
   "source": [
    "monthly_mean.NDVI.plot.contourf(x='x', y='y', col='month')"
   ]
  },
  {
   "cell_type": "code",
   "execution_count": null,
   "metadata": {
    "ExecuteTime": {
     "end_time": "2021-12-08T23:46:12.133908Z",
     "start_time": "2021-12-08T23:46:11.306746Z"
    }
   },
   "outputs": [],
   "source": [
    "monthly_mean.NDVI.plot(x='x', y='y', col='month', levels=[0.1,0.2,0.3,0.4,0.5,0.6,1])"
   ]
  },
  {
   "cell_type": "code",
   "execution_count": null,
   "metadata": {
    "ExecuteTime": {
     "end_time": "2021-12-08T23:40:31.462501Z",
     "start_time": "2021-12-08T23:40:30.485343Z"
    }
   },
   "outputs": [],
   "source": [
    "monthly_mean.NDVI.plot.contour(x='x', y='y', col='month', levels=[0.1,0.2,0.3,0.4,0.5,0.6,1])"
   ]
  },
  {
   "cell_type": "code",
   "execution_count": null,
   "metadata": {
    "ExecuteTime": {
     "end_time": "2021-12-09T00:16:11.476805Z",
     "start_time": "2021-12-09T00:16:10.488900Z"
    }
   },
   "outputs": [],
   "source": [
    "monthly_mean.NDVI.plot.contour(x='x', y='y', col='month', levels=7)"
   ]
  },
  {
   "cell_type": "code",
   "execution_count": null,
   "metadata": {
    "ExecuteTime": {
     "end_time": "2021-12-08T23:49:17.219953Z",
     "start_time": "2021-12-08T23:49:16.279528Z"
    }
   },
   "outputs": [],
   "source": [
    "monthly_mean.NDVI.plot.contour(x='x', y='y', col='month', levels=[0.1,0.2,3,0.5,0.6,1])"
   ]
  },
  {
   "cell_type": "code",
   "execution_count": null,
   "metadata": {
    "ExecuteTime": {
     "end_time": "2021-12-09T11:59:28.817103Z",
     "start_time": "2021-12-09T11:59:25.946045Z"
    }
   },
   "outputs": [],
   "source": [
    "import hvplot.xarray  # noqa"
   ]
  },
  {
   "cell_type": "code",
   "execution_count": null,
   "metadata": {
    "ExecuteTime": {
     "end_time": "2021-12-09T18:11:35.579235Z",
     "start_time": "2021-12-09T18:11:35.531272Z"
    }
   },
   "outputs": [],
   "source": [
    "monthly_mean\n"
   ]
  },
  {
   "cell_type": "code",
   "execution_count": null,
   "metadata": {
    "ExecuteTime": {
     "end_time": "2021-12-09T18:54:23.661869Z",
     "start_time": "2021-12-09T18:53:57.755000Z"
    }
   },
   "outputs": [],
   "source": [
    "monthly_mean['NDVI'].plot.contour(col='time', robust=True, col_wrap=12, cmap='CMRmap', levels=6)"
   ]
  },
  {
   "cell_type": "code",
   "execution_count": null,
   "metadata": {
    "ExecuteTime": {
     "end_time": "2021-12-09T12:02:03.709236Z",
     "start_time": "2021-12-09T12:02:03.598371Z"
    }
   },
   "outputs": [],
   "source": [
    "monthly_mean.NDVI.hvplot(col='month')"
   ]
  },
  {
   "cell_type": "code",
   "execution_count": null,
   "metadata": {
    "ExecuteTime": {
     "end_time": "2021-12-09T00:17:16.829325Z",
     "start_time": "2021-12-09T00:17:15.300770Z"
    },
    "colab": {
     "base_uri": "https://localhost:8080/",
     "height": 387
    },
    "executionInfo": {
     "elapsed": 5137,
     "status": "ok",
     "timestamp": 1638562536597,
     "user": {
      "displayName": "",
      "photoUrl": "",
      "userId": ""
     },
     "user_tz": -60
    },
    "id": "VlcGCE5L7Gh1",
    "outputId": "cfafb375-dd72-43e6-c206-2503f2698800"
   },
   "outputs": [],
   "source": [
    "ndvi = monthly_mean.hvplot(x='x', y='y', col='month',width=192, height=132, yaxis=False, xaxis=False, colorbar=False, cmap='viridis')\n",
    "ndvi"
   ]
  },
  {
   "cell_type": "markdown",
   "metadata": {
    "id": "NveTfpEAwzEe"
   },
   "source": [
    "## Extract pixels as a Numpy array"
   ]
  },
  {
   "cell_type": "code",
   "execution_count": null,
   "metadata": {
    "id": "TUdtBYHmwzEe"
   },
   "outputs": [],
   "source": [
    "import ee\n",
    "import geemap\n",
    "import numpy as np\n",
    "import matplotlib.pyplot as plt\n",
    "\n",
    "img = ee.Image('LANDSAT/LC08/C01/T1_SR/LC08_038029_20180810') \\\n",
    "  .select(['B4', 'B5', 'B6'])\n",
    "\n",
    "aoi = ee.Geometry.Polygon(\n",
    "  [[[-110.8, 44.7],\n",
    "    [-110.8, 44.6],\n",
    "    [-110.6, 44.6],\n",
    "    [-110.6, 44.7]]], None, False)\n",
    "\n",
    "rgb_img = geemap.ee_to_numpy(img, region=aoi)\n",
    "print(rgb_img.shape)"
   ]
  },
  {
   "cell_type": "code",
   "execution_count": null,
   "metadata": {
    "id": "5uoYi1GIwzEe"
   },
   "outputs": [],
   "source": [
    "# Scale the data to [0, 255] to show as an RGB image. \n",
    "# Adapted from https://bit.ly/2XlmQY8. Credits to Justin Braaten\n",
    "rgb_img_test = (255*((rgb_img[:, :, 0:3] - 100)/3500)).astype('uint8')\n",
    "plt.imshow(rgb_img_test)\n",
    "plt.show()"
   ]
  },
  {
   "cell_type": "markdown",
   "metadata": {},
   "source": [
    "# Export Mean Data from Gee as array"
   ]
  },
  {
   "cell_type": "code",
   "execution_count": null,
   "metadata": {
    "ExecuteTime": {
     "end_time": "2022-02-10T20:51:17.510437Z",
     "start_time": "2022-02-10T20:51:15.529656Z"
    }
   },
   "outputs": [],
   "source": [
    "import geemap\n",
    "import ee\n",
    "from irrigation_detection import add_ndvi\n",
    "from irrigation_detection import mask_by_landcover\n",
    "from irrigation_detection import mask_by_landcover"
   ]
  },
  {
   "cell_type": "code",
   "execution_count": null,
   "metadata": {
    "ExecuteTime": {
     "end_time": "2022-02-10T20:51:26.330650Z",
     "start_time": "2022-02-10T20:51:23.512892Z"
    }
   },
   "outputs": [],
   "source": [
    "Map = geemap.Map(center=(49.939, 8.5), zoom=16)\n",
    "Map.add_basemap('HYBRID')\n",
    "Map"
   ]
  },
  {
   "cell_type": "code",
   "execution_count": null,
   "metadata": {
    "ExecuteTime": {
     "end_time": "2022-02-10T20:52:53.737949Z",
     "start_time": "2022-02-10T20:52:53.506850Z"
    }
   },
   "outputs": [],
   "source": [
    "# Draw any shapes on the map using the Drawing tools before executing this code block\n",
    "feature = Map.draw_last_feature\n",
    "roi = feature.geometry()\n",
    "aoi = roi.buffer(10000)\n",
    "Map.addLayer(aoi)"
   ]
  },
  {
   "cell_type": "code",
   "execution_count": null,
   "metadata": {
    "ExecuteTime": {
     "end_time": "2022-02-10T20:53:29.447080Z",
     "start_time": "2022-02-10T20:53:29.426070Z"
    }
   },
   "outputs": [],
   "source": [
    "s1_collection = ee.ImageCollection(\"COPERNICUS/S1_GRD\") \\\n",
    "    .filterBounds(roi) \\\n",
    "    .filterDate('2016-03-01', '2021-12-31') \\\n",
    "    .filter(ee.Filter.listContains(\"transmitterReceiverPolarisation\", \"VV\")) \\\n",
    "    .filter(ee.Filter.eq('instrumentMode', 'IW')) \\\n",
    "    .select(['VV', 'angle']) \n",
    "\n",
    "#Add ndvi band with 15 day offsett for s2 images\n",
    "s1_collection = s1_collection.map(add_ndvi)"
   ]
  },
  {
   "cell_type": "code",
   "execution_count": null,
   "metadata": {
    "ExecuteTime": {
     "end_time": "2022-02-10T20:53:31.504243Z",
     "start_time": "2022-02-10T20:53:31.488808Z"
    }
   },
   "outputs": [],
   "source": [
    "#Mask out area with invalid landcover class like build up areas\n",
    "lc = ee.Image(ee.ImageCollection(\"ESA/WorldCover/v100\").first().clip(aoi).select('Map'))\n",
    "s1_collection = s1_collection.map(lambda x: x.addBands(lc))\n",
    "s1_collection = s1_collection.map(mask_by_landcover)"
   ]
  },
  {
   "cell_type": "code",
   "execution_count": null,
   "metadata": {
    "ExecuteTime": {
     "end_time": "2022-02-10T20:54:55.686612Z",
     "start_time": "2022-02-10T20:54:54.264319Z"
    }
   },
   "outputs": [],
   "source": [
    "s1_collection = s1_collection.map(lambda x: add_ndvi(x, dateoffset=16))\n",
    "s1_collection = s1_collection.map(mask_by_landcover)"
   ]
  },
  {
   "cell_type": "code",
   "execution_count": null,
   "metadata": {},
   "outputs": [],
   "source": []
  },
  {
   "cell_type": "code",
   "execution_count": null,
   "metadata": {
    "ExecuteTime": {
     "end_time": "2021-12-10T15:30:29.699087Z",
     "start_time": "2021-12-10T15:30:28.911493Z"
    }
   },
   "outputs": [],
   "source": [
    "Map.addLayer(s1_collection.first(), {'min': -30, 'max': 0, 'palette': ['red', 'blue']})"
   ]
  },
  {
   "cell_type": "code",
   "execution_count": null,
   "metadata": {},
   "outputs": [],
   "source": []
  }
 ],
 "metadata": {
  "colab": {
   "name": "Export_ImageCollection_fromGEE.ipynb",
   "provenance": [
    {
     "file_id": "https://github.com/giswqs/geemap/blob/master/examples/notebooks/11_export_image.ipynb",
     "timestamp": 1638562593312
    }
   ]
  },
  "hide_input": false,
  "kernelspec": {
   "display_name": "Python [conda env:gee]",
   "language": "python",
   "name": "conda-env-gee-py"
  },
  "language_info": {
   "codemirror_mode": {
    "name": "ipython",
    "version": 3
   },
   "file_extension": ".py",
   "mimetype": "text/x-python",
   "name": "python",
   "nbconvert_exporter": "python",
   "pygments_lexer": "ipython3",
   "version": "3.8.12"
  },
  "toc": {
   "base_numbering": 1,
   "nav_menu": {},
   "number_sections": true,
   "sideBar": true,
   "skip_h1_title": true,
   "title_cell": "Table of Contents",
   "title_sidebar": "Table of Contents",
   "toc_cell": false,
   "toc_position": {
    "height": "calc(100% - 180px)",
    "left": "10px",
    "top": "150px",
    "width": "281px"
   },
   "toc_section_display": true,
   "toc_window_display": true
  },
  "varInspector": {
   "cols": {
    "lenName": 16,
    "lenType": 16,
    "lenVar": 40
   },
   "kernels_config": {
    "python": {
     "delete_cmd_postfix": "",
     "delete_cmd_prefix": "del ",
     "library": "var_list.py",
     "varRefreshCmd": "print(var_dic_list())"
    },
    "r": {
     "delete_cmd_postfix": ") ",
     "delete_cmd_prefix": "rm(",
     "library": "var_list.r",
     "varRefreshCmd": "cat(var_dic_list()) "
    }
   },
   "position": {
    "height": "589.85px",
    "left": "1550px",
    "right": "20px",
    "top": "120px",
    "width": "350px"
   },
   "types_to_exclude": [
    "module",
    "function",
    "builtin_function_or_method",
    "instance",
    "_Feature"
   ],
   "window_display": true
  },
  "widgets": {
   "application/vnd.jupyter.widget-state+json": {
    "01bcd5eff9c64ba7aa9c10676ac93a78": {
     "model_module": "jupyter-leaflet",
     "model_module_version": "^0.14.0",
     "model_name": "LeafletFullScreenControlModel",
     "state": {
      "_model_module": "jupyter-leaflet",
      "_model_module_version": "^0.14.0",
      "_model_name": "LeafletFullScreenControlModel",
      "_view_count": null,
      "_view_module": "jupyter-leaflet",
      "_view_module_version": "^0.14.0",
      "_view_name": "LeafletFullScreenControlView",
      "options": [
       "position"
      ],
      "position": "topleft"
     }
    },
    "01e2af5df4174a8c8f1f2ab176d7a583": {
     "model_module": "@jupyter-widgets/base",
     "model_module_version": "1.2.0",
     "model_name": "LayoutModel",
     "state": {
      "_model_module": "@jupyter-widgets/base",
      "_model_module_version": "1.2.0",
      "_model_name": "LayoutModel",
      "_view_count": null,
      "_view_module": "@jupyter-widgets/base",
      "_view_module_version": "1.2.0",
      "_view_name": "LayoutView",
      "align_content": null,
      "align_items": null,
      "align_self": null,
      "border": null,
      "bottom": null,
      "display": null,
      "flex": null,
      "flex_flow": null,
      "grid_area": null,
      "grid_auto_columns": null,
      "grid_auto_flow": null,
      "grid_auto_rows": null,
      "grid_column": null,
      "grid_gap": null,
      "grid_row": null,
      "grid_template_areas": null,
      "grid_template_columns": null,
      "grid_template_rows": null,
      "height": "auto",
      "justify_content": null,
      "justify_items": null,
      "left": null,
      "margin": null,
      "max_height": null,
      "max_width": null,
      "min_height": null,
      "min_width": null,
      "object_fit": null,
      "object_position": null,
      "order": null,
      "overflow": null,
      "overflow_x": null,
      "overflow_y": null,
      "padding": "0px 0px 0px 4px",
      "right": null,
      "top": null,
      "visibility": null,
      "width": "auto"
     }
    },
    "034c8c2610b7449bb7cb2770f9678e19": {
     "model_module": "@jupyter-widgets/base",
     "model_module_version": "1.2.0",
     "model_name": "LayoutModel",
     "state": {
      "_model_module": "@jupyter-widgets/base",
      "_model_module_version": "1.2.0",
      "_model_name": "LayoutModel",
      "_view_count": null,
      "_view_module": "@jupyter-widgets/base",
      "_view_module_version": "1.2.0",
      "_view_name": "LayoutView",
      "align_content": null,
      "align_items": null,
      "align_self": null,
      "border": null,
      "bottom": null,
      "display": null,
      "flex": null,
      "flex_flow": null,
      "grid_area": null,
      "grid_auto_columns": null,
      "grid_auto_flow": null,
      "grid_auto_rows": null,
      "grid_column": null,
      "grid_gap": null,
      "grid_row": null,
      "grid_template_areas": null,
      "grid_template_columns": null,
      "grid_template_rows": null,
      "height": "auto",
      "justify_content": null,
      "justify_items": null,
      "left": null,
      "margin": null,
      "max_height": null,
      "max_width": null,
      "min_height": null,
      "min_width": null,
      "object_fit": null,
      "object_position": null,
      "order": null,
      "overflow": null,
      "overflow_x": null,
      "overflow_y": null,
      "padding": "0px 0px 0px 4px",
      "right": null,
      "top": null,
      "visibility": null,
      "width": "auto"
     }
    },
    "086ce82fddd44778a74e70b9926ccaff": {
     "model_module": "@jupyter-widgets/base",
     "model_module_version": "1.2.0",
     "model_name": "LayoutModel",
     "state": {
      "_model_module": "@jupyter-widgets/base",
      "_model_module_version": "1.2.0",
      "_model_name": "LayoutModel",
      "_view_count": null,
      "_view_module": "@jupyter-widgets/base",
      "_view_module_version": "1.2.0",
      "_view_name": "LayoutView",
      "align_content": null,
      "align_items": null,
      "align_self": null,
      "border": null,
      "bottom": null,
      "display": null,
      "flex": null,
      "flex_flow": null,
      "grid_area": null,
      "grid_auto_columns": null,
      "grid_auto_flow": null,
      "grid_auto_rows": null,
      "grid_column": null,
      "grid_gap": null,
      "grid_row": null,
      "grid_template_areas": null,
      "grid_template_columns": null,
      "grid_template_rows": null,
      "height": "auto",
      "justify_content": null,
      "justify_items": null,
      "left": null,
      "margin": null,
      "max_height": null,
      "max_width": null,
      "min_height": null,
      "min_width": null,
      "object_fit": null,
      "object_position": null,
      "order": null,
      "overflow": null,
      "overflow_x": null,
      "overflow_y": null,
      "padding": "0px 0px 0px 4px",
      "right": null,
      "top": null,
      "visibility": null,
      "width": "auto"
     }
    },
    "145c436ac7704c8f9da6894c885040b1": {
     "model_module": "@jupyter-widgets/controls",
     "model_module_version": "1.5.0",
     "model_name": "ToggleButtonModel",
     "state": {
      "_dom_classes": [],
      "_model_module": "@jupyter-widgets/controls",
      "_model_module_version": "1.5.0",
      "_model_name": "ToggleButtonModel",
      "_view_count": null,
      "_view_module": "@jupyter-widgets/controls",
      "_view_module_version": "1.5.0",
      "_view_name": "ToggleButtonView",
      "button_style": "primary",
      "description": "",
      "description_tooltip": null,
      "disabled": false,
      "icon": "adjust",
      "layout": "IPY_MODEL_2e7e6dabbfb54cfba143a25a16725cbf",
      "style": "IPY_MODEL_b0798f04d07643d09ffd620d7988fe18",
      "tooltip": "Planet imagery",
      "value": false
     }
    },
    "14a0de89775e407ab71219bf3e00602c": {
     "model_module": "@jupyter-widgets/controls",
     "model_module_version": "1.5.0",
     "model_name": "DescriptionStyleModel",
     "state": {
      "_model_module": "@jupyter-widgets/controls",
      "_model_module_version": "1.5.0",
      "_model_name": "DescriptionStyleModel",
      "_view_count": null,
      "_view_module": "@jupyter-widgets/base",
      "_view_module_version": "1.2.0",
      "_view_name": "StyleView",
      "description_width": ""
     }
    },
    "1779d1076cd04951a654bc75f05b01b7": {
     "model_module": "@jupyter-widgets/controls",
     "model_module_version": "1.5.0",
     "model_name": "ToggleButtonModel",
     "state": {
      "_dom_classes": [],
      "_model_module": "@jupyter-widgets/controls",
      "_model_module_version": "1.5.0",
      "_model_name": "ToggleButtonModel",
      "_view_count": null,
      "_view_module": "@jupyter-widgets/controls",
      "_view_module_version": "1.5.0",
      "_view_name": "ToggleButtonView",
      "button_style": "primary",
      "description": "",
      "description_tooltip": null,
      "disabled": false,
      "icon": "random",
      "layout": "IPY_MODEL_fd09c5d753874b88975be5334e166a50",
      "style": "IPY_MODEL_c82c0ab8eba4474db379596fb2a41c2f",
      "tooltip": "Sankey plots",
      "value": false
     }
    },
    "17bcca91341745ceb877d3f4ba5b0c0d": {
     "model_module": "@jupyter-widgets/controls",
     "model_module_version": "1.5.0",
     "model_name": "DescriptionStyleModel",
     "state": {
      "_model_module": "@jupyter-widgets/controls",
      "_model_module_version": "1.5.0",
      "_model_name": "DescriptionStyleModel",
      "_view_count": null,
      "_view_module": "@jupyter-widgets/base",
      "_view_module_version": "1.2.0",
      "_view_name": "StyleView",
      "description_width": ""
     }
    },
    "185ac30eebce407fa6d9f7909ae092fc": {
     "model_module": "jupyter-leaflet",
     "model_module_version": "^0.14.0",
     "model_name": "LeafletAttributionControlModel",
     "state": {
      "_model_module": "jupyter-leaflet",
      "_model_module_version": "^0.14.0",
      "_model_name": "LeafletAttributionControlModel",
      "_view_count": null,
      "_view_module": "jupyter-leaflet",
      "_view_module_version": "^0.14.0",
      "_view_name": "LeafletAttributionControlView",
      "options": [
       "position",
       "prefix"
      ],
      "position": "bottomright",
      "prefix": "ipyleaflet"
     }
    },
    "1a6df631667a46d688279293275b7c45": {
     "model_module": "@jupyter-widgets/controls",
     "model_module_version": "1.5.0",
     "model_name": "DescriptionStyleModel",
     "state": {
      "_model_module": "@jupyter-widgets/controls",
      "_model_module_version": "1.5.0",
      "_model_name": "DescriptionStyleModel",
      "_view_count": null,
      "_view_module": "@jupyter-widgets/base",
      "_view_module_version": "1.2.0",
      "_view_name": "StyleView",
      "description_width": ""
     }
    },
    "1c393a238655449692a2bcf3ebb7b9a2": {
     "model_module": "@jupyter-widgets/output",
     "model_module_version": "1.0.0",
     "model_name": "OutputModel",
     "state": {
      "_dom_classes": [],
      "_model_module": "@jupyter-widgets/output",
      "_model_module_version": "1.0.0",
      "_model_name": "OutputModel",
      "_view_count": null,
      "_view_module": "@jupyter-widgets/output",
      "_view_module_version": "1.0.0",
      "_view_name": "OutputView",
      "layout": "IPY_MODEL_a3823cd4366442198ebc5c01f53fa932",
      "msg_id": "",
      "outputs": [
       {
        "data": {
         "application/vnd.jupyter.widget-view+json": {
          "model_id": "fcb466a5fd274654b987b2426fdb0270",
          "version_major": 2,
          "version_minor": 0
         },
         "text/plain": "RadioButtons(options=('Woogsdammweg 6, 64521, Groß-Gerau, Hessen',), value='Woogsdammweg 6, 64521, Groß-Gerau,…"
        },
        "metadata": {
         "application/vnd.jupyter.widget-view+json": {
          "colab": {
           "custom_widget_manager": {
            "url": "https://ssl.gstatic.com/colaboratory-static/widgets/colab-cdn-widget-manager/a8874ba6619b6106/manager.min.js"
           }
          }
         }
        },
        "output_type": "display_data"
       }
      ]
     }
    },
    "27aebaa62a4141bea8a5f373314fd33a": {
     "model_module": "@jupyter-widgets/base",
     "model_module_version": "1.2.0",
     "model_name": "LayoutModel",
     "state": {
      "_model_module": "@jupyter-widgets/base",
      "_model_module_version": "1.2.0",
      "_model_name": "LayoutModel",
      "_view_count": null,
      "_view_module": "@jupyter-widgets/base",
      "_view_module_version": "1.2.0",
      "_view_name": "LayoutView",
      "align_content": null,
      "align_items": null,
      "align_self": null,
      "border": null,
      "bottom": null,
      "display": null,
      "flex": null,
      "flex_flow": null,
      "grid_area": null,
      "grid_auto_columns": null,
      "grid_auto_flow": null,
      "grid_auto_rows": null,
      "grid_column": null,
      "grid_gap": null,
      "grid_row": null,
      "grid_template_areas": null,
      "grid_template_columns": null,
      "grid_template_rows": null,
      "height": "28px",
      "justify_content": null,
      "justify_items": null,
      "left": null,
      "margin": null,
      "max_height": null,
      "max_width": null,
      "min_height": null,
      "min_width": null,
      "object_fit": null,
      "object_position": null,
      "order": null,
      "overflow": null,
      "overflow_x": null,
      "overflow_y": null,
      "padding": "0px 0px 0px 4px",
      "right": null,
      "top": null,
      "visibility": null,
      "width": "28px"
     }
    },
    "28482884f6364a6e8e7bb5539d695c36": {
     "model_module": "@jupyter-widgets/controls",
     "model_module_version": "1.5.0",
     "model_name": "ToggleButtonModel",
     "state": {
      "_dom_classes": [],
      "_model_module": "@jupyter-widgets/controls",
      "_model_module_version": "1.5.0",
      "_model_name": "ToggleButtonModel",
      "_view_count": null,
      "_view_module": "@jupyter-widgets/controls",
      "_view_module_version": "1.5.0",
      "_view_name": "ToggleButtonView",
      "button_style": "primary",
      "description": "",
      "description_tooltip": null,
      "disabled": false,
      "icon": "retweet",
      "layout": "IPY_MODEL_3ce51b4e0cd744edae8be6967397875b",
      "style": "IPY_MODEL_d56bb6be88b8476e80b04a5f9a30a469",
      "tooltip": "Convert Earth Engine JavaScript to Python",
      "value": false
     }
    },
    "288eed4c6b144b568d4f822e600cdea0": {
     "model_module": "@jupyter-widgets/controls",
     "model_module_version": "1.5.0",
     "model_name": "ToggleButtonModel",
     "state": {
      "_dom_classes": [],
      "_model_module": "@jupyter-widgets/controls",
      "_model_module_version": "1.5.0",
      "_model_name": "ToggleButtonModel",
      "_view_count": null,
      "_view_module": "@jupyter-widgets/controls",
      "_view_module_version": "1.5.0",
      "_view_name": "ToggleButtonView",
      "button_style": "primary",
      "description": "",
      "description_tooltip": null,
      "disabled": false,
      "icon": "eraser",
      "layout": "IPY_MODEL_6769a4d30f5049b8a8786cb3b625db79",
      "style": "IPY_MODEL_3533034af4824034ae5b495c07149958",
      "tooltip": "Remove all drawn features",
      "value": false
     }
    },
    "289d08d70aae4fd7b4c82163a67c87d2": {
     "model_module": "@jupyter-widgets/base",
     "model_module_version": "1.2.0",
     "model_name": "LayoutModel",
     "state": {
      "_model_module": "@jupyter-widgets/base",
      "_model_module_version": "1.2.0",
      "_model_name": "LayoutModel",
      "_view_count": null,
      "_view_module": "@jupyter-widgets/base",
      "_view_module_version": "1.2.0",
      "_view_name": "LayoutView",
      "align_content": null,
      "align_items": null,
      "align_self": null,
      "border": null,
      "bottom": null,
      "display": null,
      "flex": null,
      "flex_flow": null,
      "grid_area": null,
      "grid_auto_columns": null,
      "grid_auto_flow": null,
      "grid_auto_rows": null,
      "grid_column": null,
      "grid_gap": null,
      "grid_row": null,
      "grid_template_areas": null,
      "grid_template_columns": null,
      "grid_template_rows": null,
      "height": "auto",
      "justify_content": null,
      "justify_items": null,
      "left": null,
      "margin": null,
      "max_height": null,
      "max_width": null,
      "min_height": null,
      "min_width": null,
      "object_fit": null,
      "object_position": null,
      "order": null,
      "overflow": null,
      "overflow_x": null,
      "overflow_y": null,
      "padding": "0px 0px 0px 4px",
      "right": null,
      "top": null,
      "visibility": null,
      "width": "auto"
     }
    },
    "2d88f913f94f4d31ade72cbaa04c81f1": {
     "model_module": "jupyter-leaflet",
     "model_module_version": "^0.14.0",
     "model_name": "LeafletMapStyleModel",
     "state": {
      "_model_module": "jupyter-leaflet",
      "_model_module_version": "^0.14.0",
      "_model_name": "LeafletMapStyleModel",
      "_view_count": null,
      "_view_module": "@jupyter-widgets/base",
      "_view_module_version": "1.2.0",
      "_view_name": "StyleView",
      "cursor": "grab"
     }
    },
    "2da989e47a2647c4a6d7adcdb0aaf623": {
     "model_module": "@jupyter-widgets/controls",
     "model_module_version": "1.5.0",
     "model_name": "ToggleButtonModel",
     "state": {
      "_dom_classes": [],
      "_model_module": "@jupyter-widgets/controls",
      "_model_module_version": "1.5.0",
      "_model_name": "ToggleButtonModel",
      "_view_count": null,
      "_view_module": "@jupyter-widgets/controls",
      "_view_module_version": "1.5.0",
      "_view_name": "ToggleButtonView",
      "button_style": "primary",
      "description": "",
      "description_tooltip": null,
      "disabled": false,
      "icon": "line-chart",
      "layout": "IPY_MODEL_b5ae4591c5d64b8a81fa5bccec2df002",
      "style": "IPY_MODEL_50729b3aeaec4d1aa7eb0e801b977c76",
      "tooltip": "Creating and plotting transects",
      "value": false
     }
    },
    "2e741ba17fe94af0bf83f6f9cb9fba53": {
     "model_module": "jupyter-leaflet",
     "model_module_version": "^0.14.0",
     "model_name": "LeafletWidgetControlModel",
     "state": {
      "_model_module": "jupyter-leaflet",
      "_model_module_version": "^0.14.0",
      "_model_name": "LeafletWidgetControlModel",
      "_view_count": null,
      "_view_module": "jupyter-leaflet",
      "_view_module_version": "^0.14.0",
      "_view_name": "LeafletWidgetControlView",
      "max_height": null,
      "max_width": null,
      "min_height": null,
      "min_width": null,
      "options": [
       "position",
       "transparent_bg"
      ],
      "position": "topleft",
      "transparent_bg": false,
      "widget": "IPY_MODEL_35228bd17a4f4bf5a9739cd66dc58394"
     }
    },
    "2e7e6dabbfb54cfba143a25a16725cbf": {
     "model_module": "@jupyter-widgets/base",
     "model_module_version": "1.2.0",
     "model_name": "LayoutModel",
     "state": {
      "_model_module": "@jupyter-widgets/base",
      "_model_module_version": "1.2.0",
      "_model_name": "LayoutModel",
      "_view_count": null,
      "_view_module": "@jupyter-widgets/base",
      "_view_module_version": "1.2.0",
      "_view_name": "LayoutView",
      "align_content": null,
      "align_items": null,
      "align_self": null,
      "border": null,
      "bottom": null,
      "display": null,
      "flex": null,
      "flex_flow": null,
      "grid_area": null,
      "grid_auto_columns": null,
      "grid_auto_flow": null,
      "grid_auto_rows": null,
      "grid_column": null,
      "grid_gap": null,
      "grid_row": null,
      "grid_template_areas": null,
      "grid_template_columns": null,
      "grid_template_rows": null,
      "height": "auto",
      "justify_content": null,
      "justify_items": null,
      "left": null,
      "margin": null,
      "max_height": null,
      "max_width": null,
      "min_height": null,
      "min_width": null,
      "object_fit": null,
      "object_position": null,
      "order": null,
      "overflow": null,
      "overflow_x": null,
      "overflow_y": null,
      "padding": "0px 0px 0px 4px",
      "right": null,
      "top": null,
      "visibility": null,
      "width": "auto"
     }
    },
    "320ee60e946344b1ac79cb2c22805294": {
     "model_module": "@jupyter-widgets/controls",
     "model_module_version": "1.5.0",
     "model_name": "DescriptionStyleModel",
     "state": {
      "_model_module": "@jupyter-widgets/controls",
      "_model_module_version": "1.5.0",
      "_model_name": "DescriptionStyleModel",
      "_view_count": null,
      "_view_module": "@jupyter-widgets/base",
      "_view_module_version": "1.2.0",
      "_view_name": "StyleView",
      "description_width": ""
     }
    },
    "3219ab8fb8184d51977b2c9c6fcfeede": {
     "model_module": "@jupyter-widgets/controls",
     "model_module_version": "1.5.0",
     "model_name": "GridBoxModel",
     "state": {
      "_dom_classes": [],
      "_model_module": "@jupyter-widgets/controls",
      "_model_module_version": "1.5.0",
      "_model_name": "GridBoxModel",
      "_view_count": null,
      "_view_module": "@jupyter-widgets/controls",
      "_view_module_version": "1.5.0",
      "_view_name": "GridBoxView",
      "box_style": "",
      "children": [
       "IPY_MODEL_7446c5527f194ca58fb9cc46e5e7c0be",
       "IPY_MODEL_562695feba9a400d88eb546cc9fda6f1",
       "IPY_MODEL_7ca54cad3a584bec89a2896ef2184121",
       "IPY_MODEL_288eed4c6b144b568d4f822e600cdea0",
       "IPY_MODEL_c1b5864db99a4a3d879d987dcf32cc31",
       "IPY_MODEL_28482884f6364a6e8e7bb5539d695c36",
       "IPY_MODEL_60d95584a69945f4b1d7fa6dbd97f016",
       "IPY_MODEL_ffe43e59c5fc4562a5457ac1308eaab5",
       "IPY_MODEL_aeb15650eb9f4b309bfe3adcf9b5ebd0",
       "IPY_MODEL_7e781be9a8f74b5f8641baf3ea642814",
       "IPY_MODEL_f5d7192fb4b4460ca4dfb1e1e0fbce22",
       "IPY_MODEL_58dde3dcb9c448f894dd651e2ae41a84",
       "IPY_MODEL_2da989e47a2647c4a6d7adcdb0aaf623",
       "IPY_MODEL_1779d1076cd04951a654bc75f05b01b7",
       "IPY_MODEL_145c436ac7704c8f9da6894c885040b1",
       "IPY_MODEL_d10b9e8be7e54cca80f69c9bf139655b",
       "IPY_MODEL_66d214f6752541dbbf15af76a203c3be",
       "IPY_MODEL_57891de4f4174afb9f001cd3aff94038"
      ],
      "layout": "IPY_MODEL_8ef7a941c395482387ffd277a6096b8c"
     }
    },
    "35228bd17a4f4bf5a9739cd66dc58394": {
     "model_module": "@jupyter-widgets/controls",
     "model_module_version": "1.5.0",
     "model_name": "HBoxModel",
     "state": {
      "_dom_classes": [],
      "_model_module": "@jupyter-widgets/controls",
      "_model_module_version": "1.5.0",
      "_model_name": "HBoxModel",
      "_view_count": null,
      "_view_module": "@jupyter-widgets/controls",
      "_view_module_version": "1.5.0",
      "_view_name": "HBoxView",
      "box_style": "",
      "children": [
       "IPY_MODEL_e6ab6265bd404558b2d3797f4e7bb372",
       "IPY_MODEL_4135d4e24ad64306978e6d413d54b325"
      ],
      "layout": "IPY_MODEL_eba8ca8a0f2e47ed993c8de114856c92"
     }
    },
    "3533034af4824034ae5b495c07149958": {
     "model_module": "@jupyter-widgets/controls",
     "model_module_version": "1.5.0",
     "model_name": "DescriptionStyleModel",
     "state": {
      "_model_module": "@jupyter-widgets/controls",
      "_model_module_version": "1.5.0",
      "_model_name": "DescriptionStyleModel",
      "_view_count": null,
      "_view_module": "@jupyter-widgets/base",
      "_view_module_version": "1.2.0",
      "_view_name": "StyleView",
      "description_width": ""
     }
    },
    "3a8c4099f3df4253830115140e5e276b": {
     "model_module": "@jupyter-widgets/base",
     "model_module_version": "1.2.0",
     "model_name": "LayoutModel",
     "state": {
      "_model_module": "@jupyter-widgets/base",
      "_model_module_version": "1.2.0",
      "_model_name": "LayoutModel",
      "_view_count": null,
      "_view_module": "@jupyter-widgets/base",
      "_view_module_version": "1.2.0",
      "_view_name": "LayoutView",
      "align_content": null,
      "align_items": null,
      "align_self": null,
      "border": null,
      "bottom": null,
      "display": null,
      "flex": null,
      "flex_flow": null,
      "grid_area": null,
      "grid_auto_columns": null,
      "grid_auto_flow": null,
      "grid_auto_rows": null,
      "grid_column": null,
      "grid_gap": null,
      "grid_row": null,
      "grid_template_areas": null,
      "grid_template_columns": null,
      "grid_template_rows": null,
      "height": "auto",
      "justify_content": null,
      "justify_items": null,
      "left": null,
      "margin": null,
      "max_height": null,
      "max_width": null,
      "min_height": null,
      "min_width": null,
      "object_fit": null,
      "object_position": null,
      "order": null,
      "overflow": null,
      "overflow_x": null,
      "overflow_y": null,
      "padding": "0px 0px 0px 4px",
      "right": null,
      "top": null,
      "visibility": null,
      "width": "auto"
     }
    },
    "3ce51b4e0cd744edae8be6967397875b": {
     "model_module": "@jupyter-widgets/base",
     "model_module_version": "1.2.0",
     "model_name": "LayoutModel",
     "state": {
      "_model_module": "@jupyter-widgets/base",
      "_model_module_version": "1.2.0",
      "_model_name": "LayoutModel",
      "_view_count": null,
      "_view_module": "@jupyter-widgets/base",
      "_view_module_version": "1.2.0",
      "_view_name": "LayoutView",
      "align_content": null,
      "align_items": null,
      "align_self": null,
      "border": null,
      "bottom": null,
      "display": null,
      "flex": null,
      "flex_flow": null,
      "grid_area": null,
      "grid_auto_columns": null,
      "grid_auto_flow": null,
      "grid_auto_rows": null,
      "grid_column": null,
      "grid_gap": null,
      "grid_row": null,
      "grid_template_areas": null,
      "grid_template_columns": null,
      "grid_template_rows": null,
      "height": "auto",
      "justify_content": null,
      "justify_items": null,
      "left": null,
      "margin": null,
      "max_height": null,
      "max_width": null,
      "min_height": null,
      "min_width": null,
      "object_fit": null,
      "object_position": null,
      "order": null,
      "overflow": null,
      "overflow_x": null,
      "overflow_y": null,
      "padding": "0px 0px 0px 4px",
      "right": null,
      "top": null,
      "visibility": null,
      "width": "auto"
     }
    },
    "3fdd4994ed9c451f9386abfbb878323e": {
     "model_module": "@jupyter-widgets/controls",
     "model_module_version": "1.5.0",
     "model_name": "HBoxModel",
     "state": {
      "_dom_classes": [],
      "_model_module": "@jupyter-widgets/controls",
      "_model_module_version": "1.5.0",
      "_model_name": "HBoxModel",
      "_view_count": null,
      "_view_module": "@jupyter-widgets/controls",
      "_view_module_version": "1.5.0",
      "_view_name": "HBoxView",
      "box_style": "",
      "children": [
       "IPY_MODEL_da1c2db221d245718d2b1818301fc1e1",
       "IPY_MODEL_7854dbd819c448a3bf89b8e74a2de6d4"
      ],
      "layout": "IPY_MODEL_d659502df8374574b65fe72c85175eb2"
     }
    },
    "4135d4e24ad64306978e6d413d54b325": {
     "model_module": "@jupyter-widgets/controls",
     "model_module_version": "1.5.0",
     "model_name": "VBoxModel",
     "state": {
      "_dom_classes": [],
      "_model_module": "@jupyter-widgets/controls",
      "_model_module_version": "1.5.0",
      "_model_name": "VBoxModel",
      "_view_count": null,
      "_view_module": "@jupyter-widgets/controls",
      "_view_module_version": "1.5.0",
      "_view_name": "VBoxView",
      "box_style": "",
      "children": [
       "IPY_MODEL_79c0b9612e1f41958c6efce775d82913",
       "IPY_MODEL_cce11b1c4ee74bb7862dd587f4984ceb",
       "IPY_MODEL_1c393a238655449692a2bcf3ebb7b9a2"
      ],
      "layout": "IPY_MODEL_bd6a7d0172974b3c9fcc31f84c2ede37"
     }
    },
    "4241608cc0e94009a229b1f1a40fa022": {
     "model_module": "@jupyter-widgets/base",
     "model_module_version": "1.2.0",
     "model_name": "LayoutModel",
     "state": {
      "_model_module": "@jupyter-widgets/base",
      "_model_module_version": "1.2.0",
      "_model_name": "LayoutModel",
      "_view_count": null,
      "_view_module": "@jupyter-widgets/base",
      "_view_module_version": "1.2.0",
      "_view_name": "LayoutView",
      "align_content": null,
      "align_items": null,
      "align_self": null,
      "border": null,
      "bottom": null,
      "display": null,
      "flex": null,
      "flex_flow": null,
      "grid_area": null,
      "grid_auto_columns": null,
      "grid_auto_flow": null,
      "grid_auto_rows": null,
      "grid_column": null,
      "grid_gap": null,
      "grid_row": null,
      "grid_template_areas": null,
      "grid_template_columns": null,
      "grid_template_rows": null,
      "height": null,
      "justify_content": null,
      "justify_items": null,
      "left": null,
      "margin": null,
      "max_height": null,
      "max_width": null,
      "min_height": null,
      "min_width": null,
      "object_fit": null,
      "object_position": null,
      "order": null,
      "overflow": null,
      "overflow_x": null,
      "overflow_y": null,
      "padding": null,
      "right": null,
      "top": null,
      "visibility": null,
      "width": "340px"
     }
    },
    "4576d9b03eb64220bb258bc4d3a300ab": {
     "model_module": "jupyter-leaflet",
     "model_module_version": "^0.14.0",
     "model_name": "LeafletMarkerModel",
     "state": {
      "_model_module": "jupyter-leaflet",
      "_model_module_version": "^0.14.0",
      "_model_name": "LeafletMarkerModel",
      "_view_count": null,
      "_view_module": "jupyter-leaflet",
      "_view_module_version": "^0.14.0",
      "_view_name": "LeafletMarkerView",
      "alt": "",
      "base": false,
      "bottom": false,
      "draggable": false,
      "icon": null,
      "keyboard": true,
      "location": [
       49.941009986186884,
       8.500970037887328
      ],
      "name": "Search location",
      "opacity": 1,
      "options": [
       "alt",
       "draggable",
       "keyboard",
       "rise_offset",
       "rise_on_hover",
       "rotation_angle",
       "rotation_origin",
       "title",
       "z_index_offset"
      ],
      "popup": null,
      "popup_max_height": null,
      "popup_max_width": 300,
      "popup_min_width": 50,
      "rise_offset": 250,
      "rise_on_hover": false,
      "rotation_angle": 0,
      "rotation_origin": "",
      "title": "",
      "visible": true,
      "z_index_offset": 0
     }
    },
    "4b3c59ab354a4bd5820401a0b19482a3": {
     "model_module": "@jupyter-widgets/controls",
     "model_module_version": "1.5.0",
     "model_name": "DescriptionStyleModel",
     "state": {
      "_model_module": "@jupyter-widgets/controls",
      "_model_module_version": "1.5.0",
      "_model_name": "DescriptionStyleModel",
      "_view_count": null,
      "_view_module": "@jupyter-widgets/base",
      "_view_module_version": "1.2.0",
      "_view_name": "StyleView",
      "description_width": ""
     }
    },
    "4c4844f28fd946afa2aefb19fca6c2c1": {
     "model_module": "@jupyter-widgets/base",
     "model_module_version": "1.2.0",
     "model_name": "LayoutModel",
     "state": {
      "_model_module": "@jupyter-widgets/base",
      "_model_module_version": "1.2.0",
      "_model_name": "LayoutModel",
      "_view_count": null,
      "_view_module": "@jupyter-widgets/base",
      "_view_module_version": "1.2.0",
      "_view_name": "LayoutView",
      "align_content": null,
      "align_items": null,
      "align_self": null,
      "border": null,
      "bottom": null,
      "display": null,
      "flex": null,
      "flex_flow": null,
      "grid_area": null,
      "grid_auto_columns": null,
      "grid_auto_flow": null,
      "grid_auto_rows": null,
      "grid_column": null,
      "grid_gap": null,
      "grid_row": null,
      "grid_template_areas": null,
      "grid_template_columns": null,
      "grid_template_rows": null,
      "height": "auto",
      "justify_content": null,
      "justify_items": null,
      "left": null,
      "margin": null,
      "max_height": null,
      "max_width": null,
      "min_height": null,
      "min_width": null,
      "object_fit": null,
      "object_position": null,
      "order": null,
      "overflow": null,
      "overflow_x": null,
      "overflow_y": null,
      "padding": "0px 0px 0px 4px",
      "right": null,
      "top": null,
      "visibility": null,
      "width": "auto"
     }
    },
    "50729b3aeaec4d1aa7eb0e801b977c76": {
     "model_module": "@jupyter-widgets/controls",
     "model_module_version": "1.5.0",
     "model_name": "DescriptionStyleModel",
     "state": {
      "_model_module": "@jupyter-widgets/controls",
      "_model_module_version": "1.5.0",
      "_model_name": "DescriptionStyleModel",
      "_view_count": null,
      "_view_module": "@jupyter-widgets/base",
      "_view_module_version": "1.2.0",
      "_view_name": "StyleView",
      "description_width": ""
     }
    },
    "50fd2970167747778f863ea33529587b": {
     "model_module": "@jupyter-widgets/base",
     "model_module_version": "1.2.0",
     "model_name": "LayoutModel",
     "state": {
      "_model_module": "@jupyter-widgets/base",
      "_model_module_version": "1.2.0",
      "_model_name": "LayoutModel",
      "_view_count": null,
      "_view_module": "@jupyter-widgets/base",
      "_view_module_version": "1.2.0",
      "_view_name": "LayoutView",
      "align_content": null,
      "align_items": null,
      "align_self": null,
      "border": null,
      "bottom": null,
      "display": null,
      "flex": null,
      "flex_flow": null,
      "grid_area": null,
      "grid_auto_columns": null,
      "grid_auto_flow": null,
      "grid_auto_rows": null,
      "grid_column": null,
      "grid_gap": null,
      "grid_row": null,
      "grid_template_areas": null,
      "grid_template_columns": null,
      "grid_template_rows": null,
      "height": null,
      "justify_content": null,
      "justify_items": null,
      "left": null,
      "margin": null,
      "max_height": null,
      "max_width": null,
      "min_height": null,
      "min_width": null,
      "object_fit": null,
      "object_position": null,
      "order": null,
      "overflow": null,
      "overflow_x": null,
      "overflow_y": null,
      "padding": null,
      "right": null,
      "top": null,
      "visibility": null,
      "width": null
     }
    },
    "51e0d0ff6c624810abf49c46c8a55e5d": {
     "model_module": "@jupyter-widgets/base",
     "model_module_version": "1.2.0",
     "model_name": "LayoutModel",
     "state": {
      "_model_module": "@jupyter-widgets/base",
      "_model_module_version": "1.2.0",
      "_model_name": "LayoutModel",
      "_view_count": null,
      "_view_module": "@jupyter-widgets/base",
      "_view_module_version": "1.2.0",
      "_view_name": "LayoutView",
      "align_content": null,
      "align_items": null,
      "align_self": null,
      "border": null,
      "bottom": null,
      "display": null,
      "flex": null,
      "flex_flow": null,
      "grid_area": null,
      "grid_auto_columns": null,
      "grid_auto_flow": null,
      "grid_auto_rows": null,
      "grid_column": null,
      "grid_gap": null,
      "grid_row": null,
      "grid_template_areas": null,
      "grid_template_columns": null,
      "grid_template_rows": null,
      "height": "600px",
      "justify_content": null,
      "justify_items": null,
      "left": null,
      "margin": null,
      "max_height": null,
      "max_width": null,
      "min_height": null,
      "min_width": null,
      "object_fit": null,
      "object_position": null,
      "order": null,
      "overflow": null,
      "overflow_x": null,
      "overflow_y": null,
      "padding": null,
      "right": null,
      "top": null,
      "visibility": null,
      "width": null
     }
    },
    "533abf145b3e45568f50e12858fded25": {
     "model_module": "@jupyter-widgets/controls",
     "model_module_version": "1.5.0",
     "model_name": "DescriptionStyleModel",
     "state": {
      "_model_module": "@jupyter-widgets/controls",
      "_model_module_version": "1.5.0",
      "_model_name": "DescriptionStyleModel",
      "_view_count": null,
      "_view_module": "@jupyter-widgets/base",
      "_view_module_version": "1.2.0",
      "_view_name": "StyleView",
      "description_width": ""
     }
    },
    "54688208085640669c9b36c95be1b26e": {
     "model_module": "jupyter-leaflet",
     "model_module_version": "^0.14.0",
     "model_name": "LeafletMeasureControlModel",
     "state": {
      "_custom_units": {},
      "_model_module": "jupyter-leaflet",
      "_model_module_version": "^0.14.0",
      "_model_name": "LeafletMeasureControlModel",
      "_view_count": null,
      "_view_module": "jupyter-leaflet",
      "_view_module_version": "^0.14.0",
      "_view_name": "LeafletMeasureControlView",
      "active_color": "orange",
      "capture_z_index": 10000,
      "completed_color": "#C8F2BE",
      "options": [
       "active_color",
       "capture_z_index",
       "completed_color",
       "popup_options",
       "position",
       "primary_area_unit",
       "primary_length_unit",
       "secondary_area_unit",
       "secondary_length_unit"
      ],
      "popup_options": {
       "autoPanPadding": [
        10,
        10
       ],
       "className": "leaflet-measure-resultpopup"
      },
      "position": "bottomleft",
      "primary_area_unit": "acres",
      "primary_length_unit": "kilometers",
      "secondary_area_unit": null,
      "secondary_length_unit": null
     }
    },
    "55c91a69afa64896b8918379c1079e0e": {
     "model_module": "@jupyter-widgets/base",
     "model_module_version": "1.2.0",
     "model_name": "LayoutModel",
     "state": {
      "_model_module": "@jupyter-widgets/base",
      "_model_module_version": "1.2.0",
      "_model_name": "LayoutModel",
      "_view_count": null,
      "_view_module": "@jupyter-widgets/base",
      "_view_module_version": "1.2.0",
      "_view_name": "LayoutView",
      "align_content": null,
      "align_items": null,
      "align_self": null,
      "border": null,
      "bottom": null,
      "display": null,
      "flex": null,
      "flex_flow": null,
      "grid_area": null,
      "grid_auto_columns": null,
      "grid_auto_flow": null,
      "grid_auto_rows": null,
      "grid_column": null,
      "grid_gap": null,
      "grid_row": null,
      "grid_template_areas": null,
      "grid_template_columns": null,
      "grid_template_rows": null,
      "height": "28px",
      "justify_content": null,
      "justify_items": null,
      "left": null,
      "margin": null,
      "max_height": null,
      "max_width": null,
      "min_height": null,
      "min_width": null,
      "object_fit": null,
      "object_position": null,
      "order": null,
      "overflow": null,
      "overflow_x": null,
      "overflow_y": null,
      "padding": "0px 0px 0px 4px",
      "right": null,
      "top": null,
      "visibility": null,
      "width": "28px"
     }
    },
    "562695feba9a400d88eb546cc9fda6f1": {
     "model_module": "@jupyter-widgets/controls",
     "model_module_version": "1.5.0",
     "model_name": "ToggleButtonModel",
     "state": {
      "_dom_classes": [],
      "_model_module": "@jupyter-widgets/controls",
      "_model_module_version": "1.5.0",
      "_model_name": "ToggleButtonModel",
      "_view_count": null,
      "_view_module": "@jupyter-widgets/controls",
      "_view_module_version": "1.5.0",
      "_view_name": "ToggleButtonView",
      "button_style": "primary",
      "description": "",
      "description_tooltip": null,
      "disabled": false,
      "icon": "bar-chart",
      "layout": "IPY_MODEL_034c8c2610b7449bb7cb2770f9678e19",
      "style": "IPY_MODEL_8e3f0c3d8cfc4ac397d97eeb60779ce2",
      "tooltip": "Plotting",
      "value": false
     }
    },
    "56fc18d24ada4dfca06861e02ef65588": {
     "model_module": "@jupyter-widgets/controls",
     "model_module_version": "1.5.0",
     "model_name": "DescriptionStyleModel",
     "state": {
      "_model_module": "@jupyter-widgets/controls",
      "_model_module_version": "1.5.0",
      "_model_name": "DescriptionStyleModel",
      "_view_count": null,
      "_view_module": "@jupyter-widgets/base",
      "_view_module_version": "1.2.0",
      "_view_name": "StyleView",
      "description_width": ""
     }
    },
    "57891de4f4174afb9f001cd3aff94038": {
     "model_module": "@jupyter-widgets/controls",
     "model_module_version": "1.5.0",
     "model_name": "ToggleButtonModel",
     "state": {
      "_dom_classes": [],
      "_model_module": "@jupyter-widgets/controls",
      "_model_module_version": "1.5.0",
      "_model_name": "ToggleButtonModel",
      "_view_count": null,
      "_view_module": "@jupyter-widgets/controls",
      "_view_module_version": "1.5.0",
      "_view_name": "ToggleButtonView",
      "button_style": "primary",
      "description": "",
      "description_tooltip": null,
      "disabled": false,
      "icon": "question",
      "layout": "IPY_MODEL_289d08d70aae4fd7b4c82163a67c87d2",
      "style": "IPY_MODEL_d802184e925b445d8ae7533a270f042b",
      "tooltip": "Get help",
      "value": false
     }
    },
    "58dde3dcb9c448f894dd651e2ae41a84": {
     "model_module": "@jupyter-widgets/controls",
     "model_module_version": "1.5.0",
     "model_name": "ToggleButtonModel",
     "state": {
      "_dom_classes": [],
      "_model_module": "@jupyter-widgets/controls",
      "_model_module_version": "1.5.0",
      "_model_name": "ToggleButtonModel",
      "_view_count": null,
      "_view_module": "@jupyter-widgets/controls",
      "_view_module_version": "1.5.0",
      "_view_name": "ToggleButtonView",
      "button_style": "primary",
      "description": "",
      "description_tooltip": null,
      "disabled": false,
      "icon": "hand-o-up",
      "layout": "IPY_MODEL_b7ed3e68103a42b7af74fb8cf28b0bed",
      "style": "IPY_MODEL_9f1ac8e840a24e239405dc31f7588e94",
      "tooltip": "Collect training samples",
      "value": false
     }
    },
    "5db9422646714e918c503bffba29cce3": {
     "model_module": "jupyter-leaflet",
     "model_module_version": "^0.14.0",
     "model_name": "LeafletTileLayerModel",
     "state": {
      "_model_module": "jupyter-leaflet",
      "_model_module_version": "^0.14.0",
      "_model_name": "LeafletTileLayerModel",
      "_view_count": null,
      "_view_module": "jupyter-leaflet",
      "_view_module_version": "^0.14.0",
      "_view_name": "LeafletTileLayerView",
      "attribution": "Map data (c) <a href=\"https://openstreetmap.org\">OpenStreetMap</a> contributors",
      "base": true,
      "bottom": true,
      "detect_retina": false,
      "loading": false,
      "max_native_zoom": 18,
      "max_zoom": 19,
      "min_native_zoom": 0,
      "min_zoom": 1,
      "name": "",
      "no_wrap": false,
      "opacity": 1,
      "options": [
       "attribution",
       "detect_retina",
       "max_native_zoom",
       "max_zoom",
       "min_native_zoom",
       "min_zoom",
       "no_wrap",
       "tile_size",
       "tms"
      ],
      "popup": null,
      "popup_max_height": null,
      "popup_max_width": 300,
      "popup_min_width": 50,
      "show_loading": false,
      "tile_size": 256,
      "tms": false,
      "url": "https://{s}.tile.openstreetmap.org/{z}/{x}/{y}.png",
      "visible": true
     }
    },
    "60d95584a69945f4b1d7fa6dbd97f016": {
     "model_module": "@jupyter-widgets/controls",
     "model_module_version": "1.5.0",
     "model_name": "ToggleButtonModel",
     "state": {
      "_dom_classes": [],
      "_model_module": "@jupyter-widgets/controls",
      "_model_module_version": "1.5.0",
      "_model_name": "ToggleButtonModel",
      "_view_count": null,
      "_view_module": "@jupyter-widgets/controls",
      "_view_module_version": "1.5.0",
      "_view_name": "ToggleButtonView",
      "button_style": "primary",
      "description": "",
      "description_tooltip": null,
      "disabled": false,
      "icon": "gears",
      "layout": "IPY_MODEL_9ed20936b97a4800830e0302231c1d58",
      "style": "IPY_MODEL_14a0de89775e407ab71219bf3e00602c",
      "tooltip": "WhiteboxTools for local geoprocessing",
      "value": false
     }
    },
    "6585aa9d43c241a7847d3855e2fb3fbf": {
     "model_module": "@jupyter-widgets/controls",
     "model_module_version": "1.5.0",
     "model_name": "DescriptionStyleModel",
     "state": {
      "_model_module": "@jupyter-widgets/controls",
      "_model_module_version": "1.5.0",
      "_model_name": "DescriptionStyleModel",
      "_view_count": null,
      "_view_module": "@jupyter-widgets/base",
      "_view_module_version": "1.2.0",
      "_view_name": "StyleView",
      "description_width": ""
     }
    },
    "66d214f6752541dbbf15af76a203c3be": {
     "model_module": "@jupyter-widgets/controls",
     "model_module_version": "1.5.0",
     "model_name": "ToggleButtonModel",
     "state": {
      "_dom_classes": [],
      "_model_module": "@jupyter-widgets/controls",
      "_model_module_version": "1.5.0",
      "_model_name": "ToggleButtonModel",
      "_view_count": null,
      "_view_module": "@jupyter-widgets/controls",
      "_view_module_version": "1.5.0",
      "_view_name": "ToggleButtonView",
      "button_style": "primary",
      "description": "",
      "description_tooltip": null,
      "disabled": false,
      "icon": "spinner",
      "layout": "IPY_MODEL_dc1f73f7931240b2b76c23536d743b44",
      "style": "IPY_MODEL_320ee60e946344b1ac79cb2c22805294",
      "tooltip": "This is a placehold",
      "value": false
     }
    },
    "6769a4d30f5049b8a8786cb3b625db79": {
     "model_module": "@jupyter-widgets/base",
     "model_module_version": "1.2.0",
     "model_name": "LayoutModel",
     "state": {
      "_model_module": "@jupyter-widgets/base",
      "_model_module_version": "1.2.0",
      "_model_name": "LayoutModel",
      "_view_count": null,
      "_view_module": "@jupyter-widgets/base",
      "_view_module_version": "1.2.0",
      "_view_name": "LayoutView",
      "align_content": null,
      "align_items": null,
      "align_self": null,
      "border": null,
      "bottom": null,
      "display": null,
      "flex": null,
      "flex_flow": null,
      "grid_area": null,
      "grid_auto_columns": null,
      "grid_auto_flow": null,
      "grid_auto_rows": null,
      "grid_column": null,
      "grid_gap": null,
      "grid_row": null,
      "grid_template_areas": null,
      "grid_template_columns": null,
      "grid_template_rows": null,
      "height": "auto",
      "justify_content": null,
      "justify_items": null,
      "left": null,
      "margin": null,
      "max_height": null,
      "max_width": null,
      "min_height": null,
      "min_width": null,
      "object_fit": null,
      "object_position": null,
      "order": null,
      "overflow": null,
      "overflow_x": null,
      "overflow_y": null,
      "padding": "0px 0px 0px 4px",
      "right": null,
      "top": null,
      "visibility": null,
      "width": "auto"
     }
    },
    "68e071a6882c4fe9a1291f4206d40268": {
     "model_module": "jupyter-leaflet",
     "model_module_version": "^0.14.0",
     "model_name": "LeafletTileLayerModel",
     "state": {
      "_model_module": "jupyter-leaflet",
      "_model_module_version": "^0.14.0",
      "_model_name": "LeafletTileLayerModel",
      "_view_count": null,
      "_view_module": "jupyter-leaflet",
      "_view_module_version": "^0.14.0",
      "_view_name": "LeafletTileLayerView",
      "attribution": "Google Earth Engine",
      "base": false,
      "bottom": true,
      "detect_retina": false,
      "loading": false,
      "max_native_zoom": 18,
      "max_zoom": 18,
      "min_native_zoom": 0,
      "min_zoom": 0,
      "name": "Drawn Features",
      "no_wrap": false,
      "opacity": 0.5,
      "options": [
       "attribution",
       "detect_retina",
       "max_native_zoom",
       "max_zoom",
       "min_native_zoom",
       "min_zoom",
       "no_wrap",
       "tile_size",
       "tms"
      ],
      "popup": null,
      "popup_max_height": null,
      "popup_max_width": 300,
      "popup_min_width": 50,
      "show_loading": false,
      "tile_size": 256,
      "tms": false,
      "url": "https://earthengine.googleapis.com/v1alpha/projects/earthengine-legacy/maps/2ec72943c723fb7fbb24ce0f42c87eff-b12b54d99a39353f9cfd268cb0b71c67/tiles/{z}/{x}/{y}",
      "visible": false
     }
    },
    "697e9571d4b646adb10ecbb24429a843": {
     "model_module": "jupyter-leaflet",
     "model_module_version": "^0.14.0",
     "model_name": "LeafletTileLayerModel",
     "state": {
      "_model_module": "jupyter-leaflet",
      "_model_module_version": "^0.14.0",
      "_model_name": "LeafletTileLayerModel",
      "_view_count": null,
      "_view_module": "jupyter-leaflet",
      "_view_module_version": "^0.14.0",
      "_view_name": "LeafletTileLayerView",
      "attribution": "Google Earth Engine",
      "base": false,
      "bottom": true,
      "detect_retina": false,
      "loading": false,
      "max_native_zoom": 18,
      "max_zoom": 18,
      "min_native_zoom": 0,
      "min_zoom": 0,
      "name": "Drawn Features",
      "no_wrap": false,
      "opacity": 0.5,
      "options": [
       "attribution",
       "detect_retina",
       "max_native_zoom",
       "max_zoom",
       "min_native_zoom",
       "min_zoom",
       "no_wrap",
       "tile_size",
       "tms"
      ],
      "popup": null,
      "popup_max_height": null,
      "popup_max_width": 300,
      "popup_min_width": 50,
      "show_loading": false,
      "tile_size": 256,
      "tms": false,
      "url": "https://earthengine.googleapis.com/v1alpha/projects/earthengine-legacy/maps/ea5873a76d332299631842891e80ea42-9f716d61b6bf1ed25a9a86672ad6a2dc/tiles/{z}/{x}/{y}",
      "visible": false
     }
    },
    "73daf9b8287343c6bef46a0f5dcebd56": {
     "model_module": "@jupyter-widgets/base",
     "model_module_version": "1.2.0",
     "model_name": "LayoutModel",
     "state": {
      "_model_module": "@jupyter-widgets/base",
      "_model_module_version": "1.2.0",
      "_model_name": "LayoutModel",
      "_view_count": null,
      "_view_module": "@jupyter-widgets/base",
      "_view_module_version": "1.2.0",
      "_view_name": "LayoutView",
      "align_content": null,
      "align_items": null,
      "align_self": null,
      "border": null,
      "bottom": null,
      "display": null,
      "flex": null,
      "flex_flow": null,
      "grid_area": null,
      "grid_auto_columns": null,
      "grid_auto_flow": null,
      "grid_auto_rows": null,
      "grid_column": null,
      "grid_gap": null,
      "grid_row": null,
      "grid_template_areas": null,
      "grid_template_columns": null,
      "grid_template_rows": null,
      "height": "auto",
      "justify_content": null,
      "justify_items": null,
      "left": null,
      "margin": null,
      "max_height": null,
      "max_width": null,
      "min_height": null,
      "min_width": null,
      "object_fit": null,
      "object_position": null,
      "order": null,
      "overflow": null,
      "overflow_x": null,
      "overflow_y": null,
      "padding": "0px 0px 0px 4px",
      "right": null,
      "top": null,
      "visibility": null,
      "width": "auto"
     }
    },
    "73df3bf4de444ae19eafee5faebfe60e": {
     "model_module": "jupyter-leaflet",
     "model_module_version": "^0.14.0",
     "model_name": "LeafletTileLayerModel",
     "state": {
      "_model_module": "jupyter-leaflet",
      "_model_module_version": "^0.14.0",
      "_model_name": "LeafletTileLayerModel",
      "_view_count": null,
      "_view_module": "jupyter-leaflet",
      "_view_module_version": "^0.14.0",
      "_view_name": "LeafletTileLayerView",
      "attribution": "Google Earth Engine",
      "base": false,
      "bottom": true,
      "detect_retina": false,
      "loading": false,
      "max_native_zoom": 18,
      "max_zoom": 18,
      "min_native_zoom": 0,
      "min_zoom": 0,
      "name": "Drawn Features",
      "no_wrap": false,
      "opacity": 0.5,
      "options": [
       "attribution",
       "detect_retina",
       "max_native_zoom",
       "max_zoom",
       "min_native_zoom",
       "min_zoom",
       "no_wrap",
       "tile_size",
       "tms"
      ],
      "popup": null,
      "popup_max_height": null,
      "popup_max_width": 300,
      "popup_min_width": 50,
      "show_loading": false,
      "tile_size": 256,
      "tms": false,
      "url": "https://earthengine.googleapis.com/v1alpha/projects/earthengine-legacy/maps/987b3baceb3c1e2d7959eaff141c5a9f-2c6b76ad8083ebbcd87e12bd692dd8c1/tiles/{z}/{x}/{y}",
      "visible": false
     }
    },
    "7446c5527f194ca58fb9cc46e5e7c0be": {
     "model_module": "@jupyter-widgets/controls",
     "model_module_version": "1.5.0",
     "model_name": "ToggleButtonModel",
     "state": {
      "_dom_classes": [],
      "_model_module": "@jupyter-widgets/controls",
      "_model_module_version": "1.5.0",
      "_model_name": "ToggleButtonModel",
      "_view_count": null,
      "_view_module": "@jupyter-widgets/controls",
      "_view_module_version": "1.5.0",
      "_view_name": "ToggleButtonView",
      "button_style": "primary",
      "description": "",
      "description_tooltip": null,
      "disabled": false,
      "icon": "info",
      "layout": "IPY_MODEL_01e2af5df4174a8c8f1f2ab176d7a583",
      "style": "IPY_MODEL_871d7b9ec1cf4ea3af84a2ca50b958ee",
      "tooltip": "Inspector",
      "value": false
     }
    },
    "7854dbd819c448a3bf89b8e74a2de6d4": {
     "model_module": "@jupyter-widgets/controls",
     "model_module_version": "1.5.0",
     "model_name": "ToggleButtonModel",
     "state": {
      "_dom_classes": [],
      "_model_module": "@jupyter-widgets/controls",
      "_model_module_version": "1.5.0",
      "_model_name": "ToggleButtonModel",
      "_view_count": null,
      "_view_module": "@jupyter-widgets/controls",
      "_view_module_version": "1.5.0",
      "_view_name": "ToggleButtonView",
      "button_style": "",
      "description": "",
      "description_tooltip": null,
      "disabled": false,
      "icon": "wrench",
      "layout": "IPY_MODEL_27aebaa62a4141bea8a5f373314fd33a",
      "style": "IPY_MODEL_533abf145b3e45568f50e12858fded25",
      "tooltip": "Toolbar",
      "value": false
     }
    },
    "79c0b9612e1f41958c6efce775d82913": {
     "model_module": "@jupyter-widgets/controls",
     "model_module_version": "1.5.0",
     "model_name": "ToggleButtonsModel",
     "state": {
      "_dom_classes": [],
      "_model_module": "@jupyter-widgets/controls",
      "_model_module_version": "1.5.0",
      "_model_name": "ToggleButtonsModel",
      "_options_labels": [
       "name/address",
       "lat-lon",
       "data"
      ],
      "_view_count": null,
      "_view_module": "@jupyter-widgets/controls",
      "_view_module_version": "1.5.0",
      "_view_name": "ToggleButtonsView",
      "button_style": "",
      "description": "",
      "description_tooltip": null,
      "disabled": false,
      "icons": [],
      "index": 0,
      "layout": "IPY_MODEL_50fd2970167747778f863ea33529587b",
      "style": "IPY_MODEL_ab0da2a930d34e15a78a2420d1e11e14",
      "tooltips": [
       "Search by place name or address",
       "Search by lat-lon coordinates",
       "Search Earth Engine data catalog"
      ]
     }
    },
    "7ca54cad3a584bec89a2896ef2184121": {
     "model_module": "@jupyter-widgets/controls",
     "model_module_version": "1.5.0",
     "model_name": "ToggleButtonModel",
     "state": {
      "_dom_classes": [],
      "_model_module": "@jupyter-widgets/controls",
      "_model_module_version": "1.5.0",
      "_model_name": "ToggleButtonModel",
      "_view_count": null,
      "_view_module": "@jupyter-widgets/controls",
      "_view_module_version": "1.5.0",
      "_view_name": "ToggleButtonView",
      "button_style": "primary",
      "description": "",
      "description_tooltip": null,
      "disabled": false,
      "icon": "camera",
      "layout": "IPY_MODEL_086ce82fddd44778a74e70b9926ccaff",
      "style": "IPY_MODEL_fcb338d19813435e93925150d9a3c331",
      "tooltip": "Save map as HTML or image",
      "value": false
     }
    },
    "7e781be9a8f74b5f8641baf3ea642814": {
     "model_module": "@jupyter-widgets/controls",
     "model_module_version": "1.5.0",
     "model_name": "ToggleButtonModel",
     "state": {
      "_dom_classes": [],
      "_model_module": "@jupyter-widgets/controls",
      "_model_module_version": "1.5.0",
      "_model_name": "ToggleButtonModel",
      "_view_count": null,
      "_view_module": "@jupyter-widgets/controls",
      "_view_module_version": "1.5.0",
      "_view_name": "ToggleButtonView",
      "button_style": "primary",
      "description": "",
      "description_tooltip": null,
      "disabled": false,
      "icon": "globe",
      "layout": "IPY_MODEL_4c4844f28fd946afa2aefb19fca6c2c1",
      "style": "IPY_MODEL_17bcca91341745ceb877d3f4ba5b0c0d",
      "tooltip": "Create timelapse",
      "value": false
     }
    },
    "80cb4e032e4e4353826825f9fe30296e": {
     "model_module": "@jupyter-widgets/controls",
     "model_module_version": "1.5.0",
     "model_name": "DescriptionStyleModel",
     "state": {
      "_model_module": "@jupyter-widgets/controls",
      "_model_module_version": "1.5.0",
      "_model_name": "DescriptionStyleModel",
      "_view_count": null,
      "_view_module": "@jupyter-widgets/base",
      "_view_module_version": "1.2.0",
      "_view_name": "StyleView",
      "description_width": ""
     }
    },
    "871d7b9ec1cf4ea3af84a2ca50b958ee": {
     "model_module": "@jupyter-widgets/controls",
     "model_module_version": "1.5.0",
     "model_name": "DescriptionStyleModel",
     "state": {
      "_model_module": "@jupyter-widgets/controls",
      "_model_module_version": "1.5.0",
      "_model_name": "DescriptionStyleModel",
      "_view_count": null,
      "_view_module": "@jupyter-widgets/base",
      "_view_module_version": "1.2.0",
      "_view_name": "StyleView",
      "description_width": ""
     }
    },
    "88e4dcd577054f39aa52a69995737288": {
     "model_module": "@jupyter-widgets/base",
     "model_module_version": "1.2.0",
     "model_name": "LayoutModel",
     "state": {
      "_model_module": "@jupyter-widgets/base",
      "_model_module_version": "1.2.0",
      "_model_name": "LayoutModel",
      "_view_count": null,
      "_view_module": "@jupyter-widgets/base",
      "_view_module_version": "1.2.0",
      "_view_name": "LayoutView",
      "align_content": null,
      "align_items": null,
      "align_self": null,
      "border": null,
      "bottom": null,
      "display": null,
      "flex": null,
      "flex_flow": null,
      "grid_area": null,
      "grid_auto_columns": null,
      "grid_auto_flow": null,
      "grid_auto_rows": null,
      "grid_column": null,
      "grid_gap": null,
      "grid_row": null,
      "grid_template_areas": null,
      "grid_template_columns": null,
      "grid_template_rows": null,
      "height": "28px",
      "justify_content": null,
      "justify_items": null,
      "left": null,
      "margin": null,
      "max_height": null,
      "max_width": null,
      "min_height": null,
      "min_width": null,
      "object_fit": null,
      "object_position": null,
      "order": null,
      "overflow": null,
      "overflow_x": null,
      "overflow_y": null,
      "padding": null,
      "right": null,
      "top": null,
      "visibility": null,
      "width": "72px"
     }
    },
    "8e3f0c3d8cfc4ac397d97eeb60779ce2": {
     "model_module": "@jupyter-widgets/controls",
     "model_module_version": "1.5.0",
     "model_name": "DescriptionStyleModel",
     "state": {
      "_model_module": "@jupyter-widgets/controls",
      "_model_module_version": "1.5.0",
      "_model_name": "DescriptionStyleModel",
      "_view_count": null,
      "_view_module": "@jupyter-widgets/base",
      "_view_module_version": "1.2.0",
      "_view_name": "StyleView",
      "description_width": ""
     }
    },
    "8ef7a941c395482387ffd277a6096b8c": {
     "model_module": "@jupyter-widgets/base",
     "model_module_version": "1.2.0",
     "model_name": "LayoutModel",
     "state": {
      "_model_module": "@jupyter-widgets/base",
      "_model_module_version": "1.2.0",
      "_model_name": "LayoutModel",
      "_view_count": null,
      "_view_module": "@jupyter-widgets/base",
      "_view_module_version": "1.2.0",
      "_view_name": "LayoutView",
      "align_content": null,
      "align_items": null,
      "align_self": null,
      "border": null,
      "bottom": null,
      "display": null,
      "flex": null,
      "flex_flow": null,
      "grid_area": null,
      "grid_auto_columns": null,
      "grid_auto_flow": null,
      "grid_auto_rows": null,
      "grid_column": null,
      "grid_gap": "1px 1px",
      "grid_row": null,
      "grid_template_areas": null,
      "grid_template_columns": "32px 32px 32px ",
      "grid_template_rows": "32px 32px 32px 32px 32px 32px ",
      "height": null,
      "justify_content": null,
      "justify_items": null,
      "left": null,
      "margin": null,
      "max_height": null,
      "max_width": null,
      "min_height": null,
      "min_width": null,
      "object_fit": null,
      "object_position": null,
      "order": null,
      "overflow": null,
      "overflow_x": null,
      "overflow_y": null,
      "padding": "5px",
      "right": null,
      "top": null,
      "visibility": null,
      "width": "109px"
     }
    },
    "93f913f203bd4a8294a3ce54d93f5b4b": {
     "model_module": "@jupyter-widgets/base",
     "model_module_version": "1.2.0",
     "model_name": "LayoutModel",
     "state": {
      "_model_module": "@jupyter-widgets/base",
      "_model_module_version": "1.2.0",
      "_model_name": "LayoutModel",
      "_view_count": null,
      "_view_module": "@jupyter-widgets/base",
      "_view_module_version": "1.2.0",
      "_view_name": "LayoutView",
      "align_content": null,
      "align_items": null,
      "align_self": null,
      "border": null,
      "bottom": null,
      "display": null,
      "flex": null,
      "flex_flow": null,
      "grid_area": null,
      "grid_auto_columns": null,
      "grid_auto_flow": null,
      "grid_auto_rows": null,
      "grid_column": null,
      "grid_gap": null,
      "grid_row": null,
      "grid_template_areas": null,
      "grid_template_columns": null,
      "grid_template_rows": null,
      "height": null,
      "justify_content": null,
      "justify_items": null,
      "left": null,
      "margin": null,
      "max_height": null,
      "max_width": null,
      "min_height": null,
      "min_width": null,
      "object_fit": null,
      "object_position": null,
      "order": null,
      "overflow": null,
      "overflow_x": null,
      "overflow_y": null,
      "padding": null,
      "right": null,
      "top": null,
      "visibility": null,
      "width": null
     }
    },
    "9508e31406094e50a6a5f96b01fe811a": {
     "model_module": "@jupyter-widgets/base",
     "model_module_version": "1.2.0",
     "model_name": "LayoutModel",
     "state": {
      "_model_module": "@jupyter-widgets/base",
      "_model_module_version": "1.2.0",
      "_model_name": "LayoutModel",
      "_view_count": null,
      "_view_module": "@jupyter-widgets/base",
      "_view_module_version": "1.2.0",
      "_view_name": "LayoutView",
      "align_content": null,
      "align_items": null,
      "align_self": null,
      "border": null,
      "bottom": null,
      "display": null,
      "flex": null,
      "flex_flow": null,
      "grid_area": null,
      "grid_auto_columns": null,
      "grid_auto_flow": null,
      "grid_auto_rows": null,
      "grid_column": null,
      "grid_gap": null,
      "grid_row": null,
      "grid_template_areas": null,
      "grid_template_columns": null,
      "grid_template_rows": null,
      "height": "auto",
      "justify_content": null,
      "justify_items": null,
      "left": null,
      "margin": null,
      "max_height": null,
      "max_width": null,
      "min_height": null,
      "min_width": null,
      "object_fit": null,
      "object_position": null,
      "order": null,
      "overflow": null,
      "overflow_x": null,
      "overflow_y": null,
      "padding": "0px 0px 0px 4px",
      "right": null,
      "top": null,
      "visibility": null,
      "width": "auto"
     }
    },
    "9af9fd3c6bfb465d8dba7ce1115eb85e": {
     "model_module": "@jupyter-widgets/controls",
     "model_module_version": "1.5.0",
     "model_name": "DescriptionStyleModel",
     "state": {
      "_model_module": "@jupyter-widgets/controls",
      "_model_module_version": "1.5.0",
      "_model_name": "DescriptionStyleModel",
      "_view_count": null,
      "_view_module": "@jupyter-widgets/base",
      "_view_module_version": "1.2.0",
      "_view_name": "StyleView",
      "description_width": ""
     }
    },
    "9ed20936b97a4800830e0302231c1d58": {
     "model_module": "@jupyter-widgets/base",
     "model_module_version": "1.2.0",
     "model_name": "LayoutModel",
     "state": {
      "_model_module": "@jupyter-widgets/base",
      "_model_module_version": "1.2.0",
      "_model_name": "LayoutModel",
      "_view_count": null,
      "_view_module": "@jupyter-widgets/base",
      "_view_module_version": "1.2.0",
      "_view_name": "LayoutView",
      "align_content": null,
      "align_items": null,
      "align_self": null,
      "border": null,
      "bottom": null,
      "display": null,
      "flex": null,
      "flex_flow": null,
      "grid_area": null,
      "grid_auto_columns": null,
      "grid_auto_flow": null,
      "grid_auto_rows": null,
      "grid_column": null,
      "grid_gap": null,
      "grid_row": null,
      "grid_template_areas": null,
      "grid_template_columns": null,
      "grid_template_rows": null,
      "height": "auto",
      "justify_content": null,
      "justify_items": null,
      "left": null,
      "margin": null,
      "max_height": null,
      "max_width": null,
      "min_height": null,
      "min_width": null,
      "object_fit": null,
      "object_position": null,
      "order": null,
      "overflow": null,
      "overflow_x": null,
      "overflow_y": null,
      "padding": "0px 0px 0px 4px",
      "right": null,
      "top": null,
      "visibility": null,
      "width": "auto"
     }
    },
    "9f1ac8e840a24e239405dc31f7588e94": {
     "model_module": "@jupyter-widgets/controls",
     "model_module_version": "1.5.0",
     "model_name": "DescriptionStyleModel",
     "state": {
      "_model_module": "@jupyter-widgets/controls",
      "_model_module_version": "1.5.0",
      "_model_name": "DescriptionStyleModel",
      "_view_count": null,
      "_view_module": "@jupyter-widgets/base",
      "_view_module_version": "1.2.0",
      "_view_name": "StyleView",
      "description_width": ""
     }
    },
    "a3823cd4366442198ebc5c01f53fa932": {
     "model_module": "@jupyter-widgets/base",
     "model_module_version": "1.2.0",
     "model_name": "LayoutModel",
     "state": {
      "_model_module": "@jupyter-widgets/base",
      "_model_module_version": "1.2.0",
      "_model_name": "LayoutModel",
      "_view_count": null,
      "_view_module": "@jupyter-widgets/base",
      "_view_module_version": "1.2.0",
      "_view_name": "LayoutView",
      "align_content": null,
      "align_items": null,
      "align_self": null,
      "border": null,
      "bottom": null,
      "display": null,
      "flex": null,
      "flex_flow": null,
      "grid_area": null,
      "grid_auto_columns": null,
      "grid_auto_flow": null,
      "grid_auto_rows": null,
      "grid_column": null,
      "grid_gap": null,
      "grid_row": null,
      "grid_template_areas": null,
      "grid_template_columns": null,
      "grid_template_rows": null,
      "height": null,
      "justify_content": null,
      "justify_items": null,
      "left": null,
      "margin": null,
      "max_height": "250px",
      "max_width": "340px",
      "min_height": null,
      "min_width": null,
      "object_fit": null,
      "object_position": null,
      "order": null,
      "overflow": "scroll",
      "overflow_x": null,
      "overflow_y": null,
      "padding": null,
      "right": null,
      "top": null,
      "visibility": null,
      "width": null
     }
    },
    "a53cff3dcb1043c79b47397da70e035f": {
     "model_module": "@jupyter-widgets/controls",
     "model_module_version": "1.5.0",
     "model_name": "DescriptionStyleModel",
     "state": {
      "_model_module": "@jupyter-widgets/controls",
      "_model_module_version": "1.5.0",
      "_model_name": "DescriptionStyleModel",
      "_view_count": null,
      "_view_module": "@jupyter-widgets/base",
      "_view_module_version": "1.2.0",
      "_view_name": "StyleView",
      "description_width": ""
     }
    },
    "ab0da2a930d34e15a78a2420d1e11e14": {
     "model_module": "@jupyter-widgets/controls",
     "model_module_version": "1.5.0",
     "model_name": "ToggleButtonsStyleModel",
     "state": {
      "_model_module": "@jupyter-widgets/controls",
      "_model_module_version": "1.5.0",
      "_model_name": "ToggleButtonsStyleModel",
      "_view_count": null,
      "_view_module": "@jupyter-widgets/base",
      "_view_module_version": "1.2.0",
      "_view_name": "StyleView",
      "button_width": "110px",
      "description_width": "",
      "font_weight": ""
     }
    },
    "aeb15650eb9f4b309bfe3adcf9b5ebd0": {
     "model_module": "@jupyter-widgets/controls",
     "model_module_version": "1.5.0",
     "model_name": "ToggleButtonModel",
     "state": {
      "_dom_classes": [],
      "_model_module": "@jupyter-widgets/controls",
      "_model_module_version": "1.5.0",
      "_model_name": "ToggleButtonModel",
      "_view_count": null,
      "_view_module": "@jupyter-widgets/controls",
      "_view_module_version": "1.5.0",
      "_view_name": "ToggleButtonView",
      "button_style": "primary",
      "description": "",
      "description_tooltip": null,
      "disabled": false,
      "icon": "map",
      "layout": "IPY_MODEL_bf08a2484fb74afcaeeb8a260255d88c",
      "style": "IPY_MODEL_a53cff3dcb1043c79b47397da70e035f",
      "tooltip": "Change basemap",
      "value": false
     }
    },
    "af579575c283477ea2c285a37b4b5ff6": {
     "model_module": "jupyter-leaflet",
     "model_module_version": "^0.14.0",
     "model_name": "LeafletTileLayerModel",
     "state": {
      "_model_module": "jupyter-leaflet",
      "_model_module_version": "^0.14.0",
      "_model_name": "LeafletTileLayerModel",
      "_view_count": null,
      "_view_module": "jupyter-leaflet",
      "_view_module_version": "^0.14.0",
      "_view_name": "LeafletTileLayerView",
      "attribution": "Google Earth Engine",
      "base": false,
      "bottom": true,
      "detect_retina": false,
      "loading": false,
      "max_native_zoom": 18,
      "max_zoom": 18,
      "min_native_zoom": 0,
      "min_zoom": 0,
      "name": "Drawn Features",
      "no_wrap": false,
      "opacity": 0.5,
      "options": [
       "attribution",
       "detect_retina",
       "max_native_zoom",
       "max_zoom",
       "min_native_zoom",
       "min_zoom",
       "no_wrap",
       "tile_size",
       "tms"
      ],
      "popup": null,
      "popup_max_height": null,
      "popup_max_width": 300,
      "popup_min_width": 50,
      "show_loading": false,
      "tile_size": 256,
      "tms": false,
      "url": "https://earthengine.googleapis.com/v1alpha/projects/earthengine-legacy/maps/4db856f4de6d84ba9c3ecc5e703ae058-3aef0a0fb8face43a17293ac73479f92/tiles/{z}/{x}/{y}",
      "visible": false
     }
    },
    "b0798f04d07643d09ffd620d7988fe18": {
     "model_module": "@jupyter-widgets/controls",
     "model_module_version": "1.5.0",
     "model_name": "DescriptionStyleModel",
     "state": {
      "_model_module": "@jupyter-widgets/controls",
      "_model_module_version": "1.5.0",
      "_model_name": "DescriptionStyleModel",
      "_view_count": null,
      "_view_module": "@jupyter-widgets/base",
      "_view_module_version": "1.2.0",
      "_view_name": "StyleView",
      "description_width": ""
     }
    },
    "b3ba5c65d8864792bfed4e56e81d5d93": {
     "model_module": "jupyter-leaflet",
     "model_module_version": "^0.14.0",
     "model_name": "LeafletTileLayerModel",
     "state": {
      "_model_module": "jupyter-leaflet",
      "_model_module_version": "^0.14.0",
      "_model_name": "LeafletTileLayerModel",
      "_view_count": null,
      "_view_module": "jupyter-leaflet",
      "_view_module_version": "^0.14.0",
      "_view_name": "LeafletTileLayerView",
      "attribution": "Google Earth Engine",
      "base": false,
      "bottom": true,
      "detect_retina": false,
      "loading": false,
      "max_native_zoom": 18,
      "max_zoom": 18,
      "min_native_zoom": 0,
      "min_zoom": 0,
      "name": "Drawn Features",
      "no_wrap": false,
      "opacity": 0.5,
      "options": [
       "attribution",
       "detect_retina",
       "max_native_zoom",
       "max_zoom",
       "min_native_zoom",
       "min_zoom",
       "no_wrap",
       "tile_size",
       "tms"
      ],
      "popup": null,
      "popup_max_height": null,
      "popup_max_width": 300,
      "popup_min_width": 50,
      "show_loading": false,
      "tile_size": 256,
      "tms": false,
      "url": "https://earthengine.googleapis.com/v1alpha/projects/earthengine-legacy/maps/509aa8b26e789ea6cd5301d2020cc21a-7b217a197cca10168aa40da254b3f032/tiles/{z}/{x}/{y}",
      "visible": false
     }
    },
    "b5ae4591c5d64b8a81fa5bccec2df002": {
     "model_module": "@jupyter-widgets/base",
     "model_module_version": "1.2.0",
     "model_name": "LayoutModel",
     "state": {
      "_model_module": "@jupyter-widgets/base",
      "_model_module_version": "1.2.0",
      "_model_name": "LayoutModel",
      "_view_count": null,
      "_view_module": "@jupyter-widgets/base",
      "_view_module_version": "1.2.0",
      "_view_name": "LayoutView",
      "align_content": null,
      "align_items": null,
      "align_self": null,
      "border": null,
      "bottom": null,
      "display": null,
      "flex": null,
      "flex_flow": null,
      "grid_area": null,
      "grid_auto_columns": null,
      "grid_auto_flow": null,
      "grid_auto_rows": null,
      "grid_column": null,
      "grid_gap": null,
      "grid_row": null,
      "grid_template_areas": null,
      "grid_template_columns": null,
      "grid_template_rows": null,
      "height": "auto",
      "justify_content": null,
      "justify_items": null,
      "left": null,
      "margin": null,
      "max_height": null,
      "max_width": null,
      "min_height": null,
      "min_width": null,
      "object_fit": null,
      "object_position": null,
      "order": null,
      "overflow": null,
      "overflow_x": null,
      "overflow_y": null,
      "padding": "0px 0px 0px 4px",
      "right": null,
      "top": null,
      "visibility": null,
      "width": "auto"
     }
    },
    "b771d99adeff45d18f21ad9d17f21295": {
     "model_module": "@jupyter-widgets/base",
     "model_module_version": "1.2.0",
     "model_name": "LayoutModel",
     "state": {
      "_model_module": "@jupyter-widgets/base",
      "_model_module_version": "1.2.0",
      "_model_name": "LayoutModel",
      "_view_count": null,
      "_view_module": "@jupyter-widgets/base",
      "_view_module_version": "1.2.0",
      "_view_name": "LayoutView",
      "align_content": null,
      "align_items": null,
      "align_self": null,
      "border": null,
      "bottom": null,
      "display": null,
      "flex": null,
      "flex_flow": null,
      "grid_area": null,
      "grid_auto_columns": null,
      "grid_auto_flow": null,
      "grid_auto_rows": null,
      "grid_column": null,
      "grid_gap": null,
      "grid_row": null,
      "grid_template_areas": null,
      "grid_template_columns": null,
      "grid_template_rows": null,
      "height": null,
      "justify_content": null,
      "justify_items": null,
      "left": null,
      "margin": null,
      "max_height": null,
      "max_width": null,
      "min_height": null,
      "min_width": null,
      "object_fit": null,
      "object_position": null,
      "order": null,
      "overflow": null,
      "overflow_x": null,
      "overflow_y": null,
      "padding": null,
      "right": null,
      "top": null,
      "visibility": null,
      "width": null
     }
    },
    "b7ed3e68103a42b7af74fb8cf28b0bed": {
     "model_module": "@jupyter-widgets/base",
     "model_module_version": "1.2.0",
     "model_name": "LayoutModel",
     "state": {
      "_model_module": "@jupyter-widgets/base",
      "_model_module_version": "1.2.0",
      "_model_name": "LayoutModel",
      "_view_count": null,
      "_view_module": "@jupyter-widgets/base",
      "_view_module_version": "1.2.0",
      "_view_name": "LayoutView",
      "align_content": null,
      "align_items": null,
      "align_self": null,
      "border": null,
      "bottom": null,
      "display": null,
      "flex": null,
      "flex_flow": null,
      "grid_area": null,
      "grid_auto_columns": null,
      "grid_auto_flow": null,
      "grid_auto_rows": null,
      "grid_column": null,
      "grid_gap": null,
      "grid_row": null,
      "grid_template_areas": null,
      "grid_template_columns": null,
      "grid_template_rows": null,
      "height": "auto",
      "justify_content": null,
      "justify_items": null,
      "left": null,
      "margin": null,
      "max_height": null,
      "max_width": null,
      "min_height": null,
      "min_width": null,
      "object_fit": null,
      "object_position": null,
      "order": null,
      "overflow": null,
      "overflow_x": null,
      "overflow_y": null,
      "padding": "0px 0px 0px 4px",
      "right": null,
      "top": null,
      "visibility": null,
      "width": "auto"
     }
    },
    "b8ddae50b2ed4705aa567a78ebc79c78": {
     "model_module": "@jupyter-widgets/base",
     "model_module_version": "1.2.0",
     "model_name": "LayoutModel",
     "state": {
      "_model_module": "@jupyter-widgets/base",
      "_model_module_version": "1.2.0",
      "_model_name": "LayoutModel",
      "_view_count": null,
      "_view_module": "@jupyter-widgets/base",
      "_view_module_version": "1.2.0",
      "_view_name": "LayoutView",
      "align_content": null,
      "align_items": null,
      "align_self": null,
      "border": null,
      "bottom": null,
      "display": null,
      "flex": null,
      "flex_flow": null,
      "grid_area": null,
      "grid_auto_columns": null,
      "grid_auto_flow": null,
      "grid_auto_rows": null,
      "grid_column": null,
      "grid_gap": null,
      "grid_row": null,
      "grid_template_areas": null,
      "grid_template_columns": null,
      "grid_template_rows": null,
      "height": "auto",
      "justify_content": null,
      "justify_items": null,
      "left": null,
      "margin": null,
      "max_height": null,
      "max_width": null,
      "min_height": null,
      "min_width": null,
      "object_fit": null,
      "object_position": null,
      "order": null,
      "overflow": null,
      "overflow_x": null,
      "overflow_y": null,
      "padding": "0px 0px 0px 4px",
      "right": null,
      "top": null,
      "visibility": null,
      "width": "auto"
     }
    },
    "bd6a7d0172974b3c9fcc31f84c2ede37": {
     "model_module": "@jupyter-widgets/base",
     "model_module_version": "1.2.0",
     "model_name": "LayoutModel",
     "state": {
      "_model_module": "@jupyter-widgets/base",
      "_model_module_version": "1.2.0",
      "_model_name": "LayoutModel",
      "_view_count": null,
      "_view_module": "@jupyter-widgets/base",
      "_view_module_version": "1.2.0",
      "_view_name": "LayoutView",
      "align_content": null,
      "align_items": null,
      "align_self": null,
      "border": null,
      "bottom": null,
      "display": null,
      "flex": null,
      "flex_flow": null,
      "grid_area": null,
      "grid_auto_columns": null,
      "grid_auto_flow": null,
      "grid_auto_rows": null,
      "grid_column": null,
      "grid_gap": null,
      "grid_row": null,
      "grid_template_areas": null,
      "grid_template_columns": null,
      "grid_template_rows": null,
      "height": null,
      "justify_content": null,
      "justify_items": null,
      "left": null,
      "margin": null,
      "max_height": null,
      "max_width": null,
      "min_height": null,
      "min_width": null,
      "object_fit": null,
      "object_position": null,
      "order": null,
      "overflow": null,
      "overflow_x": null,
      "overflow_y": null,
      "padding": null,
      "right": null,
      "top": null,
      "visibility": null,
      "width": null
     }
    },
    "bf08a2484fb74afcaeeb8a260255d88c": {
     "model_module": "@jupyter-widgets/base",
     "model_module_version": "1.2.0",
     "model_name": "LayoutModel",
     "state": {
      "_model_module": "@jupyter-widgets/base",
      "_model_module_version": "1.2.0",
      "_model_name": "LayoutModel",
      "_view_count": null,
      "_view_module": "@jupyter-widgets/base",
      "_view_module_version": "1.2.0",
      "_view_name": "LayoutView",
      "align_content": null,
      "align_items": null,
      "align_self": null,
      "border": null,
      "bottom": null,
      "display": null,
      "flex": null,
      "flex_flow": null,
      "grid_area": null,
      "grid_auto_columns": null,
      "grid_auto_flow": null,
      "grid_auto_rows": null,
      "grid_column": null,
      "grid_gap": null,
      "grid_row": null,
      "grid_template_areas": null,
      "grid_template_columns": null,
      "grid_template_rows": null,
      "height": "auto",
      "justify_content": null,
      "justify_items": null,
      "left": null,
      "margin": null,
      "max_height": null,
      "max_width": null,
      "min_height": null,
      "min_width": null,
      "object_fit": null,
      "object_position": null,
      "order": null,
      "overflow": null,
      "overflow_x": null,
      "overflow_y": null,
      "padding": "0px 0px 0px 4px",
      "right": null,
      "top": null,
      "visibility": null,
      "width": "auto"
     }
    },
    "c069e7aad6f4403fa857dbec2f5a1bb7": {
     "model_module": "jupyter-leaflet",
     "model_module_version": "^0.14.0",
     "model_name": "LeafletScaleControlModel",
     "state": {
      "_model_module": "jupyter-leaflet",
      "_model_module_version": "^0.14.0",
      "_model_name": "LeafletScaleControlModel",
      "_view_count": null,
      "_view_module": "jupyter-leaflet",
      "_view_module_version": "^0.14.0",
      "_view_name": "LeafletScaleControlView",
      "imperial": true,
      "max_width": 100,
      "metric": true,
      "options": [
       "imperial",
       "max_width",
       "metric",
       "position",
       "update_when_idle"
      ],
      "position": "bottomleft",
      "update_when_idle": false
     }
    },
    "c1b5864db99a4a3d879d987dcf32cc31": {
     "model_module": "@jupyter-widgets/controls",
     "model_module_version": "1.5.0",
     "model_name": "ToggleButtonModel",
     "state": {
      "_dom_classes": [],
      "_model_module": "@jupyter-widgets/controls",
      "_model_module_version": "1.5.0",
      "_model_name": "ToggleButtonModel",
      "_view_count": null,
      "_view_module": "@jupyter-widgets/controls",
      "_view_module_version": "1.5.0",
      "_view_name": "ToggleButtonView",
      "button_style": "primary",
      "description": "",
      "description_tooltip": null,
      "disabled": false,
      "icon": "folder-open",
      "layout": "IPY_MODEL_73daf9b8287343c6bef46a0f5dcebd56",
      "style": "IPY_MODEL_f653f3856b8245be82b4fd063af3427b",
      "tooltip": "Open local vector/raster data",
      "value": false
     }
    },
    "c82c0ab8eba4474db379596fb2a41c2f": {
     "model_module": "@jupyter-widgets/controls",
     "model_module_version": "1.5.0",
     "model_name": "DescriptionStyleModel",
     "state": {
      "_model_module": "@jupyter-widgets/controls",
      "_model_module_version": "1.5.0",
      "_model_name": "DescriptionStyleModel",
      "_view_count": null,
      "_view_module": "@jupyter-widgets/base",
      "_view_module_version": "1.2.0",
      "_view_name": "StyleView",
      "description_width": ""
     }
    },
    "c930e66f54534bc080e669143b4543fa": {
     "model_module": "jupyter-leaflet",
     "model_module_version": "^0.14.0",
     "model_name": "LeafletWidgetControlModel",
     "state": {
      "_model_module": "jupyter-leaflet",
      "_model_module_version": "^0.14.0",
      "_model_name": "LeafletWidgetControlModel",
      "_view_count": null,
      "_view_module": "jupyter-leaflet",
      "_view_module_version": "^0.14.0",
      "_view_name": "LeafletWidgetControlView",
      "max_height": null,
      "max_width": null,
      "min_height": null,
      "min_width": null,
      "options": [
       "position",
       "transparent_bg"
      ],
      "position": "topright",
      "transparent_bg": false,
      "widget": "IPY_MODEL_d355be3058da4764920cf515eb530430"
     }
    },
    "cce11b1c4ee74bb7862dd587f4984ceb": {
     "model_module": "@jupyter-widgets/controls",
     "model_module_version": "1.5.0",
     "model_name": "TextModel",
     "state": {
      "_dom_classes": [],
      "_model_module": "@jupyter-widgets/controls",
      "_model_module_version": "1.5.0",
      "_model_name": "TextModel",
      "_view_count": null,
      "_view_module": "@jupyter-widgets/controls",
      "_view_module_version": "1.5.0",
      "_view_name": "TextView",
      "continuous_update": true,
      "description": "",
      "description_tooltip": null,
      "disabled": false,
      "layout": "IPY_MODEL_4241608cc0e94009a229b1f1a40fa022",
      "placeholder": "Search by place name or address",
      "style": "IPY_MODEL_56fc18d24ada4dfca06861e02ef65588",
      "value": "Woogsdammweg 6"
     }
    },
    "ce86c6866e20479c997f340e77b320d1": {
     "model_module": "jupyter-leaflet",
     "model_module_version": "^0.14.0",
     "model_name": "LeafletZoomControlModel",
     "state": {
      "_model_module": "jupyter-leaflet",
      "_model_module_version": "^0.14.0",
      "_model_name": "LeafletZoomControlModel",
      "_view_count": null,
      "_view_module": "jupyter-leaflet",
      "_view_module_version": "^0.14.0",
      "_view_name": "LeafletZoomControlView",
      "options": [
       "position",
       "zoom_in_text",
       "zoom_in_title",
       "zoom_out_text",
       "zoom_out_title"
      ],
      "position": "topleft",
      "zoom_in_text": "+",
      "zoom_in_title": "Zoom in",
      "zoom_out_text": "-",
      "zoom_out_title": "Zoom out"
     }
    },
    "cea7de1e3a1a427daed7135d177e7bfb": {
     "model_module": "jupyter-leaflet",
     "model_module_version": "^0.14.0",
     "model_name": "LeafletMapStyleModel",
     "state": {
      "_model_module": "jupyter-leaflet",
      "_model_module_version": "^0.14.0",
      "_model_name": "LeafletMapStyleModel",
      "_view_count": null,
      "_view_module": "@jupyter-widgets/base",
      "_view_module_version": "1.2.0",
      "_view_name": "StyleView",
      "cursor": "grab"
     }
    },
    "cf1569de6ac44d7499591e3ac61bcafa": {
     "model_module": "jupyter-leaflet",
     "model_module_version": "^0.14.0",
     "model_name": "LeafletDrawControlModel",
     "state": {
      "_model_module": "jupyter-leaflet",
      "_model_module_version": "^0.14.0",
      "_model_name": "LeafletDrawControlModel",
      "_view_count": null,
      "_view_module": "jupyter-leaflet",
      "_view_module_version": "^0.14.0",
      "_view_name": "LeafletDrawControlView",
      "circle": {
       "shapeOptions": {
        "color": "#3388ff"
       }
      },
      "circlemarker": {},
      "data": [
       {
        "geometry": {
         "coordinates": [
          [
           [
            8.485823,
            49.932631
           ],
           [
            8.485823,
            49.946303
           ],
           [
            8.511314,
            49.946303
           ],
           [
            8.511314,
            49.932631
           ],
           [
            8.485823,
            49.932631
           ]
          ]
         ],
         "type": "Polygon"
        },
        "properties": {
         "style": {
          "clickable": true,
          "color": "#3388ff",
          "fill": true,
          "fillColor": null,
          "fillOpacity": 0.2,
          "opacity": 0.5,
          "stroke": true,
          "weight": 4
         }
        },
        "type": "Feature"
       }
      ],
      "edit": true,
      "marker": {
       "shapeOptions": {
        "color": "#3388ff"
       }
      },
      "options": [
       "position"
      ],
      "polygon": {
       "shapeOptions": {}
      },
      "polyline": {
       "shapeOptions": {}
      },
      "position": "topleft",
      "rectangle": {
       "shapeOptions": {
        "color": "#3388ff"
       }
      },
      "remove": true
     }
    },
    "d10b9e8be7e54cca80f69c9bf139655b": {
     "model_module": "@jupyter-widgets/controls",
     "model_module_version": "1.5.0",
     "model_name": "ToggleButtonModel",
     "state": {
      "_dom_classes": [],
      "_model_module": "@jupyter-widgets/controls",
      "_model_module_version": "1.5.0",
      "_model_name": "ToggleButtonModel",
      "_view_count": null,
      "_view_module": "@jupyter-widgets/controls",
      "_view_module_version": "1.5.0",
      "_view_name": "ToggleButtonView",
      "button_style": "primary",
      "description": "",
      "description_tooltip": null,
      "disabled": false,
      "icon": "smile-o",
      "layout": "IPY_MODEL_3a8c4099f3df4253830115140e5e276b",
      "style": "IPY_MODEL_4b3c59ab354a4bd5820401a0b19482a3",
      "tooltip": "This is a placehold",
      "value": false
     }
    },
    "d355be3058da4764920cf515eb530430": {
     "model_module": "@jupyter-widgets/controls",
     "model_module_version": "1.5.0",
     "model_name": "VBoxModel",
     "state": {
      "_dom_classes": [],
      "_model_module": "@jupyter-widgets/controls",
      "_model_module_version": "1.5.0",
      "_model_name": "VBoxModel",
      "_view_count": null,
      "_view_module": "@jupyter-widgets/controls",
      "_view_module_version": "1.5.0",
      "_view_name": "VBoxView",
      "box_style": "",
      "children": [
       "IPY_MODEL_7854dbd819c448a3bf89b8e74a2de6d4"
      ],
      "layout": "IPY_MODEL_b771d99adeff45d18f21ad9d17f21295"
     }
    },
    "d56bb6be88b8476e80b04a5f9a30a469": {
     "model_module": "@jupyter-widgets/controls",
     "model_module_version": "1.5.0",
     "model_name": "DescriptionStyleModel",
     "state": {
      "_model_module": "@jupyter-widgets/controls",
      "_model_module_version": "1.5.0",
      "_model_name": "DescriptionStyleModel",
      "_view_count": null,
      "_view_module": "@jupyter-widgets/base",
      "_view_module_version": "1.2.0",
      "_view_name": "StyleView",
      "description_width": ""
     }
    },
    "d659502df8374574b65fe72c85175eb2": {
     "model_module": "@jupyter-widgets/base",
     "model_module_version": "1.2.0",
     "model_name": "LayoutModel",
     "state": {
      "_model_module": "@jupyter-widgets/base",
      "_model_module_version": "1.2.0",
      "_model_name": "LayoutModel",
      "_view_count": null,
      "_view_module": "@jupyter-widgets/base",
      "_view_module_version": "1.2.0",
      "_view_name": "LayoutView",
      "align_content": null,
      "align_items": null,
      "align_self": null,
      "border": null,
      "bottom": null,
      "display": null,
      "flex": null,
      "flex_flow": null,
      "grid_area": null,
      "grid_auto_columns": null,
      "grid_auto_flow": null,
      "grid_auto_rows": null,
      "grid_column": null,
      "grid_gap": null,
      "grid_row": null,
      "grid_template_areas": null,
      "grid_template_columns": null,
      "grid_template_rows": null,
      "height": null,
      "justify_content": null,
      "justify_items": null,
      "left": null,
      "margin": null,
      "max_height": null,
      "max_width": null,
      "min_height": null,
      "min_width": null,
      "object_fit": null,
      "object_position": null,
      "order": null,
      "overflow": null,
      "overflow_x": null,
      "overflow_y": null,
      "padding": null,
      "right": null,
      "top": null,
      "visibility": null,
      "width": null
     }
    },
    "d802184e925b445d8ae7533a270f042b": {
     "model_module": "@jupyter-widgets/controls",
     "model_module_version": "1.5.0",
     "model_name": "DescriptionStyleModel",
     "state": {
      "_model_module": "@jupyter-widgets/controls",
      "_model_module_version": "1.5.0",
      "_model_name": "DescriptionStyleModel",
      "_view_count": null,
      "_view_module": "@jupyter-widgets/base",
      "_view_module_version": "1.2.0",
      "_view_name": "StyleView",
      "description_width": ""
     }
    },
    "d8dde778d5684b1da867a06f7c6aa4e3": {
     "model_module": "jupyter-leaflet",
     "model_module_version": "^0.14.0",
     "model_name": "LeafletMapStyleModel",
     "state": {
      "_model_module": "jupyter-leaflet",
      "_model_module_version": "^0.14.0",
      "_model_name": "LeafletMapStyleModel",
      "_view_count": null,
      "_view_module": "@jupyter-widgets/base",
      "_view_module_version": "1.2.0",
      "_view_name": "StyleView",
      "cursor": "move"
     }
    },
    "d90b981c5d01485a8f36cb767294946f": {
     "model_module": "jupyter-leaflet",
     "model_module_version": "^0.14.0",
     "model_name": "LeafletTileLayerModel",
     "state": {
      "_model_module": "jupyter-leaflet",
      "_model_module_version": "^0.14.0",
      "_model_name": "LeafletTileLayerModel",
      "_view_count": null,
      "_view_module": "jupyter-leaflet",
      "_view_module_version": "^0.14.0",
      "_view_name": "LeafletTileLayerView",
      "attribution": "Google Earth Engine",
      "base": false,
      "bottom": true,
      "detect_retina": false,
      "loading": false,
      "max_native_zoom": 18,
      "max_zoom": 18,
      "min_native_zoom": 0,
      "min_zoom": 0,
      "name": "Drawn Features",
      "no_wrap": false,
      "opacity": 0.5,
      "options": [
       "attribution",
       "detect_retina",
       "max_native_zoom",
       "max_zoom",
       "min_native_zoom",
       "min_zoom",
       "no_wrap",
       "tile_size",
       "tms"
      ],
      "popup": null,
      "popup_max_height": null,
      "popup_max_width": 300,
      "popup_min_width": 50,
      "show_loading": false,
      "tile_size": 256,
      "tms": false,
      "url": "https://earthengine.googleapis.com/v1alpha/projects/earthengine-legacy/maps/509aa8b26e789ea6cd5301d2020cc21a-5103974f5a115aea4c1db74daaf99070/tiles/{z}/{x}/{y}",
      "visible": false
     }
    },
    "da1c2db221d245718d2b1818301fc1e1": {
     "model_module": "@jupyter-widgets/controls",
     "model_module_version": "1.5.0",
     "model_name": "ToggleButtonModel",
     "state": {
      "_dom_classes": [],
      "_model_module": "@jupyter-widgets/controls",
      "_model_module_version": "1.5.0",
      "_model_name": "ToggleButtonModel",
      "_view_count": null,
      "_view_module": "@jupyter-widgets/controls",
      "_view_module_version": "1.5.0",
      "_view_name": "ToggleButtonView",
      "button_style": "",
      "description": "",
      "description_tooltip": null,
      "disabled": false,
      "icon": "server",
      "layout": "IPY_MODEL_88e4dcd577054f39aa52a69995737288",
      "style": "IPY_MODEL_f023ac3229b3495fb9fb4f455e4c3756",
      "tooltip": "Layers",
      "value": false
     }
    },
    "dc1f73f7931240b2b76c23536d743b44": {
     "model_module": "@jupyter-widgets/base",
     "model_module_version": "1.2.0",
     "model_name": "LayoutModel",
     "state": {
      "_model_module": "@jupyter-widgets/base",
      "_model_module_version": "1.2.0",
      "_model_name": "LayoutModel",
      "_view_count": null,
      "_view_module": "@jupyter-widgets/base",
      "_view_module_version": "1.2.0",
      "_view_name": "LayoutView",
      "align_content": null,
      "align_items": null,
      "align_self": null,
      "border": null,
      "bottom": null,
      "display": null,
      "flex": null,
      "flex_flow": null,
      "grid_area": null,
      "grid_auto_columns": null,
      "grid_auto_flow": null,
      "grid_auto_rows": null,
      "grid_column": null,
      "grid_gap": null,
      "grid_row": null,
      "grid_template_areas": null,
      "grid_template_columns": null,
      "grid_template_rows": null,
      "height": "auto",
      "justify_content": null,
      "justify_items": null,
      "left": null,
      "margin": null,
      "max_height": null,
      "max_width": null,
      "min_height": null,
      "min_width": null,
      "object_fit": null,
      "object_position": null,
      "order": null,
      "overflow": null,
      "overflow_x": null,
      "overflow_y": null,
      "padding": "0px 0px 0px 4px",
      "right": null,
      "top": null,
      "visibility": null,
      "width": "auto"
     }
    },
    "e6ab6265bd404558b2d3797f4e7bb372": {
     "model_module": "@jupyter-widgets/controls",
     "model_module_version": "1.5.0",
     "model_name": "ToggleButtonModel",
     "state": {
      "_dom_classes": [],
      "_model_module": "@jupyter-widgets/controls",
      "_model_module_version": "1.5.0",
      "_model_name": "ToggleButtonModel",
      "_view_count": null,
      "_view_module": "@jupyter-widgets/controls",
      "_view_module_version": "1.5.0",
      "_view_name": "ToggleButtonView",
      "button_style": "",
      "description": "",
      "description_tooltip": null,
      "disabled": false,
      "icon": "globe",
      "layout": "IPY_MODEL_55c91a69afa64896b8918379c1079e0e",
      "style": "IPY_MODEL_80cb4e032e4e4353826825f9fe30296e",
      "tooltip": "Search location/data",
      "value": true
     }
    },
    "e76aaa9bbec44f0bae0a4b41aa56f341": {
     "model_module": "@jupyter-widgets/base",
     "model_module_version": "1.2.0",
     "model_name": "LayoutModel",
     "state": {
      "_model_module": "@jupyter-widgets/base",
      "_model_module_version": "1.2.0",
      "_model_name": "LayoutModel",
      "_view_count": null,
      "_view_module": "@jupyter-widgets/base",
      "_view_module_version": "1.2.0",
      "_view_name": "LayoutView",
      "align_content": null,
      "align_items": null,
      "align_self": null,
      "border": null,
      "bottom": null,
      "display": null,
      "flex": null,
      "flex_flow": null,
      "grid_area": null,
      "grid_auto_columns": null,
      "grid_auto_flow": null,
      "grid_auto_rows": null,
      "grid_column": null,
      "grid_gap": null,
      "grid_row": null,
      "grid_template_areas": null,
      "grid_template_columns": null,
      "grid_template_rows": null,
      "height": null,
      "justify_content": null,
      "justify_items": null,
      "left": null,
      "margin": null,
      "max_height": null,
      "max_width": null,
      "min_height": null,
      "min_width": null,
      "object_fit": null,
      "object_position": null,
      "order": null,
      "overflow": null,
      "overflow_x": null,
      "overflow_y": null,
      "padding": null,
      "right": null,
      "top": null,
      "visibility": null,
      "width": null
     }
    },
    "e7de1cd2253d45d2bd279001dd4df63b": {
     "model_module": "jupyter-leaflet",
     "model_module_version": "^0.14.0",
     "model_name": "LeafletMapModel",
     "state": {
      "_dom_classes": [],
      "_dragging": false,
      "_model_module": "jupyter-leaflet",
      "_model_module_version": "^0.14.0",
      "_model_name": "LeafletMapModel",
      "_view_count": null,
      "_view_module": "jupyter-leaflet",
      "_view_module_version": "^0.14.0",
      "_view_name": "LeafletMapView",
      "bottom": 1423833,
      "bounce_at_zoom_limits": true,
      "box_zoom": true,
      "center": [
       49.94166471398405,
       8.537321090698244
      ],
      "close_popup_on_click": true,
      "controls": [
       "IPY_MODEL_2e741ba17fe94af0bf83f6f9cb9fba53",
       "IPY_MODEL_ce86c6866e20479c997f340e77b320d1",
       "IPY_MODEL_c069e7aad6f4403fa857dbec2f5a1bb7",
       "IPY_MODEL_01bcd5eff9c64ba7aa9c10676ac93a78",
       "IPY_MODEL_54688208085640669c9b36c95be1b26e",
       "IPY_MODEL_185ac30eebce407fa6d9f7909ae092fc",
       "IPY_MODEL_cf1569de6ac44d7499591e3ac61bcafa",
       "IPY_MODEL_c930e66f54534bc080e669143b4543fa"
      ],
      "crs": {
       "custom": false,
       "name": "EPSG3857"
      },
      "default_style": "IPY_MODEL_cea7de1e3a1a427daed7135d177e7bfb",
      "double_click_zoom": true,
      "dragging": true,
      "dragging_style": "IPY_MODEL_d8dde778d5684b1da867a06f7c6aa4e3",
      "east": 8.576030731201174,
      "fullscreen": false,
      "inertia": true,
      "inertia_deceleration": 3000,
      "inertia_max_speed": 1500,
      "interpolation": "bilinear",
      "keyboard": true,
      "keyboard_pan_offset": 80,
      "keyboard_zoom_offset": 1,
      "layers": [
       "IPY_MODEL_5db9422646714e918c503bffba29cce3",
       "IPY_MODEL_fb2b5387f1ce4d6db0994573ef114d3e",
       "IPY_MODEL_73df3bf4de444ae19eafee5faebfe60e",
       "IPY_MODEL_4576d9b03eb64220bb258bc4d3a300ab"
      ],
      "layout": "IPY_MODEL_51e0d0ff6c624810abf49c46c8a55e5d",
      "left": 2196168,
      "max_zoom": 24,
      "min_zoom": 1,
      "modisdate": "yesterday",
      "north": 49.9582332092832,
      "options": [
       "bounce_at_zoom_limits",
       "box_zoom",
       "center",
       "close_popup_on_click",
       "double_click_zoom",
       "dragging",
       "fullscreen",
       "inertia",
       "inertia_deceleration",
       "inertia_max_speed",
       "interpolation",
       "keyboard",
       "keyboard_pan_offset",
       "keyboard_zoom_offset",
       "max_zoom",
       "min_zoom",
       "scroll_wheel_zoom",
       "tap",
       "tap_tolerance",
       "touch_zoom",
       "world_copy_jump",
       "zoom",
       "zoom_animation_threshold",
       "zoom_delta",
       "zoom_snap",
       "zoom_start"
      ],
      "right": 2197070,
      "scroll_wheel_zoom": true,
      "south": 49.92509051859738,
      "style": "IPY_MODEL_cea7de1e3a1a427daed7135d177e7bfb",
      "tap": true,
      "tap_tolerance": 15,
      "top": 1423233,
      "touch_zoom": true,
      "west": 8.498611450195314,
      "window_url": "https://4jxa6wdxkod-496ff2e9c6d22116-0-colab.googleusercontent.com/outputframe.html?vrz=colab-20211202-060056-RC00_413642081",
      "world_copy_jump": false,
      "zoom": 14,
      "zoom_animation_threshold": 4,
      "zoom_delta": 1,
      "zoom_snap": 1,
      "zoom_start": 12
     }
    },
    "eba8ca8a0f2e47ed993c8de114856c92": {
     "model_module": "@jupyter-widgets/base",
     "model_module_version": "1.2.0",
     "model_name": "LayoutModel",
     "state": {
      "_model_module": "@jupyter-widgets/base",
      "_model_module_version": "1.2.0",
      "_model_name": "LayoutModel",
      "_view_count": null,
      "_view_module": "@jupyter-widgets/base",
      "_view_module_version": "1.2.0",
      "_view_name": "LayoutView",
      "align_content": null,
      "align_items": null,
      "align_self": null,
      "border": null,
      "bottom": null,
      "display": null,
      "flex": null,
      "flex_flow": null,
      "grid_area": null,
      "grid_auto_columns": null,
      "grid_auto_flow": null,
      "grid_auto_rows": null,
      "grid_column": null,
      "grid_gap": null,
      "grid_row": null,
      "grid_template_areas": null,
      "grid_template_columns": null,
      "grid_template_rows": null,
      "height": null,
      "justify_content": null,
      "justify_items": null,
      "left": null,
      "margin": null,
      "max_height": null,
      "max_width": null,
      "min_height": null,
      "min_width": null,
      "object_fit": null,
      "object_position": null,
      "order": null,
      "overflow": null,
      "overflow_x": null,
      "overflow_y": null,
      "padding": null,
      "right": null,
      "top": null,
      "visibility": null,
      "width": null
     }
    },
    "ebe9e762546143a5957a6de867a13c0b": {
     "model_module": "jupyter-leaflet",
     "model_module_version": "^0.14.0",
     "model_name": "LeafletTileLayerModel",
     "state": {
      "_model_module": "jupyter-leaflet",
      "_model_module_version": "^0.14.0",
      "_model_name": "LeafletTileLayerModel",
      "_view_count": null,
      "_view_module": "jupyter-leaflet",
      "_view_module_version": "^0.14.0",
      "_view_name": "LeafletTileLayerView",
      "attribution": "Google Earth Engine",
      "base": false,
      "bottom": true,
      "detect_retina": false,
      "loading": false,
      "max_native_zoom": 18,
      "max_zoom": 18,
      "min_native_zoom": 0,
      "min_zoom": 0,
      "name": "Drawn Features",
      "no_wrap": false,
      "opacity": 0.5,
      "options": [
       "attribution",
       "detect_retina",
       "max_native_zoom",
       "max_zoom",
       "min_native_zoom",
       "min_zoom",
       "no_wrap",
       "tile_size",
       "tms"
      ],
      "popup": null,
      "popup_max_height": null,
      "popup_max_width": 300,
      "popup_min_width": 50,
      "show_loading": false,
      "tile_size": 256,
      "tms": false,
      "url": "https://earthengine.googleapis.com/v1alpha/projects/earthengine-legacy/maps/509aa8b26e789ea6cd5301d2020cc21a-a307b862a01c1529431ddd31e596aa05/tiles/{z}/{x}/{y}",
      "visible": false
     }
    },
    "ecae9b00937c4520aeffcd3590165be4": {
     "model_module": "@jupyter-widgets/controls",
     "model_module_version": "1.5.0",
     "model_name": "VBoxModel",
     "state": {
      "_dom_classes": [],
      "_model_module": "@jupyter-widgets/controls",
      "_model_module_version": "1.5.0",
      "_model_name": "VBoxModel",
      "_view_count": null,
      "_view_module": "@jupyter-widgets/controls",
      "_view_module_version": "1.5.0",
      "_view_name": "VBoxView",
      "box_style": "",
      "children": [
       "IPY_MODEL_3219ab8fb8184d51977b2c9c6fcfeede"
      ],
      "layout": "IPY_MODEL_e76aaa9bbec44f0bae0a4b41aa56f341"
     }
    },
    "f023ac3229b3495fb9fb4f455e4c3756": {
     "model_module": "@jupyter-widgets/controls",
     "model_module_version": "1.5.0",
     "model_name": "DescriptionStyleModel",
     "state": {
      "_model_module": "@jupyter-widgets/controls",
      "_model_module_version": "1.5.0",
      "_model_name": "DescriptionStyleModel",
      "_view_count": null,
      "_view_module": "@jupyter-widgets/base",
      "_view_module_version": "1.2.0",
      "_view_name": "StyleView",
      "description_width": ""
     }
    },
    "f5d7192fb4b4460ca4dfb1e1e0fbce22": {
     "model_module": "@jupyter-widgets/controls",
     "model_module_version": "1.5.0",
     "model_name": "ToggleButtonModel",
     "state": {
      "_dom_classes": [],
      "_model_module": "@jupyter-widgets/controls",
      "_model_module_version": "1.5.0",
      "_model_name": "ToggleButtonModel",
      "_view_count": null,
      "_view_module": "@jupyter-widgets/controls",
      "_view_module_version": "1.5.0",
      "_view_name": "ToggleButtonView",
      "button_style": "primary",
      "description": "",
      "description_tooltip": null,
      "disabled": false,
      "icon": "fast-forward",
      "layout": "IPY_MODEL_9508e31406094e50a6a5f96b01fe811a",
      "style": "IPY_MODEL_6585aa9d43c241a7847d3855e2fb3fbf",
      "tooltip": "Activate timeslider",
      "value": false
     }
    },
    "f653f3856b8245be82b4fd063af3427b": {
     "model_module": "@jupyter-widgets/controls",
     "model_module_version": "1.5.0",
     "model_name": "DescriptionStyleModel",
     "state": {
      "_model_module": "@jupyter-widgets/controls",
      "_model_module_version": "1.5.0",
      "_model_name": "DescriptionStyleModel",
      "_view_count": null,
      "_view_module": "@jupyter-widgets/base",
      "_view_module_version": "1.2.0",
      "_view_name": "StyleView",
      "description_width": ""
     }
    },
    "fb2b5387f1ce4d6db0994573ef114d3e": {
     "model_module": "jupyter-leaflet",
     "model_module_version": "^0.14.0",
     "model_name": "LeafletTileLayerModel",
     "state": {
      "_model_module": "jupyter-leaflet",
      "_model_module_version": "^0.14.0",
      "_model_name": "LeafletTileLayerModel",
      "_view_count": null,
      "_view_module": "jupyter-leaflet",
      "_view_module_version": "^0.14.0",
      "_view_name": "LeafletTileLayerView",
      "attribution": "Google",
      "base": false,
      "bottom": true,
      "detect_retina": false,
      "loading": false,
      "max_native_zoom": 18,
      "max_zoom": 24,
      "min_native_zoom": 0,
      "min_zoom": 0,
      "name": "Google Maps",
      "no_wrap": false,
      "opacity": 1,
      "options": [
       "attribution",
       "detect_retina",
       "max_native_zoom",
       "max_zoom",
       "min_native_zoom",
       "min_zoom",
       "no_wrap",
       "tile_size",
       "tms"
      ],
      "popup": null,
      "popup_max_height": null,
      "popup_max_width": 300,
      "popup_min_width": 50,
      "show_loading": false,
      "tile_size": 256,
      "tms": false,
      "url": "https://mt1.google.com/vt/lyrs=m&x={x}&y={y}&z={z}",
      "visible": true
     }
    },
    "fcb338d19813435e93925150d9a3c331": {
     "model_module": "@jupyter-widgets/controls",
     "model_module_version": "1.5.0",
     "model_name": "DescriptionStyleModel",
     "state": {
      "_model_module": "@jupyter-widgets/controls",
      "_model_module_version": "1.5.0",
      "_model_name": "DescriptionStyleModel",
      "_view_count": null,
      "_view_module": "@jupyter-widgets/base",
      "_view_module_version": "1.2.0",
      "_view_name": "StyleView",
      "description_width": ""
     }
    },
    "fcb466a5fd274654b987b2426fdb0270": {
     "model_module": "@jupyter-widgets/controls",
     "model_module_version": "1.5.0",
     "model_name": "RadioButtonsModel",
     "state": {
      "_dom_classes": [],
      "_model_module": "@jupyter-widgets/controls",
      "_model_module_version": "1.5.0",
      "_model_name": "RadioButtonsModel",
      "_options_labels": [
       "Woogsdammweg 6, 64521, Groß-Gerau, Hessen"
      ],
      "_view_count": null,
      "_view_module": "@jupyter-widgets/controls",
      "_view_module_version": "1.5.0",
      "_view_name": "RadioButtonsView",
      "description": "",
      "description_tooltip": null,
      "disabled": false,
      "index": 0,
      "layout": "IPY_MODEL_93f913f203bd4a8294a3ce54d93f5b4b",
      "style": "IPY_MODEL_1a6df631667a46d688279293275b7c45"
     }
    },
    "fd09c5d753874b88975be5334e166a50": {
     "model_module": "@jupyter-widgets/base",
     "model_module_version": "1.2.0",
     "model_name": "LayoutModel",
     "state": {
      "_model_module": "@jupyter-widgets/base",
      "_model_module_version": "1.2.0",
      "_model_name": "LayoutModel",
      "_view_count": null,
      "_view_module": "@jupyter-widgets/base",
      "_view_module_version": "1.2.0",
      "_view_name": "LayoutView",
      "align_content": null,
      "align_items": null,
      "align_self": null,
      "border": null,
      "bottom": null,
      "display": null,
      "flex": null,
      "flex_flow": null,
      "grid_area": null,
      "grid_auto_columns": null,
      "grid_auto_flow": null,
      "grid_auto_rows": null,
      "grid_column": null,
      "grid_gap": null,
      "grid_row": null,
      "grid_template_areas": null,
      "grid_template_columns": null,
      "grid_template_rows": null,
      "height": "auto",
      "justify_content": null,
      "justify_items": null,
      "left": null,
      "margin": null,
      "max_height": null,
      "max_width": null,
      "min_height": null,
      "min_width": null,
      "object_fit": null,
      "object_position": null,
      "order": null,
      "overflow": null,
      "overflow_x": null,
      "overflow_y": null,
      "padding": "0px 0px 0px 4px",
      "right": null,
      "top": null,
      "visibility": null,
      "width": "auto"
     }
    },
    "ffe43e59c5fc4562a5457ac1308eaab5": {
     "model_module": "@jupyter-widgets/controls",
     "model_module_version": "1.5.0",
     "model_name": "ToggleButtonModel",
     "state": {
      "_dom_classes": [],
      "_model_module": "@jupyter-widgets/controls",
      "_model_module_version": "1.5.0",
      "_model_name": "ToggleButtonModel",
      "_view_count": null,
      "_view_module": "@jupyter-widgets/controls",
      "_view_module_version": "1.5.0",
      "_view_name": "ToggleButtonView",
      "button_style": "primary",
      "description": "",
      "description_tooltip": null,
      "disabled": false,
      "icon": "google",
      "layout": "IPY_MODEL_b8ddae50b2ed4705aa567a78ebc79c78",
      "style": "IPY_MODEL_9af9fd3c6bfb465d8dba7ce1115eb85e",
      "tooltip": "GEE Toolbox for cloud computing",
      "value": false
     }
    }
   }
  }
 },
 "nbformat": 4,
 "nbformat_minor": 1
}
