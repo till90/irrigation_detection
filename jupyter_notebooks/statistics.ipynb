{
 "cells": [
  {
   "cell_type": "code",
   "execution_count": null,
   "metadata": {
    "ExecuteTime": {
     "end_time": "2022-02-27T19:12:19.690126Z",
     "start_time": "2022-02-27T19:12:18.607597Z"
    }
   },
   "outputs": [],
   "source": [
    "import pandas as pd\n",
    "import stumpy\n",
    "import numpy as np\n",
    "import matplotlib.pyplot as plt\n",
    "import matplotlib.dates as dates\n",
    "from matplotlib.patches import Rectangle\n",
    "import datetime as dt"
   ]
  },
  {
   "cell_type": "code",
   "execution_count": null,
   "metadata": {
    "ExecuteTime": {
     "end_time": "2022-02-27T20:54:07.258351Z",
     "start_time": "2022-02-27T20:54:07.174361Z"
    }
   },
   "outputs": [],
   "source": [
    "# Load data\n",
    "df = pd.read_csv(r'C:\\Users\\USER\\Desktop\\Master_Irrigation\\03_GIS\\Flurstuecke\\ruten_rigo_dataframe.csv').drop('Unnamed: 0', axis=1)\n",
    "# Create df's for every Flurstück\n",
    "dfs = [(x[0], x[1][x[1].date.between('2019-11-01', '2020-07-01')].reset_index(drop=True)) for x in df.groupby('Flurnummer')]"
   ]
  },
  {
   "cell_type": "code",
   "execution_count": null,
   "metadata": {
    "ExecuteTime": {
     "end_time": "2022-02-27T20:54:09.128427Z",
     "start_time": "2022-02-27T20:54:09.104424Z"
    }
   },
   "outputs": [],
   "source": [
    "# Find window size\n",
    "for flurnr in dfs:\n",
    "    print(f'Mean time difference between obversations [{flurnr[0]}]: {pd.to_datetime(flurnr[1].date).diff().mean()}')"
   ]
  },
  {
   "cell_type": "code",
   "execution_count": null,
   "metadata": {
    "ExecuteTime": {
     "end_time": "2022-02-27T20:54:26.655317Z",
     "start_time": "2022-02-27T20:54:26.639166Z"
    }
   },
   "outputs": [],
   "source": [
    "m = 20\n",
    "mp = stumpy.stump(dfs[0][1]['VV_scale'], m)"
   ]
  },
  {
   "cell_type": "code",
   "execution_count": null,
   "metadata": {
    "ExecuteTime": {
     "end_time": "2022-02-27T20:54:27.479587Z",
     "start_time": "2022-02-27T20:54:27.471598Z"
    }
   },
   "outputs": [],
   "source": [
    "motif_idx = np.argsort(mp[:, 0])[0]\n",
    "print(f'The motif is located at index {motif_idx}')\n",
    "\n",
    "nearest_neighbor_idx1 = mp[motif_idx, 1]\n",
    "print(f\"The nearest neighbor is located at index {nearest_neighbor_idx}\")\n",
    "\n",
    "nearest_neighbor_idx2 = mp[motif_idx, 2]\n",
    "print(f\"The second nearest neighbor is located at index {nearest_neighbor_idx}\")\n",
    "\n",
    "nearest_neighbor_idx3 = mp[motif_idx, 3]\n",
    "print(f\"The third nearest neighbor is located at index {nearest_neighbor_idx}\")"
   ]
  },
  {
   "cell_type": "code",
   "execution_count": null,
   "metadata": {
    "ExecuteTime": {
     "end_time": "2022-02-27T21:31:00.961587Z",
     "start_time": "2022-02-27T21:31:00.255364Z"
    }
   },
   "outputs": [],
   "source": [
    "def find_motifs(dataframes, window_sizes, columns):\n",
    "    mp_list = list()\n",
    "    motifs_idx = list()\n",
    "    nearest_neighbor_idx = list()\n",
    "    for m in window_sizes:\n",
    "        for df in dataframes:\n",
    "            for label in columns:\n",
    "                mp = stumpy.stump(df[1][label], m, normalize=True)\n",
    "                mp_list.append((df[0], m, mp, label))\n",
    "                mo_idx = np.argsort(mp[:, 0])[0]\n",
    "                motifs_idx.append((df[0], m, mo_idx, df[1].loc[mo_idx, 'date']))\n",
    "                nn = [mp[motif_idx, 1], mp[motif_idx, 2], mp[motif_idx, 3]]\n",
    "                nearest_neighbor_idx.append((df[0], m, nn[0], nn[1], nn[2], df[1].loc[nn[0], 'date'], df[1].loc[nn[1], 'date'], df[1].loc[nn[2], 'date']))\n",
    "    \n",
    "    df = pd.DataFrame({'label' : [x[3] for x in mp_list],\n",
    "                  'window_size' : [x[1] for x in mp_list], \n",
    "                  'Flurnummer' : [x[0] for x in mp_list],\n",
    "                  'motif_idx' : [x[2] for x in motifs_idx],\n",
    "                  'motif_idx_date' : [x[3] for x in motifs_idx],\n",
    "                  'nearest_neighbor_idx_1' : [x[2] for x in nearest_neighbor_idx],\n",
    "                  'nearest_neighbor_idx_1_date' : [x[5] for x in nearest_neighbor_idx],\n",
    "                  'nearest_neighbor_idx_2' : [x[3] for x in nearest_neighbor_idx],\n",
    "                  'nearest_neighbor_idx_1_date' : [x[6] for x in nearest_neighbor_idx],\n",
    "                  'nearest_neighbor_idx_3' : [x[4] for x in nearest_neighbor_idx],\n",
    "                  'nearest_neighbor_idx_1_date' : [x[7] for x in nearest_neighbor_idx],\n",
    "                  'matrix_profile' : [x[2] for x in mp_list]\n",
    "                  })\n",
    "    return df\n",
    "                              \n",
    "motifs = find_motifs(dataframes = dfs, \n",
    "                     window_sizes = [3,4,5,6,7,8,9,10], \n",
    "                     columns = ['VV_scale', 'VH_scale', 'VV_grid', 'VH_grid', 'NDVI_scale', 'NDVI_grid'])"
   ]
  },
  {
   "cell_type": "code",
   "execution_count": null,
   "metadata": {
    "ExecuteTime": {
     "end_time": "2022-02-27T20:54:42.693686Z",
     "start_time": "2022-02-27T20:54:42.677704Z"
    }
   },
   "outputs": [],
   "source": [
    "motifs.drop_duplicates(['Flurnummer', 'motif_idx', 'nearest_neighbor_idx_1', 'nearest_neighbor_idx_2', 'nearest_neighbor_idx_3'])"
   ]
  },
  {
   "cell_type": "code",
   "execution_count": null,
   "metadata": {
    "ExecuteTime": {
     "end_time": "2022-02-27T20:58:41.507992Z",
     "start_time": "2022-02-27T20:58:41.487049Z"
    }
   },
   "outputs": [],
   "source": [
    "def minmax_norm(df_input):\n",
    "    return (df - df.min()) / ( df.max() - df.min())\n",
    "\n",
    "def mean_norm(df_input):\n",
    "    return df_input.apply(lambda x: (x-x.mean())/ x.std(), axis=0)\n",
    "\n",
    "def quantile_norm(df_input):\n",
    "    sorted_df = pd.DataFrame(np.sort(df_input.values,axis=0), index=df_input.index, columns=df_input.columns)\n",
    "    mean_df = sorted_df.mean(axis=1)\n",
    "    mean_df.index = np.arange(1, len(mean_df) + 1)\n",
    "    quantile_df =df_input.rank(method=\"min\").stack().astype(int).map(mean_df).unstack()\n",
    "    return(quantile_df)"
   ]
  },
  {
   "cell_type": "code",
   "execution_count": null,
   "metadata": {
    "ExecuteTime": {
     "end_time": "2022-02-27T21:32:38.004831Z",
     "start_time": "2022-02-27T21:32:37.691386Z"
    }
   },
   "outputs": [],
   "source": [
    "fig, axs = plt.subplots(2, sharex=True, gridspec_kw={'hspace': 0}, dpi=300)\n",
    "plt.suptitle('Motif (Pattern) Discovery ', fontsize='30')\n",
    "n_df = mean_norm(dfs[0][1][['VV_scale', 'VH_scale']])\n",
    "axs[0].plot(n_df['VV_scale'].values)\n",
    "axs[0].plot(n_df['VH_scale'].values)\n",
    "min_y = np.min([n_df['VV_scale'].values.min(), n_df['VV_scale'].values.min()])\n",
    "max_y = np.max([n_df['VH_scale'].values.max(), n_df['VH_scale'].values.max()])\n",
    "max_y = np.diff([min_y, max_y])\n",
    "axs[0].set_ylabel('  VV_scale', fontsize='20')\n",
    "m = motifs.loc[0, 'window_size']\n",
    "rect = Rectangle((motifs.loc[0, 'motif_idx'], min_y), m, max_y, facecolor='lightgrey', edgecolor='grey', alpha=.7)\n",
    "axs[0].add_patch(rect)\n",
    "rect = Rectangle((motifs.loc[0, 'nearest_neighbor_idx_1'], min_y), m, max_y, facecolor='lightblue', edgecolor='blue', alpha=.7)\n",
    "axs[0].add_patch(rect)\n",
    "rect = Rectangle((motifs.loc[0, 'nearest_neighbor_idx_2'], min_y), m, max_y, facecolor='lightyellow', edgecolor='yellow', alpha=.7)\n",
    "axs[0].add_patch(rect)\n",
    "rect = Rectangle((motifs.loc[0, 'nearest_neighbor_idx_3'], min_y), m, max_y, facecolor='lightgreen', edgecolor='green', alpha=.7)\n",
    "axs[0].add_patch(rect)\n",
    "\n",
    "axs[1].set_xlabel('Row Index [time]', fontsize ='20')\n",
    "axs[1].set_ylabel('Matrix Profile', fontsize='20')\n",
    "axs[1].axvline(x=motifs.loc[0, 'motif_idx'], linestyle=\"dashed\", color = 'grey' )\n",
    "axs[1].axvline(x=motifs.loc[0, 'nearest_neighbor_idx_1'], linestyle=\"dashed\", color = 'blue')\n",
    "axs[1].axvline(x=motifs.loc[0, 'nearest_neighbor_idx_2'], linestyle=\"dashed\", color = 'yellow')\n",
    "axs[1].axvline(x=motifs.loc[0, 'nearest_neighbor_idx_3'], linestyle=\"dashed\", color = 'green')\n",
    "\n",
    "axs[1].plot(motifs.loc[0, 'matrix_profile'][:, 0])\n",
    "\n",
    "plt.show()"
   ]
  }
 ],
 "metadata": {
  "kernelspec": {
   "display_name": "Python [conda env:stump]",
   "language": "python",
   "name": "conda-env-stump-py"
  },
  "language_info": {
   "codemirror_mode": {
    "name": "ipython",
    "version": 3
   },
   "file_extension": ".py",
   "mimetype": "text/x-python",
   "name": "python",
   "nbconvert_exporter": "python",
   "pygments_lexer": "ipython3",
   "version": "3.10.2"
  },
  "toc": {
   "base_numbering": 1,
   "nav_menu": {},
   "number_sections": true,
   "sideBar": true,
   "skip_h1_title": false,
   "title_cell": "Table of Contents",
   "title_sidebar": "Contents",
   "toc_cell": false,
   "toc_position": {},
   "toc_section_display": true,
   "toc_window_display": false
  },
  "varInspector": {
   "cols": {
    "lenName": 16,
    "lenType": 16,
    "lenVar": 40
   },
   "kernels_config": {
    "python": {
     "delete_cmd_postfix": "",
     "delete_cmd_prefix": "del ",
     "library": "var_list.py",
     "varRefreshCmd": "print(var_dic_list())"
    },
    "r": {
     "delete_cmd_postfix": ") ",
     "delete_cmd_prefix": "rm(",
     "library": "var_list.r",
     "varRefreshCmd": "cat(var_dic_list()) "
    }
   },
   "types_to_exclude": [
    "module",
    "function",
    "builtin_function_or_method",
    "instance",
    "_Feature"
   ],
   "window_display": false
  }
 },
 "nbformat": 4,
 "nbformat_minor": 2
}
