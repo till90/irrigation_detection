{
 "cells": [
  {
   "cell_type": "code",
   "execution_count": null,
   "metadata": {
    "ExecuteTime": {
     "end_time": "2022-01-15T09:50:34.648888Z",
     "start_time": "2022-01-15T09:43:30.343801Z"
    }
   },
   "outputs": [],
   "source": [
    "import sys\n",
    "!conda install -c conda --yes --prefix {sys.prefix} tensorflow"
   ]
  },
  {
   "cell_type": "code",
   "execution_count": 1,
   "metadata": {
    "ExecuteTime": {
     "end_time": "2022-02-02T08:45:43.750450Z",
     "start_time": "2022-02-02T08:45:39.375570Z"
    }
   },
   "outputs": [],
   "source": [
    "from glob import glob\n",
    "import datetime as dt\n",
    "import pandas as pd\n",
    "import geopandas as gpd\n",
    "from datetime import datetime\n",
    "import keras"
   ]
  },
  {
   "cell_type": "markdown",
   "metadata": {},
   "source": [
    "# Initialize Data"
   ]
  },
  {
   "cell_type": "code",
   "execution_count": 154,
   "metadata": {
    "ExecuteTime": {
     "end_time": "2022-02-02T11:18:35.317602Z",
     "start_time": "2022-02-02T11:18:18.120826Z"
    }
   },
   "outputs": [],
   "source": [
    "# Files with data\n",
    "paths = glob('C://Users/USER/Desktop/Master_Irrigation/03_GIS/ground_trouth/sentinel_ismn_data/*',)\n",
    "paths.sort()\n",
    "\n",
    "# Create Station id linked with filepath\n",
    "ids = [x.split('\\\\')[-1].split('_')[0] for x in paths]\n",
    "files = dict(zip(ids,paths))\n",
    "\n",
    "# Load all files into one Dataframe\n",
    "gdf = gpd.tools.util.pd.concat(map(gpd.read_file, paths), ignore_index=True)"
   ]
  },
  {
   "cell_type": "markdown",
   "metadata": {},
   "source": [
    "# Preprocessing"
   ]
  },
  {
   "cell_type": "code",
   "execution_count": 155,
   "metadata": {
    "ExecuteTime": {
     "end_time": "2022-02-02T11:18:36.703726Z",
     "start_time": "2022-02-02T11:18:36.130450Z"
    }
   },
   "outputs": [],
   "source": [
    "# Set type of date column to datetime object\n",
    "gdf.date = gdf.date.astype('datetime64[ns]')\n",
    "\n",
    "# Convert int to timedelta in days\n",
    "s2_timedelta = [dt.timedelta(days=x) for x in gdf.s2_distance]\n",
    "gdf.s2_distance = s2_timedelta\n",
    "\n",
    "#Remove uneseccary columns\n",
    "gdf.drop(labels = ['CloudMask'], axis = 1, inplace = True)\n",
    "\n",
    "# Clean Nan Values within subset columns (major variables to inspect)\n",
    "gdf.dropna(how='any', subset=['soil_moisture', 'VV'], inplace=True)\n",
    "\n",
    "# Drop lower and upper 1% of data to eliminate outliers\n",
    "gdf = gdf[gdf.soil_moisture.gt(gdf.soil_moisture.quantile(0.01)) & gdf.soil_moisture.lt(gdf.soil_moisture.quantile(0.99))]\n",
    "gdf = gdf[gdf.VV.gt(gdf.VV.quantile(0.01)) & gdf.VV.lt(gdf.VV.quantile(0.99))]\n",
    "#gdf = gdf[gdf.NDVI.gt(gdf.NDVI.quantile(0.01)) & gdf.NDVI.lt(gdf.NDVI.quantile(0.99))]\n",
    "\n",
    "# Remove rows where ndvi is older than 30days\n",
    "gdf = gdf[gdf.s2_distance.gt(dt.timedelta(days=-7)) & gdf.s2_distance.lt(dt.timedelta(days=7))]\n",
    "\n",
    "# Select only sm and vv meassurements where soil is not in frozen state\n"
   ]
  },
  {
   "cell_type": "code",
   "execution_count": 51,
   "metadata": {
    "ExecuteTime": {
     "end_time": "2022-02-02T09:24:07.140433Z",
     "start_time": "2022-02-02T09:24:07.124844Z"
    }
   },
   "outputs": [
    {
     "data": {
      "text/plain": [
       "23917"
      ]
     },
     "execution_count": 51,
     "metadata": {},
     "output_type": "execute_result"
    }
   ],
   "source": [
    "len(gdf)"
   ]
  },
  {
   "cell_type": "markdown",
   "metadata": {},
   "source": [
    "## Scale, Transform dataset according to regression"
   ]
  },
  {
   "cell_type": "code",
   "execution_count": 61,
   "metadata": {
    "ExecuteTime": {
     "end_time": "2022-02-02T09:29:41.738144Z",
     "start_time": "2022-02-02T09:29:41.716011Z"
    }
   },
   "outputs": [],
   "source": [
    "from sklearn.preprocessing import LabelBinarizer\n",
    "from sklearn.preprocessing import MinMaxScaler\n",
    "from sklearn.model_selection import train_test_split\n",
    "import seaborn as sns"
   ]
  },
  {
   "cell_type": "markdown",
   "metadata": {},
   "source": [
    "## One hot encoding"
   ]
  },
  {
   "cell_type": "code",
   "execution_count": 159,
   "metadata": {
    "ExecuteTime": {
     "end_time": "2022-02-02T11:19:33.323134Z",
     "start_time": "2022-02-02T11:19:33.311114Z"
    }
   },
   "outputs": [],
   "source": [
    "# Drop categorical data \n",
    "orbit = gdf.pop('orbit')\n",
    "platform = gdf.pop('platform')\n",
    "#soil_moisture_flag = gdf.pop('soil_moisture_flag')"
   ]
  },
  {
   "cell_type": "code",
   "execution_count": 162,
   "metadata": {
    "ExecuteTime": {
     "end_time": "2022-02-02T11:19:56.580032Z",
     "start_time": "2022-02-02T11:19:56.548782Z"
    }
   },
   "outputs": [],
   "source": [
    "gdf['ASCENDING'] = (orbit == 'ASCENDING')*1\n",
    "gdf['DESCENDING'] = (orbit == 'DESCENDING')*1\n",
    "\n",
    "gdf['Sentinel_A'] = (platform == 'A')*1\n",
    "gdf['Sentinel_B'] = (platform == 'B')*1\n",
    "\n",
    "#gdf['soil_moisture_flag'] = (orbit == 'A')*1\n",
    "#gdf['soil_moisture_flag'] = (orbit == 'B')*1"
   ]
  },
  {
   "cell_type": "code",
   "execution_count": 164,
   "metadata": {
    "ExecuteTime": {
     "end_time": "2022-02-02T12:43:26.593121Z",
     "start_time": "2022-02-02T12:43:26.555512Z"
    }
   },
   "outputs": [
    {
     "data": {
      "text/plain": [
       "Index(['ismn_id', 'date', 'VV', 'VH', 'angle', 'img_id', 'Aerosols', 'Blue',\n",
       "       'Green', 'Red', 'RedEdge1', 'RedEdge2', 'RedEdge3', 'RedEdge4', 'NIR',\n",
       "       'WaterVapor', 'Cirrus', 'SWIR1', 'SWIR2', 'NDVI', 'date_y',\n",
       "       's2_distance', 'soil_moisture', 'soil_moisture_flag',\n",
       "       'soil_moisture_orig_flag', 'geometry', 'ASCENDING', 'DESCENDING',\n",
       "       'Sentinel_A', 'Sentinel_B'],\n",
       "      dtype='object')"
      ]
     },
     "execution_count": 164,
     "metadata": {},
     "output_type": "execute_result"
    }
   ],
   "source": [
    "gdf.columns"
   ]
  },
  {
   "cell_type": "markdown",
   "metadata": {},
   "source": [
    "## Split data into train and test"
   ]
  },
  {
   "cell_type": "code",
   "execution_count": 88,
   "metadata": {
    "ExecuteTime": {
     "end_time": "2022-02-02T09:59:47.904271Z",
     "start_time": "2022-02-02T09:59:47.888644Z"
    }
   },
   "outputs": [],
   "source": [
    "df = pd.DataFrame(gdf[['VV', 'soil_moisture']]).reset_index(drop=True)\n",
    "train_df = df.sample(frac = 0.8, random_state=0)\n",
    "test_df = df.drop(train_df.index)"
   ]
  },
  {
   "cell_type": "code",
   "execution_count": 56,
   "metadata": {
    "ExecuteTime": {
     "end_time": "2022-02-02T09:29:12.773058Z",
     "start_time": "2022-02-02T09:29:11.835180Z"
    }
   },
   "outputs": [
    {
     "data": {
      "text/plain": [
       "<seaborn.axisgrid.PairGrid at 0x17a7eb798e0>"
      ]
     },
     "execution_count": 56,
     "metadata": {},
     "output_type": "execute_result"
    },
    {
     "data": {
      "image/png": "[encoded data removed]",
      "text/plain": [
       "<Figure size 360x360 with 6 Axes>"
      ]
     },
     "metadata": {
      "needs_background": "light"
     },
     "output_type": "display_data"
    }
   ],
   "source": [
    "sns.pairplot(train_df, diag_kind = 'kde')"
   ]
  },
  {
   "cell_type": "code",
   "execution_count": 89,
   "metadata": {
    "ExecuteTime": {
     "end_time": "2022-02-02T09:59:51.512514Z",
     "start_time": "2022-02-02T09:59:51.474741Z"
    }
   },
   "outputs": [
    {
     "data": {
      "text/html": [
       "<div>\n",
       "<style scoped>\n",
       "    .dataframe tbody tr th:only-of-type {\n",
       "        vertical-align: middle;\n",
       "    }\n",
       "\n",
       "    .dataframe tbody tr th {\n",
       "        vertical-align: top;\n",
       "    }\n",
       "\n",
       "    .dataframe thead th {\n",
       "        text-align: right;\n",
       "    }\n",
       "</style>\n",
       "<table border=\"1\" class=\"dataframe\">\n",
       "  <thead>\n",
       "    <tr style=\"text-align: right;\">\n",
       "      <th></th>\n",
       "      <th>count</th>\n",
       "      <th>mean</th>\n",
       "      <th>std</th>\n",
       "      <th>min</th>\n",
       "      <th>25%</th>\n",
       "      <th>50%</th>\n",
       "      <th>75%</th>\n",
       "      <th>max</th>\n",
       "    </tr>\n",
       "  </thead>\n",
       "  <tbody>\n",
       "    <tr>\n",
       "      <th>VV</th>\n",
       "      <td>19134.0</td>\n",
       "      <td>-11.760338</td>\n",
       "      <td>2.902429</td>\n",
       "      <td>-19.189174</td>\n",
       "      <td>-13.80853</td>\n",
       "      <td>-11.835246</td>\n",
       "      <td>-9.77512</td>\n",
       "      <td>-3.736842</td>\n",
       "    </tr>\n",
       "  </tbody>\n",
       "</table>\n",
       "</div>"
      ],
      "text/plain": [
       "      count       mean       std        min       25%        50%      75%  \\\n",
       "VV  19134.0 -11.760338  2.902429 -19.189174 -13.80853 -11.835246 -9.77512   \n",
       "\n",
       "         max  \n",
       "VV -3.736842  "
      ]
     },
     "execution_count": 89,
     "metadata": {},
     "output_type": "execute_result"
    }
   ],
   "source": [
    "train_stats = train_df.describe()\n",
    "train_stats.pop('soil_moisture')\n",
    "train_stats = train_stats.transpose()\n",
    "train_stats"
   ]
  },
  {
   "cell_type": "markdown",
   "metadata": {},
   "source": [
    "## Split features from labels"
   ]
  },
  {
   "cell_type": "code",
   "execution_count": 90,
   "metadata": {
    "ExecuteTime": {
     "end_time": "2022-02-02T09:59:59.061311Z",
     "start_time": "2022-02-02T09:59:59.045716Z"
    }
   },
   "outputs": [],
   "source": [
    "train_labels = train_df.pop('soil_moisture')\n",
    "test_labels = test_df.pop('soil_moisture')"
   ]
  },
  {
   "cell_type": "markdown",
   "metadata": {},
   "source": [
    "## Normalize data"
   ]
  },
  {
   "cell_type": "code",
   "execution_count": 62,
   "metadata": {
    "ExecuteTime": {
     "end_time": "2022-02-02T09:29:45.161656Z",
     "start_time": "2022-02-02T09:29:45.146259Z"
    }
   },
   "outputs": [],
   "source": [
    "csc = MinMaxScaler()\n",
    "lsc = LabelBinarizer()"
   ]
  },
  {
   "cell_type": "code",
   "execution_count": 92,
   "metadata": {
    "ExecuteTime": {
     "end_time": "2022-02-02T10:01:02.067507Z",
     "start_time": "2022-02-02T10:01:02.063511Z"
    }
   },
   "outputs": [],
   "source": [
    "def norm(x):\n",
    "    return (x - train_stats['mean']) / train_stats['std']"
   ]
  },
  {
   "cell_type": "code",
   "execution_count": 95,
   "metadata": {
    "ExecuteTime": {
     "end_time": "2022-02-02T10:01:28.662970Z",
     "start_time": "2022-02-02T10:01:28.646987Z"
    }
   },
   "outputs": [],
   "source": [
    "n_train_df = norm(train_df)\n",
    "n_test_df = norm(test_df)"
   ]
  },
  {
   "cell_type": "markdown",
   "metadata": {},
   "source": [
    "# The model"
   ]
  },
  {
   "cell_type": "markdown",
   "metadata": {
    "ExecuteTime": {
     "end_time": "2022-02-02T09:37:08.920570Z",
     "start_time": "2022-02-02T09:37:08.912580Z"
    }
   },
   "source": [
    "## Architecture"
   ]
  },
  {
   "cell_type": "code",
   "execution_count": 106,
   "metadata": {
    "ExecuteTime": {
     "end_time": "2022-02-02T10:11:03.989543Z",
     "start_time": "2022-02-02T10:11:03.973922Z"
    }
   },
   "outputs": [],
   "source": [
    "from tensorflow.keras.models import Sequential\n",
    "from tensorflow.keras import layers\n",
    "from tensorflow.nn import relu\n",
    "from tensorflow.keras.optimizers import RMSprop\n",
    "from keras.callbacks import Callback\n",
    "from tensorflow.keras.callbacks import EarlyStopping"
   ]
  },
  {
   "cell_type": "code",
   "execution_count": 16,
   "metadata": {
    "ExecuteTime": {
     "end_time": "2022-02-02T08:53:52.078233Z",
     "start_time": "2022-02-02T08:53:52.062254Z"
    }
   },
   "outputs": [],
   "source": []
  },
  {
   "cell_type": "code",
   "execution_count": 96,
   "metadata": {
    "ExecuteTime": {
     "end_time": "2022-02-02T10:01:35.590423Z",
     "start_time": "2022-02-02T10:01:35.582462Z"
    }
   },
   "outputs": [],
   "source": [
    "def build_model():\n",
    "    model = Sequential([\n",
    "        layers.Dense(64, activation=relu, input_shape=[len(n_train_df.keys())]), # densly (fully connected) hidden layer\n",
    "        layers.Dense(64, activation=relu), # denly hidden layer\n",
    "        layers.Dense(1) #output layer\n",
    "    ])\n",
    "    \n",
    "    optimizer = RMSprop(0.001)\n",
    "    \n",
    "    model.compile(\n",
    "        loss = 'mse', # mean sqared error\n",
    "        optimizer = optimizer,\n",
    "        metrics = ['mae', 'mse']) \n",
    "    \n",
    "    return model"
   ]
  },
  {
   "cell_type": "code",
   "execution_count": 97,
   "metadata": {
    "ExecuteTime": {
     "end_time": "2022-02-02T10:01:37.388344Z",
     "start_time": "2022-02-02T10:01:37.352343Z"
    }
   },
   "outputs": [],
   "source": [
    "model = build_model()"
   ]
  },
  {
   "cell_type": "markdown",
   "metadata": {},
   "source": [
    "## Inspect Model"
   ]
  },
  {
   "cell_type": "code",
   "execution_count": 99,
   "metadata": {
    "ExecuteTime": {
     "end_time": "2022-02-02T10:05:26.569625Z",
     "start_time": "2022-02-02T10:05:26.554234Z"
    }
   },
   "outputs": [
    {
     "name": "stdout",
     "output_type": "stream",
     "text": [
      "Model: \"sequential_20\"\n",
      "_________________________________________________________________\n",
      "Layer (type)                 Output Shape              Param #   \n",
      "=================================================================\n",
      "dense_40 (Dense)             (None, 64)                128       \n",
      "_________________________________________________________________\n",
      "dense_41 (Dense)             (None, 64)                4160      \n",
      "_________________________________________________________________\n",
      "dense_42 (Dense)             (None, 1)                 65        \n",
      "=================================================================\n",
      "Total params: 4,353\n",
      "Trainable params: 4,353\n",
      "Non-trainable params: 0\n",
      "_________________________________________________________________\n"
     ]
    }
   ],
   "source": [
    "model.summary()"
   ]
  },
  {
   "cell_type": "markdown",
   "metadata": {},
   "source": [
    "## Train the model"
   ]
  },
  {
   "cell_type": "code",
   "execution_count": 139,
   "metadata": {
    "ExecuteTime": {
     "end_time": "2022-02-02T10:36:56.944933Z",
     "start_time": "2022-02-02T10:36:56.936943Z"
    }
   },
   "outputs": [],
   "source": [
    "# Callbacks\n",
    "class Calls(Callback):\n",
    "    #Print dot every epoch while training\n",
    "    def on_epoch_end(self, epoch, logs):\n",
    "        if epoch % 100 == 0: print('')\n",
    "        print('.', end='')\n",
    "    \n",
    "# stop the training when there is no improvement in the loss for three consecutive epochs.\n",
    "stop_improving = EarlyStopping(monitor='val_loss', patience=10)\n",
    "        \n",
    "\n"
   ]
  },
  {
   "cell_type": "code",
   "execution_count": 140,
   "metadata": {
    "ExecuteTime": {
     "end_time": "2022-02-02T10:37:09.096891Z",
     "start_time": "2022-02-02T10:36:59.793026Z"
    }
   },
   "outputs": [
    {
     "name": "stdout",
     "output_type": "stream",
     "text": [
      "\n",
      "............................."
     ]
    }
   ],
   "source": [
    "EPOCHS = 1000\n",
    "\n",
    "history = model.fit(\n",
    "    x = n_train_df,\n",
    "    y = train_labels,\n",
    "    epochs = EPOCHS,\n",
    "    validation_split = 0.2, \n",
    "    verbose = 0,\n",
    "    callbacks = [Calls(), stop_improving])"
   ]
  },
  {
   "cell_type": "code",
   "execution_count": 141,
   "metadata": {
    "ExecuteTime": {
     "end_time": "2022-02-02T10:37:12.344532Z",
     "start_time": "2022-02-02T10:37:12.320592Z"
    }
   },
   "outputs": [
    {
     "data": {
      "text/html": [
       "<div>\n",
       "<style scoped>\n",
       "    .dataframe tbody tr th:only-of-type {\n",
       "        vertical-align: middle;\n",
       "    }\n",
       "\n",
       "    .dataframe tbody tr th {\n",
       "        vertical-align: top;\n",
       "    }\n",
       "\n",
       "    .dataframe thead th {\n",
       "        text-align: right;\n",
       "    }\n",
       "</style>\n",
       "<table border=\"1\" class=\"dataframe\">\n",
       "  <thead>\n",
       "    <tr style=\"text-align: right;\">\n",
       "      <th></th>\n",
       "      <th>loss</th>\n",
       "      <th>mae</th>\n",
       "      <th>mse</th>\n",
       "      <th>val_loss</th>\n",
       "      <th>val_mae</th>\n",
       "      <th>val_mse</th>\n",
       "      <th>epoch</th>\n",
       "    </tr>\n",
       "  </thead>\n",
       "  <tbody>\n",
       "    <tr>\n",
       "      <th>0</th>\n",
       "      <td>0.006676</td>\n",
       "      <td>0.065318</td>\n",
       "      <td>0.006676</td>\n",
       "      <td>0.006634</td>\n",
       "      <td>0.065050</td>\n",
       "      <td>0.006634</td>\n",
       "      <td>0</td>\n",
       "    </tr>\n",
       "    <tr>\n",
       "      <th>1</th>\n",
       "      <td>0.006678</td>\n",
       "      <td>0.065333</td>\n",
       "      <td>0.006678</td>\n",
       "      <td>0.006646</td>\n",
       "      <td>0.064945</td>\n",
       "      <td>0.006646</td>\n",
       "      <td>1</td>\n",
       "    </tr>\n",
       "    <tr>\n",
       "      <th>2</th>\n",
       "      <td>0.006681</td>\n",
       "      <td>0.065306</td>\n",
       "      <td>0.006681</td>\n",
       "      <td>0.006635</td>\n",
       "      <td>0.065005</td>\n",
       "      <td>0.006635</td>\n",
       "      <td>2</td>\n",
       "    </tr>\n",
       "    <tr>\n",
       "      <th>3</th>\n",
       "      <td>0.006677</td>\n",
       "      <td>0.065338</td>\n",
       "      <td>0.006677</td>\n",
       "      <td>0.006634</td>\n",
       "      <td>0.065179</td>\n",
       "      <td>0.006634</td>\n",
       "      <td>3</td>\n",
       "    </tr>\n",
       "    <tr>\n",
       "      <th>4</th>\n",
       "      <td>0.006680</td>\n",
       "      <td>0.065352</td>\n",
       "      <td>0.006680</td>\n",
       "      <td>0.006657</td>\n",
       "      <td>0.065445</td>\n",
       "      <td>0.006657</td>\n",
       "      <td>4</td>\n",
       "    </tr>\n",
       "    <tr>\n",
       "      <th>5</th>\n",
       "      <td>0.006679</td>\n",
       "      <td>0.065317</td>\n",
       "      <td>0.006679</td>\n",
       "      <td>0.006636</td>\n",
       "      <td>0.065070</td>\n",
       "      <td>0.006636</td>\n",
       "      <td>5</td>\n",
       "    </tr>\n",
       "    <tr>\n",
       "      <th>6</th>\n",
       "      <td>0.006681</td>\n",
       "      <td>0.065382</td>\n",
       "      <td>0.006681</td>\n",
       "      <td>0.006634</td>\n",
       "      <td>0.065006</td>\n",
       "      <td>0.006634</td>\n",
       "      <td>6</td>\n",
       "    </tr>\n",
       "    <tr>\n",
       "      <th>7</th>\n",
       "      <td>0.006681</td>\n",
       "      <td>0.065362</td>\n",
       "      <td>0.006681</td>\n",
       "      <td>0.006655</td>\n",
       "      <td>0.065453</td>\n",
       "      <td>0.006655</td>\n",
       "      <td>7</td>\n",
       "    </tr>\n",
       "    <tr>\n",
       "      <th>8</th>\n",
       "      <td>0.006677</td>\n",
       "      <td>0.065359</td>\n",
       "      <td>0.006677</td>\n",
       "      <td>0.006635</td>\n",
       "      <td>0.065071</td>\n",
       "      <td>0.006635</td>\n",
       "      <td>8</td>\n",
       "    </tr>\n",
       "    <tr>\n",
       "      <th>9</th>\n",
       "      <td>0.006678</td>\n",
       "      <td>0.065340</td>\n",
       "      <td>0.006678</td>\n",
       "      <td>0.006632</td>\n",
       "      <td>0.065055</td>\n",
       "      <td>0.006632</td>\n",
       "      <td>9</td>\n",
       "    </tr>\n",
       "    <tr>\n",
       "      <th>10</th>\n",
       "      <td>0.006680</td>\n",
       "      <td>0.065332</td>\n",
       "      <td>0.006680</td>\n",
       "      <td>0.006637</td>\n",
       "      <td>0.065108</td>\n",
       "      <td>0.006637</td>\n",
       "      <td>10</td>\n",
       "    </tr>\n",
       "    <tr>\n",
       "      <th>11</th>\n",
       "      <td>0.006676</td>\n",
       "      <td>0.065319</td>\n",
       "      <td>0.006676</td>\n",
       "      <td>0.006653</td>\n",
       "      <td>0.065396</td>\n",
       "      <td>0.006653</td>\n",
       "      <td>11</td>\n",
       "    </tr>\n",
       "    <tr>\n",
       "      <th>12</th>\n",
       "      <td>0.006676</td>\n",
       "      <td>0.065335</td>\n",
       "      <td>0.006676</td>\n",
       "      <td>0.006671</td>\n",
       "      <td>0.065570</td>\n",
       "      <td>0.006671</td>\n",
       "      <td>12</td>\n",
       "    </tr>\n",
       "    <tr>\n",
       "      <th>13</th>\n",
       "      <td>0.006678</td>\n",
       "      <td>0.065339</td>\n",
       "      <td>0.006678</td>\n",
       "      <td>0.006634</td>\n",
       "      <td>0.065014</td>\n",
       "      <td>0.006634</td>\n",
       "      <td>13</td>\n",
       "    </tr>\n",
       "    <tr>\n",
       "      <th>14</th>\n",
       "      <td>0.006678</td>\n",
       "      <td>0.065343</td>\n",
       "      <td>0.006678</td>\n",
       "      <td>0.006651</td>\n",
       "      <td>0.065394</td>\n",
       "      <td>0.006651</td>\n",
       "      <td>14</td>\n",
       "    </tr>\n",
       "    <tr>\n",
       "      <th>15</th>\n",
       "      <td>0.006675</td>\n",
       "      <td>0.065348</td>\n",
       "      <td>0.006675</td>\n",
       "      <td>0.006633</td>\n",
       "      <td>0.065113</td>\n",
       "      <td>0.006633</td>\n",
       "      <td>15</td>\n",
       "    </tr>\n",
       "    <tr>\n",
       "      <th>16</th>\n",
       "      <td>0.006680</td>\n",
       "      <td>0.065326</td>\n",
       "      <td>0.006680</td>\n",
       "      <td>0.006633</td>\n",
       "      <td>0.065035</td>\n",
       "      <td>0.006633</td>\n",
       "      <td>16</td>\n",
       "    </tr>\n",
       "    <tr>\n",
       "      <th>17</th>\n",
       "      <td>0.006680</td>\n",
       "      <td>0.065343</td>\n",
       "      <td>0.006680</td>\n",
       "      <td>0.006645</td>\n",
       "      <td>0.065304</td>\n",
       "      <td>0.006645</td>\n",
       "      <td>17</td>\n",
       "    </tr>\n",
       "    <tr>\n",
       "      <th>18</th>\n",
       "      <td>0.006679</td>\n",
       "      <td>0.065352</td>\n",
       "      <td>0.006679</td>\n",
       "      <td>0.006632</td>\n",
       "      <td>0.065111</td>\n",
       "      <td>0.006632</td>\n",
       "      <td>18</td>\n",
       "    </tr>\n",
       "    <tr>\n",
       "      <th>19</th>\n",
       "      <td>0.006679</td>\n",
       "      <td>0.065341</td>\n",
       "      <td>0.006679</td>\n",
       "      <td>0.006640</td>\n",
       "      <td>0.065286</td>\n",
       "      <td>0.006640</td>\n",
       "      <td>19</td>\n",
       "    </tr>\n",
       "    <tr>\n",
       "      <th>20</th>\n",
       "      <td>0.006683</td>\n",
       "      <td>0.065356</td>\n",
       "      <td>0.006683</td>\n",
       "      <td>0.006667</td>\n",
       "      <td>0.065569</td>\n",
       "      <td>0.006667</td>\n",
       "      <td>20</td>\n",
       "    </tr>\n",
       "    <tr>\n",
       "      <th>21</th>\n",
       "      <td>0.006679</td>\n",
       "      <td>0.065358</td>\n",
       "      <td>0.006679</td>\n",
       "      <td>0.006639</td>\n",
       "      <td>0.064957</td>\n",
       "      <td>0.006639</td>\n",
       "      <td>21</td>\n",
       "    </tr>\n",
       "    <tr>\n",
       "      <th>22</th>\n",
       "      <td>0.006680</td>\n",
       "      <td>0.065324</td>\n",
       "      <td>0.006680</td>\n",
       "      <td>0.006635</td>\n",
       "      <td>0.065152</td>\n",
       "      <td>0.006635</td>\n",
       "      <td>22</td>\n",
       "    </tr>\n",
       "    <tr>\n",
       "      <th>23</th>\n",
       "      <td>0.006679</td>\n",
       "      <td>0.065372</td>\n",
       "      <td>0.006679</td>\n",
       "      <td>0.006635</td>\n",
       "      <td>0.064996</td>\n",
       "      <td>0.006635</td>\n",
       "      <td>23</td>\n",
       "    </tr>\n",
       "    <tr>\n",
       "      <th>24</th>\n",
       "      <td>0.006674</td>\n",
       "      <td>0.065322</td>\n",
       "      <td>0.006674</td>\n",
       "      <td>0.006635</td>\n",
       "      <td>0.065118</td>\n",
       "      <td>0.006635</td>\n",
       "      <td>24</td>\n",
       "    </tr>\n",
       "    <tr>\n",
       "      <th>25</th>\n",
       "      <td>0.006672</td>\n",
       "      <td>0.065304</td>\n",
       "      <td>0.006672</td>\n",
       "      <td>0.006654</td>\n",
       "      <td>0.064959</td>\n",
       "      <td>0.006654</td>\n",
       "      <td>25</td>\n",
       "    </tr>\n",
       "    <tr>\n",
       "      <th>26</th>\n",
       "      <td>0.006678</td>\n",
       "      <td>0.065354</td>\n",
       "      <td>0.006678</td>\n",
       "      <td>0.006642</td>\n",
       "      <td>0.065300</td>\n",
       "      <td>0.006642</td>\n",
       "      <td>26</td>\n",
       "    </tr>\n",
       "    <tr>\n",
       "      <th>27</th>\n",
       "      <td>0.006678</td>\n",
       "      <td>0.065351</td>\n",
       "      <td>0.006678</td>\n",
       "      <td>0.006649</td>\n",
       "      <td>0.065315</td>\n",
       "      <td>0.006649</td>\n",
       "      <td>27</td>\n",
       "    </tr>\n",
       "    <tr>\n",
       "      <th>28</th>\n",
       "      <td>0.006676</td>\n",
       "      <td>0.065342</td>\n",
       "      <td>0.006676</td>\n",
       "      <td>0.006638</td>\n",
       "      <td>0.064996</td>\n",
       "      <td>0.006638</td>\n",
       "      <td>28</td>\n",
       "    </tr>\n",
       "  </tbody>\n",
       "</table>\n",
       "</div>"
      ],
      "text/plain": [
       "        loss       mae       mse  val_loss   val_mae   val_mse  epoch\n",
       "0   0.006676  0.065318  0.006676  0.006634  0.065050  0.006634      0\n",
       "1   0.006678  0.065333  0.006678  0.006646  0.064945  0.006646      1\n",
       "2   0.006681  0.065306  0.006681  0.006635  0.065005  0.006635      2\n",
       "3   0.006677  0.065338  0.006677  0.006634  0.065179  0.006634      3\n",
       "4   0.006680  0.065352  0.006680  0.006657  0.065445  0.006657      4\n",
       "5   0.006679  0.065317  0.006679  0.006636  0.065070  0.006636      5\n",
       "6   0.006681  0.065382  0.006681  0.006634  0.065006  0.006634      6\n",
       "7   0.006681  0.065362  0.006681  0.006655  0.065453  0.006655      7\n",
       "8   0.006677  0.065359  0.006677  0.006635  0.065071  0.006635      8\n",
       "9   0.006678  0.065340  0.006678  0.006632  0.065055  0.006632      9\n",
       "10  0.006680  0.065332  0.006680  0.006637  0.065108  0.006637     10\n",
       "11  0.006676  0.065319  0.006676  0.006653  0.065396  0.006653     11\n",
       "12  0.006676  0.065335  0.006676  0.006671  0.065570  0.006671     12\n",
       "13  0.006678  0.065339  0.006678  0.006634  0.065014  0.006634     13\n",
       "14  0.006678  0.065343  0.006678  0.006651  0.065394  0.006651     14\n",
       "15  0.006675  0.065348  0.006675  0.006633  0.065113  0.006633     15\n",
       "16  0.006680  0.065326  0.006680  0.006633  0.065035  0.006633     16\n",
       "17  0.006680  0.065343  0.006680  0.006645  0.065304  0.006645     17\n",
       "18  0.006679  0.065352  0.006679  0.006632  0.065111  0.006632     18\n",
       "19  0.006679  0.065341  0.006679  0.006640  0.065286  0.006640     19\n",
       "20  0.006683  0.065356  0.006683  0.006667  0.065569  0.006667     20\n",
       "21  0.006679  0.065358  0.006679  0.006639  0.064957  0.006639     21\n",
       "22  0.006680  0.065324  0.006680  0.006635  0.065152  0.006635     22\n",
       "23  0.006679  0.065372  0.006679  0.006635  0.064996  0.006635     23\n",
       "24  0.006674  0.065322  0.006674  0.006635  0.065118  0.006635     24\n",
       "25  0.006672  0.065304  0.006672  0.006654  0.064959  0.006654     25\n",
       "26  0.006678  0.065354  0.006678  0.006642  0.065300  0.006642     26\n",
       "27  0.006678  0.065351  0.006678  0.006649  0.065315  0.006649     27\n",
       "28  0.006676  0.065342  0.006676  0.006638  0.064996  0.006638     28"
      ]
     },
     "execution_count": 141,
     "metadata": {},
     "output_type": "execute_result"
    }
   ],
   "source": [
    "hist = pd.DataFrame(history.history)\n",
    "hist['epoch'] = history.epoch\n",
    "hist"
   ]
  },
  {
   "cell_type": "code",
   "execution_count": 142,
   "metadata": {
    "ExecuteTime": {
     "end_time": "2022-02-02T10:37:15.719165Z",
     "start_time": "2022-02-02T10:37:15.441520Z"
    }
   },
   "outputs": [
    {
     "data": {
      "image/png": "[encoded data removed]",
      "text/plain": [
       "<Figure size 432x288 with 1 Axes>"
      ]
     },
     "metadata": {
      "needs_background": "light"
     },
     "output_type": "display_data"
    },
    {
     "data": {
      "image/png": "[encoded data removed]",
      "text/plain": [
       "<Figure size 432x288 with 1 Axes>"
      ]
     },
     "metadata": {
      "needs_background": "light"
     },
     "output_type": "display_data"
    }
   ],
   "source": [
    "import matplotlib.pyplot as plt\n",
    "\n",
    "def plot_history(hitsory):\n",
    "    hist = pd.DataFrame(history.history)\n",
    "    hist['epoch'] = history.epoch\n",
    "    \n",
    "    plt.figure()\n",
    "    plt.xlabel('Epoch')\n",
    "    plt.ylabel('Mean Abs Error [MPG]')\n",
    "    plt.plot(hist['epoch'], hist['mae'],\n",
    "            label = 'Train Error')\n",
    "    plt.plot(hist['epoch'], hist['val_mae'],\n",
    "            label = 'Val Error')\n",
    "    plt.legend()\n",
    "    plt.ylim([0,hist['mae'].max() + hist['mae'].max() * 0.5])\n",
    "    \n",
    "    plt.figure()\n",
    "    plt.xlabel('Epoch')\n",
    "    plt.ylabel('Mean Square Error [$MPG^2$]')\n",
    "    plt.plot(hist['epoch'], hist['mse'],\n",
    "            label = 'Train Error')\n",
    "    plt.plot(hist['epoch'], hist['val_mse'],\n",
    "            label = 'Val Error')\n",
    "    plt.legend()\n",
    "    plt.ylim([0,hist['mse'].max() + hist['mse'].max() * 0.5])\n",
    "\n",
    "plot_history(history)"
   ]
  },
  {
   "cell_type": "code",
   "execution_count": 143,
   "metadata": {
    "ExecuteTime": {
     "end_time": "2022-02-02T10:39:19.826330Z",
     "start_time": "2022-02-02T10:39:19.676316Z"
    }
   },
   "outputs": [
    {
     "name": "stdout",
     "output_type": "stream",
     "text": [
      "Testing set Mean Abs Error:  0.06 m^3/m^3\n"
     ]
    }
   ],
   "source": [
    "loss, mae, mse = model.evaluate(n_test_df, test_labels, verbose = 0)\n",
    "print(\"Testing set Mean Abs Error: {:5.2f} m^3/m^3\".format(mae))"
   ]
  },
  {
   "cell_type": "markdown",
   "metadata": {},
   "source": [
    "## Make Predictions"
   ]
  },
  {
   "cell_type": "code",
   "execution_count": 147,
   "metadata": {
    "ExecuteTime": {
     "end_time": "2022-02-02T10:43:54.288709Z",
     "start_time": "2022-02-02T10:43:54.038389Z"
    }
   },
   "outputs": [
    {
     "data": {
      "image/png": "[encoded data removed]",
      "text/plain": [
       "<Figure size 432x288 with 1 Axes>"
      ]
     },
     "metadata": {
      "needs_background": "light"
     },
     "output_type": "display_data"
    }
   ],
   "source": [
    "test_predictions = model.predict(n_test_ds).flatten()\n",
    "\n",
    "plt.scatter(test_labels, test_predictions)\n",
    "plt.xlabel('True Values m^3/m^3')\n",
    "plt.ylabel('Predictions m^3/m^3')\n",
    "plt.axis('equal')\n",
    "plt.axis('square')\n",
    "plt.xlim([0,plt.xlim()[1]])\n",
    "plt.ylim([0,plt.ylim()[1]])\n",
    "_ = plt.plot([-100,100], [-100,100])"
   ]
  },
  {
   "cell_type": "code",
   "execution_count": 148,
   "metadata": {
    "ExecuteTime": {
     "end_time": "2022-02-02T10:46:21.338346Z",
     "start_time": "2022-02-02T10:46:21.185620Z"
    }
   },
   "outputs": [
    {
     "data": {
      "image/png": "[encoded data removed]",
      "text/plain": [
       "<Figure size 432x288 with 1 Axes>"
      ]
     },
     "metadata": {
      "needs_background": "light"
     },
     "output_type": "display_data"
    }
   ],
   "source": [
    "error = test_predictions - test_labels\n",
    "plt.hist(error, bins=25)\n",
    "plt.xlabel('Prediction Error m^3/m^3')\n",
    "_ = plt.ylabel('Count')"
   ]
  },
  {
   "cell_type": "markdown",
   "metadata": {},
   "source": [
    "## First Try: 2 Feature [sm, vv] / No Seperation between different Paramters "
   ]
  },
  {
   "cell_type": "code",
   "execution_count": 7,
   "metadata": {
    "ExecuteTime": {
     "end_time": "2022-02-02T08:47:26.819082Z",
     "start_time": "2022-02-02T08:47:26.799000Z"
    }
   },
   "outputs": [],
   "source": [
    "X = gdf['VV'].reset_index(drop=True).iloc[0:100]\n",
    "Y = gdf['soil_moisture'].reset_index(drop=True).iloc[0:100]"
   ]
  },
  {
   "cell_type": "code",
   "execution_count": 11,
   "metadata": {
    "ExecuteTime": {
     "end_time": "2022-02-02T08:49:32.073109Z",
     "start_time": "2022-02-02T08:49:15.007908Z"
    }
   },
   "outputs": [
    {
     "name": "stdout",
     "output_type": "stream",
     "text": [
      "Baseline: -0.01 (0.00) MSE\n",
      "Baseline: -0.00545312357135117%.2f (0.004011123769375037%.2f) MSE\n"
     ]
    }
   ],
   "source": [
    "# Evaluate Model\n",
    "estimator = KerasRegressor(\n",
    "    build_fn = baseline_model,\n",
    "    epochs = 100, \n",
    "    batch_size = 5,\n",
    "    verbose = 0)\n",
    "kfold = KFold(n_splits = 10) #10-fold cross validation to evaluate the model\n",
    "results = cross_val_score(estimator, X, Y, cv=kfold)\n",
    "print(\"Baseline: %.2f (%.2f) MSE\" % (results.mean(), results.std()))\n",
    "print(f\"Baseline: {results.mean()}%.2f ({results.std()}%.2f) MSE\")"
   ]
  },
  {
   "cell_type": "code",
   "execution_count": null,
   "metadata": {
    "ExecuteTime": {
     "end_time": "2022-02-01T12:44:24.665132Z",
     "start_time": "2022-02-01T12:44:24.644994Z"
    }
   },
   "outputs": [],
   "source": [
    "features = ['VV', 'soil_moisture']\n",
    "df = gdf[features].reset_index(drop=True)\n",
    "sc_data = csc.fit_transform(df)\n",
    "X_train, X_test, y_train, y_test = train_test_split(sc_data[:,0],sc_data[:,1], test_size=0.25, random_state = 42, shuffle=False, stratify=None)"
   ]
  },
  {
   "cell_type": "code",
   "execution_count": null,
   "metadata": {
    "ExecuteTime": {
     "end_time": "2022-02-01T12:47:58.610286Z",
     "start_time": "2022-02-01T12:47:58.580300Z"
    }
   },
   "outputs": [],
   "source": [
    "model = models.create_mlp(X_train, regress=True)\n",
    "opt = Adam(lr=1e-3, decay=1e-3 / 200)\n",
    "model.compile(loss='mean_absolute_percentage_error', optimizer=opt)\n",
    "\n",
    "# Train the model\n",
    "model.fit(\n",
    "    x = X_train,\n",
    "    y = y_train,\n",
    "    validation_data = (X_test, y_test),\n",
    "    epoches = 200,\n",
    "    batch_size = 8\n",
    "    )"
   ]
  },
  {
   "cell_type": "code",
   "execution_count": null,
   "metadata": {
    "ExecuteTime": {
     "end_time": "2022-02-01T11:35:54.228346Z",
     "start_time": "2022-02-01T11:35:54.212368Z"
    }
   },
   "outputs": [],
   "source": [
    "def prep_scaling(df, modus, features):\n",
    "    \"\"\"\n",
    "    Arguments: modus ['MinMax', 'LabelBinarizer']\n",
    "    \"\"\"\n",
    "    # Import modlues\n",
    "    from sklearn.preprocessing import LabelBinarizer\n",
    "    from sklearn.preprocessing import MinMaxScaler\n",
    "    \n",
    "    # Initialize Scaler ?What is with negative numbers?\n",
    "    if modus == 'MinMax':\n",
    "        cs = MinMaxScaler()\n",
    "    elif modus == 'LabelBinarizer':\n",
    "        cs = LabelBinarizer()\n",
    "    \n",
    "    return cs.fit_transform(df[columns])"
   ]
  },
  {
   "cell_type": "code",
   "execution_count": null,
   "metadata": {},
   "outputs": [],
   "source": [
    "data_1 = prep_scaling(\n",
    "    df = gdf,\n",
    "    modus = 'MinMax',\n",
    "    columns = ['VV', 'soil_moisture'],\n",
    "    )\n",
    "data_1 sklearn.model_selection.train_test_split"
   ]
  },
  {
   "cell_type": "code",
   "execution_count": null,
   "metadata": {
    "ExecuteTime": {
     "end_time": "2022-02-01T11:31:01.723073Z",
     "start_time": "2022-02-01T11:31:01.707126Z"
    }
   },
   "outputs": [],
   "source": [
    "df_1 = gdf[['soil_moisture', 'VV']].reset_index(drop=True) #2 Feature Selection\n",
    "\n",
    "\n",
    "x = gdf.VV.reset_index(drop=True) # Sentinel 1 GRD VV Backscatter Coefficient\n",
    "y = gdf.soil_moisture.reset_index(drop=True) # Soil Moisture\n",
    "\n"
   ]
  },
  {
   "cell_type": "code",
   "execution_count": null,
   "metadata": {
    "ExecuteTime": {
     "end_time": "2022-01-15T10:44:57.822928Z",
     "start_time": "2022-01-15T10:44:57.355931Z"
    }
   },
   "outputs": [],
   "source": [
    "data = gpd.read_file(ismn_path + '\\ismn_ts_vv_sm_01.json')\n",
    "data['date'] = pd.to_datetime(data.date)"
   ]
  },
  {
   "cell_type": "code",
   "execution_count": null,
   "metadata": {
    "ExecuteTime": {
     "end_time": "2022-01-13T10:00:17.852554Z",
     "start_time": "2022-01-13T10:00:17.552347Z"
    }
   },
   "outputs": [],
   "source": [
    "ms1_x, ms1_y, ms2_x, ms2_y, as1_x, as1_y, as2_x, as2_y = list(), list(),list(),list(),list(),list(),list(),list()\n",
    "\n",
    "for station in data.station.unique():\n",
    "    for year in data.date.dt.year.unique():\n",
    "        time_series = data[(data['station'] == station ) & (data['date'].dt.year == year) & (data['date'].dt.month.isin([3,4,5,6,7,8,9]))]\n",
    "        #Sentinel A Ascending \n",
    "        ms1_x.append(time_series[(time_series['sentinel'] == 'A') & (time_series['orbit_direction'] == 'ASCENDING')]['VV'])\n",
    "        ms1_y.append(time_series[(time_series['sentinel'] == 'A') & (time_series['orbit_direction'] == 'ASCENDING')][['angle', 'soil_moisture']])\n",
    "        # Sentinel B Ascending\n",
    "        ms2_x.append(time_series[(time_series['sentinel'] == 'B') & (time_series['orbit_direction'] == 'ASCENDING')]['VV'])\n",
    "        ms2_y.append(time_series[(time_series['sentinel'] == 'B') & (time_series['orbit_direction'] == 'ASCENDING')][['angle', 'soil_moisture']])\n",
    "        # Sentinel A Descending\n",
    "        as1_x.append(time_series[(time_series['sentinel'] == 'A') & (time_series['orbit_direction'] == 'DESCENDING')]['VV'])\n",
    "        as1_y.append(time_series[(time_series['sentinel'] == 'A') & (time_series['orbit_direction'] == 'DESCENDING')][['angle', 'soil_moisture']])\n",
    "        # Sentinel B Descending\n",
    "        as2_x.append(time_series[(time_series['sentinel'] == 'B') & (time_series['orbit_direction'] == 'DESCENDING')]['VV'])\n",
    "        as2_y.append(time_series[(time_series['sentinel'] == 'B') & (time_series['orbit_direction'] == 'DESCENDING')][['angle', 'soil_moisture']])\n"
   ]
  },
  {
   "cell_type": "markdown",
   "metadata": {},
   "source": []
  },
  {
   "cell_type": "markdown",
   "metadata": {},
   "source": [
    "## Download Sentinel-1 Metadata"
   ]
  },
  {
   "cell_type": "code",
   "execution_count": null,
   "metadata": {
    "ExecuteTime": {
     "end_time": "2022-01-12T09:54:47.484024Z",
     "start_time": "2022-01-12T09:54:47.467990Z"
    }
   },
   "outputs": [],
   "source": [
    "def get_s1_metadata(filename):\n",
    "    from sentinelsat import SentinelAPI, read_geojson, geojson_to_wkt\n",
    "    # connect to the API\n",
    "    api = SentinelAPI('till90', '201184Till', 'https://scihub.copernicus.eu/dhus')\n",
    "    # Query Metadata by filename\n",
    "    products = api.query(filename = f'{filename}*')\n",
    "    return api.to_dataframe(products)"
   ]
  },
  {
   "cell_type": "code",
   "execution_count": null,
   "metadata": {
    "ExecuteTime": {
     "end_time": "2022-01-12T10:02:35.970903Z",
     "start_time": "2022-01-12T10:02:35.786067Z"
    }
   },
   "outputs": [],
   "source": [
    "get_s1_metadata('S1A_IW_GRDH_1SDV_20150104T051921_20150104T051946_004017_004D70_3611').orbitdirection.values[0]"
   ]
  },
  {
   "cell_type": "markdown",
   "metadata": {},
   "source": [
    "## Data to train the CNN"
   ]
  },
  {
   "cell_type": "markdown",
   "metadata": {},
   "source": [
    "### ismn in-situ soil moisture"
   ]
  },
  {
   "cell_type": "code",
   "execution_count": null,
   "metadata": {
    "ExecuteTime": {
     "end_time": "2022-01-15T10:44:53.994699Z",
     "start_time": "2022-01-15T10:44:53.990706Z"
    }
   },
   "outputs": [],
   "source": [
    "#path to single json files per station\n",
    "ismn_path = r'C:\\Users\\USER\\Desktop\\Master_Irrigation\\03_GIS\\ground_trouth\\ismn_archieve\\time_series'\n",
    "files = glob(ismn_path + '\\*')"
   ]
  },
  {
   "cell_type": "code",
   "execution_count": null,
   "metadata": {
    "ExecuteTime": {
     "end_time": "2022-01-12T11:28:47.022480Z",
     "start_time": "2022-01-12T11:28:47.007089Z"
    }
   },
   "outputs": [],
   "source": [
    "files = files[:-1]"
   ]
  },
  {
   "cell_type": "code",
   "execution_count": null,
   "metadata": {
    "ExecuteTime": {
     "end_time": "2022-01-12T11:28:54.073849Z",
     "start_time": "2022-01-12T11:28:53.735124Z"
    }
   },
   "outputs": [],
   "source": [
    "#load time series in pandas\n",
    "ts_ismn_sm = [pd.read_json(x) for x in files]\n",
    "# Get coords from filename\n",
    "coords = [x.split('\\\\')[-1].split('_')[1:3] for x in files]\n",
    "# Create GeoDataFrame for every time series with geometry from filename \n",
    "ts_ismn_sm_gdf = [gpd.GeoDataFrame(data = ts_ismn_sm[x], geometry=gpd.points_from_xy(x = np.repeat(coords[x][1], len(ts_ismn_sm[x])), y = np.repeat(coords[x][0], len(ts_ismn_sm[x])))) for x in range(0,len(files))]\n",
    "# Concat all gdf to one geodataframe\n",
    "ts_ismn = gpd.tools.util.pd.concat(ts_ismn_sm_gdf)"
   ]
  },
  {
   "cell_type": "code",
   "execution_count": null,
   "metadata": {
    "ExecuteTime": {
     "end_time": "2022-01-11T19:42:33.003083Z",
     "start_time": "2022-01-11T19:42:32.987679Z"
    }
   },
   "outputs": [],
   "source": [
    "coords"
   ]
  },
  {
   "cell_type": "code",
   "execution_count": null,
   "metadata": {
    "ExecuteTime": {
     "end_time": "2021-12-30T15:04:16.014727Z",
     "start_time": "2021-12-30T15:04:15.999136Z"
    }
   },
   "outputs": [],
   "source": [
    "# Extract regular sampled; 1 values for 1 day at the same time s1 meassure backscatter coeffienct\n"
   ]
  },
  {
   "cell_type": "markdown",
   "metadata": {},
   "source": [
    "### gee sentinel 1 data"
   ]
  },
  {
   "cell_type": "code",
   "execution_count": null,
   "metadata": {
    "ExecuteTime": {
     "end_time": "2022-01-12T09:55:29.510850Z",
     "start_time": "2022-01-12T09:55:28.498744Z"
    }
   },
   "outputs": [],
   "source": [
    "#path to single json files per station\n",
    "gee_fc_path = r'C:\\Users\\USER\\Desktop\\Master_Irrigation\\03_GIS\\ground_trouth\\ismn_fc_gee_VV_na_clear.geojson'\n",
    "ts_ismn_bc = gpd.read_file(gee_fc_path)"
   ]
  },
  {
   "cell_type": "code",
   "execution_count": null,
   "metadata": {
    "ExecuteTime": {
     "end_time": "2022-01-12T10:57:55.789999Z",
     "start_time": "2022-01-12T10:05:37.845825Z"
    }
   },
   "outputs": [],
   "source": [
    "# Extract metadata from filename\n",
    "ts_ismn_bc['station'] = [x[-1] for x in ts_ismn_bc.id]\n",
    "ts_ismn_bc['sentinel'] = [x[2] for x in ts_ismn_bc.id]\n",
    "ts_ismn_bc['date'] = [datetime.strptime(x.split('_')[4][:15], '%Y%m%dT%H%M%S') for x in ts_ismn_bc.id]\n",
    "ts_ismn_bc['mode'] = [x[4:6] for x in ts_ismn_bc.id]\n",
    "ts_ismn_bc['type'] = [str(x[7:11]) for x in ts_ismn_bc.id]\n",
    "# only High Resolution types\n",
    "ts_ismn_bc = ts_ismn_bc[ts_ismn_bc['type'] == 'GRDH']\n",
    "#drop duplicates fix because when downloading vv data some sensors are at same postion but different depths\n",
    "ts_ismn_bc.drop_duplicates(['geometry', 'VV'], inplace=True)\n",
    "# Add Orbit Direction with sentinelsat query\n",
    "orbit_directions = list()\n",
    "for row in ts_ismn_bc.itertuples():\n",
    "    metadata = get_s1_metadata(row.id[:-2])\n",
    "    try:\n",
    "        orbit_directions.append(metadata.orbitdirection.values[0])\n",
    "    except:\n",
    "        orbit_directions.append(np.nan)\n",
    "ts_ismn_bc['orbit_direction'] = orbit_directions\n",
    "ts_ismn_bc"
   ]
  },
  {
   "cell_type": "markdown",
   "metadata": {},
   "source": [
    "## Merge data vv + sm ground trouth"
   ]
  },
  {
   "cell_type": "code",
   "execution_count": null,
   "metadata": {
    "ExecuteTime": {
     "end_time": "2022-01-12T11:37:26.717639Z",
     "start_time": "2022-01-12T11:29:06.146039Z"
    }
   },
   "outputs": [],
   "source": [
    "# Add sm from ismn data to s1 vv data\n",
    "values = list()\n",
    "for row in ts_ismn_bc.itertuples():\n",
    "    time = row.date.round('1h')\n",
    "    geometry = row.geometry\n",
    "    # select all rows with same geometry (change x and y lat/lon maybe because of shaply module)\n",
    "    sm = ts_ismn.cx[geometry.y:geometry.y , geometry.x:geometry.x]\n",
    "    # select all rows with same time\n",
    "    sm = sm[sm.index == time]\n",
    "    # mean when multiple values nan when no values\n",
    "    if len(sm) == 0:\n",
    "        values.append(np.nan)\n",
    "    else:\n",
    "        values.append(np.mean(list(sm.soil_moisture)))\n",
    "        \n",
    "ts_ismn_bc['soil_moisture'] = values\n",
    "ts_ismn_bc.to_file(ismn_path + '\\ismn_ts_vv_sm_01.json')"
   ]
  },
  {
   "cell_type": "code",
   "execution_count": null,
   "metadata": {
    "ExecuteTime": {
     "end_time": "2022-01-11T19:42:10.593980Z",
     "start_time": "2022-01-11T19:42:10.562704Z"
    }
   },
   "outputs": [],
   "source": [
    "ts_ismn_bc.station.unique()"
   ]
  }
 ],
 "metadata": {
  "kernelspec": {
   "display_name": "Python [conda env:irrigation_detection]",
   "language": "python",
   "name": "conda-env-irrigation_detection-py"
  },
  "language_info": {
   "codemirror_mode": {
    "name": "ipython",
    "version": 3
   },
   "file_extension": ".py",
   "mimetype": "text/x-python",
   "name": "python",
   "nbconvert_exporter": "python",
   "pygments_lexer": "ipython3",
   "version": "3.9.7"
  },
  "toc": {
   "base_numbering": 1,
   "nav_menu": {},
   "number_sections": true,
   "sideBar": true,
   "skip_h1_title": false,
   "title_cell": "Table of Contents",
   "title_sidebar": "Contents",
   "toc_cell": false,
   "toc_position": {},
   "toc_section_display": true,
   "toc_window_display": true
  },
  "varInspector": {
   "cols": {
    "lenName": 16,
    "lenType": 16,
    "lenVar": 40
   },
   "kernels_config": {
    "python": {
     "delete_cmd_postfix": "",
     "delete_cmd_prefix": "del ",
     "library": "var_list.py",
     "varRefreshCmd": "print(var_dic_list())"
    },
    "r": {
     "delete_cmd_postfix": ") ",
     "delete_cmd_prefix": "rm(",
     "library": "var_list.r",
     "varRefreshCmd": "cat(var_dic_list()) "
    }
   },
   "types_to_exclude": [
    "module",
    "function",
    "builtin_function_or_method",
    "instance",
    "_Feature"
   ],
   "window_display": false
  }
 },
 "nbformat": 4,
 "nbformat_minor": 2
}
