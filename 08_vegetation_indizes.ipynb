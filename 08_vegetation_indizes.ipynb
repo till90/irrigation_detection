{
 "cells": [
  {
   "cell_type": "code",
   "execution_count": 11,
   "metadata": {
    "ExecuteTime": {
     "end_time": "2021-12-01T20:23:19.579823Z",
     "start_time": "2021-12-01T20:23:19.563847Z"
    }
   },
   "outputs": [],
   "source": [
    "import datetime"
   ]
  },
  {
   "cell_type": "code",
   "execution_count": 1,
   "metadata": {
    "ExecuteTime": {
     "end_time": "2021-12-01T20:18:19.777891Z",
     "start_time": "2021-12-01T20:18:16.468895Z"
    }
   },
   "outputs": [],
   "source": [
    "import ee\n",
    "\n",
    "try:\n",
    "    # Initialize the library.\n",
    "    ee.Initialize()\n",
    "except:\n",
    "    # Trigger the authentication flow.\n",
    "    ee.Authenticate()\n",
    "    # Initialize the library.\n",
    "    ee.Initialize()"
   ]
  },
  {
   "cell_type": "code",
   "execution_count": 48,
   "metadata": {
    "ExecuteTime": {
     "end_time": "2021-12-01T20:57:36.024261Z",
     "start_time": "2021-12-01T20:57:36.004259Z"
    }
   },
   "outputs": [],
   "source": [
    "aoi = ee.FeatureCollection({\n",
    "  \"type\": \"FeatureCollection\",\n",
    "  \"features\": [\n",
    "    {\n",
    "      \"type\": \"Feature\",\n",
    "      \"properties\": {},\n",
    "      \"geometry\": {\n",
    "        \"type\": \"Polygon\",\n",
    "        \"coordinates\": [\n",
    "          [\n",
    "            [\n",
    "              8.320770263671875,\n",
    "              49.669405434570464\n",
    "            ],\n",
    "            [\n",
    "              8.683319091796875,\n",
    "              49.669405434570464\n",
    "            ],\n",
    "            [\n",
    "              8.683319091796875,\n",
    "              49.99714673955337\n",
    "            ],\n",
    "            [\n",
    "              8.320770263671875,\n",
    "              49.99714673955337\n",
    "            ],\n",
    "            [\n",
    "              8.320770263671875,\n",
    "              49.669405434570464\n",
    "            ]\n",
    "          ]\n",
    "        ]\n",
    "      }\n",
    "    }\n",
    "  ]\n",
    "})"
   ]
  },
  {
   "cell_type": "code",
   "execution_count": 49,
   "metadata": {
    "ExecuteTime": {
     "end_time": "2021-12-01T20:57:36.582649Z",
     "start_time": "2021-12-01T20:57:36.570665Z"
    }
   },
   "outputs": [],
   "source": [
    "bandNamesOut_s2_sr = ['Aerosols','blue','green','red','red edge 1','red edge 2','red edge 3','nir','red edge 4','vater vapor','swir1','swir2','QA60']\n",
    "bandNamesS2_SR  = ['B1','B2','B3','B4','B5','B6','B7','B8','B8A','B9','B11','B12','QA60']\n",
    "s2_sr = ee.ImageCollection('COPERNICUS/S2_SR').select(bandNamesS2_SR,bandNamesOut_s2_sr).filterDate(datetime.datetime(2017, 4, 1), datetime.datetime(2017, 8, 3)).filterBounds(aoi).map(maskS2clouds).map(NDVI)#.map(SAVI).map(NDBI_swir1).map(NDBI_swir2).map(build_up_index) #https://developers.google.com/earth-engine/datasets/catalog/COPERNICUS_S2_"
   ]
  },
  {
   "cell_type": "code",
   "execution_count": 50,
   "metadata": {
    "ExecuteTime": {
     "end_time": "2021-12-01T20:57:38.907434Z",
     "start_time": "2021-12-01T20:57:38.899445Z"
    }
   },
   "outputs": [],
   "source": [
    "mosaick = ee.Image(s2_sr.qualityMosaic('NDVI')).select('NDVI')"
   ]
  },
  {
   "cell_type": "code",
   "execution_count": 71,
   "metadata": {
    "ExecuteTime": {
     "end_time": "2021-12-01T21:20:05.378643Z",
     "start_time": "2021-12-01T21:20:05.362660Z"
    }
   },
   "outputs": [],
   "source": [
    "mosaick = ee.Image(s2_sr.select('NDVI').mosaic())"
   ]
  },
  {
   "cell_type": "code",
   "execution_count": null,
   "metadata": {},
   "outputs": [],
   "source": [
    "def mask_by_landcover(image):\n",
    "    image = image.select('Map')\n",
    "    mask = image.eq(40).Or(image.eq(30))\n",
    "    return image.updateMask(mask)\n",
    "#Mask out area with invalid landcover class like build up areas\n",
    "lc = ee.Image(ee.ImageCollection(\"ESA/WorldCover/v100\").first().clip(fcg_aoi.union().geometry()).select('Map'))\n",
    "icg_s1 = icg_s1.map(lambda x: x.addBands(lc))\n",
    "icg_s1 = icg_s1.map(mask_by_landcover)\n",
    "    "
   ]
  },
  {
   "cell_type": "code",
   "execution_count": 73,
   "metadata": {
    "ExecuteTime": {
     "end_time": "2021-12-01T21:20:40.603097Z",
     "start_time": "2021-12-01T21:20:40.591110Z"
    }
   },
   "outputs": [],
   "source": [
    "#Segmentation of ndvi values \n",
    "segmented = ee.Algorithms.Image.Segmentation.SNIC(mosaick)"
   ]
  },
  {
   "cell_type": "code",
   "execution_count": 74,
   "metadata": {
    "ExecuteTime": {
     "end_time": "2021-12-01T21:20:50.756252Z",
     "start_time": "2021-12-01T21:20:49.801894Z"
    }
   },
   "outputs": [
    {
     "data": {
      "text/plain": [
       "{'type': 'Image',\n",
       " 'bands': [{'id': 'clusters',\n",
       "   'data_type': {'type': 'PixelType',\n",
       "    'precision': 'int',\n",
       "    'min': -2147483648,\n",
       "    'max': 2147483647},\n",
       "   'crs': 'EPSG:4326',\n",
       "   'crs_transform': [1, 0, 0, 0, 1, 0]},\n",
       "  {'id': 'NDVI_mean',\n",
       "   'data_type': {'type': 'PixelType', 'precision': 'float'},\n",
       "   'crs': 'EPSG:4326',\n",
       "   'crs_transform': [1, 0, 0, 0, 1, 0]},\n",
       "  {'id': 'seeds',\n",
       "   'data_type': {'type': 'PixelType', 'precision': 'int', 'min': 0, 'max': 1},\n",
       "   'crs': 'EPSG:4326',\n",
       "   'crs_transform': [1, 0, 0, 0, 1, 0]}]}"
      ]
     },
     "execution_count": 74,
     "metadata": {},
     "output_type": "execute_result"
    }
   ],
   "source": [
    "segmented.getInfo()"
   ]
  },
  {
   "cell_type": "code",
   "execution_count": 77,
   "metadata": {
    "ExecuteTime": {
     "end_time": "2021-12-01T21:22:38.868213Z",
     "start_time": "2021-12-01T21:22:38.463799Z"
    }
   },
   "outputs": [
    {
     "data": {
      "text/html": [
       "<img src=\"https://earthengine.googleapis.com/v1alpha/projects/earthengine-legacy/thumbnails/36aa2b00622c34f729883c30c99c0090-25867acfb71674f221b4119aae800e2d:getPixels\"/>"
      ],
      "text/plain": [
       "<IPython.core.display.Image object>"
      ]
     },
     "execution_count": 77,
     "metadata": {},
     "output_type": "execute_result"
    }
   ],
   "source": [
    "from IPython.display import Image\n",
    "\n",
    "segmentedV = segmented.select('clusters').clip(aoi)\n",
    "\n",
    "# Create the URL associated with the styled image data.\n",
    "url = segmentedV.getThumbUrl({\n",
    "    'min': -3,'max': 40, 'region': aoi.union().geometry(), 'dimensions': 512})\n",
    "\n",
    "# Display a thumbnail of elevation in France.\n",
    "Image(url=url)\n"
   ]
  },
  {
   "cell_type": "code",
   "execution_count": 72,
   "metadata": {
    "ExecuteTime": {
     "end_time": "2021-12-01T21:20:19.663455Z",
     "start_time": "2021-12-01T21:20:18.530728Z"
    }
   },
   "outputs": [
    {
     "data": {
      "text/html": [
       "<img src=\"https://earthengine.googleapis.com/v1alpha/projects/earthengine-legacy/thumbnails/55ced1e036b36eeced4f121acbf948fe-38bf4f1bfc56cd65af059658c6605281:getPixels\"/>"
      ],
      "text/plain": [
       "<IPython.core.display.Image object>"
      ]
     },
     "execution_count": 72,
     "metadata": {},
     "output_type": "execute_result"
    }
   ],
   "source": [
    "from IPython.display import Image\n",
    "\n",
    "mosaick = mosaick.clip(aoi)\n",
    "\n",
    "# Create the URL associated with the styled image data.\n",
    "url = mosaick.getThumbUrl({\n",
    "    'min': -1,'max': 1, 'region': aoi.union().geometry(), 'dimensions': 512,\n",
    "    'palette': ['006633', 'E5FFCC', '662A00', 'D8D8D8', 'F5F5F5']})\n",
    "\n",
    "# Display a thumbnail of elevation in France.\n",
    "Image(url=url)\n"
   ]
  },
  {
   "cell_type": "code",
   "execution_count": 56,
   "metadata": {
    "ExecuteTime": {
     "end_time": "2021-12-01T20:58:37.544459Z",
     "start_time": "2021-12-01T20:58:37.259914Z"
    }
   },
   "outputs": [
    {
     "data": {
      "text/plain": [
       "{'type': 'Image',\n",
       " 'bands': [{'id': 'clusters',\n",
       "   'data_type': {'type': 'PixelType',\n",
       "    'precision': 'int',\n",
       "    'min': -2147483648,\n",
       "    'max': 2147483647},\n",
       "   'crs': 'EPSG:4326',\n",
       "   'crs_transform': [1, 0, 0, 0, 1, 0]},\n",
       "  {'id': 'NDVI_mean',\n",
       "   'data_type': {'type': 'PixelType', 'precision': 'float'},\n",
       "   'crs': 'EPSG:4326',\n",
       "   'crs_transform': [1, 0, 0, 0, 1, 0]},\n",
       "  {'id': 'seeds',\n",
       "   'data_type': {'type': 'PixelType', 'precision': 'int', 'min': 0, 'max': 1},\n",
       "   'crs': 'EPSG:4326',\n",
       "   'crs_transform': [1, 0, 0, 0, 1, 0]}]}"
      ]
     },
     "execution_count": 56,
     "metadata": {},
     "output_type": "execute_result"
    }
   ],
   "source": [
    "segmented.getInfo()"
   ]
  },
  {
   "cell_type": "code",
   "execution_count": 7,
   "metadata": {
    "ExecuteTime": {
     "end_time": "2021-12-01T20:22:49.631416Z",
     "start_time": "2021-12-01T20:22:49.584777Z"
    }
   },
   "outputs": [
    {
     "ename": "NameError",
     "evalue": "name 'datetime' is not defined",
     "output_type": "error",
     "traceback": [
      "\u001b[1;31m---------------------------------------------------------------------------\u001b[0m",
      "\u001b[1;31mNameError\u001b[0m                                 Traceback (most recent call last)",
      "\u001b[1;32m~\\AppData\\Local\\Temp/ipykernel_12148/3845289137.py\u001b[0m in \u001b[0;36m<module>\u001b[1;34m\u001b[0m\n\u001b[0;32m    153\u001b[0m \u001b[1;33m\u001b[0m\u001b[0m\n\u001b[0;32m    154\u001b[0m \u001b[1;31m# Filter the L7 collection to a single month.\u001b[0m\u001b[1;33m\u001b[0m\u001b[1;33m\u001b[0m\u001b[0m\n\u001b[1;32m--> 155\u001b[1;33m \u001b[0ml7_sr\u001b[0m \u001b[1;33m=\u001b[0m \u001b[0mee\u001b[0m\u001b[1;33m.\u001b[0m\u001b[0mImageCollection\u001b[0m\u001b[1;33m(\u001b[0m\u001b[1;34m'LANDSAT/LE07/C01/T1_SR'\u001b[0m\u001b[1;33m)\u001b[0m\u001b[1;33m.\u001b[0m\u001b[0mselect\u001b[0m\u001b[1;33m(\u001b[0m\u001b[0mbandNamesl7\u001b[0m\u001b[1;33m,\u001b[0m\u001b[0mbandNamesOut_l7\u001b[0m\u001b[1;33m)\u001b[0m\u001b[1;33m.\u001b[0m\u001b[0mfilterDate\u001b[0m\u001b[1;33m(\u001b[0m\u001b[0mdatetime\u001b[0m\u001b[1;33m.\u001b[0m\u001b[0mdatetime\u001b[0m\u001b[1;33m(\u001b[0m\u001b[1;36m2009\u001b[0m\u001b[1;33m,\u001b[0m \u001b[1;36m1\u001b[0m\u001b[1;33m,\u001b[0m \u001b[1;36m1\u001b[0m\u001b[1;33m)\u001b[0m\u001b[1;33m,\u001b[0m \u001b[0mdatetime\u001b[0m\u001b[1;33m.\u001b[0m\u001b[0mdatetime\u001b[0m\u001b[1;33m(\u001b[0m\u001b[1;36m2019\u001b[0m\u001b[1;33m,\u001b[0m \u001b[1;36m6\u001b[0m\u001b[1;33m,\u001b[0m \u001b[1;36m1\u001b[0m\u001b[1;33m)\u001b[0m\u001b[1;33m)\u001b[0m\u001b[1;33m.\u001b[0m\u001b[0mfilterBounds\u001b[0m\u001b[1;33m(\u001b[0m\u001b[0mried_225_222\u001b[0m\u001b[1;33m)\u001b[0m\u001b[1;33m.\u001b[0m\u001b[0mmap\u001b[0m\u001b[1;33m(\u001b[0m\u001b[0mclip_aoi\u001b[0m\u001b[1;33m)\u001b[0m\u001b[1;33m.\u001b[0m\u001b[0mmap\u001b[0m\u001b[1;33m(\u001b[0m\u001b[0mcloudMaskL457\u001b[0m\u001b[1;33m)\u001b[0m\u001b[1;33m.\u001b[0m\u001b[0mmap\u001b[0m\u001b[1;33m(\u001b[0m\u001b[0mNDVI\u001b[0m\u001b[1;33m)\u001b[0m\u001b[1;33m.\u001b[0m\u001b[0mmap\u001b[0m\u001b[1;33m(\u001b[0m\u001b[0mSAVI\u001b[0m\u001b[1;33m)\u001b[0m\u001b[1;33m.\u001b[0m\u001b[0mmap\u001b[0m\u001b[1;33m(\u001b[0m\u001b[0mNDBI_swir1\u001b[0m\u001b[1;33m)\u001b[0m\u001b[1;33m.\u001b[0m\u001b[0mmap\u001b[0m\u001b[1;33m(\u001b[0m\u001b[0mNDBI_swir2\u001b[0m\u001b[1;33m)\u001b[0m\u001b[1;33m.\u001b[0m\u001b[0mmap\u001b[0m\u001b[1;33m(\u001b[0m\u001b[0mbuild_up_index\u001b[0m\u001b[1;33m)\u001b[0m \u001b[1;31m#https://developers.google.com/earth-engine/datasets/catalog/LANDSAT_LE07_C01_T1_SR\u001b[0m\u001b[1;33m\u001b[0m\u001b[1;33m\u001b[0m\u001b[0m\n\u001b[0m\u001b[0;32m    156\u001b[0m \u001b[0ml8_sr\u001b[0m \u001b[1;33m=\u001b[0m \u001b[0mee\u001b[0m\u001b[1;33m.\u001b[0m\u001b[0mImageCollection\u001b[0m\u001b[1;33m(\u001b[0m\u001b[1;34m'LANDSAT/LC08/C01/T1_SR'\u001b[0m\u001b[1;33m)\u001b[0m\u001b[1;33m.\u001b[0m\u001b[0mselect\u001b[0m\u001b[1;33m(\u001b[0m\u001b[0mbandNamesl8\u001b[0m\u001b[1;33m,\u001b[0m\u001b[0mbandNamesOut_l8\u001b[0m\u001b[1;33m)\u001b[0m\u001b[1;33m.\u001b[0m\u001b[0mfilterDate\u001b[0m\u001b[1;33m(\u001b[0m\u001b[0mdatetime\u001b[0m\u001b[1;33m.\u001b[0m\u001b[0mdatetime\u001b[0m\u001b[1;33m(\u001b[0m\u001b[1;36m2009\u001b[0m\u001b[1;33m,\u001b[0m \u001b[1;36m1\u001b[0m\u001b[1;33m,\u001b[0m \u001b[1;36m1\u001b[0m\u001b[1;33m)\u001b[0m\u001b[1;33m,\u001b[0m \u001b[0mdatetime\u001b[0m\u001b[1;33m.\u001b[0m\u001b[0mdatetime\u001b[0m\u001b[1;33m(\u001b[0m\u001b[1;36m2019\u001b[0m\u001b[1;33m,\u001b[0m \u001b[1;36m6\u001b[0m\u001b[1;33m,\u001b[0m \u001b[1;36m1\u001b[0m\u001b[1;33m)\u001b[0m\u001b[1;33m)\u001b[0m\u001b[1;33m.\u001b[0m\u001b[0mfilterBounds\u001b[0m\u001b[1;33m(\u001b[0m\u001b[0mried_225_222\u001b[0m\u001b[1;33m)\u001b[0m\u001b[1;33m.\u001b[0m\u001b[0mmap\u001b[0m\u001b[1;33m(\u001b[0m\u001b[0mclip_aoi\u001b[0m\u001b[1;33m)\u001b[0m\u001b[1;33m.\u001b[0m\u001b[0mmap\u001b[0m\u001b[1;33m(\u001b[0m\u001b[0mmaskL8sr\u001b[0m\u001b[1;33m)\u001b[0m\u001b[1;33m.\u001b[0m\u001b[0mmap\u001b[0m\u001b[1;33m(\u001b[0m\u001b[0mNDVI\u001b[0m\u001b[1;33m)\u001b[0m\u001b[1;33m.\u001b[0m\u001b[0mmap\u001b[0m\u001b[1;33m(\u001b[0m\u001b[0mSAVI\u001b[0m\u001b[1;33m)\u001b[0m\u001b[1;33m.\u001b[0m\u001b[0mmap\u001b[0m\u001b[1;33m(\u001b[0m\u001b[0mNDBI_swir1\u001b[0m\u001b[1;33m)\u001b[0m\u001b[1;33m.\u001b[0m\u001b[0mmap\u001b[0m\u001b[1;33m(\u001b[0m\u001b[0mNDBI_swir2\u001b[0m\u001b[1;33m)\u001b[0m\u001b[1;33m.\u001b[0m\u001b[0mmap\u001b[0m\u001b[1;33m(\u001b[0m\u001b[0mbuild_up_index\u001b[0m\u001b[1;33m)\u001b[0m \u001b[1;31m#https://developers.google.com/earth-engine/datasets/catalog/LANDSAT_LC08_C01_T1_SR\u001b[0m\u001b[1;33m\u001b[0m\u001b[1;33m\u001b[0m\u001b[0m\n\u001b[0;32m    157\u001b[0m \u001b[0ms2_1c\u001b[0m \u001b[1;33m=\u001b[0m \u001b[0mee\u001b[0m\u001b[1;33m.\u001b[0m\u001b[0mImageCollection\u001b[0m\u001b[1;33m(\u001b[0m\u001b[1;34m'COPERNICUS/S2'\u001b[0m\u001b[1;33m)\u001b[0m\u001b[1;33m.\u001b[0m\u001b[0mselect\u001b[0m\u001b[1;33m(\u001b[0m\u001b[0mbandNamesS2\u001b[0m\u001b[1;33m,\u001b[0m\u001b[0mbandNamesOut_s2\u001b[0m\u001b[1;33m)\u001b[0m\u001b[1;33m.\u001b[0m\u001b[0mfilterDate\u001b[0m\u001b[1;33m(\u001b[0m\u001b[0mdatetime\u001b[0m\u001b[1;33m.\u001b[0m\u001b[0mdatetime\u001b[0m\u001b[1;33m(\u001b[0m\u001b[1;36m2015\u001b[0m\u001b[1;33m,\u001b[0m \u001b[1;36m6\u001b[0m\u001b[1;33m,\u001b[0m \u001b[1;36m22\u001b[0m\u001b[1;33m)\u001b[0m\u001b[1;33m,\u001b[0m \u001b[0mdatetime\u001b[0m\u001b[1;33m.\u001b[0m\u001b[0mdatetime\u001b[0m\u001b[1;33m(\u001b[0m\u001b[1;36m2017\u001b[0m\u001b[1;33m,\u001b[0m \u001b[1;36m3\u001b[0m\u001b[1;33m,\u001b[0m \u001b[1;36m27\u001b[0m\u001b[1;33m)\u001b[0m\u001b[1;33m)\u001b[0m\u001b[1;33m.\u001b[0m\u001b[0mfilterBounds\u001b[0m\u001b[1;33m(\u001b[0m\u001b[0mried_225_222\u001b[0m\u001b[1;33m)\u001b[0m\u001b[1;33m.\u001b[0m\u001b[0mmap\u001b[0m\u001b[1;33m(\u001b[0m\u001b[0mclip_aoi\u001b[0m\u001b[1;33m)\u001b[0m\u001b[1;33m.\u001b[0m\u001b[0mmap\u001b[0m\u001b[1;33m(\u001b[0m\u001b[0mmaskS2clouds\u001b[0m\u001b[1;33m)\u001b[0m\u001b[1;33m.\u001b[0m\u001b[0mmap\u001b[0m\u001b[1;33m(\u001b[0m\u001b[0mNDVI\u001b[0m\u001b[1;33m)\u001b[0m\u001b[1;33m.\u001b[0m\u001b[0mmap\u001b[0m\u001b[1;33m(\u001b[0m\u001b[0mSAVI\u001b[0m\u001b[1;33m)\u001b[0m\u001b[1;33m.\u001b[0m\u001b[0mmap\u001b[0m\u001b[1;33m(\u001b[0m\u001b[0mNDBI_swir1\u001b[0m\u001b[1;33m)\u001b[0m\u001b[1;33m.\u001b[0m\u001b[0mmap\u001b[0m\u001b[1;33m(\u001b[0m\u001b[0mNDBI_swir2\u001b[0m\u001b[1;33m)\u001b[0m\u001b[1;33m.\u001b[0m\u001b[0mmap\u001b[0m\u001b[1;33m(\u001b[0m\u001b[0mbuild_up_index\u001b[0m\u001b[1;33m)\u001b[0m \u001b[1;31m#https://developers.google.com/earth-engine/datasets/catalog/COPERNICUS_S2\u001b[0m\u001b[1;33m\u001b[0m\u001b[1;33m\u001b[0m\u001b[0m\n",
      "\u001b[1;31mNameError\u001b[0m: name 'datetime' is not defined"
     ]
    }
   ],
   "source": [
    "#From erath engine 01\n",
    "\n",
    "def get_geometry(ImageCollection):\n",
    "    geometry = ImageCollection.geometry().getInfo()\n",
    "    #geometry = [x for x in geometry['coordinates']]\n",
    "    return geometry\n",
    "\n",
    "def clip_aoi(ImageCollection):\n",
    "    im = ImageCollection.clip(ried_225_222)\n",
    "    return im\n",
    "\n",
    "def show_tiles(ImageCollection):\n",
    "    geometry = get_geometry(ImageCollection)\n",
    "    geometry_list = list(geometry['coordinates'])\n",
    "    flattened_list = [y for x in geometry_list for y in x] #De flatter list \n",
    "    unique_list = []\n",
    "    unique_list = [x for x in flattened_list if x not in unique_list]\n",
    "    print(\"different tiles: \",len(unique_list))\n",
    "    m = Map(center=(49.6252978589571, 8.34580993652344), zoom=7)\n",
    "    geo_json = GeoJSON(data=geometry, style = {'color': 'green', 'opacity':1, 'weight':1.9, 'dashArray':'9', 'fillOpacity':0.1})\n",
    "    m.add_layer(geo_json)\n",
    "    dc = ipyleaflet.DrawControl()\n",
    "    m.add_control(dc)\n",
    "    m.add_control(LayersControl())\n",
    "    return m\n",
    "    \n",
    "def get_properties_l(ImageCollection):\n",
    "    features = ImageCollection.getInfo()['features']\n",
    "    dict_list = []\n",
    "    for f in features:\n",
    "        prop = f['properties']\n",
    "        dict_list.append(prop)\n",
    "    df = pd.DataFrame.from_records(dict_list).drop(['system:footprint'],axis=1)\n",
    "    #Pandas Series of unique distinc values in df\n",
    "    unique = df.nunique()\n",
    "    im_id_list = [item.get('id') for item in ImageCollection.getInfo().get('features')]\n",
    "    date_list = [datetime.datetime.strptime(x[36:44],'%Y%m%d') for x in im_id_list]\n",
    "    #property_names = list(df.columns.values) \n",
    "    return unique, im_id_list, date_list\n",
    "\n",
    "def getQABits(image, start, end, mascara):\n",
    "    # Compute the bits we need to extract.\n",
    "    pattern = 0\n",
    "    for i in range(start,end+1):\n",
    "        pattern += 2**i\n",
    "    # Return a single band image of the extracted QA bits, giving the     band a new name.\n",
    "    return image.select([0], [mascara]).bitwiseAnd(pattern).rightShift(start)\n",
    "#A function to mask out cloudy pixels.\n",
    "\n",
    "def cloudMaskL457(image):\n",
    "    qa = image.select('pixel_qa');\n",
    "    #If the cloud bit (5) is set and the cloud confidence (7) is high\n",
    "    #or the cloud shadow bit is set (3), then it's a bad pixel.\n",
    "    cloud = qa.bitwiseAnd(1 << 5).And(qa.bitwiseAnd(1 << 7)).Or(qa.bitwiseAnd(1 << 3))\n",
    "    #Remove edge pixels that don't occur in all bands\n",
    "    mask2 = image.mask().reduce(ee.Reducer.min());\n",
    "    return image.updateMask(cloud.Not()).updateMask(mask2)\n",
    "\n",
    "def maskL8sr(image):\n",
    "    #Bits 3 and 5 are cloud shadow and cloud, respectively.\n",
    "    cloudShadowBitMask = (1 << 3)\n",
    "    cloudsBitMask = (1 << 5);\n",
    "    #Get the pixel QA band.\n",
    "    qa = image.select('pixel_qa')\n",
    "    #Both flags should be set to zero, indicating clear conditions.\n",
    "    mask = qa.bitwiseAnd(cloudShadowBitMask).eq(0).And(qa.bitwiseAnd(cloudsBitMask).eq(0))\n",
    "    return image.updateMask(mask)\n",
    "\n",
    "def maskQuality(image):\n",
    "    # Select the QA band.\n",
    "    QA = image.select('pixel_qa')\n",
    "    # Get the internal_cloud_algorithm_flag bit.\n",
    "    sombra = getQABits(QA,3,3,'cloud_shadow')\n",
    "    nubes = getQABits(QA,5,5,'cloud')\n",
    "    #  var cloud_confidence = getQABits(QA,6,7,  'cloud_confidence')\n",
    "    cirrus_detected = getQABits(QA,9,9,'cirrus_detected')\n",
    "    #var cirrus_detected2 = getQABits(QA,8,8,  'cirrus_detected2')\n",
    "    #Return an image masking out cloudy areas.\n",
    "    return image.updateMask(sombra.eq(0)).updateMask(nubes.eq(0).updateMask(cirrus_detected.eq(0)))\n",
    "\n",
    "def maskS2clouds(image):\n",
    "    qa = image.select('QA60')\n",
    "    #Bits 10 and 11 are clouds and cirrus, respectively.\n",
    "    cloudBitMask = 1 << 10\n",
    "    cirrusBitMask = 1 << 11\n",
    "    #Both flags should be set to zero, indicating clear conditions.\n",
    "    mask = qa.bitwiseAnd(cloudBitMask).eq(0).And(qa.bitwiseAnd(cirrusBitMask).eq(0))\n",
    "    return image.updateMask(mask).divide(10000)\n",
    "\n",
    "#Function to mask out every NDVi <0.1 (Water) \n",
    "def maskNDVI(image):                   \n",
    "    ndvi = image.select('NDVI')\n",
    "    ndvi_mask = ndvi.gte(0.8).And(ndvi.lte(0.1)) \n",
    "    return image.updateMask(ndvi_mask)\n",
    "\n",
    "\n",
    "#https://de.wikipedia.org/wiki/Normalized_Difference_Vegetation_Index\n",
    "#https://www.linkedin.com/pulse/ndvi-ndbi-ndwi-calculation-using-landsat-7-8-tek-bahadur-kshetri\n",
    "\n",
    "\n",
    "def NDVI(image):\n",
    "    ndvi = image.normalizedDifference(['nir','red']) #(first − second) / (first + second)\n",
    "    return image.addBands(ndvi).rename(image.bandNames().add('NDVI'))\n",
    "\n",
    "def SAVI(image): #https://de.wikipedia.org/wiki/Soil-Adjusted_Vegetation_Index bodenbereinigter Vegetationsindex (BBVI) \n",
    "    #A function to compute Soil Adjusted Vegetation Index.\"\"\"\n",
    "    L = 0.5\n",
    "    savi = ee.Image(0).expression('(1 + L) * float(nir - red)/ (nir + red + L)', {'nir': image.select('nir'), 'red': image.select('red'), 'L': 0.5})\n",
    "    return image.addBands(savi).rename(image.bandNames().add('SAVI'))\n",
    "\n",
    "#the normalized difference bare index\n",
    "def NDBI_swir1(image):\n",
    "    ndbi = image.normalizedDifference(['swir1', 'nir'])\n",
    "    return image.addBands(ndbi).rename(image.bandNames().add('NDBI_swir1'))\n",
    "\n",
    "def NDBI_swir2(image):\n",
    "    ndbi = image.normalizedDifference(['swir2', 'nir'])\n",
    "    return image.addBands(ndbi).rename(image.bandNames().add('NDBI_swir2'))\n",
    "\n",
    "#Built Up Index\n",
    "def build_up_index(image):\n",
    "    bu = image.select('NDBI_swir1').subtract(image.select('NDVI'))\n",
    "    return image.addBands(bu).rename(image.bandNames().add('built_up_index_swir1'))\n",
    "                                       \n",
    "                                       \n",
    "#the normalize difference water index\n",
    "def ndwi(image):\n",
    "    return image.normalizedDifference(['B3', 'B8'])\n",
    "\n",
    "\n",
    "#define thresholds\n",
    "bareThreshold = -0.32\n",
    "vegetationThreshold = 0.65\n",
    "waterThreshold = 0.2\n",
    "\n",
    "\"\"\"\n",
    "NDVI = -1 to 0 represent Water bodies\n",
    "NDVI = -0.1 to 0.1 represent Barren rocks, sand, or snow\n",
    "NDVI = 0.2 to 0.5 represent Shrubs and grasslands or senescing crops\n",
    "NDVI = 0.6 to 1.0 represent Dense vegetation or tropical rainforest\n",
    "\"\"\"\n",
    "\n",
    "\n",
    "bandNamesOut_l7 = ['blue','green','red','nir','swir1','temp1','swir2','pixel_qa']\n",
    "bandNamesOut_l8 = ['ultra blue','blue','green','red','nir','swir1','swir2','temp1','temp2','pixel_qa']\n",
    "bandNamesOut_s2 = ['Aerosols','blue','green','red','red edge 1','red edge 2','red edge 3','nir','red edge 4','water vapor','cirrus','swir1','swir2','QA60']\n",
    "bandNamesOut_s2_sr = ['Aerosols','blue','green','red','red edge 1','red edge 2','red edge 3','nir','red edge 4','vater vapor','swir1','swir2','QA60']\n",
    "\n",
    "bandNamesl7 = ['B1','B2','B3','B4','B5','B6','B7','pixel_qa']\n",
    "bandNamesl8 = ['B1','B2','B3','B4','B5','B6','B7','B10','B11','pixel_qa']\n",
    "bandNamesS2 = ['B1','B2','B3','B4','B5','B6','B7','B8','B8A','B9','B10','B11','B12','QA60']\n",
    "bandNamesS2_SR  = ['B1','B2','B3','B4','B5','B6','B7','B8','B8A','B9','B11','B12','QA60']\n",
    "\n",
    "# Filter the L7 collection to a single month.\n",
    "l7_sr = ee.ImageCollection('LANDSAT/LE07/C01/T1_SR').select(bandNamesl7,bandNamesOut_l7).filterDate(datetime.datetime(2009, 1, 1), datetime.datetime(2019, 6, 1)).filterBounds(ried_225_222).map(clip_aoi).map(cloudMaskL457).map(NDVI).map(SAVI).map(NDBI_swir1).map(NDBI_swir2).map(build_up_index) #https://developers.google.com/earth-engine/datasets/catalog/LANDSAT_LE07_C01_T1_SR\n",
    "l8_sr = ee.ImageCollection('LANDSAT/LC08/C01/T1_SR').select(bandNamesl8,bandNamesOut_l8).filterDate(datetime.datetime(2009, 1, 1), datetime.datetime(2019, 6, 1)).filterBounds(ried_225_222).map(clip_aoi).map(maskL8sr).map(NDVI).map(SAVI).map(NDBI_swir1).map(NDBI_swir2).map(build_up_index) #https://developers.google.com/earth-engine/datasets/catalog/LANDSAT_LC08_C01_T1_SR\n",
    "s2_1c = ee.ImageCollection('COPERNICUS/S2').select(bandNamesS2,bandNamesOut_s2).filterDate(datetime.datetime(2015, 6, 22), datetime.datetime(2017, 3, 27)).filterBounds(ried_225_222).map(clip_aoi).map(maskS2clouds).map(NDVI).map(SAVI).map(NDBI_swir1).map(NDBI_swir2).map(build_up_index) #https://developers.google.com/earth-engine/datasets/catalog/COPERNICUS_S2\n",
    "s2_sr = ee.ImageCollection('COPERNICUS/S2_SR').select(bandNamesS2_SR,bandNamesOut_s2_sr).filterDate(datetime.datetime(2017, 3, 27), datetime.datetime(2019, 6, 1)).filterBounds(ried_225_222).map(clip_aoi).map(maskS2clouds).map(NDVI).map(SAVI).map(NDBI_swir1).map(NDBI_swir2).map(build_up_index) #https://developers.google.com/earth-engine/datasets/catalog/COPERNICUS_S2_"
   ]
  }
 ],
 "metadata": {
  "kernelspec": {
   "display_name": "Python [conda env:irrigation_detection]",
   "language": "python",
   "name": "conda-env-irrigation_detection-py"
  },
  "language_info": {
   "codemirror_mode": {
    "name": "ipython",
    "version": 3
   },
   "file_extension": ".py",
   "mimetype": "text/x-python",
   "name": "python",
   "nbconvert_exporter": "python",
   "pygments_lexer": "ipython3",
   "version": "3.9.7"
  },
  "toc": {
   "base_numbering": 1,
   "nav_menu": {},
   "number_sections": true,
   "sideBar": true,
   "skip_h1_title": false,
   "title_cell": "Table of Contents",
   "title_sidebar": "Contents",
   "toc_cell": false,
   "toc_position": {},
   "toc_section_display": true,
   "toc_window_display": false
  },
  "varInspector": {
   "cols": {
    "lenName": 16,
    "lenType": 16,
    "lenVar": 40
   },
   "kernels_config": {
    "python": {
     "delete_cmd_postfix": "",
     "delete_cmd_prefix": "del ",
     "library": "var_list.py",
     "varRefreshCmd": "print(var_dic_list())"
    },
    "r": {
     "delete_cmd_postfix": ") ",
     "delete_cmd_prefix": "rm(",
     "library": "var_list.r",
     "varRefreshCmd": "cat(var_dic_list()) "
    }
   },
   "types_to_exclude": [
    "module",
    "function",
    "builtin_function_or_method",
    "instance",
    "_Feature"
   ],
   "window_display": false
  }
 },
 "nbformat": 4,
 "nbformat_minor": 2
}
