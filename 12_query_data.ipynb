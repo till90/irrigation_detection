{
 "cells": [
  {
   "cell_type": "code",
   "execution_count": null,
   "metadata": {
    "ExecuteTime": {
     "end_time": "2021-10-28T11:20:10.957222Z",
     "start_time": "2021-10-28T11:19:42.773360Z"
    }
   },
   "outputs": [],
   "source": [
    "import sys\n",
    "!conda install -c conda-forge --yes --prefix {sys.prefix} pygeos"
   ]
  },
  {
   "cell_type": "code",
   "execution_count": null,
   "metadata": {
    "ExecuteTime": {
     "end_time": "2021-11-02T12:08:51.564819Z",
     "start_time": "2021-11-02T12:08:46.622484Z"
    }
   },
   "outputs": [],
   "source": [
    "import geopandas as gpd\n",
    "import pandas as pd\n",
    "import numpy as np\n",
    "import xarray as xr\n",
    "import hvplot.pandas\n",
    "import hvplot.xarray"
   ]
  },
  {
   "cell_type": "code",
   "execution_count": null,
   "metadata": {
    "ExecuteTime": {
     "end_time": "2021-11-02T12:09:45.076035Z",
     "start_time": "2021-11-02T12:09:43.017583Z"
    }
   },
   "outputs": [],
   "source": [
    "# Datasets\n",
    "LTS = gpd.read_file(r'C:\\Users\\USER\\Desktop\\Master_Irrigation\\03_GIS\\LUCAS_TOPSOIL_shape\\LTS_subset.shp')\n",
    "BDF5L = gpd.read_file(r'C:\\Users\\USER\\Desktop\\Master_Irrigation\\03_GIS\\BFDL_ML46\\BFD5L_subset.shp')\n",
    "NDVI_10Dmax = xr.open_dataset(r'C:\\Users\\USER\\Desktop\\Master_Irrigation\\03_GIS\\datasets\\NDVI_10Dmax_1km.nc')\n",
    "RADOLAN = xr.open_dataset(r'C:\\Users\\USER\\Desktop\\Master_Irrigation\\03_GIS\\datasets\\RADOLAN_1km.nc')\n",
    "SSM = xr.open_dataset(r'C:\\Users\\USER\\Desktop\\Master_Irrigation\\03_GIS\\datasets\\SSM_1km_V1.nc')\n",
    "EVAPO_R = xr.open_dataset(r'C:\\Users\\USER\\Desktop\\Master_Irrigation\\03_GIS\\datasets\\EVAPOTRANSPIRATION_REAL.nc')\n",
    "EVAPO_P = xr.open_dataset(r'C:\\Users\\USER\\Desktop\\Master_Irrigation\\03_GIS\\datasets\\EVAPOTRANSPIRATION_POTENTIAL.nc')\n",
    "L7_sr_ndvi = xr.open_dataset(r'C:\\Users\\USER\\Desktop\\Master_Irrigation\\03_GIS\\datasets\\l7_sr_ndvi_100m.nc')\n",
    "L8_sr_ndvi = xr.open_dataset(r'C:\\Users\\USER\\Desktop\\Master_Irrigation\\03_GIS\\datasets\\l8_sr_ndvi_100m.nc')\n",
    "S2_1C = xr.open_dataset(r'C:\\Users\\USER\\Desktop\\Master_Irrigation\\03_GIS\\datasets\\s2_1c.nc')\n",
    "S2_1C_ndvi = xr.open_dataset(r'C:\\Users\\USER\\Desktop\\Master_Irrigation\\03_GIS\\datasets\\s2_1c_ndvi_100m.nc')\n"
   ]
  },
  {
   "cell_type": "code",
   "execution_count": null,
   "metadata": {
    "ExecuteTime": {
     "end_time": "2021-10-28T11:30:30.932853Z",
     "start_time": "2021-10-28T11:30:30.928878Z"
    }
   },
   "outputs": [],
   "source": [
    "# Define a point of interest (x,y), so (longitude, latitude).\n",
    "point = (8.51559, 49.7429) #LTS ID 42142960"
   ]
  },
  {
   "cell_type": "code",
   "execution_count": null,
   "metadata": {
    "ExecuteTime": {
     "end_time": "2021-10-28T11:30:31.685765Z",
     "start_time": "2021-10-28T11:30:31.677766Z"
    }
   },
   "outputs": [],
   "source": [
    "# Create a DataFrame from point of interest.\n",
    "p_df = pd.DataFrame.from_dict({'x':[8.51559], 'y':[49.7429]})"
   ]
  },
  {
   "cell_type": "code",
   "execution_count": null,
   "metadata": {
    "ExecuteTime": {
     "end_time": "2021-10-28T11:41:07.470070Z",
     "start_time": "2021-10-28T11:41:07.449982Z"
    }
   },
   "outputs": [],
   "source": [
    "# Create GeoDataFrame from DataFrame.\n",
    "p_gdf = gpd.GeoDataFrame(p_df, geometry=gpd.points_from_xy(p_df.x, p_df.y), crs='EPSG:4326')"
   ]
  },
  {
   "cell_type": "code",
   "execution_count": null,
   "metadata": {
    "ExecuteTime": {
     "end_time": "2021-10-28T11:41:08.220861Z",
     "start_time": "2021-10-28T11:41:08.136862Z"
    }
   },
   "outputs": [],
   "source": [
    "## Table data query.\n",
    "# Query LTS data.\n",
    "p_gdf = p_gdf.sjoin_nearest(LTS, lsuffix='LTS_left', rsuffix='LTS_right', distance_col='LTS_distance')\n",
    "# Query BDF5L data.\n",
    "p_gdf = p_gdf.sjoin_nearest(BDF5L, lsuffix='BDF5L_left', rsuffix='BDF5L_right', distance_col='BDF5L_distance')"
   ]
  },
  {
   "cell_type": "code",
   "execution_count": null,
   "metadata": {
    "ExecuteTime": {
     "end_time": "2021-10-28T12:31:42.346110Z",
     "start_time": "2021-10-28T12:31:42.146080Z"
    }
   },
   "outputs": [],
   "source": [
    "## Grid data query.\n",
    "test = SSM.sel(lon=point[0], lat=point[1], method='nearest')\n",
    "test = test.where(test.ssm != np.nan, drop=True)\n",
    "test.ssm.hvplot.line(groupby='time.year')"
   ]
  },
  {
   "cell_type": "code",
   "execution_count": null,
   "metadata": {
    "ExecuteTime": {
     "end_time": "2021-10-28T12:11:29.103701Z",
     "start_time": "2021-10-28T12:11:28.961982Z"
    }
   },
   "outputs": [],
   "source": [
    "# Plot GeoDataFrame table.\n",
    "p_gdf.hvplot.table(columns=[x for x in list(p_gdf.columns.values) if x != 'geometry'])"
   ]
  }
 ],
 "metadata": {
  "kernelspec": {
   "display_name": "Python [conda env:irrigation_detection]",
   "language": "python",
   "name": "conda-env-irrigation_detection-py"
  },
  "language_info": {
   "codemirror_mode": {
    "name": "ipython",
    "version": 3
   },
   "file_extension": ".py",
   "mimetype": "text/x-python",
   "name": "python",
   "nbconvert_exporter": "python",
   "pygments_lexer": "ipython3",
   "version": "3.9.7"
  },
  "toc": {
   "base_numbering": 1,
   "nav_menu": {},
   "number_sections": true,
   "sideBar": true,
   "skip_h1_title": false,
   "title_cell": "Table of Contents",
   "title_sidebar": "Contents",
   "toc_cell": false,
   "toc_position": {},
   "toc_section_display": true,
   "toc_window_display": false
  },
  "varInspector": {
   "cols": {
    "lenName": 16,
    "lenType": 16,
    "lenVar": 40
   },
   "kernels_config": {
    "python": {
     "delete_cmd_postfix": "",
     "delete_cmd_prefix": "del ",
     "library": "var_list.py",
     "varRefreshCmd": "print(var_dic_list())"
    },
    "r": {
     "delete_cmd_postfix": ") ",
     "delete_cmd_prefix": "rm(",
     "library": "var_list.r",
     "varRefreshCmd": "cat(var_dic_list()) "
    }
   },
   "position": {
    "height": "514.85px",
    "left": "1774px",
    "right": "20px",
    "top": "120px",
    "width": "350px"
   },
   "types_to_exclude": [
    "module",
    "function",
    "builtin_function_or_method",
    "instance",
    "_Feature"
   ],
   "window_display": true
  }
 },
 "nbformat": 4,
 "nbformat_minor": 2
}
