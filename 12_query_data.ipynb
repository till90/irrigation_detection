{
 "cells": [
  {
   "cell_type": "code",
   "execution_count": null,
   "metadata": {
    "ExecuteTime": {
     "end_time": "2021-10-28T11:20:10.957222Z",
     "start_time": "2021-10-28T11:19:42.773360Z"
    }
   },
   "outputs": [],
   "source": [
    "import sys\n",
    "!conda install -c conda-forge --yes --prefix {sys.prefix} pygeos"
   ]
  },
  {
   "cell_type": "code",
   "execution_count": 47,
   "metadata": {
    "ExecuteTime": {
     "end_time": "2021-10-28T11:48:04.248967Z",
     "start_time": "2021-10-28T11:48:04.233346Z"
    }
   },
   "outputs": [],
   "source": [
    "import geopandas as gpd\n",
    "import pandas as pd\n",
    "import numpy as np\n",
    "import xarray as xr\n",
    "import hvplot.pandas\n",
    "import hvplot.xarray"
   ]
  },
  {
   "cell_type": "code",
   "execution_count": 2,
   "metadata": {
    "ExecuteTime": {
     "end_time": "2021-10-28T11:23:58.588413Z",
     "start_time": "2021-10-28T11:23:56.526006Z"
    }
   },
   "outputs": [],
   "source": [
    "# Datasets\n",
    "LTS = gpd.read_file(r'C:\\Users\\USER\\Desktop\\Master_Irrigation\\03_GIS\\LUCAS_TOPSOIL_shape\\LTS_subset.shp')\n",
    "BDF5L = gpd.read_file(r'C:\\Users\\USER\\Desktop\\Master_Irrigation\\03_GIS\\BFDL_ML46\\BFD5L_subset.shp')\n",
    "NDVI_10Dmax = xr.open_dataset(r'C:\\Users\\USER\\Desktop\\Master_Irrigation\\03_GIS\\datasets\\NDVI_10Dmax_1km.nc')\n",
    "RADOLAN = xr.open_dataset(r'C:\\Users\\USER\\Desktop\\Master_Irrigation\\03_GIS\\datasets\\RADOLAN_1km.nc')\n",
    "SSM = xr.open_dataset(r'C:\\Users\\USER\\Desktop\\Master_Irrigation\\03_GIS\\datasets\\SSM_1km_V1.nc')"
   ]
  },
  {
   "cell_type": "code",
   "execution_count": 15,
   "metadata": {
    "ExecuteTime": {
     "end_time": "2021-10-28T11:30:30.932853Z",
     "start_time": "2021-10-28T11:30:30.928878Z"
    }
   },
   "outputs": [],
   "source": [
    "# Define a point of interest (x,y), so (longitude, latitude).\n",
    "point = (8.51559, 49.7429) #LTS ID 42142960"
   ]
  },
  {
   "cell_type": "code",
   "execution_count": 16,
   "metadata": {
    "ExecuteTime": {
     "end_time": "2021-10-28T11:30:31.685765Z",
     "start_time": "2021-10-28T11:30:31.677766Z"
    }
   },
   "outputs": [],
   "source": [
    "# Create a DataFrame from point of interest.\n",
    "p_df = pd.DataFrame.from_dict({'x':[8.51559], 'y':[49.7429]})"
   ]
  },
  {
   "cell_type": "code",
   "execution_count": 24,
   "metadata": {
    "ExecuteTime": {
     "end_time": "2021-10-28T11:41:07.470070Z",
     "start_time": "2021-10-28T11:41:07.449982Z"
    }
   },
   "outputs": [],
   "source": [
    "# Create GeoDataFrame from DataFrame.\n",
    "p_gdf = gpd.GeoDataFrame(p_df, geometry=gpd.points_from_xy(p_df.x, p_df.y), crs='EPSG:4326')"
   ]
  },
  {
   "cell_type": "code",
   "execution_count": 25,
   "metadata": {
    "ExecuteTime": {
     "end_time": "2021-10-28T11:41:08.220861Z",
     "start_time": "2021-10-28T11:41:08.136862Z"
    }
   },
   "outputs": [
    {
     "name": "stderr",
     "output_type": "stream",
     "text": [
      "C:\\Users\\USER\\Anaconda3\\envs\\irrigation_detection\\lib\\site-packages\\geopandas\\array.py:341: UserWarning: Geometry is in a geographic CRS. Results from 'sjoin_nearest' are likely incorrect. Use 'GeoSeries.to_crs()' to re-project geometries to a projected CRS before this operation.\n",
      "\n",
      "  warnings.warn(\n"
     ]
    }
   ],
   "source": [
    "## Table data query.\n",
    "# Query LTS data.\n",
    "p_gdf = p_gdf.sjoin_nearest(LTS, lsuffix='LTS_left', rsuffix='LTS_right', distance_col='LTS_distance')\n",
    "# Query BDF5L data.\n",
    "p_gdf = p_gdf.sjoin_nearest(BDF5L, lsuffix='BDF5L_left', rsuffix='BDF5L_right', distance_col='BDF5L_distance')"
   ]
  },
  {
   "cell_type": "code",
   "execution_count": 100,
   "metadata": {
    "ExecuteTime": {
     "end_time": "2021-10-28T12:31:42.346110Z",
     "start_time": "2021-10-28T12:31:42.146080Z"
    }
   },
   "outputs": [
    {
     "data": {},
     "metadata": {},
     "output_type": "display_data"
    },
    {
     "data": {
      "application/vnd.holoviews_exec.v0+json": "",
      "text/html": [
       "<div id='7108'>\n",
       "\n",
       "\n",
       "\n",
       "\n",
       "\n",
       "  <div class=\"bk-root\" id=\"1d7ba5f0-923c-4239-ad8e-8afa2685e83c\" data-root-id=\"7108\"></div>\n",
       "</div>\n",
       "<script type=\"application/javascript\">(function(root) {\n",
       "  function embed_document(root) {\n",
       "    var docs_json = {\"41014fc0-3a91-4de1-bff8-b91aa4d95c61\":{\"defs\":[{\"extends\":null,\"module\":null,\"name\":\"ReactiveHTML1\",\"overrides\":[],\"properties\":[]},{\"extends\":null,\"module\":null,\"name\":\"FlexBox1\",\"overrides\":[],\"properties\":[{\"default\":\"flex-start\",\"kind\":null,\"name\":\"align_content\"},{\"default\":\"flex-start\",\"kind\":null,\"name\":\"align_items\"},{\"default\":\"row\",\"kind\":null,\"name\":\"flex_direction\"},{\"default\":\"wrap\",\"kind\":null,\"name\":\"flex_wrap\"},{\"default\":\"flex-start\",\"kind\":null,\"name\":\"justify_content\"}]},{\"extends\":null,\"module\":null,\"name\":\"TemplateActions1\",\"overrides\":[],\"properties\":[{\"default\":0,\"kind\":null,\"name\":\"open_modal\"},{\"default\":0,\"kind\":null,\"name\":\"close_modal\"}]},{\"extends\":null,\"module\":null,\"name\":\"MaterialTemplateActions1\",\"overrides\":[],\"properties\":[{\"default\":0,\"kind\":null,\"name\":\"open_modal\"},{\"default\":0,\"kind\":null,\"name\":\"close_modal\"}]}],\"roots\":{\"references\":[{\"attributes\":{\"line_alpha\":0.1,\"line_color\":\"#30a2da\",\"line_width\":2,\"x\":{\"field\":\"time\"},\"y\":{\"field\":\"ssm\"}},\"id\":\"7147\",\"type\":\"Line\"},{\"attributes\":{\"children\":[{\"id\":\"7109\"},{\"id\":\"7113\"},{\"id\":\"7208\"},{\"id\":\"7209\"}],\"margin\":[0,0,0,0],\"name\":\"Row14141\"},\"id\":\"7108\",\"type\":\"Row\"},{\"attributes\":{\"axis_label\":\"time\",\"coordinates\":null,\"formatter\":{\"id\":\"7153\"},\"group\":null,\"major_label_policy\":{\"id\":\"7154\"},\"ticker\":{\"id\":\"7123\"}},\"id\":\"7122\",\"type\":\"DatetimeAxis\"},{\"attributes\":{\"children\":[{\"id\":\"7212\"}],\"css_classes\":[\"panel-widget-box\"],\"margin\":[5,5,5,5],\"name\":\"WidgetBox14142\"},\"id\":\"7211\",\"type\":\"Column\"},{\"attributes\":{\"callback\":null,\"formatters\":{\"@{time}\":\"datetime\"},\"renderers\":[{\"id\":\"7149\"}],\"tags\":[\"hv_created\"],\"tooltips\":[[\"time\",\"@{time}{%F %T}\"],[\"ssm\",\"@{ssm}\"]]},\"id\":\"7112\",\"type\":\"HoverTool\"},{\"attributes\":{},\"id\":\"7157\",\"type\":\"AllLabels\"},{\"attributes\":{\"months\":[0,4,8]},\"id\":\"7183\",\"type\":\"MonthsTicker\"},{\"attributes\":{\"axis_label\":\"ssm\",\"coordinates\":null,\"formatter\":{\"id\":\"7156\"},\"group\":null,\"major_label_policy\":{\"id\":\"7157\"},\"ticker\":{\"id\":\"7127\"}},\"id\":\"7126\",\"type\":\"LinearAxis\"},{\"attributes\":{\"data\":{\"ssm\":{\"__ndarray__\":\"AADAfwAAKkIAAMB/AADAfwAAwH8AAMB/AAATQgAAwH8AAMB/AADAfwAAwH8AAMB/AADAfwAAPUIAAMB/AADAfwAAwH8AAMB/AAAlQgAAwH8AAMB/AADAfwAAwH8AAMB/AADAfwAAwH8AAMB/AAAmQgAAwH8AAMB/AAA4QgAAwH8AAMB/AADAfwAA4EAAAMB/AADAfwAAwH8AAMB/AAAiQgAAwH8AAMB/AAAaQgAAwH8AAMB/AADAfwAA+EEAAMB/AADAfwAAwH8AAMB/AAApQgAAwH8AAMB/AABIQgAAwH8AAMB/AADAfwAA+kEAAMB/AADAfwAAwH8AAMB/AACwQQAAwH8AAMB/AACmQQAAwH8AAMB/AADAfwAAlkEAAMB/AADAfwAAwH8AAMB/AADAfwAAwH8AAMB/AADSQQAAwH8AAMB/AADAfwAAAUIAAMB/AADAfwAAwH8AAMB/AAAQQgAAwH8AAMB/AABFQgAAwH8AAMB/AADAfwAAwH8AAMB/AADAfwAAwH8AAMB/AABkQQAAwH8AAMB/AADKQQAAwH8AAMB/AADAfwAAbEEAAMB/AADAfwAAwH8AAMB/AAAgQQAAwH8AAMB/AACeQQAAwH8AAMB/AADAfwAAyEEAAMB/AADAfwAAwH8AAMB/AAAgQQAAwH8AAMB/AADmQQAAwH8AAMB/AADAfwAAmEEAAMB/AADAfwAAwH8AAMB/AADAfwAAwH8AAMB/AADOQQAAwH8AAMB/AADAfwAA7kEAAMB/AADAfwAAwH8AAMB/AADAfwAAwH8AAMB/AADoQQAAwH8AAMB/AADAfwAAyEEAAMB/AADAfwAAwH8AAMB/AACWQQAAwH8AAMB/AACyQQAAwH8AAMB/AADAfwAA8kEAAMB/AADAfwAAwH8AAMB/AAANQgAAwH8AAMB/AAArQgAAwH8AAMB/AADAfwAA7EEAAMB/AADAfwAAwH8AAMB/AACMQQAAwH8AAMB/AADAfwAAwH8AAMB/AADAfwAAqkEAAMB/AADAfwAAwH8AAMB/AADSQQAAwH8AAMB/AADAfwAAwH8AAMB/AADAfwAAPEIAAMB/AADAfwAAwH8AAMB/AAB4QQAAwH8AAMB/AADcQQAAwH8AAMB/AADQQQAAwH8AAMB/AADAfwAAykEAAMB/AADAfwAAyEEAAMB/AADAfwAAwH8AAHJCAADAfwAAwH8AAMB/AADAfwAAikEAAMB/AADAfwAA0EEAAMB/AADAfwAAwH8AAANCAADAfwAAwH8AAMB/AADAfwAAhEEAAMB/AADAfwAApkEAAMB/AADAfwAAwH8AAJxBAADAfwAAwH8AAMB/AADAfwAAPEIAAMB/AADAfwAAwH8AAMB/AADAfwAAwH8AAHJCAADAfwAAwH8AAMB/AADAfwAAwH8AAMB/AADAfwAAwH8AAMB/AADAfwAAwH8AACBCAADAfwAAwH8AAMB/AADAfwAAwH8AAMB/AADAfwAAoEEAAMB/AADAfwAAwH8AAHJCAADAfwAAwH8AAMB/AADAfwAAwH8AAMB/AADAfwAAwH8AAMB/AADAfwAAwH8AAAxCAADAfwAAwH8AAMB/AADAfwAADEIAAMB/AADAfwAA8EEAAMB/AADAfwAAwH8AANxBAADAfwAAwH8AAMB/AADAfwAABUIAAMB/AADAfwAA+EEAAMB/AADAfwAAwH8AAEJCAADAfwAAwH8AAMB/AADAfwAAxEEAAMB/AADAfwAAOUIAAMB/AADAfwAAwH8AAA9CAADAfwAAwH8AAMB/AADAfwAAO0IAAMB/AADAfwAAL0IAAMB/AADAfwAAwH8AADhCAADAfwAAwH8AAMB/AADAfwAAPEIAAMB/AADAfwAAIEIAAMB/AADAfwAAwH8AAOpBAADAfwAAwH8AAMB/\",\"dtype\":\"float32\",\"order\":\"little\",\"shape\":[360]},\"time\":{\"__ndarray__\":\"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\",\"dtype\":\"float64\",\"order\":\"little\",\"shape\":[360]}},\"selected\":{\"id\":\"7144\"},\"selection_policy\":{\"id\":\"7171\"}},\"id\":\"7143\",\"type\":\"ColumnDataSource\"},{\"attributes\":{\"days\":[1,15]},\"id\":\"7180\",\"type\":\"DaysTicker\"},{\"attributes\":{\"tools\":[{\"id\":\"7112\"},{\"id\":\"7130\"},{\"id\":\"7131\"},{\"id\":\"7132\"},{\"id\":\"7133\"},{\"id\":\"7134\"}]},\"id\":\"7136\",\"type\":\"Toolbar\"},{\"attributes\":{\"base\":24,\"mantissas\":[1,2,4,6,8,12],\"max_interval\":43200000.0,\"min_interval\":3600000.0,\"num_minor_ticks\":0},\"id\":\"7176\",\"type\":\"AdaptiveTicker\"},{\"attributes\":{\"args\":{\"bidirectional\":false,\"properties\":{},\"source\":{\"id\":\"7214\"},\"target\":{\"id\":\"7213\"}},\"code\":\"try { \\n    var labels = ['time.year: <b>2015</b>', 'time.year: <b>2016</b>', 'time.year: <b>2017</b>', 'time.year: <b>2018</b>', 'time.year: <b>2019</b>', 'time.year: <b>2020</b>', 'time.year: <b>2021</b>']\\n    target.text = labels[source.value]\\n     } catch(err) { console.log(err) }\",\"tags\":[3180895327856]},\"id\":\"7238\",\"type\":\"CustomJS\"},{\"attributes\":{\"source\":{\"id\":\"7143\"}},\"id\":\"7150\",\"type\":\"CDSView\"},{\"attributes\":{\"children\":[{\"id\":\"7213\"},{\"id\":\"7214\"}],\"margin\":[0,0,0,0],\"min_width\":290,\"name\":\"Column14151\",\"width\":290},\"id\":\"7212\",\"type\":\"Column\"},{\"attributes\":{\"days\":[1,2,3,4,5,6,7,8,9,10,11,12,13,14,15,16,17,18,19,20,21,22,23,24,25,26,27,28,29,30,31]},\"id\":\"7177\",\"type\":\"DaysTicker\"},{\"attributes\":{\"line_color\":\"#30a2da\",\"line_width\":2,\"x\":{\"field\":\"time\"},\"y\":{\"field\":\"ssm\"}},\"id\":\"7146\",\"type\":\"Line\"},{\"attributes\":{},\"id\":\"7131\",\"type\":\"PanTool\"},{\"attributes\":{},\"id\":\"7134\",\"type\":\"ResetTool\"},{\"attributes\":{\"months\":[0,2,4,6,8,10]},\"id\":\"7182\",\"type\":\"MonthsTicker\"},{\"attributes\":{},\"id\":\"7118\",\"type\":\"LinearScale\"},{\"attributes\":{\"margin\":[5,5,5,5],\"name\":\"HSpacer14158\",\"sizing_mode\":\"stretch_width\"},\"id\":\"7208\",\"type\":\"Spacer\"},{\"attributes\":{\"overlay\":{\"id\":\"7135\"}},\"id\":\"7133\",\"type\":\"BoxZoomTool\"},{\"attributes\":{\"margin\":[5,5,5,5],\"name\":\"VSpacer14155\",\"sizing_mode\":\"stretch_height\"},\"id\":\"7215\",\"type\":\"Spacer\"},{\"attributes\":{},\"id\":\"7171\",\"type\":\"UnionRenderers\"},{\"attributes\":{\"days\":[1,8,15,22]},\"id\":\"7179\",\"type\":\"DaysTicker\"},{\"attributes\":{\"coordinates\":null,\"data_source\":{\"id\":\"7143\"},\"glyph\":{\"id\":\"7146\"},\"group\":null,\"hover_glyph\":null,\"muted_glyph\":{\"id\":\"7148\"},\"nonselection_glyph\":{\"id\":\"7147\"},\"selection_glyph\":{\"id\":\"7151\"},\"view\":{\"id\":\"7150\"}},\"id\":\"7149\",\"type\":\"GlyphRenderer\"},{\"attributes\":{\"end\":1451520000000.0,\"reset_end\":1451520000000.0,\"reset_start\":1420070400000.0,\"start\":1420070400000.0,\"tags\":[[[\"time\",\"time\",null]]]},\"id\":\"7110\",\"type\":\"Range1d\"},{\"attributes\":{\"axis\":{\"id\":\"7122\"},\"coordinates\":null,\"grid_line_color\":null,\"group\":null,\"ticker\":null},\"id\":\"7125\",\"type\":\"Grid\"},{\"attributes\":{\"margin\":[5,5,5,5],\"name\":\"VSpacer14154\",\"sizing_mode\":\"stretch_height\"},\"id\":\"7210\",\"type\":\"Spacer\"},{\"attributes\":{\"end\":65.85,\"reset_end\":65.85,\"reset_start\":1.6499999999999995,\"start\":1.6499999999999995,\"tags\":[[[\"ssm\",\"ssm\",null]]]},\"id\":\"7111\",\"type\":\"Range1d\"},{\"attributes\":{\"below\":[{\"id\":\"7122\"}],\"center\":[{\"id\":\"7125\"},{\"id\":\"7129\"}],\"height\":300,\"left\":[{\"id\":\"7126\"}],\"margin\":[5,5,5,5],\"min_border_bottom\":10,\"min_border_left\":10,\"min_border_right\":10,\"min_border_top\":10,\"renderers\":[{\"id\":\"7149\"}],\"sizing_mode\":\"fixed\",\"title\":{\"id\":\"7114\"},\"toolbar\":{\"id\":\"7136\"},\"width\":700,\"x_range\":{\"id\":\"7110\"},\"x_scale\":{\"id\":\"7118\"},\"y_range\":{\"id\":\"7111\"},\"y_scale\":{\"id\":\"7120\"}},\"id\":\"7113\",\"subtype\":\"Figure\",\"type\":\"Plot\"},{\"attributes\":{\"margin\":[20,0,0,20],\"name\":\"\",\"style\":{\"white-space\":\"nowrap\"},\"text\":\"time.year: <b>2015</b>\",\"width\":250},\"id\":\"7213\",\"type\":\"Div\"},{\"attributes\":{\"months\":[0,6]},\"id\":\"7184\",\"type\":\"MonthsTicker\"},{\"attributes\":{},\"id\":\"7120\",\"type\":\"LinearScale\"},{\"attributes\":{\"mantissas\":[1,2,5],\"max_interval\":500.0,\"num_minor_ticks\":0},\"id\":\"7174\",\"type\":\"AdaptiveTicker\"},{\"attributes\":{\"margin\":[5,5,5,5],\"name\":\"HSpacer14157\",\"sizing_mode\":\"stretch_width\"},\"id\":\"7109\",\"type\":\"Spacer\"},{\"attributes\":{},\"id\":\"7156\",\"type\":\"BasicTickFormatter\"},{\"attributes\":{},\"id\":\"7130\",\"type\":\"SaveTool\"},{\"attributes\":{\"months\":[0,1,2,3,4,5,6,7,8,9,10,11]},\"id\":\"7181\",\"type\":\"MonthsTicker\"},{\"attributes\":{},\"id\":\"7144\",\"type\":\"Selection\"},{\"attributes\":{\"days\":[1,4,7,10,13,16,19,22,25,28]},\"id\":\"7178\",\"type\":\"DaysTicker\"},{\"attributes\":{\"base\":60,\"mantissas\":[1,2,5,10,15,20,30],\"max_interval\":1800000.0,\"min_interval\":1000.0,\"num_minor_ticks\":0},\"id\":\"7175\",\"type\":\"AdaptiveTicker\"},{\"attributes\":{\"coordinates\":null,\"group\":null,\"text\":\"time.year: 2015\",\"text_color\":\"black\",\"text_font_size\":\"12pt\"},\"id\":\"7114\",\"type\":\"Title\"},{\"attributes\":{\"children\":[{\"id\":\"7210\"},{\"id\":\"7211\"},{\"id\":\"7215\"}],\"margin\":[0,0,0,0],\"name\":\"Column14156\"},\"id\":\"7209\",\"type\":\"Column\"},{\"attributes\":{\"bottom_units\":\"screen\",\"coordinates\":null,\"fill_alpha\":0.5,\"fill_color\":\"lightgrey\",\"group\":null,\"left_units\":\"screen\",\"level\":\"overlay\",\"line_alpha\":1.0,\"line_color\":\"black\",\"line_dash\":[4,4],\"line_width\":2,\"right_units\":\"screen\",\"syncable\":false,\"top_units\":\"screen\"},\"id\":\"7135\",\"type\":\"BoxAnnotation\"},{\"attributes\":{\"axis\":{\"id\":\"7126\"},\"coordinates\":null,\"dimension\":1,\"grid_line_color\":null,\"group\":null,\"ticker\":null},\"id\":\"7129\",\"type\":\"Grid\"},{\"attributes\":{\"line_alpha\":0.2,\"line_color\":\"#30a2da\",\"line_width\":2,\"x\":{\"field\":\"time\"},\"y\":{\"field\":\"ssm\"}},\"id\":\"7148\",\"type\":\"Line\"},{\"attributes\":{\"num_minor_ticks\":5,\"tickers\":[{\"id\":\"7174\"},{\"id\":\"7175\"},{\"id\":\"7176\"},{\"id\":\"7177\"},{\"id\":\"7178\"},{\"id\":\"7179\"},{\"id\":\"7180\"},{\"id\":\"7181\"},{\"id\":\"7182\"},{\"id\":\"7183\"},{\"id\":\"7184\"},{\"id\":\"7185\"}]},\"id\":\"7123\",\"type\":\"DatetimeTicker\"},{\"attributes\":{\"client_comm_id\":\"6bffefd22cf94b598aa122ca89b6c89a\",\"comm_id\":\"512d62b8207e488cb58d835df6f7db7b\",\"plot_id\":\"7108\"},\"id\":\"7283\",\"type\":\"panel.models.comm_manager.CommManager\"},{\"attributes\":{\"end\":6,\"js_property_callbacks\":{\"change:value\":[{\"id\":\"7238\"}]},\"margin\":[0,20,20,20],\"min_width\":250,\"show_value\":false,\"start\":0,\"tooltips\":false,\"value\":0,\"width\":250},\"id\":\"7214\",\"type\":\"Slider\"},{\"attributes\":{},\"id\":\"7132\",\"type\":\"WheelZoomTool\"},{\"attributes\":{\"line_color\":\"#30a2da\",\"line_width\":2,\"x\":{\"field\":\"time\"},\"y\":{\"field\":\"ssm\"}},\"id\":\"7151\",\"type\":\"Line\"},{\"attributes\":{},\"id\":\"7154\",\"type\":\"AllLabels\"},{\"attributes\":{},\"id\":\"7127\",\"type\":\"BasicTicker\"},{\"attributes\":{},\"id\":\"7185\",\"type\":\"YearsTicker\"},{\"attributes\":{},\"id\":\"7153\",\"type\":\"DatetimeTickFormatter\"}],\"root_ids\":[\"7108\",\"7283\"]},\"title\":\"Bokeh Application\",\"version\":\"2.4.1\"}};\n",
       "    var render_items = [{\"docid\":\"41014fc0-3a91-4de1-bff8-b91aa4d95c61\",\"root_ids\":[\"7108\"],\"roots\":{\"7108\":\"1d7ba5f0-923c-4239-ad8e-8afa2685e83c\"}}];\n",
       "    root.Bokeh.embed.embed_items_notebook(docs_json, render_items);\n",
       "  }\n",
       "  if (root.Bokeh !== undefined && root.Bokeh.Panel !== undefined) {\n",
       "    embed_document(root);\n",
       "  } else {\n",
       "    var attempts = 0;\n",
       "    var timer = setInterval(function(root) {\n",
       "      if (root.Bokeh !== undefined && root.Bokeh.Panel !== undefined) {\n",
       "        clearInterval(timer);\n",
       "        embed_document(root);\n",
       "      } else if (document.readyState == \"complete\") {\n",
       "        attempts++;\n",
       "        if (attempts > 200) {\n",
       "          clearInterval(timer);\n",
       "          console.log(\"Bokeh: ERROR: Unable to run BokehJS code because BokehJS library is missing\");\n",
       "        }\n",
       "      }\n",
       "    }, 25, root)\n",
       "  }\n",
       "})(window);</script>"
      ],
      "text/plain": [
       ":DynamicMap   [time.year]\n",
       "   :Curve   [time]   (ssm)"
      ]
     },
     "execution_count": 100,
     "metadata": {
      "application/vnd.holoviews_exec.v0+json": {
       "id": "7108"
      }
     },
     "output_type": "execute_result"
    }
   ],
   "source": [
    "## Grid data query.\n",
    "test = SSM.sel(lon=point[0], lat=point[1], method='nearest')\n",
    "test = test.where(test.ssm != np.nan, drop=True)\n",
    "test.ssm.hvplot.line(groupby='time.year')"
   ]
  },
  {
   "cell_type": "code",
   "execution_count": 73,
   "metadata": {
    "ExecuteTime": {
     "end_time": "2021-10-28T12:11:29.103701Z",
     "start_time": "2021-10-28T12:11:28.961982Z"
    }
   },
   "outputs": [
    {
     "data": {},
     "metadata": {},
     "output_type": "display_data"
    },
    {
     "data": {
      "application/vnd.holoviews_exec.v0+json": "",
      "text/html": [
       "<div id='4433'>\n",
       "\n",
       "\n",
       "\n",
       "\n",
       "\n",
       "  <div class=\"bk-root\" id=\"d0ce1b84-4fd4-4e86-81e1-d67b61b0a810\" data-root-id=\"4433\"></div>\n",
       "</div>\n",
       "<script type=\"application/javascript\">(function(root) {\n",
       "  function embed_document(root) {\n",
       "    var docs_json = {\"4dac1dfb-051b-45ee-97e1-0b4abb287b22\":{\"defs\":[{\"extends\":null,\"module\":null,\"name\":\"ReactiveHTML1\",\"overrides\":[],\"properties\":[]},{\"extends\":null,\"module\":null,\"name\":\"FlexBox1\",\"overrides\":[],\"properties\":[{\"default\":\"flex-start\",\"kind\":null,\"name\":\"align_content\"},{\"default\":\"flex-start\",\"kind\":null,\"name\":\"align_items\"},{\"default\":\"row\",\"kind\":null,\"name\":\"flex_direction\"},{\"default\":\"wrap\",\"kind\":null,\"name\":\"flex_wrap\"},{\"default\":\"flex-start\",\"kind\":null,\"name\":\"justify_content\"}]},{\"extends\":null,\"module\":null,\"name\":\"TemplateActions1\",\"overrides\":[],\"properties\":[{\"default\":0,\"kind\":null,\"name\":\"open_modal\"},{\"default\":0,\"kind\":null,\"name\":\"close_modal\"}]},{\"extends\":null,\"module\":null,\"name\":\"MaterialTemplateActions1\",\"overrides\":[],\"properties\":[{\"default\":0,\"kind\":null,\"name\":\"open_modal\"},{\"default\":0,\"kind\":null,\"name\":\"close_modal\"}]}],\"roots\":{\"references\":[{\"attributes\":{},\"id\":\"4562\",\"type\":\"StringFormatter\"},{\"attributes\":{},\"id\":\"4567\",\"type\":\"StringFormatter\"},{\"attributes\":{},\"id\":\"4558\",\"type\":\"StringEditor\"},{\"attributes\":{\"editor\":{\"id\":\"4553\"},\"field\":\"Soil_Stone\",\"formatter\":{\"id\":\"4552\"},\"title\":\"Soil_Stone\"},\"id\":\"4554\",\"type\":\"TableColumn\"},{\"attributes\":{},\"id\":\"4572\",\"type\":\"StringFormatter\"},{\"attributes\":{},\"id\":\"4577\",\"type\":\"StringFormatter\"},{\"attributes\":{\"editor\":{\"id\":\"4558\"},\"field\":\"NUTS_0\",\"formatter\":{\"id\":\"4557\"},\"title\":\"NUTS_0\"},\"id\":\"4559\",\"type\":\"TableColumn\"},{\"attributes\":{\"columns\":[{\"id\":\"4439\"},{\"id\":\"4444\"},{\"id\":\"4449\"},{\"id\":\"4454\"},{\"id\":\"4459\"},{\"id\":\"4464\"},{\"id\":\"4469\"},{\"id\":\"4474\"},{\"id\":\"4479\"},{\"id\":\"4484\"},{\"id\":\"4489\"},{\"id\":\"4494\"},{\"id\":\"4499\"},{\"id\":\"4504\"},{\"id\":\"4509\"},{\"id\":\"4514\"},{\"id\":\"4519\"},{\"id\":\"4524\"},{\"id\":\"4529\"},{\"id\":\"4534\"},{\"id\":\"4539\"},{\"id\":\"4544\"},{\"id\":\"4549\"},{\"id\":\"4554\"},{\"id\":\"4559\"},{\"id\":\"4564\"},{\"id\":\"4569\"},{\"id\":\"4574\"},{\"id\":\"4579\"},{\"id\":\"4584\"},{\"id\":\"4589\"},{\"id\":\"4594\"},{\"id\":\"4599\"},{\"id\":\"4604\"},{\"id\":\"4609\"},{\"id\":\"4614\"},{\"id\":\"4619\"},{\"id\":\"4624\"},{\"id\":\"4629\"}],\"height\":300,\"reorderable\":false,\"source\":{\"id\":\"4435\"},\"view\":{\"id\":\"4634\"},\"width\":700},\"id\":\"4632\",\"type\":\"DataTable\"},{\"attributes\":{},\"id\":\"4457\",\"type\":\"NumberFormatter\"},{\"attributes\":{},\"id\":\"4563\",\"type\":\"StringEditor\"},{\"attributes\":{},\"id\":\"4582\",\"type\":\"StringFormatter\"},{\"attributes\":{\"editor\":{\"id\":\"4563\"},\"field\":\"NUTS_1\",\"formatter\":{\"id\":\"4562\"},\"title\":\"NUTS_1\"},\"id\":\"4564\",\"type\":\"TableColumn\"},{\"attributes\":{},\"id\":\"4568\",\"type\":\"StringEditor\"},{\"attributes\":{},\"id\":\"4635\",\"type\":\"UnionRenderers\"},{\"attributes\":{\"format\":\"0,0.0[00000]\"},\"id\":\"4587\",\"type\":\"NumberFormatter\"},{\"attributes\":{\"editor\":{\"id\":\"4568\"},\"field\":\"NUTS_2\",\"formatter\":{\"id\":\"4567\"},\"title\":\"NUTS_2\"},\"id\":\"4569\",\"type\":\"TableColumn\"},{\"attributes\":{},\"id\":\"4573\",\"type\":\"StringEditor\"},{\"attributes\":{},\"id\":\"4436\",\"type\":\"Selection\"},{\"attributes\":{},\"id\":\"4597\",\"type\":\"NumberFormatter\"},{\"attributes\":{\"editor\":{\"id\":\"4573\"},\"field\":\"NUTS_3\",\"formatter\":{\"id\":\"4572\"},\"title\":\"NUTS_3\"},\"id\":\"4574\",\"type\":\"TableColumn\"},{\"attributes\":{},\"id\":\"4578\",\"type\":\"StringEditor\"},{\"attributes\":{},\"id\":\"4593\",\"type\":\"IntEditor\"},{\"attributes\":{\"editor\":{\"id\":\"4578\"},\"field\":\"LC1_Desc\",\"formatter\":{\"id\":\"4577\"},\"title\":\"LC1_Desc\"},\"id\":\"4579\",\"type\":\"TableColumn\"},{\"attributes\":{},\"id\":\"4583\",\"type\":\"StringEditor\"},{\"attributes\":{\"editor\":{\"id\":\"4588\"},\"field\":\"LTS_distance\",\"formatter\":{\"id\":\"4587\"},\"title\":\"LTS_distance\"},\"id\":\"4589\",\"type\":\"TableColumn\"},{\"attributes\":{\"editor\":{\"id\":\"4583\"},\"field\":\"LU1_Desc\",\"formatter\":{\"id\":\"4582\"},\"title\":\"LU1_Desc\"},\"id\":\"4584\",\"type\":\"TableColumn\"},{\"attributes\":{},\"id\":\"4467\",\"type\":\"NumberFormatter\"},{\"attributes\":{},\"id\":\"4588\",\"type\":\"NumberEditor\"},{\"attributes\":{\"format\":\"0,0.0[00000]\"},\"id\":\"4607\",\"type\":\"NumberFormatter\"},{\"attributes\":{},\"id\":\"4472\",\"type\":\"NumberFormatter\"},{\"attributes\":{},\"id\":\"4602\",\"type\":\"NumberFormatter\"},{\"attributes\":{\"format\":\"0,0.0[00000]\"},\"id\":\"4477\",\"type\":\"NumberFormatter\"},{\"attributes\":{},\"id\":\"4592\",\"type\":\"NumberFormatter\"},{\"attributes\":{\"format\":\"0,0.0[00000]\"},\"id\":\"4617\",\"type\":\"NumberFormatter\"},{\"attributes\":{},\"id\":\"4453\",\"type\":\"IntEditor\"},{\"attributes\":{},\"id\":\"4468\",\"type\":\"IntEditor\"},{\"attributes\":{\"editor\":{\"id\":\"4593\"},\"field\":\"index_BDF5L_right\",\"formatter\":{\"id\":\"4592\"},\"title\":\"index_BDF5L_right\"},\"id\":\"4594\",\"type\":\"TableColumn\"},{\"attributes\":{},\"id\":\"4473\",\"type\":\"IntEditor\"},{\"attributes\":{},\"id\":\"4598\",\"type\":\"IntEditor\"},{\"attributes\":{},\"id\":\"4483\",\"type\":\"NumberEditor\"},{\"attributes\":{},\"id\":\"4613\",\"type\":\"StringEditor\"},{\"attributes\":{\"editor\":{\"id\":\"4468\"},\"field\":\"silt\",\"formatter\":{\"id\":\"4467\"},\"title\":\"silt\"},\"id\":\"4469\",\"type\":\"TableColumn\"},{\"attributes\":{\"editor\":{\"id\":\"4598\"},\"field\":\"OBJECTID\",\"formatter\":{\"id\":\"4597\"},\"title\":\"OBJECTID\"},\"id\":\"4599\",\"type\":\"TableColumn\"},{\"attributes\":{},\"id\":\"4603\",\"type\":\"IntEditor\"},{\"attributes\":{\"editor\":{\"id\":\"4608\"},\"field\":\"WERT\",\"formatter\":{\"id\":\"4607\"},\"title\":\"WERT\"},\"id\":\"4609\",\"type\":\"TableColumn\"},{\"attributes\":{\"editor\":{\"id\":\"4478\"},\"field\":\"pH_in_H2O\",\"formatter\":{\"id\":\"4477\"},\"title\":\"pH_in_H2O\"},\"id\":\"4479\",\"type\":\"TableColumn\"},{\"attributes\":{\"editor\":{\"id\":\"4603\"},\"field\":\"GMKNR\",\"formatter\":{\"id\":\"4602\"},\"title\":\"GMKNR\"},\"id\":\"4604\",\"type\":\"TableColumn\"},{\"attributes\":{},\"id\":\"4608\",\"type\":\"NumberEditor\"},{\"attributes\":{\"editor\":{\"id\":\"4458\"},\"field\":\"coarse\",\"formatter\":{\"id\":\"4457\"},\"title\":\"coarse\"},\"id\":\"4459\",\"type\":\"TableColumn\"},{\"attributes\":{},\"id\":\"4623\",\"type\":\"NumberEditor\"},{\"attributes\":{},\"id\":\"4522\",\"type\":\"NumberFormatter\"},{\"attributes\":{\"data\":{\"BDF5L_distance\":{\"__ndarray__\":\"AAAAAAAAAAA=\",\"dtype\":\"float64\",\"order\":\"little\",\"shape\":[1]},\"BODENART\":[\"lS (lS, lS/LT, lS/T, lS/Mo)\"],\"CEC\":{\"__ndarray__\":\"AAAAAAAAL0A=\",\"dtype\":\"float64\",\"order\":\"little\",\"shape\":[1]},\"CaCO3\":{\"__ndarray__\":\"AAAAAAAA8D8=\",\"dtype\":\"float64\",\"order\":\"little\",\"shape\":[1]},\"Elevation\":{\"__ndarray__\":\"AAAAAABAUkA=\",\"dtype\":\"float64\",\"order\":\"little\",\"shape\":[1]},\"GMKNR\":[23],\"GPS_LAT\":{\"__ndarray__\":\"ie/ErBffSEA=\",\"dtype\":\"float64\",\"order\":\"little\",\"shape\":[1]},\"GPS_LONG\":{\"__ndarray__\":\"DkqYafsHIUA=\",\"dtype\":\"float64\",\"order\":\"little\",\"shape\":[1]},\"K\":{\"__ndarray__\":\"AAAAAADQaUA=\",\"dtype\":\"float64\",\"order\":\"little\",\"shape\":[1]},\"LC1\":[\"B13\"],\"LC1_Desc\":[\"Barley\"],\"LTS_distance\":{\"__ndarray__\":\"AAAAibX45D4=\",\"dtype\":\"float64\",\"order\":\"little\",\"shape\":[1]},\"LU1\":[\"U111\"],\"LU1_Desc\":[\"Agriculture (excluding fallow land and kitchen gardens)\"],\"N\":{\"__ndarray__\":\"AAAAAAAA8D8=\",\"dtype\":\"float64\",\"order\":\"little\",\"shape\":[1]},\"NUTS_0\":[\"DE\"],\"NUTS_1\":[\"DE7\"],\"NUTS_2\":[\"DE71\"],\"NUTS_3\":[\"DE717\"],\"Notes\":[\"NaN\"],\"OBJECTID\":[209356],\"OC\":{\"__ndarray__\":\"AAAAAAAAIUA=\",\"dtype\":\"float64\",\"order\":\"little\",\"shape\":[1]},\"P\":{\"__ndarray__\":\"zczMzMwMSEA=\",\"dtype\":\"float64\",\"order\":\"little\",\"shape\":[1]},\"POINT_ID\":[42142960],\"SHAPE_Area\":{\"__ndarray__\":\"GkIEfFEZKUE=\",\"dtype\":\"float64\",\"order\":\"little\",\"shape\":[1]},\"SHAPE_Leng\":{\"__ndarray__\":\"ReuckVAqwUA=\",\"dtype\":\"float64\",\"order\":\"little\",\"shape\":[1]},\"Soil_Stone\":{\"__ndarray__\":\"AAAAAAAA8D8=\",\"dtype\":\"float64\",\"order\":\"little\",\"shape\":[1]},\"WERT\":{\"__ndarray__\":\"AAAAAAAACEA=\",\"dtype\":\"float64\",\"order\":\"little\",\"shape\":[1]},\"clay\":[26],\"coarse\":[7],\"index_BDF5L_right\":[1246],\"index_LTS_right\":[1],\"pH_in_CaCl\":{\"__ndarray__\":\"CtejcD0KHEA=\",\"dtype\":\"float64\",\"order\":\"little\",\"shape\":[1]},\"pH_in_H2O\":{\"__ndarray__\":\"XI/C9ShcHkA=\",\"dtype\":\"float64\",\"order\":\"little\",\"shape\":[1]},\"sample_ID\":[1584],\"sand\":[54],\"silt\":[20],\"x\":{\"__ndarray__\":\"DkqYafsHIUA=\",\"dtype\":\"float64\",\"order\":\"little\",\"shape\":[1]},\"y\":{\"__ndarray__\":\"ZRniWBffSEA=\",\"dtype\":\"float64\",\"order\":\"little\",\"shape\":[1]}},\"selected\":{\"id\":\"4436\"},\"selection_policy\":{\"id\":\"4635\"}},\"id\":\"4435\",\"type\":\"ColumnDataSource\"},{\"attributes\":{\"editor\":{\"id\":\"4463\"},\"field\":\"clay\",\"formatter\":{\"id\":\"4462\"},\"title\":\"clay\"},\"id\":\"4464\",\"type\":\"TableColumn\"},{\"attributes\":{},\"id\":\"4612\",\"type\":\"StringFormatter\"},{\"attributes\":{\"editor\":{\"id\":\"4618\"},\"field\":\"SHAPE_Leng\",\"formatter\":{\"id\":\"4617\"},\"title\":\"SHAPE_Leng\"},\"id\":\"4619\",\"type\":\"TableColumn\"},{\"attributes\":{\"editor\":{\"id\":\"4483\"},\"field\":\"pH_in_CaCl\",\"formatter\":{\"id\":\"4482\"},\"title\":\"pH_in_CaCl\"},\"id\":\"4484\",\"type\":\"TableColumn\"},{\"attributes\":{\"editor\":{\"id\":\"4613\"},\"field\":\"BODENART\",\"formatter\":{\"id\":\"4612\"},\"title\":\"BODENART\"},\"id\":\"4614\",\"type\":\"TableColumn\"},{\"attributes\":{\"editor\":{\"id\":\"4473\"},\"field\":\"sand\",\"formatter\":{\"id\":\"4472\"},\"title\":\"sand\"},\"id\":\"4474\",\"type\":\"TableColumn\"},{\"attributes\":{},\"id\":\"4618\",\"type\":\"NumberEditor\"},{\"attributes\":{},\"id\":\"4463\",\"type\":\"IntEditor\"},{\"attributes\":{\"editor\":{\"id\":\"4623\"},\"field\":\"SHAPE_Area\",\"formatter\":{\"id\":\"4622\"},\"title\":\"SHAPE_Area\"},\"id\":\"4624\",\"type\":\"TableColumn\"},{\"attributes\":{\"editor\":{\"id\":\"4488\"},\"field\":\"OC\",\"formatter\":{\"id\":\"4487\"},\"title\":\"OC\"},\"id\":\"4489\",\"type\":\"TableColumn\"},{\"attributes\":{},\"id\":\"4628\",\"type\":\"NumberEditor\"},{\"attributes\":{},\"id\":\"4478\",\"type\":\"NumberEditor\"},{\"attributes\":{\"format\":\"0,0.0[00000]\"},\"id\":\"4622\",\"type\":\"NumberFormatter\"},{\"attributes\":{},\"id\":\"4488\",\"type\":\"NumberEditor\"},{\"attributes\":{\"editor\":{\"id\":\"4628\"},\"field\":\"BDF5L_distance\",\"formatter\":{\"id\":\"4627\"},\"title\":\"BDF5L_distance\"},\"id\":\"4629\",\"type\":\"TableColumn\"},{\"attributes\":{\"format\":\"0,0.0[00000]\"},\"id\":\"4482\",\"type\":\"NumberFormatter\"},{\"attributes\":{},\"id\":\"4493\",\"type\":\"NumberEditor\"},{\"attributes\":{\"format\":\"0,0.0[00000]\"},\"id\":\"4627\",\"type\":\"NumberFormatter\"},{\"attributes\":{\"format\":\"0,0.0[00000]\"},\"id\":\"4487\",\"type\":\"NumberFormatter\"},{\"attributes\":{\"editor\":{\"id\":\"4493\"},\"field\":\"CaCO3\",\"formatter\":{\"id\":\"4492\"},\"title\":\"CaCO3\"},\"id\":\"4494\",\"type\":\"TableColumn\"},{\"attributes\":{},\"id\":\"4448\",\"type\":\"IntEditor\"},{\"attributes\":{},\"id\":\"4498\",\"type\":\"NumberEditor\"},{\"attributes\":{\"source\":{\"id\":\"4435\"}},\"id\":\"4634\",\"type\":\"CDSView\"},{\"attributes\":{\"format\":\"0,0.0[00000]\"},\"id\":\"4492\",\"type\":\"NumberFormatter\"},{\"attributes\":{\"margin\":[5,5,5,5],\"name\":\"HSpacer08923\",\"sizing_mode\":\"stretch_width\"},\"id\":\"4639\",\"type\":\"Spacer\"},{\"attributes\":{\"editor\":{\"id\":\"4498\"},\"field\":\"N\",\"formatter\":{\"id\":\"4497\"},\"title\":\"N\"},\"id\":\"4499\",\"type\":\"TableColumn\"},{\"attributes\":{\"editor\":{\"id\":\"4438\"},\"field\":\"x\",\"formatter\":{\"id\":\"4437\"},\"title\":\"x\"},\"id\":\"4439\",\"type\":\"TableColumn\"},{\"attributes\":{},\"id\":\"4503\",\"type\":\"NumberEditor\"},{\"attributes\":{\"editor\":{\"id\":\"4448\"},\"field\":\"index_LTS_right\",\"formatter\":{\"id\":\"4447\"},\"title\":\"index_LTS_right\"},\"id\":\"4449\",\"type\":\"TableColumn\"},{\"attributes\":{\"format\":\"0,0.0[00000]\"},\"id\":\"4497\",\"type\":\"NumberFormatter\"},{\"attributes\":{},\"id\":\"4452\",\"type\":\"NumberFormatter\"},{\"attributes\":{\"editor\":{\"id\":\"4503\"},\"field\":\"P\",\"formatter\":{\"id\":\"4502\"},\"title\":\"P\"},\"id\":\"4504\",\"type\":\"TableColumn\"},{\"attributes\":{},\"id\":\"4508\",\"type\":\"NumberEditor\"},{\"attributes\":{\"format\":\"0,0.0[00000]\"},\"id\":\"4502\",\"type\":\"NumberFormatter\"},{\"attributes\":{\"editor\":{\"id\":\"4508\"},\"field\":\"K\",\"formatter\":{\"id\":\"4507\"},\"title\":\"K\"},\"id\":\"4509\",\"type\":\"TableColumn\"},{\"attributes\":{},\"id\":\"4513\",\"type\":\"NumberEditor\"},{\"attributes\":{\"margin\":[5,5,5,5],\"name\":\"HSpacer08922\",\"sizing_mode\":\"stretch_width\"},\"id\":\"4434\",\"type\":\"Spacer\"},{\"attributes\":{\"format\":\"0,0.0[00000]\"},\"id\":\"4507\",\"type\":\"NumberFormatter\"},{\"attributes\":{\"editor\":{\"id\":\"4513\"},\"field\":\"CEC\",\"formatter\":{\"id\":\"4512\"},\"title\":\"CEC\"},\"id\":\"4514\",\"type\":\"TableColumn\"},{\"attributes\":{},\"id\":\"4518\",\"type\":\"StringEditor\"},{\"attributes\":{\"format\":\"0,0.0[00000]\"},\"id\":\"4512\",\"type\":\"NumberFormatter\"},{\"attributes\":{},\"id\":\"4547\",\"type\":\"StringFormatter\"},{\"attributes\":{\"format\":\"0,0.0[00000]\"},\"id\":\"4437\",\"type\":\"NumberFormatter\"},{\"attributes\":{\"format\":\"0,0.0[00000]\"},\"id\":\"4527\",\"type\":\"NumberFormatter\"},{\"attributes\":{},\"id\":\"4462\",\"type\":\"NumberFormatter\"},{\"attributes\":{},\"id\":\"4517\",\"type\":\"StringFormatter\"},{\"attributes\":{},\"id\":\"4533\",\"type\":\"NumberEditor\"},{\"attributes\":{\"editor\":{\"id\":\"4518\"},\"field\":\"Notes\",\"formatter\":{\"id\":\"4517\"},\"title\":\"Notes\"},\"id\":\"4519\",\"type\":\"TableColumn\"},{\"attributes\":{\"editor\":{\"id\":\"4443\"},\"field\":\"y\",\"formatter\":{\"id\":\"4442\"},\"title\":\"y\"},\"id\":\"4444\",\"type\":\"TableColumn\"},{\"attributes\":{},\"id\":\"4523\",\"type\":\"IntEditor\"},{\"attributes\":{\"editor\":{\"id\":\"4528\"},\"field\":\"GPS_LAT\",\"formatter\":{\"id\":\"4527\"},\"title\":\"GPS_LAT\"},\"id\":\"4529\",\"type\":\"TableColumn\"},{\"attributes\":{\"editor\":{\"id\":\"4523\"},\"field\":\"sample_ID\",\"formatter\":{\"id\":\"4522\"},\"title\":\"sample_ID\"},\"id\":\"4524\",\"type\":\"TableColumn\"},{\"attributes\":{},\"id\":\"4528\",\"type\":\"NumberEditor\"},{\"attributes\":{\"editor\":{\"id\":\"4533\"},\"field\":\"GPS_LONG\",\"formatter\":{\"id\":\"4532\"},\"title\":\"GPS_LONG\"},\"id\":\"4534\",\"type\":\"TableColumn\"},{\"attributes\":{},\"id\":\"4538\",\"type\":\"NumberEditor\"},{\"attributes\":{},\"id\":\"4443\",\"type\":\"NumberEditor\"},{\"attributes\":{\"format\":\"0,0.0[00000]\"},\"id\":\"4532\",\"type\":\"NumberFormatter\"},{\"attributes\":{\"editor\":{\"id\":\"4538\"},\"field\":\"Elevation\",\"formatter\":{\"id\":\"4537\"},\"title\":\"Elevation\"},\"id\":\"4539\",\"type\":\"TableColumn\"},{\"attributes\":{\"children\":[{\"id\":\"4434\"},{\"id\":\"4632\"},{\"id\":\"4639\"}],\"margin\":[0,0,0,0],\"name\":\"Row08918\",\"tags\":[\"embedded\"]},\"id\":\"4433\",\"type\":\"Row\"},{\"attributes\":{},\"id\":\"4543\",\"type\":\"StringEditor\"},{\"attributes\":{\"format\":\"0,0.0[00000]\"},\"id\":\"4537\",\"type\":\"NumberFormatter\"},{\"attributes\":{},\"id\":\"4557\",\"type\":\"StringFormatter\"},{\"attributes\":{},\"id\":\"4438\",\"type\":\"NumberEditor\"},{\"attributes\":{},\"id\":\"4447\",\"type\":\"NumberFormatter\"},{\"attributes\":{\"format\":\"0,0.0[00000]\"},\"id\":\"4552\",\"type\":\"NumberFormatter\"},{\"attributes\":{},\"id\":\"4458\",\"type\":\"IntEditor\"},{\"attributes\":{},\"id\":\"4542\",\"type\":\"StringFormatter\"},{\"attributes\":{\"editor\":{\"id\":\"4453\"},\"field\":\"POINT_ID\",\"formatter\":{\"id\":\"4452\"},\"title\":\"POINT_ID\"},\"id\":\"4454\",\"type\":\"TableColumn\"},{\"attributes\":{\"editor\":{\"id\":\"4548\"},\"field\":\"LU1\",\"formatter\":{\"id\":\"4547\"},\"title\":\"LU1\"},\"id\":\"4549\",\"type\":\"TableColumn\"},{\"attributes\":{\"format\":\"0,0.0[00000]\"},\"id\":\"4442\",\"type\":\"NumberFormatter\"},{\"attributes\":{\"editor\":{\"id\":\"4543\"},\"field\":\"LC1\",\"formatter\":{\"id\":\"4542\"},\"title\":\"LC1\"},\"id\":\"4544\",\"type\":\"TableColumn\"},{\"attributes\":{},\"id\":\"4548\",\"type\":\"StringEditor\"},{\"attributes\":{},\"id\":\"4553\",\"type\":\"NumberEditor\"}],\"root_ids\":[\"4433\"]},\"title\":\"Bokeh Application\",\"version\":\"2.4.1\"}};\n",
       "    var render_items = [{\"docid\":\"4dac1dfb-051b-45ee-97e1-0b4abb287b22\",\"root_ids\":[\"4433\"],\"roots\":{\"4433\":\"d0ce1b84-4fd4-4e86-81e1-d67b61b0a810\"}}];\n",
       "    root.Bokeh.embed.embed_items_notebook(docs_json, render_items);\n",
       "  }\n",
       "  if (root.Bokeh !== undefined && root.Bokeh.Panel !== undefined) {\n",
       "    embed_document(root);\n",
       "  } else {\n",
       "    var attempts = 0;\n",
       "    var timer = setInterval(function(root) {\n",
       "      if (root.Bokeh !== undefined && root.Bokeh.Panel !== undefined) {\n",
       "        clearInterval(timer);\n",
       "        embed_document(root);\n",
       "      } else if (document.readyState == \"complete\") {\n",
       "        attempts++;\n",
       "        if (attempts > 200) {\n",
       "          clearInterval(timer);\n",
       "          console.log(\"Bokeh: ERROR: Unable to run BokehJS code because BokehJS library is missing\");\n",
       "        }\n",
       "      }\n",
       "    }, 25, root)\n",
       "  }\n",
       "})(window);</script>"
      ],
      "text/plain": [
       ":Table   [x,y,index_LTS_right,POINT_ID,coarse,clay,silt,sand,pH_in_H2O,pH_in_CaCl,OC,CaCO3,N,P,K,CEC,Notes,sample_ID,GPS_LAT,GPS_LONG,Elevation,LC1,LU1,Soil_Stone,NUTS_0,NUTS_1,NUTS_2,NUTS_3,LC1_Desc,LU1_Desc,LTS_distance,index_BDF5L_right,OBJECTID,GMKNR,WERT,BODENART,SHAPE_Leng,SHAPE_Area,BDF5L_distance]"
      ]
     },
     "execution_count": 73,
     "metadata": {
      "application/vnd.holoviews_exec.v0+json": {
       "id": "4433"
      }
     },
     "output_type": "execute_result"
    }
   ],
   "source": [
    "# Plot GeoDataFrame table.\n",
    "p_gdf.hvplot.table(columns=[x for x in list(p_gdf.columns.values) if x != 'geometry'])"
   ]
  }
 ],
 "metadata": {
  "kernelspec": {
   "display_name": "Python [conda env:irrigation_detection]",
   "language": "python",
   "name": "conda-env-irrigation_detection-py"
  },
  "language_info": {
   "codemirror_mode": {
    "name": "ipython",
    "version": 3
   },
   "file_extension": ".py",
   "mimetype": "text/x-python",
   "name": "python",
   "nbconvert_exporter": "python",
   "pygments_lexer": "ipython3",
   "version": "3.9.7"
  },
  "toc": {
   "base_numbering": 1,
   "nav_menu": {},
   "number_sections": true,
   "sideBar": true,
   "skip_h1_title": false,
   "title_cell": "Table of Contents",
   "title_sidebar": "Contents",
   "toc_cell": false,
   "toc_position": {},
   "toc_section_display": true,
   "toc_window_display": false
  },
  "varInspector": {
   "cols": {
    "lenName": 16,
    "lenType": 16,
    "lenVar": 40
   },
   "kernels_config": {
    "python": {
     "delete_cmd_postfix": "",
     "delete_cmd_prefix": "del ",
     "library": "var_list.py",
     "varRefreshCmd": "print(var_dic_list())"
    },
    "r": {
     "delete_cmd_postfix": ") ",
     "delete_cmd_prefix": "rm(",
     "library": "var_list.r",
     "varRefreshCmd": "cat(var_dic_list()) "
    }
   },
   "position": {
    "height": "514.85px",
    "left": "1774px",
    "right": "20px",
    "top": "120px",
    "width": "350px"
   },
   "types_to_exclude": [
    "module",
    "function",
    "builtin_function_or_method",
    "instance",
    "_Feature"
   ],
   "window_display": true
  }
 },
 "nbformat": 4,
 "nbformat_minor": 2
}
