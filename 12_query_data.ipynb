{
 "cells": [
  {
   "cell_type": "code",
   "execution_count": null,
   "metadata": {
    "ExecuteTime": {
     "end_time": "2021-12-10T11:36:07.871800Z",
     "start_time": "2021-12-10T11:35:19.321157Z"
    }
   },
   "outputs": [],
   "source": [
    "import sys\n",
    "!conda install -c conda-forge --yes --prefix {sys.prefix} seaborn"
   ]
  },
  {
   "cell_type": "code",
   "execution_count": null,
   "metadata": {
    "ExecuteTime": {
     "end_time": "2021-12-10T12:54:28.784449Z",
     "start_time": "2021-12-10T12:54:28.776425Z"
    }
   },
   "outputs": [],
   "source": [
    "import geopandas as gpd\n",
    "import pandas as pd\n",
    "import numpy as np\n",
    "import xarray as xr\n",
    "import hvplot.pandas\n",
    "import hvplot.xarray\n",
    "from irrigation_detection import subset_ds\n",
    "import rioxarray\n",
    "import panel.widgets as pnw\n",
    "import datetime as dt"
   ]
  },
  {
   "cell_type": "markdown",
   "metadata": {},
   "source": [
    "## Load Data (GeoDataFrame, Xarray)"
   ]
  },
  {
   "cell_type": "code",
   "execution_count": null,
   "metadata": {
    "ExecuteTime": {
     "end_time": "2021-12-10T13:12:53.300709Z",
     "start_time": "2021-12-10T13:12:52.215571Z"
    }
   },
   "outputs": [],
   "source": [
    "# Datasets\n",
    "LTS = gpd.read_file(r'C:\\Users\\USER\\Desktop\\Master_Irrigation\\03_GIS\\LUCAS_TOPSOIL_shape\\LTS_subset.shp')\n",
    "BDF5L = gpd.read_file(r'C:\\Users\\USER\\Desktop\\Master_Irrigation\\03_GIS\\BFDL_ML46\\BFD5L_subset.shp')\n",
    "NDVI_10Dmax = xr.open_dataset(r'C:\\Users\\USER\\Desktop\\Master_Irrigation\\03_GIS\\datasets\\NDVI_10Dmax_1km.nc')#.rename({'lon':'longitude', 'lat':'latitude'})\n",
    "RADOLAN = xr.open_dataset(r'C:\\Users\\USER\\Desktop\\Master_Irrigation\\03_GIS\\datasets\\RADOLAN_1km.nc').rename({'SF': 'precipitation'})\n",
    "SSM = xr.open_dataset(r'C:\\Users\\USER\\Desktop\\Master_Irrigation\\03_GIS\\datasets\\SSM_1km_V1.nc')\n",
    "EVAPO_R = xr.open_dataset(r'C:\\Users\\USER\\Desktop\\Master_Irrigation\\03_GIS\\datasets\\EVAPOTRANSPIRATION_REAL.nc')\n",
    "EVAPO_P = xr.open_dataset(r'C:\\Users\\USER\\Desktop\\Master_Irrigation\\03_GIS\\datasets\\EVAPOTRANSPIRATION_POTENTIAL.nc')\n",
    "L7_sr_ndvi = xr.open_dataset(r'C:\\Users\\USER\\Desktop\\Master_Irrigation\\03_GIS\\datasets\\l7_sr_ndvi_100m.nc')\n",
    "L8_sr_ndvi = xr.open_dataset(r'C:\\Users\\USER\\Desktop\\Master_Irrigation\\03_GIS\\datasets\\l8_sr_ndvi_100m.nc')\n",
    "S2_1C = xr.open_dataset(r'C:\\Users\\USER\\Desktop\\Master_Irrigation\\03_GIS\\datasets\\s2_1c.nc')\n",
    "S2_1C_ndvi = xr.open_dataset(r'C:\\Users\\USER\\Desktop\\Master_Irrigation\\03_GIS\\datasets\\s2_1c_ndvi_100m.nc')"
   ]
  },
  {
   "cell_type": "markdown",
   "metadata": {},
   "source": [
    "## Select Subset of Data"
   ]
  },
  {
   "cell_type": "code",
   "execution_count": null,
   "metadata": {
    "ExecuteTime": {
     "end_time": "2021-12-10T13:12:55.795605Z",
     "start_time": "2021-12-10T13:12:55.783622Z"
    }
   },
   "outputs": [],
   "source": [
    "# Define a point of interest (x,y), so (longitude, latitude).\n",
    "point = (8.5007, 49.9389) #LTS ID 42142960\n",
    "#Define roi\n",
    "aoi = gpd.read_file('C://Users/USER/Desktop/Master_Irrigation/03_GIS/gg_test_field/gg_test_field_1.geojson')\n",
    "shape_aoi = 'C://Users/USER/Desktop/Master_Irrigation/03_GIS/gg_test_field/gg_test_field_1.shp'"
   ]
  },
  {
   "cell_type": "code",
   "execution_count": null,
   "metadata": {
    "ExecuteTime": {
     "end_time": "2021-12-10T13:12:56.791507Z",
     "start_time": "2021-12-10T13:12:56.543861Z"
    }
   },
   "outputs": [],
   "source": [
    "ds_collection = [x.sel(lon=point[0], lat=point[1], method='nearest').to_dataframe() for x in [NDVI_10Dmax,RADOLAN, SSM, EVAPO_P, EVAPO_R]]\n",
    "#Remove time from datetime object\n",
    "ds_collection[1].index = ds_collection[1].index.normalize()"
   ]
  },
  {
   "cell_type": "markdown",
   "metadata": {},
   "source": [
    "## Preprocess"
   ]
  },
  {
   "cell_type": "code",
   "execution_count": null,
   "metadata": {
    "ExecuteTime": {
     "end_time": "2021-12-10T13:27:28.062342Z",
     "start_time": "2021-12-10T13:27:28.042370Z"
    }
   },
   "outputs": [],
   "source": [
    "#Initialze Dataframe with daily datetime index\n",
    "gg_test_field_1 = pd.DataFrame(index =pd.DatetimeIndex(data = pd.date_range(start='1/1/2015', end='30/09/2021')))\n",
    "\n",
    "#Join data from other sources\n",
    "gg_test_field_1 = gg_test_field_1.join(ds_collection[0])[['NDVI']]\n",
    "gg_test_field_1 = gg_test_field_1.join(ds_collection[1])[['NDVI', 'precipitation']]\n",
    "gg_test_field_1 = gg_test_field_1.join(ds_collection[2])[['NDVI', 'precipitation', 'ssm']]\n",
    "gg_test_field_1 = gg_test_field_1.join(ds_collection[3])[['NDVI', 'precipitation', 'ssm', 'evapo_p']]\n",
    "gg_test_field_1 = gg_test_field_1.join(ds_collection[4])[['NDVI', 'precipitation', 'ssm', 'evapo_p', 'evapo_r']].reset_index()"
   ]
  },
  {
   "cell_type": "code",
   "execution_count": null,
   "metadata": {
    "ExecuteTime": {
     "end_time": "2021-12-09T22:55:09.926815Z",
     "start_time": "2021-12-09T22:55:09.911157Z"
    }
   },
   "outputs": [],
   "source": [
    "# Create a DataFrame from point of interest.\n",
    "p_df = pd.DataFrame.from_dict({'x':[8.5007], 'y':[49.9389]})"
   ]
  },
  {
   "cell_type": "code",
   "execution_count": null,
   "metadata": {
    "ExecuteTime": {
     "end_time": "2021-12-09T22:55:24.472391Z",
     "start_time": "2021-12-09T22:55:24.440895Z"
    }
   },
   "outputs": [],
   "source": [
    "# Create GeoDataFrame from DataFrame.\n",
    "p_gdf = gpd.GeoDataFrame(p_df, geometry=gpd.points_from_xy(p_df.x, p_df.y), crs='EPSG:4326')"
   ]
  },
  {
   "cell_type": "code",
   "execution_count": null,
   "metadata": {
    "ExecuteTime": {
     "end_time": "2021-12-09T22:55:35.090207Z",
     "start_time": "2021-12-09T22:55:34.322119Z"
    }
   },
   "outputs": [],
   "source": [
    "## Table data query.\n",
    "# Query LTS data.\n",
    "p_gdf = p_gdf.sjoin_nearest(LTS, lsuffix='LTS_left', rsuffix='LTS_right', distance_col='LTS_distance')\n",
    "# Query BDF5L data.\n",
    "p_gdf = p_gdf.sjoin_nearest(BDF5L, lsuffix='BDF5L_left', rsuffix='BDF5L_right', distance_col='BDF5L_distance')"
   ]
  },
  {
   "cell_type": "code",
   "execution_count": null,
   "metadata": {
    "ExecuteTime": {
     "end_time": "2021-12-09T23:16:55.617937Z",
     "start_time": "2021-12-09T23:16:55.605953Z"
    }
   },
   "outputs": [],
   "source": [
    "#export to csv\n",
    "p_gdf.to_csv('gg_data.csv')"
   ]
  },
  {
   "cell_type": "code",
   "execution_count": null,
   "metadata": {
    "ExecuteTime": {
     "end_time": "2021-12-09T22:55:50.283297Z",
     "start_time": "2021-12-09T22:55:47.699229Z"
    }
   },
   "outputs": [],
   "source": [
    "## Grid data query.\n",
    "test = SSM.sel(lon=point[0], lat=point[1], method='nearest')\n",
    "test = test.where(test.ssm != np.nan, drop=True)\n",
    "test.ssm.hvplot.line(groupby='time.year')"
   ]
  },
  {
   "cell_type": "markdown",
   "metadata": {},
   "source": [
    "## Plotting"
   ]
  },
  {
   "cell_type": "code",
   "execution_count": null,
   "metadata": {
    "ExecuteTime": {
     "end_time": "2021-12-10T13:27:40.786151Z",
     "start_time": "2021-12-10T13:27:31.592425Z"
    }
   },
   "outputs": [],
   "source": [
    "# xarray plotting subplots for year and group\n",
    "for year, group in gg_test_field_1.groupby(pd.Grouper(key='index',freq='1Y')):\n",
    "    plot = group.interpolate(method='ffill').plot(x='index',subplots=True,sharex=True, figsize=(32,16))"
   ]
  },
  {
   "cell_type": "code",
   "execution_count": null,
   "metadata": {
    "ExecuteTime": {
     "end_time": "2021-12-09T22:56:58.039148Z",
     "start_time": "2021-12-09T22:56:51.860474Z"
    }
   },
   "outputs": [],
   "source": [
    "# Plot GeoDataFrame table.\n",
    "p_gdf.hvplot.table(columns=[x for x in list(p_gdf.columns.values) if x != 'geometry'])"
   ]
  }
 ],
 "metadata": {
  "kernelspec": {
   "display_name": "Python [conda env:irrigation_detection]",
   "language": "python",
   "name": "conda-env-irrigation_detection-py"
  },
  "language_info": {
   "codemirror_mode": {
    "name": "ipython",
    "version": 3
   },
   "file_extension": ".py",
   "mimetype": "text/x-python",
   "name": "python",
   "nbconvert_exporter": "python",
   "pygments_lexer": "ipython3",
   "version": "3.9.7"
  },
  "toc": {
   "base_numbering": 1,
   "nav_menu": {},
   "number_sections": true,
   "sideBar": true,
   "skip_h1_title": false,
   "title_cell": "Table of Contents",
   "title_sidebar": "Contents",
   "toc_cell": false,
   "toc_position": {},
   "toc_section_display": true,
   "toc_window_display": false
  },
  "varInspector": {
   "cols": {
    "lenName": 16,
    "lenType": 16,
    "lenVar": 40
   },
   "kernels_config": {
    "python": {
     "delete_cmd_postfix": "",
     "delete_cmd_prefix": "del ",
     "library": "var_list.py",
     "varRefreshCmd": "print(var_dic_list())"
    },
    "r": {
     "delete_cmd_postfix": ") ",
     "delete_cmd_prefix": "rm(",
     "library": "var_list.r",
     "varRefreshCmd": "cat(var_dic_list()) "
    }
   },
   "position": {
    "height": "514.85px",
    "left": "1544px",
    "right": "20px",
    "top": "123px",
    "width": "350px"
   },
   "types_to_exclude": [
    "module",
    "function",
    "builtin_function_or_method",
    "instance",
    "_Feature"
   ],
   "window_display": true
  }
 },
 "nbformat": 4,
 "nbformat_minor": 2
}
