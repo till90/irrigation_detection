{
 "cells": [
  {
   "cell_type": "markdown",
   "metadata": {},
   "source": [
    "Die Werte im Raster müssen durch 10 dividiert werden, um die richtigen Werte in mm zu bekommen.    \n",
    "array([-9999,     0,     1,     2,     3,     4,     5,     6,     7,\n",
    "           8,     9,    10,    11,    12,    13,    14,    15,    16]) -> unkonvertiert    \n",
    "https://epsg.io/31467    "
   ]
  },
  {
   "cell_type": "code",
   "execution_count": 1,
   "metadata": {
    "ExecuteTime": {
     "end_time": "2021-11-02T10:27:07.388320Z",
     "start_time": "2021-11-02T10:27:07.357279Z"
    }
   },
   "outputs": [],
   "source": [
    "from irrigation_detection import download_evapo\n",
    "from irrigation_detection import extract_evapo\n",
    "from irrigation_detection import subset_ds\n",
    "from irrigation_detection import open_evapo"
   ]
  },
  {
   "cell_type": "code",
   "execution_count": null,
   "metadata": {
    "ExecuteTime": {
     "end_time": "2021-11-02T09:53:50.090188Z",
     "start_time": "2021-11-02T09:53:10.591919Z"
    }
   },
   "outputs": [],
   "source": [
    "# Download real evaporation to disk\n",
    "download_evapo(2015, 2021,'D://evapo_r_download', real=True)"
   ]
  },
  {
   "cell_type": "code",
   "execution_count": null,
   "metadata": {
    "ExecuteTime": {
     "end_time": "2021-11-02T09:54:35.801564Z",
     "start_time": "2021-11-02T09:53:50.121449Z"
    }
   },
   "outputs": [],
   "source": [
    "# Download potential evaporation to disk\n",
    "download_evapo(2015, 2021,'D://evapo_p_download', real=False)"
   ]
  },
  {
   "cell_type": "code",
   "execution_count": null,
   "metadata": {
    "ExecuteTime": {
     "end_time": "2021-11-02T10:15:58.145302Z",
     "start_time": "2021-11-02T10:05:46.507822Z"
    }
   },
   "outputs": [],
   "source": [
    "# Use Gdal Warp to transform .asc with EPSG:31467 to .tif with EPSG:4326\n",
    "extract_evapo('D://evapo_r_download/')"
   ]
  },
  {
   "cell_type": "code",
   "execution_count": null,
   "metadata": {
    "ExecuteTime": {
     "end_time": "2021-11-02T10:25:59.783713Z",
     "start_time": "2021-11-02T10:15:58.178769Z"
    }
   },
   "outputs": [],
   "source": [
    "# Use Gdal Warp to transform .asc with EPSG:31467 to .tif with EPSG:4326\n",
    "extract_evapo('D://evapo_p_download/')"
   ]
  },
  {
   "cell_type": "code",
   "execution_count": 2,
   "metadata": {
    "ExecuteTime": {
     "end_time": "2021-11-02T10:28:16.099372Z",
     "start_time": "2021-11-02T10:27:13.266601Z"
    }
   },
   "outputs": [],
   "source": [
    "# Read tiff files from disk.\n",
    "evapo_r = open_evapo('D://evapo_r_download/data/', real=True)"
   ]
  },
  {
   "cell_type": "code",
   "execution_count": 5,
   "metadata": {
    "ExecuteTime": {
     "end_time": "2021-11-02T10:34:37.443942Z",
     "start_time": "2021-11-02T10:34:36.727009Z"
    }
   },
   "outputs": [],
   "source": [
    "evapo_r_subset = subset_ds(r'C:\\Users\\USER\\Desktop\\Master_Irrigation\\03_GIS\\oberrheingraben_shp\\oberrheingraben-polygon.shp', evapo_r)"
   ]
  },
  {
   "cell_type": "code",
   "execution_count": null,
   "metadata": {
    "ExecuteTime": {
     "end_time": "2021-10-28T20:09:50.401830Z",
     "start_time": "2021-10-28T20:09:27.565628Z"
    }
   },
   "outputs": [],
   "source": [
    "# Convert values and fill invalid pixels with nan\n",
    "evapo_r = evapo_r.where(evapo_r >= 0, drop=True)"
   ]
  },
  {
   "cell_type": "code",
   "execution_count": null,
   "metadata": {},
   "outputs": [],
   "source": [
    "# Read tiff files from disk.\n",
    "evapo_p = open_evapo('D://evapo_p_download/data/')"
   ]
  },
  {
   "cell_type": "code",
   "execution_count": null,
   "metadata": {},
   "outputs": [],
   "source": [
    "# Export netcdf file to disk"
   ]
  },
  {
   "cell_type": "code",
   "execution_count": null,
   "metadata": {},
   "outputs": [],
   "source": [
    "# Export netcdf file to disk"
   ]
  }
 ],
 "metadata": {
  "kernelspec": {
   "display_name": "Python [conda env:irrigation_detection]",
   "language": "python",
   "name": "conda-env-irrigation_detection-py"
  },
  "language_info": {
   "codemirror_mode": {
    "name": "ipython",
    "version": 3
   },
   "file_extension": ".py",
   "mimetype": "text/x-python",
   "name": "python",
   "nbconvert_exporter": "python",
   "pygments_lexer": "ipython3",
   "version": "3.9.7"
  },
  "toc": {
   "base_numbering": 1,
   "nav_menu": {},
   "number_sections": true,
   "sideBar": true,
   "skip_h1_title": false,
   "title_cell": "Table of Contents",
   "title_sidebar": "Contents",
   "toc_cell": false,
   "toc_position": {},
   "toc_section_display": true,
   "toc_window_display": false
  },
  "varInspector": {
   "cols": {
    "lenName": 16,
    "lenType": 16,
    "lenVar": 40
   },
   "kernels_config": {
    "python": {
     "delete_cmd_postfix": "",
     "delete_cmd_prefix": "del ",
     "library": "var_list.py",
     "varRefreshCmd": "print(var_dic_list())"
    },
    "r": {
     "delete_cmd_postfix": ") ",
     "delete_cmd_prefix": "rm(",
     "library": "var_list.r",
     "varRefreshCmd": "cat(var_dic_list()) "
    }
   },
   "position": {
    "height": "330.85px",
    "left": "1774px",
    "right": "20px",
    "top": "120px",
    "width": "350px"
   },
   "types_to_exclude": [
    "module",
    "function",
    "builtin_function_or_method",
    "instance",
    "_Feature"
   ],
   "window_display": false
  }
 },
 "nbformat": 4,
 "nbformat_minor": 2
}
