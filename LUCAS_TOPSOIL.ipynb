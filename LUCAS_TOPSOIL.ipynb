{
 "cells": [
  {
   "cell_type": "markdown",
   "metadata": {},
   "source": [
    "https://esdac.jrc.ec.europa.eu/content/lucas2015-topsoil-data"
   ]
  },
  {
   "cell_type": "code",
   "execution_count": null,
   "metadata": {
    "ExecuteTime": {
     "end_time": "2021-10-26T09:44:37.599796Z",
     "start_time": "2021-10-26T09:44:13.413006Z"
    }
   },
   "outputs": [],
   "source": [
    "import sys\n",
    "!conda install -c conda-forge --yes --prefix {sys.prefix} openpyxl"
   ]
  },
  {
   "cell_type": "code",
   "execution_count": null,
   "metadata": {
    "ExecuteTime": {
     "end_time": "2021-10-26T09:40:44.616015Z",
     "start_time": "2021-10-26T09:40:42.940521Z"
    }
   },
   "outputs": [],
   "source": [
    "import pandas as pd\n",
    "import geopandas as gpd\n",
    "import numpy as np"
   ]
  },
  {
   "cell_type": "code",
   "execution_count": null,
   "metadata": {
    "ExecuteTime": {
     "end_time": "2021-10-26T09:40:25.564518Z",
     "start_time": "2021-10-26T09:40:25.544426Z"
    }
   },
   "outputs": [],
   "source": [
    "# LUCAS TOPSOIL 2009 datasheets\n",
    "lts_09 = r\"D:\\soil_data\\LUCAS_TOPSOIL_v1\\LUCAS_TOPSOIL_v1.xlsx\"\n",
    "lts_15 = r\"D:\\soil_data\\LUCAS2015_topsoildata_20200323\\LUCAS_Topsoil_2015_20200323.csv\""
   ]
  },
  {
   "cell_type": "code",
   "execution_count": 28,
   "metadata": {
    "ExecuteTime": {
     "end_time": "2021-10-26T10:24:21.865350Z",
     "start_time": "2021-10-26T10:24:17.508011Z"
    }
   },
   "outputs": [],
   "source": [
    "# LUCAS TOPSOIL 2009\n",
    "# Load excel file with sample_ID as index.\n",
    "df_09 = pd.read_excel(lts_09)\n",
    "# Unselect rows with invalid POINT_ID.\n",
    "df_09 = df_09[df_09['POINT_ID'].astype(str).str.isdigit()]\n",
    "# Set POINT_ID as index.\n",
    "df_09.set_index(\"POINT_ID\", inplace=True)\n",
    "# Rename to consider equality between 2009 and 2015 data\n",
    "df_09.rename(index={'POINT_ID': 'Point_ID'}, inplace=True) \n",
    "# Add columns from 2015 survey \n",
    "df_09[['Elevation','LC1', 'LU1', 'Soil_Stones', \"NUTS_0\",\"NUTS_1\",\"NUTS_2\",\"NUTS_3\", \"LC1_Desc\",\"LU1_Desc\"]] = np.nan"
   ]
  },
  {
   "cell_type": "code",
   "execution_count": 29,
   "metadata": {
    "ExecuteTime": {
     "end_time": "2021-10-26T10:24:22.033357Z",
     "start_time": "2021-10-26T10:24:21.957416Z"
    }
   },
   "outputs": [],
   "source": [
    "# LUCAS TOPSOIL 2015\n",
    "df_15 = pd.read_csv(lts_15, index_col=\"Point_ID\")\n",
    "# Update missing landcover information from the 2015 survey\n",
    "df_09.update(df_15)"
   ]
  },
  {
   "cell_type": "code",
   "execution_count": 49,
   "metadata": {
    "ExecuteTime": {
     "end_time": "2021-10-26T11:29:27.642310Z",
     "start_time": "2021-10-26T11:29:27.184589Z"
    }
   },
   "outputs": [],
   "source": [
    "# Creating a GeoDataFrame from a DataFrame with coordinates\n",
    "df_09 = gpd.GeoDataFrame(df_09, geometry=gpd.points_from_xy(df_09.GPS_LONG, df_09.GPS_LAT), crs=4326)\n",
    "# Load area of interest into geopandas for masking df_09\n",
    "aoi = gpd.read_file(r'C:\\Users\\USER\\Desktop\\Master_Irrigation\\03_GIS\\oberrheingraben_shp\\oberrheingraben-polygon.shp')\n",
    "# Clip data for aoi\n",
    "df_09_subset = gpd.clip(df_09, aoi, keep_geom_type=True)"
   ]
  },
  {
   "cell_type": "code",
   "execution_count": 57,
   "metadata": {
    "ExecuteTime": {
     "end_time": "2021-10-26T11:40:12.521364Z",
     "start_time": "2021-10-26T11:40:12.436941Z"
    }
   },
   "outputs": [
    {
     "name": "stderr",
     "output_type": "stream",
     "text": [
      "C:\\Users\\USER\\AppData\\Local\\Temp/ipykernel_1252/2168820438.py:3: UserWarning: Column names longer than 10 characters will be truncated when saved to ESRI Shapefile.\n",
      "  df_09_subset.to_file(r'C:\\Users\\USER\\Desktop\\Master_Irrigation\\03_GIS\\LUCAS_TOPSOIL_shape\\LTS_subset.shp')\n",
      "C:\\Users\\USER\\AppData\\Local\\Temp/ipykernel_1252/2168820438.py:4: UserWarning: Column names longer than 10 characters will be truncated when saved to ESRI Shapefile.\n",
      "  df_09_subset.to_file(r'C:\\Users\\USER\\Desktop\\Master_Irrigation\\03_GIS\\LUCAS_TOPSOIL_shape\\LTS_subset.kml')\n"
     ]
    }
   ],
   "source": [
    "#Export Data\n",
    "df_09_subset.to_csv(r'C:\\Users\\USER\\Desktop\\Master_Irrigation\\03_GIS\\LUCAS_TOPSOIL_subset.csv')\n",
    "df_09_subset.to_file(r'C:\\Users\\USER\\Desktop\\Master_Irrigation\\03_GIS\\LUCAS_TOPSOIL_shape\\LTS_subset.shp')\n",
    "df_09_subset.to_file(r'C:\\Users\\USER\\Desktop\\Master_Irrigation\\03_GIS\\LUCAS_TOPSOIL_shape\\LTS_subset.kml')"
   ]
  }
 ],
 "metadata": {
  "kernelspec": {
   "display_name": "Python [conda env:irrigation_detection]",
   "language": "python",
   "name": "conda-env-irrigation_detection-py"
  },
  "language_info": {
   "codemirror_mode": {
    "name": "ipython",
    "version": 3
   },
   "file_extension": ".py",
   "mimetype": "text/x-python",
   "name": "python",
   "nbconvert_exporter": "python",
   "pygments_lexer": "ipython3",
   "version": "3.9.7"
  },
  "toc": {
   "base_numbering": 1,
   "nav_menu": {},
   "number_sections": true,
   "sideBar": true,
   "skip_h1_title": false,
   "title_cell": "Table of Contents",
   "title_sidebar": "Contents",
   "toc_cell": false,
   "toc_position": {},
   "toc_section_display": true,
   "toc_window_display": false
  },
  "varInspector": {
   "cols": {
    "lenName": 16,
    "lenType": 16,
    "lenVar": 40
   },
   "kernels_config": {
    "python": {
     "delete_cmd_postfix": "",
     "delete_cmd_prefix": "del ",
     "library": "var_list.py",
     "varRefreshCmd": "print(var_dic_list())"
    },
    "r": {
     "delete_cmd_postfix": ") ",
     "delete_cmd_prefix": "rm(",
     "library": "var_list.r",
     "varRefreshCmd": "cat(var_dic_list()) "
    }
   },
   "types_to_exclude": [
    "module",
    "function",
    "builtin_function_or_method",
    "instance",
    "_Feature"
   ],
   "window_display": true
  }
 },
 "nbformat": 4,
 "nbformat_minor": 2
}
