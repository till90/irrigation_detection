{
 "cells": [
  {
   "cell_type": "code",
   "execution_count": 1,
   "metadata": {
    "ExecuteTime": {
     "end_time": "2021-10-23T17:56:06.652333Z",
     "start_time": "2021-10-23T17:55:46.162294Z"
    }
   },
   "outputs": [
    {
     "name": "stdout",
     "output_type": "stream",
     "text": [
      "Collecting package metadata (current_repodata.json): ...working... done\n",
      "Solving environment: ...working... done\n",
      "\n",
      "# All requested packages already installed.\n",
      "\n"
     ]
    }
   ],
   "source": [
    "import sys\n",
    "!conda install -c conda-forge --yes --prefix {sys.prefix} xarray, rasterio, tqdm"
   ]
  },
  {
   "cell_type": "code",
   "execution_count": 3,
   "metadata": {
    "ExecuteTime": {
     "end_time": "2021-10-23T18:56:06.500473Z",
     "start_time": "2021-10-23T18:56:05.244176Z"
    }
   },
   "outputs": [],
   "source": [
    "#import modules\n",
    "from irrigation_detection import search_files\n",
    "from irrigation_detection import subset_ds\n",
    "from irrigation_detection import export_values\n",
    "import xarray as xr"
   ]
  },
  {
   "cell_type": "code",
   "execution_count": 4,
   "metadata": {
    "ExecuteTime": {
     "end_time": "2021-10-23T18:56:07.062725Z",
     "start_time": "2021-10-23T18:56:06.531715Z"
    }
   },
   "outputs": [],
   "source": [
    "#find all .nc files nested inside directories first argument is path where files and directories stored second argument is the file ending\n",
    "files = search_files('D://ssm_download/',\".nc\") "
   ]
  },
  {
   "cell_type": "code",
   "execution_count": 5,
   "metadata": {
    "ExecuteTime": {
     "end_time": "2021-10-23T18:56:53.983626Z",
     "start_time": "2021-10-23T18:56:08.718507Z"
    }
   },
   "outputs": [],
   "source": [
    "#create a xarray object from multiple .nc files\n",
    "ssm = xr.open_mfdataset(files, decode_cf=True)"
   ]
  },
  {
   "cell_type": "code",
   "execution_count": 6,
   "metadata": {
    "ExecuteTime": {
     "end_time": "2021-10-23T18:56:54.569482Z",
     "start_time": "2021-10-23T18:56:54.021383Z"
    }
   },
   "outputs": [],
   "source": [
    "#subset and mask out unrelevant areas\n",
    "ssm_subset = subset_ds(r'C:\\Users\\USER\\Desktop\\Master_Irrigation\\03_GIS\\oberrheingraben_shp\\oberrheingraben-polygon.shp', ssm)"
   ]
  },
  {
   "cell_type": "code",
   "execution_count": 6,
   "metadata": {
    "ExecuteTime": {
     "end_time": "2021-10-18T11:19:58.440790Z",
     "start_time": "2021-10-18T11:19:58.425164Z"
    }
   },
   "outputs": [],
   "source": [
    "#Apply conversation of digital units to physical units\n",
    "ssm_subset['ssm'] = ssm_subset['ssm'] * 0.5\n",
    "ssm_subset['ssm_noise'] = ssm_subset['ssm_noise'] * 0.5"
   ]
  },
  {
   "cell_type": "code",
   "execution_count": 9,
   "metadata": {
    "ExecuteTime": {
     "end_time": "2021-10-18T11:24:58.890856Z",
     "start_time": "2021-10-18T11:24:05.277359Z"
    }
   },
   "outputs": [],
   "source": [
    "export_values(latitude=49.85083645182146, longitude=8.463941352976518, ds=ssm, name='point_2_ssm.csv')"
   ]
  }
 ],
 "metadata": {
  "kernelspec": {
   "display_name": "Python [conda env:irrigation_detection]",
   "language": "python",
   "name": "conda-env-irrigation_detection-py"
  },
  "language_info": {
   "codemirror_mode": {
    "name": "ipython",
    "version": 3
   },
   "file_extension": ".py",
   "mimetype": "text/x-python",
   "name": "python",
   "nbconvert_exporter": "python",
   "pygments_lexer": "ipython3",
   "version": "3.9.7"
  },
  "toc": {
   "base_numbering": 1,
   "nav_menu": {},
   "number_sections": true,
   "sideBar": true,
   "skip_h1_title": false,
   "title_cell": "Table of Contents",
   "title_sidebar": "Contents",
   "toc_cell": false,
   "toc_position": {},
   "toc_section_display": true,
   "toc_window_display": false
  },
  "varInspector": {
   "cols": {
    "lenName": 16,
    "lenType": 16,
    "lenVar": 40
   },
   "kernels_config": {
    "python": {
     "delete_cmd_postfix": "",
     "delete_cmd_prefix": "del ",
     "library": "var_list.py",
     "varRefreshCmd": "print(var_dic_list())"
    },
    "r": {
     "delete_cmd_postfix": ") ",
     "delete_cmd_prefix": "rm(",
     "library": "var_list.r",
     "varRefreshCmd": "cat(var_dic_list()) "
    }
   },
   "oldHeight": 272.01666600000004,
   "position": {
    "height": "40px",
    "left": "1391px",
    "right": "20px",
    "top": "114px",
    "width": "350px"
   },
   "types_to_exclude": [
    "module",
    "function",
    "builtin_function_or_method",
    "instance",
    "_Feature"
   ],
   "varInspector_section_display": "none",
   "window_display": true
  }
 },
 "nbformat": 4,
 "nbformat_minor": 2
}
