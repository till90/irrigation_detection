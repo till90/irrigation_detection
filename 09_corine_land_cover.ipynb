{
 "cells": [
  {
   "cell_type": "code",
   "execution_count": null,
   "metadata": {
    "ExecuteTime": {
     "end_time": "2021-11-19T14:15:20.410305Z",
     "start_time": "2021-11-19T14:14:54.997395Z"
    }
   },
   "outputs": [],
   "source": [
    "import ee\n",
    " \n",
    "# Trigger the authentication flow.\n",
    "ee.Authenticate()\n",
    " \n",
    "# Initialize the library.\n",
    "ee.Initialize()"
   ]
  },
  {
   "cell_type": "code",
   "execution_count": null,
   "metadata": {
    "ExecuteTime": {
     "end_time": "2021-11-19T14:26:22.178282Z",
     "start_time": "2021-11-19T14:26:22.162300Z"
    }
   },
   "outputs": [],
   "source": [
    "aoi ={\"type\": \"Feature\",\n",
    "      \"properties\": {},\n",
    "      \"geometry\": {\n",
    "        \"type\": \"Polygon\",\n",
    "        \"coordinates\": [\n",
    "          [\n",
    "            [\n",
    "              7.933502197265625,\n",
    "              49.28661918319448\n",
    "            ],\n",
    "            [\n",
    "              9.20379638671875,\n",
    "              49.28661918319448\n",
    "            ],\n",
    "            [\n",
    "              9.20379638671875,\n",
    "              50.1390654170196\n",
    "            ],\n",
    "            [\n",
    "              7.933502197265625,\n",
    "              50.1390654170196\n",
    "            ],\n",
    "            [\n",
    "              7.933502197265625,\n",
    "              49.28661918319448\n",
    "            ]\n",
    "          ]\n",
    "        ]\n",
    "      }\n",
    "    }"
   ]
  },
  {
   "cell_type": "code",
   "execution_count": null,
   "metadata": {
    "ExecuteTime": {
     "end_time": "2021-11-19T14:30:00.121547Z",
     "start_time": "2021-11-19T14:29:59.888069Z"
    }
   },
   "outputs": [],
   "source": [
    "org.getInfo()['geometry']"
   ]
  },
  {
   "cell_type": "code",
   "execution_count": null,
   "metadata": {
    "ExecuteTime": {
     "end_time": "2021-11-19T14:30:24.146324Z",
     "start_time": "2021-11-19T14:30:23.976570Z"
    }
   },
   "outputs": [],
   "source": [
    "# Load last corine land cover image \n",
    "clc = ee.Image.load('COPERNICUS/CORINE/V20/100m/2018')\n",
    "org = ee.Feature(aoi)\n",
    "\n",
    "# Mask areas where soil moisture measurements valid (farmland cat.:11-16)\n",
    "clc_mask = clc.gte(11).And(clc.lte(17)) #binary map for updateMask\n",
    "clc = clc.updateMask(clc_mask) #set mask for not Farmland\n",
    "\n",
    "# Clip to extend of germany\n",
    "clc = clc.clip(org) #image\n",
    "\n",
    "# Feature Collection of clc farmland cat.: 11-16 with 350m resolution\n",
    "clc_vector = clc.reduceToVectors(geometry=org.getInfo()['geometry'], crs=clc.projection(), scale=100, geometryType='polygon', eightConnected = True) #FeatureCollection\n",
    "\n",
    "#im_reduce = im.reduceRegion(reducer = ee.Reducer.mean(),geometry = ried_225_222,crs=projection,scale = 100, maxPixels= 1e9)    \n",
    "#Limit to first 5000 Features \n",
    "#clc_vector = clc_vector.limit(5000)\n",
    "\n",
    "#Sample Points Germany 500\n",
    "#random_points = ee.FeatureCollection.randomPoints(clc.geometry(), 5000)"
   ]
  },
  {
   "cell_type": "code",
   "execution_count": null,
   "metadata": {
    "ExecuteTime": {
     "end_time": "2021-11-19T14:30:44.622055Z",
     "start_time": "2021-11-19T14:30:37.704913Z"
    }
   },
   "outputs": [],
   "source": [
    "clc_vector.getInfo()"
   ]
  },
  {
   "cell_type": "code",
   "execution_count": null,
   "metadata": {},
   "outputs": [],
   "source": [
    "211 \tFFFFA8 \tAgricultural areas > Arable land > Non-irrigated arable land\n",
    "212 \tFFFF00 \tAgricultural areas > Arable land > Permanently irrigated land\n",
    "213 \tE6E600 \tAgricultural areas > Arable land > Rice fields\n",
    "221 \tE68000 \tAgricultural areas > Permanent crops > Vineyards\n",
    "222 \tF2A64D \tAgricultural areas > Permanent crops > Fruit trees and berry plantations\n",
    "223 \tE6A600 \tAgricultural areas > Permanent crops > Olive groves\n",
    "231 \tE6E64D \tAgricultural areas > Pastures > Pastures\n",
    "241 \tFFE6A6 \tAgricultural areas > Heterogeneous agricultural areas > Annual crops associated with permanent crops"
   ]
  }
 ],
 "metadata": {
  "kernelspec": {
   "display_name": "Python [conda env:irrigation_detection]",
   "language": "python",
   "name": "conda-env-irrigation_detection-py"
  },
  "language_info": {
   "codemirror_mode": {
    "name": "ipython",
    "version": 3
   },
   "file_extension": ".py",
   "mimetype": "text/x-python",
   "name": "python",
   "nbconvert_exporter": "python",
   "pygments_lexer": "ipython3",
   "version": "3.9.7"
  },
  "toc": {
   "base_numbering": 1,
   "nav_menu": {},
   "number_sections": true,
   "sideBar": true,
   "skip_h1_title": false,
   "title_cell": "Table of Contents",
   "title_sidebar": "Contents",
   "toc_cell": false,
   "toc_position": {},
   "toc_section_display": true,
   "toc_window_display": false
  },
  "varInspector": {
   "cols": {
    "lenName": 16,
    "lenType": 16,
    "lenVar": 40
   },
   "kernels_config": {
    "python": {
     "delete_cmd_postfix": "",
     "delete_cmd_prefix": "del ",
     "library": "var_list.py",
     "varRefreshCmd": "print(var_dic_list())"
    },
    "r": {
     "delete_cmd_postfix": ") ",
     "delete_cmd_prefix": "rm(",
     "library": "var_list.r",
     "varRefreshCmd": "cat(var_dic_list()) "
    }
   },
   "types_to_exclude": [
    "module",
    "function",
    "builtin_function_or_method",
    "instance",
    "_Feature"
   ],
   "window_display": false
  }
 },
 "nbformat": 4,
 "nbformat_minor": 2
}
