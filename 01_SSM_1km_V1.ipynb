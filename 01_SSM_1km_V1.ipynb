{
 "cells": [
  {
   "cell_type": "code",
   "execution_count": 1,
   "metadata": {
    "ExecuteTime": {
     "end_time": "2021-11-26T08:22:27.181748Z",
     "start_time": "2021-11-26T08:21:48.805786Z"
    }
   },
   "outputs": [
    {
     "name": "stdout",
     "output_type": "stream",
     "text": [
      "Collecting package metadata (current_repodata.json): ...working... done\n",
      "Solving environment: ...working... done\n",
      "\n",
      "## Package Plan ##\n",
      "\n",
      "  environment location: C:\\Users\\USER\\Anaconda3\\envs\\irrigation_detection\n",
      "\n",
      "  added / updated specs:\n",
      "    - rioxarray\n",
      "\n",
      "\n",
      "The following packages will be downloaded:\n",
      "\n",
      "    package                    |            build\n",
      "    ---------------------------|-----------------\n",
      "    rioxarray-0.9.0            |     pyhd8ed1ab_0          44 KB  conda-forge\n",
      "    ------------------------------------------------------------\n",
      "                                           Total:          44 KB\n",
      "\n",
      "The following NEW packages will be INSTALLED:\n",
      "\n",
      "  rioxarray          conda-forge/noarch::rioxarray-0.9.0-pyhd8ed1ab_0\n",
      "\n",
      "\n",
      "\n",
      "Downloading and Extracting Packages\n",
      "\n",
      "rioxarray-0.9.0      | 44 KB     |            |   0% \n",
      "rioxarray-0.9.0      | 44 KB     | ###6       |  36% \n",
      "rioxarray-0.9.0      | 44 KB     | ########## | 100% \n",
      "Preparing transaction: ...working... done\n",
      "Verifying transaction: ...working... done\n",
      "Executing transaction: ...working... done\n"
     ]
    },
    {
     "name": "stderr",
     "output_type": "stream",
     "text": [
      "\n",
      "\n",
      "==> WARNING: A newer version of conda exists. <==\n",
      "  current version: 4.10.3\n",
      "  latest version: 4.11.0\n",
      "\n",
      "Please update conda by running\n",
      "\n",
      "    $ conda update -n base conda\n",
      "\n",
      "\n"
     ]
    }
   ],
   "source": [
    "import sys\n",
    "!conda install -c conda-forge --yes --prefix {sys.prefix} xarray, rasterio, tqdm, scikit-learn, geemap, rioxarray"
   ]
  },
  {
   "cell_type": "code",
   "execution_count": null,
   "metadata": {
    "ExecuteTime": {
     "end_time": "2021-11-18T20:03:11.787901Z",
     "start_time": "2021-11-18T20:02:29.478205Z"
    }
   },
   "outputs": [],
   "source": [
    "import sys\n",
    "!conda install --yes --prefix {sys.prefix} scikit-image"
   ]
  },
  {
   "cell_type": "code",
   "execution_count": null,
   "metadata": {
    "ExecuteTime": {
     "end_time": "2021-11-22T19:17:10.011779Z",
     "start_time": "2021-11-22T19:17:05.351118Z"
    }
   },
   "outputs": [],
   "source": [
    "import sys\n",
    "!pip install --prefix {sys.prefix} pikepdf, calplot, openeo"
   ]
  },
  {
   "cell_type": "code",
   "execution_count": null,
   "metadata": {
    "ExecuteTime": {
     "end_time": "2021-11-02T10:34:13.117453Z",
     "start_time": "2021-11-02T10:34:11.848758Z"
    }
   },
   "outputs": [],
   "source": [
    "# Import modules.\n",
    "from irrigation_detection import search_files\n",
    "from irrigation_detection import subset_ds\n",
    "from irrigation_detection import export_values\n",
    "import xarray as xr"
   ]
  },
  {
   "cell_type": "code",
   "execution_count": null,
   "metadata": {
    "ExecuteTime": {
     "end_time": "2021-11-02T10:34:13.411346Z",
     "start_time": "2021-11-02T10:34:13.140476Z"
    }
   },
   "outputs": [],
   "source": [
    "# Find all .nc files nested inside directories first argument is path where files and directories stored second argument is the file ending.\n",
    "files = search_files('D://ssm_download/',\".nc\") "
   ]
  },
  {
   "cell_type": "code",
   "execution_count": null,
   "metadata": {
    "ExecuteTime": {
     "end_time": "2021-11-02T10:35:06.532180Z",
     "start_time": "2021-11-02T10:34:18.313677Z"
    }
   },
   "outputs": [],
   "source": [
    "# Create a xarray object from multiple .nc files.\n",
    "ssm = xr.open_mfdataset(files, decode_cf=True)"
   ]
  },
  {
   "cell_type": "code",
   "execution_count": null,
   "metadata": {
    "ExecuteTime": {
     "end_time": "2021-11-02T10:35:07.089106Z",
     "start_time": "2021-11-02T10:35:06.563416Z"
    }
   },
   "outputs": [],
   "source": [
    "# Subset and mask out unrelevant areas.\n",
    "ssm_subset = subset_ds(r'C:\\Users\\USER\\Desktop\\Master_Irrigation\\03_GIS\\oberrheingraben_shp\\oberrheingraben-polygon.shp', ssm)"
   ]
  },
  {
   "cell_type": "code",
   "execution_count": null,
   "metadata": {
    "ExecuteTime": {
     "end_time": "2021-10-28T06:51:36.681992Z",
     "start_time": "2021-10-28T06:51:36.666366Z"
    }
   },
   "outputs": [],
   "source": [
    "# Apply conversation of digital units to physical units.\n",
    "ssm_subset['ssm'] = ssm_subset['ssm'] * 0.5\n",
    "ssm_subset['ssm_noise'] = ssm_subset['ssm_noise'] * 0.5"
   ]
  },
  {
   "cell_type": "code",
   "execution_count": null,
   "metadata": {},
   "outputs": [],
   "source": [
    "# Export xr as .nc file \n",
    "ssm_subset[['ssm', 'ssm_noise']].to_netcdf(r'C:\\Users\\USER\\Desktop\\Master_Irrigation\\03_GIS\\datasets\\SSM_1km_V1.nc')"
   ]
  },
  {
   "cell_type": "code",
   "execution_count": null,
   "metadata": {
    "ExecuteTime": {
     "end_time": "2021-10-18T11:24:58.890856Z",
     "start_time": "2021-10-18T11:24:05.277359Z"
    }
   },
   "outputs": [],
   "source": [
    "export_values(latitude=49.85083645182146, longitude=8.463941352976518, ds=ssm, name='point_2_ssm.csv')"
   ]
  }
 ],
 "metadata": {
  "kernelspec": {
   "display_name": "Python [conda env:irrigation_detection]",
   "language": "python",
   "name": "conda-env-irrigation_detection-py"
  },
  "language_info": {
   "codemirror_mode": {
    "name": "ipython",
    "version": 3
   },
   "file_extension": ".py",
   "mimetype": "text/x-python",
   "name": "python",
   "nbconvert_exporter": "python",
   "pygments_lexer": "ipython3",
   "version": "3.9.7"
  },
  "toc": {
   "base_numbering": 1,
   "nav_menu": {},
   "number_sections": true,
   "sideBar": true,
   "skip_h1_title": false,
   "title_cell": "Table of Contents",
   "title_sidebar": "Contents",
   "toc_cell": false,
   "toc_position": {},
   "toc_section_display": true,
   "toc_window_display": false
  },
  "varInspector": {
   "cols": {
    "lenName": 16,
    "lenType": 16,
    "lenVar": 40
   },
   "kernels_config": {
    "python": {
     "delete_cmd_postfix": "",
     "delete_cmd_prefix": "del ",
     "library": "var_list.py",
     "varRefreshCmd": "print(var_dic_list())"
    },
    "r": {
     "delete_cmd_postfix": ") ",
     "delete_cmd_prefix": "rm(",
     "library": "var_list.r",
     "varRefreshCmd": "cat(var_dic_list()) "
    }
   },
   "oldHeight": 272.01666600000004,
   "position": {
    "height": "40px",
    "left": "1391px",
    "right": "20px",
    "top": "114px",
    "width": "350px"
   },
   "types_to_exclude": [
    "module",
    "function",
    "builtin_function_or_method",
    "instance",
    "_Feature"
   ],
   "varInspector_section_display": "none",
   "window_display": false
  }
 },
 "nbformat": 4,
 "nbformat_minor": 2
}
