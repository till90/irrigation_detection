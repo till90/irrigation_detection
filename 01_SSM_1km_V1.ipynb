{
 "cells": [
  {
   "cell_type": "code",
   "execution_count": null,
   "metadata": {
    "ExecuteTime": {
     "end_time": "2021-11-26T08:22:27.181748Z",
     "start_time": "2021-11-26T08:21:48.805786Z"
    }
   },
   "outputs": [],
   "source": [
    "import sys\n",
    "!conda install -c conda-forge --yes --prefix {sys.prefix} xarray, rasterio, tqdm, scikit-learn, geemap, rioxarray"
   ]
  },
  {
   "cell_type": "code",
   "execution_count": null,
   "metadata": {
    "ExecuteTime": {
     "end_time": "2021-11-18T20:03:11.787901Z",
     "start_time": "2021-11-18T20:02:29.478205Z"
    }
   },
   "outputs": [],
   "source": [
    "import sys\n",
    "!conda install --yes --prefix {sys.prefix} scikit-image"
   ]
  },
  {
   "cell_type": "code",
   "execution_count": null,
   "metadata": {
    "ExecuteTime": {
     "end_time": "2021-11-22T19:17:10.011779Z",
     "start_time": "2021-11-22T19:17:05.351118Z"
    }
   },
   "outputs": [],
   "source": [
    "import sys\n",
    "!pip install --prefix {sys.prefix} pikepdf, calplot, openeo"
   ]
  },
  {
   "cell_type": "code",
   "execution_count": null,
   "metadata": {
    "ExecuteTime": {
     "end_time": "2021-12-10T10:25:46.425015Z",
     "start_time": "2021-12-10T10:25:43.157604Z"
    }
   },
   "outputs": [],
   "source": [
    "# Import modules.\n",
    "from irrigation_detection import search_files\n",
    "from irrigation_detection import subset_ds\n",
    "from irrigation_detection import export_values\n",
    "import xarray as xr"
   ]
  },
  {
   "cell_type": "code",
   "execution_count": null,
   "metadata": {
    "ExecuteTime": {
     "end_time": "2021-12-10T10:25:47.028584Z",
     "start_time": "2021-12-10T10:25:46.578539Z"
    }
   },
   "outputs": [],
   "source": [
    "# Find all .nc files nested inside directories first argument is path where files and directories stored second argument is the file ending.\n",
    "files = search_files('D://ssm_download/',\".nc\") "
   ]
  },
  {
   "cell_type": "code",
   "execution_count": null,
   "metadata": {
    "ExecuteTime": {
     "end_time": "2021-12-10T10:26:42.460388Z",
     "start_time": "2021-12-10T10:25:53.403418Z"
    }
   },
   "outputs": [],
   "source": [
    "# Create a xarray object from multiple .nc files.\n",
    "ssm = xr.open_mfdataset(files, decode_cf=True)"
   ]
  },
  {
   "cell_type": "code",
   "execution_count": null,
   "metadata": {
    "ExecuteTime": {
     "end_time": "2021-12-10T10:27:15.422177Z",
     "start_time": "2021-12-10T10:27:15.072257Z"
    }
   },
   "outputs": [],
   "source": [
    "# Subset and mask out unrelevant areas.\n",
    "ssm_subset = subset_ds(r'C:\\Users\\USER\\Desktop\\Master_Irrigation\\03_GIS\\gg_test_field\\gg_test_field_1.shp', ssm)"
   ]
  },
  {
   "cell_type": "code",
   "execution_count": null,
   "metadata": {
    "ExecuteTime": {
     "end_time": "2021-10-28T06:51:36.681992Z",
     "start_time": "2021-10-28T06:51:36.666366Z"
    }
   },
   "outputs": [],
   "source": [
    "# Apply conversation of digital units to physical units.\n",
    "ssm_subset['ssm'] = ssm_subset['ssm'] * 0.5\n",
    "ssm_subset['ssm_noise'] = ssm_subset['ssm_noise'] * 0.5"
   ]
  },
  {
   "cell_type": "code",
   "execution_count": null,
   "metadata": {},
   "outputs": [],
   "source": [
    "# Export xr as .nc file \n",
    "ssm_subset[['ssm', 'ssm_noise']].to_netcdf(r'C:\\Users\\USER\\Desktop\\Master_Irrigation\\03_GIS\\datasets\\SSM_1km_V1.nc')"
   ]
  },
  {
   "cell_type": "code",
   "execution_count": null,
   "metadata": {
    "ExecuteTime": {
     "end_time": "2021-10-18T11:24:58.890856Z",
     "start_time": "2021-10-18T11:24:05.277359Z"
    }
   },
   "outputs": [],
   "source": [
    "export_values(latitude=49.85083645182146, longitude=8.463941352976518, ds=ssm, name='point_2_ssm.csv')"
   ]
  }
 ],
 "metadata": {
  "kernelspec": {
   "display_name": "Python [conda env:irrigation_detection]",
   "language": "python",
   "name": "conda-env-irrigation_detection-py"
  },
  "language_info": {
   "codemirror_mode": {
    "name": "ipython",
    "version": 3
   },
   "file_extension": ".py",
   "mimetype": "text/x-python",
   "name": "python",
   "nbconvert_exporter": "python",
   "pygments_lexer": "ipython3",
   "version": "3.9.7"
  },
  "toc": {
   "base_numbering": 1,
   "nav_menu": {},
   "number_sections": true,
   "sideBar": true,
   "skip_h1_title": false,
   "title_cell": "Table of Contents",
   "title_sidebar": "Contents",
   "toc_cell": false,
   "toc_position": {},
   "toc_section_display": true,
   "toc_window_display": false
  },
  "varInspector": {
   "cols": {
    "lenName": 16,
    "lenType": 16,
    "lenVar": 40
   },
   "kernels_config": {
    "python": {
     "delete_cmd_postfix": "",
     "delete_cmd_prefix": "del ",
     "library": "var_list.py",
     "varRefreshCmd": "print(var_dic_list())"
    },
    "r": {
     "delete_cmd_postfix": ") ",
     "delete_cmd_prefix": "rm(",
     "library": "var_list.r",
     "varRefreshCmd": "cat(var_dic_list()) "
    }
   },
   "oldHeight": 272.01666600000004,
   "position": {
    "height": "40px",
    "left": "1391px",
    "right": "20px",
    "top": "114px",
    "width": "350px"
   },
   "types_to_exclude": [
    "module",
    "function",
    "builtin_function_or_method",
    "instance",
    "_Feature"
   ],
   "varInspector_section_display": "none",
   "window_display": false
  }
 },
 "nbformat": 4,
 "nbformat_minor": 2
}
