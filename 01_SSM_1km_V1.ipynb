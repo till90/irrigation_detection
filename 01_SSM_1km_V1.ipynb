{
 "cells": [
  {
   "cell_type": "code",
   "execution_count": null,
   "metadata": {
    "ExecuteTime": {
     "end_time": "2021-11-18T20:01:14.228708Z",
     "start_time": "2021-11-18T20:00:54.816976Z"
    }
   },
   "outputs": [],
   "source": [
    "import sys\n",
    "!conda install -c conda-forge --yes --prefix {sys.prefix} xarray, rasterio, tqdm, scikit-learn"
   ]
  },
  {
   "cell_type": "code",
   "execution_count": null,
   "metadata": {
    "ExecuteTime": {
     "end_time": "2021-11-18T20:03:11.787901Z",
     "start_time": "2021-11-18T20:02:29.478205Z"
    }
   },
   "outputs": [],
   "source": [
    "import sys\n",
    "!conda install --yes --prefix {sys.prefix} scikit-image"
   ]
  },
  {
   "cell_type": "code",
   "execution_count": null,
   "metadata": {
    "ExecuteTime": {
     "end_time": "2021-11-18T17:28:23.148530Z",
     "start_time": "2021-11-18T17:28:17.231116Z"
    }
   },
   "outputs": [],
   "source": [
    "import sys\n",
    "!pip install --prefix {sys.prefix} pikepdf"
   ]
  },
  {
   "cell_type": "code",
   "execution_count": null,
   "metadata": {
    "ExecuteTime": {
     "end_time": "2021-11-02T10:34:13.117453Z",
     "start_time": "2021-11-02T10:34:11.848758Z"
    }
   },
   "outputs": [],
   "source": [
    "# Import modules.\n",
    "from irrigation_detection import search_files\n",
    "from irrigation_detection import subset_ds\n",
    "from irrigation_detection import export_values\n",
    "import xarray as xr"
   ]
  },
  {
   "cell_type": "code",
   "execution_count": null,
   "metadata": {
    "ExecuteTime": {
     "end_time": "2021-11-02T10:34:13.411346Z",
     "start_time": "2021-11-02T10:34:13.140476Z"
    }
   },
   "outputs": [],
   "source": [
    "# Find all .nc files nested inside directories first argument is path where files and directories stored second argument is the file ending.\n",
    "files = search_files('D://ssm_download/',\".nc\") "
   ]
  },
  {
   "cell_type": "code",
   "execution_count": null,
   "metadata": {
    "ExecuteTime": {
     "end_time": "2021-11-02T10:35:06.532180Z",
     "start_time": "2021-11-02T10:34:18.313677Z"
    }
   },
   "outputs": [],
   "source": [
    "# Create a xarray object from multiple .nc files.\n",
    "ssm = xr.open_mfdataset(files, decode_cf=True)"
   ]
  },
  {
   "cell_type": "code",
   "execution_count": null,
   "metadata": {
    "ExecuteTime": {
     "end_time": "2021-11-02T10:35:07.089106Z",
     "start_time": "2021-11-02T10:35:06.563416Z"
    }
   },
   "outputs": [],
   "source": [
    "# Subset and mask out unrelevant areas.\n",
    "ssm_subset = subset_ds(r'C:\\Users\\USER\\Desktop\\Master_Irrigation\\03_GIS\\oberrheingraben_shp\\oberrheingraben-polygon.shp', ssm)"
   ]
  },
  {
   "cell_type": "code",
   "execution_count": null,
   "metadata": {
    "ExecuteTime": {
     "end_time": "2021-10-28T06:51:36.681992Z",
     "start_time": "2021-10-28T06:51:36.666366Z"
    }
   },
   "outputs": [],
   "source": [
    "# Apply conversation of digital units to physical units.\n",
    "ssm_subset['ssm'] = ssm_subset['ssm'] * 0.5\n",
    "ssm_subset['ssm_noise'] = ssm_subset['ssm_noise'] * 0.5"
   ]
  },
  {
   "cell_type": "code",
   "execution_count": null,
   "metadata": {},
   "outputs": [],
   "source": [
    "# Export xr as .nc file \n",
    "ssm_subset[['ssm', 'ssm_noise']].to_netcdf(r'C:\\Users\\USER\\Desktop\\Master_Irrigation\\03_GIS\\datasets\\SSM_1km_V1.nc')"
   ]
  },
  {
   "cell_type": "code",
   "execution_count": null,
   "metadata": {
    "ExecuteTime": {
     "end_time": "2021-10-18T11:24:58.890856Z",
     "start_time": "2021-10-18T11:24:05.277359Z"
    }
   },
   "outputs": [],
   "source": [
    "export_values(latitude=49.85083645182146, longitude=8.463941352976518, ds=ssm, name='point_2_ssm.csv')"
   ]
  }
 ],
 "metadata": {
  "kernelspec": {
   "display_name": "Python [conda env:irrigation_detection]",
   "language": "python",
   "name": "conda-env-irrigation_detection-py"
  },
  "language_info": {
   "codemirror_mode": {
    "name": "ipython",
    "version": 3
   },
   "file_extension": ".py",
   "mimetype": "text/x-python",
   "name": "python",
   "nbconvert_exporter": "python",
   "pygments_lexer": "ipython3",
   "version": "3.9.7"
  },
  "toc": {
   "base_numbering": 1,
   "nav_menu": {},
   "number_sections": true,
   "sideBar": true,
   "skip_h1_title": false,
   "title_cell": "Table of Contents",
   "title_sidebar": "Contents",
   "toc_cell": false,
   "toc_position": {},
   "toc_section_display": true,
   "toc_window_display": false
  },
  "varInspector": {
   "cols": {
    "lenName": 16,
    "lenType": 16,
    "lenVar": 40
   },
   "kernels_config": {
    "python": {
     "delete_cmd_postfix": "",
     "delete_cmd_prefix": "del ",
     "library": "var_list.py",
     "varRefreshCmd": "print(var_dic_list())"
    },
    "r": {
     "delete_cmd_postfix": ") ",
     "delete_cmd_prefix": "rm(",
     "library": "var_list.r",
     "varRefreshCmd": "cat(var_dic_list()) "
    }
   },
   "oldHeight": 272.01666600000004,
   "position": {
    "height": "40px",
    "left": "1391px",
    "right": "20px",
    "top": "114px",
    "width": "350px"
   },
   "types_to_exclude": [
    "module",
    "function",
    "builtin_function_or_method",
    "instance",
    "_Feature"
   ],
   "varInspector_section_display": "none",
   "window_display": false
  }
 },
 "nbformat": 4,
 "nbformat_minor": 2
}
