{
 "cells": [
  {
   "cell_type": "code",
   "execution_count": null,
   "metadata": {
    "ExecuteTime": {
     "end_time": "2021-11-16T19:28:09.667338Z",
     "start_time": "2021-11-16T19:27:55.352349Z"
    }
   },
   "outputs": [],
   "source": [
    "import ee\n",
    " \n",
    "# Trigger the authentication flow.\n",
    "ee.Authenticate()\n",
    " \n",
    "# Initialize the library.\n",
    "ee.Initialize()"
   ]
  },
  {
   "cell_type": "code",
   "execution_count": null,
   "metadata": {
    "ExecuteTime": {
     "end_time": "2021-11-16T19:28:11.591863Z",
     "start_time": "2021-11-16T19:28:09.700439Z"
    }
   },
   "outputs": [],
   "source": [
    "import matplotlib.pyplot as plt\n",
    "import numpy as np\n",
    "from scipy.stats import norm, gamma, f, chi2\n",
    "import IPython.display as disp\n",
    "import json"
   ]
  },
  {
   "cell_type": "code",
   "execution_count": null,
   "metadata": {
    "ExecuteTime": {
     "end_time": "2021-11-16T19:28:13.449989Z",
     "start_time": "2021-11-16T19:28:11.771337Z"
    }
   },
   "outputs": [],
   "source": [
    "# Import the Folium library.\n",
    "import folium\n",
    "\n",
    "# Define a method for displaying Earth Engine image tiles to folium map.\n",
    "def add_ee_layer(self, ee_image_object, vis_params, name):\n",
    "  map_id_dict = ee.Image(ee_image_object).getMapId(vis_params)\n",
    "  folium.raster_layers.TileLayer(\n",
    "    tiles = map_id_dict['tile_fetcher'].url_format,\n",
    "    attr = 'Map Data &copy; <a href=\"https://earthengine.google.com/\">Google Earth Engine</a>',\n",
    "    name = name,\n",
    "    overlay = True,\n",
    "    control = True\n",
    "  ).add_to(self)\n",
    "\n",
    "# Add EE drawing method to folium.\n",
    "folium.Map.add_ee_layer = add_ee_layer"
   ]
  },
  {
   "cell_type": "code",
   "execution_count": null,
   "metadata": {
    "ExecuteTime": {
     "end_time": "2021-11-16T19:28:13.515671Z",
     "start_time": "2021-11-16T19:28:13.487039Z"
    }
   },
   "outputs": [],
   "source": [
    "# Load geojson from file\n",
    "with open('C://Users/USER/Desktop/Master_Irrigation/03_GIS/fields_01.geojson') as f:\n",
    "    data = json.load(f)\n",
    "geojsonFc = ee.FeatureCollection(data)"
   ]
  },
  {
   "cell_type": "code",
   "execution_count": null,
   "metadata": {
    "ExecuteTime": {
     "end_time": "2021-11-16T19:41:28.746045Z",
     "start_time": "2021-11-16T19:41:28.730424Z"
    }
   },
   "outputs": [],
   "source": [
    "# Sentinel 1 GRD image collection \n",
    "s1_grd = ee.ImageCollection('COPERNICUS/S1_GRD').filterBounds(geojsonFc).filterDate(ee.Date('2020-04-01'), ee.Date('2020-04-30')) "
   ]
  },
  {
   "cell_type": "code",
   "execution_count": null,
   "metadata": {
    "ExecuteTime": {
     "end_time": "2021-11-16T19:28:14.583692Z",
     "start_time": "2021-11-16T19:28:14.539751Z"
    }
   },
   "outputs": [],
   "source": [
    "# Map reducer function over imagecollection to get median for multipolygon geometries\n",
    "s1_grd_rr = ee.FeatureCollection(s1_grd.map(lambda x: x.reduceRegions(collection=geojsonFc,reducer='median', crs='EPSG:4326',scale=10)))"
   ]
  },
  {
   "cell_type": "code",
   "execution_count": null,
   "metadata": {
    "ExecuteTime": {
     "end_time": "2021-11-16T19:28:32.825772Z",
     "start_time": "2021-11-16T19:28:15.882388Z"
    }
   },
   "outputs": [],
   "source": [
    "# Get time series for fields\n",
    "s1_ts_data = []\n",
    "s1_ts = s1_grd_rr.toList(10000)\n",
    "for x in range(0,s1_ts.size().getInfo()):\n",
    "    s1_ts_data.append(s1_ts.get(x).getInfo())"
   ]
  },
  {
   "cell_type": "code",
   "execution_count": null,
   "metadata": {
    "ExecuteTime": {
     "end_time": "2021-11-16T19:28:53.497751Z",
     "start_time": "2021-11-16T19:28:53.265921Z"
    }
   },
   "outputs": [],
   "source": [
    "# save geojson file for every sentinel 1 grd image a and b seperatly\n",
    "import geojson\n",
    "for fc in s1_ts_data:\n",
    "    name = fc['properties']['system:index']\n",
    "    with open('C://Users/USER/Desktop/Master_Irrigation/03_GIS/GEE/%s.geojson' %(name), 'w') as file:\n",
    "        geojson.dump(fc, file)"
   ]
  },
  {
   "cell_type": "code",
   "execution_count": null,
   "metadata": {
    "ExecuteTime": {
     "end_time": "2021-11-16T19:28:58.824975Z",
     "start_time": "2021-11-16T19:28:57.953968Z"
    }
   },
   "outputs": [],
   "source": [
    "import geopandas as gpd\n",
    "import pandas as pd\n",
    "import numpy as np\n",
    "from glob import glob\n",
    "from datetime import datetime\n",
    "from irrigation_detection import search_files"
   ]
  },
  {
   "cell_type": "code",
   "execution_count": null,
   "metadata": {
    "ExecuteTime": {
     "end_time": "2021-11-16T19:29:06.570840Z",
     "start_time": "2021-11-16T19:29:06.091502Z"
    }
   },
   "outputs": [],
   "source": [
    "#Create geopandas geodataframe from all files \n",
    "gdf = gpd.GeoDataFrame(pd.concat([gpd.read_file(i) for i in glob('C://Users/USER/Desktop/Master_Irrigation/03_GIS/GEE/*')],ignore_index=True))"
   ]
  },
  {
   "cell_type": "code",
   "execution_count": null,
   "metadata": {
    "ExecuteTime": {
     "end_time": "2021-11-16T19:29:23.444038Z",
     "start_time": "2021-11-16T19:29:23.428612Z"
    }
   },
   "outputs": [],
   "source": [
    "#get dates as datetime.datetime for all filenames\n",
    "dates = [datetime.strptime(x.split('\\\\')[1][17:32], '%Y%m%dT%H%M%S') for x in glob('C://Users/USER/Desktop/Master_Irrigation/03_GIS/GEE/*')]\n",
    "sentinel = [x.split('\\\\')[1][2] for x in glob('C://Users/USER/Desktop/Master_Irrigation/03_GIS/GEE/*')]"
   ]
  },
  {
   "cell_type": "code",
   "execution_count": null,
   "metadata": {
    "ExecuteTime": {
     "end_time": "2021-11-16T19:29:24.677268Z",
     "start_time": "2021-11-16T19:29:24.646242Z"
    }
   },
   "outputs": [],
   "source": [
    "# add dates to column by multiply dates by field numbers \n",
    "gdf['date'] = np.array([[x] * len(gdf['id'].unique()) for x in dates]).flatten()"
   ]
  },
  {
   "cell_type": "code",
   "execution_count": null,
   "metadata": {
    "ExecuteTime": {
     "end_time": "2021-11-16T19:29:26.613256Z",
     "start_time": "2021-11-16T19:29:26.582242Z"
    }
   },
   "outputs": [],
   "source": [
    "# add sentinel satellite description to column by multiply dates by field numbers\n",
    "gdf['sentinel'] = np.array([[x] * len(gdf['id'].unique()) for x in sentinel]).flatten()"
   ]
  },
  {
   "cell_type": "code",
   "execution_count": null,
   "metadata": {
    "ExecuteTime": {
     "end_time": "2021-11-16T20:09:04.746873Z",
     "start_time": "2021-11-16T20:09:04.284889Z"
    }
   },
   "outputs": [],
   "source": [
    "# save dataframe to disk\n",
    "gdf.to_file(r'C:\\Users\\USER\\Desktop\\Master_Irrigation\\03_GIS\\sentinel1\\fields01_sentinel1_grd_median.geojson')"
   ]
  },
  {
   "cell_type": "code",
   "execution_count": null,
   "metadata": {
    "ExecuteTime": {
     "end_time": "2021-11-16T11:54:57.382351Z",
     "start_time": "2021-11-16T11:54:57.367472Z"
    }
   },
   "outputs": [],
   "source": [
    "#create poi for irrigated field at 2020-04-26\n",
    "from shapely.geometry import Point\n",
    "poi = Point(8.462525010108948, 49.84003060414562)"
   ]
  },
  {
   "cell_type": "code",
   "execution_count": null,
   "metadata": {
    "ExecuteTime": {
     "end_time": "2021-11-16T12:30:04.627710Z",
     "start_time": "2021-11-16T12:30:04.595387Z"
    }
   },
   "outputs": [],
   "source": [
    "# isolate field within point\n",
    "field01 = gdf[gdf.contains(poi)]\n",
    "field01"
   ]
  },
  {
   "cell_type": "code",
   "execution_count": null,
   "metadata": {
    "ExecuteTime": {
     "end_time": "2021-11-16T12:23:01.066699Z",
     "start_time": "2021-11-16T12:23:00.160179Z"
    }
   },
   "outputs": [],
   "source": [
    "import holoviews as hv\n",
    "from holoviews import opts\n",
    "hv.extension('bokeh')"
   ]
  },
  {
   "cell_type": "code",
   "execution_count": null,
   "metadata": {
    "ExecuteTime": {
     "end_time": "2021-11-16T12:54:35.073575Z",
     "start_time": "2021-11-16T12:54:34.836312Z"
    }
   },
   "outputs": [],
   "source": [
    "import hvplot\n",
    "import hvplot.pandas"
   ]
  },
  {
   "cell_type": "code",
   "execution_count": null,
   "metadata": {
    "ExecuteTime": {
     "end_time": "2021-11-16T13:07:13.864247Z",
     "start_time": "2021-11-16T13:07:02.408596Z"
    }
   },
   "outputs": [],
   "source": [
    "field01.hvplot(kind='scatter', x='date.day', y='VV', by='sentinel', xticks=30)"
   ]
  },
  {
   "cell_type": "code",
   "execution_count": null,
   "metadata": {
    "ExecuteTime": {
     "end_time": "2021-11-16T11:54:58.432620Z",
     "start_time": "2021-11-16T11:54:58.382491Z"
    }
   },
   "outputs": [],
   "source": [
    "# Create imagecollection by mapping reduceToImage function over FeatureCollection\n",
    "s1_grd_rr_IC = ee.ImageCollection(s1_grd_rr.map(lambda x: ee.FeatureCollection(x).filter(ee.Filter.notNull(['VV'])).reduceToImage(properties=['VV'], reducer=ee.Reducer.first()).unmask(0).reproject('epsg:4326',None,10).clip(geojsonFc.geometry())))"
   ]
  },
  {
   "cell_type": "code",
   "execution_count": null,
   "metadata": {
    "ExecuteTime": {
     "end_time": "2021-11-15T18:43:43.928318Z",
     "start_time": "2021-11-15T18:43:43.120468Z"
    }
   },
   "outputs": [],
   "source": [
    "url = s1_grd_rr_IC.first().select('first').getThumbURL({'min': -20, 'max': 1})\n",
    "disp.Image(url=url, width=800)"
   ]
  },
  {
   "cell_type": "code",
   "execution_count": null,
   "metadata": {
    "ExecuteTime": {
     "end_time": "2021-11-13T19:29:11.216966Z",
     "start_time": "2021-11-13T19:29:11.201573Z"
    }
   },
   "outputs": [],
   "source": [
    "ffa_db = ee.Image(ee.ImageCollection('COPERNICUS/S1_GRD') \n",
    "                       .filterBounds(aoi) \n",
    "                       .filterDate(ee.Date('2020-04-20'), ee.Date('2020-04-30')) \n",
    "                       .first() \n",
    "                       .clip(aoi))\n",
    "ffa_fl = ee.Image(ee.ImageCollection('COPERNICUS/S1_GRD_FLOAT') \n",
    "                       .filterBounds(aoi) \n",
    "                       .filterDate(ee.Date('2020-04-20'), ee.Date('2020-04-30')) \n",
    "                       .first() \n",
    "                       .clip(aoi))"
   ]
  },
  {
   "cell_type": "code",
   "execution_count": null,
   "metadata": {
    "ExecuteTime": {
     "end_time": "2021-11-15T20:57:02.726128Z",
     "start_time": "2021-11-15T20:57:01.853703Z"
    }
   },
   "outputs": [],
   "source": [
    "s1_grd_rr_IC.first().getInfo()"
   ]
  },
  {
   "cell_type": "code",
   "execution_count": null,
   "metadata": {
    "ExecuteTime": {
     "end_time": "2021-11-15T20:56:15.440066Z",
     "start_time": "2021-11-15T20:56:14.747464Z"
    }
   },
   "outputs": [],
   "source": [
    "#location = aoi.centroid().coordinates().getInfo()[::-1]\n",
    "\n",
    "# Make an RGB color composite image (VV,VH,VV/VH).\n",
    "#rgb = ee.Image.rgb(ffa_db.select('VV'),\n",
    "#                   ffa_db.select('VH'),\n",
    "#                   ffa_db.select('VV').divide(ffa_db.select('VH')))\n",
    "test = s1_grd_rr_IC.first()\n",
    "# Create the map object.\n",
    "m = folium.Map(location=['49.983461596534646','8.471317291259766'], zoom_start=15)\n",
    "\n",
    "# Add the S1 rgb composite to the map object.\n",
    "m.add_ee_layer(test, {'min': [-20], 'max': [1]}, 'FFA')\n",
    "\n",
    "# Add a layer control panel to the map.\n",
    "m.add_child(folium.LayerControl())\n",
    "\n",
    "# Display the map.\n",
    "display(m)\n"
   ]
  },
  {
   "cell_type": "code",
   "execution_count": null,
   "metadata": {
    "ExecuteTime": {
     "end_time": "2021-11-03T09:18:48.424697Z",
     "start_time": "2021-11-03T09:18:48.409040Z"
    }
   },
   "outputs": [],
   "source": [
    "geoJSON = {\n",
    "  \"type\": \"FeatureCollection\",\n",
    "  \"features\": [\n",
    "    {\n",
    "      \"type\": \"Feature\",\n",
    "      \"properties\": {},\n",
    "      \"geometry\": {\n",
    "        \"type\": \"Polygon\",\n",
    "        \"coordinates\": [\n",
    "          [\n",
    "            [\n",
    "              8.471317291259766,\n",
    "              49.983461596534646\n",
    "            ],\n",
    "            [\n",
    "              8.481616973876953,\n",
    "              49.94867940605311\n",
    "            ],\n",
    "            [\n",
    "              8.498611450195312,\n",
    "              49.946249234682774\n",
    "            ],\n",
    "            [\n",
    "              8.529338836669922,\n",
    "              49.951882626433914\n",
    "            ],\n",
    "            [\n",
    "              8.54710578918457,\n",
    "              49.966239272192034\n",
    "            ],\n",
    "            [\n",
    "              8.471317291259766,\n",
    "              49.983461596534646\n",
    "            ]\n",
    "          ]\n",
    "        ]\n",
    "      }\n",
    "    }\n",
    "  ]\n",
    "}\n",
    "coords = geoJSON['features'][0]['geometry']['coordinates']\n",
    "aoi_sub = ee.Geometry.Polygon(coords)\n"
   ]
  },
  {
   "cell_type": "code",
   "execution_count": null,
   "metadata": {
    "ExecuteTime": {
     "end_time": "2021-11-03T09:18:51.010251Z",
     "start_time": "2021-11-03T09:18:49.829476Z"
    }
   },
   "outputs": [],
   "source": [
    "hist = ffa_fl.select('VV').reduceRegion(\n",
    "    ee.Reducer.fixedHistogram(0, 0.5, 500),aoi_sub).get('VV').getInfo()\n",
    "mean = ffa_fl.select('VV').reduceRegion(\n",
    "    ee.Reducer.mean(), aoi_sub).get('VV').getInfo()\n",
    "variance = ffa_fl.select('VV').reduceRegion(\n",
    "    ee.Reducer.variance(), aoi_sub).get('VV').getInfo()\n"
   ]
  },
  {
   "cell_type": "code",
   "execution_count": null,
   "metadata": {
    "ExecuteTime": {
     "end_time": "2021-11-03T09:18:51.401998Z",
     "start_time": "2021-11-03T09:18:51.286362Z"
    }
   },
   "outputs": [],
   "source": [
    "a = np.array(hist)\n",
    "x = a[:, 0]                 # array of bucket edge positions\n",
    "y = a[:, 1]/np.sum(a[:, 1]) # normalized array of bucket contents\n",
    "plt.grid()\n",
    "plt.plot(x, y, '.')\n",
    "plt.show()\n"
   ]
  },
  {
   "cell_type": "code",
   "execution_count": null,
   "metadata": {
    "ExecuteTime": {
     "end_time": "2021-11-03T09:19:09.755110Z",
     "start_time": "2021-11-03T09:19:09.631181Z"
    }
   },
   "outputs": [],
   "source": [
    "alpha = 5\n",
    "beta = mean/alpha\n",
    "plt.grid()\n",
    "plt.plot(x, y, '.', label='data')\n",
    "plt.plot(x, gamma.pdf(x, alpha, 0, beta)/1000, '-r', label='gamma')\n",
    "plt.legend()\n",
    "plt.show()\n"
   ]
  },
  {
   "cell_type": "code",
   "execution_count": null,
   "metadata": {
    "ExecuteTime": {
     "end_time": "2021-11-03T09:19:28.649579Z",
     "start_time": "2021-11-03T09:19:26.646303Z"
    }
   },
   "outputs": [],
   "source": [
    "def X(n):\n",
    "    return np.sum(np.cos(4*np.pi*(np.random.rand(n)-0.5)))/np.sqrt(n/2)\n",
    "\n",
    "n= 10000\n",
    "Xs = [X(n) for i in range(10000)]\n",
    "y, x = np.histogram(Xs, 100, range=[-5,5])\n",
    "plt.plot(x[:-1], y/1000, 'b.', label='simulated data')\n",
    "plt.plot(x, norm.pdf(x), '-r', label='normal distribution')\n",
    "plt.grid()\n",
    "plt.legend()\n",
    "plt.show()\n"
   ]
  },
  {
   "cell_type": "code",
   "execution_count": null,
   "metadata": {
    "ExecuteTime": {
     "end_time": "2021-11-03T09:21:43.618823Z",
     "start_time": "2021-11-03T09:21:43.606820Z"
    }
   },
   "outputs": [],
   "source": [
    "im_coll = (ee.ImageCollection('COPERNICUS/S1_GRD_FLOAT')\n",
    "                .filterBounds(aoi)\n",
    "                .filterDate(ee.Date('2020-08-01'),ee.Date('2020-08-31'))\n",
    "                .filter(ee.Filter.eq('orbitProperties_pass', 'ASCENDING'))\n",
    "                .filter(ee.Filter.eq('relativeOrbitNumber_start', 15))\n",
    "                .sort('system:time_start'))\n"
   ]
  },
  {
   "cell_type": "code",
   "execution_count": null,
   "metadata": {
    "ExecuteTime": {
     "end_time": "2021-11-03T09:21:45.248951Z",
     "start_time": "2021-11-03T09:21:44.997370Z"
    }
   },
   "outputs": [],
   "source": [
    "import time\n",
    "acq_times = im_coll.aggregate_array('system:time_start').getInfo()\n",
    "[time.strftime('%x', time.gmtime(acq_time/1000)) for acq_time in acq_times]\n"
   ]
  },
  {
   "cell_type": "code",
   "execution_count": null,
   "metadata": {
    "ExecuteTime": {
     "end_time": "2021-11-03T09:22:30.173208Z",
     "start_time": "2021-11-03T09:22:30.157205Z"
    }
   },
   "outputs": [],
   "source": [
    "im_list = im_coll.toList(im_coll.size())\n",
    "im1 = ee.Image(im_list.get(2)).select('VV').clip(aoi_sub)\n",
    "im2 = ee.Image(im_list.get(5)).select('VV').clip(aoi_sub)"
   ]
  },
  {
   "cell_type": "code",
   "execution_count": null,
   "metadata": {
    "ExecuteTime": {
     "end_time": "2021-11-03T09:22:31.647405Z",
     "start_time": "2021-11-03T09:22:31.231178Z"
    }
   },
   "outputs": [],
   "source": [
    "ratio = im1.divide(im2)\n",
    "url = ratio.getThumbURL({'min': 0, 'max': 10})\n",
    "disp.Image(url=url, width=800)"
   ]
  },
  {
   "cell_type": "code",
   "execution_count": null,
   "metadata": {
    "ExecuteTime": {
     "end_time": "2021-11-03T09:22:36.489228Z",
     "start_time": "2021-11-03T09:22:34.935176Z"
    }
   },
   "outputs": [],
   "source": [
    "hist = ratio.reduceRegion(ee.Reducer.fixedHistogram(0, 5, 500), aoi_sub).get('VV').getInfo()\n",
    "mean = ratio.reduceRegion(ee.Reducer.mean(), aoi_sub).get('VV').getInfo()\n",
    "variance = ratio.reduceRegion(ee.Reducer.variance(), aoi_sub).get('VV').getInfo()\n"
   ]
  },
  {
   "cell_type": "code",
   "execution_count": null,
   "metadata": {
    "ExecuteTime": {
     "end_time": "2021-11-03T09:23:15.023386Z",
     "start_time": "2021-11-03T09:23:13.978313Z"
    }
   },
   "outputs": [],
   "source": [
    "im1 = ee.Image(im_list.get(2)).select('VV').clip(aoi)\n",
    "im2 = ee.Image(im_list.get(5)).select('VV').clip(aoi)\n",
    "ratio = im1.divide(im2)\n",
    "\n",
    "location = aoi.centroid().coordinates().getInfo()[::-1]\n",
    "mp = folium.Map(location=location, zoom_start=12)\n",
    "mp.add_ee_layer(ratio,\n",
    "                {'min': 0, 'max': 20, 'palette': ['black', 'white']}, 'Ratio')\n",
    "mp.add_child(folium.LayerControl())\n",
    "\n",
    "display(mp)\n"
   ]
  },
  {
   "cell_type": "code",
   "execution_count": null,
   "metadata": {
    "ExecuteTime": {
     "end_time": "2021-11-03T09:23:49.427222Z",
     "start_time": "2021-11-03T09:23:49.399128Z"
    }
   },
   "outputs": [],
   "source": [
    "# Decision threshold alpha/2:\n",
    "dt = f.ppf(0.0005, 2*m, 2*m)\n",
    "\n",
    "# LRT statistics.\n",
    "q1 = im1.divide(im2)\n",
    "q2 = im2.divide(im1)\n",
    "\n",
    "# Change map with 0 = no change, 1 = decrease, 2 = increase in intensity.\n",
    "c_map = im1.multiply(0).where(q2.lt(dt), 1)\n",
    "c_map = c_map.where(q1.lt(dt), 2)\n",
    "\n",
    "# Mask no-change pixels.\n",
    "c_map = c_map.updateMask(c_map.gt(0))\n",
    "\n",
    "# Display map with red for increase and blue for decrease in intensity.\n",
    "location = aoi.centroid().coordinates().getInfo()[::-1]\n",
    "mp = folium.Map(\n",
    "    location=location, tiles='Stamen Toner',\n",
    "    zoom_start=13)\n",
    "folium.TileLayer('OpenStreetMap').add_to(mp)\n",
    "mp.add_ee_layer(ratio,\n",
    "                {'min': 0, 'max': 20, 'palette': ['black', 'white']}, 'Ratio')\n",
    "mp.add_ee_layer(c_map,\n",
    "                {'min': 0, 'max': 2, 'palette': ['black', 'blue', 'red']},\n",
    "                'Change Map')\n",
    "mp.add_child(folium.LayerControl())\n",
    "\n",
    "display(mp)\n"
   ]
  }
 ],
 "metadata": {
  "kernelspec": {
   "display_name": "Python [conda env:irrigation_detection]",
   "language": "python",
   "name": "conda-env-irrigation_detection-py"
  },
  "language_info": {
   "codemirror_mode": {
    "name": "ipython",
    "version": 3
   },
   "file_extension": ".py",
   "mimetype": "text/x-python",
   "name": "python",
   "nbconvert_exporter": "python",
   "pygments_lexer": "ipython3",
   "version": "3.9.7"
  },
  "toc": {
   "base_numbering": 1,
   "nav_menu": {},
   "number_sections": true,
   "sideBar": true,
   "skip_h1_title": false,
   "title_cell": "Table of Contents",
   "title_sidebar": "Contents",
   "toc_cell": false,
   "toc_position": {},
   "toc_section_display": true,
   "toc_window_display": false
  },
  "varInspector": {
   "cols": {
    "lenName": 16,
    "lenType": 16,
    "lenVar": 40
   },
   "kernels_config": {
    "python": {
     "delete_cmd_postfix": "",
     "delete_cmd_prefix": "del ",
     "library": "var_list.py",
     "varRefreshCmd": "print(var_dic_list())"
    },
    "r": {
     "delete_cmd_postfix": ") ",
     "delete_cmd_prefix": "rm(",
     "library": "var_list.r",
     "varRefreshCmd": "cat(var_dic_list()) "
    }
   },
   "position": {
    "height": "526.85px",
    "left": "1774px",
    "right": "20px",
    "top": "120px",
    "width": "350px"
   },
   "types_to_exclude": [
    "module",
    "function",
    "builtin_function_or_method",
    "instance",
    "_Feature"
   ],
   "window_display": true
  }
 },
 "nbformat": 4,
 "nbformat_minor": 2
}
