{
 "cells": [
  {
   "cell_type": "markdown",
   "metadata": {},
   "source": [
    "# Earth Engine data"
   ]
  },
  {
   "cell_type": "code",
   "execution_count": 1,
   "metadata": {
    "ExecuteTime": {
     "end_time": "2021-11-30T20:51:45.550700Z",
     "start_time": "2021-11-30T20:51:45.535078Z"
    }
   },
   "outputs": [],
   "source": [
    "from irrigation_detection import get_s1_grd_mean"
   ]
  },
  {
   "cell_type": "code",
   "execution_count": 3,
   "metadata": {
    "ExecuteTime": {
     "end_time": "2021-11-30T20:53:16.420059Z",
     "start_time": "2021-11-30T20:53:02.804454Z"
    }
   },
   "outputs": [
    {
     "data": {
      "text/html": [
       "<p>To authorize access needed by Earth Engine, open the following\n",
       "        URL in a web browser and follow the instructions:</p>\n",
       "        <p><a href=https://accounts.google.com/o/oauth2/auth?client_id=517222506229-vsmmajv00ul0bs7p89v5m89qs8eb9359.apps.googleusercontent.com&scope=https%3A%2F%2Fwww.googleapis.com%2Fauth%2Fearthengine+https%3A%2F%2Fwww.googleapis.com%2Fauth%2Fdevstorage.full_control&redirect_uri=urn%3Aietf%3Awg%3Aoauth%3A2.0%3Aoob&response_type=code&code_challenge=m9NUx8xHTFHnnjVbDEs6tRxWjVvnku0yR9mFIDCgTl0&code_challenge_method=S256>https://accounts.google.com/o/oauth2/auth?client_id=517222506229-vsmmajv00ul0bs7p89v5m89qs8eb9359.apps.googleusercontent.com&scope=https%3A%2F%2Fwww.googleapis.com%2Fauth%2Fearthengine+https%3A%2F%2Fwww.googleapis.com%2Fauth%2Fdevstorage.full_control&redirect_uri=urn%3Aietf%3Awg%3Aoauth%3A2.0%3Aoob&response_type=code&code_challenge=m9NUx8xHTFHnnjVbDEs6tRxWjVvnku0yR9mFIDCgTl0&code_challenge_method=S256</a></p>\n",
       "        <p>The authorization workflow will generate a code, which you\n",
       "        should paste in the box below</p>\n",
       "        "
      ],
      "text/plain": [
       "<IPython.core.display.HTML object>"
      ]
     },
     "metadata": {},
     "output_type": "display_data"
    },
    {
     "name": "stdout",
     "output_type": "stream",
     "text": [
      "Enter verification code: 4/1AX4XfWh2kSs4j9h1G30nDcRgA5HxaZAUMs_ZKmeFJQEi85cRON9Y_LTk_-I\n",
      "\n",
      "Successfully saved authorization token.\n"
     ]
    }
   ],
   "source": [
    "import ee\n",
    "# Trigger the authentication flow.\n",
    "ee.Authenticate()\n",
    "# Initialize the library.\n",
    "ee.Initialize()"
   ]
  },
  {
   "cell_type": "code",
   "execution_count": 4,
   "metadata": {
    "ExecuteTime": {
     "end_time": "2021-11-30T20:53:52.319155Z",
     "start_time": "2021-11-30T20:53:23.663603Z"
    }
   },
   "outputs": [
    {
     "name": "stdout",
     "output_type": "stream",
     "text": [
      "0 (930) images between 2016-02-01 and 2021-10-31 within 0.05884062361097424 km² \n",
      "\n",
      "Polling for task (id: B7GDZYZS65U27G37HNYJGMPX).\n",
      "finished\n"
     ]
    }
   ],
   "source": [
    "path = 'C://Users/USER/Desktop/Master_Irrigation/03_GIS/idm_test/whr_test_field.geojson'\n",
    "get_s1_grd_mean(path,'2016-02-01','2021-10-31','whr_test_field', 'yes', 30)"
   ]
  },
  {
   "cell_type": "code",
   "execution_count": 6,
   "metadata": {
    "ExecuteTime": {
     "end_time": "2021-12-01T09:11:17.933278Z",
     "start_time": "2021-12-01T09:11:17.919319Z"
    }
   },
   "outputs": [],
   "source": [
    "def s1_construct_gdf(p_geojson):\n",
    "    \"\"\"\n",
    "    Arguments:\n",
    "    \"\"\"\n",
    "    #import modules\n",
    "    import geopandas as gpd\n",
    "    import numpy as np\n",
    "    import pandas as pd\n",
    "    from datetime import datetime\n",
    "    \n",
    "    gdf = gpd.read_file(p_geojson)\n",
    "    gdf['patch'] = [x[-1] for x in gdf.id]\n",
    "    gdf['sentinel'] = [x[2] for x in gdf.id]\n",
    "    gdf['date'] = [datetime.strptime(x.split('_')[4][:15], '%Y%m%dT%H%M%S') for x in gdf.id]\n",
    "    gdf['orbit'] = ['ascending' if x.hour > 10 else 'descending' for x in gdf.date]\n",
    "    gdf['identifier'] = [x[-6:-2] for x in gdf.id]\n",
    "    gdf.to_file(p_geojson)\n",
    "    return gdf.iloc[:,1:]"
   ]
  },
  {
   "cell_type": "code",
   "execution_count": null,
   "metadata": {
    "ExecuteTime": {
     "end_time": "2021-11-25T19:58:05.212023Z",
     "start_time": "2021-11-25T19:57:58.760538Z"
    }
   },
   "outputs": [],
   "source": [
    "gdf = s1_construct_gdf(r'C:/Users/USER/Desktop/Master_Irrigation/03_GIS/idm_test/whr_test_field_ndvi30.geojson')\n",
    "gdf = s1_construct_gdf(r'C:/Users/USER/Desktop/Master_Irrigation/03_GIS/idm_test/whr_test_fieldG_ndvi30.geojson')"
   ]
  },
  {
   "cell_type": "code",
   "execution_count": null,
   "metadata": {
    "ExecuteTime": {
     "end_time": "2021-11-19T19:53:30.227981Z",
     "start_time": "2021-11-19T19:53:30.212387Z"
    }
   },
   "outputs": [],
   "source": [
    "# Load last corine land cover image \n",
    "clc = ee.Image.load('COPERNICUS/CORINE/V20/100m/2018').select('landcover')\n",
    "\n",
    "# Mask areas where soil moisture measurements valid (farmland cat.:11-16)\n",
    "clc_mask = clc.gte(211).And(clc.lte(231)) #binary map for updateMask"
   ]
  },
  {
   "cell_type": "code",
   "execution_count": null,
   "metadata": {
    "ExecuteTime": {
     "end_time": "2021-11-16T11:54:57.382351Z",
     "start_time": "2021-11-16T11:54:57.367472Z"
    }
   },
   "outputs": [],
   "source": [
    "#create poi for irrigated field at 2020-04-26\n",
    "from shapely.geometry import Point\n",
    "poi = Point(8.462525010108948, 49.84003060414562)"
   ]
  },
  {
   "cell_type": "code",
   "execution_count": null,
   "metadata": {
    "ExecuteTime": {
     "end_time": "2021-11-16T12:30:04.627710Z",
     "start_time": "2021-11-16T12:30:04.595387Z"
    }
   },
   "outputs": [],
   "source": [
    "# isolate field within point\n",
    "field01 = gdf[gdf.contains(poi)]\n",
    "field01"
   ]
  },
  {
   "cell_type": "code",
   "execution_count": null,
   "metadata": {
    "ExecuteTime": {
     "end_time": "2021-11-16T12:23:01.066699Z",
     "start_time": "2021-11-16T12:23:00.160179Z"
    }
   },
   "outputs": [],
   "source": [
    "import holoviews as hv\n",
    "from holoviews import opts\n",
    "hv.extension('bokeh')"
   ]
  },
  {
   "cell_type": "code",
   "execution_count": null,
   "metadata": {
    "ExecuteTime": {
     "end_time": "2021-11-19T08:17:44.883703Z",
     "start_time": "2021-11-19T08:17:43.426967Z"
    }
   },
   "outputs": [],
   "source": [
    "# Import the Folium library.\n",
    "import folium\n",
    "\n",
    "# Define a method for displaying Earth Engine image tiles to folium map.\n",
    "def add_ee_layer(self, ee_image_object, vis_params, name):\n",
    "  map_id_dict = ee.Image(ee_image_object).getMapId(vis_params)\n",
    "  folium.raster_layers.TileLayer(\n",
    "    tiles = map_id_dict['tile_fetcher'].url_format,\n",
    "    attr = 'Map Data &copy; <a href=\"https://earthengine.google.com/\">Google Earth Engine</a>',\n",
    "    name = name,\n",
    "    overlay = True,\n",
    "    control = True\n",
    "  ).add_to(self)\n",
    "\n",
    "# Add EE drawing method to folium.\n",
    "folium.Map.add_ee_layer = add_ee_layer"
   ]
  },
  {
   "cell_type": "code",
   "execution_count": null,
   "metadata": {
    "ExecuteTime": {
     "end_time": "2021-11-16T12:54:35.073575Z",
     "start_time": "2021-11-16T12:54:34.836312Z"
    }
   },
   "outputs": [],
   "source": [
    "import hvplot\n",
    "import hvplot.pandas"
   ]
  },
  {
   "cell_type": "code",
   "execution_count": null,
   "metadata": {
    "ExecuteTime": {
     "end_time": "2021-11-16T13:07:13.864247Z",
     "start_time": "2021-11-16T13:07:02.408596Z"
    }
   },
   "outputs": [],
   "source": [
    "field01.hvplot(kind='scatter', x='date.day', y='VV', by='sentinel', xticks=30)"
   ]
  },
  {
   "cell_type": "code",
   "execution_count": null,
   "metadata": {
    "ExecuteTime": {
     "end_time": "2021-11-16T11:54:58.432620Z",
     "start_time": "2021-11-16T11:54:58.382491Z"
    }
   },
   "outputs": [],
   "source": [
    "# Create imagecollection by mapping reduceToImage function over FeatureCollection\n",
    "s1_grd_rr_IC = ee.ImageCollection(s1_grd_rr.map(lambda x: ee.FeatureCollection(x).filter(ee.Filter.notNull(['VV'])).reduceToImage(properties=['VV'], reducer=ee.Reducer.first()).unmask(0).reproject('epsg:4326',None,10).clip(geojsonFc.geometry())))"
   ]
  },
  {
   "cell_type": "code",
   "execution_count": null,
   "metadata": {
    "ExecuteTime": {
     "end_time": "2021-11-15T18:43:43.928318Z",
     "start_time": "2021-11-15T18:43:43.120468Z"
    }
   },
   "outputs": [],
   "source": [
    "url = s1_grd_rr_IC.first().select('first').getThumbURL({'min': -20, 'max': 1})\n",
    "disp.Image(url=url, width=800)"
   ]
  },
  {
   "cell_type": "code",
   "execution_count": null,
   "metadata": {
    "ExecuteTime": {
     "end_time": "2021-11-13T19:29:11.216966Z",
     "start_time": "2021-11-13T19:29:11.201573Z"
    }
   },
   "outputs": [],
   "source": [
    "ffa_db = ee.Image(ee.ImageCollection('COPERNICUS/S1_GRD') \n",
    "                       .filterBounds(aoi) \n",
    "                       .filterDate(ee.Date('2020-04-20'), ee.Date('2020-04-30')) \n",
    "                       .first() \n",
    "                       .clip(aoi))\n",
    "ffa_fl = ee.Image(ee.ImageCollection('COPERNICUS/S1_GRD_FLOAT') \n",
    "                       .filterBounds(aoi) \n",
    "                       .filterDate(ee.Date('2020-04-20'), ee.Date('2020-04-30')) \n",
    "                       .first() \n",
    "                       .clip(aoi))"
   ]
  },
  {
   "cell_type": "code",
   "execution_count": null,
   "metadata": {
    "ExecuteTime": {
     "end_time": "2021-11-15T20:57:02.726128Z",
     "start_time": "2021-11-15T20:57:01.853703Z"
    }
   },
   "outputs": [],
   "source": [
    "s1_grd_rr_IC.first().getInfo()"
   ]
  },
  {
   "cell_type": "code",
   "execution_count": null,
   "metadata": {
    "ExecuteTime": {
     "end_time": "2021-11-15T20:56:15.440066Z",
     "start_time": "2021-11-15T20:56:14.747464Z"
    }
   },
   "outputs": [],
   "source": [
    "#location = aoi.centroid().coordinates().getInfo()[::-1]\n",
    "\n",
    "# Make an RGB color composite image (VV,VH,VV/VH).\n",
    "#rgb = ee.Image.rgb(ffa_db.select('VV'),\n",
    "#                   ffa_db.select('VH'),\n",
    "#                   ffa_db.select('VV').divide(ffa_db.select('VH')))\n",
    "test = s1_grd_rr_IC.first()\n",
    "# Create the map object.\n",
    "m = folium.Map(location=['49.983461596534646','8.471317291259766'], zoom_start=15)\n",
    "\n",
    "# Add the S1 rgb composite to the map object.\n",
    "m.add_ee_layer(test, {'min': [-20], 'max': [1]}, 'FFA')\n",
    "\n",
    "# Add a layer control panel to the map.\n",
    "m.add_child(folium.LayerControl())\n",
    "\n",
    "# Display the map.\n",
    "display(m)\n"
   ]
  },
  {
   "cell_type": "code",
   "execution_count": null,
   "metadata": {
    "ExecuteTime": {
     "end_time": "2021-11-03T09:18:48.424697Z",
     "start_time": "2021-11-03T09:18:48.409040Z"
    }
   },
   "outputs": [],
   "source": [
    "geoJSON = {\n",
    "  \"type\": \"FeatureCollection\",\n",
    "  \"features\": [\n",
    "    {\n",
    "      \"type\": \"Feature\",\n",
    "      \"properties\": {},\n",
    "      \"geometry\": {\n",
    "        \"type\": \"Polygon\",\n",
    "        \"coordinates\": [\n",
    "          [\n",
    "            [\n",
    "              8.471317291259766,\n",
    "              49.983461596534646\n",
    "            ],\n",
    "            [\n",
    "              8.481616973876953,\n",
    "              49.94867940605311\n",
    "            ],\n",
    "            [\n",
    "              8.498611450195312,\n",
    "              49.946249234682774\n",
    "            ],\n",
    "            [\n",
    "              8.529338836669922,\n",
    "              49.951882626433914\n",
    "            ],\n",
    "            [\n",
    "              8.54710578918457,\n",
    "              49.966239272192034\n",
    "            ],\n",
    "            [\n",
    "              8.471317291259766,\n",
    "              49.983461596534646\n",
    "            ]\n",
    "          ]\n",
    "        ]\n",
    "      }\n",
    "    }\n",
    "  ]\n",
    "}\n",
    "coords = geoJSON['features'][0]['geometry']['coordinates']\n",
    "aoi_sub = ee.Geometry.Polygon(coords)\n"
   ]
  },
  {
   "cell_type": "code",
   "execution_count": null,
   "metadata": {
    "ExecuteTime": {
     "end_time": "2021-11-03T09:18:51.010251Z",
     "start_time": "2021-11-03T09:18:49.829476Z"
    }
   },
   "outputs": [],
   "source": [
    "hist = ffa_fl.select('VV').reduceRegion(\n",
    "    ee.Reducer.fixedHistogram(0, 0.5, 500),aoi_sub).get('VV').getInfo()\n",
    "mean = ffa_fl.select('VV').reduceRegion(\n",
    "    ee.Reducer.mean(), aoi_sub).get('VV').getInfo()\n",
    "variance = ffa_fl.select('VV').reduceRegion(\n",
    "    ee.Reducer.variance(), aoi_sub).get('VV').getInfo()\n"
   ]
  },
  {
   "cell_type": "code",
   "execution_count": null,
   "metadata": {
    "ExecuteTime": {
     "end_time": "2021-11-03T09:18:51.401998Z",
     "start_time": "2021-11-03T09:18:51.286362Z"
    }
   },
   "outputs": [],
   "source": [
    "a = np.array(hist)\n",
    "x = a[:, 0]                 # array of bucket edge positions\n",
    "y = a[:, 1]/np.sum(a[:, 1]) # normalized array of bucket contents\n",
    "plt.grid()\n",
    "plt.plot(x, y, '.')\n",
    "plt.show()\n"
   ]
  },
  {
   "cell_type": "code",
   "execution_count": null,
   "metadata": {
    "ExecuteTime": {
     "end_time": "2021-11-03T09:19:09.755110Z",
     "start_time": "2021-11-03T09:19:09.631181Z"
    }
   },
   "outputs": [],
   "source": [
    "alpha = 5\n",
    "beta = mean/alpha\n",
    "plt.grid()\n",
    "plt.plot(x, y, '.', label='data')\n",
    "plt.plot(x, gamma.pdf(x, alpha, 0, beta)/1000, '-r', label='gamma')\n",
    "plt.legend()\n",
    "plt.show()\n"
   ]
  },
  {
   "cell_type": "code",
   "execution_count": null,
   "metadata": {
    "ExecuteTime": {
     "end_time": "2021-11-03T09:19:28.649579Z",
     "start_time": "2021-11-03T09:19:26.646303Z"
    }
   },
   "outputs": [],
   "source": [
    "def X(n):\n",
    "    return np.sum(np.cos(4*np.pi*(np.random.rand(n)-0.5)))/np.sqrt(n/2)\n",
    "\n",
    "n= 10000\n",
    "Xs = [X(n) for i in range(10000)]\n",
    "y, x = np.histogram(Xs, 100, range=[-5,5])\n",
    "plt.plot(x[:-1], y/1000, 'b.', label='simulated data')\n",
    "plt.plot(x, norm.pdf(x), '-r', label='normal distribution')\n",
    "plt.grid()\n",
    "plt.legend()\n",
    "plt.show()\n"
   ]
  },
  {
   "cell_type": "code",
   "execution_count": null,
   "metadata": {
    "ExecuteTime": {
     "end_time": "2021-11-03T09:21:43.618823Z",
     "start_time": "2021-11-03T09:21:43.606820Z"
    }
   },
   "outputs": [],
   "source": [
    "im_coll = (ee.ImageCollection('COPERNICUS/S1_GRD_FLOAT')\n",
    "                .filterBounds(aoi)\n",
    "                .filterDate(ee.Date('2020-08-01'),ee.Date('2020-08-31'))\n",
    "                .filter(ee.Filter.eq('orbitProperties_pass', 'ASCENDING'))\n",
    "                .filter(ee.Filter.eq('relativeOrbitNumber_start', 15))\n",
    "                .sort('system:time_start'))\n"
   ]
  },
  {
   "cell_type": "code",
   "execution_count": null,
   "metadata": {
    "ExecuteTime": {
     "end_time": "2021-11-03T09:21:45.248951Z",
     "start_time": "2021-11-03T09:21:44.997370Z"
    }
   },
   "outputs": [],
   "source": [
    "import time\n",
    "acq_times = im_coll.aggregate_array('system:time_start').getInfo()\n",
    "[time.strftime('%x', time.gmtime(acq_time/1000)) for acq_time in acq_times]\n"
   ]
  },
  {
   "cell_type": "code",
   "execution_count": null,
   "metadata": {
    "ExecuteTime": {
     "end_time": "2021-11-03T09:22:30.173208Z",
     "start_time": "2021-11-03T09:22:30.157205Z"
    }
   },
   "outputs": [],
   "source": [
    "im_list = im_coll.toList(im_coll.size())\n",
    "im1 = ee.Image(im_list.get(2)).select('VV').clip(aoi_sub)\n",
    "im2 = ee.Image(im_list.get(5)).select('VV').clip(aoi_sub)"
   ]
  },
  {
   "cell_type": "code",
   "execution_count": null,
   "metadata": {
    "ExecuteTime": {
     "end_time": "2021-11-03T09:22:31.647405Z",
     "start_time": "2021-11-03T09:22:31.231178Z"
    }
   },
   "outputs": [],
   "source": [
    "ratio = im1.divide(im2)\n",
    "url = ratio.getThumbURL({'min': 0, 'max': 10})\n",
    "disp.Image(url=url, width=800)"
   ]
  },
  {
   "cell_type": "code",
   "execution_count": null,
   "metadata": {
    "ExecuteTime": {
     "end_time": "2021-11-03T09:22:36.489228Z",
     "start_time": "2021-11-03T09:22:34.935176Z"
    }
   },
   "outputs": [],
   "source": [
    "hist = ratio.reduceRegion(ee.Reducer.fixedHistogram(0, 5, 500), aoi_sub).get('VV').getInfo()\n",
    "mean = ratio.reduceRegion(ee.Reducer.mean(), aoi_sub).get('VV').getInfo()\n",
    "variance = ratio.reduceRegion(ee.Reducer.variance(), aoi_sub).get('VV').getInfo()\n"
   ]
  },
  {
   "cell_type": "code",
   "execution_count": null,
   "metadata": {
    "ExecuteTime": {
     "end_time": "2021-11-03T09:23:15.023386Z",
     "start_time": "2021-11-03T09:23:13.978313Z"
    }
   },
   "outputs": [],
   "source": [
    "im1 = ee.Image(im_list.get(2)).select('VV').clip(aoi)\n",
    "im2 = ee.Image(im_list.get(5)).select('VV').clip(aoi)\n",
    "ratio = im1.divide(im2)\n",
    "\n",
    "location = aoi.centroid().coordinates().getInfo()[::-1]\n",
    "mp = folium.Map(location=location, zoom_start=12)\n",
    "mp.add_ee_layer(ratio,\n",
    "                {'min': 0, 'max': 20, 'palette': ['black', 'white']}, 'Ratio')\n",
    "mp.add_child(folium.LayerControl())\n",
    "\n",
    "display(mp)\n"
   ]
  },
  {
   "cell_type": "code",
   "execution_count": null,
   "metadata": {
    "ExecuteTime": {
     "end_time": "2021-11-03T09:23:49.427222Z",
     "start_time": "2021-11-03T09:23:49.399128Z"
    }
   },
   "outputs": [],
   "source": [
    "# Decision threshold alpha/2:\n",
    "dt = f.ppf(0.0005, 2*m, 2*m)\n",
    "\n",
    "# LRT statistics.\n",
    "q1 = im1.divide(im2)\n",
    "q2 = im2.divide(im1)\n",
    "\n",
    "# Change map with 0 = no change, 1 = decrease, 2 = increase in intensity.\n",
    "c_map = im1.multiply(0).where(q2.lt(dt), 1)\n",
    "c_map = c_map.where(q1.lt(dt), 2)\n",
    "\n",
    "# Mask no-change pixels.\n",
    "c_map = c_map.updateMask(c_map.gt(0))\n",
    "\n",
    "# Display map with red for increase and blue for decrease in intensity.\n",
    "location = aoi.centroid().coordinates().getInfo()[::-1]\n",
    "mp = folium.Map(\n",
    "    location=location, tiles='Stamen Toner',\n",
    "    zoom_start=13)\n",
    "folium.TileLayer('OpenStreetMap').add_to(mp)\n",
    "mp.add_ee_layer(ratio,\n",
    "                {'min': 0, 'max': 20, 'palette': ['black', 'white']}, 'Ratio')\n",
    "mp.add_ee_layer(c_map,\n",
    "                {'min': 0, 'max': 2, 'palette': ['black', 'blue', 'red']},\n",
    "                'Change Map')\n",
    "mp.add_child(folium.LayerControl())\n",
    "\n",
    "display(mp)\n"
   ]
  },
  {
   "cell_type": "code",
   "execution_count": 4,
   "metadata": {
    "ExecuteTime": {
     "end_time": "2021-12-01T08:30:07.483304Z",
     "start_time": "2021-12-01T08:30:07.398882Z"
    }
   },
   "outputs": [],
   "source": [
    "def get_s1_grd_mean(path, start, end, outname, with_ndvi, dateoffset):\n",
    "    \"\"\"\n",
    "    Save a gejson to drive \n",
    "    Arguments: path to gejson featurecollection, start date, end date, outname, with_ndvi 'yes' or 'no', dateoffset (int) while finding correspnding ndvi values to s1 images\n",
    "    \"\"\"\n",
    "    # Import modules.\n",
    "    import ee\n",
    "\n",
    "    try:\n",
    "        # Initialize the library.\n",
    "        ee.Initialize()\n",
    "    except:\n",
    "        # Trigger the authentication flow.\n",
    "        ee.Authenticate()\n",
    "        # Initialize the library.\n",
    "        ee.Initialize()\n",
    "    import geojson\n",
    "    import geopandas as gpd\n",
    "    import pandas as pd\n",
    "    from glob import glob\n",
    "    import os\n",
    "    from datetime import datetime, timedelta\n",
    "    import geemap.eefolium as geemap\n",
    "    from tqdm import tqdm\n",
    "    import geemap\n",
    "    import time\n",
    "    \n",
    "    # Functions.\n",
    "    # Calculate coverage in km²\n",
    "    def get_area(image):\n",
    "        # Count the non zero/null pixels in the image within the aoi\n",
    "        actPixels = ee.Number(image.select('VV').reduceRegion(reducer= ee.Reducer.count(),scale= 10,geometry= fc_aoi.union().geometry(), maxPixels= 999999999).values().get(0))\n",
    "        # calculate the perc of cover\n",
    "        pcPix = actPixels.multiply(100).divide(1000000)\n",
    "        return image.set('area', pcPix)\n",
    "    \n",
    "    #NDVI\n",
    "    def add_ndvi(image):\n",
    "        \"\"\"\n",
    "        Arguments: \n",
    "        \"\"\"\n",
    "        def maskS2clouds(image):\n",
    "            qa = image.select('QA60')\n",
    "            #Bits 10 and 11 are clouds and cirrus, respectively.\n",
    "            cloudBitMask = 1 << 10\n",
    "            cirrusBitMask = 1 << 11\n",
    "            #Both flags should be set to zero, indicating clear conditions.\n",
    "            mask = qa.bitwiseAnd(cloudBitMask).eq(0).And(qa.bitwiseAnd(cirrusBitMask).eq(0))\n",
    "            return image.updateMask(mask).divide(10000)\n",
    "\n",
    "        def NDVI(image):\n",
    "            ndvi = image.normalizedDifference(['nir','red']).rename('NDVI') #(first − second) / (first + second)\n",
    "            return image.addBands(ndvi)\n",
    "        \n",
    "        # Sentinel 2 image collection with corresponding named bands\n",
    "        bandNamesOut_s2 = ['Aerosols','blue','green','red','red edge 1','red edge 2','red edge 3','nir','red edge 4','water vapor','cirrus','swir1','swir2','QA60']\n",
    "        bandNamesS2 = ['B1','B2','B3','B4','B5','B6','B7','B8','B8A','B9','B10','B11','B12','QA60']\n",
    "        s2_1c = ee.ImageCollection('COPERNICUS/S2').select(bandNamesS2,bandNamesOut_s2)\n",
    "        s2_1c = s2_1c.filterDate(ee.Date(image.date().advance(-dateoffset,'days')), ee.Date(image.date().advance(+dateoffset,'days'))).filterBounds(image.geometry()).map(maskS2clouds).map(NDVI)\n",
    "        ndvi = ee.Image(s2_1c.qualityMosaic('NDVI').select('NDVI'))\n",
    "\n",
    "        return image.addBands(ndvi)\n",
    "    \n",
    "    def mask_by_ndvi(image):\n",
    "        mask = image.select('NDVI').lte(0.6)\n",
    "        return image.updateMask(mask)\n",
    "    \n",
    "    def mask_by_landcover(image):\n",
    "        image = image.select('Map')\n",
    "        mask = image.eq(40).Or(image.eq(30))\n",
    "        return image.updateMask(mask)\n",
    "    \n",
    "    # Paths to initial polygon(s) and outdir for ts data.\n",
    "    p_i = path\n",
    "    p_o = os.path.dirname(path) + '/ts_data/'\n",
    "    \n",
    "    # create folder in local space when not already there.\n",
    "    if not os.path.exists(p_o):\n",
    "        os.makedirs(p_o)\n",
    "        \n",
    "    # Load aoi features from file.\n",
    "    with open(p_i) as f:\n",
    "        data = geojson.load(f)\n",
    "\n",
    "    # Create GEE FeatureCollection from geojson file.\n",
    "    fc_aoi = ee.FeatureCollection(data)\n",
    "    area = fc_aoi.geometry().area().getInfo()\n",
    "    \n",
    "    fcg_aoi = ee.FeatureCollection(fc_aoi.geometry().buffer(5000))\n",
    "    areag = fcg_aoi.geometry().area().getInfo()\n",
    "\n",
    "    # Sentinel 1 GRD image collection their dates and coverage over aoi\n",
    "    ic_s1 = ee.ImageCollection('COPERNICUS/S1_GRD').filterBounds(fc_aoi).filterDate(ee.Date(start), ee.Date(end)).filter(ee.Filter.listContains('transmitterReceiverPolarisation', 'VV'))\n",
    "    icg_s1 = ee.ImageCollection('COPERNICUS/S1_GRD').filterBounds(fcg_aoi).filterDate(ee.Date(start), ee.Date(end)).filter(ee.Filter.listContains('transmitterReceiverPolarisation', 'VV'))\n",
    "\n",
    "    s1_dates = [datetime(1970, 1, 1) + timedelta(milliseconds=x) for x in ic_s1.aggregate_array(\"system:time_start\").getInfo()]\n",
    "    s1_dates = [x.strftime(\"%Y-%m-%dT%H:%M:%S.%fZ\") for x in s1_dates]    \n",
    "    s1_coverd = ic_s1.map(get_area).aggregate_array('area').getInfo()\n",
    "    \n",
    "    s1g_dates = [datetime(1970, 1, 1) + timedelta(milliseconds=x) for x in ic_s1.aggregate_array(\"system:time_start\").getInfo()]\n",
    "    s1g_dates = [x.strftime(\"%Y-%m-%dT%H:%M:%S.%fZ\") for x in s1g_dates]    \n",
    "    s1g_coverd = icg_s1.map(get_area).aggregate_array('area').getInfo()\n",
    "    \n",
    "    # Drop low coverage by metadata filter\n",
    "    s1_valid = [x for x,y in zip(s1_dates,s1_coverd) if y > area*0.25]\n",
    "    s1_valid_dates = ee.List(s1_valid).map(lambda x: ee.Date(x).millis())\n",
    "    #ic_s1 = ic_s1.filter(ee.Filter.inList(\"system:time_start\", s1_valid_dates))\n",
    "\n",
    "    # Drop low coverage by metadata filter\n",
    "    s1g_valid = [x for x,y in zip(s1g_dates,s1g_coverd) if y > areag*0.25]\n",
    "    s1g_valid_dates = ee.List(s1g_valid).map(lambda x: ee.Date(x).millis())\n",
    "    #icg_s1 = icg_s1.filter(ee.Filter.inList(\"system:time_start\", s1g_valid_dates))\n",
    "    \n",
    "    print(ic_s1.size().getInfo(),'(%s)' %(len(s1_dates)), 'images between %s and %s' %(start,end), 'within %s km²' %(area/1000000),'\\n') #s1_plot.aggregate_array(\"system:time_start\").getInfo()\n",
    "    print(icg_s1.size().getInfo(),'(%s)' %(len(s1g_dates)), 'images between %s and %s' %(start,end), 'within %s km²' %(areag/1000000),'\\n') #s1_plot.aggregate_array(\"system:time_start\").getInfo()\n",
    "\n",
    "    #Mask out area with invalid landcover class like build up areas\n",
    "    lc = ee.Image(ee.ImageCollection(\"ESA/WorldCover/v100\").first().clip(fc_aoi.union().geometry()).select('Map'))\n",
    "    ic_s1 = ic_s1.map(lambda x: x.addBands(lc))\n",
    "    ic_s1 = ic_s1.map(mask_by_landcover)\n",
    "    \n",
    "    #Mask out area with invalid landcover class like build up areas\n",
    "    lc = ee.Image(ee.ImageCollection(\"ESA/WorldCover/v100\").first().clip(fcg_aoi.union().geometry()).select('Map'))\n",
    "    icg_s1 = icg_s1.map(lambda x: x.addBands(lc))\n",
    "    icg_s1 = icg_s1.map(mask_by_landcover)\n",
    "    \n",
    "    if with_ndvi == 'yes':\n",
    "        # Add ndvi band\n",
    "        ic_s1 = ic_s1.map(add_ndvi)\n",
    "\n",
    "        # Mask areas with ndvi > 0.6\n",
    "        ic_s1 = ic_s1.map(mask_by_ndvi)\n",
    "        \n",
    "        # Map reducer function over imagecollection to get mean for multipolygon geometries\n",
    "        fc_s1 = ic_s1.map(lambda x: x.reduceRegions(collection=fc_aoi ,reducer='mean', crs='EPSG:4326',scale=10)).flatten()\n",
    "    else:\n",
    "        # Map reducer function over imagecollection to get mean for multipolygon geometries\n",
    "        fc_s1 = ic_s1.map(lambda x: x.reduceRegions(collection=fc_aoi ,reducer='mean', crs='EPSG:4326',scale=10)).flatten()\n",
    "    \n",
    "    if with_ndvi == 'yes':\n",
    "        # Add ndvi band\n",
    "        icg_s1 = icg_s1.map(add_ndvi)\n",
    "\n",
    "        # Mask areas with ndvi > 0.6\n",
    "        icg_s1 = icg_s1.map(mask_by_ndvi)\n",
    "        \n",
    "        # Map reducer function over imagecollection to get mean for multipolygon geometries\n",
    "        fcg_s1 = icg_s1.map(lambda x: x.reduceRegions(collection=fcg_aoi ,reducer='mean', crs='EPSG:4326',scale=10)).flatten()\n",
    "    else:\n",
    "        # Map reducer function over imagecollection to get mean for multipolygon geometries\n",
    "        fcg_s1 = icg_s1.map(lambda x: x.reduceRegions(collection=fcg_aoi ,reducer='mean', crs='EPSG:4326',scale=10)).flatten()\n",
    "    \n",
    "    # Export the FeatureCollection to a KML file.\n",
    "    task1 = ee.batch.Export.table.toDrive(collection = fc_s1,description='vectorsToDrive',folder='idm_gee_export', fileFormat= 'GeoJSON', fileNamePrefix=outname)\n",
    "    task1.start()\n",
    "    \n",
    "    while task1.active():\n",
    "      print('Polling for task (id: {}).'.format(task1.id))\n",
    "      time.sleep(15)\n",
    "        \n",
    "    # Export the FeatureCollection to a KML file.\n",
    "    task2 = ee.batch.Export.table.toDrive(collection = fcg_s1,description='vectorsGToDrive',folder='idm_gee_export', fileFormat= 'GeoJSON', fileNamePrefix=outname + 'G')\n",
    "    task2.start()\n",
    "    \n",
    "    while task2.active():\n",
    "      print('Polling for task (id: {}).'.format(task2.id))\n",
    "      time.sleep(15)\n",
    "\n",
    "    return print(\"finished\")"
   ]
  },
  {
   "cell_type": "code",
   "execution_count": 5,
   "metadata": {
    "ExecuteTime": {
     "end_time": "2021-12-01T09:11:17.891334Z",
     "start_time": "2021-12-01T08:30:16.799928Z"
    }
   },
   "outputs": [
    {
     "name": "stdout",
     "output_type": "stream",
     "text": [
      "930 (930) images between 2016-02-01 and 2021-10-31 within 0.05884062361097424 km² \n",
      "\n",
      "1181 (930) images between 2016-02-01 and 2021-10-31 within 82.98391916648124 km² \n",
      "\n",
      "Polling for task (id: P64IYL62ZSCM6ZA47MAN3COG).\n",
      "Polling for task (id: P64IYL62ZSCM6ZA47MAN3COG).\n",
      "Polling for task (id: P64IYL62ZSCM6ZA47MAN3COG).\n",
      "Polling for task (id: P64IYL62ZSCM6ZA47MAN3COG).\n",
      "Polling for task (id: P64IYL62ZSCM6ZA47MAN3COG).\n",
      "Polling for task (id: P64IYL62ZSCM6ZA47MAN3COG).\n",
      "Polling for task (id: P64IYL62ZSCM6ZA47MAN3COG).\n",
      "Polling for task (id: P64IYL62ZSCM6ZA47MAN3COG).\n",
      "Polling for task (id: P64IYL62ZSCM6ZA47MAN3COG).\n",
      "Polling for task (id: ZWGAZZ75L7FRGYFY5WMGNU3K).\n",
      "Polling for task (id: ZWGAZZ75L7FRGYFY5WMGNU3K).\n",
      "Polling for task (id: ZWGAZZ75L7FRGYFY5WMGNU3K).\n",
      "Polling for task (id: ZWGAZZ75L7FRGYFY5WMGNU3K).\n",
      "Polling for task (id: ZWGAZZ75L7FRGYFY5WMGNU3K).\n",
      "Polling for task (id: ZWGAZZ75L7FRGYFY5WMGNU3K).\n",
      "Polling for task (id: ZWGAZZ75L7FRGYFY5WMGNU3K).\n",
      "Polling for task (id: ZWGAZZ75L7FRGYFY5WMGNU3K).\n",
      "Polling for task (id: ZWGAZZ75L7FRGYFY5WMGNU3K).\n",
      "Polling for task (id: ZWGAZZ75L7FRGYFY5WMGNU3K).\n",
      "Polling for task (id: ZWGAZZ75L7FRGYFY5WMGNU3K).\n",
      "Polling for task (id: ZWGAZZ75L7FRGYFY5WMGNU3K).\n",
      "Polling for task (id: ZWGAZZ75L7FRGYFY5WMGNU3K).\n",
      "Polling for task (id: ZWGAZZ75L7FRGYFY5WMGNU3K).\n",
      "Polling for task (id: ZWGAZZ75L7FRGYFY5WMGNU3K).\n",
      "Polling for task (id: ZWGAZZ75L7FRGYFY5WMGNU3K).\n",
      "Polling for task (id: ZWGAZZ75L7FRGYFY5WMGNU3K).\n",
      "Polling for task (id: ZWGAZZ75L7FRGYFY5WMGNU3K).\n",
      "Polling for task (id: ZWGAZZ75L7FRGYFY5WMGNU3K).\n",
      "Polling for task (id: ZWGAZZ75L7FRGYFY5WMGNU3K).\n",
      "Polling for task (id: ZWGAZZ75L7FRGYFY5WMGNU3K).\n",
      "Polling for task (id: ZWGAZZ75L7FRGYFY5WMGNU3K).\n",
      "Polling for task (id: ZWGAZZ75L7FRGYFY5WMGNU3K).\n",
      "Polling for task (id: ZWGAZZ75L7FRGYFY5WMGNU3K).\n",
      "Polling for task (id: ZWGAZZ75L7FRGYFY5WMGNU3K).\n",
      "Polling for task (id: ZWGAZZ75L7FRGYFY5WMGNU3K).\n",
      "Polling for task (id: ZWGAZZ75L7FRGYFY5WMGNU3K).\n",
      "Polling for task (id: ZWGAZZ75L7FRGYFY5WMGNU3K).\n",
      "Polling for task (id: ZWGAZZ75L7FRGYFY5WMGNU3K).\n",
      "Polling for task (id: ZWGAZZ75L7FRGYFY5WMGNU3K).\n",
      "Polling for task (id: ZWGAZZ75L7FRGYFY5WMGNU3K).\n",
      "Polling for task (id: ZWGAZZ75L7FRGYFY5WMGNU3K).\n",
      "Polling for task (id: ZWGAZZ75L7FRGYFY5WMGNU3K).\n",
      "Polling for task (id: ZWGAZZ75L7FRGYFY5WMGNU3K).\n",
      "Polling for task (id: ZWGAZZ75L7FRGYFY5WMGNU3K).\n",
      "Polling for task (id: ZWGAZZ75L7FRGYFY5WMGNU3K).\n",
      "Polling for task (id: ZWGAZZ75L7FRGYFY5WMGNU3K).\n",
      "Polling for task (id: ZWGAZZ75L7FRGYFY5WMGNU3K).\n",
      "Polling for task (id: ZWGAZZ75L7FRGYFY5WMGNU3K).\n",
      "Polling for task (id: ZWGAZZ75L7FRGYFY5WMGNU3K).\n",
      "Polling for task (id: ZWGAZZ75L7FRGYFY5WMGNU3K).\n",
      "Polling for task (id: ZWGAZZ75L7FRGYFY5WMGNU3K).\n",
      "Polling for task (id: ZWGAZZ75L7FRGYFY5WMGNU3K).\n",
      "Polling for task (id: ZWGAZZ75L7FRGYFY5WMGNU3K).\n",
      "Polling for task (id: ZWGAZZ75L7FRGYFY5WMGNU3K).\n",
      "Polling for task (id: ZWGAZZ75L7FRGYFY5WMGNU3K).\n",
      "Polling for task (id: ZWGAZZ75L7FRGYFY5WMGNU3K).\n",
      "Polling for task (id: ZWGAZZ75L7FRGYFY5WMGNU3K).\n",
      "Polling for task (id: ZWGAZZ75L7FRGYFY5WMGNU3K).\n",
      "Polling for task (id: ZWGAZZ75L7FRGYFY5WMGNU3K).\n",
      "Polling for task (id: ZWGAZZ75L7FRGYFY5WMGNU3K).\n",
      "Polling for task (id: ZWGAZZ75L7FRGYFY5WMGNU3K).\n",
      "Polling for task (id: ZWGAZZ75L7FRGYFY5WMGNU3K).\n",
      "Polling for task (id: ZWGAZZ75L7FRGYFY5WMGNU3K).\n",
      "Polling for task (id: ZWGAZZ75L7FRGYFY5WMGNU3K).\n",
      "Polling for task (id: ZWGAZZ75L7FRGYFY5WMGNU3K).\n",
      "Polling for task (id: ZWGAZZ75L7FRGYFY5WMGNU3K).\n",
      "Polling for task (id: ZWGAZZ75L7FRGYFY5WMGNU3K).\n",
      "Polling for task (id: ZWGAZZ75L7FRGYFY5WMGNU3K).\n",
      "Polling for task (id: ZWGAZZ75L7FRGYFY5WMGNU3K).\n",
      "Polling for task (id: ZWGAZZ75L7FRGYFY5WMGNU3K).\n",
      "Polling for task (id: ZWGAZZ75L7FRGYFY5WMGNU3K).\n",
      "Polling for task (id: ZWGAZZ75L7FRGYFY5WMGNU3K).\n",
      "Polling for task (id: ZWGAZZ75L7FRGYFY5WMGNU3K).\n",
      "Polling for task (id: ZWGAZZ75L7FRGYFY5WMGNU3K).\n",
      "Polling for task (id: ZWGAZZ75L7FRGYFY5WMGNU3K).\n",
      "Polling for task (id: ZWGAZZ75L7FRGYFY5WMGNU3K).\n",
      "Polling for task (id: ZWGAZZ75L7FRGYFY5WMGNU3K).\n",
      "Polling for task (id: ZWGAZZ75L7FRGYFY5WMGNU3K).\n",
      "Polling for task (id: ZWGAZZ75L7FRGYFY5WMGNU3K).\n",
      "Polling for task (id: ZWGAZZ75L7FRGYFY5WMGNU3K).\n",
      "Polling for task (id: ZWGAZZ75L7FRGYFY5WMGNU3K).\n",
      "Polling for task (id: ZWGAZZ75L7FRGYFY5WMGNU3K).\n",
      "Polling for task (id: ZWGAZZ75L7FRGYFY5WMGNU3K).\n",
      "Polling for task (id: ZWGAZZ75L7FRGYFY5WMGNU3K).\n",
      "Polling for task (id: ZWGAZZ75L7FRGYFY5WMGNU3K).\n",
      "Polling for task (id: ZWGAZZ75L7FRGYFY5WMGNU3K).\n",
      "Polling for task (id: ZWGAZZ75L7FRGYFY5WMGNU3K).\n",
      "Polling for task (id: ZWGAZZ75L7FRGYFY5WMGNU3K).\n",
      "Polling for task (id: ZWGAZZ75L7FRGYFY5WMGNU3K).\n",
      "Polling for task (id: ZWGAZZ75L7FRGYFY5WMGNU3K).\n",
      "Polling for task (id: ZWGAZZ75L7FRGYFY5WMGNU3K).\n",
      "Polling for task (id: ZWGAZZ75L7FRGYFY5WMGNU3K).\n",
      "Polling for task (id: ZWGAZZ75L7FRGYFY5WMGNU3K).\n",
      "Polling for task (id: ZWGAZZ75L7FRGYFY5WMGNU3K).\n",
      "Polling for task (id: ZWGAZZ75L7FRGYFY5WMGNU3K).\n",
      "Polling for task (id: ZWGAZZ75L7FRGYFY5WMGNU3K).\n",
      "Polling for task (id: ZWGAZZ75L7FRGYFY5WMGNU3K).\n",
      "Polling for task (id: ZWGAZZ75L7FRGYFY5WMGNU3K).\n",
      "Polling for task (id: ZWGAZZ75L7FRGYFY5WMGNU3K).\n",
      "Polling for task (id: ZWGAZZ75L7FRGYFY5WMGNU3K).\n",
      "Polling for task (id: ZWGAZZ75L7FRGYFY5WMGNU3K).\n",
      "Polling for task (id: ZWGAZZ75L7FRGYFY5WMGNU3K).\n",
      "Polling for task (id: ZWGAZZ75L7FRGYFY5WMGNU3K).\n",
      "Polling for task (id: ZWGAZZ75L7FRGYFY5WMGNU3K).\n",
      "Polling for task (id: ZWGAZZ75L7FRGYFY5WMGNU3K).\n",
      "Polling for task (id: ZWGAZZ75L7FRGYFY5WMGNU3K).\n",
      "Polling for task (id: ZWGAZZ75L7FRGYFY5WMGNU3K).\n",
      "Polling for task (id: ZWGAZZ75L7FRGYFY5WMGNU3K).\n",
      "Polling for task (id: ZWGAZZ75L7FRGYFY5WMGNU3K).\n",
      "Polling for task (id: ZWGAZZ75L7FRGYFY5WMGNU3K).\n",
      "Polling for task (id: ZWGAZZ75L7FRGYFY5WMGNU3K).\n",
      "Polling for task (id: ZWGAZZ75L7FRGYFY5WMGNU3K).\n",
      "Polling for task (id: ZWGAZZ75L7FRGYFY5WMGNU3K).\n",
      "Polling for task (id: ZWGAZZ75L7FRGYFY5WMGNU3K).\n",
      "Polling for task (id: ZWGAZZ75L7FRGYFY5WMGNU3K).\n",
      "Polling for task (id: ZWGAZZ75L7FRGYFY5WMGNU3K).\n",
      "Polling for task (id: ZWGAZZ75L7FRGYFY5WMGNU3K).\n",
      "Polling for task (id: ZWGAZZ75L7FRGYFY5WMGNU3K).\n",
      "Polling for task (id: ZWGAZZ75L7FRGYFY5WMGNU3K).\n",
      "Polling for task (id: ZWGAZZ75L7FRGYFY5WMGNU3K).\n",
      "Polling for task (id: ZWGAZZ75L7FRGYFY5WMGNU3K).\n",
      "Polling for task (id: ZWGAZZ75L7FRGYFY5WMGNU3K).\n",
      "Polling for task (id: ZWGAZZ75L7FRGYFY5WMGNU3K).\n",
      "Polling for task (id: ZWGAZZ75L7FRGYFY5WMGNU3K).\n",
      "Polling for task (id: ZWGAZZ75L7FRGYFY5WMGNU3K).\n",
      "Polling for task (id: ZWGAZZ75L7FRGYFY5WMGNU3K).\n",
      "Polling for task (id: ZWGAZZ75L7FRGYFY5WMGNU3K).\n",
      "Polling for task (id: ZWGAZZ75L7FRGYFY5WMGNU3K).\n",
      "Polling for task (id: ZWGAZZ75L7FRGYFY5WMGNU3K).\n",
      "Polling for task (id: ZWGAZZ75L7FRGYFY5WMGNU3K).\n",
      "Polling for task (id: ZWGAZZ75L7FRGYFY5WMGNU3K).\n",
      "Polling for task (id: ZWGAZZ75L7FRGYFY5WMGNU3K).\n",
      "Polling for task (id: ZWGAZZ75L7FRGYFY5WMGNU3K).\n",
      "Polling for task (id: ZWGAZZ75L7FRGYFY5WMGNU3K).\n",
      "Polling for task (id: ZWGAZZ75L7FRGYFY5WMGNU3K).\n",
      "Polling for task (id: ZWGAZZ75L7FRGYFY5WMGNU3K).\n",
      "Polling for task (id: ZWGAZZ75L7FRGYFY5WMGNU3K).\n",
      "Polling for task (id: ZWGAZZ75L7FRGYFY5WMGNU3K).\n",
      "Polling for task (id: ZWGAZZ75L7FRGYFY5WMGNU3K).\n",
      "Polling for task (id: ZWGAZZ75L7FRGYFY5WMGNU3K).\n",
      "Polling for task (id: ZWGAZZ75L7FRGYFY5WMGNU3K).\n",
      "Polling for task (id: ZWGAZZ75L7FRGYFY5WMGNU3K).\n",
      "Polling for task (id: ZWGAZZ75L7FRGYFY5WMGNU3K).\n",
      "Polling for task (id: ZWGAZZ75L7FRGYFY5WMGNU3K).\n",
      "Polling for task (id: ZWGAZZ75L7FRGYFY5WMGNU3K).\n",
      "Polling for task (id: ZWGAZZ75L7FRGYFY5WMGNU3K).\n",
      "Polling for task (id: ZWGAZZ75L7FRGYFY5WMGNU3K).\n",
      "Polling for task (id: ZWGAZZ75L7FRGYFY5WMGNU3K).\n",
      "Polling for task (id: ZWGAZZ75L7FRGYFY5WMGNU3K).\n",
      "Polling for task (id: ZWGAZZ75L7FRGYFY5WMGNU3K).\n",
      "Polling for task (id: ZWGAZZ75L7FRGYFY5WMGNU3K).\n",
      "Polling for task (id: ZWGAZZ75L7FRGYFY5WMGNU3K).\n",
      "Polling for task (id: ZWGAZZ75L7FRGYFY5WMGNU3K).\n",
      "Polling for task (id: ZWGAZZ75L7FRGYFY5WMGNU3K).\n",
      "Polling for task (id: ZWGAZZ75L7FRGYFY5WMGNU3K).\n",
      "Polling for task (id: ZWGAZZ75L7FRGYFY5WMGNU3K).\n",
      "Polling for task (id: ZWGAZZ75L7FRGYFY5WMGNU3K).\n",
      "Polling for task (id: ZWGAZZ75L7FRGYFY5WMGNU3K).\n",
      "Polling for task (id: ZWGAZZ75L7FRGYFY5WMGNU3K).\n",
      "finished\n"
     ]
    }
   ],
   "source": [
    "path = 'C://Users/USER/Desktop/Master_Irrigation/03_GIS/idm_test/whr_test_field.geojson'\n",
    "get_s1_grd_mean(path,'2016-02-01','2021-10-31','whr_test_field', 'yes', 20)"
   ]
  }
 ],
 "metadata": {
  "kernelspec": {
   "display_name": "Python [conda env:irrigation_detection]",
   "language": "python",
   "name": "conda-env-irrigation_detection-py"
  },
  "language_info": {
   "codemirror_mode": {
    "name": "ipython",
    "version": 3
   },
   "file_extension": ".py",
   "mimetype": "text/x-python",
   "name": "python",
   "nbconvert_exporter": "python",
   "pygments_lexer": "ipython3",
   "version": "3.9.7"
  },
  "toc": {
   "base_numbering": 1,
   "nav_menu": {},
   "number_sections": true,
   "sideBar": true,
   "skip_h1_title": false,
   "title_cell": "Table of Contents",
   "title_sidebar": "Contents",
   "toc_cell": false,
   "toc_position": {},
   "toc_section_display": true,
   "toc_window_display": false
  },
  "varInspector": {
   "cols": {
    "lenName": 16,
    "lenType": 16,
    "lenVar": 40
   },
   "kernels_config": {
    "python": {
     "delete_cmd_postfix": "",
     "delete_cmd_prefix": "del ",
     "library": "var_list.py",
     "varRefreshCmd": "print(var_dic_list())"
    },
    "r": {
     "delete_cmd_postfix": ") ",
     "delete_cmd_prefix": "rm(",
     "library": "var_list.r",
     "varRefreshCmd": "cat(var_dic_list()) "
    }
   },
   "position": {
    "height": "526.85px",
    "left": "1524px",
    "right": "20px",
    "top": "152px",
    "width": "350px"
   },
   "types_to_exclude": [
    "module",
    "function",
    "builtin_function_or_method",
    "instance",
    "_Feature"
   ],
   "window_display": true
  }
 },
 "nbformat": 4,
 "nbformat_minor": 2
}
