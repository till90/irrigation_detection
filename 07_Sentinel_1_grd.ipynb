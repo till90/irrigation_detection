{
 "cells": [
  {
   "cell_type": "code",
   "execution_count": 1,
   "metadata": {
    "ExecuteTime": {
     "end_time": "2021-11-19T08:16:44.263368Z",
     "start_time": "2021-11-19T08:16:31.211514Z"
    }
   },
   "outputs": [
    {
     "data": {
      "text/html": [
       "<p>To authorize access needed by Earth Engine, open the following\n",
       "        URL in a web browser and follow the instructions:</p>\n",
       "        <p><a href=https://accounts.google.com/o/oauth2/auth?client_id=517222506229-vsmmajv00ul0bs7p89v5m89qs8eb9359.apps.googleusercontent.com&scope=https%3A%2F%2Fwww.googleapis.com%2Fauth%2Fearthengine+https%3A%2F%2Fwww.googleapis.com%2Fauth%2Fdevstorage.full_control&redirect_uri=urn%3Aietf%3Awg%3Aoauth%3A2.0%3Aoob&response_type=code&code_challenge=zlmpeeNRPrVwjll454LtcBr_TbXU7De5uU4PFR-wXg8&code_challenge_method=S256>https://accounts.google.com/o/oauth2/auth?client_id=517222506229-vsmmajv00ul0bs7p89v5m89qs8eb9359.apps.googleusercontent.com&scope=https%3A%2F%2Fwww.googleapis.com%2Fauth%2Fearthengine+https%3A%2F%2Fwww.googleapis.com%2Fauth%2Fdevstorage.full_control&redirect_uri=urn%3Aietf%3Awg%3Aoauth%3A2.0%3Aoob&response_type=code&code_challenge=zlmpeeNRPrVwjll454LtcBr_TbXU7De5uU4PFR-wXg8&code_challenge_method=S256</a></p>\n",
       "        <p>The authorization workflow will generate a code, which you\n",
       "        should paste in the box below</p>\n",
       "        "
      ],
      "text/plain": [
       "<IPython.core.display.HTML object>"
      ]
     },
     "metadata": {},
     "output_type": "display_data"
    },
    {
     "name": "stdout",
     "output_type": "stream",
     "text": [
      "Enter verification code: 4/1AX4XfWh8LCOabXdJae8oS2x5Q9ev9e9w5h1BRioAvXleWquyNBJadTWQgBI\n",
      "\n",
      "Successfully saved authorization token.\n"
     ]
    }
   ],
   "source": [
    "import ee\n",
    " \n",
    "# Trigger the authentication flow.\n",
    "ee.Authenticate()\n",
    " \n",
    "# Initialize the library.\n",
    "ee.Initialize()"
   ]
  },
  {
   "cell_type": "code",
   "execution_count": 283,
   "metadata": {
    "ExecuteTime": {
     "end_time": "2021-11-19T19:17:35.571941Z",
     "start_time": "2021-11-19T19:17:35.556349Z"
    }
   },
   "outputs": [],
   "source": [
    "#import matplotlib.pyplot as plt\n",
    "#import numpy as np\n",
    "#from scipy.stats import norm, gamma, f, chi2\n",
    "#import IPython.display as disp\n",
    "#import json\n",
    "import geojson\n",
    "import geopandas as gpd\n",
    "import pandas as pd\n",
    "from glob import glob\n",
    "from datetime import datetime"
   ]
  },
  {
   "cell_type": "code",
   "execution_count": 352,
   "metadata": {
    "ExecuteTime": {
     "end_time": "2021-11-19T19:53:22.581425Z",
     "start_time": "2021-11-19T19:53:22.565830Z"
    }
   },
   "outputs": [],
   "source": [
    "#Path to geojson polygon files containing geometries of agriculture fields\n",
    "field_fc_pol = 'C://Users/USER/Desktop/Master_Irrigation/03_GIS/idm_test/test_field_fc.geojson'\n",
    "field_fc_p = 'C://Users/USER/Desktop/Master_Irrigation/03_GIS/idm_test/test_field_p.geojson'\n",
    "fields_01 = 'C://Users/USER/Desktop/Master_Irrigation/03_GIS/fields_01.geojson'\n",
    "\n",
    "# Path to time series data per plot\n",
    "ts_data = 'C://Users/USER/Desktop/Master_Irrigation/03_GIS/idm_test/ts_data/'"
   ]
  },
  {
   "cell_type": "code",
   "execution_count": 353,
   "metadata": {
    "ExecuteTime": {
     "end_time": "2021-11-19T19:53:23.252449Z",
     "start_time": "2021-11-19T19:53:23.236831Z"
    }
   },
   "outputs": [],
   "source": [
    "# Load geojson from file\n",
    "with open(field_fc_pol) as f:\n",
    "    data = geojson.load(f)\n",
    "\n",
    "# Create GEE FeatureCollection from geojson file\n",
    "geojsonFc = ee.FeatureCollection(data)\n",
    "grid_geometry = geojsonFc.geometry().centroid().buffer(10000,1).bounds()"
   ]
  },
  {
   "cell_type": "code",
   "execution_count": 354,
   "metadata": {
    "ExecuteTime": {
     "end_time": "2021-11-19T19:53:24.054097Z",
     "start_time": "2021-11-19T19:53:24.038704Z"
    }
   },
   "outputs": [],
   "source": [
    "# Sentinel 1 GRD image collection PLOT\n",
    "s1_plot = ee.ImageCollection('COPERNICUS/S1_GRD').filterBounds(geojsonFc).filterDate(ee.Date('2018-03-01'), ee.Date('2018-09-30')) "
   ]
  },
  {
   "cell_type": "code",
   "execution_count": 355,
   "metadata": {
    "ExecuteTime": {
     "end_time": "2021-11-19T19:53:24.739302Z",
     "start_time": "2021-11-19T19:53:24.717173Z"
    }
   },
   "outputs": [],
   "source": [
    "# Map reducer function over imagecollection to get mean for multipolygon geometries\n",
    "s1_plot_rr = ee.FeatureCollection(s1_plot.map(lambda x: x.reduceRegions(collection=geojsonFc,reducer='mean', crs='EPSG:4326',scale=10)))"
   ]
  },
  {
   "cell_type": "code",
   "execution_count": 356,
   "metadata": {
    "ExecuteTime": {
     "end_time": "2021-11-19T19:53:25.439673Z",
     "start_time": "2021-11-19T19:53:25.424047Z"
    }
   },
   "outputs": [],
   "source": [
    "# Sentinel 1 GRD image collection GRID\n",
    "s1_grid = ee.ImageCollection('COPERNICUS/S1_GRD').filterBounds(geojsonFc).filterDate(ee.Date('2018-03-01'), ee.Date('2018-09-30'))"
   ]
  },
  {
   "cell_type": "code",
   "execution_count": 349,
   "metadata": {
    "ExecuteTime": {
     "end_time": "2021-11-19T19:50:20.180964Z",
     "start_time": "2021-11-19T19:50:20.143187Z"
    }
   },
   "outputs": [],
   "source": [
    "'''\n",
    "mergeByDate is a function that merges images together that have the same date.\n",
    "\n",
    "@ imgCol: [ee.ImageCollection] mandatory value that specifies the image collection to merge by dates with.\n",
    "\n",
    "Returns ee.ImageCollection\n",
    "'''\n",
    "def mergeByDate(imgCol):\n",
    "    #Convert the image collection to a list.\n",
    "    imgList = imgCol.toList(imgCol.size())\n",
    "    \n",
    "    # Driver function for mapping the unique dates\n",
    "    def uniqueDriver(image):\n",
    "        return ee.Image(image).date().format(\"YYYY-MM-dd\")\n",
    "    \n",
    "    uniqueDates = imgList.map(uniqueDriver).distinct()\n",
    "\n",
    "    # Driver function for mapping the moasiacs\n",
    "    def mosaicDriver(date):\n",
    "        date = ee.Date(date)\n",
    "        \n",
    "        image = (imgCol\n",
    "               .filterDate(date, date.advance(100, \"day\"))\n",
    "               .mosaic())\n",
    "        \n",
    "        return image.set(\n",
    "                        \"system:time_start\", date.millis(), \n",
    "                        \"system:id\", date.format(\"YYYY-MM-dd\"))\n",
    "    \n",
    "    mosaicImgList = uniqueDates.map(mosaicDriver)\n",
    "    \n",
    "    return ee.ImageCollection(mosaicImgList)\n",
    "\n",
    "s1_grid_test = mergeByDate(s1_grid)"
   ]
  },
  {
   "cell_type": "code",
   "execution_count": 357,
   "metadata": {
    "ExecuteTime": {
     "end_time": "2021-11-19T19:53:30.227981Z",
     "start_time": "2021-11-19T19:53:30.212387Z"
    }
   },
   "outputs": [],
   "source": [
    "# Load last corine land cover image \n",
    "clc = ee.Image.load('COPERNICUS/CORINE/V20/100m/2018').select('landcover')\n",
    "\n",
    "# Mask areas where soil moisture measurements valid (farmland cat.:11-16)\n",
    "clc_mask = clc.gte(211).And(clc.lte(231)) #binary map for updateMask"
   ]
  },
  {
   "cell_type": "code",
   "execution_count": 358,
   "metadata": {
    "ExecuteTime": {
     "end_time": "2021-11-19T19:53:32.001274Z",
     "start_time": "2021-11-19T19:53:31.985882Z"
    }
   },
   "outputs": [],
   "source": [
    "#NDVI\n",
    "def maskS2clouds(image):\n",
    "    qa = image.select('QA60')\n",
    "    #Bits 10 and 11 are clouds and cirrus, respectively.\n",
    "    cloudBitMask = 1 << 10\n",
    "    cirrusBitMask = 1 << 11\n",
    "    #Both flags should be set to zero, indicating clear conditions.\n",
    "    mask = qa.bitwiseAnd(cloudBitMask).eq(0).And(qa.bitwiseAnd(cirrusBitMask).eq(0))\n",
    "    return image.updateMask(mask).divide(10000).copyProperties(image, ['system:time_start'])\n",
    "\n",
    "def NDVI(image):\n",
    "    ndvi = image.normalizedDifference(['nir','red']) #(first − second) / (first + second)\n",
    "    return image.addBands(ndvi).rename(image.bandNames().add('NDVI')).copyProperties(image, ['system:time_start'])\n",
    "\n",
    "def mask_ndvi(image):\n",
    "    return image.lte(0.4).copyProperties(image, ['system:time_start'])\n",
    "\n",
    "bandNamesOut_s2 = ['Aerosols','blue','green','red','red edge 1','red edge 2','red edge 3','nir','red edge 4','water vapor','cirrus','swir1','swir2','QA60']\n",
    "bandNamesS2 = ['B1','B2','B3','B4','B5','B6','B7','B8','B8A','B9','B10','B11','B12','QA60']\n",
    "\n",
    "s2_1c = ee.ImageCollection('COPERNICUS/S2').select(bandNamesS2,bandNamesOut_s2).filterDate(ee.Date('2018-03-01'), ee.Date('2018-09-30')).filterBounds(grid_geometry).map(maskS2clouds).map(NDVI)#.map(clip_aoi) \n",
    "\n",
    "ndvi_mask = s2_1c.select('NDVI').map(mask_ndvi)\n",
    "\n",
    "# Add date to images properties\n",
    "#ndvi_mask = ndvi_mask.map(lambda x: x.set('system:time_start' , ee.Date.parse('yyyyMMDD', ee.String(x.get('system:index')).slice(0,8))))"
   ]
  },
  {
   "cell_type": "code",
   "execution_count": 359,
   "metadata": {
    "ExecuteTime": {
     "end_time": "2021-11-19T19:53:33.302725Z",
     "start_time": "2021-11-19T19:53:33.287332Z"
    }
   },
   "outputs": [],
   "source": [
    "def mask_ni(image):\n",
    "    d1 = image.date()\n",
    "    s1 = image.mask(clc_mask)\n",
    "    nmask = ndvi_mask.filterDate(d1,d1.advance(30,'days'))\n",
    "\n",
    "    s1 = s1.mask(ndvi_mask.first())\n",
    "    \n",
    "    return s1.reduceRegions(collection=grid_geometry,reducer='mean', crs='EPSG:4326',scale=50).copyProperties(image, ['system:time_start'])"
   ]
  },
  {
   "cell_type": "code",
   "execution_count": 360,
   "metadata": {
    "ExecuteTime": {
     "end_time": "2021-11-19T19:53:35.236165Z",
     "start_time": "2021-11-19T19:53:35.220548Z"
    }
   },
   "outputs": [],
   "source": [
    "# Map reducer function over imagecollection to get mean for multipolygon geometries GRID\n",
    "s1_grid_rr = ee.FeatureCollection(s1_grid.map(mask_ni))"
   ]
  },
  {
   "cell_type": "code",
   "execution_count": 361,
   "metadata": {
    "ExecuteTime": {
     "end_time": "2021-11-19T19:55:32.862549Z",
     "start_time": "2021-11-19T19:53:41.433897Z"
    }
   },
   "outputs": [],
   "source": [
    "# Get SAR backscatter time series signal for every plot and store it in a list PLOT\n",
    "s1_plot_list = s1_plot_rr.toList(10000)\n",
    "s1_plot_data = list()\n",
    "for x in range(0,s1_plot_list.size().getInfo()):\n",
    "    s1_plot_data.append(s1_plot_list.get(x).getInfo())"
   ]
  },
  {
   "cell_type": "code",
   "execution_count": 368,
   "metadata": {
    "ExecuteTime": {
     "end_time": "2021-11-19T20:18:39.817874Z",
     "start_time": "2021-11-19T20:18:38.198796Z"
    }
   },
   "outputs": [],
   "source": [
    "# Get orbit ASC or DES for s1 images PLOT\n",
    "s1_orbit = s1_plot.getInfo()\n",
    "orbit = list()\n",
    "for x in s1_orbit['features']:\n",
    "    orbit.append(x['properties']['orbitProperties_pass'])"
   ]
  },
  {
   "cell_type": "code",
   "execution_count": 370,
   "metadata": {
    "ExecuteTime": {
     "end_time": "2021-11-19T20:18:48.059055Z",
     "start_time": "2021-11-19T20:18:47.981335Z"
    }
   },
   "outputs": [],
   "source": [
    "# Create and save geojson file for every s1 grd timeseries a and b seperatly PLOT\n",
    "for i,fc in enumerate(s1_plot_data):\n",
    "    name = fc['properties']['system:index']\n",
    "    orbit_name = '__' + orbit[i]\n",
    "    with open(ts_data + '%s.geojson' %(name + '_plot_' + orbit_name), 'w') as file:\n",
    "        geojson.dump(fc, file)"
   ]
  },
  {
   "cell_type": "code",
   "execution_count": 371,
   "metadata": {
    "ExecuteTime": {
     "end_time": "2021-11-19T20:18:57.630248Z",
     "start_time": "2021-11-19T20:18:56.828129Z"
    }
   },
   "outputs": [],
   "source": [
    "#Create geopandas geodataframe from all files PLOT\n",
    "gdf = gpd.GeoDataFrame(pd.concat([gpd.read_file(i) for i in glob(ts_data + '*_plot*')],ignore_index=True))"
   ]
  },
  {
   "cell_type": "code",
   "execution_count": 380,
   "metadata": {
    "ExecuteTime": {
     "end_time": "2021-11-19T20:20:39.463861Z",
     "start_time": "2021-11-19T20:20:39.432844Z"
    }
   },
   "outputs": [],
   "source": [
    "#get dates as datetime.datetime for all filenames PLOt\n",
    "dates = [datetime.strptime(x.split('\\\\')[1][17:32], '%Y%m%dT%H%M%S') for x in glob(ts_data + '*_plot*')]\n",
    "sentinel = [x.split('\\\\')[1][2] for x in glob(ts_data + '*_plot*')]\n",
    "orbit = [x.split('__')[1][1:4] for x in glob(ts_data + '*_plot*')]"
   ]
  },
  {
   "cell_type": "code",
   "execution_count": 381,
   "metadata": {
    "ExecuteTime": {
     "end_time": "2021-11-19T20:20:40.382101Z",
     "start_time": "2021-11-19T20:20:40.350885Z"
    }
   },
   "outputs": [],
   "source": [
    "# add dates to column by multiply dates by field numbers PLOT\n",
    "gdf['date'] = np.array([[x] * len(gdf['id'].unique()) for x in dates]).flatten()\n",
    "\n",
    "# add sentinel satellite description to column by multiply dates by field numbers\n",
    "gdf['sentinel'] = np.array([[x] * len(gdf['id'].unique()) for x in sentinel]).flatten()\n",
    "\n",
    "# add sentinel satellite description to column by multiply dates by field numbers\n",
    "gdf['orbit'] = np.array([[x] * len(gdf['id'].unique()) for x in orbit]).flatten()"
   ]
  },
  {
   "cell_type": "code",
   "execution_count": 382,
   "metadata": {
    "ExecuteTime": {
     "end_time": "2021-11-19T20:20:42.942727Z",
     "start_time": "2021-11-19T20:20:42.871708Z"
    }
   },
   "outputs": [],
   "source": [
    "# save dataframe to disk PLOT\n",
    "gdf.to_file('C://Users/USER/Desktop/Master_Irrigation/03_GIS/idm_test/test_field_ts2018_plot.geojson')"
   ]
  },
  {
   "cell_type": "code",
   "execution_count": 383,
   "metadata": {
    "ExecuteTime": {
     "end_time": "2021-11-19T20:20:44.303895Z",
     "start_time": "2021-11-19T20:20:44.272674Z"
    }
   },
   "outputs": [
    {
     "data": {
      "text/html": [
       "<div>\n",
       "<style scoped>\n",
       "    .dataframe tbody tr th:only-of-type {\n",
       "        vertical-align: middle;\n",
       "    }\n",
       "\n",
       "    .dataframe tbody tr th {\n",
       "        vertical-align: top;\n",
       "    }\n",
       "\n",
       "    .dataframe thead th {\n",
       "        text-align: right;\n",
       "    }\n",
       "</style>\n",
       "<table border=\"1\" class=\"dataframe\">\n",
       "  <thead>\n",
       "    <tr style=\"text-align: right;\">\n",
       "      <th></th>\n",
       "      <th>id</th>\n",
       "      <th>VH</th>\n",
       "      <th>VV</th>\n",
       "      <th>angle</th>\n",
       "      <th>geometry</th>\n",
       "      <th>date</th>\n",
       "      <th>sentinel</th>\n",
       "      <th>orbit</th>\n",
       "    </tr>\n",
       "  </thead>\n",
       "  <tbody>\n",
       "    <tr>\n",
       "      <th>0</th>\n",
       "      <td>0</td>\n",
       "      <td>-20.587427</td>\n",
       "      <td>-11.994290</td>\n",
       "      <td>32.970780</td>\n",
       "      <td>POLYGON ((8.54584 49.79067, 8.54305 49.79019, ...</td>\n",
       "      <td>2018-03-04 05:42:17</td>\n",
       "      <td>A</td>\n",
       "      <td>DES</td>\n",
       "    </tr>\n",
       "    <tr>\n",
       "      <th>1</th>\n",
       "      <td>0</td>\n",
       "      <td>-22.329419</td>\n",
       "      <td>-11.926102</td>\n",
       "      <td>39.058007</td>\n",
       "      <td>POLYGON ((8.54584 49.79067, 8.54305 49.79019, ...</td>\n",
       "      <td>2018-03-07 17:15:58</td>\n",
       "      <td>A</td>\n",
       "      <td>ASC</td>\n",
       "    </tr>\n",
       "    <tr>\n",
       "      <th>2</th>\n",
       "      <td>0</td>\n",
       "      <td>-18.911217</td>\n",
       "      <td>-10.769899</td>\n",
       "      <td>41.932689</td>\n",
       "      <td>POLYGON ((8.54584 49.79067, 8.54305 49.79019, ...</td>\n",
       "      <td>2018-03-11 05:34:20</td>\n",
       "      <td>A</td>\n",
       "      <td>DES</td>\n",
       "    </tr>\n",
       "    <tr>\n",
       "      <th>3</th>\n",
       "      <td>0</td>\n",
       "      <td>-19.175302</td>\n",
       "      <td>-9.424283</td>\n",
       "      <td>39.054213</td>\n",
       "      <td>POLYGON ((8.54584 49.79067, 8.54305 49.79019, ...</td>\n",
       "      <td>2018-03-19 17:15:58</td>\n",
       "      <td>A</td>\n",
       "      <td>ASC</td>\n",
       "    </tr>\n",
       "    <tr>\n",
       "      <th>4</th>\n",
       "      <td>0</td>\n",
       "      <td>-18.524833</td>\n",
       "      <td>-10.850781</td>\n",
       "      <td>41.935405</td>\n",
       "      <td>POLYGON ((8.54584 49.79067, 8.54305 49.79019, ...</td>\n",
       "      <td>2018-03-23 05:34:20</td>\n",
       "      <td>A</td>\n",
       "      <td>DES</td>\n",
       "    </tr>\n",
       "    <tr>\n",
       "      <th>...</th>\n",
       "      <td>...</td>\n",
       "      <td>...</td>\n",
       "      <td>...</td>\n",
       "      <td>...</td>\n",
       "      <td>...</td>\n",
       "      <td>...</td>\n",
       "      <td>...</td>\n",
       "      <td>...</td>\n",
       "    </tr>\n",
       "    <tr>\n",
       "      <th>98</th>\n",
       "      <td>0</td>\n",
       "      <td>-19.399726</td>\n",
       "      <td>-10.308294</td>\n",
       "      <td>39.092154</td>\n",
       "      <td>POLYGON ((8.54584 49.79067, 8.54305 49.79019, ...</td>\n",
       "      <td>2018-09-09 17:15:12</td>\n",
       "      <td>B</td>\n",
       "      <td>ASC</td>\n",
       "    </tr>\n",
       "    <tr>\n",
       "      <th>99</th>\n",
       "      <td>0</td>\n",
       "      <td>-19.471224</td>\n",
       "      <td>-11.280867</td>\n",
       "      <td>41.943629</td>\n",
       "      <td>POLYGON ((8.54584 49.79067, 8.54305 49.79019, ...</td>\n",
       "      <td>2018-09-13 05:33:30</td>\n",
       "      <td>B</td>\n",
       "      <td>DES</td>\n",
       "    </tr>\n",
       "    <tr>\n",
       "      <th>100</th>\n",
       "      <td>0</td>\n",
       "      <td>-18.246122</td>\n",
       "      <td>-7.174835</td>\n",
       "      <td>32.971206</td>\n",
       "      <td>POLYGON ((8.54584 49.79067, 8.54305 49.79019, ...</td>\n",
       "      <td>2018-09-18 05:41:36</td>\n",
       "      <td>B</td>\n",
       "      <td>DES</td>\n",
       "    </tr>\n",
       "    <tr>\n",
       "      <th>101</th>\n",
       "      <td>0</td>\n",
       "      <td>-22.730859</td>\n",
       "      <td>-11.560385</td>\n",
       "      <td>39.095526</td>\n",
       "      <td>POLYGON ((8.54584 49.79067, 8.54305 49.79019, ...</td>\n",
       "      <td>2018-09-21 17:15:12</td>\n",
       "      <td>B</td>\n",
       "      <td>ASC</td>\n",
       "    </tr>\n",
       "    <tr>\n",
       "      <th>102</th>\n",
       "      <td>0</td>\n",
       "      <td>-22.796711</td>\n",
       "      <td>-12.762150</td>\n",
       "      <td>41.943186</td>\n",
       "      <td>POLYGON ((8.54584 49.79067, 8.54305 49.79019, ...</td>\n",
       "      <td>2018-09-25 05:33:30</td>\n",
       "      <td>B</td>\n",
       "      <td>DES</td>\n",
       "    </tr>\n",
       "  </tbody>\n",
       "</table>\n",
       "<p>103 rows × 8 columns</p>\n",
       "</div>"
      ],
      "text/plain": [
       "    id         VH         VV      angle  \\\n",
       "0    0 -20.587427 -11.994290  32.970780   \n",
       "1    0 -22.329419 -11.926102  39.058007   \n",
       "2    0 -18.911217 -10.769899  41.932689   \n",
       "3    0 -19.175302  -9.424283  39.054213   \n",
       "4    0 -18.524833 -10.850781  41.935405   \n",
       "..  ..        ...        ...        ...   \n",
       "98   0 -19.399726 -10.308294  39.092154   \n",
       "99   0 -19.471224 -11.280867  41.943629   \n",
       "100  0 -18.246122  -7.174835  32.971206   \n",
       "101  0 -22.730859 -11.560385  39.095526   \n",
       "102  0 -22.796711 -12.762150  41.943186   \n",
       "\n",
       "                                              geometry                date  \\\n",
       "0    POLYGON ((8.54584 49.79067, 8.54305 49.79019, ... 2018-03-04 05:42:17   \n",
       "1    POLYGON ((8.54584 49.79067, 8.54305 49.79019, ... 2018-03-07 17:15:58   \n",
       "2    POLYGON ((8.54584 49.79067, 8.54305 49.79019, ... 2018-03-11 05:34:20   \n",
       "3    POLYGON ((8.54584 49.79067, 8.54305 49.79019, ... 2018-03-19 17:15:58   \n",
       "4    POLYGON ((8.54584 49.79067, 8.54305 49.79019, ... 2018-03-23 05:34:20   \n",
       "..                                                 ...                 ...   \n",
       "98   POLYGON ((8.54584 49.79067, 8.54305 49.79019, ... 2018-09-09 17:15:12   \n",
       "99   POLYGON ((8.54584 49.79067, 8.54305 49.79019, ... 2018-09-13 05:33:30   \n",
       "100  POLYGON ((8.54584 49.79067, 8.54305 49.79019, ... 2018-09-18 05:41:36   \n",
       "101  POLYGON ((8.54584 49.79067, 8.54305 49.79019, ... 2018-09-21 17:15:12   \n",
       "102  POLYGON ((8.54584 49.79067, 8.54305 49.79019, ... 2018-09-25 05:33:30   \n",
       "\n",
       "    sentinel orbit  \n",
       "0          A   DES  \n",
       "1          A   ASC  \n",
       "2          A   DES  \n",
       "3          A   ASC  \n",
       "4          A   DES  \n",
       "..       ...   ...  \n",
       "98         B   ASC  \n",
       "99         B   DES  \n",
       "100        B   DES  \n",
       "101        B   ASC  \n",
       "102        B   DES  \n",
       "\n",
       "[103 rows x 8 columns]"
      ]
     },
     "execution_count": 383,
     "metadata": {},
     "output_type": "execute_result"
    }
   ],
   "source": [
    "gdf"
   ]
  },
  {
   "cell_type": "code",
   "execution_count": 384,
   "metadata": {
    "ExecuteTime": {
     "end_time": "2021-11-19T20:24:04.737408Z",
     "start_time": "2021-11-19T20:20:53.504203Z"
    }
   },
   "outputs": [],
   "source": [
    "# Get SAR backscatter time series signal for every plot and store it in a list GRID\n",
    "s1_grid_list = s1_grid_rr.toList(10000)\n",
    "s1_grid_data = list()\n",
    "for x in range(0,s1_grid_list.size().getInfo()):\n",
    "    s1_grid_data.append(s1_grid_list.get(x).getInfo())"
   ]
  },
  {
   "cell_type": "code",
   "execution_count": 385,
   "metadata": {
    "ExecuteTime": {
     "end_time": "2021-11-19T20:24:06.222356Z",
     "start_time": "2021-11-19T20:24:04.853148Z"
    }
   },
   "outputs": [],
   "source": [
    "# Get orbit ASC or DES for s1 images GRID\n",
    "s1_orbit = s1_grid.getInfo()\n",
    "orbit = list()\n",
    "for x in s1_orbit['features']:\n",
    "    orbit.append(x['properties']['orbitProperties_pass'])"
   ]
  },
  {
   "cell_type": "code",
   "execution_count": 386,
   "metadata": {
    "ExecuteTime": {
     "end_time": "2021-11-19T20:24:06.422641Z",
     "start_time": "2021-11-19T20:24:06.322403Z"
    }
   },
   "outputs": [],
   "source": [
    "# Create and save geojson file for every s1 grd timeseries a and b seperatly GRID\n",
    "for i,fc in enumerate(s1_grid_data):\n",
    "    name = fc['properties']['system:index']\n",
    "    orbit_name = '__' + orbit[i]\n",
    "    with open(ts_data + '%s.geojson' %(name + '_grid_' + orbit_name), 'w') as file:\n",
    "        geojson.dump(fc, file)"
   ]
  },
  {
   "cell_type": "code",
   "execution_count": 387,
   "metadata": {
    "ExecuteTime": {
     "end_time": "2021-11-19T20:24:07.625502Z",
     "start_time": "2021-11-19T20:24:06.500748Z"
    }
   },
   "outputs": [],
   "source": [
    "#Create geopandas geodataframe from all files GRID\n",
    "gdf = gpd.GeoDataFrame(pd.concat([gpd.read_file(i) for i in glob(ts_data + '*_grid*')],ignore_index=True))"
   ]
  },
  {
   "cell_type": "code",
   "execution_count": 388,
   "metadata": {
    "ExecuteTime": {
     "end_time": "2021-11-19T20:24:07.741363Z",
     "start_time": "2021-11-19T20:24:07.725742Z"
    }
   },
   "outputs": [],
   "source": [
    "#get dates as datetime.datetime for all filenames GRID\n",
    "dates = [datetime.strptime(x.split('\\\\')[1][17:32], '%Y%m%dT%H%M%S') for x in glob(ts_data + '*_grid*')]\n",
    "sentinel = [x.split('\\\\')[1][2] for x in glob(ts_data + '*_grid*')]\n",
    "orbit = [x.split('__')[1][1:4] for x in glob(ts_data + '*_grid*')]"
   ]
  },
  {
   "cell_type": "code",
   "execution_count": 389,
   "metadata": {
    "ExecuteTime": {
     "end_time": "2021-11-19T20:24:07.857021Z",
     "start_time": "2021-11-19T20:24:07.825810Z"
    }
   },
   "outputs": [],
   "source": [
    "# add dates to column by multiply dates by field numbers GRID\n",
    "gdf['date'] = np.array([[x] * len(gdf['id'].unique()) for x in dates]).flatten()\n",
    "\n",
    "# add sentinel satellite description to column by multiply dates by field numbers\n",
    "gdf['sentinel'] = np.array([[x] * len(gdf['id'].unique()) for x in sentinel]).flatten()\n",
    "\n",
    "# add sentinel satellite description to column by multiply dates by field numbers\n",
    "gdf['orbit'] = np.array([[x] * len(gdf['id'].unique()) for x in orbit]).flatten()"
   ]
  },
  {
   "cell_type": "code",
   "execution_count": 390,
   "metadata": {
    "ExecuteTime": {
     "end_time": "2021-11-19T20:24:08.004154Z",
     "start_time": "2021-11-19T20:24:07.941666Z"
    }
   },
   "outputs": [],
   "source": [
    "# save dataframe to disk GRID\n",
    "gdf.to_file('C://Users/USER/Desktop/Master_Irrigation/03_GIS/idm_test/test_field_ts2018_grid.geojson')"
   ]
  },
  {
   "cell_type": "code",
   "execution_count": 391,
   "metadata": {
    "ExecuteTime": {
     "end_time": "2021-11-19T20:47:21.417074Z",
     "start_time": "2021-11-19T20:47:21.385804Z"
    }
   },
   "outputs": [
    {
     "data": {
      "text/html": [
       "<div>\n",
       "<style scoped>\n",
       "    .dataframe tbody tr th:only-of-type {\n",
       "        vertical-align: middle;\n",
       "    }\n",
       "\n",
       "    .dataframe tbody tr th {\n",
       "        vertical-align: top;\n",
       "    }\n",
       "\n",
       "    .dataframe thead th {\n",
       "        text-align: right;\n",
       "    }\n",
       "</style>\n",
       "<table border=\"1\" class=\"dataframe\">\n",
       "  <thead>\n",
       "    <tr style=\"text-align: right;\">\n",
       "      <th></th>\n",
       "      <th>id</th>\n",
       "      <th>VH</th>\n",
       "      <th>VV</th>\n",
       "      <th>angle</th>\n",
       "      <th>geometry</th>\n",
       "      <th>date</th>\n",
       "      <th>sentinel</th>\n",
       "      <th>orbit</th>\n",
       "    </tr>\n",
       "  </thead>\n",
       "  <tbody>\n",
       "    <tr>\n",
       "      <th>0</th>\n",
       "      <td>0</td>\n",
       "      <td>-9.304641</td>\n",
       "      <td>-5.373621</td>\n",
       "      <td>15.930662</td>\n",
       "      <td>POLYGON ((8.40546 49.69932, 8.68423 49.69932, ...</td>\n",
       "      <td>2018-03-04 05:42:17</td>\n",
       "      <td>A</td>\n",
       "      <td>DES</td>\n",
       "    </tr>\n",
       "    <tr>\n",
       "      <th>1</th>\n",
       "      <td>0</td>\n",
       "      <td>-9.726136</td>\n",
       "      <td>-5.667434</td>\n",
       "      <td>18.769203</td>\n",
       "      <td>POLYGON ((8.40546 49.69932, 8.68423 49.69932, ...</td>\n",
       "      <td>2018-03-07 17:15:58</td>\n",
       "      <td>A</td>\n",
       "      <td>ASC</td>\n",
       "    </tr>\n",
       "    <tr>\n",
       "      <th>2</th>\n",
       "      <td>0</td>\n",
       "      <td>-5.851404</td>\n",
       "      <td>-3.362746</td>\n",
       "      <td>20.232563</td>\n",
       "      <td>POLYGON ((8.40546 49.69932, 8.68423 49.69932, ...</td>\n",
       "      <td>2018-03-11 05:34:20</td>\n",
       "      <td>A</td>\n",
       "      <td>DES</td>\n",
       "    </tr>\n",
       "    <tr>\n",
       "      <th>3</th>\n",
       "      <td>0</td>\n",
       "      <td>-8.819704</td>\n",
       "      <td>-4.570282</td>\n",
       "      <td>18.767371</td>\n",
       "      <td>POLYGON ((8.40546 49.69932, 8.68423 49.69932, ...</td>\n",
       "      <td>2018-03-19 17:15:58</td>\n",
       "      <td>A</td>\n",
       "      <td>ASC</td>\n",
       "    </tr>\n",
       "    <tr>\n",
       "      <th>4</th>\n",
       "      <td>0</td>\n",
       "      <td>-6.059996</td>\n",
       "      <td>-3.539010</td>\n",
       "      <td>20.233867</td>\n",
       "      <td>POLYGON ((8.40546 49.69932, 8.68423 49.69932, ...</td>\n",
       "      <td>2018-03-23 05:34:20</td>\n",
       "      <td>A</td>\n",
       "      <td>DES</td>\n",
       "    </tr>\n",
       "    <tr>\n",
       "      <th>...</th>\n",
       "      <td>...</td>\n",
       "      <td>...</td>\n",
       "      <td>...</td>\n",
       "      <td>...</td>\n",
       "      <td>...</td>\n",
       "      <td>...</td>\n",
       "      <td>...</td>\n",
       "      <td>...</td>\n",
       "    </tr>\n",
       "    <tr>\n",
       "      <th>98</th>\n",
       "      <td>0</td>\n",
       "      <td>-5.008574</td>\n",
       "      <td>-2.994571</td>\n",
       "      <td>18.786112</td>\n",
       "      <td>POLYGON ((8.40546 49.69932, 8.68423 49.69932, ...</td>\n",
       "      <td>2018-09-09 17:15:12</td>\n",
       "      <td>B</td>\n",
       "      <td>ASC</td>\n",
       "    </tr>\n",
       "    <tr>\n",
       "      <th>99</th>\n",
       "      <td>0</td>\n",
       "      <td>-9.780297</td>\n",
       "      <td>-5.903948</td>\n",
       "      <td>20.236771</td>\n",
       "      <td>POLYGON ((8.40546 49.69932, 8.68423 49.69932, ...</td>\n",
       "      <td>2018-09-13 05:33:30</td>\n",
       "      <td>B</td>\n",
       "      <td>DES</td>\n",
       "    </tr>\n",
       "    <tr>\n",
       "      <th>100</th>\n",
       "      <td>0</td>\n",
       "      <td>-9.759325</td>\n",
       "      <td>-5.540011</td>\n",
       "      <td>15.930316</td>\n",
       "      <td>POLYGON ((8.40546 49.69932, 8.68423 49.69932, ...</td>\n",
       "      <td>2018-09-18 05:41:36</td>\n",
       "      <td>B</td>\n",
       "      <td>DES</td>\n",
       "    </tr>\n",
       "    <tr>\n",
       "      <th>101</th>\n",
       "      <td>0</td>\n",
       "      <td>-5.030217</td>\n",
       "      <td>-2.888791</td>\n",
       "      <td>18.787740</td>\n",
       "      <td>POLYGON ((8.40546 49.69932, 8.68423 49.69932, ...</td>\n",
       "      <td>2018-09-21 17:15:12</td>\n",
       "      <td>B</td>\n",
       "      <td>ASC</td>\n",
       "    </tr>\n",
       "    <tr>\n",
       "      <th>102</th>\n",
       "      <td>0</td>\n",
       "      <td>-9.624120</td>\n",
       "      <td>-5.652044</td>\n",
       "      <td>20.236558</td>\n",
       "      <td>POLYGON ((8.40546 49.69932, 8.68423 49.69932, ...</td>\n",
       "      <td>2018-09-25 05:33:30</td>\n",
       "      <td>B</td>\n",
       "      <td>DES</td>\n",
       "    </tr>\n",
       "  </tbody>\n",
       "</table>\n",
       "<p>103 rows × 8 columns</p>\n",
       "</div>"
      ],
      "text/plain": [
       "    id        VH        VV      angle  \\\n",
       "0    0 -9.304641 -5.373621  15.930662   \n",
       "1    0 -9.726136 -5.667434  18.769203   \n",
       "2    0 -5.851404 -3.362746  20.232563   \n",
       "3    0 -8.819704 -4.570282  18.767371   \n",
       "4    0 -6.059996 -3.539010  20.233867   \n",
       "..  ..       ...       ...        ...   \n",
       "98   0 -5.008574 -2.994571  18.786112   \n",
       "99   0 -9.780297 -5.903948  20.236771   \n",
       "100  0 -9.759325 -5.540011  15.930316   \n",
       "101  0 -5.030217 -2.888791  18.787740   \n",
       "102  0 -9.624120 -5.652044  20.236558   \n",
       "\n",
       "                                              geometry                date  \\\n",
       "0    POLYGON ((8.40546 49.69932, 8.68423 49.69932, ... 2018-03-04 05:42:17   \n",
       "1    POLYGON ((8.40546 49.69932, 8.68423 49.69932, ... 2018-03-07 17:15:58   \n",
       "2    POLYGON ((8.40546 49.69932, 8.68423 49.69932, ... 2018-03-11 05:34:20   \n",
       "3    POLYGON ((8.40546 49.69932, 8.68423 49.69932, ... 2018-03-19 17:15:58   \n",
       "4    POLYGON ((8.40546 49.69932, 8.68423 49.69932, ... 2018-03-23 05:34:20   \n",
       "..                                                 ...                 ...   \n",
       "98   POLYGON ((8.40546 49.69932, 8.68423 49.69932, ... 2018-09-09 17:15:12   \n",
       "99   POLYGON ((8.40546 49.69932, 8.68423 49.69932, ... 2018-09-13 05:33:30   \n",
       "100  POLYGON ((8.40546 49.69932, 8.68423 49.69932, ... 2018-09-18 05:41:36   \n",
       "101  POLYGON ((8.40546 49.69932, 8.68423 49.69932, ... 2018-09-21 17:15:12   \n",
       "102  POLYGON ((8.40546 49.69932, 8.68423 49.69932, ... 2018-09-25 05:33:30   \n",
       "\n",
       "    sentinel orbit  \n",
       "0          A   DES  \n",
       "1          A   ASC  \n",
       "2          A   DES  \n",
       "3          A   ASC  \n",
       "4          A   DES  \n",
       "..       ...   ...  \n",
       "98         B   ASC  \n",
       "99         B   DES  \n",
       "100        B   DES  \n",
       "101        B   ASC  \n",
       "102        B   DES  \n",
       "\n",
       "[103 rows x 8 columns]"
      ]
     },
     "execution_count": 391,
     "metadata": {},
     "output_type": "execute_result"
    }
   ],
   "source": [
    "gdf"
   ]
  },
  {
   "cell_type": "code",
   "execution_count": null,
   "metadata": {
    "ExecuteTime": {
     "end_time": "2021-11-16T11:54:57.382351Z",
     "start_time": "2021-11-16T11:54:57.367472Z"
    }
   },
   "outputs": [],
   "source": [
    "#create poi for irrigated field at 2020-04-26\n",
    "from shapely.geometry import Point\n",
    "poi = Point(8.462525010108948, 49.84003060414562)"
   ]
  },
  {
   "cell_type": "code",
   "execution_count": null,
   "metadata": {
    "ExecuteTime": {
     "end_time": "2021-11-16T12:30:04.627710Z",
     "start_time": "2021-11-16T12:30:04.595387Z"
    }
   },
   "outputs": [],
   "source": [
    "# isolate field within point\n",
    "field01 = gdf[gdf.contains(poi)]\n",
    "field01"
   ]
  },
  {
   "cell_type": "code",
   "execution_count": null,
   "metadata": {
    "ExecuteTime": {
     "end_time": "2021-11-16T12:23:01.066699Z",
     "start_time": "2021-11-16T12:23:00.160179Z"
    }
   },
   "outputs": [],
   "source": [
    "import holoviews as hv\n",
    "from holoviews import opts\n",
    "hv.extension('bokeh')"
   ]
  },
  {
   "cell_type": "code",
   "execution_count": 3,
   "metadata": {
    "ExecuteTime": {
     "end_time": "2021-11-19T08:17:44.883703Z",
     "start_time": "2021-11-19T08:17:43.426967Z"
    }
   },
   "outputs": [],
   "source": [
    "# Import the Folium library.\n",
    "import folium\n",
    "\n",
    "# Define a method for displaying Earth Engine image tiles to folium map.\n",
    "def add_ee_layer(self, ee_image_object, vis_params, name):\n",
    "  map_id_dict = ee.Image(ee_image_object).getMapId(vis_params)\n",
    "  folium.raster_layers.TileLayer(\n",
    "    tiles = map_id_dict['tile_fetcher'].url_format,\n",
    "    attr = 'Map Data &copy; <a href=\"https://earthengine.google.com/\">Google Earth Engine</a>',\n",
    "    name = name,\n",
    "    overlay = True,\n",
    "    control = True\n",
    "  ).add_to(self)\n",
    "\n",
    "# Add EE drawing method to folium.\n",
    "folium.Map.add_ee_layer = add_ee_layer"
   ]
  },
  {
   "cell_type": "code",
   "execution_count": null,
   "metadata": {
    "ExecuteTime": {
     "end_time": "2021-11-16T12:54:35.073575Z",
     "start_time": "2021-11-16T12:54:34.836312Z"
    }
   },
   "outputs": [],
   "source": [
    "import hvplot\n",
    "import hvplot.pandas"
   ]
  },
  {
   "cell_type": "code",
   "execution_count": null,
   "metadata": {
    "ExecuteTime": {
     "end_time": "2021-11-16T13:07:13.864247Z",
     "start_time": "2021-11-16T13:07:02.408596Z"
    }
   },
   "outputs": [],
   "source": [
    "field01.hvplot(kind='scatter', x='date.day', y='VV', by='sentinel', xticks=30)"
   ]
  },
  {
   "cell_type": "code",
   "execution_count": null,
   "metadata": {
    "ExecuteTime": {
     "end_time": "2021-11-16T11:54:58.432620Z",
     "start_time": "2021-11-16T11:54:58.382491Z"
    }
   },
   "outputs": [],
   "source": [
    "# Create imagecollection by mapping reduceToImage function over FeatureCollection\n",
    "s1_grd_rr_IC = ee.ImageCollection(s1_grd_rr.map(lambda x: ee.FeatureCollection(x).filter(ee.Filter.notNull(['VV'])).reduceToImage(properties=['VV'], reducer=ee.Reducer.first()).unmask(0).reproject('epsg:4326',None,10).clip(geojsonFc.geometry())))"
   ]
  },
  {
   "cell_type": "code",
   "execution_count": null,
   "metadata": {
    "ExecuteTime": {
     "end_time": "2021-11-15T18:43:43.928318Z",
     "start_time": "2021-11-15T18:43:43.120468Z"
    }
   },
   "outputs": [],
   "source": [
    "url = s1_grd_rr_IC.first().select('first').getThumbURL({'min': -20, 'max': 1})\n",
    "disp.Image(url=url, width=800)"
   ]
  },
  {
   "cell_type": "code",
   "execution_count": null,
   "metadata": {
    "ExecuteTime": {
     "end_time": "2021-11-13T19:29:11.216966Z",
     "start_time": "2021-11-13T19:29:11.201573Z"
    }
   },
   "outputs": [],
   "source": [
    "ffa_db = ee.Image(ee.ImageCollection('COPERNICUS/S1_GRD') \n",
    "                       .filterBounds(aoi) \n",
    "                       .filterDate(ee.Date('2020-04-20'), ee.Date('2020-04-30')) \n",
    "                       .first() \n",
    "                       .clip(aoi))\n",
    "ffa_fl = ee.Image(ee.ImageCollection('COPERNICUS/S1_GRD_FLOAT') \n",
    "                       .filterBounds(aoi) \n",
    "                       .filterDate(ee.Date('2020-04-20'), ee.Date('2020-04-30')) \n",
    "                       .first() \n",
    "                       .clip(aoi))"
   ]
  },
  {
   "cell_type": "code",
   "execution_count": null,
   "metadata": {
    "ExecuteTime": {
     "end_time": "2021-11-15T20:57:02.726128Z",
     "start_time": "2021-11-15T20:57:01.853703Z"
    }
   },
   "outputs": [],
   "source": [
    "s1_grd_rr_IC.first().getInfo()"
   ]
  },
  {
   "cell_type": "code",
   "execution_count": null,
   "metadata": {
    "ExecuteTime": {
     "end_time": "2021-11-15T20:56:15.440066Z",
     "start_time": "2021-11-15T20:56:14.747464Z"
    }
   },
   "outputs": [],
   "source": [
    "#location = aoi.centroid().coordinates().getInfo()[::-1]\n",
    "\n",
    "# Make an RGB color composite image (VV,VH,VV/VH).\n",
    "#rgb = ee.Image.rgb(ffa_db.select('VV'),\n",
    "#                   ffa_db.select('VH'),\n",
    "#                   ffa_db.select('VV').divide(ffa_db.select('VH')))\n",
    "test = s1_grd_rr_IC.first()\n",
    "# Create the map object.\n",
    "m = folium.Map(location=['49.983461596534646','8.471317291259766'], zoom_start=15)\n",
    "\n",
    "# Add the S1 rgb composite to the map object.\n",
    "m.add_ee_layer(test, {'min': [-20], 'max': [1]}, 'FFA')\n",
    "\n",
    "# Add a layer control panel to the map.\n",
    "m.add_child(folium.LayerControl())\n",
    "\n",
    "# Display the map.\n",
    "display(m)\n"
   ]
  },
  {
   "cell_type": "code",
   "execution_count": null,
   "metadata": {
    "ExecuteTime": {
     "end_time": "2021-11-03T09:18:48.424697Z",
     "start_time": "2021-11-03T09:18:48.409040Z"
    }
   },
   "outputs": [],
   "source": [
    "geoJSON = {\n",
    "  \"type\": \"FeatureCollection\",\n",
    "  \"features\": [\n",
    "    {\n",
    "      \"type\": \"Feature\",\n",
    "      \"properties\": {},\n",
    "      \"geometry\": {\n",
    "        \"type\": \"Polygon\",\n",
    "        \"coordinates\": [\n",
    "          [\n",
    "            [\n",
    "              8.471317291259766,\n",
    "              49.983461596534646\n",
    "            ],\n",
    "            [\n",
    "              8.481616973876953,\n",
    "              49.94867940605311\n",
    "            ],\n",
    "            [\n",
    "              8.498611450195312,\n",
    "              49.946249234682774\n",
    "            ],\n",
    "            [\n",
    "              8.529338836669922,\n",
    "              49.951882626433914\n",
    "            ],\n",
    "            [\n",
    "              8.54710578918457,\n",
    "              49.966239272192034\n",
    "            ],\n",
    "            [\n",
    "              8.471317291259766,\n",
    "              49.983461596534646\n",
    "            ]\n",
    "          ]\n",
    "        ]\n",
    "      }\n",
    "    }\n",
    "  ]\n",
    "}\n",
    "coords = geoJSON['features'][0]['geometry']['coordinates']\n",
    "aoi_sub = ee.Geometry.Polygon(coords)\n"
   ]
  },
  {
   "cell_type": "code",
   "execution_count": null,
   "metadata": {
    "ExecuteTime": {
     "end_time": "2021-11-03T09:18:51.010251Z",
     "start_time": "2021-11-03T09:18:49.829476Z"
    }
   },
   "outputs": [],
   "source": [
    "hist = ffa_fl.select('VV').reduceRegion(\n",
    "    ee.Reducer.fixedHistogram(0, 0.5, 500),aoi_sub).get('VV').getInfo()\n",
    "mean = ffa_fl.select('VV').reduceRegion(\n",
    "    ee.Reducer.mean(), aoi_sub).get('VV').getInfo()\n",
    "variance = ffa_fl.select('VV').reduceRegion(\n",
    "    ee.Reducer.variance(), aoi_sub).get('VV').getInfo()\n"
   ]
  },
  {
   "cell_type": "code",
   "execution_count": null,
   "metadata": {
    "ExecuteTime": {
     "end_time": "2021-11-03T09:18:51.401998Z",
     "start_time": "2021-11-03T09:18:51.286362Z"
    }
   },
   "outputs": [],
   "source": [
    "a = np.array(hist)\n",
    "x = a[:, 0]                 # array of bucket edge positions\n",
    "y = a[:, 1]/np.sum(a[:, 1]) # normalized array of bucket contents\n",
    "plt.grid()\n",
    "plt.plot(x, y, '.')\n",
    "plt.show()\n"
   ]
  },
  {
   "cell_type": "code",
   "execution_count": null,
   "metadata": {
    "ExecuteTime": {
     "end_time": "2021-11-03T09:19:09.755110Z",
     "start_time": "2021-11-03T09:19:09.631181Z"
    }
   },
   "outputs": [],
   "source": [
    "alpha = 5\n",
    "beta = mean/alpha\n",
    "plt.grid()\n",
    "plt.plot(x, y, '.', label='data')\n",
    "plt.plot(x, gamma.pdf(x, alpha, 0, beta)/1000, '-r', label='gamma')\n",
    "plt.legend()\n",
    "plt.show()\n"
   ]
  },
  {
   "cell_type": "code",
   "execution_count": null,
   "metadata": {
    "ExecuteTime": {
     "end_time": "2021-11-03T09:19:28.649579Z",
     "start_time": "2021-11-03T09:19:26.646303Z"
    }
   },
   "outputs": [],
   "source": [
    "def X(n):\n",
    "    return np.sum(np.cos(4*np.pi*(np.random.rand(n)-0.5)))/np.sqrt(n/2)\n",
    "\n",
    "n= 10000\n",
    "Xs = [X(n) for i in range(10000)]\n",
    "y, x = np.histogram(Xs, 100, range=[-5,5])\n",
    "plt.plot(x[:-1], y/1000, 'b.', label='simulated data')\n",
    "plt.plot(x, norm.pdf(x), '-r', label='normal distribution')\n",
    "plt.grid()\n",
    "plt.legend()\n",
    "plt.show()\n"
   ]
  },
  {
   "cell_type": "code",
   "execution_count": null,
   "metadata": {
    "ExecuteTime": {
     "end_time": "2021-11-03T09:21:43.618823Z",
     "start_time": "2021-11-03T09:21:43.606820Z"
    }
   },
   "outputs": [],
   "source": [
    "im_coll = (ee.ImageCollection('COPERNICUS/S1_GRD_FLOAT')\n",
    "                .filterBounds(aoi)\n",
    "                .filterDate(ee.Date('2020-08-01'),ee.Date('2020-08-31'))\n",
    "                .filter(ee.Filter.eq('orbitProperties_pass', 'ASCENDING'))\n",
    "                .filter(ee.Filter.eq('relativeOrbitNumber_start', 15))\n",
    "                .sort('system:time_start'))\n"
   ]
  },
  {
   "cell_type": "code",
   "execution_count": null,
   "metadata": {
    "ExecuteTime": {
     "end_time": "2021-11-03T09:21:45.248951Z",
     "start_time": "2021-11-03T09:21:44.997370Z"
    }
   },
   "outputs": [],
   "source": [
    "import time\n",
    "acq_times = im_coll.aggregate_array('system:time_start').getInfo()\n",
    "[time.strftime('%x', time.gmtime(acq_time/1000)) for acq_time in acq_times]\n"
   ]
  },
  {
   "cell_type": "code",
   "execution_count": null,
   "metadata": {
    "ExecuteTime": {
     "end_time": "2021-11-03T09:22:30.173208Z",
     "start_time": "2021-11-03T09:22:30.157205Z"
    }
   },
   "outputs": [],
   "source": [
    "im_list = im_coll.toList(im_coll.size())\n",
    "im1 = ee.Image(im_list.get(2)).select('VV').clip(aoi_sub)\n",
    "im2 = ee.Image(im_list.get(5)).select('VV').clip(aoi_sub)"
   ]
  },
  {
   "cell_type": "code",
   "execution_count": null,
   "metadata": {
    "ExecuteTime": {
     "end_time": "2021-11-03T09:22:31.647405Z",
     "start_time": "2021-11-03T09:22:31.231178Z"
    }
   },
   "outputs": [],
   "source": [
    "ratio = im1.divide(im2)\n",
    "url = ratio.getThumbURL({'min': 0, 'max': 10})\n",
    "disp.Image(url=url, width=800)"
   ]
  },
  {
   "cell_type": "code",
   "execution_count": null,
   "metadata": {
    "ExecuteTime": {
     "end_time": "2021-11-03T09:22:36.489228Z",
     "start_time": "2021-11-03T09:22:34.935176Z"
    }
   },
   "outputs": [],
   "source": [
    "hist = ratio.reduceRegion(ee.Reducer.fixedHistogram(0, 5, 500), aoi_sub).get('VV').getInfo()\n",
    "mean = ratio.reduceRegion(ee.Reducer.mean(), aoi_sub).get('VV').getInfo()\n",
    "variance = ratio.reduceRegion(ee.Reducer.variance(), aoi_sub).get('VV').getInfo()\n"
   ]
  },
  {
   "cell_type": "code",
   "execution_count": null,
   "metadata": {
    "ExecuteTime": {
     "end_time": "2021-11-03T09:23:15.023386Z",
     "start_time": "2021-11-03T09:23:13.978313Z"
    }
   },
   "outputs": [],
   "source": [
    "im1 = ee.Image(im_list.get(2)).select('VV').clip(aoi)\n",
    "im2 = ee.Image(im_list.get(5)).select('VV').clip(aoi)\n",
    "ratio = im1.divide(im2)\n",
    "\n",
    "location = aoi.centroid().coordinates().getInfo()[::-1]\n",
    "mp = folium.Map(location=location, zoom_start=12)\n",
    "mp.add_ee_layer(ratio,\n",
    "                {'min': 0, 'max': 20, 'palette': ['black', 'white']}, 'Ratio')\n",
    "mp.add_child(folium.LayerControl())\n",
    "\n",
    "display(mp)\n"
   ]
  },
  {
   "cell_type": "code",
   "execution_count": null,
   "metadata": {
    "ExecuteTime": {
     "end_time": "2021-11-03T09:23:49.427222Z",
     "start_time": "2021-11-03T09:23:49.399128Z"
    }
   },
   "outputs": [],
   "source": [
    "# Decision threshold alpha/2:\n",
    "dt = f.ppf(0.0005, 2*m, 2*m)\n",
    "\n",
    "# LRT statistics.\n",
    "q1 = im1.divide(im2)\n",
    "q2 = im2.divide(im1)\n",
    "\n",
    "# Change map with 0 = no change, 1 = decrease, 2 = increase in intensity.\n",
    "c_map = im1.multiply(0).where(q2.lt(dt), 1)\n",
    "c_map = c_map.where(q1.lt(dt), 2)\n",
    "\n",
    "# Mask no-change pixels.\n",
    "c_map = c_map.updateMask(c_map.gt(0))\n",
    "\n",
    "# Display map with red for increase and blue for decrease in intensity.\n",
    "location = aoi.centroid().coordinates().getInfo()[::-1]\n",
    "mp = folium.Map(\n",
    "    location=location, tiles='Stamen Toner',\n",
    "    zoom_start=13)\n",
    "folium.TileLayer('OpenStreetMap').add_to(mp)\n",
    "mp.add_ee_layer(ratio,\n",
    "                {'min': 0, 'max': 20, 'palette': ['black', 'white']}, 'Ratio')\n",
    "mp.add_ee_layer(c_map,\n",
    "                {'min': 0, 'max': 2, 'palette': ['black', 'blue', 'red']},\n",
    "                'Change Map')\n",
    "mp.add_child(folium.LayerControl())\n",
    "\n",
    "display(mp)\n"
   ]
  }
 ],
 "metadata": {
  "kernelspec": {
   "display_name": "Python [conda env:irrigation_detection]",
   "language": "python",
   "name": "conda-env-irrigation_detection-py"
  },
  "language_info": {
   "codemirror_mode": {
    "name": "ipython",
    "version": 3
   },
   "file_extension": ".py",
   "mimetype": "text/x-python",
   "name": "python",
   "nbconvert_exporter": "python",
   "pygments_lexer": "ipython3",
   "version": "3.9.7"
  },
  "toc": {
   "base_numbering": 1,
   "nav_menu": {},
   "number_sections": true,
   "sideBar": true,
   "skip_h1_title": false,
   "title_cell": "Table of Contents",
   "title_sidebar": "Contents",
   "toc_cell": false,
   "toc_position": {},
   "toc_section_display": true,
   "toc_window_display": false
  },
  "varInspector": {
   "cols": {
    "lenName": 16,
    "lenType": 16,
    "lenVar": 40
   },
   "kernels_config": {
    "python": {
     "delete_cmd_postfix": "",
     "delete_cmd_prefix": "del ",
     "library": "var_list.py",
     "varRefreshCmd": "print(var_dic_list())"
    },
    "r": {
     "delete_cmd_postfix": ") ",
     "delete_cmd_prefix": "rm(",
     "library": "var_list.r",
     "varRefreshCmd": "cat(var_dic_list()) "
    }
   },
   "position": {
    "height": "526.85px",
    "left": "1774px",
    "right": "20px",
    "top": "120px",
    "width": "350px"
   },
   "types_to_exclude": [
    "module",
    "function",
    "builtin_function_or_method",
    "instance",
    "_Feature"
   ],
   "window_display": true
  }
 },
 "nbformat": 4,
 "nbformat_minor": 2
}
