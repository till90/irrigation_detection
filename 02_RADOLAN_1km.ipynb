{
 "cells": [
  {
   "cell_type": "markdown",
   "metadata": {},
   "source": [
    "Radolan Specs\n",
    "NODATA_value -1\n",
    "Unit 1/10 mm"
   ]
  },
  {
   "cell_type": "markdown",
   "metadata": {},
   "source": [
    "Radolan right after load:\n",
    "    min: 0 max: 4095\n",
    "    nan occurence:  False\n",
    "Radolan after Subsetting and convert digital to physical values:\n",
    "    min:0.0 max: 123.5\n",
    "    nan occurence:  True"
   ]
  },
  {
   "cell_type": "code",
   "execution_count": null,
   "metadata": {
    "ExecuteTime": {
     "end_time": "2021-10-30T20:28:16.052863Z",
     "start_time": "2021-10-30T20:28:16.040896Z"
    }
   },
   "outputs": [],
   "source": [
    "from irrigation_detection import download_radolan_SF\n",
    "from irrigation_detection import unpack_radolan_SF\n",
    "from irrigation_detection import open_radolan_SF\n",
    "from irrigation_detection import subset_ds\n",
    "from irrigation_detection import export_values"
   ]
  },
  {
   "cell_type": "code",
   "execution_count": null,
   "metadata": {
    "ExecuteTime": {
     "end_time": "2021-10-15T19:37:05.200461Z",
     "start_time": "2021-10-15T18:44:48.034856Z"
    }
   },
   "outputs": [],
   "source": [
    "# Download Radolan SF Products from https://opendata.dwd.de/. Arguments must be (startyear, stopyear, local download folder).\n",
    "download_radolan_SF(2015, 2021, 'D://radolanSF_download/')"
   ]
  },
  {
   "cell_type": "code",
   "execution_count": null,
   "metadata": {
    "ExecuteTime": {
     "end_time": "2021-10-17T10:11:16.185539Z",
     "start_time": "2021-10-17T09:55:15.165510Z"
    }
   },
   "outputs": [],
   "source": [
    "# Exctract files from archive.\n",
    "unpack_radolan_SF('D://radolanSF_download')"
   ]
  },
  {
   "cell_type": "code",
   "execution_count": null,
   "metadata": {
    "ExecuteTime": {
     "end_time": "2021-10-30T20:27:55.455522Z",
     "start_time": "2021-10-30T20:27:51.600036Z"
    }
   },
   "outputs": [],
   "source": [
    "# Read radolan files into an xarray dataset.\n",
    "radolan_SF = open_radolan_SF('D://radolanSF_download/*2350-dwd---bin.gz')"
   ]
  },
  {
   "cell_type": "code",
   "execution_count": null,
   "metadata": {
    "ExecuteTime": {
     "end_time": "2021-10-28T07:10:47.547205Z",
     "start_time": "2021-10-28T07:10:47.222940Z"
    }
   },
   "outputs": [],
   "source": [
    "# Subset dataset\n",
    "radolan_SF_subset = subset_ds(r'C:\\Users\\USER\\Desktop\\Master_Irrigation\\03_GIS\\oberrheingraben_shp\\oberrheingraben-polygon.shp', radolan_SF)"
   ]
  },
  {
   "cell_type": "code",
   "execution_count": null,
   "metadata": {
    "ExecuteTime": {
     "end_time": "2021-10-28T07:11:19.128585Z",
     "start_time": "2021-10-28T07:11:19.103813Z"
    }
   },
   "outputs": [],
   "source": [
    "# Apply conversation of digital units to physical units.\n",
    "radolan_SF_subset['SF'] = radolan_SF_subset['SF'] * 0.1"
   ]
  },
  {
   "cell_type": "code",
   "execution_count": null,
   "metadata": {
    "ExecuteTime": {
     "end_time": "2021-10-28T07:13:59.615299Z",
     "start_time": "2021-10-28T07:13:40.032552Z"
    }
   },
   "outputs": [],
   "source": [
    "# Export xr as .nc file \n",
    "radolan_SF_subset.to_netcdf(r'C:\\Users\\USER\\Desktop\\Master_Irrigation\\03_GIS\\datasets\\RADOLAN_1km.nc')"
   ]
  },
  {
   "cell_type": "code",
   "execution_count": null,
   "metadata": {},
   "outputs": [],
   "source": [
    "# ROI Data\n",
    "from irrigation_detectionigation_detectionigation_detectionrigation_detectionrigation_detectionrigation_detectionrigation_detection import \n",
    "radolan_SF_subset = subset_ds(r'C:\\Users\\USER\\Desktop\\Master_Irrigation\\03_GIS\\oberrheingraben_shp\\oberrheingraben-polygon.shp', radolan_SF)"
   ]
  },
  {
   "cell_type": "code",
   "execution_count": null,
   "metadata": {
    "ExecuteTime": {
     "end_time": "2021-12-12T13:01:01.493827Z",
     "start_time": "2021-12-12T13:00:58.753068Z"
    }
   },
   "outputs": [],
   "source": [
    "import xarray as xr\n",
    "import hvplot.xarray\n",
    "radolan = xr.open_dataset(r'C:\\Users\\USER\\Desktop\\Master_Irrigation\\03_GIS\\datasets\\RADOLAN_1km.nc')"
   ]
  },
  {
   "cell_type": "code",
   "execution_count": null,
   "metadata": {
    "ExecuteTime": {
     "end_time": "2021-12-12T13:38:21.750878Z",
     "start_time": "2021-12-12T13:37:44.988541Z"
    }
   },
   "outputs": [],
   "source": [
    "rain_per_year = radolan.SF.groupby(\"time.year\").sum()\n",
    "p1 = rain_per_year.hvplot.quadmesh(groupby='year',clim=(0,800),cmap='gist_rainbow', crs='WGS84',frame_height=540, projection='PlateCarree',project=True, geo=True, rasterize=True, dynamic=False)\n",
    "p1"
   ]
  },
  {
   "cell_type": "code",
   "execution_count": null,
   "metadata": {
    "ExecuteTime": {
     "end_time": "2021-10-20T18:45:08.571635Z",
     "start_time": "2021-10-20T18:45:08.567635Z"
    }
   },
   "outputs": [],
   "source": [
    "def xr_var_stats(da):\n",
    "    \"\"\"\n",
    "    Arguments:\n",
    "    \"\"\"\n",
    "    \n",
    "    import xarray as xr\n",
    "    import numpy as np\n",
    "\n",
    "    #get unique values\n",
    "    unique_values = np.unique(da)\n",
    "    \n",
    "    #Print min,max, nan occurence, \n",
    "    print('min: %s' %unique_values.min(), 'max: %s' %unique_values.max())\n",
    "    if True in np.isnan(unique_values):\n",
    "        print('nan occurence:  True')\n",
    "    else:\n",
    "        print('nan occurence:  False')\n",
    "    \n",
    "    return print('stats finished')"
   ]
  },
  {
   "cell_type": "code",
   "execution_count": null,
   "metadata": {
    "ExecuteTime": {
     "end_time": "2021-12-12T13:38:42.633309Z",
     "start_time": "2021-12-12T13:38:42.221309Z"
    }
   },
   "outputs": [],
   "source": [
    "xr.plot.hist(radolan_SF_subset.SF.isel(time=1), bins=20, range=(0.1,40), edgecolor='black')"
   ]
  },
  {
   "cell_type": "code",
   "execution_count": null,
   "metadata": {
    "ExecuteTime": {
     "end_time": "2021-10-18T11:47:14.184108Z",
     "start_time": "2021-10-18T11:46:55.903884Z"
    }
   },
   "outputs": [],
   "source": [
    "export_values(latitude=49.85083645182146, longitude=8.463941352976518, ds=radolan_SF_subset, name='point_1_SF.csv')"
   ]
  },
  {
   "cell_type": "code",
   "execution_count": null,
   "metadata": {},
   "outputs": [],
   "source": [
    "#Visualisations with http://christopherbull.com.au/mkmov/ command line tool"
   ]
  },
  {
   "cell_type": "code",
   "execution_count": null,
   "metadata": {
    "ExecuteTime": {
     "end_time": "2021-10-20T19:16:00.317446Z",
     "start_time": "2021-10-20T19:15:41.200638Z"
    }
   },
   "outputs": [],
   "source": [
    "radolan_SF_subset = radolan_SF_subset.load()"
   ]
  },
  {
   "cell_type": "code",
   "execution_count": null,
   "metadata": {
    "ExecuteTime": {
     "end_time": "2021-10-20T19:16:00.365259Z",
     "start_time": "2021-10-20T19:16:00.337406Z"
    }
   },
   "outputs": [],
   "source": [
    "radolan_SF_subset"
   ]
  },
  {
   "cell_type": "code",
   "execution_count": null,
   "metadata": {
    "ExecuteTime": {
     "end_time": "2021-10-20T19:27:27.129898Z",
     "start_time": "2021-10-20T19:27:02.600454Z"
    }
   },
   "outputs": [],
   "source": [
    "hvplot.save(radolan_SF_subset.isel(time=slice(0,10)).hvplot.quadmesh(crs='WGS84',frame_height=540, projection='PlateCarree',project=True, geo=True, rasterize=True, dynamic=False), \"test2.html\")"
   ]
  }
 ],
 "metadata": {
  "kernelspec": {
   "display_name": "Python [conda env:irrigation_detection]",
   "language": "python",
   "name": "conda-env-irrigation_detection-py"
  },
  "language_info": {
   "codemirror_mode": {
    "name": "ipython",
    "version": 3
   },
   "file_extension": ".py",
   "mimetype": "text/x-python",
   "name": "python",
   "nbconvert_exporter": "python",
   "pygments_lexer": "ipython3",
   "version": "3.9.7"
  },
  "toc": {
   "base_numbering": 1,
   "nav_menu": {},
   "number_sections": true,
   "sideBar": true,
   "skip_h1_title": false,
   "title_cell": "Table of Contents",
   "title_sidebar": "Contents",
   "toc_cell": false,
   "toc_position": {},
   "toc_section_display": true,
   "toc_window_display": false
  },
  "varInspector": {
   "cols": {
    "lenName": 16,
    "lenType": 16,
    "lenVar": 40
   },
   "kernels_config": {
    "python": {
     "delete_cmd_postfix": "",
     "delete_cmd_prefix": "del ",
     "library": "var_list.py",
     "varRefreshCmd": "print(var_dic_list())"
    },
    "r": {
     "delete_cmd_postfix": ") ",
     "delete_cmd_prefix": "rm(",
     "library": "var_list.r",
     "varRefreshCmd": "cat(var_dic_list()) "
    }
   },
   "types_to_exclude": [
    "module",
    "function",
    "builtin_function_or_method",
    "instance",
    "_Feature"
   ],
   "window_display": false
  }
 },
 "nbformat": 4,
 "nbformat_minor": 2
}
