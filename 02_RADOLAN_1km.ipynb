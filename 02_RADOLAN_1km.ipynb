{
 "cells": [
  {
   "cell_type": "markdown",
   "metadata": {},
   "source": [
    "Radolan Specs\n",
    "NODATA_value -1\n",
    "Unit 1/10 mm"
   ]
  },
  {
   "cell_type": "markdown",
   "metadata": {},
   "source": [
    "Radolan right after load:\n",
    "    min: 0 max: 4095\n",
    "    nan occurence:  False\n",
    "Radolan after Subsetting and convert digital to physical values:\n",
    "    min:0.0 max: 123.5\n",
    "    nan occurence:  True"
   ]
  },
  {
   "cell_type": "code",
   "execution_count": 3,
   "metadata": {
    "ExecuteTime": {
     "end_time": "2021-10-30T20:28:16.052863Z",
     "start_time": "2021-10-30T20:28:16.040896Z"
    }
   },
   "outputs": [],
   "source": [
    "from irrigation_detection import download_radolan_SF\n",
    "from irrigation_detection import unpack_radolan_SF\n",
    "from irrigation_detection import open_radolan_SF\n",
    "from irrigation_detection import subset_ds\n",
    "from irrigation_detection import export_values"
   ]
  },
  {
   "cell_type": "code",
   "execution_count": null,
   "metadata": {
    "ExecuteTime": {
     "end_time": "2021-10-15T19:37:05.200461Z",
     "start_time": "2021-10-15T18:44:48.034856Z"
    }
   },
   "outputs": [],
   "source": [
    "# Download Radolan SF Products from https://opendata.dwd.de/. Arguments must be (startyear, stopyear, local download folder).\n",
    "download_radolan_SF(2015, 2021, 'D://radolanSF_download/')"
   ]
  },
  {
   "cell_type": "code",
   "execution_count": null,
   "metadata": {
    "ExecuteTime": {
     "end_time": "2021-10-17T10:11:16.185539Z",
     "start_time": "2021-10-17T09:55:15.165510Z"
    }
   },
   "outputs": [],
   "source": [
    "# Exctract files from archive.\n",
    "unpack_radolan_SF('D://radolanSF_download')"
   ]
  },
  {
   "cell_type": "code",
   "execution_count": null,
   "metadata": {
    "ExecuteTime": {
     "end_time": "2021-10-30T20:27:55.455522Z",
     "start_time": "2021-10-30T20:27:51.600036Z"
    }
   },
   "outputs": [],
   "source": [
    "# Read radolan files into an xarray dataset.\n",
    "radolan_SF = open_radolan_SF('D://radolanSF_download/*2350-dwd---bin.gz')"
   ]
  },
  {
   "cell_type": "code",
   "execution_count": null,
   "metadata": {
    "ExecuteTime": {
     "end_time": "2021-10-28T07:10:47.547205Z",
     "start_time": "2021-10-28T07:10:47.222940Z"
    }
   },
   "outputs": [],
   "source": [
    "# Subset dataset\n",
    "radolan_SF_subset = subset_ds(r'C:\\Users\\USER\\Desktop\\Master_Irrigation\\03_GIS\\oberrheingraben_shp\\oberrheingraben-polygon.shp', radolan_SF)"
   ]
  },
  {
   "cell_type": "code",
   "execution_count": null,
   "metadata": {
    "ExecuteTime": {
     "end_time": "2021-10-28T07:11:19.128585Z",
     "start_time": "2021-10-28T07:11:19.103813Z"
    }
   },
   "outputs": [],
   "source": [
    "# Apply conversation of digital units to physical units.\n",
    "radolan_SF_subset['SF'] = radolan_SF_subset['SF'] * 0.1"
   ]
  },
  {
   "cell_type": "code",
   "execution_count": null,
   "metadata": {
    "ExecuteTime": {
     "end_time": "2021-10-28T07:13:59.615299Z",
     "start_time": "2021-10-28T07:13:40.032552Z"
    }
   },
   "outputs": [],
   "source": [
    "# Export xr as .nc file \n",
    "radolan_SF_subset.to_netcdf(r'C:\\Users\\USER\\Desktop\\Master_Irrigation\\03_GIS\\datasets\\RADOLAN_1km.nc')"
   ]
  },
  {
   "cell_type": "code",
   "execution_count": 8,
   "metadata": {
    "ExecuteTime": {
     "end_time": "2021-10-30T20:40:08.362058Z",
     "start_time": "2021-10-30T20:40:08.327843Z"
    }
   },
   "outputs": [
    {
     "data": {
      "text/html": [
       "<div><svg style=\"position: absolute; width: 0; height: 0; overflow: hidden\">\n",
       "<defs>\n",
       "<symbol id=\"icon-database\" viewBox=\"0 0 32 32\">\n",
       "<path d=\"M16 0c-8.837 0-16 2.239-16 5v4c0 2.761 7.163 5 16 5s16-2.239 16-5v-4c0-2.761-7.163-5-16-5z\"></path>\n",
       "<path d=\"M16 17c-8.837 0-16-2.239-16-5v6c0 2.761 7.163 5 16 5s16-2.239 16-5v-6c0 2.761-7.163 5-16 5z\"></path>\n",
       "<path d=\"M16 26c-8.837 0-16-2.239-16-5v6c0 2.761 7.163 5 16 5s16-2.239 16-5v-6c0 2.761-7.163 5-16 5z\"></path>\n",
       "</symbol>\n",
       "<symbol id=\"icon-file-text2\" viewBox=\"0 0 32 32\">\n",
       "<path d=\"M28.681 7.159c-0.694-0.947-1.662-2.053-2.724-3.116s-2.169-2.030-3.116-2.724c-1.612-1.182-2.393-1.319-2.841-1.319h-15.5c-1.378 0-2.5 1.121-2.5 2.5v27c0 1.378 1.122 2.5 2.5 2.5h23c1.378 0 2.5-1.122 2.5-2.5v-19.5c0-0.448-0.137-1.23-1.319-2.841zM24.543 5.457c0.959 0.959 1.712 1.825 2.268 2.543h-4.811v-4.811c0.718 0.556 1.584 1.309 2.543 2.268zM28 29.5c0 0.271-0.229 0.5-0.5 0.5h-23c-0.271 0-0.5-0.229-0.5-0.5v-27c0-0.271 0.229-0.5 0.5-0.5 0 0 15.499-0 15.5 0v7c0 0.552 0.448 1 1 1h7v19.5z\"></path>\n",
       "<path d=\"M23 26h-14c-0.552 0-1-0.448-1-1s0.448-1 1-1h14c0.552 0 1 0.448 1 1s-0.448 1-1 1z\"></path>\n",
       "<path d=\"M23 22h-14c-0.552 0-1-0.448-1-1s0.448-1 1-1h14c0.552 0 1 0.448 1 1s-0.448 1-1 1z\"></path>\n",
       "<path d=\"M23 18h-14c-0.552 0-1-0.448-1-1s0.448-1 1-1h14c0.552 0 1 0.448 1 1s-0.448 1-1 1z\"></path>\n",
       "</symbol>\n",
       "</defs>\n",
       "</svg>\n",
       "<style>/* CSS stylesheet for displaying xarray objects in jupyterlab.\n",
       " *\n",
       " */\n",
       "\n",
       ":root {\n",
       "  --xr-font-color0: var(--jp-content-font-color0, rgba(0, 0, 0, 1));\n",
       "  --xr-font-color2: var(--jp-content-font-color2, rgba(0, 0, 0, 0.54));\n",
       "  --xr-font-color3: var(--jp-content-font-color3, rgba(0, 0, 0, 0.38));\n",
       "  --xr-border-color: var(--jp-border-color2, #e0e0e0);\n",
       "  --xr-disabled-color: var(--jp-layout-color3, #bdbdbd);\n",
       "  --xr-background-color: var(--jp-layout-color0, white);\n",
       "  --xr-background-color-row-even: var(--jp-layout-color1, white);\n",
       "  --xr-background-color-row-odd: var(--jp-layout-color2, #eeeeee);\n",
       "}\n",
       "\n",
       "html[theme=dark],\n",
       "body.vscode-dark {\n",
       "  --xr-font-color0: rgba(255, 255, 255, 1);\n",
       "  --xr-font-color2: rgba(255, 255, 255, 0.54);\n",
       "  --xr-font-color3: rgba(255, 255, 255, 0.38);\n",
       "  --xr-border-color: #1F1F1F;\n",
       "  --xr-disabled-color: #515151;\n",
       "  --xr-background-color: #111111;\n",
       "  --xr-background-color-row-even: #111111;\n",
       "  --xr-background-color-row-odd: #313131;\n",
       "}\n",
       "\n",
       ".xr-wrap {\n",
       "  display: block;\n",
       "  min-width: 300px;\n",
       "  max-width: 700px;\n",
       "}\n",
       "\n",
       ".xr-text-repr-fallback {\n",
       "  /* fallback to plain text repr when CSS is not injected (untrusted notebook) */\n",
       "  display: none;\n",
       "}\n",
       "\n",
       ".xr-header {\n",
       "  padding-top: 6px;\n",
       "  padding-bottom: 6px;\n",
       "  margin-bottom: 4px;\n",
       "  border-bottom: solid 1px var(--xr-border-color);\n",
       "}\n",
       "\n",
       ".xr-header > div,\n",
       ".xr-header > ul {\n",
       "  display: inline;\n",
       "  margin-top: 0;\n",
       "  margin-bottom: 0;\n",
       "}\n",
       "\n",
       ".xr-obj-type,\n",
       ".xr-array-name {\n",
       "  margin-left: 2px;\n",
       "  margin-right: 10px;\n",
       "}\n",
       "\n",
       ".xr-obj-type {\n",
       "  color: var(--xr-font-color2);\n",
       "}\n",
       "\n",
       ".xr-sections {\n",
       "  padding-left: 0 !important;\n",
       "  display: grid;\n",
       "  grid-template-columns: 150px auto auto 1fr 20px 20px;\n",
       "}\n",
       "\n",
       ".xr-section-item {\n",
       "  display: contents;\n",
       "}\n",
       "\n",
       ".xr-section-item input {\n",
       "  display: none;\n",
       "}\n",
       "\n",
       ".xr-section-item input + label {\n",
       "  color: var(--xr-disabled-color);\n",
       "}\n",
       "\n",
       ".xr-section-item input:enabled + label {\n",
       "  cursor: pointer;\n",
       "  color: var(--xr-font-color2);\n",
       "}\n",
       "\n",
       ".xr-section-item input:enabled + label:hover {\n",
       "  color: var(--xr-font-color0);\n",
       "}\n",
       "\n",
       ".xr-section-summary {\n",
       "  grid-column: 1;\n",
       "  color: var(--xr-font-color2);\n",
       "  font-weight: 500;\n",
       "}\n",
       "\n",
       ".xr-section-summary > span {\n",
       "  display: inline-block;\n",
       "  padding-left: 0.5em;\n",
       "}\n",
       "\n",
       ".xr-section-summary-in:disabled + label {\n",
       "  color: var(--xr-font-color2);\n",
       "}\n",
       "\n",
       ".xr-section-summary-in + label:before {\n",
       "  display: inline-block;\n",
       "  content: '►';\n",
       "  font-size: 11px;\n",
       "  width: 15px;\n",
       "  text-align: center;\n",
       "}\n",
       "\n",
       ".xr-section-summary-in:disabled + label:before {\n",
       "  color: var(--xr-disabled-color);\n",
       "}\n",
       "\n",
       ".xr-section-summary-in:checked + label:before {\n",
       "  content: '▼';\n",
       "}\n",
       "\n",
       ".xr-section-summary-in:checked + label > span {\n",
       "  display: none;\n",
       "}\n",
       "\n",
       ".xr-section-summary,\n",
       ".xr-section-inline-details {\n",
       "  padding-top: 4px;\n",
       "  padding-bottom: 4px;\n",
       "}\n",
       "\n",
       ".xr-section-inline-details {\n",
       "  grid-column: 2 / -1;\n",
       "}\n",
       "\n",
       ".xr-section-details {\n",
       "  display: none;\n",
       "  grid-column: 1 / -1;\n",
       "  margin-bottom: 5px;\n",
       "}\n",
       "\n",
       ".xr-section-summary-in:checked ~ .xr-section-details {\n",
       "  display: contents;\n",
       "}\n",
       "\n",
       ".xr-array-wrap {\n",
       "  grid-column: 1 / -1;\n",
       "  display: grid;\n",
       "  grid-template-columns: 20px auto;\n",
       "}\n",
       "\n",
       ".xr-array-wrap > label {\n",
       "  grid-column: 1;\n",
       "  vertical-align: top;\n",
       "}\n",
       "\n",
       ".xr-preview {\n",
       "  color: var(--xr-font-color3);\n",
       "}\n",
       "\n",
       ".xr-array-preview,\n",
       ".xr-array-data {\n",
       "  padding: 0 5px !important;\n",
       "  grid-column: 2;\n",
       "}\n",
       "\n",
       ".xr-array-data,\n",
       ".xr-array-in:checked ~ .xr-array-preview {\n",
       "  display: none;\n",
       "}\n",
       "\n",
       ".xr-array-in:checked ~ .xr-array-data,\n",
       ".xr-array-preview {\n",
       "  display: inline-block;\n",
       "}\n",
       "\n",
       ".xr-dim-list {\n",
       "  display: inline-block !important;\n",
       "  list-style: none;\n",
       "  padding: 0 !important;\n",
       "  margin: 0;\n",
       "}\n",
       "\n",
       ".xr-dim-list li {\n",
       "  display: inline-block;\n",
       "  padding: 0;\n",
       "  margin: 0;\n",
       "}\n",
       "\n",
       ".xr-dim-list:before {\n",
       "  content: '(';\n",
       "}\n",
       "\n",
       ".xr-dim-list:after {\n",
       "  content: ')';\n",
       "}\n",
       "\n",
       ".xr-dim-list li:not(:last-child):after {\n",
       "  content: ',';\n",
       "  padding-right: 5px;\n",
       "}\n",
       "\n",
       ".xr-has-index {\n",
       "  font-weight: bold;\n",
       "}\n",
       "\n",
       ".xr-var-list,\n",
       ".xr-var-item {\n",
       "  display: contents;\n",
       "}\n",
       "\n",
       ".xr-var-item > div,\n",
       ".xr-var-item label,\n",
       ".xr-var-item > .xr-var-name span {\n",
       "  background-color: var(--xr-background-color-row-even);\n",
       "  margin-bottom: 0;\n",
       "}\n",
       "\n",
       ".xr-var-item > .xr-var-name:hover span {\n",
       "  padding-right: 5px;\n",
       "}\n",
       "\n",
       ".xr-var-list > li:nth-child(odd) > div,\n",
       ".xr-var-list > li:nth-child(odd) > label,\n",
       ".xr-var-list > li:nth-child(odd) > .xr-var-name span {\n",
       "  background-color: var(--xr-background-color-row-odd);\n",
       "}\n",
       "\n",
       ".xr-var-name {\n",
       "  grid-column: 1;\n",
       "}\n",
       "\n",
       ".xr-var-dims {\n",
       "  grid-column: 2;\n",
       "}\n",
       "\n",
       ".xr-var-dtype {\n",
       "  grid-column: 3;\n",
       "  text-align: right;\n",
       "  color: var(--xr-font-color2);\n",
       "}\n",
       "\n",
       ".xr-var-preview {\n",
       "  grid-column: 4;\n",
       "}\n",
       "\n",
       ".xr-var-name,\n",
       ".xr-var-dims,\n",
       ".xr-var-dtype,\n",
       ".xr-preview,\n",
       ".xr-attrs dt {\n",
       "  white-space: nowrap;\n",
       "  overflow: hidden;\n",
       "  text-overflow: ellipsis;\n",
       "  padding-right: 10px;\n",
       "}\n",
       "\n",
       ".xr-var-name:hover,\n",
       ".xr-var-dims:hover,\n",
       ".xr-var-dtype:hover,\n",
       ".xr-attrs dt:hover {\n",
       "  overflow: visible;\n",
       "  width: auto;\n",
       "  z-index: 1;\n",
       "}\n",
       "\n",
       ".xr-var-attrs,\n",
       ".xr-var-data {\n",
       "  display: none;\n",
       "  background-color: var(--xr-background-color) !important;\n",
       "  padding-bottom: 5px !important;\n",
       "}\n",
       "\n",
       ".xr-var-attrs-in:checked ~ .xr-var-attrs,\n",
       ".xr-var-data-in:checked ~ .xr-var-data {\n",
       "  display: block;\n",
       "}\n",
       "\n",
       ".xr-var-data > table {\n",
       "  float: right;\n",
       "}\n",
       "\n",
       ".xr-var-name span,\n",
       ".xr-var-data,\n",
       ".xr-attrs {\n",
       "  padding-left: 25px !important;\n",
       "}\n",
       "\n",
       ".xr-attrs,\n",
       ".xr-var-attrs,\n",
       ".xr-var-data {\n",
       "  grid-column: 1 / -1;\n",
       "}\n",
       "\n",
       "dl.xr-attrs {\n",
       "  padding: 0;\n",
       "  margin: 0;\n",
       "  display: grid;\n",
       "  grid-template-columns: 125px auto;\n",
       "}\n",
       "\n",
       ".xr-attrs dt,\n",
       ".xr-attrs dd {\n",
       "  padding: 0;\n",
       "  margin: 0;\n",
       "  float: left;\n",
       "  padding-right: 10px;\n",
       "  width: auto;\n",
       "}\n",
       "\n",
       ".xr-attrs dt {\n",
       "  font-weight: normal;\n",
       "  grid-column: 1;\n",
       "}\n",
       "\n",
       ".xr-attrs dt:hover span {\n",
       "  display: inline-block;\n",
       "  background: var(--xr-background-color);\n",
       "  padding-right: 10px;\n",
       "}\n",
       "\n",
       ".xr-attrs dd {\n",
       "  grid-column: 2;\n",
       "  white-space: pre-wrap;\n",
       "  word-break: break-all;\n",
       "}\n",
       "\n",
       ".xr-icon-database,\n",
       ".xr-icon-file-text2 {\n",
       "  display: inline-block;\n",
       "  vertical-align: middle;\n",
       "  width: 1em;\n",
       "  height: 1.5em !important;\n",
       "  stroke-width: 0;\n",
       "  stroke: currentColor;\n",
       "  fill: currentColor;\n",
       "}\n",
       "</style><pre class='xr-text-repr-fallback'>&lt;xarray.Dataset&gt;\n",
       "Dimensions:  (time: 2479, lat: 161, lon: 102)\n",
       "Coordinates:\n",
       "  * time     (time) datetime64[ns] 2015-01-01T23:50:00 ... 2021-10-14T23:50:00\n",
       "  * lat      (lat) float64 48.86 48.87 48.88 48.89 ... 50.19 50.19 50.2 50.21\n",
       "  * lon      (lon) float64 7.61 7.622 7.634 7.647 ... 8.814 8.826 8.838 8.851\n",
       "Data variables:\n",
       "    SF       (time, lat, lon) float64 ...\n",
       "Attributes:\n",
       "    radarid:         10000\n",
       "    radolanversion:  2.13.1\n",
       "    radarlocations:  [&#x27;boo&#x27;, &#x27;ros&#x27;, &#x27;emd&#x27;, &#x27;hnr&#x27;, &#x27;umd&#x27;, &#x27;pro&#x27;, &#x27;ess&#x27;, &#x27;fld&#x27;,...\n",
       "    radardays:       [&#x27;asd 24&#x27;, &#x27;boo 24&#x27;, &#x27;eis 24&#x27;, &#x27;emd 24&#x27;, &#x27;ess 24&#x27;, &#x27;fbg ...</pre><div class='xr-wrap' hidden><div class='xr-header'><div class='xr-obj-type'>xarray.Dataset</div></div><ul class='xr-sections'><li class='xr-section-item'><input id='section-bfa87208-7f4c-48d3-a64b-47646c3a9f5d' class='xr-section-summary-in' type='checkbox' disabled ><label for='section-bfa87208-7f4c-48d3-a64b-47646c3a9f5d' class='xr-section-summary'  title='Expand/collapse section'>Dimensions:</label><div class='xr-section-inline-details'><ul class='xr-dim-list'><li><span class='xr-has-index'>time</span>: 2479</li><li><span class='xr-has-index'>lat</span>: 161</li><li><span class='xr-has-index'>lon</span>: 102</li></ul></div><div class='xr-section-details'></div></li><li class='xr-section-item'><input id='section-1cd63680-bdaf-4b34-aee1-3755a47317e3' class='xr-section-summary-in' type='checkbox'  checked><label for='section-1cd63680-bdaf-4b34-aee1-3755a47317e3' class='xr-section-summary' >Coordinates: <span>(3)</span></label><div class='xr-section-inline-details'></div><div class='xr-section-details'><ul class='xr-var-list'><li class='xr-var-item'><div class='xr-var-name'><span class='xr-has-index'>time</span></div><div class='xr-var-dims'>(time)</div><div class='xr-var-dtype'>datetime64[ns]</div><div class='xr-var-preview xr-preview'>2015-01-01T23:50:00 ... 2021-10-...</div><input id='attrs-e5dc4d9b-ec67-4f46-bc72-d2071677c9c4' class='xr-var-attrs-in' type='checkbox' disabled><label for='attrs-e5dc4d9b-ec67-4f46-bc72-d2071677c9c4' title='Show/Hide attributes'><svg class='icon xr-icon-file-text2'><use xlink:href='#icon-file-text2'></use></svg></label><input id='data-7def8559-cb62-4c7d-9be0-cf569d02b28d' class='xr-var-data-in' type='checkbox'><label for='data-7def8559-cb62-4c7d-9be0-cf569d02b28d' title='Show/Hide data repr'><svg class='icon xr-icon-database'><use xlink:href='#icon-database'></use></svg></label><div class='xr-var-attrs'><dl class='xr-attrs'></dl></div><div class='xr-var-data'><pre>array([&#x27;2015-01-01T23:50:00.000000000&#x27;, &#x27;2015-01-02T23:50:00.000000000&#x27;,\n",
       "       &#x27;2015-01-03T23:50:00.000000000&#x27;, ..., &#x27;2021-10-12T23:50:00.000000000&#x27;,\n",
       "       &#x27;2021-10-13T23:50:00.000000000&#x27;, &#x27;2021-10-14T23:50:00.000000000&#x27;],\n",
       "      dtype=&#x27;datetime64[ns]&#x27;)</pre></div></li><li class='xr-var-item'><div class='xr-var-name'><span class='xr-has-index'>lat</span></div><div class='xr-var-dims'>(lat)</div><div class='xr-var-dtype'>float64</div><div class='xr-var-preview xr-preview'>48.86 48.87 48.88 ... 50.2 50.21</div><input id='attrs-45f177f7-505f-4789-b52d-7276e8db99a2' class='xr-var-attrs-in' type='checkbox' disabled><label for='attrs-45f177f7-505f-4789-b52d-7276e8db99a2' title='Show/Hide attributes'><svg class='icon xr-icon-file-text2'><use xlink:href='#icon-file-text2'></use></svg></label><input id='data-939e6a31-80de-4780-8c55-9b9a20b9606d' class='xr-var-data-in' type='checkbox'><label for='data-939e6a31-80de-4780-8c55-9b9a20b9606d' title='Show/Hide data repr'><svg class='icon xr-icon-database'><use xlink:href='#icon-database'></use></svg></label><div class='xr-var-attrs'><dl class='xr-attrs'></dl></div><div class='xr-var-data'><pre>array([48.862804, 48.871196, 48.879588, 48.887982, 48.896375, 48.904769,\n",
       "       48.913164, 48.921558, 48.929954, 48.938349, 48.946746, 48.955142,\n",
       "       48.963539, 48.971937, 48.980335, 48.988733, 48.997132, 49.005531,\n",
       "       49.013931, 49.022331, 49.030731, 49.039132, 49.047533, 49.055935,\n",
       "       49.064337, 49.07274 , 49.081143, 49.089547, 49.097951, 49.106355,\n",
       "       49.11476 , 49.123165, 49.131571, 49.139977, 49.148384, 49.156791,\n",
       "       49.165198, 49.173606, 49.182014, 49.190423, 49.198832, 49.207242,\n",
       "       49.215652, 49.224062, 49.232473, 49.240885, 49.249296, 49.257708,\n",
       "       49.266121, 49.274534, 49.282948, 49.291362, 49.299776, 49.308191,\n",
       "       49.316606, 49.325021, 49.333438, 49.341854, 49.350271, 49.358688,\n",
       "       49.367106, 49.375524, 49.383943, 49.392362, 49.400782, 49.409202,\n",
       "       49.417622, 49.426043, 49.434464, 49.442886, 49.451308, 49.45973 ,\n",
       "       49.468153, 49.476577, 49.485   , 49.493425, 49.501849, 49.510274,\n",
       "       49.5187  , 49.527126, 49.535552, 49.543979, 49.552406, 49.560834,\n",
       "       49.569262, 49.577691, 49.58612 , 49.594549, 49.602979, 49.611409,\n",
       "       49.61984 , 49.628271, 49.636703, 49.645134, 49.653567, 49.662   ,\n",
       "       49.670433, 49.678867, 49.687301, 49.695735, 49.70417 , 49.712606,\n",
       "       49.721041, 49.729478, 49.737914, 49.746351, 49.754789, 49.763227,\n",
       "       49.771665, 49.780104, 49.788543, 49.796983, 49.805423, 49.813864,\n",
       "       49.822304, 49.830746, 49.839188, 49.84763 , 49.856073, 49.864516,\n",
       "       49.872959, 49.881403, 49.889847, 49.898292, 49.906737, 49.915183,\n",
       "       49.923629, 49.932075, 49.940522, 49.94897 , 49.957417, 49.965866,\n",
       "       49.974314, 49.982763, 49.991213, 49.999663, 50.008113, 50.016564,\n",
       "       50.025015, 50.033466, 50.041918, 50.050371, 50.058824, 50.067277,\n",
       "       50.075731, 50.084185, 50.092639, 50.101094, 50.10955 , 50.118005,\n",
       "       50.126462, 50.134918, 50.143375, 50.151833, 50.160291, 50.168749,\n",
       "       50.177208, 50.185667, 50.194127, 50.202587, 50.211047])</pre></div></li><li class='xr-var-item'><div class='xr-var-name'><span class='xr-has-index'>lon</span></div><div class='xr-var-dims'>(lon)</div><div class='xr-var-dtype'>float64</div><div class='xr-var-preview xr-preview'>7.61 7.622 7.634 ... 8.838 8.851</div><input id='attrs-cee3dec2-8a2d-45e1-a3c8-71475fd25e07' class='xr-var-attrs-in' type='checkbox' disabled><label for='attrs-cee3dec2-8a2d-45e1-a3c8-71475fd25e07' title='Show/Hide attributes'><svg class='icon xr-icon-file-text2'><use xlink:href='#icon-file-text2'></use></svg></label><input id='data-5aaea314-aca5-478b-949c-3badc9688f75' class='xr-var-data-in' type='checkbox'><label for='data-5aaea314-aca5-478b-949c-3badc9688f75' title='Show/Hide data repr'><svg class='icon xr-icon-database'><use xlink:href='#icon-database'></use></svg></label><div class='xr-var-attrs'><dl class='xr-attrs'></dl></div><div class='xr-var-data'><pre>array([7.609735, 7.622012, 7.63429 , 7.646568, 7.658846, 7.671124, 7.683403,\n",
       "       7.695682, 7.707961, 7.72024 , 7.73252 , 7.744799, 7.757079, 7.769359,\n",
       "       7.78164 , 7.79392 , 7.806201, 7.818482, 7.830763, 7.843044, 7.855325,\n",
       "       7.867607, 7.879889, 7.892171, 7.904453, 7.916736, 7.929018, 7.941301,\n",
       "       7.953584, 7.965868, 7.978151, 7.990435, 8.002718, 8.015002, 8.027286,\n",
       "       8.039571, 8.051855, 8.06414 , 8.076425, 8.08871 , 8.100995, 8.11328 ,\n",
       "       8.125566, 8.137852, 8.150138, 8.162424, 8.17471 , 8.186996, 8.199283,\n",
       "       8.21157 , 8.223857, 8.236144, 8.248431, 8.260718, 8.273006, 8.285294,\n",
       "       8.297581, 8.30987 , 8.322158, 8.334446, 8.346735, 8.359023, 8.371312,\n",
       "       8.383601, 8.39589 , 8.408179, 8.420469, 8.432758, 8.445048, 8.457338,\n",
       "       8.469628, 8.481918, 8.494208, 8.506498, 8.518789, 8.53108 , 8.54337 ,\n",
       "       8.555661, 8.567952, 8.580244, 8.592535, 8.604826, 8.617118, 8.62941 ,\n",
       "       8.641701, 8.653993, 8.666286, 8.678578, 8.69087 , 8.703163, 8.715455,\n",
       "       8.727748, 8.740041, 8.752333, 8.764627, 8.77692 , 8.789213, 8.801506,\n",
       "       8.8138  , 8.826093, 8.838387, 8.850681])</pre></div></li></ul></div></li><li class='xr-section-item'><input id='section-11dd3349-4820-4fb2-9615-48f6af9a3473' class='xr-section-summary-in' type='checkbox'  checked><label for='section-11dd3349-4820-4fb2-9615-48f6af9a3473' class='xr-section-summary' >Data variables: <span>(1)</span></label><div class='xr-section-inline-details'></div><div class='xr-section-details'><ul class='xr-var-list'><li class='xr-var-item'><div class='xr-var-name'><span>SF</span></div><div class='xr-var-dims'>(time, lat, lon)</div><div class='xr-var-dtype'>float64</div><div class='xr-var-preview xr-preview'>...</div><input id='attrs-d2f62152-bf28-40b4-bf9f-6be7df4aaf63' class='xr-var-attrs-in' type='checkbox' disabled><label for='attrs-d2f62152-bf28-40b4-bf9f-6be7df4aaf63' title='Show/Hide attributes'><svg class='icon xr-icon-file-text2'><use xlink:href='#icon-file-text2'></use></svg></label><input id='data-fe3c63aa-a923-43de-999a-eeb90090864e' class='xr-var-data-in' type='checkbox'><label for='data-fe3c63aa-a923-43de-999a-eeb90090864e' title='Show/Hide data repr'><svg class='icon xr-icon-database'><use xlink:href='#icon-database'></use></svg></label><div class='xr-var-attrs'><dl class='xr-attrs'></dl></div><div class='xr-var-data'><pre>[40710138 values with dtype=float64]</pre></div></li></ul></div></li><li class='xr-section-item'><input id='section-2047cf9d-a28d-431e-a362-1474c65ebe74' class='xr-section-summary-in' type='checkbox'  checked><label for='section-2047cf9d-a28d-431e-a362-1474c65ebe74' class='xr-section-summary' >Attributes: <span>(4)</span></label><div class='xr-section-inline-details'></div><div class='xr-section-details'><dl class='xr-attrs'><dt><span>radarid :</span></dt><dd>10000</dd><dt><span>radolanversion :</span></dt><dd>2.13.1</dd><dt><span>radarlocations :</span></dt><dd>[&#x27;boo&#x27;, &#x27;ros&#x27;, &#x27;emd&#x27;, &#x27;hnr&#x27;, &#x27;umd&#x27;, &#x27;pro&#x27;, &#x27;ess&#x27;, &#x27;fld&#x27;, &#x27;asd&#x27;, &#x27;neu&#x27;, &#x27;nhb&#x27;, &#x27;oft&#x27;, &#x27;eis&#x27;, &#x27;tur&#x27;, &#x27;isn&#x27;, &#x27;fbg&#x27;, &#x27;mem&#x27;]</dd><dt><span>radardays :</span></dt><dd>[&#x27;asd 24&#x27;, &#x27;boo 24&#x27;, &#x27;eis 24&#x27;, &#x27;emd 24&#x27;, &#x27;ess 24&#x27;, &#x27;fbg 24&#x27;, &#x27;fld 24&#x27;, &#x27;hnr 24&#x27;, &#x27;isn 24&#x27;, &#x27;mem 24&#x27;, &#x27;neu 24&#x27;, &#x27;nhb 24&#x27;, &#x27;oft 24&#x27;, &#x27;pro 24&#x27;, &#x27;ros 24&#x27;, &#x27;tur 24&#x27;, &#x27;umd 24&#x27;]</dd></dl></div></li></ul></div></div>"
      ],
      "text/plain": [
       "<xarray.Dataset>\n",
       "Dimensions:  (time: 2479, lat: 161, lon: 102)\n",
       "Coordinates:\n",
       "  * time     (time) datetime64[ns] 2015-01-01T23:50:00 ... 2021-10-14T23:50:00\n",
       "  * lat      (lat) float64 48.86 48.87 48.88 48.89 ... 50.19 50.19 50.2 50.21\n",
       "  * lon      (lon) float64 7.61 7.622 7.634 7.647 ... 8.814 8.826 8.838 8.851\n",
       "Data variables:\n",
       "    SF       (time, lat, lon) float64 ...\n",
       "Attributes:\n",
       "    radarid:         10000\n",
       "    radolanversion:  2.13.1\n",
       "    radarlocations:  ['boo', 'ros', 'emd', 'hnr', 'umd', 'pro', 'ess', 'fld',...\n",
       "    radardays:       ['asd 24', 'boo 24', 'eis 24', 'emd 24', 'ess 24', 'fbg ..."
      ]
     },
     "execution_count": 8,
     "metadata": {},
     "output_type": "execute_result"
    }
   ],
   "source": [
    "import xarray as xr\n",
    "radolan = xr.open_dataset(r'C:\\Users\\USER\\Desktop\\Master_Irrigation\\03_GIS\\datasets\\RADOLAN_1km.nc')\n",
    "radolan"
   ]
  },
  {
   "cell_type": "code",
   "execution_count": 11,
   "metadata": {
    "ExecuteTime": {
     "end_time": "2021-10-30T20:41:58.813329Z",
     "start_time": "2021-10-30T20:41:58.441141Z"
    }
   },
   "outputs": [
    {
     "data": {
      "text/plain": [
       "<matplotlib.collections.QuadMesh at 0x2748efb9f70>"
      ]
     },
     "execution_count": 11,
     "metadata": {},
     "output_type": "execute_result"
    },
    {
     "data": {
      "image/png": "[encoded data removed]",
      "text/plain": [
       "<Figure size 432x288 with 2 Axes>"
      ]
     },
     "metadata": {
      "needs_background": "light"
     },
     "output_type": "display_data"
    }
   ],
   "source": [
    "radolan.isel(time=1).SF.plot()"
   ]
  },
  {
   "cell_type": "code",
   "execution_count": null,
   "metadata": {
    "ExecuteTime": {
     "end_time": "2021-10-20T18:45:08.571635Z",
     "start_time": "2021-10-20T18:45:08.567635Z"
    }
   },
   "outputs": [],
   "source": [
    "def xr_var_stats(da):\n",
    "    \"\"\"\n",
    "    Arguments:\n",
    "    \"\"\"\n",
    "    \n",
    "    import xarray as xr\n",
    "    import numpy as np\n",
    "\n",
    "    #get unique values\n",
    "    unique_values = np.unique(da)\n",
    "    \n",
    "    #Print min,max, nan occurence, \n",
    "    print('min: %s' %unique_values.min(), 'max: %s' %unique_values.max())\n",
    "    if True in np.isnan(unique_values):\n",
    "        print('nan occurence:  True')\n",
    "    else:\n",
    "        print('nan occurence:  False')\n",
    "    \n",
    "    return print('stats finished')"
   ]
  },
  {
   "cell_type": "code",
   "execution_count": null,
   "metadata": {
    "ExecuteTime": {
     "end_time": "2021-10-20T18:16:08.515405Z",
     "start_time": "2021-10-20T18:16:08.279669Z"
    }
   },
   "outputs": [],
   "source": [
    "xr.plot.hist(radolan_SF_subset.SF.isel(time=1), bins=20, range=(0.1,40), edgecolor='black')"
   ]
  },
  {
   "cell_type": "code",
   "execution_count": null,
   "metadata": {
    "ExecuteTime": {
     "end_time": "2021-10-18T11:47:14.184108Z",
     "start_time": "2021-10-18T11:46:55.903884Z"
    }
   },
   "outputs": [],
   "source": [
    "export_values(latitude=49.85083645182146, longitude=8.463941352976518, ds=radolan_SF_subset, name='point_1_SF.csv')"
   ]
  },
  {
   "cell_type": "code",
   "execution_count": null,
   "metadata": {},
   "outputs": [],
   "source": [
    "#Visualisations with http://christopherbull.com.au/mkmov/ command line tool"
   ]
  },
  {
   "cell_type": "code",
   "execution_count": null,
   "metadata": {
    "ExecuteTime": {
     "end_time": "2021-10-20T18:48:03.365889Z",
     "start_time": "2021-10-20T18:48:01.245180Z"
    }
   },
   "outputs": [],
   "source": [
    "import hvplot.xarray"
   ]
  },
  {
   "cell_type": "code",
   "execution_count": null,
   "metadata": {
    "ExecuteTime": {
     "end_time": "2021-10-20T19:16:00.317446Z",
     "start_time": "2021-10-20T19:15:41.200638Z"
    }
   },
   "outputs": [],
   "source": [
    "radolan_SF_subset = radolan_SF_subset.load()"
   ]
  },
  {
   "cell_type": "code",
   "execution_count": null,
   "metadata": {
    "ExecuteTime": {
     "end_time": "2021-10-20T19:16:00.365259Z",
     "start_time": "2021-10-20T19:16:00.337406Z"
    }
   },
   "outputs": [],
   "source": [
    "radolan_SF_subset"
   ]
  },
  {
   "cell_type": "code",
   "execution_count": null,
   "metadata": {
    "ExecuteTime": {
     "end_time": "2021-10-20T19:27:27.129898Z",
     "start_time": "2021-10-20T19:27:02.600454Z"
    }
   },
   "outputs": [],
   "source": [
    "hvplot.save(radolan_SF_subset.isel(time=slice(0,10)).hvplot.quadmesh(crs='WGS84',frame_height=540, projection='PlateCarree',project=True, geo=True, rasterize=True, dynamic=False), \"test2.html\")"
   ]
  }
 ],
 "metadata": {
  "kernelspec": {
   "display_name": "Python [conda env:irrigation_detection]",
   "language": "python",
   "name": "conda-env-irrigation_detection-py"
  },
  "language_info": {
   "codemirror_mode": {
    "name": "ipython",
    "version": 3
   },
   "file_extension": ".py",
   "mimetype": "text/x-python",
   "name": "python",
   "nbconvert_exporter": "python",
   "pygments_lexer": "ipython3",
   "version": "3.9.7"
  },
  "toc": {
   "base_numbering": 1,
   "nav_menu": {},
   "number_sections": true,
   "sideBar": true,
   "skip_h1_title": false,
   "title_cell": "Table of Contents",
   "title_sidebar": "Contents",
   "toc_cell": false,
   "toc_position": {},
   "toc_section_display": true,
   "toc_window_display": false
  },
  "varInspector": {
   "cols": {
    "lenName": 16,
    "lenType": 16,
    "lenVar": 40
   },
   "kernels_config": {
    "python": {
     "delete_cmd_postfix": "",
     "delete_cmd_prefix": "del ",
     "library": "var_list.py",
     "varRefreshCmd": "print(var_dic_list())"
    },
    "r": {
     "delete_cmd_postfix": ") ",
     "delete_cmd_prefix": "rm(",
     "library": "var_list.r",
     "varRefreshCmd": "cat(var_dic_list()) "
    }
   },
   "types_to_exclude": [
    "module",
    "function",
    "builtin_function_or_method",
    "instance",
    "_Feature"
   ],
   "window_display": false
  }
 },
 "nbformat": 4,
 "nbformat_minor": 2
}
